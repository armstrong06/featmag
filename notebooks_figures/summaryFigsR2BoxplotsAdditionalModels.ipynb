{
 "cells": [
  {
   "cell_type": "code",
   "execution_count": 1,
   "metadata": {},
   "outputs": [],
   "source": [
    "import os\n",
    "import pandas as pd\n",
    "import numpy as np\n",
    "import matplotlib.pyplot as plt\n",
    "from matplotlib.ticker import MultipleLocator\n",
    "from matplotlib.lines import Line2D\n",
    "from sklearn.metrics import r2_score\n",
    "import os\n",
    "import sys\n",
    "module_path = os.path.abspath(os.path.join('..'))\n",
    "if module_path not in sys.path:\n",
    "    sys.path.append(module_path)\n",
    "\n",
    "from src.utils import combine_prediction_files, compute_network_avg_prediction\n",
    "from src import plotting #import r2_boxplots"
   ]
  },
  {
   "cell_type": "markdown",
   "metadata": {},
   "source": [
    "# Load splits"
   ]
  },
  {
   "cell_type": "code",
   "execution_count": 2,
   "metadata": {},
   "outputs": [],
   "source": [
    "magdir = '/uufs/chpc.utah.edu/common/home/koper-group3/alysha/magnitudes'\n",
    "p_test_df = pd.read_csv(os.path.join(magdir, 'feature_splits', 'p.test.csv'))\n",
    "p_2023_df = pd.read_csv(os.path.join(magdir, 'feature_splits','p.20230101.csv'))\n",
    "s_test_df = pd.read_csv(os.path.join(magdir, 'feature_splits','s.test.csv'))\n",
    "s_2023_df = pd.read_csv(os.path.join(magdir, 'feature_splits','s.20230101.csv'))\n",
    "p_train_df = pd.read_csv(os.path.join(magdir, 'feature_splits', 'p.train.csv'))\n",
    "s_train_df = pd.read_csv(os.path.join(magdir, 'feature_splits','s.train.csv'))"
   ]
  },
  {
   "cell_type": "code",
   "execution_count": 3,
   "metadata": {},
   "outputs": [],
   "source": [
    "p_test_evids = p_test_df['Evid'].unique()\n",
    "p_2023_evids = p_2023_df['Evid'].unique()\n",
    "s_test_evids = s_test_df['Evid'].unique()\n",
    "s_2023_evids = s_2023_df['Evid'].unique()\n",
    "p_train_evids = p_train_df['Evid'].unique()\n",
    "s_train_evids = s_train_df['Evid'].unique()"
   ]
  },
  {
   "cell_type": "markdown",
   "metadata": {},
   "source": [
    "# Load YP21 catalogs"
   ]
  },
  {
   "cell_type": "code",
   "execution_count": 4,
   "metadata": {},
   "outputs": [],
   "source": [
    "ypml_amps = pd.read_csv(f'../data/catalogs/yellowstone.amps.ypml-v5.2024.csv')"
   ]
  },
  {
   "cell_type": "markdown",
   "metadata": {},
   "source": [
    "# Load predictions and results for SVMs"
   ]
  },
  {
   "cell_type": "code",
   "execution_count": 5,
   "metadata": {},
   "outputs": [],
   "source": [
    "lowcorrfeatdir = \"lowCorrFeatures_constHP\"\n",
    "selectedfeatdir = \"selected_features_constHP\"\n",
    "summfilename = 'all.stat.results.csv'\n",
    "p_resultsdir = os.path.join(magdir, 'p_models')\n",
    "s_resultsdir = os.path.join(magdir, 's_models')"
   ]
  },
  {
   "cell_type": "code",
   "execution_count": 6,
   "metadata": {},
   "outputs": [],
   "source": [
    "p_sub_results = pd.read_csv(os.path.join(p_resultsdir, selectedfeatdir, summfilename))\n",
    "s_sub_results = pd.read_csv(os.path.join(s_resultsdir, selectedfeatdir, summfilename))\n",
    "\n",
    "p_lowc_results = pd.read_csv(os.path.join(p_resultsdir, lowcorrfeatdir, summfilename))\n",
    "s_lowc_results = pd.read_csv(os.path.join(s_resultsdir, lowcorrfeatdir, summfilename))"
   ]
  },
  {
   "cell_type": "code",
   "execution_count": 7,
   "metadata": {},
   "outputs": [
    {
     "name": "stdout",
     "output_type": "stream",
     "text": [
      "/uufs/chpc.utah.edu/common/home/koper-group3/alysha/magnitudes/p_models/selected_features_constHP/B207.P.preds.holdout.csv does not exist, skipping...\n",
      "/uufs/chpc.utah.edu/common/home/koper-group3/alysha/magnitudes/p_models/selected_features_constHP/H17A.P.preds.holdout.csv does not exist, skipping...\n",
      "/uufs/chpc.utah.edu/common/home/koper-group3/alysha/magnitudes/p_models/selected_features_constHP/B208.P.preds.holdout.csv does not exist, skipping...\n",
      "/uufs/chpc.utah.edu/common/home/koper-group3/alysha/magnitudes/p_models/selected_features_constHP/B944.P.preds.holdout.csv does not exist, skipping...\n",
      "/uufs/chpc.utah.edu/common/home/koper-group3/alysha/magnitudes/p_models/selected_features_constHP/B206.P.preds.holdout.csv does not exist, skipping...\n",
      "/uufs/chpc.utah.edu/common/home/koper-group3/alysha/magnitudes/p_models/selected_features_constHP/B950.P.preds.holdout.csv does not exist, skipping...\n"
     ]
    }
   ],
   "source": [
    "p_stats = p_test_df.station.unique()\n",
    "p_sub_test_preds = combine_prediction_files(p_stats,\n",
    "                                            os.path.join(p_resultsdir, selectedfeatdir),\n",
    "                                            'P',\n",
    "                                            'test')\n",
    "\n",
    "p_sub_2023_preds = combine_prediction_files(p_stats,\n",
    "                                            os.path.join(p_resultsdir, selectedfeatdir),\n",
    "                                            'P',\n",
    "                                            'holdout')"
   ]
  },
  {
   "cell_type": "code",
   "execution_count": 8,
   "metadata": {},
   "outputs": [
    {
     "name": "stdout",
     "output_type": "stream",
     "text": [
      "/uufs/chpc.utah.edu/common/home/koper-group3/alysha/magnitudes/p_models/lowCorrFeatures_constHP/B207.P.preds.holdout.csv does not exist, skipping...\n",
      "/uufs/chpc.utah.edu/common/home/koper-group3/alysha/magnitudes/p_models/lowCorrFeatures_constHP/H17A.P.preds.holdout.csv does not exist, skipping...\n",
      "/uufs/chpc.utah.edu/common/home/koper-group3/alysha/magnitudes/p_models/lowCorrFeatures_constHP/B208.P.preds.holdout.csv does not exist, skipping...\n",
      "/uufs/chpc.utah.edu/common/home/koper-group3/alysha/magnitudes/p_models/lowCorrFeatures_constHP/B944.P.preds.holdout.csv does not exist, skipping...\n",
      "/uufs/chpc.utah.edu/common/home/koper-group3/alysha/magnitudes/p_models/lowCorrFeatures_constHP/B206.P.preds.holdout.csv does not exist, skipping...\n",
      "/uufs/chpc.utah.edu/common/home/koper-group3/alysha/magnitudes/p_models/lowCorrFeatures_constHP/B950.P.preds.holdout.csv does not exist, skipping...\n"
     ]
    }
   ],
   "source": [
    "p_lowc_test_preds = combine_prediction_files(p_stats,\n",
    "                                            os.path.join(p_resultsdir, lowcorrfeatdir),\n",
    "                                            'P',\n",
    "                                            'test')\n",
    "\n",
    "p_lowc_2023_preds = combine_prediction_files(p_stats,\n",
    "                                            os.path.join(p_resultsdir, lowcorrfeatdir),\n",
    "                                            'P',\n",
    "                                            'holdout')"
   ]
  },
  {
   "cell_type": "code",
   "execution_count": 9,
   "metadata": {},
   "outputs": [
    {
     "name": "stdout",
     "output_type": "stream",
     "text": [
      "/uufs/chpc.utah.edu/common/home/koper-group3/alysha/magnitudes/s_models/selected_features_constHP/B207.S.preds.holdout.csv does not exist, skipping...\n",
      "/uufs/chpc.utah.edu/common/home/koper-group3/alysha/magnitudes/s_models/selected_features_constHP/B206.S.preds.holdout.csv does not exist, skipping...\n",
      "/uufs/chpc.utah.edu/common/home/koper-group3/alysha/magnitudes/s_models/selected_features_constHP/B950.S.preds.holdout.csv does not exist, skipping...\n"
     ]
    }
   ],
   "source": [
    "s_stats = s_test_df.station.unique()\n",
    "s_sub_test_preds = combine_prediction_files(s_stats,\n",
    "                                            os.path.join(s_resultsdir, selectedfeatdir),\n",
    "                                            'S',\n",
    "                                            'test')\n",
    "\n",
    "s_sub_2023_preds = combine_prediction_files(s_stats,\n",
    "                                            os.path.join(s_resultsdir, selectedfeatdir),\n",
    "                                            'S',\n",
    "                                            'holdout')"
   ]
  },
  {
   "cell_type": "code",
   "execution_count": 10,
   "metadata": {},
   "outputs": [
    {
     "name": "stdout",
     "output_type": "stream",
     "text": [
      "/uufs/chpc.utah.edu/common/home/koper-group3/alysha/magnitudes/s_models/lowCorrFeatures_constHP/B207.S.preds.holdout.csv does not exist, skipping...\n",
      "/uufs/chpc.utah.edu/common/home/koper-group3/alysha/magnitudes/s_models/lowCorrFeatures_constHP/B206.S.preds.holdout.csv does not exist, skipping...\n",
      "/uufs/chpc.utah.edu/common/home/koper-group3/alysha/magnitudes/s_models/lowCorrFeatures_constHP/B950.S.preds.holdout.csv does not exist, skipping...\n"
     ]
    }
   ],
   "source": [
    "s_lowc_test_preds = combine_prediction_files(s_stats,\n",
    "                                            os.path.join(s_resultsdir, lowcorrfeatdir),\n",
    "                                            'S',\n",
    "                                            'test')\n",
    "\n",
    "s_lowc_2023_preds = combine_prediction_files(s_stats,\n",
    "                                            os.path.join(s_resultsdir, lowcorrfeatdir),\n",
    "                                            'S',\n",
    "                                            'holdout')"
   ]
  },
  {
   "cell_type": "markdown",
   "metadata": {},
   "source": [
    "# Compute network averages and their $R^2$ values for SVMs"
   ]
  },
  {
   "cell_type": "code",
   "execution_count": 11,
   "metadata": {},
   "outputs": [],
   "source": [
    "p_lowc_test_avg = compute_network_avg_prediction(p_lowc_test_preds)\n",
    "p_lowc_2023_avg = compute_network_avg_prediction(p_lowc_2023_preds)\n",
    "\n",
    "p_sub_test_avg = compute_network_avg_prediction(p_sub_test_preds)\n",
    "p_sub_2023_avg = compute_network_avg_prediction(p_sub_2023_preds)"
   ]
  },
  {
   "cell_type": "code",
   "execution_count": 12,
   "metadata": {},
   "outputs": [],
   "source": [
    "s_lowc_test_avg = compute_network_avg_prediction(s_lowc_test_preds)\n",
    "s_lowc_2023_avg = compute_network_avg_prediction(s_lowc_2023_preds)\n",
    "\n",
    "s_sub_test_avg = compute_network_avg_prediction(s_sub_test_preds)\n",
    "s_sub_2023_avg = compute_network_avg_prediction(s_sub_2023_preds)"
   ]
  },
  {
   "cell_type": "code",
   "execution_count": 13,
   "metadata": {},
   "outputs": [],
   "source": [
    "def get_r2(df):\n",
    "    return r2_score(df['magnitude'],\n",
    "                    df['predicted_magnitude'])"
   ]
  },
  {
   "cell_type": "code",
   "execution_count": 14,
   "metadata": {},
   "outputs": [],
   "source": [
    "p_lowc_test_avg_r2 = get_r2(p_lowc_test_avg)\n",
    "p_lowc_2023_avg_r2 = get_r2(p_lowc_2023_avg)\n",
    "\n",
    "p_sub_test_avg_r2 = get_r2(p_sub_test_avg)\n",
    "p_sub_2023_avg_r2 = get_r2(p_sub_2023_avg)"
   ]
  },
  {
   "cell_type": "code",
   "execution_count": 15,
   "metadata": {},
   "outputs": [],
   "source": [
    "s_lowc_test_avg_r2 = get_r2(s_lowc_test_avg)\n",
    "s_lowc_2023_avg_r2 = get_r2(s_lowc_2023_avg)\n",
    "\n",
    "s_sub_test_avg_r2 = get_r2(s_sub_test_avg)\n",
    "s_sub_2023_avg_r2 = get_r2(s_sub_2023_avg)"
   ]
  },
  {
   "cell_type": "markdown",
   "metadata": {},
   "source": [
    "# Load GBT results"
   ]
  },
  {
   "cell_type": "code",
   "execution_count": 16,
   "metadata": {},
   "outputs": [],
   "source": [
    "gbt_results_dir = 'gbt'\n",
    "p_gbt_results = pd.read_csv(os.path.join(magdir, gbt_results_dir, 'r2.summary.P.csv'))\n",
    "s_gbt_results = pd.read_csv(os.path.join(magdir, gbt_results_dir, 'r2.summary.S.csv'))"
   ]
  },
  {
   "cell_type": "code",
   "execution_count": 17,
   "metadata": {},
   "outputs": [],
   "source": [
    "# Get network avg info from gbt results\n",
    "p_gbt_test_avg_r2 = p_gbt_results[p_gbt_results.station == 'network']['test_r2']\n",
    "p_gbt_2023_avg_r2 = p_gbt_results[p_gbt_results.station == 'network']['holdout_r2']\n",
    "s_gbt_test_avg_r2 = s_gbt_results[s_gbt_results.station == 'network']['test_r2']\n",
    "s_gbt_2023_avg_r2 = s_gbt_results[s_gbt_results.station == 'network']['holdout_r2']"
   ]
  },
  {
   "cell_type": "code",
   "execution_count": 19,
   "metadata": {},
   "outputs": [
    {
     "name": "stdout",
     "output_type": "stream",
     "text": [
      "[0.88152426] [0.87168684]\n"
     ]
    }
   ],
   "source": [
    "print(p_gbt_test_avg_r2.values, p_gbt_2023_avg_r2.values)"
   ]
  },
  {
   "cell_type": "code",
   "execution_count": 20,
   "metadata": {},
   "outputs": [
    {
     "name": "stdout",
     "output_type": "stream",
     "text": [
      "[0.91747294] [0.92346326]\n"
     ]
    }
   ],
   "source": [
    "print(s_gbt_test_avg_r2.values, s_gbt_2023_avg_r2.values)"
   ]
  },
  {
   "cell_type": "code",
   "execution_count": 18,
   "metadata": {},
   "outputs": [],
   "source": [
    "# remove network from station results\n",
    "p_gbt_results = p_gbt_results[p_gbt_results.station != 'network']\n",
    "s_gbt_results = s_gbt_results[s_gbt_results.station != 'network']"
   ]
  },
  {
   "cell_type": "markdown",
   "metadata": {},
   "source": [
    "# $R^2$ summary plots"
   ]
  },
  {
   "cell_type": "code",
   "execution_count": 19,
   "metadata": {},
   "outputs": [],
   "source": [
    "plotting.set_default_fontsizes()"
   ]
  },
  {
   "cell_type": "code",
   "execution_count": 43,
   "metadata": {},
   "outputs": [],
   "source": [
    "boxplots_dict = {'sub_results':{'P':p_sub_results, 'S':s_sub_results},\n",
    "                'lowc_results':{'P':p_lowc_results, 'S':s_lowc_results},\n",
    "                'gbt_results':{'P':p_gbt_results, 'S':s_gbt_results},\n",
    "                    }\n",
    "scatter_dict = {\n",
    "            'sub_results':{'P':{'test_r2':p_sub_test_avg_r2, 'holdout_r2':p_sub_2023_avg_r2},\n",
    "                           'S':{'test_r2':s_sub_test_avg_r2, 'holdout_r2':s_sub_2023_avg_r2}},\n",
    "            'lowc_results':{'P':{'test_r2':p_lowc_test_avg_r2, 'holdout_r2':p_lowc_2023_avg_r2},\n",
    "                           'S':{'test_r2':s_lowc_test_avg_r2, 'holdout_r2':s_lowc_2023_avg_r2}},\n",
    "            'gbt_results':{'P':{'test_r2':p_gbt_test_avg_r2, 'holdout_r2':p_gbt_2023_avg_r2},\n",
    "                           'S':{'test_r2':s_gbt_test_avg_r2, 'holdout_r2':s_gbt_2023_avg_r2}}\n",
    "}\n",
    "label_dict = {'sub_results': 'SVM - 7 features',\n",
    "              'lowc_results':'SVM - Low corr. (11) features',\n",
    "              'gbt_results':'GBT - 45 features',\n",
    "              'scatter': 'Network Avg.'}"
   ]
  },
  {
   "cell_type": "code",
   "execution_count": 46,
   "metadata": {},
   "outputs": [
    {
     "data": {
      "image/png": "[encoded data removed]",
      "text/plain": [
       "<Figure size 640x480 with 2 Axes>"
      ]
     },
     "metadata": {},
     "output_type": "display_data"
    }
   ],
   "source": [
    "plotting.r2_boxplots(boxplots_dict, scatter_dict, label_dict, \n",
    "                     ylim=[0.47, 1.0],\n",
    "                     savefigname='../figures/summaryFigR2BoxPlotsAdditionalModels.png')"
   ]
  },
  {
   "cell_type": "markdown",
   "metadata": {},
   "source": [
    "Low corr r2 summary"
   ]
  },
  {
   "cell_type": "code",
   "execution_count": 36,
   "metadata": {},
   "outputs": [
    {
     "name": "stdout",
     "output_type": "stream",
     "text": [
      "0.258\n",
      "['YDC']\n"
     ]
    },
    {
     "data": {
      "text/html": [
       "<div>\n",
       "<style scoped>\n",
       "    .dataframe tbody tr th:only-of-type {\n",
       "        vertical-align: middle;\n",
       "    }\n",
       "\n",
       "    .dataframe tbody tr th {\n",
       "        vertical-align: top;\n",
       "    }\n",
       "\n",
       "    .dataframe thead th {\n",
       "        text-align: right;\n",
       "    }\n",
       "</style>\n",
       "<table border=\"1\" class=\"dataframe\">\n",
       "  <thead>\n",
       "    <tr style=\"text-align: right;\">\n",
       "      <th></th>\n",
       "      <th>train_r2</th>\n",
       "      <th>test_r2</th>\n",
       "      <th>holdout_r2</th>\n",
       "    </tr>\n",
       "  </thead>\n",
       "  <tbody>\n",
       "    <tr>\n",
       "      <th>min</th>\n",
       "      <td>0.889</td>\n",
       "      <td>0.785</td>\n",
       "      <td>-3.153</td>\n",
       "    </tr>\n",
       "    <tr>\n",
       "      <th>max</th>\n",
       "      <td>0.961</td>\n",
       "      <td>0.936</td>\n",
       "      <td>0.908</td>\n",
       "    </tr>\n",
       "    <tr>\n",
       "      <th>50%</th>\n",
       "      <td>0.929</td>\n",
       "      <td>0.877</td>\n",
       "      <td>0.805</td>\n",
       "    </tr>\n",
       "  </tbody>\n",
       "</table>\n",
       "</div>"
      ],
      "text/plain": [
       "     train_r2  test_r2  holdout_r2\n",
       "min     0.889    0.785      -3.153\n",
       "max     0.961    0.936       0.908\n",
       "50%     0.929    0.877       0.805"
      ]
     },
     "execution_count": 36,
     "metadata": {},
     "output_type": "execute_result"
    }
   ],
   "source": [
    "print(p_lowc_results[p_lowc_results['holdout_r2'] > 0]['holdout_r2'].min())\n",
    "print(p_lowc_results[p_lowc_results['holdout_r2'] < 0]['station'].values)\n",
    "p_lowc_results[['train_r2', 'test_r2', 'holdout_r2']].describe().loc[['min', 'max', '50%']]"
   ]
  },
  {
   "cell_type": "code",
   "execution_count": 37,
   "metadata": {},
   "outputs": [
    {
     "name": "stdout",
     "output_type": "stream",
     "text": [
      "0.343\n",
      "['YML' 'YNM']\n"
     ]
    },
    {
     "data": {
      "text/html": [
       "<div>\n",
       "<style scoped>\n",
       "    .dataframe tbody tr th:only-of-type {\n",
       "        vertical-align: middle;\n",
       "    }\n",
       "\n",
       "    .dataframe tbody tr th {\n",
       "        vertical-align: top;\n",
       "    }\n",
       "\n",
       "    .dataframe thead th {\n",
       "        text-align: right;\n",
       "    }\n",
       "</style>\n",
       "<table border=\"1\" class=\"dataframe\">\n",
       "  <thead>\n",
       "    <tr style=\"text-align: right;\">\n",
       "      <th></th>\n",
       "      <th>train_r2</th>\n",
       "      <th>test_r2</th>\n",
       "      <th>holdout_r2</th>\n",
       "    </tr>\n",
       "  </thead>\n",
       "  <tbody>\n",
       "    <tr>\n",
       "      <th>min</th>\n",
       "      <td>0.898</td>\n",
       "      <td>0.6380</td>\n",
       "      <td>-2.026</td>\n",
       "    </tr>\n",
       "    <tr>\n",
       "      <th>max</th>\n",
       "      <td>0.973</td>\n",
       "      <td>0.9230</td>\n",
       "      <td>0.926</td>\n",
       "    </tr>\n",
       "    <tr>\n",
       "      <th>50%</th>\n",
       "      <td>0.960</td>\n",
       "      <td>0.8525</td>\n",
       "      <td>0.841</td>\n",
       "    </tr>\n",
       "  </tbody>\n",
       "</table>\n",
       "</div>"
      ],
      "text/plain": [
       "     train_r2  test_r2  holdout_r2\n",
       "min     0.898   0.6380      -2.026\n",
       "max     0.973   0.9230       0.926\n",
       "50%     0.960   0.8525       0.841"
      ]
     },
     "execution_count": 37,
     "metadata": {},
     "output_type": "execute_result"
    }
   ],
   "source": [
    "print(s_lowc_results[s_lowc_results['holdout_r2'] > 0]['holdout_r2'].min())\n",
    "print(s_lowc_results[s_lowc_results['holdout_r2'] < 0]['station'].values)\n",
    "s_lowc_results[['train_r2', 'test_r2', 'holdout_r2']].describe().loc[['min', 'max', '50%']]"
   ]
  },
  {
   "cell_type": "code",
   "execution_count": 42,
   "metadata": {},
   "outputs": [
    {
     "data": {
      "text/html": [
       "<div>\n",
       "<style scoped>\n",
       "    .dataframe tbody tr th:only-of-type {\n",
       "        vertical-align: middle;\n",
       "    }\n",
       "\n",
       "    .dataframe tbody tr th {\n",
       "        vertical-align: top;\n",
       "    }\n",
       "\n",
       "    .dataframe thead th {\n",
       "        text-align: right;\n",
       "    }\n",
       "</style>\n",
       "<table border=\"1\" class=\"dataframe\">\n",
       "  <thead>\n",
       "    <tr style=\"text-align: right;\">\n",
       "      <th></th>\n",
       "      <th>train_r2</th>\n",
       "      <th>train_rmse</th>\n",
       "      <th>test_r2</th>\n",
       "      <th>test_rmse</th>\n",
       "      <th>holdout_r2</th>\n",
       "      <th>holdout_rmse</th>\n",
       "      <th>station</th>\n",
       "      <th>phase</th>\n",
       "    </tr>\n",
       "  </thead>\n",
       "  <tbody>\n",
       "    <tr>\n",
       "      <th>9</th>\n",
       "      <td>0.973</td>\n",
       "      <td>0.097</td>\n",
       "      <td>0.809</td>\n",
       "      <td>0.244</td>\n",
       "      <td>-2.026</td>\n",
       "      <td>0.798</td>\n",
       "      <td>YML</td>\n",
       "      <td>S</td>\n",
       "    </tr>\n",
       "    <tr>\n",
       "      <th>15</th>\n",
       "      <td>0.961</td>\n",
       "      <td>0.111</td>\n",
       "      <td>0.839</td>\n",
       "      <td>0.206</td>\n",
       "      <td>-0.227</td>\n",
       "      <td>0.248</td>\n",
       "      <td>YNM</td>\n",
       "      <td>S</td>\n",
       "    </tr>\n",
       "  </tbody>\n",
       "</table>\n",
       "</div>"
      ],
      "text/plain": [
       "    train_r2  train_rmse  test_r2  test_rmse  holdout_r2  holdout_rmse  \\\n",
       "9      0.973       0.097    0.809      0.244      -2.026         0.798   \n",
       "15     0.961       0.111    0.839      0.206      -0.227         0.248   \n",
       "\n",
       "   station phase  \n",
       "9      YML     S  \n",
       "15     YNM     S  "
      ]
     },
     "execution_count": 42,
     "metadata": {},
     "output_type": "execute_result"
    }
   ],
   "source": [
    "s_lowc_results[s_lowc_results['holdout_r2'] < 0]"
   ]
  },
  {
   "cell_type": "markdown",
   "metadata": {},
   "source": [
    "7 feats r2 summary"
   ]
  },
  {
   "cell_type": "code",
   "execution_count": 38,
   "metadata": {},
   "outputs": [
    {
     "name": "stdout",
     "output_type": "stream",
     "text": [
      "0.618\n",
      "['YDC']\n"
     ]
    },
    {
     "data": {
      "text/html": [
       "<div>\n",
       "<style scoped>\n",
       "    .dataframe tbody tr th:only-of-type {\n",
       "        vertical-align: middle;\n",
       "    }\n",
       "\n",
       "    .dataframe tbody tr th {\n",
       "        vertical-align: top;\n",
       "    }\n",
       "\n",
       "    .dataframe thead th {\n",
       "        text-align: right;\n",
       "    }\n",
       "</style>\n",
       "<table border=\"1\" class=\"dataframe\">\n",
       "  <thead>\n",
       "    <tr style=\"text-align: right;\">\n",
       "      <th></th>\n",
       "      <th>train_r2</th>\n",
       "      <th>test_r2</th>\n",
       "      <th>holdout_r2</th>\n",
       "    </tr>\n",
       "  </thead>\n",
       "  <tbody>\n",
       "    <tr>\n",
       "      <th>min</th>\n",
       "      <td>0.817</td>\n",
       "      <td>0.766</td>\n",
       "      <td>-3.866</td>\n",
       "    </tr>\n",
       "    <tr>\n",
       "      <th>max</th>\n",
       "      <td>0.954</td>\n",
       "      <td>0.934</td>\n",
       "      <td>0.916</td>\n",
       "    </tr>\n",
       "    <tr>\n",
       "      <th>50%</th>\n",
       "      <td>0.909</td>\n",
       "      <td>0.887</td>\n",
       "      <td>0.822</td>\n",
       "    </tr>\n",
       "  </tbody>\n",
       "</table>\n",
       "</div>"
      ],
      "text/plain": [
       "     train_r2  test_r2  holdout_r2\n",
       "min     0.817    0.766      -3.866\n",
       "max     0.954    0.934       0.916\n",
       "50%     0.909    0.887       0.822"
      ]
     },
     "execution_count": 38,
     "metadata": {},
     "output_type": "execute_result"
    }
   ],
   "source": [
    "print(p_sub_results[p_sub_results['holdout_r2'] > 0]['holdout_r2'].min())\n",
    "print(p_sub_results[p_sub_results['holdout_r2'] < 0]['station'].values)\n",
    "p_sub_results[['train_r2', 'test_r2', 'holdout_r2']].describe().loc[['min', 'max', '50%']]"
   ]
  },
  {
   "cell_type": "code",
   "execution_count": 39,
   "metadata": {},
   "outputs": [
    {
     "name": "stdout",
     "output_type": "stream",
     "text": [
      "0.66\n",
      "['YML']\n"
     ]
    },
    {
     "data": {
      "text/html": [
       "<div>\n",
       "<style scoped>\n",
       "    .dataframe tbody tr th:only-of-type {\n",
       "        vertical-align: middle;\n",
       "    }\n",
       "\n",
       "    .dataframe tbody tr th {\n",
       "        vertical-align: top;\n",
       "    }\n",
       "\n",
       "    .dataframe thead th {\n",
       "        text-align: right;\n",
       "    }\n",
       "</style>\n",
       "<table border=\"1\" class=\"dataframe\">\n",
       "  <thead>\n",
       "    <tr style=\"text-align: right;\">\n",
       "      <th></th>\n",
       "      <th>train_r2</th>\n",
       "      <th>test_r2</th>\n",
       "      <th>holdout_r2</th>\n",
       "    </tr>\n",
       "  </thead>\n",
       "  <tbody>\n",
       "    <tr>\n",
       "      <th>min</th>\n",
       "      <td>0.857</td>\n",
       "      <td>0.8160</td>\n",
       "      <td>-0.982</td>\n",
       "    </tr>\n",
       "    <tr>\n",
       "      <th>max</th>\n",
       "      <td>0.964</td>\n",
       "      <td>0.9590</td>\n",
       "      <td>0.961</td>\n",
       "    </tr>\n",
       "    <tr>\n",
       "      <th>50%</th>\n",
       "      <td>0.948</td>\n",
       "      <td>0.9155</td>\n",
       "      <td>0.902</td>\n",
       "    </tr>\n",
       "  </tbody>\n",
       "</table>\n",
       "</div>"
      ],
      "text/plain": [
       "     train_r2  test_r2  holdout_r2\n",
       "min     0.857   0.8160      -0.982\n",
       "max     0.964   0.9590       0.961\n",
       "50%     0.948   0.9155       0.902"
      ]
     },
     "execution_count": 39,
     "metadata": {},
     "output_type": "execute_result"
    }
   ],
   "source": [
    "print(s_sub_results[s_sub_results['holdout_r2'] > 0]['holdout_r2'].min())\n",
    "print(s_sub_results[s_sub_results['holdout_r2'] < 0]['station'].values)\n",
    "s_sub_results[['train_r2', 'test_r2', 'holdout_r2']].describe().loc[['min', 'max', '50%']]"
   ]
  },
  {
   "cell_type": "markdown",
   "metadata": {},
   "source": [
    "gbt r2 summary"
   ]
  },
  {
   "cell_type": "code",
   "execution_count": 40,
   "metadata": {},
   "outputs": [
    {
     "name": "stdout",
     "output_type": "stream",
     "text": [
      "0.1277931663987825\n",
      "['YDC']\n"
     ]
    },
    {
     "data": {
      "text/html": [
       "<div>\n",
       "<style scoped>\n",
       "    .dataframe tbody tr th:only-of-type {\n",
       "        vertical-align: middle;\n",
       "    }\n",
       "\n",
       "    .dataframe tbody tr th {\n",
       "        vertical-align: top;\n",
       "    }\n",
       "\n",
       "    .dataframe thead th {\n",
       "        text-align: right;\n",
       "    }\n",
       "</style>\n",
       "<table border=\"1\" class=\"dataframe\">\n",
       "  <thead>\n",
       "    <tr style=\"text-align: right;\">\n",
       "      <th></th>\n",
       "      <th>train_r2</th>\n",
       "      <th>test_r2</th>\n",
       "      <th>holdout_r2</th>\n",
       "    </tr>\n",
       "  </thead>\n",
       "  <tbody>\n",
       "    <tr>\n",
       "      <th>min</th>\n",
       "      <td>0.646494</td>\n",
       "      <td>0.622294</td>\n",
       "      <td>-3.904963</td>\n",
       "    </tr>\n",
       "    <tr>\n",
       "      <th>max</th>\n",
       "      <td>0.883572</td>\n",
       "      <td>0.870568</td>\n",
       "      <td>0.860126</td>\n",
       "    </tr>\n",
       "    <tr>\n",
       "      <th>50%</th>\n",
       "      <td>0.801831</td>\n",
       "      <td>0.786558</td>\n",
       "      <td>0.729415</td>\n",
       "    </tr>\n",
       "  </tbody>\n",
       "</table>\n",
       "</div>"
      ],
      "text/plain": [
       "     train_r2   test_r2  holdout_r2\n",
       "min  0.646494  0.622294   -3.904963\n",
       "max  0.883572  0.870568    0.860126\n",
       "50%  0.801831  0.786558    0.729415"
      ]
     },
     "execution_count": 40,
     "metadata": {},
     "output_type": "execute_result"
    }
   ],
   "source": [
    "print(p_gbt_results[p_gbt_results['holdout_r2'] > 0]['holdout_r2'].min())\n",
    "print(p_gbt_results[p_gbt_results['holdout_r2'] < 0]['station'].values)\n",
    "p_gbt_results[['train_r2', 'test_r2', 'holdout_r2']].describe().loc[['min', 'max', '50%']]"
   ]
  },
  {
   "cell_type": "code",
   "execution_count": 41,
   "metadata": {},
   "outputs": [
    {
     "name": "stdout",
     "output_type": "stream",
     "text": [
      "0.5019996540028444\n",
      "['YML']\n"
     ]
    },
    {
     "data": {
      "text/html": [
       "<div>\n",
       "<style scoped>\n",
       "    .dataframe tbody tr th:only-of-type {\n",
       "        vertical-align: middle;\n",
       "    }\n",
       "\n",
       "    .dataframe tbody tr th {\n",
       "        vertical-align: top;\n",
       "    }\n",
       "\n",
       "    .dataframe thead th {\n",
       "        text-align: right;\n",
       "    }\n",
       "</style>\n",
       "<table border=\"1\" class=\"dataframe\">\n",
       "  <thead>\n",
       "    <tr style=\"text-align: right;\">\n",
       "      <th></th>\n",
       "      <th>train_r2</th>\n",
       "      <th>test_r2</th>\n",
       "      <th>holdout_r2</th>\n",
       "    </tr>\n",
       "  </thead>\n",
       "  <tbody>\n",
       "    <tr>\n",
       "      <th>min</th>\n",
       "      <td>0.755906</td>\n",
       "      <td>0.579910</td>\n",
       "      <td>-7.122966</td>\n",
       "    </tr>\n",
       "    <tr>\n",
       "      <th>max</th>\n",
       "      <td>0.940822</td>\n",
       "      <td>0.937879</td>\n",
       "      <td>0.933174</td>\n",
       "    </tr>\n",
       "    <tr>\n",
       "      <th>50%</th>\n",
       "      <td>0.878540</td>\n",
       "      <td>0.880710</td>\n",
       "      <td>0.830661</td>\n",
       "    </tr>\n",
       "  </tbody>\n",
       "</table>\n",
       "</div>"
      ],
      "text/plain": [
       "     train_r2   test_r2  holdout_r2\n",
       "min  0.755906  0.579910   -7.122966\n",
       "max  0.940822  0.937879    0.933174\n",
       "50%  0.878540  0.880710    0.830661"
      ]
     },
     "execution_count": 41,
     "metadata": {},
     "output_type": "execute_result"
    }
   ],
   "source": [
    "print(s_gbt_results[s_gbt_results['holdout_r2'] > 0]['holdout_r2'].min())\n",
    "print(s_gbt_results[s_gbt_results['holdout_r2'] < 0]['station'].values)\n",
    "s_gbt_results[['train_r2', 'test_r2', 'holdout_r2']].describe().loc[['min', 'max', '50%']]"
   ]
  },
  {
   "cell_type": "code",
   "execution_count": 33,
   "metadata": {},
   "outputs": [
    {
     "data": {
      "text/html": [
       "<div>\n",
       "<style scoped>\n",
       "    .dataframe tbody tr th:only-of-type {\n",
       "        vertical-align: middle;\n",
       "    }\n",
       "\n",
       "    .dataframe tbody tr th {\n",
       "        vertical-align: top;\n",
       "    }\n",
       "\n",
       "    .dataframe thead th {\n",
       "        text-align: right;\n",
       "    }\n",
       "</style>\n",
       "<table border=\"1\" class=\"dataframe\">\n",
       "  <thead>\n",
       "    <tr style=\"text-align: right;\">\n",
       "      <th></th>\n",
       "      <th>station</th>\n",
       "      <th>train_r2</th>\n",
       "      <th>test_r2</th>\n",
       "      <th>holdout_r2</th>\n",
       "    </tr>\n",
       "  </thead>\n",
       "  <tbody>\n",
       "    <tr>\n",
       "      <th>0</th>\n",
       "      <td>YHB</td>\n",
       "      <td>0.940400</td>\n",
       "      <td>0.937879</td>\n",
       "      <td>0.933174</td>\n",
       "    </tr>\n",
       "    <tr>\n",
       "      <th>1</th>\n",
       "      <td>YHL</td>\n",
       "      <td>0.906257</td>\n",
       "      <td>0.913347</td>\n",
       "      <td>0.857942</td>\n",
       "    </tr>\n",
       "    <tr>\n",
       "      <th>2</th>\n",
       "      <td>YMR</td>\n",
       "      <td>0.913414</td>\n",
       "      <td>0.903444</td>\n",
       "      <td>0.896393</td>\n",
       "    </tr>\n",
       "    <tr>\n",
       "      <th>3</th>\n",
       "      <td>YHH</td>\n",
       "      <td>0.846770</td>\n",
       "      <td>0.816218</td>\n",
       "      <td>0.805882</td>\n",
       "    </tr>\n",
       "    <tr>\n",
       "      <th>4</th>\n",
       "      <td>B207</td>\n",
       "      <td>0.883711</td>\n",
       "      <td>0.883420</td>\n",
       "      <td>NaN</td>\n",
       "    </tr>\n",
       "    <tr>\n",
       "      <th>5</th>\n",
       "      <td>FLWY</td>\n",
       "      <td>0.791913</td>\n",
       "      <td>0.719554</td>\n",
       "      <td>0.632912</td>\n",
       "    </tr>\n",
       "    <tr>\n",
       "      <th>6</th>\n",
       "      <td>YUF</td>\n",
       "      <td>0.912245</td>\n",
       "      <td>0.905528</td>\n",
       "      <td>0.896621</td>\n",
       "    </tr>\n",
       "    <tr>\n",
       "      <th>7</th>\n",
       "      <td>YPP</td>\n",
       "      <td>0.901123</td>\n",
       "      <td>0.829350</td>\n",
       "      <td>0.830661</td>\n",
       "    </tr>\n",
       "    <tr>\n",
       "      <th>8</th>\n",
       "      <td>YNR</td>\n",
       "      <td>0.938136</td>\n",
       "      <td>0.928077</td>\n",
       "      <td>0.915527</td>\n",
       "    </tr>\n",
       "    <tr>\n",
       "      <th>9</th>\n",
       "      <td>YML</td>\n",
       "      <td>0.773169</td>\n",
       "      <td>0.746212</td>\n",
       "      <td>-7.122966</td>\n",
       "    </tr>\n",
       "    <tr>\n",
       "      <th>10</th>\n",
       "      <td>YFT</td>\n",
       "      <td>0.935199</td>\n",
       "      <td>0.916932</td>\n",
       "      <td>0.847492</td>\n",
       "    </tr>\n",
       "    <tr>\n",
       "      <th>11</th>\n",
       "      <td>LKWY</td>\n",
       "      <td>0.804952</td>\n",
       "      <td>0.878000</td>\n",
       "      <td>0.502000</td>\n",
       "    </tr>\n",
       "    <tr>\n",
       "      <th>12</th>\n",
       "      <td>YTP</td>\n",
       "      <td>0.755906</td>\n",
       "      <td>0.579910</td>\n",
       "      <td>0.682940</td>\n",
       "    </tr>\n",
       "    <tr>\n",
       "      <th>13</th>\n",
       "      <td>B206</td>\n",
       "      <td>0.867419</td>\n",
       "      <td>0.826718</td>\n",
       "      <td>NaN</td>\n",
       "    </tr>\n",
       "    <tr>\n",
       "      <th>14</th>\n",
       "      <td>YMC</td>\n",
       "      <td>0.797937</td>\n",
       "      <td>0.771548</td>\n",
       "      <td>0.744100</td>\n",
       "    </tr>\n",
       "    <tr>\n",
       "      <th>15</th>\n",
       "      <td>YNM</td>\n",
       "      <td>0.940822</td>\n",
       "      <td>0.913472</td>\n",
       "      <td>0.546320</td>\n",
       "    </tr>\n",
       "    <tr>\n",
       "      <th>16</th>\n",
       "      <td>B950</td>\n",
       "      <td>0.827193</td>\n",
       "      <td>0.761129</td>\n",
       "      <td>NaN</td>\n",
       "    </tr>\n",
       "    <tr>\n",
       "      <th>17</th>\n",
       "      <td>YDD</td>\n",
       "      <td>0.873368</td>\n",
       "      <td>0.898570</td>\n",
       "      <td>0.921419</td>\n",
       "    </tr>\n",
       "  </tbody>\n",
       "</table>\n",
       "</div>"
      ],
      "text/plain": [
       "   station  train_r2   test_r2  holdout_r2\n",
       "0      YHB  0.940400  0.937879    0.933174\n",
       "1      YHL  0.906257  0.913347    0.857942\n",
       "2      YMR  0.913414  0.903444    0.896393\n",
       "3      YHH  0.846770  0.816218    0.805882\n",
       "4     B207  0.883711  0.883420         NaN\n",
       "5     FLWY  0.791913  0.719554    0.632912\n",
       "6      YUF  0.912245  0.905528    0.896621\n",
       "7      YPP  0.901123  0.829350    0.830661\n",
       "8      YNR  0.938136  0.928077    0.915527\n",
       "9      YML  0.773169  0.746212   -7.122966\n",
       "10     YFT  0.935199  0.916932    0.847492\n",
       "11    LKWY  0.804952  0.878000    0.502000\n",
       "12     YTP  0.755906  0.579910    0.682940\n",
       "13    B206  0.867419  0.826718         NaN\n",
       "14     YMC  0.797937  0.771548    0.744100\n",
       "15     YNM  0.940822  0.913472    0.546320\n",
       "16    B950  0.827193  0.761129         NaN\n",
       "17     YDD  0.873368  0.898570    0.921419"
      ]
     },
     "execution_count": 33,
     "metadata": {},
     "output_type": "execute_result"
    }
   ],
   "source": [
    "s_gbt_results"
   ]
  }
 ],
 "metadata": {
  "kernelspec": {
   "display_name": "featmags",
   "language": "python",
   "name": "python3"
  },
  "language_info": {
   "codemirror_mode": {
    "name": "ipython",
    "version": 3
   },
   "file_extension": ".py",
   "mimetype": "text/x-python",
   "name": "python",
   "nbconvert_exporter": "python",
   "pygments_lexer": "ipython3",
   "version": "3.11.6"
  }
 },
 "nbformat": 4,
 "nbformat_minor": 2
}
