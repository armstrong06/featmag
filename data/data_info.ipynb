{
 "cells": [
  {
   "cell_type": "code",
   "execution_count": 18,
   "metadata": {},
   "outputs": [],
   "source": [
    "import pandas as pd\n",
    "import numpy as np\n",
    "import matplotlib.pyplot as plt\n",
    "import pygmt\n",
    "from datetime import datetime, timezone"
   ]
  },
  {
   "cell_type": "markdown",
   "metadata": {},
   "source": [
    "# Feature Catalogs"
   ]
  },
  {
   "cell_type": "code",
   "execution_count": 2,
   "metadata": {},
   "outputs": [],
   "source": [
    "p_feats = pd.read_csv(\"features/p_features.csv\")\n",
    "s_feats = pd.read_csv(\"features/s_features.csv\")"
   ]
  },
  {
   "cell_type": "code",
   "execution_count": 3,
   "metadata": {},
   "outputs": [
    {
     "data": {
      "text/plain": [
       "Index(['arrival_identifier', 'avg_noise_1.00', 'avg_noise_10.00',\n",
       "       'avg_noise_11.00', 'avg_noise_12.00', 'avg_noise_13.00',\n",
       "       'avg_noise_14.00', 'avg_noise_15.00', 'avg_noise_16.00',\n",
       "       'avg_noise_17.00', 'avg_noise_18.00', 'avg_noise_2.00',\n",
       "       'avg_noise_3.00', 'avg_noise_4.00', 'avg_noise_5.00', 'avg_noise_6.00',\n",
       "       'avg_noise_7.00', 'avg_noise_8.00', 'avg_noise_9.00', 'avg_signal_1.00',\n",
       "       'avg_signal_10.00', 'avg_signal_11.00', 'avg_signal_12.00',\n",
       "       'avg_signal_13.00', 'avg_signal_14.00', 'avg_signal_15.00',\n",
       "       'avg_signal_16.00', 'avg_signal_17.00', 'avg_signal_18.00',\n",
       "       'avg_signal_2.00', 'avg_signal_3.00', 'avg_signal_4.00',\n",
       "       'avg_signal_5.00', 'avg_signal_6.00', 'avg_signal_7.00',\n",
       "       'avg_signal_8.00', 'avg_signal_9.00', 'channel', 'event_identifier',\n",
       "       'location_code', 'magnitude', 'magnitude_type', 'network',\n",
       "       'noise_dominant_amplitude', 'noise_dominant_frequency',\n",
       "       'noise_maximum_value', 'noise_minimum_value', 'noise_variance',\n",
       "       'signal_dominant_amplitude', 'signal_dominant_frequency',\n",
       "       'signal_maximum_value', 'signal_minimum_value', 'signal_variance',\n",
       "       'source_depth_km', 'source_latitude', 'source_longitude',\n",
       "       'source_receiver_back_azimuth', 'source_receiver_distance_km',\n",
       "       'station'],\n",
       "      dtype='object')"
      ]
     },
     "execution_count": 3,
     "metadata": {},
     "output_type": "execute_result"
    }
   ],
   "source": [
    "p_feats.columns"
   ]
  },
  {
   "cell_type": "code",
   "execution_count": 4,
   "metadata": {},
   "outputs": [
    {
     "data": {
      "text/html": [
       "<div>\n",
       "<style scoped>\n",
       "    .dataframe tbody tr th:only-of-type {\n",
       "        vertical-align: middle;\n",
       "    }\n",
       "\n",
       "    .dataframe tbody tr th {\n",
       "        vertical-align: top;\n",
       "    }\n",
       "\n",
       "    .dataframe thead th {\n",
       "        text-align: right;\n",
       "    }\n",
       "</style>\n",
       "<table border=\"1\" class=\"dataframe\">\n",
       "  <thead>\n",
       "    <tr style=\"text-align: right;\">\n",
       "      <th></th>\n",
       "      <th>event_identifier</th>\n",
       "      <th>magnitude</th>\n",
       "      <th>magnitude_type</th>\n",
       "    </tr>\n",
       "  </thead>\n",
       "  <tbody>\n",
       "    <tr>\n",
       "      <th>0</th>\n",
       "      <td>60000622</td>\n",
       "      <td>0.83</td>\n",
       "      <td>l</td>\n",
       "    </tr>\n",
       "    <tr>\n",
       "      <th>1</th>\n",
       "      <td>60000622</td>\n",
       "      <td>0.83</td>\n",
       "      <td>l</td>\n",
       "    </tr>\n",
       "    <tr>\n",
       "      <th>2</th>\n",
       "      <td>60000622</td>\n",
       "      <td>0.83</td>\n",
       "      <td>l</td>\n",
       "    </tr>\n",
       "    <tr>\n",
       "      <th>3</th>\n",
       "      <td>60000622</td>\n",
       "      <td>0.83</td>\n",
       "      <td>l</td>\n",
       "    </tr>\n",
       "    <tr>\n",
       "      <th>4</th>\n",
       "      <td>60001352</td>\n",
       "      <td>2.06</td>\n",
       "      <td>l</td>\n",
       "    </tr>\n",
       "  </tbody>\n",
       "</table>\n",
       "</div>"
      ],
      "text/plain": [
       "   event_identifier  magnitude magnitude_type\n",
       "0          60000622       0.83              l\n",
       "1          60000622       0.83              l\n",
       "2          60000622       0.83              l\n",
       "3          60000622       0.83              l\n",
       "4          60001352       2.06              l"
      ]
     },
     "execution_count": 4,
     "metadata": {},
     "output_type": "execute_result"
    }
   ],
   "source": [
    "p_feats[['event_identifier', 'magnitude', 'magnitude_type']].head()"
   ]
  },
  {
   "cell_type": "code",
   "execution_count": 5,
   "metadata": {},
   "outputs": [
    {
     "data": {
      "text/plain": [
       "array(['l'], dtype=object)"
      ]
     },
     "execution_count": 5,
     "metadata": {},
     "output_type": "execute_result"
    }
   ],
   "source": [
    "# All events in feature catalog have mag type M_L\n",
    "p_feats['magnitude_type'].unique()"
   ]
  },
  {
   "cell_type": "markdown",
   "metadata": {},
   "source": [
    "# Event Catalogs"
   ]
  },
  {
   "cell_type": "code",
   "execution_count": 6,
   "metadata": {},
   "outputs": [
    {
     "data": {
      "text/html": [
       "<div>\n",
       "<style scoped>\n",
       "    .dataframe tbody tr th:only-of-type {\n",
       "        vertical-align: middle;\n",
       "    }\n",
       "\n",
       "    .dataframe tbody tr th {\n",
       "        vertical-align: top;\n",
       "    }\n",
       "\n",
       "    .dataframe thead th {\n",
       "        text-align: right;\n",
       "    }\n",
       "</style>\n",
       "<table border=\"1\" class=\"dataframe\">\n",
       "  <thead>\n",
       "    <tr style=\"text-align: right;\">\n",
       "      <th></th>\n",
       "      <th>Date</th>\n",
       "      <th>Time</th>\n",
       "      <th>Lat</th>\n",
       "      <th>Lon</th>\n",
       "      <th>Dep</th>\n",
       "      <th>Mw</th>\n",
       "      <th>Ml</th>\n",
       "      <th>Mc</th>\n",
       "      <th>Mpref</th>\n",
       "      <th>N</th>\n",
       "      <th>Dmin</th>\n",
       "      <th>Gap</th>\n",
       "      <th>ehr</th>\n",
       "      <th>ehz</th>\n",
       "      <th>rms</th>\n",
       "      <th>evid</th>\n",
       "    </tr>\n",
       "  </thead>\n",
       "  <tbody>\n",
       "    <tr>\n",
       "      <th>0</th>\n",
       "      <td>1972/11/08</td>\n",
       "      <td>09:54:28.71</td>\n",
       "      <td>44.5765</td>\n",
       "      <td>-110.6748</td>\n",
       "      <td>3.37</td>\n",
       "      <td>-9.99</td>\n",
       "      <td>-9.99</td>\n",
       "      <td>2.90</td>\n",
       "      <td>2.90</td>\n",
       "      <td>8</td>\n",
       "      <td>16.6</td>\n",
       "      <td>80</td>\n",
       "      <td>0.1</td>\n",
       "      <td>0.4</td>\n",
       "      <td>0.10</td>\n",
       "      <td>0</td>\n",
       "    </tr>\n",
       "    <tr>\n",
       "      <th>1</th>\n",
       "      <td>1973/01/04</td>\n",
       "      <td>01:33:08.05</td>\n",
       "      <td>44.8963</td>\n",
       "      <td>-110.7607</td>\n",
       "      <td>5.80</td>\n",
       "      <td>-9.99</td>\n",
       "      <td>-9.99</td>\n",
       "      <td>1.12</td>\n",
       "      <td>1.12</td>\n",
       "      <td>5</td>\n",
       "      <td>10.8</td>\n",
       "      <td>163</td>\n",
       "      <td>0.5</td>\n",
       "      <td>0.6</td>\n",
       "      <td>0.10</td>\n",
       "      <td>0</td>\n",
       "    </tr>\n",
       "    <tr>\n",
       "      <th>2</th>\n",
       "      <td>1973/01/06</td>\n",
       "      <td>13:33:06.03</td>\n",
       "      <td>44.8048</td>\n",
       "      <td>-110.4698</td>\n",
       "      <td>3.86</td>\n",
       "      <td>-9.99</td>\n",
       "      <td>-9.99</td>\n",
       "      <td>1.42</td>\n",
       "      <td>1.42</td>\n",
       "      <td>6</td>\n",
       "      <td>25.6</td>\n",
       "      <td>181</td>\n",
       "      <td>0.2</td>\n",
       "      <td>0.6</td>\n",
       "      <td>0.06</td>\n",
       "      <td>0</td>\n",
       "    </tr>\n",
       "    <tr>\n",
       "      <th>3</th>\n",
       "      <td>1973/01/07</td>\n",
       "      <td>02:10:33.13</td>\n",
       "      <td>44.5073</td>\n",
       "      <td>-111.1687</td>\n",
       "      <td>6.29</td>\n",
       "      <td>-9.99</td>\n",
       "      <td>-9.99</td>\n",
       "      <td>0.28</td>\n",
       "      <td>0.28</td>\n",
       "      <td>7</td>\n",
       "      <td>26.7</td>\n",
       "      <td>261</td>\n",
       "      <td>0.3</td>\n",
       "      <td>1.6</td>\n",
       "      <td>0.10</td>\n",
       "      <td>0</td>\n",
       "    </tr>\n",
       "    <tr>\n",
       "      <th>4</th>\n",
       "      <td>1973/01/07</td>\n",
       "      <td>06:55:54.10</td>\n",
       "      <td>44.7930</td>\n",
       "      <td>-111.5417</td>\n",
       "      <td>11.72</td>\n",
       "      <td>-9.99</td>\n",
       "      <td>-9.99</td>\n",
       "      <td>1.70</td>\n",
       "      <td>1.70</td>\n",
       "      <td>9</td>\n",
       "      <td>34.3</td>\n",
       "      <td>288</td>\n",
       "      <td>0.1</td>\n",
       "      <td>2.0</td>\n",
       "      <td>0.08</td>\n",
       "      <td>0</td>\n",
       "    </tr>\n",
       "  </tbody>\n",
       "</table>\n",
       "</div>"
      ],
      "text/plain": [
       "         Date         Time      Lat       Lon    Dep    Mw    Ml    Mc  Mpref  \\\n",
       "0  1972/11/08  09:54:28.71  44.5765 -110.6748   3.37 -9.99 -9.99  2.90   2.90   \n",
       "1  1973/01/04  01:33:08.05  44.8963 -110.7607   5.80 -9.99 -9.99  1.12   1.12   \n",
       "2  1973/01/06  13:33:06.03  44.8048 -110.4698   3.86 -9.99 -9.99  1.42   1.42   \n",
       "3  1973/01/07  02:10:33.13  44.5073 -111.1687   6.29 -9.99 -9.99  0.28   0.28   \n",
       "4  1973/01/07  06:55:54.10  44.7930 -111.5417  11.72 -9.99 -9.99  1.70   1.70   \n",
       "\n",
       "   N  Dmin  Gap  ehr  ehz   rms  evid  \n",
       "0  8  16.6   80  0.1  0.4  0.10     0  \n",
       "1  5  10.8  163  0.5  0.6  0.10     0  \n",
       "2  6  25.6  181  0.2  0.6  0.06     0  \n",
       "3  7  26.7  261  0.3  1.6  0.10     0  \n",
       "4  9  34.3  288  0.1  2.0  0.08     0  "
      ]
     },
     "execution_count": 6,
     "metadata": {},
     "output_type": "execute_result"
    }
   ],
   "source": [
    "# Keith's yellowstone cat - goes from 11/08/1972 - 6/30/2022\n",
    "ys_cat = pd.read_csv('catalogs/cat.yellow_long', delim_whitespace=True)\n",
    "ys_cat.head()"
   ]
  },
  {
   "cell_type": "code",
   "execution_count": 8,
   "metadata": {},
   "outputs": [
    {
     "data": {
      "text/html": [
       "<div>\n",
       "<style scoped>\n",
       "    .dataframe tbody tr th:only-of-type {\n",
       "        vertical-align: middle;\n",
       "    }\n",
       "\n",
       "    .dataframe tbody tr th {\n",
       "        vertical-align: top;\n",
       "    }\n",
       "\n",
       "    .dataframe thead th {\n",
       "        text-align: right;\n",
       "    }\n",
       "</style>\n",
       "<table border=\"1\" class=\"dataframe\">\n",
       "  <thead>\n",
       "    <tr style=\"text-align: right;\">\n",
       "      <th></th>\n",
       "      <th>Date</th>\n",
       "      <th>Time</th>\n",
       "      <th>Lat</th>\n",
       "      <th>Lon</th>\n",
       "      <th>Dep</th>\n",
       "      <th>Mw</th>\n",
       "      <th>Ml</th>\n",
       "      <th>Mc</th>\n",
       "      <th>Mpref</th>\n",
       "      <th>N</th>\n",
       "      <th>Dmin</th>\n",
       "      <th>Gap</th>\n",
       "      <th>ehr</th>\n",
       "      <th>ehz</th>\n",
       "      <th>rms</th>\n",
       "      <th>evid</th>\n",
       "    </tr>\n",
       "  </thead>\n",
       "  <tbody>\n",
       "    <tr>\n",
       "      <th>57093</th>\n",
       "      <td>2022/06/29</td>\n",
       "      <td>22:22:02.13</td>\n",
       "      <td>44.3033</td>\n",
       "      <td>-110.9977</td>\n",
       "      <td>8.24</td>\n",
       "      <td>-9.99</td>\n",
       "      <td>-9.99</td>\n",
       "      <td>1.73</td>\n",
       "      <td>1.73</td>\n",
       "      <td>11</td>\n",
       "      <td>16.0</td>\n",
       "      <td>130</td>\n",
       "      <td>2.9</td>\n",
       "      <td>0.5</td>\n",
       "      <td>0.15</td>\n",
       "      <td>60503952</td>\n",
       "    </tr>\n",
       "    <tr>\n",
       "      <th>57094</th>\n",
       "      <td>2022/06/30</td>\n",
       "      <td>01:35:48.94</td>\n",
       "      <td>44.8735</td>\n",
       "      <td>-110.6520</td>\n",
       "      <td>2.16</td>\n",
       "      <td>-9.99</td>\n",
       "      <td>-9.99</td>\n",
       "      <td>0.91</td>\n",
       "      <td>0.91</td>\n",
       "      <td>8</td>\n",
       "      <td>17.0</td>\n",
       "      <td>187</td>\n",
       "      <td>7.1</td>\n",
       "      <td>1.7</td>\n",
       "      <td>0.13</td>\n",
       "      <td>60503987</td>\n",
       "    </tr>\n",
       "    <tr>\n",
       "      <th>57095</th>\n",
       "      <td>2022/06/30</td>\n",
       "      <td>12:08:45.18</td>\n",
       "      <td>44.8027</td>\n",
       "      <td>-110.7982</td>\n",
       "      <td>7.42</td>\n",
       "      <td>-9.99</td>\n",
       "      <td>-9.99</td>\n",
       "      <td>0.26</td>\n",
       "      <td>0.26</td>\n",
       "      <td>8</td>\n",
       "      <td>4.0</td>\n",
       "      <td>215</td>\n",
       "      <td>1.2</td>\n",
       "      <td>0.7</td>\n",
       "      <td>0.09</td>\n",
       "      <td>60504047</td>\n",
       "    </tr>\n",
       "    <tr>\n",
       "      <th>57096</th>\n",
       "      <td>2022/06/30</td>\n",
       "      <td>14:08:13.85</td>\n",
       "      <td>44.6745</td>\n",
       "      <td>-110.0488</td>\n",
       "      <td>13.44</td>\n",
       "      <td>-9.99</td>\n",
       "      <td>-9.99</td>\n",
       "      <td>0.83</td>\n",
       "      <td>0.83</td>\n",
       "      <td>10</td>\n",
       "      <td>11.0</td>\n",
       "      <td>93</td>\n",
       "      <td>1.1</td>\n",
       "      <td>0.7</td>\n",
       "      <td>0.14</td>\n",
       "      <td>60504057</td>\n",
       "    </tr>\n",
       "    <tr>\n",
       "      <th>57097</th>\n",
       "      <td>2022/06/30</td>\n",
       "      <td>23:17:31.52</td>\n",
       "      <td>44.0623</td>\n",
       "      <td>-110.2425</td>\n",
       "      <td>12.11</td>\n",
       "      <td>-9.99</td>\n",
       "      <td>-9.99</td>\n",
       "      <td>1.27</td>\n",
       "      <td>1.27</td>\n",
       "      <td>9</td>\n",
       "      <td>14.0</td>\n",
       "      <td>142</td>\n",
       "      <td>2.5</td>\n",
       "      <td>0.9</td>\n",
       "      <td>0.09</td>\n",
       "      <td>60504132</td>\n",
       "    </tr>\n",
       "  </tbody>\n",
       "</table>\n",
       "</div>"
      ],
      "text/plain": [
       "             Date         Time      Lat       Lon    Dep    Mw    Ml    Mc  \\\n",
       "57093  2022/06/29  22:22:02.13  44.3033 -110.9977   8.24 -9.99 -9.99  1.73   \n",
       "57094  2022/06/30  01:35:48.94  44.8735 -110.6520   2.16 -9.99 -9.99  0.91   \n",
       "57095  2022/06/30  12:08:45.18  44.8027 -110.7982   7.42 -9.99 -9.99  0.26   \n",
       "57096  2022/06/30  14:08:13.85  44.6745 -110.0488  13.44 -9.99 -9.99  0.83   \n",
       "57097  2022/06/30  23:17:31.52  44.0623 -110.2425  12.11 -9.99 -9.99  1.27   \n",
       "\n",
       "       Mpref   N  Dmin  Gap  ehr  ehz   rms      evid  \n",
       "57093   1.73  11  16.0  130  2.9  0.5  0.15  60503952  \n",
       "57094   0.91   8  17.0  187  7.1  1.7  0.13  60503987  \n",
       "57095   0.26   8   4.0  215  1.2  0.7  0.09  60504047  \n",
       "57096   0.83  10  11.0   93  1.1  0.7  0.14  60504057  \n",
       "57097   1.27   9  14.0  142  2.5  0.9  0.09  60504132  "
      ]
     },
     "execution_count": 8,
     "metadata": {},
     "output_type": "execute_result"
    }
   ],
   "source": [
    "ys_cat.tail()"
   ]
  },
  {
   "cell_type": "code",
   "execution_count": 7,
   "metadata": {},
   "outputs": [
    {
     "name": "stderr",
     "output_type": "stream",
     "text": [
      "/tmp/ipykernel_409245/3912620786.py:1: DtypeWarning: Columns (3) have mixed types. Specify dtype option on import or set low_memory=False.\n",
      "  ys_arrs = pd.read_csv('catalogs/yellowstone_arrivals_2002_20220701.csv')\n"
     ]
    },
    {
     "data": {
      "text/html": [
       "<div>\n",
       "<style scoped>\n",
       "    .dataframe tbody tr th:only-of-type {\n",
       "        vertical-align: middle;\n",
       "    }\n",
       "\n",
       "    .dataframe tbody tr th {\n",
       "        vertical-align: top;\n",
       "    }\n",
       "\n",
       "    .dataframe thead th {\n",
       "        text-align: right;\n",
       "    }\n",
       "</style>\n",
       "<table border=\"1\" class=\"dataframe\">\n",
       "  <thead>\n",
       "    <tr style=\"text-align: right;\">\n",
       "      <th></th>\n",
       "      <th>evid</th>\n",
       "      <th>network</th>\n",
       "      <th>station</th>\n",
       "      <th>location</th>\n",
       "      <th>channelz</th>\n",
       "      <th>phase</th>\n",
       "      <th>arrival_id</th>\n",
       "      <th>arrival_time</th>\n",
       "      <th>pick_quality</th>\n",
       "      <th>first_motion</th>\n",
       "      <th>...</th>\n",
       "      <th>event_depth</th>\n",
       "      <th>origin_time</th>\n",
       "      <th>magnitude</th>\n",
       "      <th>magnitude_type</th>\n",
       "      <th>rflag</th>\n",
       "      <th>n_weighted_residuals</th>\n",
       "      <th>horizontal_error</th>\n",
       "      <th>azimuthal_gap</th>\n",
       "      <th>weighted_rms</th>\n",
       "      <th>utc</th>\n",
       "    </tr>\n",
       "  </thead>\n",
       "  <tbody>\n",
       "    <tr>\n",
       "      <th>0</th>\n",
       "      <td>50251605</td>\n",
       "      <td>WY</td>\n",
       "      <td>MCID</td>\n",
       "      <td>1</td>\n",
       "      <td>EHZ</td>\n",
       "      <td>P</td>\n",
       "      <td>NaN</td>\n",
       "      <td>1.009880e+09</td>\n",
       "      <td>0.75</td>\n",
       "      <td>0</td>\n",
       "      <td>...</td>\n",
       "      <td>9.81</td>\n",
       "      <td>1.009880e+09</td>\n",
       "      <td>0.12</td>\n",
       "      <td>d</td>\n",
       "      <td>F</td>\n",
       "      <td>11.0</td>\n",
       "      <td>0.85</td>\n",
       "      <td>136.0</td>\n",
       "      <td>0.15</td>\n",
       "      <td>2002-01-01T10:05:51.940000Z</td>\n",
       "    </tr>\n",
       "    <tr>\n",
       "      <th>1</th>\n",
       "      <td>50251605</td>\n",
       "      <td>WY</td>\n",
       "      <td>YPM</td>\n",
       "      <td>1</td>\n",
       "      <td>EHZ</td>\n",
       "      <td>P</td>\n",
       "      <td>NaN</td>\n",
       "      <td>1.009880e+09</td>\n",
       "      <td>0.75</td>\n",
       "      <td>0</td>\n",
       "      <td>...</td>\n",
       "      <td>9.81</td>\n",
       "      <td>1.009880e+09</td>\n",
       "      <td>0.12</td>\n",
       "      <td>d</td>\n",
       "      <td>F</td>\n",
       "      <td>11.0</td>\n",
       "      <td>0.85</td>\n",
       "      <td>136.0</td>\n",
       "      <td>0.15</td>\n",
       "      <td>2002-01-01T10:05:51.940000Z</td>\n",
       "    </tr>\n",
       "    <tr>\n",
       "      <th>2</th>\n",
       "      <td>50251605</td>\n",
       "      <td>WY</td>\n",
       "      <td>YDC</td>\n",
       "      <td>1</td>\n",
       "      <td>EHZ</td>\n",
       "      <td>P</td>\n",
       "      <td>NaN</td>\n",
       "      <td>1.009880e+09</td>\n",
       "      <td>0.75</td>\n",
       "      <td>0</td>\n",
       "      <td>...</td>\n",
       "      <td>9.81</td>\n",
       "      <td>1.009880e+09</td>\n",
       "      <td>0.12</td>\n",
       "      <td>d</td>\n",
       "      <td>F</td>\n",
       "      <td>11.0</td>\n",
       "      <td>0.85</td>\n",
       "      <td>136.0</td>\n",
       "      <td>0.15</td>\n",
       "      <td>2002-01-01T10:05:51.940000Z</td>\n",
       "    </tr>\n",
       "    <tr>\n",
       "      <th>3</th>\n",
       "      <td>50251605</td>\n",
       "      <td>WY</td>\n",
       "      <td>YWB</td>\n",
       "      <td>1</td>\n",
       "      <td>EHZ</td>\n",
       "      <td>P</td>\n",
       "      <td>NaN</td>\n",
       "      <td>1.009880e+09</td>\n",
       "      <td>1.00</td>\n",
       "      <td>1</td>\n",
       "      <td>...</td>\n",
       "      <td>9.81</td>\n",
       "      <td>1.009880e+09</td>\n",
       "      <td>0.12</td>\n",
       "      <td>d</td>\n",
       "      <td>F</td>\n",
       "      <td>11.0</td>\n",
       "      <td>0.85</td>\n",
       "      <td>136.0</td>\n",
       "      <td>0.15</td>\n",
       "      <td>2002-01-01T10:05:51.940000Z</td>\n",
       "    </tr>\n",
       "    <tr>\n",
       "      <th>4</th>\n",
       "      <td>50251605</td>\n",
       "      <td>WY</td>\n",
       "      <td>YMC</td>\n",
       "      <td>1</td>\n",
       "      <td>EHZ</td>\n",
       "      <td>P</td>\n",
       "      <td>NaN</td>\n",
       "      <td>1.009880e+09</td>\n",
       "      <td>1.00</td>\n",
       "      <td>-1</td>\n",
       "      <td>...</td>\n",
       "      <td>9.81</td>\n",
       "      <td>1.009880e+09</td>\n",
       "      <td>0.12</td>\n",
       "      <td>d</td>\n",
       "      <td>F</td>\n",
       "      <td>11.0</td>\n",
       "      <td>0.85</td>\n",
       "      <td>136.0</td>\n",
       "      <td>0.15</td>\n",
       "      <td>2002-01-01T10:05:51.940000Z</td>\n",
       "    </tr>\n",
       "  </tbody>\n",
       "</table>\n",
       "<p>5 rows × 29 columns</p>\n",
       "</div>"
      ],
      "text/plain": [
       "       evid network station location channelz phase  arrival_id  arrival_time  \\\n",
       "0  50251605      WY    MCID        1      EHZ     P         NaN  1.009880e+09   \n",
       "1  50251605      WY     YPM        1      EHZ     P         NaN  1.009880e+09   \n",
       "2  50251605      WY     YDC        1      EHZ     P         NaN  1.009880e+09   \n",
       "3  50251605      WY     YWB        1      EHZ     P         NaN  1.009880e+09   \n",
       "4  50251605      WY     YMC        1      EHZ     P         NaN  1.009880e+09   \n",
       "\n",
       "   pick_quality  first_motion  ...  event_depth   origin_time  magnitude  \\\n",
       "0          0.75             0  ...         9.81  1.009880e+09       0.12   \n",
       "1          0.75             0  ...         9.81  1.009880e+09       0.12   \n",
       "2          0.75             0  ...         9.81  1.009880e+09       0.12   \n",
       "3          1.00             1  ...         9.81  1.009880e+09       0.12   \n",
       "4          1.00            -1  ...         9.81  1.009880e+09       0.12   \n",
       "\n",
       "   magnitude_type  rflag  n_weighted_residuals  horizontal_error  \\\n",
       "0               d      F                  11.0              0.85   \n",
       "1               d      F                  11.0              0.85   \n",
       "2               d      F                  11.0              0.85   \n",
       "3               d      F                  11.0              0.85   \n",
       "4               d      F                  11.0              0.85   \n",
       "\n",
       "   azimuthal_gap  weighted_rms                          utc  \n",
       "0          136.0          0.15  2002-01-01T10:05:51.940000Z  \n",
       "1          136.0          0.15  2002-01-01T10:05:51.940000Z  \n",
       "2          136.0          0.15  2002-01-01T10:05:51.940000Z  \n",
       "3          136.0          0.15  2002-01-01T10:05:51.940000Z  \n",
       "4          136.0          0.15  2002-01-01T10:05:51.940000Z  \n",
       "\n",
       "[5 rows x 29 columns]"
      ]
     },
     "execution_count": 7,
     "metadata": {},
     "output_type": "execute_result"
    }
   ],
   "source": [
    "# YS arrivals catalog made from Ben's catalogs - goes from 01/01/2002 to 06/30/2022 \n",
    "ys_arrs = pd.read_csv('catalogs/yellowstone_arrivals_2002_20220701.csv')\n",
    "ys_arrs.head()"
   ]
  },
  {
   "cell_type": "code",
   "execution_count": 9,
   "metadata": {},
   "outputs": [
    {
     "data": {
      "text/plain": [
       "Index(['evid', 'network', 'station', 'location', 'channelz', 'phase',\n",
       "       'arrival_id', 'arrival_time', 'pick_quality', 'first_motion',\n",
       "       'take_off_angle', 'source_receiver_distance', 'source_receiver_azimuth',\n",
       "       'travel_time_residual', 'receiver_lat', 'receiver_lon', 'receiver_elev',\n",
       "       'event_lat', 'event_lon', 'event_depth', 'origin_time', 'magnitude',\n",
       "       'magnitude_type', 'rflag', 'n_weighted_residuals', 'horizontal_error',\n",
       "       'azimuthal_gap', 'weighted_rms', 'utc'],\n",
       "      dtype='object')"
      ]
     },
     "execution_count": 9,
     "metadata": {},
     "output_type": "execute_result"
    }
   ],
   "source": [
    "ys_arrs.columns"
   ]
  },
  {
   "cell_type": "code",
   "execution_count": 11,
   "metadata": {},
   "outputs": [
    {
     "data": {
      "text/html": [
       "<div>\n",
       "<style scoped>\n",
       "    .dataframe tbody tr th:only-of-type {\n",
       "        vertical-align: middle;\n",
       "    }\n",
       "\n",
       "    .dataframe tbody tr th {\n",
       "        vertical-align: top;\n",
       "    }\n",
       "\n",
       "    .dataframe thead th {\n",
       "        text-align: right;\n",
       "    }\n",
       "</style>\n",
       "<table border=\"1\" class=\"dataframe\">\n",
       "  <thead>\n",
       "    <tr style=\"text-align: right;\">\n",
       "      <th></th>\n",
       "      <th>event_identifier</th>\n",
       "      <th>event_lat</th>\n",
       "      <th>event_lon</th>\n",
       "      <th>event_depth</th>\n",
       "      <th>origin_time</th>\n",
       "      <th>magnitude</th>\n",
       "      <th>magnitude_type</th>\n",
       "      <th>rflag</th>\n",
       "      <th>n_weighted_residuals</th>\n",
       "      <th>horizontal_error</th>\n",
       "      <th>azimuthal_gap</th>\n",
       "      <th>weighted_rms</th>\n",
       "      <th>utc</th>\n",
       "    </tr>\n",
       "  </thead>\n",
       "  <tbody>\n",
       "    <tr>\n",
       "      <th>0</th>\n",
       "      <td>50251605</td>\n",
       "      <td>44.767333</td>\n",
       "      <td>-111.128667</td>\n",
       "      <td>9.81</td>\n",
       "      <td>1.009880e+09</td>\n",
       "      <td>0.12</td>\n",
       "      <td>d</td>\n",
       "      <td>F</td>\n",
       "      <td>11.0</td>\n",
       "      <td>0.85</td>\n",
       "      <td>136.0</td>\n",
       "      <td>0.15</td>\n",
       "      <td>2002-01-01T10:05:51.940000Z</td>\n",
       "    </tr>\n",
       "    <tr>\n",
       "      <th>11</th>\n",
       "      <td>50251610</td>\n",
       "      <td>44.801667</td>\n",
       "      <td>-111.026667</td>\n",
       "      <td>6.57</td>\n",
       "      <td>1.009881e+09</td>\n",
       "      <td>0.97</td>\n",
       "      <td>d</td>\n",
       "      <td>F</td>\n",
       "      <td>15.0</td>\n",
       "      <td>0.49</td>\n",
       "      <td>149.0</td>\n",
       "      <td>0.13</td>\n",
       "      <td>2002-01-01T10:32:42.550000Z</td>\n",
       "    </tr>\n",
       "    <tr>\n",
       "      <th>26</th>\n",
       "      <td>50251615</td>\n",
       "      <td>44.804000</td>\n",
       "      <td>-111.021833</td>\n",
       "      <td>7.71</td>\n",
       "      <td>1.009881e+09</td>\n",
       "      <td>-0.14</td>\n",
       "      <td>d</td>\n",
       "      <td>F</td>\n",
       "      <td>9.0</td>\n",
       "      <td>0.64</td>\n",
       "      <td>194.0</td>\n",
       "      <td>0.13</td>\n",
       "      <td>2002-01-01T10:33:09.740000Z</td>\n",
       "    </tr>\n",
       "    <tr>\n",
       "      <th>35</th>\n",
       "      <td>50251640</td>\n",
       "      <td>44.217833</td>\n",
       "      <td>-110.388500</td>\n",
       "      <td>7.61</td>\n",
       "      <td>1.009948e+09</td>\n",
       "      <td>1.60</td>\n",
       "      <td>d</td>\n",
       "      <td>F</td>\n",
       "      <td>10.0</td>\n",
       "      <td>1.09</td>\n",
       "      <td>245.0</td>\n",
       "      <td>0.07</td>\n",
       "      <td>2002-01-02T05:02:47.450000Z</td>\n",
       "    </tr>\n",
       "    <tr>\n",
       "      <th>45</th>\n",
       "      <td>50251650</td>\n",
       "      <td>44.817000</td>\n",
       "      <td>-111.046667</td>\n",
       "      <td>7.38</td>\n",
       "      <td>1.009957e+09</td>\n",
       "      <td>0.50</td>\n",
       "      <td>d</td>\n",
       "      <td>F</td>\n",
       "      <td>12.0</td>\n",
       "      <td>0.65</td>\n",
       "      <td>217.0</td>\n",
       "      <td>0.10</td>\n",
       "      <td>2002-01-02T07:36:01.680000Z</td>\n",
       "    </tr>\n",
       "  </tbody>\n",
       "</table>\n",
       "</div>"
      ],
      "text/plain": [
       "    event_identifier  event_lat   event_lon  event_depth   origin_time  \\\n",
       "0           50251605  44.767333 -111.128667         9.81  1.009880e+09   \n",
       "11          50251610  44.801667 -111.026667         6.57  1.009881e+09   \n",
       "26          50251615  44.804000 -111.021833         7.71  1.009881e+09   \n",
       "35          50251640  44.217833 -110.388500         7.61  1.009948e+09   \n",
       "45          50251650  44.817000 -111.046667         7.38  1.009957e+09   \n",
       "\n",
       "    magnitude magnitude_type rflag  n_weighted_residuals  horizontal_error  \\\n",
       "0        0.12              d     F                  11.0              0.85   \n",
       "11       0.97              d     F                  15.0              0.49   \n",
       "26      -0.14              d     F                   9.0              0.64   \n",
       "35       1.60              d     F                  10.0              1.09   \n",
       "45       0.50              d     F                  12.0              0.65   \n",
       "\n",
       "    azimuthal_gap  weighted_rms                          utc  \n",
       "0           136.0          0.15  2002-01-01T10:05:51.940000Z  \n",
       "11          149.0          0.13  2002-01-01T10:32:42.550000Z  \n",
       "26          194.0          0.13  2002-01-01T10:33:09.740000Z  \n",
       "35          245.0          0.07  2002-01-02T05:02:47.450000Z  \n",
       "45          217.0          0.10  2002-01-02T07:36:01.680000Z  "
      ]
     },
     "execution_count": 11,
     "metadata": {},
     "output_type": "execute_result"
    }
   ],
   "source": [
    "# Event catalog made from arrivals catalog - goes from 01/01/2002 to 06/30/2022\n",
    "ys_arrs_evs = ys_arrs.drop_duplicates('evid')\n",
    "ys_arrs_evs = ys_arrs_evs.rename(columns={\"evid\":\"event_identifier\"})\n",
    "ys_arrs_evs = ys_arrs_evs[['event_identifier','event_lat', 'event_lon', 'event_depth', 'origin_time', 'magnitude',\n",
    "       'magnitude_type', 'rflag', 'n_weighted_residuals', 'horizontal_error',\n",
    "       'azimuthal_gap', 'weighted_rms', 'utc']]\n",
    "ys_arrs_evs.head()"
   ]
  },
  {
   "cell_type": "code",
   "execution_count": 12,
   "metadata": {},
   "outputs": [
    {
     "data": {
      "text/html": [
       "<div>\n",
       "<style scoped>\n",
       "    .dataframe tbody tr th:only-of-type {\n",
       "        vertical-align: middle;\n",
       "    }\n",
       "\n",
       "    .dataframe tbody tr th {\n",
       "        vertical-align: top;\n",
       "    }\n",
       "\n",
       "    .dataframe thead th {\n",
       "        text-align: right;\n",
       "    }\n",
       "</style>\n",
       "<table border=\"1\" class=\"dataframe\">\n",
       "  <thead>\n",
       "    <tr style=\"text-align: right;\">\n",
       "      <th></th>\n",
       "      <th>event_identifier</th>\n",
       "      <th>event_lat</th>\n",
       "      <th>event_lon</th>\n",
       "      <th>event_depth</th>\n",
       "      <th>origin_time</th>\n",
       "      <th>magnitude</th>\n",
       "      <th>magnitude_type</th>\n",
       "      <th>rflag</th>\n",
       "      <th>n_weighted_residuals</th>\n",
       "      <th>horizontal_error</th>\n",
       "      <th>azimuthal_gap</th>\n",
       "      <th>weighted_rms</th>\n",
       "      <th>utc</th>\n",
       "    </tr>\n",
       "  </thead>\n",
       "  <tbody>\n",
       "    <tr>\n",
       "      <th>409588</th>\n",
       "      <td>60503952</td>\n",
       "      <td>44.303333</td>\n",
       "      <td>-110.997667</td>\n",
       "      <td>8.24</td>\n",
       "      <td>1.656541e+09</td>\n",
       "      <td>1.73</td>\n",
       "      <td>d</td>\n",
       "      <td>F</td>\n",
       "      <td>NaN</td>\n",
       "      <td>NaN</td>\n",
       "      <td>NaN</td>\n",
       "      <td>NaN</td>\n",
       "      <td>2022-06-29T22:22:02.130000Z</td>\n",
       "    </tr>\n",
       "    <tr>\n",
       "      <th>409597</th>\n",
       "      <td>60503987</td>\n",
       "      <td>44.873500</td>\n",
       "      <td>-110.652000</td>\n",
       "      <td>2.16</td>\n",
       "      <td>1.656553e+09</td>\n",
       "      <td>0.91</td>\n",
       "      <td>d</td>\n",
       "      <td>F</td>\n",
       "      <td>NaN</td>\n",
       "      <td>NaN</td>\n",
       "      <td>NaN</td>\n",
       "      <td>NaN</td>\n",
       "      <td>2022-06-30T01:35:48.939998Z</td>\n",
       "    </tr>\n",
       "    <tr>\n",
       "      <th>409605</th>\n",
       "      <td>60504047</td>\n",
       "      <td>44.802667</td>\n",
       "      <td>-110.798167</td>\n",
       "      <td>7.42</td>\n",
       "      <td>1.656591e+09</td>\n",
       "      <td>0.26</td>\n",
       "      <td>d</td>\n",
       "      <td>F</td>\n",
       "      <td>NaN</td>\n",
       "      <td>NaN</td>\n",
       "      <td>NaN</td>\n",
       "      <td>NaN</td>\n",
       "      <td>2022-06-30T12:08:45.180001Z</td>\n",
       "    </tr>\n",
       "    <tr>\n",
       "      <th>409613</th>\n",
       "      <td>60504057</td>\n",
       "      <td>44.674500</td>\n",
       "      <td>-110.048833</td>\n",
       "      <td>13.44</td>\n",
       "      <td>1.656598e+09</td>\n",
       "      <td>0.83</td>\n",
       "      <td>d</td>\n",
       "      <td>F</td>\n",
       "      <td>NaN</td>\n",
       "      <td>NaN</td>\n",
       "      <td>NaN</td>\n",
       "      <td>NaN</td>\n",
       "      <td>2022-06-30T14:08:13.849999Z</td>\n",
       "    </tr>\n",
       "    <tr>\n",
       "      <th>409623</th>\n",
       "      <td>60504132</td>\n",
       "      <td>44.062333</td>\n",
       "      <td>-110.242500</td>\n",
       "      <td>12.11</td>\n",
       "      <td>1.656631e+09</td>\n",
       "      <td>1.27</td>\n",
       "      <td>d</td>\n",
       "      <td>F</td>\n",
       "      <td>NaN</td>\n",
       "      <td>NaN</td>\n",
       "      <td>NaN</td>\n",
       "      <td>NaN</td>\n",
       "      <td>2022-06-30T23:17:31.519998Z</td>\n",
       "    </tr>\n",
       "  </tbody>\n",
       "</table>\n",
       "</div>"
      ],
      "text/plain": [
       "        event_identifier  event_lat   event_lon  event_depth   origin_time  \\\n",
       "409588          60503952  44.303333 -110.997667         8.24  1.656541e+09   \n",
       "409597          60503987  44.873500 -110.652000         2.16  1.656553e+09   \n",
       "409605          60504047  44.802667 -110.798167         7.42  1.656591e+09   \n",
       "409613          60504057  44.674500 -110.048833        13.44  1.656598e+09   \n",
       "409623          60504132  44.062333 -110.242500        12.11  1.656631e+09   \n",
       "\n",
       "        magnitude magnitude_type rflag  n_weighted_residuals  \\\n",
       "409588       1.73              d     F                   NaN   \n",
       "409597       0.91              d     F                   NaN   \n",
       "409605       0.26              d     F                   NaN   \n",
       "409613       0.83              d     F                   NaN   \n",
       "409623       1.27              d     F                   NaN   \n",
       "\n",
       "        horizontal_error  azimuthal_gap  weighted_rms  \\\n",
       "409588               NaN            NaN           NaN   \n",
       "409597               NaN            NaN           NaN   \n",
       "409605               NaN            NaN           NaN   \n",
       "409613               NaN            NaN           NaN   \n",
       "409623               NaN            NaN           NaN   \n",
       "\n",
       "                                utc  \n",
       "409588  2022-06-29T22:22:02.130000Z  \n",
       "409597  2022-06-30T01:35:48.939998Z  \n",
       "409605  2022-06-30T12:08:45.180001Z  \n",
       "409613  2022-06-30T14:08:13.849999Z  \n",
       "409623  2022-06-30T23:17:31.519998Z  "
      ]
     },
     "execution_count": 12,
     "metadata": {},
     "output_type": "execute_result"
    }
   ],
   "source": [
    "ys_arrs_evs.tail()"
   ]
  },
  {
   "cell_type": "markdown",
   "metadata": {},
   "source": [
    "## The feature magnitudes are from the UUSS catalog"
   ]
  },
  {
   "cell_type": "code",
   "execution_count": 13,
   "metadata": {},
   "outputs": [],
   "source": [
    "mag_comp_df = p_feats.drop_duplicates('event_identifier')[['event_identifier', 'magnitude', 'magnitude_type']].merge(ys_arrs_evs[['event_identifier', 'magnitude', 'magnitude_type']], how='left', on='event_identifier')"
   ]
  },
  {
   "cell_type": "code",
   "execution_count": 14,
   "metadata": {},
   "outputs": [
    {
     "data": {
      "text/html": [
       "<div>\n",
       "<style scoped>\n",
       "    .dataframe tbody tr th:only-of-type {\n",
       "        vertical-align: middle;\n",
       "    }\n",
       "\n",
       "    .dataframe tbody tr th {\n",
       "        vertical-align: top;\n",
       "    }\n",
       "\n",
       "    .dataframe thead th {\n",
       "        text-align: right;\n",
       "    }\n",
       "</style>\n",
       "<table border=\"1\" class=\"dataframe\">\n",
       "  <thead>\n",
       "    <tr style=\"text-align: right;\">\n",
       "      <th></th>\n",
       "      <th>event_identifier</th>\n",
       "      <th>magnitude_x</th>\n",
       "      <th>magnitude_type_x</th>\n",
       "      <th>magnitude_y</th>\n",
       "      <th>magnitude_type_y</th>\n",
       "    </tr>\n",
       "  </thead>\n",
       "  <tbody>\n",
       "    <tr>\n",
       "      <th>0</th>\n",
       "      <td>60000622</td>\n",
       "      <td>0.83</td>\n",
       "      <td>l</td>\n",
       "      <td>0.83</td>\n",
       "      <td>l</td>\n",
       "    </tr>\n",
       "    <tr>\n",
       "      <th>1</th>\n",
       "      <td>60001352</td>\n",
       "      <td>2.06</td>\n",
       "      <td>l</td>\n",
       "      <td>2.06</td>\n",
       "      <td>l</td>\n",
       "    </tr>\n",
       "    <tr>\n",
       "      <th>2</th>\n",
       "      <td>60001357</td>\n",
       "      <td>1.97</td>\n",
       "      <td>l</td>\n",
       "      <td>1.97</td>\n",
       "      <td>l</td>\n",
       "    </tr>\n",
       "    <tr>\n",
       "      <th>3</th>\n",
       "      <td>60001367</td>\n",
       "      <td>2.03</td>\n",
       "      <td>l</td>\n",
       "      <td>2.03</td>\n",
       "      <td>l</td>\n",
       "    </tr>\n",
       "    <tr>\n",
       "      <th>4</th>\n",
       "      <td>60001372</td>\n",
       "      <td>2.52</td>\n",
       "      <td>l</td>\n",
       "      <td>2.52</td>\n",
       "      <td>l</td>\n",
       "    </tr>\n",
       "    <tr>\n",
       "      <th>...</th>\n",
       "      <td>...</td>\n",
       "      <td>...</td>\n",
       "      <td>...</td>\n",
       "      <td>...</td>\n",
       "      <td>...</td>\n",
       "    </tr>\n",
       "    <tr>\n",
       "      <th>6410</th>\n",
       "      <td>60456897</td>\n",
       "      <td>1.93</td>\n",
       "      <td>l</td>\n",
       "      <td>1.93</td>\n",
       "      <td>l</td>\n",
       "    </tr>\n",
       "    <tr>\n",
       "      <th>6411</th>\n",
       "      <td>60456907</td>\n",
       "      <td>3.03</td>\n",
       "      <td>l</td>\n",
       "      <td>3.03</td>\n",
       "      <td>l</td>\n",
       "    </tr>\n",
       "    <tr>\n",
       "      <th>6412</th>\n",
       "      <td>60461512</td>\n",
       "      <td>1.40</td>\n",
       "      <td>l</td>\n",
       "      <td>1.40</td>\n",
       "      <td>l</td>\n",
       "    </tr>\n",
       "    <tr>\n",
       "      <th>6413</th>\n",
       "      <td>60467157</td>\n",
       "      <td>1.37</td>\n",
       "      <td>l</td>\n",
       "      <td>1.37</td>\n",
       "      <td>l</td>\n",
       "    </tr>\n",
       "    <tr>\n",
       "      <th>6414</th>\n",
       "      <td>60470442</td>\n",
       "      <td>1.92</td>\n",
       "      <td>l</td>\n",
       "      <td>1.92</td>\n",
       "      <td>l</td>\n",
       "    </tr>\n",
       "  </tbody>\n",
       "</table>\n",
       "<p>6415 rows × 5 columns</p>\n",
       "</div>"
      ],
      "text/plain": [
       "      event_identifier  magnitude_x magnitude_type_x  magnitude_y  \\\n",
       "0             60000622         0.83                l         0.83   \n",
       "1             60001352         2.06                l         2.06   \n",
       "2             60001357         1.97                l         1.97   \n",
       "3             60001367         2.03                l         2.03   \n",
       "4             60001372         2.52                l         2.52   \n",
       "...                ...          ...              ...          ...   \n",
       "6410          60456897         1.93                l         1.93   \n",
       "6411          60456907         3.03                l         3.03   \n",
       "6412          60461512         1.40                l         1.40   \n",
       "6413          60467157         1.37                l         1.37   \n",
       "6414          60470442         1.92                l         1.92   \n",
       "\n",
       "     magnitude_type_y  \n",
       "0                   l  \n",
       "1                   l  \n",
       "2                   l  \n",
       "3                   l  \n",
       "4                   l  \n",
       "...               ...  \n",
       "6410                l  \n",
       "6411                l  \n",
       "6412                l  \n",
       "6413                l  \n",
       "6414                l  \n",
       "\n",
       "[6415 rows x 5 columns]"
      ]
     },
     "execution_count": 14,
     "metadata": {},
     "output_type": "execute_result"
    }
   ],
   "source": [
    "mag_comp_df"
   ]
  },
  {
   "cell_type": "code",
   "execution_count": 15,
   "metadata": {},
   "outputs": [
    {
     "data": {
      "text/plain": [
       "array([0.])"
      ]
     },
     "execution_count": 15,
     "metadata": {},
     "output_type": "execute_result"
    }
   ],
   "source": [
    "(mag_comp_df['magnitude_x'] - mag_comp_df['magnitude_y']).unique()"
   ]
  },
  {
   "cell_type": "code",
   "execution_count": 16,
   "metadata": {},
   "outputs": [
    {
     "data": {
      "text/plain": [
       "True"
      ]
     },
     "execution_count": 16,
     "metadata": {},
     "output_type": "execute_result"
    }
   ],
   "source": [
    "np.array_equal(mag_comp_df['magnitude_x'], mag_comp_df['magnitude_y'])"
   ]
  },
  {
   "cell_type": "markdown",
   "metadata": {},
   "source": [
    "# Get feature catalog dates"
   ]
  },
  {
   "cell_type": "code",
   "execution_count": 28,
   "metadata": {},
   "outputs": [
    {
     "data": {
      "text/plain": [
       "array([['2012-10-07T00:32:04.740000Z', 1349569924.74],\n",
       "       ['2021-12-31T20:05:50.239998Z', 1640981150.24]], dtype=object)"
      ]
     },
     "execution_count": 28,
     "metadata": {},
     "output_type": "execute_result"
    }
   ],
   "source": [
    "ys_arrs_evs[ys_arrs_evs['event_identifier'].isin(p_feats['event_identifier'].iloc[[0, -1]].values)][['utc', 'origin_time']].values"
   ]
  },
  {
   "cell_type": "code",
   "execution_count": 35,
   "metadata": {},
   "outputs": [
    {
     "data": {
      "text/plain": [
       "datetime.datetime(2012, 10, 7, 0, 32, 4, 740000, tzinfo=datetime.timezone.utc)"
      ]
     },
     "execution_count": 35,
     "metadata": {},
     "output_type": "execute_result"
    }
   ],
   "source": [
    "# How to convert epoch time to utc with datetime\n",
    "datetime.fromtimestamp(1349569924.74, tz=timezone.utc)"
   ]
  },
  {
   "cell_type": "code",
   "execution_count": 37,
   "metadata": {},
   "outputs": [
    {
     "data": {
      "text/plain": [
       "1349569924.74"
      ]
     },
     "execution_count": 37,
     "metadata": {},
     "output_type": "execute_result"
    }
   ],
   "source": [
    "# How to convert utc time to epoch time\n",
    "datetime(2012, 10, 7, 0, 32, 4, 740000, tzinfo=timezone.utc).timestamp()"
   ]
  },
  {
   "cell_type": "markdown",
   "metadata": {},
   "source": [
    "# Look at catalog info for part of 2022"
   ]
  },
  {
   "cell_type": "code",
   "execution_count": 40,
   "metadata": {},
   "outputs": [],
   "source": [
    "unix2022 = datetime(2022, 1, 1, tzinfo=timezone.utc).timestamp()"
   ]
  },
  {
   "cell_type": "code",
   "execution_count": 49,
   "metadata": {},
   "outputs": [
    {
     "name": "stdout",
     "output_type": "stream",
     "text": [
      "787\n",
      "182\n"
     ]
    }
   ],
   "source": [
    "# There are 787 YS events between 2022/01/01 and 2022/07/01 but only 182 with an M_L. Can still get new M_L for those events though\n",
    "print(len(ys_arrs_evs[(ys_arrs_evs['origin_time'] > unix2022)]))\n",
    "print(len(ys_arrs_evs[(ys_arrs_evs['origin_time'] > unix2022) & (ys_arrs_evs['magnitude_type'] == \"l\")]))"
   ]
  },
  {
   "cell_type": "code",
   "execution_count": 44,
   "metadata": {},
   "outputs": [
    {
     "data": {
      "image/png": "[encoded data removed]",
      "text/plain": [
       "<IPython.core.display.Image object>"
      ]
     },
     "metadata": {
      "image/png": {
       "width": 500
      }
     },
     "output_type": "display_data"
    }
   ],
   "source": [
    "#Draw event map \n",
    "region = [\n",
    "ys_arrs_evs[ys_arrs_evs['origin_time'] > unix2022].event_lon.min() - 0.05,\n",
    "ys_arrs_evs[ys_arrs_evs['origin_time'] > unix2022].event_lon.max() + 0.05,\n",
    "ys_arrs_evs[ys_arrs_evs['origin_time'] > unix2022].event_lat.min() - 0.05,\n",
    "ys_arrs_evs[ys_arrs_evs['origin_time'] > unix2022].event_lat.max() + 0.05,\n",
    "]\n",
    "\n",
    "fig = pygmt.Figure()\n",
    "fig.basemap(region=region, projection=\"M10c\", frame=True)\n",
    "fig.coast(land=\"white\", borders=2, water=\"skyblue\")\n",
    "fig.plot(data=ys_arrs_evs[ys_arrs_evs['origin_time'] > unix2022][['event_lon', 'event_lat']], style=\"c0.1c\")\n",
    "fig.show()"
   ]
  },
  {
   "cell_type": "code",
   "execution_count": 60,
   "metadata": {},
   "outputs": [
    {
     "data": {
      "image/png": "[encoded data removed]",
      "text/plain": [
       "<Figure size 640x480 with 1 Axes>"
      ]
     },
     "metadata": {},
     "output_type": "display_data"
    }
   ],
   "source": [
    "times = ys_arrs_evs[ys_arrs_evs['origin_time'] > unix2022].apply(lambda x: datetime.fromtimestamp(x['origin_time'], tz=timezone.utc), axis=1)\n",
    "fig, ax = plt.subplots(1)\n",
    "ax.scatter(times, ys_arrs_evs[ys_arrs_evs['origin_time'] >  unix2022]['magnitude'], s=10.0, alpha=0.6)\n",
    "ax.xaxis_date()"
   ]
  },
  {
   "cell_type": "code",
   "execution_count": 61,
   "metadata": {},
   "outputs": [
    {
     "data": {
      "image/png": "[encoded data removed]",
      "text/plain": [
       "<Figure size 640x480 with 1 Axes>"
      ]
     },
     "metadata": {},
     "output_type": "display_data"
    }
   ],
   "source": [
    "times = ys_arrs_evs[(ys_arrs_evs['origin_time'] > unix2022) & (ys_arrs_evs['magnitude_type'] == 'l')].apply(lambda x: datetime.fromtimestamp(x['origin_time'], tz=timezone.utc), axis=1)\n",
    "fig, ax = plt.subplots(1)\n",
    "ax.scatter(times, ys_arrs_evs[(ys_arrs_evs['origin_time'] > unix2022) & (ys_arrs_evs['magnitude_type'] == 'l')]['magnitude'], s=10.0, alpha=0.6)\n",
    "ax.xaxis_date()"
   ]
  },
  {
   "cell_type": "markdown",
   "metadata": {},
   "source": [
    "## Grizzly Lake Area"
   ]
  },
  {
   "cell_type": "code",
   "execution_count": 48,
   "metadata": {},
   "outputs": [
    {
     "data": {
      "image/png": "[encoded data removed]",
      "text/plain": [
       "<IPython.core.display.Image object>"
      ]
     },
     "metadata": {
      "image/png": {
       "width": 500
      }
     },
     "output_type": "display_data"
    }
   ],
   "source": [
    "#Draw event map \n",
    "gl_region = [\n",
    "-110.850,\n",
    "-110.73,\n",
    "44.73,\n",
    "44.86,\n",
    "]\n",
    "\n",
    "fig = pygmt.Figure()\n",
    "fig.basemap(region=gl_region, projection=\"M10c\", frame=True)\n",
    "fig.coast(land=\"white\", borders=2, water=\"skyblue\")\n",
    "fig.plot(data=ys_arrs_evs[ys_arrs_evs['origin_time'] > unix2022][['event_lon', 'event_lat']], style=\"c0.1c\")\n",
    "fig.show()"
   ]
  },
  {
   "cell_type": "code",
   "execution_count": 62,
   "metadata": {},
   "outputs": [],
   "source": [
    "gl_evs = ys_arrs_evs[(ys_arrs_evs.event_lon >= gl_region[0]) & (ys_arrs_evs.event_lon <= gl_region[1]) & \n",
    "                     (ys_arrs_evs.event_lat >= gl_region[2]) & (ys_arrs_evs.event_lat <= gl_region[3])]"
   ]
  },
  {
   "cell_type": "code",
   "execution_count": 71,
   "metadata": {},
   "outputs": [
    {
     "data": {
      "image/png": "[encoded data removed]",
      "text/plain": [
       "<Figure size 640x480 with 1 Axes>"
      ]
     },
     "metadata": {},
     "output_type": "display_data"
    }
   ],
   "source": [
    "times = gl_evs[gl_evs['origin_time'] > unix2022].apply(lambda x: datetime.fromtimestamp(x['origin_time'], tz=timezone.utc), axis=1)\n",
    "fig, ax = plt.subplots(1)\n",
    "ax.scatter(times, gl_evs[gl_evs['origin_time'] > unix2022]['magnitude'], s=10.0, alpha=0.6)\n",
    "ax.xaxis_date()"
   ]
  },
  {
   "cell_type": "code",
   "execution_count": 74,
   "metadata": {},
   "outputs": [
    {
     "data": {
      "image/png": "[encoded data removed]",
      "text/plain": [
       "<Figure size 640x480 with 1 Axes>"
      ]
     },
     "metadata": {},
     "output_type": "display_data"
    }
   ],
   "source": [
    "times = gl_evs[(gl_evs['origin_time'] >= datetime(2022, 6, 1, tzinfo=timezone.utc).timestamp()) & \n",
    "               (gl_evs['origin_time'] < datetime(2022, 7, 1, tzinfo=timezone.utc).timestamp())].apply(lambda x: datetime.fromtimestamp(x['origin_time'], tz=timezone.utc), axis=1)\n",
    "fig, ax = plt.subplots(1)\n",
    "ax.scatter(times, gl_evs[(gl_evs['origin_time'] >= datetime(2022, 6, 1, tzinfo=timezone.utc).timestamp()) & \n",
    "                            (gl_evs['origin_time'] < datetime(2022, 7, 1, tzinfo=timezone.utc).timestamp())]['magnitude'], s=10.0, alpha=0.6)\n",
    "ax.xaxis_date()\n",
    "fig.autofmt_xdate()"
   ]
  },
  {
   "cell_type": "code",
   "execution_count": 73,
   "metadata": {},
   "outputs": [
    {
     "data": {
      "text/plain": [
       "(46, 13)"
      ]
     },
     "execution_count": 73,
     "metadata": {},
     "output_type": "execute_result"
    }
   ],
   "source": [
    "gl_evs[(gl_evs.origin_time > datetime(2022, 6, 11, tzinfo=timezone.utc).timestamp()) & (gl_evs.origin_time < datetime(2022, 6, 13, tzinfo=timezone.utc).timestamp())].shape"
   ]
  },
  {
   "cell_type": "code",
   "execution_count": null,
   "metadata": {},
   "outputs": [],
   "source": []
  }
 ],
 "metadata": {
  "kernelspec": {
   "display_name": "featmags",
   "language": "python",
   "name": "python3"
  },
  "language_info": {
   "codemirror_mode": {
    "name": "ipython",
    "version": 3
   },
   "file_extension": ".py",
   "mimetype": "text/x-python",
   "name": "python",
   "nbconvert_exporter": "python",
   "pygments_lexer": "ipython3",
   "version": "3.12.0"
  }
 },
 "nbformat": 4,
 "nbformat_minor": 2
}
