{
 "cells": [
  {
   "cell_type": "code",
   "execution_count": 2,
   "metadata": {},
   "outputs": [],
   "source": [
    "import numpy as np\n",
    "import pandas as pd\n",
    "from sklearn.base import clone \n",
    "from sklearn.preprocessing import StandardScaler\n",
    "from sklearn.svm import SVR\n",
    "from sklearn.tree import DecisionTreeRegressor\n",
    "from sklearn.ensemble import RandomForestRegressor, GradientBoostingRegressor\n",
    "from sklearn.model_selection import RepeatedKFold, KFold, GridSearchCV\n",
    "from sklearn.metrics import r2_score\n",
    "from sklearn.feature_selection import RFE, SelectKBest, mutual_info_regression\n",
    "import matplotlib.pyplot as plt\n",
    "import time\n",
    "import json\n",
    "import sys\n",
    "import os\n",
    "# make paths above 'notebooks/' visible for local imports.\n",
    "# +----------------------------------------------------------------------------+\n",
    "module_path = os.path.abspath(os.path.join('..'))\n",
    "if module_path not in sys.path:\n",
    "    sys.path.append(module_path)\n",
    "\n",
    "from src.processing import GatherFeatureDatasets\n",
    "from src.utils import CrossValidation\n",
    "from src.feature_selection import CustomRFECV\n",
    "from src.feature_selection import IntrinsicFeatureSelection as ifs\n",
    "from src.plotting import plot_pairwise_correlations"
   ]
  },
  {
   "cell_type": "markdown",
   "metadata": {},
   "source": [
    "# Load in the data"
   ]
  },
  {
   "cell_type": "code",
   "execution_count": 3,
   "metadata": {},
   "outputs": [],
   "source": [
    "proc = GatherFeatureDatasets(is_p=True)"
   ]
  },
  {
   "cell_type": "code",
   "execution_count": 4,
   "metadata": {},
   "outputs": [],
   "source": [
    "data_dir = '/uufs/chpc.utah.edu/common/home/koper-group3/alysha/magnitudes/feature_splits'\n",
    "all_train_df = pd.read_csv(f'{data_dir}/p.train.csv')"
   ]
  },
  {
   "cell_type": "code",
   "execution_count": 5,
   "metadata": {},
   "outputs": [
    {
     "name": "stdout",
     "output_type": "stream",
     "text": [
      "YUF\n",
      "X shape: (1676, 45), y shape: (1676,)\n"
     ]
    }
   ],
   "source": [
    "# Use station YUF for experimenting with models because it has 1433 training examples, \n",
    "# which is ~half as much as YNR, so training should go faster. But should still be enough \n",
    "# examples for training good models. It is also one of the stations with a \n",
    "# UUSS correction, so already used for magnitude calculations and amplitudes should be good quality. \n",
    "stat = \"YUF\"\n",
    "station_feature_dict_rel, station_meta_dict_rel, feature_names_rel = proc.process_station_datasets(stat, \n",
    "                                                                                        all_train_df,\n",
    "                                                                                        scaler=False,\n",
    "                                                                                        linear_model=False,\n",
    "                                                                                        source_dist_type='dist')"
   ]
  },
  {
   "cell_type": "code",
   "execution_count": 7,
   "metadata": {},
   "outputs": [
    {
     "name": "stdout",
     "output_type": "stream",
     "text": [
      "YUF\n",
      "X shape: (1676, 45), y shape: (1676,)\n"
     ]
    }
   ],
   "source": [
    "station_feature_dict_abs, station_meta_dict_abs, feature_names_abs = proc.process_station_datasets(stat, \n",
    "                                                                                        all_train_df,\n",
    "                                                                                        scaler=False,\n",
    "                                                                                        linear_model=False,\n",
    "                                                                                        source_dist_type='coord')"
   ]
  },
  {
   "cell_type": "code",
   "execution_count": 8,
   "metadata": {},
   "outputs": [
    {
     "data": {
      "text/plain": [
       "array(['amp_ratio_1', 'amp_ratio_2', 'amp_ratio_3', 'amp_ratio_4',\n",
       "       'amp_ratio_5', 'amp_ratio_6', 'amp_ratio_7', 'amp_ratio_8',\n",
       "       'amp_ratio_9', 'amp_ratio_10', 'amp_ratio_11', 'amp_ratio_12',\n",
       "       'amp_ratio_13', 'amp_ratio_14', 'amp_ratio_15', 'amp_ratio_16',\n",
       "       'amp_ratio_17', 'amp_ratio_18', 'amp_1', 'amp_2', 'amp_3', 'amp_4',\n",
       "       'amp_5', 'amp_6', 'amp_7', 'amp_8', 'amp_9', 'amp_10', 'amp_11',\n",
       "       'amp_12', 'amp_13', 'amp_14', 'amp_15', 'amp_16', 'amp_17',\n",
       "       'amp_18', 'signal_dominant_frequency', 'signal_dominant_amplitude',\n",
       "       'noise_max_amplitude', 'signal_max_amplitude', 'signal_variance',\n",
       "       'noise_variance', 'source_depth_km',\n",
       "       'source_receiver_distance_logkm',\n",
       "       'source_receiver_back_azimuth_deg'], dtype='<U32')"
      ]
     },
     "execution_count": 8,
     "metadata": {},
     "output_type": "execute_result"
    }
   ],
   "source": [
    "feature_names_rel"
   ]
  },
  {
   "cell_type": "code",
   "execution_count": 9,
   "metadata": {},
   "outputs": [
    {
     "data": {
      "text/plain": [
       "array(['amp_ratio_1', 'amp_ratio_2', 'amp_ratio_3', 'amp_ratio_4',\n",
       "       'amp_ratio_5', 'amp_ratio_6', 'amp_ratio_7', 'amp_ratio_8',\n",
       "       'amp_ratio_9', 'amp_ratio_10', 'amp_ratio_11', 'amp_ratio_12',\n",
       "       'amp_ratio_13', 'amp_ratio_14', 'amp_ratio_15', 'amp_ratio_16',\n",
       "       'amp_ratio_17', 'amp_ratio_18', 'amp_1', 'amp_2', 'amp_3', 'amp_4',\n",
       "       'amp_5', 'amp_6', 'amp_7', 'amp_8', 'amp_9', 'amp_10', 'amp_11',\n",
       "       'amp_12', 'amp_13', 'amp_14', 'amp_15', 'amp_16', 'amp_17',\n",
       "       'amp_18', 'signal_dominant_frequency', 'signal_dominant_amplitude',\n",
       "       'noise_max_amplitude', 'signal_max_amplitude', 'signal_variance',\n",
       "       'noise_variance', 'source_depth_km', 'source_latitude',\n",
       "       'source_longitude'], dtype='<U25')"
      ]
     },
     "execution_count": 9,
     "metadata": {},
     "output_type": "execute_result"
    }
   ],
   "source": [
    "feature_names_abs"
   ]
  },
  {
   "cell_type": "code",
   "execution_count": 10,
   "metadata": {},
   "outputs": [],
   "source": [
    "X_rel = station_feature_dict_rel['X_train']\n",
    "y_rel = station_meta_dict_rel['y_train']"
   ]
  },
  {
   "cell_type": "code",
   "execution_count": 11,
   "metadata": {},
   "outputs": [],
   "source": [
    "X_abs = station_feature_dict_abs['X_train']\n",
    "y_abs = station_meta_dict_abs['y_train']"
   ]
  },
  {
   "cell_type": "markdown",
   "metadata": {},
   "source": [
    "# Use RFECV to select N with different estimator models"
   ]
  },
  {
   "cell_type": "code",
   "execution_count": 12,
   "metadata": {},
   "outputs": [],
   "source": [
    "### Set Parameters ###\n",
    "cv_random_state=2652124\n",
    "# The model to used to estimate feature importance \n",
    "# estimator_model =  DecisionTreeRegressor()\n",
    "# # Boolean - True if data for estimator_model needs to be scaled\n",
    "# estimator_scaler = False\n",
    "# The main model to fit\n",
    "predictor_model = SVR(kernel='rbf')\n",
    "# Boolean - True if data for model needs to be scaled \n",
    "model_scaler = True\n",
    "# The scoring method to use in RFECV and GridCV\n",
    "scoring_method = 'r2'\n",
    "# The function used to evaluate the performance on the test model\n",
    "score_func = r2_score\n",
    "# True if a larger score_func value is better\n",
    "larger_score_is_better = True\n",
    "# The parameter space for GridCV to search\n",
    "# Decrease upper-limit of C for linear model because 100 is very slow \n",
    "svr_Cspace = [1, 10, 100]\n",
    "svr_gspace = [0.1, 0.01, 0.001]\n",
    "param_grid = [\n",
    "    {'m__C': svr_Cspace, 'm__gamma': svr_gspace},\n",
    "]\n",
    "# The number of jobs for RFECV and GridCV to use\n",
    "n_jobs = 10\n",
    "# number of folds for outer CV\n",
    "cv_folds_outer = 10\n",
    "# number of times to repeat outer CV\n",
    "n_outer_repeats = 1\n",
    "# number of folds for inner CV (used for hyperparameter tuning)\n",
    "cv_folds_inner = 5\n",
    "# number of folds for the final hyperparameter grid search\n",
    "cv_folds_hp = 10\n",
    "# Run grid search over all features\n",
    "run_gridsearchcv_all = True\n",
    "\n",
    "### Intrisic feature selection information \n",
    "# Function that takes in X, y, list of np arrays containing \n",
    "# the indices of features to filter, and K features to select\n",
    "if_feat_inds = [np.arange(0, 18), np.arange(18, 36)]\n",
    "if_K = 5\n",
    "#####################"
   ]
  },
  {
   "cell_type": "code",
   "execution_count": 13,
   "metadata": {},
   "outputs": [],
   "source": [
    "estimator_models = [DecisionTreeRegressor(), RandomForestRegressor(), GradientBoostingRegressor(), SVR(kernel='linear')]\n",
    "estimator_scalers = [False, False, False, True]"
   ]
  },
  {
   "cell_type": "code",
   "execution_count": 14,
   "metadata": {},
   "outputs": [
    {
     "name": "stdout",
     "output_type": "stream",
     "text": [
      "DecisionTreeRegressor Estimator Scaler: False\n",
      "reducing features to 19\n",
      "Fold 0: N=9, test_score=0.897\n",
      "reducing features to 19\n",
      "Fold 1: N=10, test_score=0.896\n",
      "reducing features to 19\n",
      "Fold 2: N=7, test_score=0.907\n",
      "reducing features to 19\n",
      "Fold 3: N=7, test_score=0.903\n",
      "reducing features to 19\n",
      "Fold 4: N=6, test_score=0.920\n",
      "reducing features to 19\n",
      "Fold 5: N=13, test_score=0.912\n",
      "reducing features to 19\n",
      "Fold 6: N=8, test_score=0.904\n",
      "reducing features to 19\n",
      "Fold 7: N=12, test_score=0.924\n",
      "reducing features to 19\n",
      "Fold 8: N=12, test_score=0.907\n",
      "reducing features to 19\n",
      "Fold 9: N=15, test_score=0.898\n",
      "total time: 611.53 s\n",
      "Selected number of features: 16 (avg. score of 0.90)\n",
      "RandomForestRegressor Estimator Scaler: False\n",
      "reducing features to 19\n",
      "Fold 0: N=7, test_score=0.924\n",
      "reducing features to 19\n",
      "Fold 1: N=16, test_score=0.892\n",
      "reducing features to 19\n",
      "Fold 2: N=7, test_score=0.902\n",
      "reducing features to 19\n",
      "Fold 3: N=8, test_score=0.907\n",
      "reducing features to 19\n",
      "Fold 4: N=6, test_score=0.920\n",
      "reducing features to 19\n",
      "Fold 5: N=14, test_score=0.917\n",
      "reducing features to 19\n",
      "Fold 6: N=8, test_score=0.903\n",
      "reducing features to 19\n",
      "Fold 7: N=15, test_score=0.928\n",
      "reducing features to 19\n",
      "Fold 8: N=7, test_score=0.911\n",
      "reducing features to 19\n",
      "Fold 9: N=17, test_score=0.895\n",
      "total time: 4017.63 s\n",
      "Selected number of features: 6 (avg. score of 0.90)\n",
      "GradientBoostingRegressor Estimator Scaler: False\n",
      "reducing features to 19\n",
      "Fold 0: N=6, test_score=0.918\n",
      "reducing features to 19\n",
      "Fold 1: N=15, test_score=0.893\n",
      "reducing features to 19\n",
      "Fold 2: N=6, test_score=0.899\n",
      "reducing features to 19\n",
      "Fold 3: N=7, test_score=0.908\n",
      "reducing features to 19\n",
      "Fold 4: N=6, test_score=0.920\n",
      "reducing features to 19\n",
      "Fold 5: N=13, test_score=0.916\n",
      "reducing features to 19\n",
      "Fold 6: N=13, test_score=0.899\n",
      "reducing features to 19\n",
      "Fold 7: N=6, test_score=0.924\n",
      "reducing features to 19\n",
      "Fold 8: N=6, test_score=0.902\n",
      "reducing features to 19\n",
      "Fold 9: N=15, test_score=0.895\n",
      "total time: 1884.58 s\n",
      "Selected number of features: 6 (avg. score of 0.90)\n",
      "SVR Estimator Scaler: True\n",
      "reducing features to 19\n",
      "Fold 0: N=18, test_score=0.893\n",
      "reducing features to 19\n",
      "Fold 1: N=18, test_score=0.880\n",
      "reducing features to 19\n",
      "Fold 2: N=18, test_score=0.886\n",
      "reducing features to 19\n",
      "Fold 3: N=17, test_score=0.895\n",
      "reducing features to 19\n",
      "Fold 4: N=15, test_score=0.903\n",
      "reducing features to 19\n",
      "Fold 5: N=12, test_score=0.913\n",
      "reducing features to 19\n",
      "Fold 6: N=14, test_score=0.890\n",
      "reducing features to 19\n",
      "Fold 7: N=19, test_score=0.918\n",
      "reducing features to 19\n",
      "Fold 8: N=17, test_score=0.912\n",
      "reducing features to 19\n",
      "Fold 9: N=16, test_score=0.895\n",
      "total time: 1892.49 s\n",
      "Selected number of features: 17 (avg. score of 0.89)\n"
     ]
    }
   ],
   "source": [
    "estimator_rfe_results_abs = {}\n",
    "for i in range(len(estimator_models)):\n",
    "  estimator_model = estimator_models[i]\n",
    "  estimator_scaler = estimator_scalers[i]\n",
    "  mname = type(estimator_model).__name__\n",
    "  print(mname, 'Estimator Scaler:', estimator_scaler)\n",
    "  feat_selection_results = CustomRFECV.do_rfecv(X_abs,\n",
    "                                                y_abs,\n",
    "                                              estimator_model,\n",
    "                                              predictor_model,\n",
    "                                              param_grid,\n",
    "                                              estimator_scaler=estimator_scaler,\n",
    "                                              predictor_scaler=model_scaler,\n",
    "                                              score_func=score_func,\n",
    "                                              scoring_method=scoring_method,\n",
    "                                              n_jobs=n_jobs,\n",
    "                                              cv_folds_outer=cv_folds_outer,\n",
    "                                              cv_folds_inner=cv_folds_inner,\n",
    "                                              n_outer_repeats=n_outer_repeats,\n",
    "                                              cv_random_state=cv_random_state,\n",
    "                                              larger_score_is_better=larger_score_is_better,\n",
    "                                              intrinsic_filter_func=ifs.MI_filter_func,\n",
    "                                              feature_inds_to_filter=if_feat_inds,\n",
    "                                              intrinsic_filter_K=if_K\n",
    "                                              )\n",
    "  estimator_rfe_results_abs[mname] = feat_selection_results"
   ]
  },
  {
   "cell_type": "code",
   "execution_count": 15,
   "metadata": {},
   "outputs": [],
   "source": [
    "import json\n",
    "from src.utils import NumpyEncoder\n",
    "outpath = '/uufs/chpc.utah.edu/common/home/koper-group3/alysha/magnitudes/feature_selection/experiment_YUF'\n",
    "outfile = 'rfecv.absDist.estimators.json'\n",
    "with open(os.path.join(outpath, outfile), 'w') as fp:\n",
    "    json.dump(estimator_rfe_results_abs, fp, indent=4, cls=NumpyEncoder)"
   ]
  },
  {
   "cell_type": "code",
   "execution_count": 17,
   "metadata": {},
   "outputs": [],
   "source": [
    "def select_N_one_standard_error(N_avgs):\n",
    "    max_val = np.max(N_avgs)\n",
    "    ste = np.std(N_avgs)/np.sqrt(len(N_avgs))\n",
    "    selected_N_ind = np.min(np.where((max_val - N_avgs) < ste))\n",
    "    return selected_N_ind+1"
   ]
  },
  {
   "cell_type": "code",
   "execution_count": 19,
   "metadata": {},
   "outputs": [],
   "source": [
    "for key in estimator_rfe_results_abs.keys():\n",
    "    N_avgs = np.average(estimator_rfe_results_abs[key]['N_scores'], axis=0)\n",
    "    estimator_rfe_results_abs[key]['oste_N'] = select_N_one_standard_error(N_avgs)"
   ]
  },
  {
   "cell_type": "code",
   "execution_count": 24,
   "metadata": {},
   "outputs": [
    {
     "data": {
      "text/plain": [
       "Text(0.02, 0.5, '$R^2$')"
      ]
     },
     "execution_count": 24,
     "metadata": {},
     "output_type": "execute_result"
    },
    {
     "data": {
      "image/png": "[encoded data removed]",
      "text/plain": [
       "<Figure size 640x480 with 4 Axes>"
      ]
     },
     "metadata": {},
     "output_type": "display_data"
    }
   ],
   "source": [
    "fig, axes = plt.subplots(2, 2, constrained_layout=True)\n",
    "axes = axes.flatten()\n",
    "for i, key in enumerate(estimator_rfe_results_abs.keys()):\n",
    "    model_results = estimator_rfe_results_abs[key]\n",
    "    full_score_array = model_results['N_scores']\n",
    "    N_avgs = np.average(full_score_array, axis=0)\n",
    "    N_min = np.min(full_score_array, axis=0)\n",
    "    N_max = np.max(full_score_array, axis=0)\n",
    "    N_feats_to_use = model_results['best_N']\n",
    "    oste_N = model_results['oste_N']\n",
    "    x = np.arange(N_avgs.shape[0])+1\n",
    "    axes[i].fill_between(x, N_min, N_max, alpha=0.5, label='CV min., max.')\n",
    "    axes[i].scatter(x, N_avgs, color='C0', label='CV avg.')\n",
    "    axes[i].scatter(N_feats_to_use, N_avgs[N_feats_to_use-1], marker=\"^\", color='r', label='selected N')\n",
    "    axes[i].scatter(oste_N, N_avgs[oste_N-1], marker=\"x\", color='purple', label='1-STE N')    \n",
    "    axes[i].set_title(key, fontsize=8)\n",
    "    #axes[i].grid()\n",
    "\n",
    "axes[i].legend(loc='lower right')\n",
    "\n",
    "fig.supxlabel(\"N features\")\n",
    "fig.supylabel(\"$R^2$\")"
   ]
  },
  {
   "cell_type": "markdown",
   "metadata": {},
   "source": [
    "## Use the selected N values (OSTE and Best) on the entire training set"
   ]
  },
  {
   "cell_type": "code",
   "execution_count": 72,
   "metadata": {},
   "outputs": [
    {
     "name": "stdout",
     "output_type": "stream",
     "text": [
      "['amp_ratio_7' 'amp_ratio_6' 'amp_ratio_4' 'amp_ratio_5' 'amp_ratio_2'] ['amp_1' 'amp_2' 'amp_4' 'amp_3' 'amp_7']\n",
      "(1676, 19)\n"
     ]
    }
   ],
   "source": [
    "# Filter the entire training dataset using MI and the same parameters used in CV\n",
    "mi_selected_features, mi_filtered_feature_inds = ifs.MI_filter_func(X_abs, \n",
    "                                                                    y_abs, \n",
    "                                                                    if_feat_inds, \n",
    "                                                                    if_K)\n",
    "print(feature_names_abs[mi_selected_features[0]], feature_names_abs[mi_selected_features[1]])\n",
    "X_mi = X_abs[:, mi_filtered_feature_inds]\n",
    "print(X_mi.shape)"
   ]
  },
  {
   "cell_type": "code",
   "execution_count": 73,
   "metadata": {},
   "outputs": [
    {
     "data": {
      "text/plain": [
       "array(['amp_ratio_2', 'amp_ratio_4', 'amp_ratio_5', 'amp_ratio_6',\n",
       "       'amp_ratio_7', 'amp_1', 'amp_2', 'amp_3', 'amp_4', 'amp_7',\n",
       "       'signal_dominant_frequency', 'signal_dominant_amplitude',\n",
       "       'noise_max_amplitude', 'signal_max_amplitude', 'signal_variance',\n",
       "       'noise_variance', 'source_depth_km', 'source_latitude',\n",
       "       'source_longitude'], dtype='<U25')"
      ]
     },
     "execution_count": 73,
     "metadata": {},
     "output_type": "execute_result"
    }
   ],
   "source": [
    "feature_names_abs[mi_filtered_feature_inds]"
   ]
  },
  {
   "cell_type": "code",
   "execution_count": 74,
   "metadata": {},
   "outputs": [
    {
     "data": {
      "text/plain": [
       "array([17])"
      ]
     },
     "execution_count": 74,
     "metadata": {},
     "output_type": "execute_result"
    }
   ],
   "source": [
    "np.unique([estimator_rfe_results_abs[key]['best_N'], estimator_rfe_results_abs[key]['oste_N']])"
   ]
  },
  {
   "cell_type": "code",
   "execution_count": 75,
   "metadata": {},
   "outputs": [
    {
     "name": "stdout",
     "output_type": "stream",
     "text": [
      "DecisionTreeRegressor Estimator Scaler: False\n",
      "[ 5 16]\n"
     ]
    },
    {
     "name": "stdout",
     "output_type": "stream",
     "text": [
      "5: CV Mean: 0.88, CV STD: 0.02\n",
      "16: CV Mean: 0.89, CV STD: 0.02\n",
      "RandomForestRegressor Estimator Scaler: False\n",
      "[5 6]\n",
      "5: CV Mean: 0.88, CV STD: 0.02\n",
      "6: CV Mean: 0.90, CV STD: 0.02\n",
      "GradientBoostingRegressor Estimator Scaler: False\n",
      "[6]\n",
      "6: CV Mean: 0.90, CV STD: 0.02\n",
      "SVR Estimator Scaler: True\n",
      "[17]\n",
      "17: CV Mean: 0.90, CV STD: 0.01\n"
     ]
    }
   ],
   "source": [
    "# Set up SVR hyperparameter grid search\n",
    "# If this isn't reran when the feature selection is reran then\n",
    "# the results may be slightly different\n",
    "hp_grid_search, hp_cv = CrossValidation.setup_cv(predictor_model, \n",
    "                                                param_grid, \n",
    "                                                model_scaler=model_scaler, \n",
    "                                                scoring_method=scoring_method, \n",
    "                                                n_jobs=n_jobs, \n",
    "                                                cv_folds=cv_folds_outer, \n",
    "                                                cv_random_state=cv_random_state, \n",
    "                                                refit_model=False)\n",
    "full_estimator_rfe_results_abs = {}\n",
    "for i in range(len(estimator_models)):\n",
    "    estimator_model = estimator_models[i]\n",
    "    estimator_scaler = estimator_scalers[i]\n",
    "    mname = type(estimator_model).__name__\n",
    "    print(mname, 'Estimator Scaler:', estimator_scaler)\n",
    "    estimator_pipeline = CrossValidation.make_simple_pipeline(estimator_model, \n",
    "                                                          estimator_scaler)\n",
    "    N_feats_to_use = np.unique([estimator_rfe_results_abs[mname]['best_N'], \n",
    "                                estimator_rfe_results_abs[mname]['oste_N']])\n",
    "    print(N_feats_to_use)\n",
    "    N_results = {}\n",
    "    for N_i in N_feats_to_use:\n",
    "        fselector, gs_results, _ = CustomRFECV.custom_rfe(X_mi, \n",
    "                                                        y_abs,\n",
    "                                                        estimator_pipeline,\n",
    "                                                        N_i,\n",
    "                                                        hp_grid_search)\n",
    "        cv_mean, cv_std, params = CrossValidation.get_gridsearchcv_best_results(gs_results)\n",
    "        print(f'{N_i}: CV Mean: {cv_mean:0.2f}, CV STD: {cv_std:0.2f}')\n",
    "        N_results[str(N_i)] = {'selected_feature_inds':mi_filtered_feature_inds[fselector.support_],\n",
    "                          'pred_cv_mean':cv_mean,\n",
    "                          'pred_cv_std':cv_std,\n",
    "                          'pre_cv_params':params}\n",
    "    full_estimator_rfe_results_abs[mname] = N_results"
   ]
  },
  {
   "cell_type": "code",
   "execution_count": 76,
   "metadata": {},
   "outputs": [
    {
     "name": "stdout",
     "output_type": "stream",
     "text": [
      "DecisionTreeRegressor 5 0.88 ['amp_1' 'amp_2' 'signal_variance' 'source_latitude' 'source_longitude']\n",
      "RandomForestRegressor 5 0.88 ['amp_1' 'amp_2' 'amp_7' 'source_latitude' 'source_longitude']\n",
      "GradientBoostingRegressor 6 0.90 ['amp_1' 'amp_2' 'amp_7' 'source_depth_km' 'source_latitude'\n",
      " 'source_longitude']\n",
      "SVR 17 0.90 ['amp_ratio_4' 'amp_ratio_5' 'amp_ratio_6' 'amp_ratio_7' 'amp_1' 'amp_2'\n",
      " 'amp_3' 'amp_4' 'amp_7' 'signal_dominant_amplitude' 'noise_max_amplitude'\n",
      " 'signal_max_amplitude' 'signal_variance' 'noise_variance'\n",
      " 'source_depth_km' 'source_latitude' 'source_longitude']\n"
     ]
    }
   ],
   "source": [
    "for key in full_estimator_rfe_results_abs.keys():\n",
    "    results = full_estimator_rfe_results_abs[key]\n",
    "    N_key = list(results.keys())[0]\n",
    "    results = results[N_key]\n",
    "    print(key, N_key, f\"{results['pred_cv_mean']:0.2f}\", feature_names_abs[results['selected_feature_inds']])\n"
   ]
  },
  {
   "cell_type": "code",
   "execution_count": 77,
   "metadata": {},
   "outputs": [
    {
     "name": "stdout",
     "output_type": "stream",
     "text": [
      "RFR 6 0.90 ['amp_1' 'amp_2' 'amp_7' 'source_depth_km' 'source_latitude'\n",
      " 'source_longitude']\n"
     ]
    }
   ],
   "source": [
    "results = full_estimator_rfe_results_abs['RandomForestRegressor']\n",
    "N_key = list(results.keys())[1]\n",
    "results = results[N_key]\n",
    "print('RFR', N_key, f\"{results['pred_cv_mean']:0.2f}\", feature_names_abs[results['selected_feature_inds']])\n"
   ]
  },
  {
   "cell_type": "code",
   "execution_count": 78,
   "metadata": {},
   "outputs": [],
   "source": [
    "outfile = 'rfecv.absDist.estimators.fullTrain.json'\n",
    "with open(os.path.join(outpath, outfile), 'w') as fp:\n",
    "    json.dump(full_estimator_rfe_results_abs, fp, indent=4, cls=NumpyEncoder)"
   ]
  },
  {
   "cell_type": "code",
   "execution_count": 79,
   "metadata": {},
   "outputs": [
    {
     "data": {
      "text/plain": [
       "Text(0.5, 1.0, 'SVR CV Performance with Selected Features (Absolute Distances)')"
      ]
     },
     "execution_count": 79,
     "metadata": {},
     "output_type": "execute_result"
    },
    {
     "data": {
      "image/png": "[encoded data removed]",
      "text/plain": [
       "<Figure size 640x480 with 1 Axes>"
      ]
     },
     "metadata": {},
     "output_type": "display_data"
    }
   ],
   "source": [
    "for k_ind, key in enumerate(full_estimator_rfe_results_abs.keys()):\n",
    "    results = full_estimator_rfe_results_abs[key]\n",
    "    N_prev = -1\n",
    "    n_vals = len(results.keys())\n",
    "    for i, N_i in enumerate(results.keys()):\n",
    "        N_i_int = int(N_i)\n",
    "        assert N_i_int > N_prev, \"Ns are out of order\"\n",
    "        sym = \"^\"\n",
    "        color='C0'\n",
    "        if n_vals > 1 and i == 0:\n",
    "            sym = \"x\"\n",
    "            color='C1'\n",
    "        cv_mean = results[N_i]['pred_cv_mean']\n",
    "        cv_std = results[N_i]['pred_cv_std']\n",
    "        plt.scatter(k_ind, cv_mean, marker=sym, color=color)\n",
    "        plt.vlines(k_ind, cv_mean-cv_std, cv_mean+cv_std, color=color, alpha=0.5)\n",
    "        plt.text(k_ind+0.05, cv_mean-0.001, N_i, color=color)\n",
    "        N_prev = N_i_int\n",
    "\n",
    "plt.xticks(np.arange(len(full_estimator_rfe_results_abs.keys())), \n",
    "           full_estimator_rfe_results_abs.keys(),\n",
    "           rotation=45)\n",
    "plt.xlabel('Estimator Model')\n",
    "plt.ylabel('$R^2$')\n",
    "plt.ylim([0.855, 0.925])\n",
    "plt.title(\"SVR CV Performance with Selected Features (Absolute Distances)\", fontsize=10)"
   ]
  },
  {
   "cell_type": "markdown",
   "metadata": {},
   "source": [
    "# Use DecisionTree estimator and different predictor models\n",
    "\n",
    "Select DecisionTree because results pretty similar to GBT but much faster. The features that are not being selected (related to location) will be fixed with human-in-the-loop selection later as feature selection will not be fully automated."
   ]
  },
  {
   "cell_type": "code",
   "execution_count": 95,
   "metadata": {},
   "outputs": [],
   "source": [
    "# The model to used to estimate feature importance \n",
    "estimator_model =  DecisionTreeRegressor()\n",
    "# Boolean - True if data for estimator_model needs to be scaled\n",
    "estimator_scaler = False\n",
    "\n",
    "predictor_models = {\"RF\": RandomForestRegressor(random_state=0), \n",
    "                    \"GBT\": GradientBoostingRegressor(random_state=0)}\n",
    "model_scaler = False\n",
    "\n",
    "param_grids = {\"RF\": {\"m__max_features\": [1, 4, 6],\n",
    "                      \"m__n_estimators\": [100, 500, 1000]},\n",
    "               \"GBT\": {'m__n_estimators': [100, 500, 1000], \n",
    "                       'm__max_depth': [1, 4, 7]}\n",
    "              }"
   ]
  },
  {
   "cell_type": "code",
   "execution_count": 96,
   "metadata": {},
   "outputs": [
    {
     "data": {
      "text/plain": [
       "{'RF': {'m__max_features': [1, 4, 6], 'm__n_estimators': [100, 500, 1000]},\n",
       " 'GBT': {'m__n_estimators': [100, 500, 1000], 'm__max_depth': [1, 4, 7]}}"
      ]
     },
     "execution_count": 96,
     "metadata": {},
     "output_type": "execute_result"
    }
   ],
   "source": [
    "param_grids"
   ]
  },
  {
   "cell_type": "code",
   "execution_count": 99,
   "metadata": {},
   "outputs": [
    {
     "name": "stdout",
     "output_type": "stream",
     "text": [
      "Predictor: RandomForestRegressor Model Scaler: False\n",
      "Estimator: DecisionTreeRegressor Estimator Scaler: False\n",
      "{'m__max_features': [1, 4, 6], 'm__n_estimators': [100, 500, 1000]}\n",
      "reducing features to 19\n",
      "Fold 0: N=9, test_score=0.881\n",
      "reducing features to 19\n",
      "Fold 1: N=9, test_score=0.893\n",
      "reducing features to 19\n",
      "Fold 2: N=6, test_score=0.859\n",
      "reducing features to 19\n",
      "Fold 3: N=10, test_score=0.888\n",
      "reducing features to 19\n"
     ]
    },
    {
     "ename": "KeyboardInterrupt",
     "evalue": "",
     "output_type": "error",
     "traceback": [
      "\u001b[0;31m---------------------------------------------------------------------------\u001b[0m",
      "\u001b[0;31mKeyboardInterrupt\u001b[0m                         Traceback (most recent call last)",
      "Cell \u001b[0;32mIn[99], line 9\u001b[0m\n\u001b[1;32m      7\u001b[0m \u001b[38;5;28mprint\u001b[39m(\u001b[38;5;124m\"\u001b[39m\u001b[38;5;124mEstimator:\u001b[39m\u001b[38;5;124m\"\u001b[39m, \u001b[38;5;28mtype\u001b[39m(estimator_model)\u001b[38;5;241m.\u001b[39m\u001b[38;5;18m__name__\u001b[39m, \u001b[38;5;124m'\u001b[39m\u001b[38;5;124mEstimator Scaler:\u001b[39m\u001b[38;5;124m'\u001b[39m, estimator_scaler)\n\u001b[1;32m      8\u001b[0m \u001b[38;5;28mprint\u001b[39m(param_grid)\n\u001b[0;32m----> 9\u001b[0m feat_selection_results \u001b[38;5;241m=\u001b[39m \u001b[43mCustomRFECV\u001b[49m\u001b[38;5;241;43m.\u001b[39;49m\u001b[43mdo_rfecv\u001b[49m\u001b[43m(\u001b[49m\u001b[43mX_abs\u001b[49m\u001b[43m,\u001b[49m\n\u001b[1;32m     10\u001b[0m \u001b[43m                                              \u001b[49m\u001b[43my_abs\u001b[49m\u001b[43m,\u001b[49m\n\u001b[1;32m     11\u001b[0m \u001b[43m                                            \u001b[49m\u001b[43mestimator_model\u001b[49m\u001b[43m,\u001b[49m\n\u001b[1;32m     12\u001b[0m \u001b[43m                                            \u001b[49m\u001b[43mpredictor_model\u001b[49m\u001b[43m,\u001b[49m\n\u001b[1;32m     13\u001b[0m \u001b[43m                                            \u001b[49m\u001b[43mparam_grid\u001b[49m\u001b[43m,\u001b[49m\n\u001b[1;32m     14\u001b[0m \u001b[43m                                            \u001b[49m\u001b[43mestimator_scaler\u001b[49m\u001b[38;5;241;43m=\u001b[39;49m\u001b[43mestimator_scaler\u001b[49m\u001b[43m,\u001b[49m\n\u001b[1;32m     15\u001b[0m \u001b[43m                                            \u001b[49m\u001b[43mpredictor_scaler\u001b[49m\u001b[38;5;241;43m=\u001b[39;49m\u001b[43mmodel_scaler\u001b[49m\u001b[43m,\u001b[49m\n\u001b[1;32m     16\u001b[0m \u001b[43m                                            \u001b[49m\u001b[43mscore_func\u001b[49m\u001b[38;5;241;43m=\u001b[39;49m\u001b[43mscore_func\u001b[49m\u001b[43m,\u001b[49m\n\u001b[1;32m     17\u001b[0m \u001b[43m                                            \u001b[49m\u001b[43mscoring_method\u001b[49m\u001b[38;5;241;43m=\u001b[39;49m\u001b[43mscoring_method\u001b[49m\u001b[43m,\u001b[49m\n\u001b[1;32m     18\u001b[0m \u001b[43m                                            \u001b[49m\u001b[43mn_jobs\u001b[49m\u001b[38;5;241;43m=\u001b[39;49m\u001b[43mn_jobs\u001b[49m\u001b[43m,\u001b[49m\n\u001b[1;32m     19\u001b[0m \u001b[43m                                            \u001b[49m\u001b[43mcv_folds_outer\u001b[49m\u001b[38;5;241;43m=\u001b[39;49m\u001b[43mcv_folds_outer\u001b[49m\u001b[43m,\u001b[49m\n\u001b[1;32m     20\u001b[0m \u001b[43m                                            \u001b[49m\u001b[43mcv_folds_inner\u001b[49m\u001b[38;5;241;43m=\u001b[39;49m\u001b[43mcv_folds_inner\u001b[49m\u001b[43m,\u001b[49m\n\u001b[1;32m     21\u001b[0m \u001b[43m                                            \u001b[49m\u001b[43mn_outer_repeats\u001b[49m\u001b[38;5;241;43m=\u001b[39;49m\u001b[43mn_outer_repeats\u001b[49m\u001b[43m,\u001b[49m\n\u001b[1;32m     22\u001b[0m \u001b[43m                                            \u001b[49m\u001b[43mcv_random_state\u001b[49m\u001b[38;5;241;43m=\u001b[39;49m\u001b[43mcv_random_state\u001b[49m\u001b[43m,\u001b[49m\n\u001b[1;32m     23\u001b[0m \u001b[43m                                            \u001b[49m\u001b[43mlarger_score_is_better\u001b[49m\u001b[38;5;241;43m=\u001b[39;49m\u001b[43mlarger_score_is_better\u001b[49m\u001b[43m,\u001b[49m\n\u001b[1;32m     24\u001b[0m \u001b[43m                                            \u001b[49m\u001b[43mintrinsic_filter_func\u001b[49m\u001b[38;5;241;43m=\u001b[39;49m\u001b[43mifs\u001b[49m\u001b[38;5;241;43m.\u001b[39;49m\u001b[43mMI_filter_func\u001b[49m\u001b[43m,\u001b[49m\n\u001b[1;32m     25\u001b[0m \u001b[43m                                            \u001b[49m\u001b[43mfeature_inds_to_filter\u001b[49m\u001b[38;5;241;43m=\u001b[39;49m\u001b[43mif_feat_inds\u001b[49m\u001b[43m,\u001b[49m\n\u001b[1;32m     26\u001b[0m \u001b[43m                                            \u001b[49m\u001b[43mintrinsic_filter_K\u001b[49m\u001b[38;5;241;43m=\u001b[39;49m\u001b[43mif_K\u001b[49m\n\u001b[1;32m     27\u001b[0m \u001b[43m                                            \u001b[49m\u001b[43m)\u001b[49m\n\u001b[1;32m     28\u001b[0m predictor_rfe_results_abs[mname] \u001b[38;5;241m=\u001b[39m feat_selection_results\n",
      "File \u001b[0;32m~/PycharmProjects/featmag/src/feature_selection.py:226\u001b[0m, in \u001b[0;36mCustomRFECV.do_rfecv\u001b[0;34m(X, y, estimator_model, predictor_model, param_grid, estimator_scaler, predictor_scaler, scoring_method, score_func, n_jobs, cv_folds_outer, cv_folds_inner, n_outer_repeats, cv_random_state, larger_score_is_better, intrinsic_filter_func, feature_inds_to_filter, intrinsic_filter_K)\u001b[0m\n\u001b[1;32m    224\u001b[0m \u001b[38;5;66;03m# Loop over all possible number of features (1,...,N)\u001b[39;00m\n\u001b[1;32m    225\u001b[0m \u001b[38;5;28;01mfor\u001b[39;00m n_feats \u001b[38;5;129;01min\u001b[39;00m \u001b[38;5;28mrange\u001b[39m(\u001b[38;5;241m1\u001b[39m, N\u001b[38;5;241m+\u001b[39m\u001b[38;5;241m1\u001b[39m):\n\u001b[0;32m--> 226\u001b[0m     fselector, pred_gs_result, yhat \u001b[38;5;241m=\u001b[39m \u001b[43mCustomRFECV\u001b[49m\u001b[38;5;241;43m.\u001b[39;49m\u001b[43mcustom_rfe\u001b[49m\u001b[43m(\u001b[49m\u001b[43mXi_train\u001b[49m\u001b[43m,\u001b[49m\n\u001b[1;32m    227\u001b[0m \u001b[43m                                                             \u001b[49m\u001b[43myi_train\u001b[49m\u001b[43m,\u001b[49m\n\u001b[1;32m    228\u001b[0m \u001b[43m                                                             \u001b[49m\u001b[43mestimator_pipeline\u001b[49m\u001b[43m,\u001b[49m\n\u001b[1;32m    229\u001b[0m \u001b[43m                                                             \u001b[49m\u001b[43mn_feats\u001b[49m\u001b[43m,\u001b[49m\n\u001b[1;32m    230\u001b[0m \u001b[43m                                                             \u001b[49m\u001b[43minner_grid_search\u001b[49m\u001b[43m,\u001b[49m\n\u001b[1;32m    231\u001b[0m \u001b[43m                                                             \u001b[49m\u001b[43mX_test\u001b[49m\u001b[38;5;241;43m=\u001b[39;49m\u001b[43mXi_test\u001b[49m\u001b[43m)\u001b[49m\n\u001b[1;32m    233\u001b[0m     \u001b[38;5;66;03m# Evaluate the predictor on the folds test set\u001b[39;00m\n\u001b[1;32m    234\u001b[0m     predictor_score \u001b[38;5;241m=\u001b[39m score_func(yi_test, yhat)\n",
      "File \u001b[0;32m~/PycharmProjects/featmag/src/feature_selection.py:290\u001b[0m, in \u001b[0;36mCustomRFECV.custom_rfe\u001b[0;34m(X_train, y_train, estimator_pipeline, n_feats, predictor_hyperparam_grid_search, X_test)\u001b[0m\n\u001b[1;32m    286\u001b[0m     Xfeat_test \u001b[38;5;241m=\u001b[39m X_test[:, fselector\u001b[38;5;241m.\u001b[39msupport_]\n\u001b[1;32m    287\u001b[0m \u001b[38;5;66;03m# Do a cv grid search over the predictor models hyperparameters when using n features \u001b[39;00m\n\u001b[1;32m    288\u001b[0m \u001b[38;5;66;03m# from the folds training set. Train a model with the best hyperparameters and the \u001b[39;00m\n\u001b[1;32m    289\u001b[0m \u001b[38;5;66;03m# n features from the full folds training set as long as refit_model=True in GridSearchCV\u001b[39;00m\n\u001b[0;32m--> 290\u001b[0m pred_gs_result, yhat \u001b[38;5;241m=\u001b[39m \u001b[43mCrossValidation\u001b[49m\u001b[38;5;241;43m.\u001b[39;49m\u001b[43mdo_gridsearchcv\u001b[49m\u001b[43m(\u001b[49m\u001b[43mpredictor_hyperparam_grid_search\u001b[49m\u001b[43m,\u001b[49m\n\u001b[1;32m    291\u001b[0m \u001b[43m                                                        \u001b[49m\u001b[43mXfeat_train\u001b[49m\u001b[43m,\u001b[49m\n\u001b[1;32m    292\u001b[0m \u001b[43m                                                        \u001b[49m\u001b[43my_train\u001b[49m\u001b[43m,\u001b[49m\n\u001b[1;32m    293\u001b[0m \u001b[43m                                                        \u001b[49m\u001b[43mXfeat_test\u001b[49m\u001b[43m)\u001b[49m\n\u001b[1;32m    294\u001b[0m \u001b[38;5;28;01mreturn\u001b[39;00m fselector, pred_gs_result, yhat\n",
      "File \u001b[0;32m~/PycharmProjects/featmag/src/utils.py:107\u001b[0m, in \u001b[0;36mCrossValidation.do_gridsearchcv\u001b[0;34m(gs, Xtrain, ytrain, Xtest)\u001b[0m\n\u001b[1;32m    104\u001b[0m \u001b[38;5;129m@staticmethod\u001b[39m\n\u001b[1;32m    105\u001b[0m \u001b[38;5;28;01mdef\u001b[39;00m \u001b[38;5;21mdo_gridsearchcv\u001b[39m(gs, Xtrain, ytrain, Xtest\u001b[38;5;241m=\u001b[39m\u001b[38;5;28;01mNone\u001b[39;00m):\n\u001b[1;32m    106\u001b[0m \u001b[38;5;250m    \u001b[39m\u001b[38;5;124;03m\"\"\"Fit the gridsearch (gs) and make the test predictions\"\"\"\u001b[39;00m\n\u001b[0;32m--> 107\u001b[0m     gs_results \u001b[38;5;241m=\u001b[39m \u001b[43mgs\u001b[49m\u001b[38;5;241;43m.\u001b[39;49m\u001b[43mfit\u001b[49m\u001b[43m(\u001b[49m\u001b[43mXtrain\u001b[49m\u001b[43m,\u001b[49m\u001b[43m \u001b[49m\u001b[43mytrain\u001b[49m\u001b[43m)\u001b[49m\n\u001b[1;32m    108\u001b[0m     yhat \u001b[38;5;241m=\u001b[39m \u001b[38;5;28;01mNone\u001b[39;00m\n\u001b[1;32m    109\u001b[0m     \u001b[38;5;28;01mif\u001b[39;00m Xtest \u001b[38;5;129;01mis\u001b[39;00m \u001b[38;5;129;01mnot\u001b[39;00m \u001b[38;5;28;01mNone\u001b[39;00m:\n",
      "File \u001b[0;32m~/software/pkg/miniconda3/envs/featmags/lib/python3.11/site-packages/sklearn/model_selection/_search.py:874\u001b[0m, in \u001b[0;36mBaseSearchCV.fit\u001b[0;34m(self, X, y, groups, **fit_params)\u001b[0m\n\u001b[1;32m    868\u001b[0m     results \u001b[38;5;241m=\u001b[39m \u001b[38;5;28mself\u001b[39m\u001b[38;5;241m.\u001b[39m_format_results(\n\u001b[1;32m    869\u001b[0m         all_candidate_params, n_splits, all_out, all_more_results\n\u001b[1;32m    870\u001b[0m     )\n\u001b[1;32m    872\u001b[0m     \u001b[38;5;28;01mreturn\u001b[39;00m results\n\u001b[0;32m--> 874\u001b[0m \u001b[38;5;28;43mself\u001b[39;49m\u001b[38;5;241;43m.\u001b[39;49m\u001b[43m_run_search\u001b[49m\u001b[43m(\u001b[49m\u001b[43mevaluate_candidates\u001b[49m\u001b[43m)\u001b[49m\n\u001b[1;32m    876\u001b[0m \u001b[38;5;66;03m# multimetric is determined here because in the case of a callable\u001b[39;00m\n\u001b[1;32m    877\u001b[0m \u001b[38;5;66;03m# self.scoring the return type is only known after calling\u001b[39;00m\n\u001b[1;32m    878\u001b[0m first_test_score \u001b[38;5;241m=\u001b[39m all_out[\u001b[38;5;241m0\u001b[39m][\u001b[38;5;124m\"\u001b[39m\u001b[38;5;124mtest_scores\u001b[39m\u001b[38;5;124m\"\u001b[39m]\n",
      "File \u001b[0;32m~/software/pkg/miniconda3/envs/featmags/lib/python3.11/site-packages/sklearn/model_selection/_search.py:1388\u001b[0m, in \u001b[0;36mGridSearchCV._run_search\u001b[0;34m(self, evaluate_candidates)\u001b[0m\n\u001b[1;32m   1386\u001b[0m \u001b[38;5;28;01mdef\u001b[39;00m \u001b[38;5;21m_run_search\u001b[39m(\u001b[38;5;28mself\u001b[39m, evaluate_candidates):\n\u001b[1;32m   1387\u001b[0m \u001b[38;5;250m    \u001b[39m\u001b[38;5;124;03m\"\"\"Search all candidates in param_grid\"\"\"\u001b[39;00m\n\u001b[0;32m-> 1388\u001b[0m     \u001b[43mevaluate_candidates\u001b[49m\u001b[43m(\u001b[49m\u001b[43mParameterGrid\u001b[49m\u001b[43m(\u001b[49m\u001b[38;5;28;43mself\u001b[39;49m\u001b[38;5;241;43m.\u001b[39;49m\u001b[43mparam_grid\u001b[49m\u001b[43m)\u001b[49m\u001b[43m)\u001b[49m\n",
      "File \u001b[0;32m~/software/pkg/miniconda3/envs/featmags/lib/python3.11/site-packages/sklearn/model_selection/_search.py:821\u001b[0m, in \u001b[0;36mBaseSearchCV.fit.<locals>.evaluate_candidates\u001b[0;34m(candidate_params, cv, more_results)\u001b[0m\n\u001b[1;32m    813\u001b[0m \u001b[38;5;28;01mif\u001b[39;00m \u001b[38;5;28mself\u001b[39m\u001b[38;5;241m.\u001b[39mverbose \u001b[38;5;241m>\u001b[39m \u001b[38;5;241m0\u001b[39m:\n\u001b[1;32m    814\u001b[0m     \u001b[38;5;28mprint\u001b[39m(\n\u001b[1;32m    815\u001b[0m         \u001b[38;5;124m\"\u001b[39m\u001b[38;5;124mFitting \u001b[39m\u001b[38;5;132;01m{0}\u001b[39;00m\u001b[38;5;124m folds for each of \u001b[39m\u001b[38;5;132;01m{1}\u001b[39;00m\u001b[38;5;124m candidates,\u001b[39m\u001b[38;5;124m\"\u001b[39m\n\u001b[1;32m    816\u001b[0m         \u001b[38;5;124m\"\u001b[39m\u001b[38;5;124m totalling \u001b[39m\u001b[38;5;132;01m{2}\u001b[39;00m\u001b[38;5;124m fits\u001b[39m\u001b[38;5;124m\"\u001b[39m\u001b[38;5;241m.\u001b[39mformat(\n\u001b[1;32m    817\u001b[0m             n_splits, n_candidates, n_candidates \u001b[38;5;241m*\u001b[39m n_splits\n\u001b[1;32m    818\u001b[0m         )\n\u001b[1;32m    819\u001b[0m     )\n\u001b[0;32m--> 821\u001b[0m out \u001b[38;5;241m=\u001b[39m \u001b[43mparallel\u001b[49m\u001b[43m(\u001b[49m\n\u001b[1;32m    822\u001b[0m \u001b[43m    \u001b[49m\u001b[43mdelayed\u001b[49m\u001b[43m(\u001b[49m\u001b[43m_fit_and_score\u001b[49m\u001b[43m)\u001b[49m\u001b[43m(\u001b[49m\n\u001b[1;32m    823\u001b[0m \u001b[43m        \u001b[49m\u001b[43mclone\u001b[49m\u001b[43m(\u001b[49m\u001b[43mbase_estimator\u001b[49m\u001b[43m)\u001b[49m\u001b[43m,\u001b[49m\n\u001b[1;32m    824\u001b[0m \u001b[43m        \u001b[49m\u001b[43mX\u001b[49m\u001b[43m,\u001b[49m\n\u001b[1;32m    825\u001b[0m \u001b[43m        \u001b[49m\u001b[43my\u001b[49m\u001b[43m,\u001b[49m\n\u001b[1;32m    826\u001b[0m \u001b[43m        \u001b[49m\u001b[43mtrain\u001b[49m\u001b[38;5;241;43m=\u001b[39;49m\u001b[43mtrain\u001b[49m\u001b[43m,\u001b[49m\n\u001b[1;32m    827\u001b[0m \u001b[43m        \u001b[49m\u001b[43mtest\u001b[49m\u001b[38;5;241;43m=\u001b[39;49m\u001b[43mtest\u001b[49m\u001b[43m,\u001b[49m\n\u001b[1;32m    828\u001b[0m \u001b[43m        \u001b[49m\u001b[43mparameters\u001b[49m\u001b[38;5;241;43m=\u001b[39;49m\u001b[43mparameters\u001b[49m\u001b[43m,\u001b[49m\n\u001b[1;32m    829\u001b[0m \u001b[43m        \u001b[49m\u001b[43msplit_progress\u001b[49m\u001b[38;5;241;43m=\u001b[39;49m\u001b[43m(\u001b[49m\u001b[43msplit_idx\u001b[49m\u001b[43m,\u001b[49m\u001b[43m \u001b[49m\u001b[43mn_splits\u001b[49m\u001b[43m)\u001b[49m\u001b[43m,\u001b[49m\n\u001b[1;32m    830\u001b[0m \u001b[43m        \u001b[49m\u001b[43mcandidate_progress\u001b[49m\u001b[38;5;241;43m=\u001b[39;49m\u001b[43m(\u001b[49m\u001b[43mcand_idx\u001b[49m\u001b[43m,\u001b[49m\u001b[43m \u001b[49m\u001b[43mn_candidates\u001b[49m\u001b[43m)\u001b[49m\u001b[43m,\u001b[49m\n\u001b[1;32m    831\u001b[0m \u001b[43m        \u001b[49m\u001b[38;5;241;43m*\u001b[39;49m\u001b[38;5;241;43m*\u001b[39;49m\u001b[43mfit_and_score_kwargs\u001b[49m\u001b[43m,\u001b[49m\n\u001b[1;32m    832\u001b[0m \u001b[43m    \u001b[49m\u001b[43m)\u001b[49m\n\u001b[1;32m    833\u001b[0m \u001b[43m    \u001b[49m\u001b[38;5;28;43;01mfor\u001b[39;49;00m\u001b[43m \u001b[49m\u001b[43m(\u001b[49m\u001b[43mcand_idx\u001b[49m\u001b[43m,\u001b[49m\u001b[43m \u001b[49m\u001b[43mparameters\u001b[49m\u001b[43m)\u001b[49m\u001b[43m,\u001b[49m\u001b[43m \u001b[49m\u001b[43m(\u001b[49m\u001b[43msplit_idx\u001b[49m\u001b[43m,\u001b[49m\u001b[43m \u001b[49m\u001b[43m(\u001b[49m\u001b[43mtrain\u001b[49m\u001b[43m,\u001b[49m\u001b[43m \u001b[49m\u001b[43mtest\u001b[49m\u001b[43m)\u001b[49m\u001b[43m)\u001b[49m\u001b[43m \u001b[49m\u001b[38;5;129;43;01min\u001b[39;49;00m\u001b[43m \u001b[49m\u001b[43mproduct\u001b[49m\u001b[43m(\u001b[49m\n\u001b[1;32m    834\u001b[0m \u001b[43m        \u001b[49m\u001b[38;5;28;43menumerate\u001b[39;49m\u001b[43m(\u001b[49m\u001b[43mcandidate_params\u001b[49m\u001b[43m)\u001b[49m\u001b[43m,\u001b[49m\u001b[43m \u001b[49m\u001b[38;5;28;43menumerate\u001b[39;49m\u001b[43m(\u001b[49m\u001b[43mcv\u001b[49m\u001b[38;5;241;43m.\u001b[39;49m\u001b[43msplit\u001b[49m\u001b[43m(\u001b[49m\u001b[43mX\u001b[49m\u001b[43m,\u001b[49m\u001b[43m \u001b[49m\u001b[43my\u001b[49m\u001b[43m,\u001b[49m\u001b[43m \u001b[49m\u001b[43mgroups\u001b[49m\u001b[43m)\u001b[49m\u001b[43m)\u001b[49m\n\u001b[1;32m    835\u001b[0m \u001b[43m    \u001b[49m\u001b[43m)\u001b[49m\n\u001b[1;32m    836\u001b[0m \u001b[43m\u001b[49m\u001b[43m)\u001b[49m\n\u001b[1;32m    838\u001b[0m \u001b[38;5;28;01mif\u001b[39;00m \u001b[38;5;28mlen\u001b[39m(out) \u001b[38;5;241m<\u001b[39m \u001b[38;5;241m1\u001b[39m:\n\u001b[1;32m    839\u001b[0m     \u001b[38;5;28;01mraise\u001b[39;00m \u001b[38;5;167;01mValueError\u001b[39;00m(\n\u001b[1;32m    840\u001b[0m         \u001b[38;5;124m\"\u001b[39m\u001b[38;5;124mNo fits were performed. \u001b[39m\u001b[38;5;124m\"\u001b[39m\n\u001b[1;32m    841\u001b[0m         \u001b[38;5;124m\"\u001b[39m\u001b[38;5;124mWas the CV iterator empty? \u001b[39m\u001b[38;5;124m\"\u001b[39m\n\u001b[1;32m    842\u001b[0m         \u001b[38;5;124m\"\u001b[39m\u001b[38;5;124mWere there no candidates?\u001b[39m\u001b[38;5;124m\"\u001b[39m\n\u001b[1;32m    843\u001b[0m     )\n",
      "File \u001b[0;32m~/software/pkg/miniconda3/envs/featmags/lib/python3.11/site-packages/sklearn/utils/parallel.py:63\u001b[0m, in \u001b[0;36mParallel.__call__\u001b[0;34m(self, iterable)\u001b[0m\n\u001b[1;32m     58\u001b[0m config \u001b[38;5;241m=\u001b[39m get_config()\n\u001b[1;32m     59\u001b[0m iterable_with_config \u001b[38;5;241m=\u001b[39m (\n\u001b[1;32m     60\u001b[0m     (_with_config(delayed_func, config), args, kwargs)\n\u001b[1;32m     61\u001b[0m     \u001b[38;5;28;01mfor\u001b[39;00m delayed_func, args, kwargs \u001b[38;5;129;01min\u001b[39;00m iterable\n\u001b[1;32m     62\u001b[0m )\n\u001b[0;32m---> 63\u001b[0m \u001b[38;5;28;01mreturn\u001b[39;00m \u001b[38;5;28;43msuper\u001b[39;49m\u001b[43m(\u001b[49m\u001b[43m)\u001b[49m\u001b[38;5;241;43m.\u001b[39;49m\u001b[38;5;21;43m__call__\u001b[39;49m\u001b[43m(\u001b[49m\u001b[43miterable_with_config\u001b[49m\u001b[43m)\u001b[49m\n",
      "File \u001b[0;32m~/software/pkg/miniconda3/envs/featmags/lib/python3.11/site-packages/joblib/parallel.py:1952\u001b[0m, in \u001b[0;36mParallel.__call__\u001b[0;34m(self, iterable)\u001b[0m\n\u001b[1;32m   1946\u001b[0m \u001b[38;5;66;03m# The first item from the output is blank, but it makes the interpreter\u001b[39;00m\n\u001b[1;32m   1947\u001b[0m \u001b[38;5;66;03m# progress until it enters the Try/Except block of the generator and\u001b[39;00m\n\u001b[1;32m   1948\u001b[0m \u001b[38;5;66;03m# reach the first `yield` statement. This starts the aynchronous\u001b[39;00m\n\u001b[1;32m   1949\u001b[0m \u001b[38;5;66;03m# dispatch of the tasks to the workers.\u001b[39;00m\n\u001b[1;32m   1950\u001b[0m \u001b[38;5;28mnext\u001b[39m(output)\n\u001b[0;32m-> 1952\u001b[0m \u001b[38;5;28;01mreturn\u001b[39;00m output \u001b[38;5;28;01mif\u001b[39;00m \u001b[38;5;28mself\u001b[39m\u001b[38;5;241m.\u001b[39mreturn_generator \u001b[38;5;28;01melse\u001b[39;00m \u001b[38;5;28mlist\u001b[39m(output)\n",
      "File \u001b[0;32m~/software/pkg/miniconda3/envs/featmags/lib/python3.11/site-packages/joblib/parallel.py:1595\u001b[0m, in \u001b[0;36mParallel._get_outputs\u001b[0;34m(self, iterator, pre_dispatch)\u001b[0m\n\u001b[1;32m   1592\u001b[0m     \u001b[38;5;28;01myield\u001b[39;00m\n\u001b[1;32m   1594\u001b[0m     \u001b[38;5;28;01mwith\u001b[39;00m \u001b[38;5;28mself\u001b[39m\u001b[38;5;241m.\u001b[39m_backend\u001b[38;5;241m.\u001b[39mretrieval_context():\n\u001b[0;32m-> 1595\u001b[0m         \u001b[38;5;28;01myield from\u001b[39;00m \u001b[38;5;28mself\u001b[39m\u001b[38;5;241m.\u001b[39m_retrieve()\n\u001b[1;32m   1597\u001b[0m \u001b[38;5;28;01mexcept\u001b[39;00m \u001b[38;5;167;01mGeneratorExit\u001b[39;00m:\n\u001b[1;32m   1598\u001b[0m     \u001b[38;5;66;03m# The generator has been garbage collected before being fully\u001b[39;00m\n\u001b[1;32m   1599\u001b[0m     \u001b[38;5;66;03m# consumed. This aborts the remaining tasks if possible and warn\u001b[39;00m\n\u001b[1;32m   1600\u001b[0m     \u001b[38;5;66;03m# the user if necessary.\u001b[39;00m\n\u001b[1;32m   1601\u001b[0m     \u001b[38;5;28mself\u001b[39m\u001b[38;5;241m.\u001b[39m_exception \u001b[38;5;241m=\u001b[39m \u001b[38;5;28;01mTrue\u001b[39;00m\n",
      "File \u001b[0;32m~/software/pkg/miniconda3/envs/featmags/lib/python3.11/site-packages/joblib/parallel.py:1707\u001b[0m, in \u001b[0;36mParallel._retrieve\u001b[0;34m(self)\u001b[0m\n\u001b[1;32m   1702\u001b[0m \u001b[38;5;66;03m# If the next job is not ready for retrieval yet, we just wait for\u001b[39;00m\n\u001b[1;32m   1703\u001b[0m \u001b[38;5;66;03m# async callbacks to progress.\u001b[39;00m\n\u001b[1;32m   1704\u001b[0m \u001b[38;5;28;01mif\u001b[39;00m ((\u001b[38;5;28mlen\u001b[39m(\u001b[38;5;28mself\u001b[39m\u001b[38;5;241m.\u001b[39m_jobs) \u001b[38;5;241m==\u001b[39m \u001b[38;5;241m0\u001b[39m) \u001b[38;5;129;01mor\u001b[39;00m\n\u001b[1;32m   1705\u001b[0m     (\u001b[38;5;28mself\u001b[39m\u001b[38;5;241m.\u001b[39m_jobs[\u001b[38;5;241m0\u001b[39m]\u001b[38;5;241m.\u001b[39mget_status(\n\u001b[1;32m   1706\u001b[0m         timeout\u001b[38;5;241m=\u001b[39m\u001b[38;5;28mself\u001b[39m\u001b[38;5;241m.\u001b[39mtimeout) \u001b[38;5;241m==\u001b[39m TASK_PENDING)):\n\u001b[0;32m-> 1707\u001b[0m     time\u001b[38;5;241m.\u001b[39msleep(\u001b[38;5;241m0.01\u001b[39m)\n\u001b[1;32m   1708\u001b[0m     \u001b[38;5;28;01mcontinue\u001b[39;00m\n\u001b[1;32m   1710\u001b[0m \u001b[38;5;66;03m# We need to be careful: the job list can be filling up as\u001b[39;00m\n\u001b[1;32m   1711\u001b[0m \u001b[38;5;66;03m# we empty it and Python list are not thread-safe by\u001b[39;00m\n\u001b[1;32m   1712\u001b[0m \u001b[38;5;66;03m# default hence the use of the lock\u001b[39;00m\n",
      "\u001b[0;31mKeyboardInterrupt\u001b[0m: "
     ]
    }
   ],
   "source": [
    "predictor_rfe_results_abs = {}\n",
    "for key in predictor_models.keys():\n",
    "  predictor_model = predictor_models[key]\n",
    "  param_grid = param_grids[key]\n",
    "  mname = type(predictor_model).__name__\n",
    "  print(\"Predictor:\", mname, 'Model Scaler:', model_scaler)\n",
    "  print(\"Estimator:\", type(estimator_model).__name__, 'Estimator Scaler:', estimator_scaler)\n",
    "  print(param_grid)\n",
    "  feat_selection_results = CustomRFECV.do_rfecv(X_abs,\n",
    "                                                y_abs,\n",
    "                                              estimator_model,\n",
    "                                              predictor_model,\n",
    "                                              param_grid,\n",
    "                                              estimator_scaler=estimator_scaler,\n",
    "                                              predictor_scaler=model_scaler,\n",
    "                                              score_func=score_func,\n",
    "                                              scoring_method=scoring_method,\n",
    "                                              n_jobs=n_jobs,\n",
    "                                              cv_folds_outer=cv_folds_outer,\n",
    "                                              cv_folds_inner=cv_folds_inner,\n",
    "                                              n_outer_repeats=n_outer_repeats,\n",
    "                                              cv_random_state=cv_random_state,\n",
    "                                              larger_score_is_better=larger_score_is_better,\n",
    "                                              intrinsic_filter_func=ifs.MI_filter_func,\n",
    "                                              feature_inds_to_filter=if_feat_inds,\n",
    "                                              intrinsic_filter_K=if_K\n",
    "                                              )\n",
    "  predictor_rfe_results_abs[mname] = feat_selection_results"
   ]
  },
  {
   "cell_type": "code",
   "execution_count": null,
   "metadata": {},
   "outputs": [],
   "source": [
    "outfile = 'rfecv.DTest.absDist.predictors.json'\n",
    "with open(os.path.join(outpath, outfile), 'w') as fp:\n",
    "    json.dump(predictor_rfe_results_abs, fp, indent=4, cls=NumpyEncoder)"
   ]
  }
 ],
 "metadata": {
  "kernelspec": {
   "display_name": "featmags",
   "language": "python",
   "name": "python3"
  },
  "language_info": {
   "codemirror_mode": {
    "name": "ipython",
    "version": 3
   },
   "file_extension": ".py",
   "mimetype": "text/x-python",
   "name": "python",
   "nbconvert_exporter": "python",
   "pygments_lexer": "ipython3",
   "version": "3.11.6"
  }
 },
 "nbformat": 4,
 "nbformat_minor": 2
}
