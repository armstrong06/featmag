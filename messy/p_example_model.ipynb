{
 "cells": [
  {
   "cell_type": "code",
   "execution_count": 1,
   "metadata": {},
   "outputs": [],
   "source": [
    "import pandas as pd\n",
    "import numpy as np\n",
    "import sklearn as sk\n",
    "from sklearn.preprocessing import StandardScaler\n",
    "from sklearn.svm import SVR\n",
    "from sklearn.model_selection import train_test_split\n",
    "from sklearn.metrics import mean_squared_error\n",
    "from sklearn.metrics import r2_score\n",
    "import matplotlib.pyplot as plt"
   ]
  },
  {
   "cell_type": "code",
   "execution_count": 2,
   "metadata": {},
   "outputs": [],
   "source": [
    "# Computes the station magnitudes\n",
    "def compute_network_magnitude(station_magnitudes):\n",
    "    return np.mean(station_magnitudes)"
   ]
  },
  {
   "cell_type": "code",
   "execution_count": 3,
   "metadata": {},
   "outputs": [],
   "source": [
    "# Computes the feature matrix from a dataframe\n",
    "def compute_feature_matrix(df, scaler = None):\n",
    "    # Loosely speaking empirical magnitudes look like:\n",
    "    # M = log10(A) + Q(Delta) \n",
    "    # where A is the amplitude and Q a distance dependent correction term.\n",
    "    # Additionally, the difference between log10 and log amounts to a scalar\n",
    "    # that a machine can learn.\n",
    "    # Basically, I'm interested in features that:\n",
    "    #   (1) Measure size in, potentially, different amplitudes.\n",
    "    # different `passbands' deviates from the noise, \n",
    "    n_rows = len(df)\n",
    "    n_columns = 33\n",
    "    X = np.zeros([n_rows, n_columns])\n",
    "    # Get a proxy on size\n",
    "    \n",
    "    # These are effectively amplitude ratios.  Note,\n",
    "    # log(a/b) = log(a) - log(b)\n",
    "    X[:,0]  = np.log(df['avg_signal_1.00']) - np.log(df['avg_noise_1.00'])\n",
    "    X[:,1]  = np.log(df['avg_signal_2.00']) - np.log(df['avg_noise_2.00'])\n",
    "    X[:,2]  = np.log(df['avg_signal_3.00']) - np.log(df['avg_noise_3.00'])\n",
    "    X[:,3]  = np.log(df['avg_signal_4.00']) - np.log(df['avg_noise_4.00'])\n",
    "    X[:,4]  = np.log(df['avg_signal_5.00']) - np.log(df['avg_noise_5.00'])\n",
    "    X[:,5]  = np.log(df['avg_signal_6.00']) - np.log(df['avg_noise_6.00'])\n",
    "    X[:,6]  = np.log(df['avg_signal_7.00']) - np.log(df['avg_noise_7.00'])\n",
    "    X[:,7]  = np.log(df['avg_signal_8.00']) - np.log(df['avg_noise_8.00'])\n",
    "    X[:,8]  = np.log(df['avg_signal_9.00']) - np.log(df['avg_noise_9.00'])\n",
    "    X[:,9]  = np.log(df['avg_signal_10.00']) - np.log(df['avg_noise_10.00'])\n",
    "    X[:,10] = np.log(df['avg_signal_11.00']) - np.log(df['avg_noise_11.00'])\n",
    "    X[:,11] = np.log(df['avg_signal_12.00']) - np.log(df['avg_noise_12.00'])\n",
    "    # Look at amplitudes\n",
    "    X[:,12] = np.log(df['avg_signal_1.00']) \n",
    "    X[:,13] = np.log(df['avg_signal_2.00']) \n",
    "    X[:,14] = np.log(df['avg_signal_3.00']) \n",
    "    X[:,15] = np.log(df['avg_signal_4.00']) \n",
    "    X[:,16] = np.log(df['avg_signal_5.00'])\n",
    "    X[:,17] = np.log(df['avg_signal_6.00'])\n",
    "    X[:,18] = np.log(df['avg_signal_7.00'])\n",
    "    X[:,19] = np.log(df['avg_signal_8.00'])\n",
    "    X[:,20] = np.log(df['avg_signal_9.00'])\n",
    "    X[:,21] = np.log(df['avg_signal_10.00'])\n",
    "    X[:,22] = np.log(df['avg_signal_11.00'])\n",
    "    X[:,23] = np.log(df['avg_signal_12.00'])\n",
    "    # Frequency and max amplitude\n",
    "    X[:,24] = np.log(df['signal_dominant_frequency'])\n",
    "    X[:,25] = np.log(df['signal_dominant_amplitude'])\n",
    "    # Time-based featuers: Look at max amplitudes of noise/signal\n",
    "    X[:,26] = np.log(df['noise_maximum_value']  - df['noise_minimum_value'])\n",
    "    X[:,27] = np.log(df['signal_maximum_value'] - df['signal_minimum_value'])\n",
    "    X[:,28] = np.log(df['signal_variance'])\n",
    "    X[:,29] = np.log(df['noise_variance'])\n",
    "    # Source/recv distance (take log to flatten this)\n",
    "    X[:,30] = np.log(df['source_receiver_distance_km'])\n",
    "    X[:,31] = df['source_depth_km']\n",
    "    # Single stations can learn location\n",
    "    X[:,32] = df['source_receiver_back_azimuth']\n",
    "\n",
    "    # Standardize features\n",
    "    if (scaler is None):\n",
    "        scaler = StandardScaler()\n",
    "        scaler = scaler.fit(X)\n",
    "    X = scaler.transform(X)\n",
    "    return X, scaler\n",
    "    \n",
    "#X, scaler = compute_feature_matrix(df)"
   ]
  },
  {
   "cell_type": "code",
   "execution_count": 4,
   "metadata": {},
   "outputs": [],
   "source": [
    "#print(X)"
   ]
  },
  {
   "cell_type": "code",
   "execution_count": 5,
   "metadata": {},
   "outputs": [
    {
     "name": "stdout",
     "output_type": "stream",
     "text": [
      "Index(['avg_noise_1.00', 'avg_noise_10.00', 'avg_noise_11.00',\n",
      "       'avg_noise_12.00', 'avg_noise_13.00', 'avg_noise_14.00',\n",
      "       'avg_noise_15.00', 'avg_noise_16.00', 'avg_noise_17.00',\n",
      "       'avg_noise_18.00', 'avg_noise_2.00', 'avg_noise_3.00', 'avg_noise_4.00',\n",
      "       'avg_noise_5.00', 'avg_noise_6.00', 'avg_noise_7.00', 'avg_noise_8.00',\n",
      "       'avg_noise_9.00', 'avg_signal_1.00', 'avg_signal_10.00',\n",
      "       'avg_signal_11.00', 'avg_signal_12.00', 'avg_signal_13.00',\n",
      "       'avg_signal_14.00', 'avg_signal_15.00', 'avg_signal_16.00',\n",
      "       'avg_signal_17.00', 'avg_signal_18.00', 'avg_signal_2.00',\n",
      "       'avg_signal_3.00', 'avg_signal_4.00', 'avg_signal_5.00',\n",
      "       'avg_signal_6.00', 'avg_signal_7.00', 'avg_signal_8.00',\n",
      "       'avg_signal_9.00', 'channel', 'event_identifier', 'location_code',\n",
      "       'magnitude', 'magnitude_type', 'network', 'noise_dominant_amplitude',\n",
      "       'noise_dominant_frequency', 'noise_maximum_value',\n",
      "       'noise_minimum_value', 'noise_variance', 'signal_dominant_amplitude',\n",
      "       'signal_dominant_frequency', 'signal_maximum_value',\n",
      "       'signal_minimum_value', 'signal_variance', 'source_depth_km',\n",
      "       'source_latitude', 'source_longitude', 'source_receiver_back_azimuth',\n",
      "       'source_receiver_distance_km', 'station'],\n",
      "      dtype='object')\n"
     ]
    }
   ],
   "source": [
    "# Load the data frame\n",
    "df_in = pd.read_csv('p_features.csv', dtype={'location_code': str})\n",
    "print(df_in.columns)"
   ]
  },
  {
   "cell_type": "markdown",
   "metadata": {},
   "source": [
    "Potential Features:\n",
    "\n",
    "    1. avg_noise_1.00 : This is the average noise over the window preceding the P arrival with center frequency 1 Hz.\n",
    "     .\n",
    "     .\n",
    "     .\n",
    "    2. avg_noise_18.00 : This is the average noise over the window preceding the P arrival with center frequency 1 Hz.\n",
    "    3. avg_signal_1.00 : This is the average signal over the window after (2.5 s?) the P arrival with center frequency 1 Hz.\n",
    "     .\n",
    "     .\n",
    "     .\n",
    "    4. avg_signal_18.00 : This is the average signal over the window after (2.5 s?) the P arrival with center frequency 18 Hz.\n",
    "    5. network : The network code - e.g., UU or WY.\n",
    "    6. station : The station code - e.g., YFT.\n",
    "    7. channel : The channel code - e.g., EHZ.\n",
    "    8. location_code : The location code -e.g., 01.\n",
    "    9. noise_dominant_frequency : The dominant frequency of the noise in Hz in the prorcessing preceding the P arrival.\n",
    "    10. noise_dominant_amplitude : The amplitude of the dominant frequency of the noise.\n",
    "    11. noise_variance : The variance in the signal preceding the P arrival.  The variance is the signal energy - the signal DC energy.\n",
    "    12. signal_variance : The variance in the signal following (2.5s?) the P arrival.\n",
    "    13. source_receiver_distance_km : The source receiver distance in km.\n",
    "    14. source_depth_km : The source depth in km.\n",
    "    15. source_latitude : The source latitude in degrees.\n",
    "    16. source_longitude : The source longitude in degrees.\n",
    "    17. event_identifier : The event identifier to help with splitting data.\n",
    "    18. source_receiver_back_azimuth : This is the receiver to source azimuth in degrees.  Effectively, with this, the source-receiver distance an ML model can learn a source-location dependent source model.  Alternatively, you can use source_latitude and source_longitude.  But both seems pretty redundant and probably not a great idea.\n",
    "    \n",
    "Potential Targets:\n",
    "\n",
    "    1. magnitude_type : The magnitude type.  We should regress against one target type.\n",
    "    2. magnitude : The event magnitude.  This is the target."
   ]
  },
  {
   "cell_type": "code",
   "execution_count": 6,
   "metadata": {},
   "outputs": [],
   "source": [
    "# Ensure we use 1 magnitude type\n",
    "df = df_in[ df_in.magnitude_type == 'l']"
   ]
  },
  {
   "cell_type": "code",
   "execution_count": 7,
   "metadata": {},
   "outputs": [],
   "source": [
    "# Make sure variances are sensible\n",
    "#df = df[df.signal_variance < 10]\n",
    "#df = df[df.noise_variance < 10]\n",
    "#df = df[df.signal_variance > df.noise_variance]"
   ]
  },
  {
   "cell_type": "code",
   "execution_count": 8,
   "metadata": {},
   "outputs": [
    {
     "name": "stdout",
     "output_type": "stream",
     "text": [
      "['GS.ID08' 'IE.ECRI' 'IE.GRRI' 'IE.HHAI' 'IE.PTI' 'MB.BGMT' 'MB.BZMT'\n",
      " 'MB.CRMT' 'MB.MOMT' 'MB.QLMT' 'MB.TPMT' 'PB.B206' 'PB.B207' 'PB.B208'\n",
      " 'PB.B944' 'PB.B945' 'PB.B950' 'WY.MCID' 'WY.YDC' 'WY.YDD' 'WY.YEE'\n",
      " 'WY.YFT' 'WY.YGC' 'WY.YHB' 'WY.YHH' 'WY.YHL' 'WY.YHR' 'WY.YJC' 'WY.YLA'\n",
      " 'WY.YLT' 'WY.YMC' 'WY.YML' 'WY.YMP' 'WY.YMR' 'WY.YMS' 'WY.YMV' 'WY.YNE'\n",
      " 'WY.YNM' 'WY.YNR' 'WY.YPC' 'WY.YPK' 'WY.YPM' 'WY.YPP' 'WY.YSB' 'WY.YTP'\n",
      " 'WY.YUF' 'WY.YWB']\n"
     ]
    }
   ],
   "source": [
    "# Get unique stations\n",
    "stations = df.network.values + '.' + df.station.values\n",
    "print(np.unique(stations))"
   ]
  },
  {
   "cell_type": "code",
   "execution_count": 9,
   "metadata": {},
   "outputs": [],
   "source": [
    "df = df_in[ (df_in.network == 'WY') & (df_in.station == 'YNR') & (df_in.magnitude_type == 'l')]"
   ]
  },
  {
   "cell_type": "code",
   "execution_count": null,
   "metadata": {},
   "outputs": [],
   "source": []
  },
  {
   "cell_type": "code",
   "execution_count": 10,
   "metadata": {},
   "outputs": [],
   "source": [
    "# Create some features\n",
    "#df['d_variance'] = df.signal_variance - df.noise_variance\n",
    "#df['log10_d_variance'] = np.log10(df['d_variance'])\n",
    "#df['log10_d_signal_4'] = np.log10(df['avg_signal_4.00'])"
   ]
  },
  {
   "cell_type": "code",
   "execution_count": 11,
   "metadata": {},
   "outputs": [],
   "source": [
    "# Split on evids\n",
    "evids = np.unique(df.event_identifier)\n",
    "train_evids, test_evids = train_test_split(evids, test_size = 0.2, random_state = 843823)"
   ]
  },
  {
   "cell_type": "code",
   "execution_count": 12,
   "metadata": {},
   "outputs": [
    {
     "name": "stdout",
     "output_type": "stream",
     "text": [
      "Number of training examples 4013\n",
      "Number of testing examples 1004\n"
     ]
    }
   ],
   "source": [
    "keep_train = np.zeros(len(df), dtype='bool')\n",
    "keep_test  = np.zeros(len(df), dtype='bool')\n",
    "evids = df.event_identifier.values\n",
    "for i in range(len(evids)):\n",
    "    keep_train[i] = evids[i] in train_evids\n",
    "    keep_test[i]  = ~keep_train[i]\n",
    "df_train = df[keep_train]\n",
    "df_test  = df[keep_test]\n",
    "\n",
    "assert len(df_train) + len(df_test) == len(df), 'missed some'\n",
    "print(\"Number of training examples\", len(df_train))\n",
    "print(\"Number of testing examples\", len(df_test))"
   ]
  },
  {
   "cell_type": "code",
   "execution_count": 13,
   "metadata": {},
   "outputs": [],
   "source": [
    "[X_train, scaler] = compute_feature_matrix(df_train)\n",
    "y_train = df_train.magnitude.to_numpy()\n",
    "[X_test, bogus] = compute_feature_matrix(df_test, scaler)\n",
    "y_test = df_test.magnitude.to_numpy()"
   ]
  },
  {
   "cell_type": "code",
   "execution_count": 14,
   "metadata": {},
   "outputs": [
    {
     "data": {
      "text/plain": [
       "SVR(epsilon=0.2)"
      ]
     },
     "execution_count": 14,
     "metadata": {},
     "output_type": "execute_result"
    }
   ],
   "source": [
    "svr = SVR(C=1.0, epsilon=0.2)\n",
    "svr.fit(X_train, y_train)"
   ]
  },
  {
   "cell_type": "code",
   "execution_count": 15,
   "metadata": {},
   "outputs": [
    {
     "name": "stdout",
     "output_type": "stream",
     "text": [
      "Test MSE: 0.04292057606493033\n",
      "Test R2: 0.8582599314412247\n"
     ]
    }
   ],
   "source": [
    "y_est = svr.predict(X_test)\n",
    "print(\"Test MSE:\", mean_squared_error(y_test, y_est))\n",
    "print(\"Test R2:\", r2_score(y_test, y_est))"
   ]
  },
  {
   "cell_type": "code",
   "execution_count": 16,
   "metadata": {},
   "outputs": [
    {
     "data": {
      "image/png": "[encoded data removed]",
      "text/plain": [
       "<Figure size 432x288 with 1 Axes>"
      ]
     },
     "metadata": {
      "needs_background": "light"
     },
     "output_type": "display_data"
    }
   ],
   "source": [
    "plt.scatter(y_test, y_est)\n",
    "plt.grid(True)\n",
    "plt.xlabel(\"True\")\n",
    "plt.ylabel(\"Estimate\")\n",
    "plt.show()"
   ]
  },
  {
   "cell_type": "code",
   "execution_count": 19,
   "metadata": {},
   "outputs": [
    {
     "name": "stdout",
     "output_type": "stream",
     "text": [
      "Test MSE: 0.08009312190519827\n",
      "Test R2: 0.7352284635488977\n"
     ]
    },
    {
     "data": {
      "image/png": "[encoded data removed]",
      "text/plain": [
       "<Figure size 432x288 with 1 Axes>"
      ]
     },
     "metadata": {
      "needs_background": "light"
     },
     "output_type": "display_data"
    }
   ],
   "source": [
    "# For kicks let's try another station (the model shouldn't be that transportable) but YNM is close to YNR\n",
    "df_ynm = df_in[ (df_in.network == 'WY') & (df_in.station == 'YNM') & (df_in.magnitude_type == 'l')]\n",
    "[X_test_ynm, bogus] = compute_feature_matrix(df_ynm, scaler)\n",
    "y_test_ynm = df_ynm.magnitude.to_numpy()\n",
    "y_est_ynm = svr.predict(X_test_ynm)\n",
    "print(\"Test MSE:\", mean_squared_error(y_test_ynm, y_est_ynm))\n",
    "print(\"Test R2:\", r2_score(y_test_ynm, y_est_ynm))\n",
    "\n",
    "plt.scatter(y_test_ynm, y_est_ynm)\n",
    "plt.grid(True)\n",
    "plt.xlabel(\"True\")\n",
    "plt.ylabel(\"Estimate\")\n",
    "plt.show()"
   ]
  },
  {
   "cell_type": "code",
   "execution_count": 18,
   "metadata": {},
   "outputs": [
    {
     "data": {
      "image/png": "[encoded data removed]",
      "text/plain": [
       "<Figure size 432x288 with 1 Axes>"
      ]
     },
     "metadata": {
      "needs_background": "light"
     },
     "output_type": "display_data"
    },
    {
     "data": {
      "image/png": "[encoded data removed]",
      "text/plain": [
       "<Figure size 432x288 with 1 Axes>"
      ]
     },
     "metadata": {
      "needs_background": "light"
     },
     "output_type": "display_data"
    },
    {
     "data": {
      "image/png": "[encoded data removed]",
      "text/plain": [
       "<Figure size 432x288 with 1 Axes>"
      ]
     },
     "metadata": {
      "needs_background": "light"
     },
     "output_type": "display_data"
    }
   ],
   "source": [
    "#plt.scatter(df_train['d_variance'], df_train['magnitude'])\n",
    "mask = (df_train['source_receiver_distance_km'] > 0) & (df_train['source_receiver_distance_km'] < 50)\n",
    "#plt.scatter(np.log10(df_train['d_variance'][mask]), df_train['magnitude'][mask])\n",
    "#plt.ylabel(\"Magnitude\")\n",
    "#plt.xlabel(\"Variance\")\n",
    "#plt.show()\n",
    "#df_train.describe()['signal_variance']\n",
    "\n",
    "plt.scatter(np.log10(df_train['signal_dominant_amplitude'][mask]), df_train['magnitude'][mask])\n",
    "plt.ylabel(\"Magnitude\")\n",
    "plt.xlabel(\"Dominant Amplitude\")\n",
    "plt.show()\n",
    "\n",
    "plt.scatter(np.log10(df_train['avg_signal_4.00'][mask]), df_train['magnitude'][mask])\n",
    "plt.ylabel(\"Magnitude\")\n",
    "plt.xlabel(\"4 Hz\")\n",
    "plt.show()\n",
    "\n",
    "plt.scatter(np.log10(df_train['signal_dominant_frequency'][mask]), df_train['magnitude'][mask])\n",
    "plt.ylabel(\"Magnitude\")\n",
    "plt.xlabel(\"Dominant Frequency\")\n",
    "plt.show()"
   ]
  },
  {
   "cell_type": "code",
   "execution_count": null,
   "metadata": {},
   "outputs": [],
   "source": []
  }
 ],
 "metadata": {
  "kernelspec": {
   "display_name": "Python 3",
   "language": "python",
   "name": "python3"
  },
  "language_info": {
   "codemirror_mode": {
    "name": "ipython",
    "version": 3
   },
   "file_extension": ".py",
   "mimetype": "text/x-python",
   "name": "python",
   "nbconvert_exporter": "python",
   "pygments_lexer": "ipython3",
   "version": "3.8.5"
  }
 },
 "nbformat": 4,
 "nbformat_minor": 5
}
