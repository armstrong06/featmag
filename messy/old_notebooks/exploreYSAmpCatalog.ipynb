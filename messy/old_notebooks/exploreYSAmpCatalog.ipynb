{
 "cells": [
  {
   "cell_type": "code",
   "execution_count": 2,
   "metadata": {},
   "outputs": [],
   "source": [
    "import pandas as pd\n",
    "import numpy as np\n",
    "from datetime import datetime, timezone\n",
    "import pygmt\n",
    "import matplotlib.pyplot as plt"
   ]
  },
  {
   "cell_type": "code",
   "execution_count": 2,
   "metadata": {},
   "outputs": [],
   "source": [
    "catalog_dir = \"/uufs/chpc.utah.edu/common/home/koper-group3/alysha/ben_catalogs/20230103\"\n",
    "ys_arr_df = pd.read_csv(f\"{catalog_dir}/yellowstone_arrivals_20121001_20230103.csv\")\n",
    "ys_ev_df = pd.read_csv(f\"{catalog_dir}/yellowstone_events_20121001_20230103.csv\")\n",
    "ml_df = pd.read_csv(f\"{catalog_dir}/earthquakeLocalMagnitudeCatalog.csv\")"
   ]
  },
  {
   "cell_type": "markdown",
   "metadata": {},
   "source": [
    "# Filter Local Mag Catalog for Yellowstone"
   ]
  },
  {
   "cell_type": "code",
   "execution_count": 3,
   "metadata": {},
   "outputs": [
    {
     "data": {
      "text/plain": [
       "Index(['evid', 'sta', 'net', 'seedchan', 'location', 'magtype', 'auth',\n",
       "       'subsource', 'amplitude', 'amptype', 'units', 'datetime', 'mag',\n",
       "       'magres', 'magcorr', 'weight', 'assocamm_in_wgt', 'amp_rflag', 'cflag',\n",
       "       'wstart', 'duration', 'amp_quality', 'period', 'snr'],\n",
       "      dtype='object')"
      ]
     },
     "execution_count": 3,
     "metadata": {},
     "output_type": "execute_result"
    }
   ],
   "source": [
    "ml_df.columns"
   ]
  },
  {
   "cell_type": "code",
   "execution_count": 4,
   "metadata": {},
   "outputs": [
    {
     "data": {
      "text/html": [
       "<div>\n",
       "<style scoped>\n",
       "    .dataframe tbody tr th:only-of-type {\n",
       "        vertical-align: middle;\n",
       "    }\n",
       "\n",
       "    .dataframe tbody tr th {\n",
       "        vertical-align: top;\n",
       "    }\n",
       "\n",
       "    .dataframe thead th {\n",
       "        text-align: right;\n",
       "    }\n",
       "</style>\n",
       "<table border=\"1\" class=\"dataframe\">\n",
       "  <thead>\n",
       "    <tr style=\"text-align: right;\">\n",
       "      <th></th>\n",
       "      <th>evid</th>\n",
       "      <th>sta</th>\n",
       "      <th>net</th>\n",
       "      <th>seedchan</th>\n",
       "      <th>location</th>\n",
       "      <th>magtype</th>\n",
       "      <th>auth</th>\n",
       "      <th>subsource</th>\n",
       "      <th>amplitude</th>\n",
       "      <th>amptype</th>\n",
       "      <th>...</th>\n",
       "      <th>magcorr</th>\n",
       "      <th>weight</th>\n",
       "      <th>assocamm_in_wgt</th>\n",
       "      <th>amp_rflag</th>\n",
       "      <th>cflag</th>\n",
       "      <th>wstart</th>\n",
       "      <th>duration</th>\n",
       "      <th>amp_quality</th>\n",
       "      <th>period</th>\n",
       "      <th>snr</th>\n",
       "    </tr>\n",
       "  </thead>\n",
       "  <tbody>\n",
       "    <tr>\n",
       "      <th>0</th>\n",
       "      <td>60000045</td>\n",
       "      <td>KNB</td>\n",
       "      <td>UU</td>\n",
       "      <td>HHE</td>\n",
       "      <td>01</td>\n",
       "      <td>l</td>\n",
       "      <td>UU</td>\n",
       "      <td>Jiggle</td>\n",
       "      <td>0.372118</td>\n",
       "      <td>WAS</td>\n",
       "      <td>...</td>\n",
       "      <td>0.21</td>\n",
       "      <td>1</td>\n",
       "      <td>1.0</td>\n",
       "      <td>H</td>\n",
       "      <td>OS</td>\n",
       "      <td>1.350389e+09</td>\n",
       "      <td>12.778965</td>\n",
       "      <td>1.0</td>\n",
       "      <td>0.16</td>\n",
       "      <td>7.273734</td>\n",
       "    </tr>\n",
       "    <tr>\n",
       "      <th>1</th>\n",
       "      <td>60000045</td>\n",
       "      <td>KNB</td>\n",
       "      <td>UU</td>\n",
       "      <td>HHN</td>\n",
       "      <td>01</td>\n",
       "      <td>l</td>\n",
       "      <td>UU</td>\n",
       "      <td>Jiggle</td>\n",
       "      <td>0.200918</td>\n",
       "      <td>WAS</td>\n",
       "      <td>...</td>\n",
       "      <td>0.21</td>\n",
       "      <td>1</td>\n",
       "      <td>1.0</td>\n",
       "      <td>H</td>\n",
       "      <td>OS</td>\n",
       "      <td>1.350389e+09</td>\n",
       "      <td>12.778965</td>\n",
       "      <td>1.0</td>\n",
       "      <td>0.14</td>\n",
       "      <td>6.946954</td>\n",
       "    </tr>\n",
       "    <tr>\n",
       "      <th>2</th>\n",
       "      <td>60000045</td>\n",
       "      <td>LCMT</td>\n",
       "      <td>UU</td>\n",
       "      <td>HHN</td>\n",
       "      <td>01</td>\n",
       "      <td>l</td>\n",
       "      <td>UU</td>\n",
       "      <td>Jiggle</td>\n",
       "      <td>0.613833</td>\n",
       "      <td>WAS</td>\n",
       "      <td>...</td>\n",
       "      <td>-0.12</td>\n",
       "      <td>1</td>\n",
       "      <td>1.0</td>\n",
       "      <td>F</td>\n",
       "      <td>OS</td>\n",
       "      <td>1.350389e+09</td>\n",
       "      <td>1.100000</td>\n",
       "      <td>1.0</td>\n",
       "      <td>0.16</td>\n",
       "      <td>11.710181</td>\n",
       "    </tr>\n",
       "    <tr>\n",
       "      <th>3</th>\n",
       "      <td>60000045</td>\n",
       "      <td>LCMT</td>\n",
       "      <td>UU</td>\n",
       "      <td>HHE</td>\n",
       "      <td>01</td>\n",
       "      <td>l</td>\n",
       "      <td>UU</td>\n",
       "      <td>Jiggle</td>\n",
       "      <td>0.431768</td>\n",
       "      <td>WAS</td>\n",
       "      <td>...</td>\n",
       "      <td>-0.12</td>\n",
       "      <td>1</td>\n",
       "      <td>1.0</td>\n",
       "      <td>F</td>\n",
       "      <td>OS</td>\n",
       "      <td>1.350389e+09</td>\n",
       "      <td>0.670000</td>\n",
       "      <td>1.0</td>\n",
       "      <td>0.14</td>\n",
       "      <td>9.821483</td>\n",
       "    </tr>\n",
       "    <tr>\n",
       "      <th>4</th>\n",
       "      <td>60000045</td>\n",
       "      <td>CCUT</td>\n",
       "      <td>UU</td>\n",
       "      <td>HHE</td>\n",
       "      <td>01</td>\n",
       "      <td>l</td>\n",
       "      <td>UU</td>\n",
       "      <td>Jiggle</td>\n",
       "      <td>0.029070</td>\n",
       "      <td>WAS</td>\n",
       "      <td>...</td>\n",
       "      <td>0.31</td>\n",
       "      <td>1</td>\n",
       "      <td>1.0</td>\n",
       "      <td>H</td>\n",
       "      <td>OS</td>\n",
       "      <td>1.350389e+09</td>\n",
       "      <td>28.855159</td>\n",
       "      <td>1.0</td>\n",
       "      <td>0.36</td>\n",
       "      <td>3.520239</td>\n",
       "    </tr>\n",
       "  </tbody>\n",
       "</table>\n",
       "<p>5 rows × 24 columns</p>\n",
       "</div>"
      ],
      "text/plain": [
       "       evid   sta net seedchan location magtype auth subsource  amplitude  \\\n",
       "0  60000045   KNB  UU      HHE       01       l   UU    Jiggle   0.372118   \n",
       "1  60000045   KNB  UU      HHN       01       l   UU    Jiggle   0.200918   \n",
       "2  60000045  LCMT  UU      HHN       01       l   UU    Jiggle   0.613833   \n",
       "3  60000045  LCMT  UU      HHE       01       l   UU    Jiggle   0.431768   \n",
       "4  60000045  CCUT  UU      HHE       01       l   UU    Jiggle   0.029070   \n",
       "\n",
       "  amptype  ... magcorr  weight  assocamm_in_wgt  amp_rflag  cflag  \\\n",
       "0     WAS  ...    0.21       1              1.0          H     OS   \n",
       "1     WAS  ...    0.21       1              1.0          H     OS   \n",
       "2     WAS  ...   -0.12       1              1.0          F     OS   \n",
       "3     WAS  ...   -0.12       1              1.0          F     OS   \n",
       "4     WAS  ...    0.31       1              1.0          H     OS   \n",
       "\n",
       "         wstart   duration amp_quality period        snr  \n",
       "0  1.350389e+09  12.778965         1.0   0.16   7.273734  \n",
       "1  1.350389e+09  12.778965         1.0   0.14   6.946954  \n",
       "2  1.350389e+09   1.100000         1.0   0.16  11.710181  \n",
       "3  1.350389e+09   0.670000         1.0   0.14   9.821483  \n",
       "4  1.350389e+09  28.855159         1.0   0.36   3.520239  \n",
       "\n",
       "[5 rows x 24 columns]"
      ]
     },
     "execution_count": 4,
     "metadata": {},
     "output_type": "execute_result"
    }
   ],
   "source": [
    "ml_df.head()"
   ]
  },
  {
   "cell_type": "code",
   "execution_count": 5,
   "metadata": {},
   "outputs": [
    {
     "data": {
      "text/plain": [
       "array(['l'], dtype=object)"
      ]
     },
     "execution_count": 5,
     "metadata": {},
     "output_type": "execute_result"
    }
   ],
   "source": [
    "ml_df['magtype'].unique()"
   ]
  },
  {
   "cell_type": "markdown",
   "metadata": {},
   "source": [
    "Date range is the same as other YS catalogs 2012/10/01 to 2023/01/03"
   ]
  },
  {
   "cell_type": "code",
   "execution_count": 6,
   "metadata": {},
   "outputs": [
    {
     "data": {
      "text/plain": [
       "datetime.datetime(2012, 10, 1, 4, 58, 34, 664999, tzinfo=datetime.timezone.utc)"
      ]
     },
     "execution_count": 6,
     "metadata": {},
     "output_type": "execute_result"
    }
   ],
   "source": [
    "datetime.fromtimestamp(ml_df['datetime'].min(), tz=timezone.utc)"
   ]
  },
  {
   "cell_type": "code",
   "execution_count": 7,
   "metadata": {},
   "outputs": [
    {
     "data": {
      "text/plain": [
       "datetime.datetime(2023, 1, 3, 22, 43, 45, 920000, tzinfo=datetime.timezone.utc)"
      ]
     },
     "execution_count": 7,
     "metadata": {},
     "output_type": "execute_result"
    }
   ],
   "source": [
    "datetime.fromtimestamp(ml_df['datetime'].max(), tz=timezone.utc)"
   ]
  },
  {
   "cell_type": "markdown",
   "metadata": {},
   "source": [
    "Get the yellowstone events using evids"
   ]
  },
  {
   "cell_type": "code",
   "execution_count": 8,
   "metadata": {},
   "outputs": [],
   "source": [
    "ml_matching_df = ml_df[ml_df['evid'].isin(ys_ev_df['evid'])]"
   ]
  },
  {
   "cell_type": "code",
   "execution_count": 9,
   "metadata": {},
   "outputs": [
    {
     "data": {
      "text/plain": [
       "36"
      ]
     },
     "execution_count": 9,
     "metadata": {},
     "output_type": "execute_result"
    }
   ],
   "source": [
    "len(ml_matching_df[ml_matching_df['sta'] == 'YHH'])"
   ]
  },
  {
   "cell_type": "markdown",
   "metadata": {},
   "source": [
    "There are more phase arrivals than amplitudes for local mags, which makes sense"
   ]
  },
  {
   "cell_type": "code",
   "execution_count": 10,
   "metadata": {},
   "outputs": [
    {
     "data": {
      "text/plain": [
       "119246"
      ]
     },
     "execution_count": 10,
     "metadata": {},
     "output_type": "execute_result"
    }
   ],
   "source": [
    "len(ys_arr_df[ys_arr_df['magnitude_type'] == 'l'])"
   ]
  },
  {
   "cell_type": "code",
   "execution_count": 11,
   "metadata": {},
   "outputs": [
    {
     "data": {
      "text/plain": [
       "49283"
      ]
     },
     "execution_count": 11,
     "metadata": {},
     "output_type": "execute_result"
    }
   ],
   "source": [
    "len(ml_matching_df)"
   ]
  },
  {
   "cell_type": "markdown",
   "metadata": {},
   "source": [
    "There are amplitude values for events that do not have a preferred M_L type. "
   ]
  },
  {
   "cell_type": "code",
   "execution_count": 12,
   "metadata": {},
   "outputs": [
    {
     "data": {
      "text/plain": [
       "magnitude_type\n",
       "d    10613\n",
       "l     7652\n",
       "h      366\n",
       "w        1\n",
       "Name: count, dtype: int64"
      ]
     },
     "execution_count": 12,
     "metadata": {},
     "output_type": "execute_result"
    }
   ],
   "source": [
    "ys_ev_df.value_counts('magnitude_type')"
   ]
  },
  {
   "cell_type": "code",
   "execution_count": 13,
   "metadata": {},
   "outputs": [
    {
     "data": {
      "text/plain": [
       "(7852,)"
      ]
     },
     "execution_count": 13,
     "metadata": {},
     "output_type": "execute_result"
    }
   ],
   "source": [
    "ml_matching_df['evid'].unique().shape"
   ]
  },
  {
   "cell_type": "code",
   "execution_count": 14,
   "metadata": {},
   "outputs": [
    {
     "data": {
      "text/plain": [
       "magnitude_type\n",
       "l    7652\n",
       "d     193\n",
       "h       6\n",
       "w       1\n",
       "Name: count, dtype: int64"
      ]
     },
     "execution_count": 14,
     "metadata": {},
     "output_type": "execute_result"
    }
   ],
   "source": [
    "ml_df.drop_duplicates('evid')[['evid']].merge(ys_ev_df[['evid', 'magnitude_type']], how='inner').value_counts('magnitude_type')"
   ]
  },
  {
   "cell_type": "markdown",
   "metadata": {},
   "source": [
    "Just keep amplitude values for events with preferred magnitude type M_L"
   ]
  },
  {
   "cell_type": "code",
   "execution_count": 15,
   "metadata": {},
   "outputs": [],
   "source": [
    "ys_ml_df = ml_df[ml_df['evid'].isin(ys_ev_df[ys_ev_df['magnitude_type'] == 'l']['evid'])]"
   ]
  },
  {
   "cell_type": "code",
   "execution_count": 16,
   "metadata": {},
   "outputs": [
    {
     "data": {
      "text/plain": [
       "47951"
      ]
     },
     "execution_count": 16,
     "metadata": {},
     "output_type": "execute_result"
    }
   ],
   "source": [
    "len(ys_ml_df)"
   ]
  },
  {
   "cell_type": "markdown",
   "metadata": {},
   "source": [
    "There are 7652 events in the YS catalog with preferred mag type M_L and 7652 with amplitude values in the local mag catalog!"
   ]
  },
  {
   "cell_type": "code",
   "execution_count": 17,
   "metadata": {},
   "outputs": [],
   "source": [
    "assert len(ys_ml_df.drop_duplicates('evid')) == len(ys_ev_df[ys_ev_df.magnitude_type == 'l'])"
   ]
  },
  {
   "cell_type": "code",
   "execution_count": 18,
   "metadata": {},
   "outputs": [],
   "source": [
    "ys_ml_df.to_csv(f\"{catalog_dir}/yellowstone_local_mag_prefMlOnly_20121001_20230103.csv\", index=False)"
   ]
  },
  {
   "cell_type": "code",
   "execution_count": 19,
   "metadata": {},
   "outputs": [
    {
     "data": {
      "text/plain": [
       "sta\n",
       "YNR     12352\n",
       "YMR     11902\n",
       "YFT      7046\n",
       "YHB      6199\n",
       "YUF      4084\n",
       "LKWY     3446\n",
       "BOZ      1642\n",
       "AHID      340\n",
       "HLID      252\n",
       "BW06      210\n",
       "HWUT       86\n",
       "HVU        84\n",
       "TCU        76\n",
       "RDMU       46\n",
       "CTU        42\n",
       "SPU        24\n",
       "JLU        18\n",
       "DUG        18\n",
       "BGU        16\n",
       "NOQ        14\n",
       "MPU        12\n",
       "ELK        12\n",
       "NLU        10\n",
       "LOHW        8\n",
       "YDD         6\n",
       "TMU         4\n",
       "SRU         2\n",
       "Name: count, dtype: int64"
      ]
     },
     "execution_count": 19,
     "metadata": {},
     "output_type": "execute_result"
    }
   ],
   "source": [
    "ys_ml_df['sta'].value_counts()"
   ]
  },
  {
   "cell_type": "markdown",
   "metadata": {},
   "source": [
    "Keeping only preferred local mag events removes amplitude measurements from some stations that have a James station correction"
   ]
  },
  {
   "cell_type": "code",
   "execution_count": 20,
   "metadata": {},
   "outputs": [
    {
     "data": {
      "text/plain": [
       "array(['LKWY', 'YFT', 'YUF', 'YNR', 'YMR', 'YHB', 'BOZ', 'CTU', 'HLID',\n",
       "       'BW06', 'TCU', 'HVU', 'AHID', 'HWUT', 'YPP', 'YTP', 'YHH', 'YMP',\n",
       "       'YHL', 'YNE', 'SPU', 'NOQ', 'JLU', 'MPU', 'RDMU', 'DUG', 'BGU',\n",
       "       'NLU', 'ELK', 'YHR', 'LOHW', 'REDW', 'TMU', 'YDD', 'SRU'],\n",
       "      dtype=object)"
      ]
     },
     "execution_count": 20,
     "metadata": {},
     "output_type": "execute_result"
    }
   ],
   "source": [
    "ml_matching_df.sta.unique()"
   ]
  },
  {
   "cell_type": "code",
   "execution_count": 21,
   "metadata": {},
   "outputs": [
    {
     "data": {
      "text/plain": [
       "array(['LKWY', 'YFT', 'YUF', 'YNR', 'YMR', 'YHB', 'BOZ', 'CTU', 'HLID',\n",
       "       'BW06', 'TCU', 'HVU', 'AHID', 'HWUT', 'SPU', 'NOQ', 'JLU', 'MPU',\n",
       "       'RDMU', 'DUG', 'BGU', 'ELK', 'NLU', 'TMU', 'YDD', 'SRU', 'LOHW'],\n",
       "      dtype=object)"
      ]
     },
     "execution_count": 21,
     "metadata": {},
     "output_type": "execute_result"
    }
   ],
   "source": [
    "ys_ml_df.sta.unique()"
   ]
  },
  {
   "cell_type": "markdown",
   "metadata": {},
   "source": [
    "# Look at the amplitudes now\n",
    "\n",
    "mag column is the station mag, not network mag"
   ]
  },
  {
   "cell_type": "code",
   "execution_count": 22,
   "metadata": {},
   "outputs": [
    {
     "data": {
      "text/plain": [
       "<matplotlib.collections.PathCollection at 0x14c936b8f020>"
      ]
     },
     "execution_count": 22,
     "metadata": {},
     "output_type": "execute_result"
    },
    {
     "data": {
      "image/png": "[encoded data removed]",
      "text/plain": [
       "<Figure size 640x480 with 1 Axes>"
      ]
     },
     "metadata": {},
     "output_type": "display_data"
    }
   ],
   "source": [
    "plt.scatter(np.log10(ys_ml_df['amplitude']) + 1, ys_ml_df['mag'], s=10, alpha=0.5)"
   ]
  },
  {
   "cell_type": "code",
   "execution_count": 23,
   "metadata": {},
   "outputs": [],
   "source": [
    "# Not sure if I should be multiplying by something. I think it is in mm, so that would be multiply by 10. \n",
    "ys_logA = ys_ml_df[['evid', 'sta', 'seedchan', 'amplitude', 'magcorr', 'magres', 'mag', 'units', 'amptype']].copy()\n",
    "ys_logA.loc[:, 'logA'] =  np.log10(10*ys_logA['amplitude'])"
   ]
  },
  {
   "cell_type": "code",
   "execution_count": 24,
   "metadata": {},
   "outputs": [
    {
     "data": {
      "text/plain": [
       "amptype\n",
       "WAS    47951\n",
       "Name: count, dtype: int64"
      ]
     },
     "execution_count": 24,
     "metadata": {},
     "output_type": "execute_result"
    }
   ],
   "source": [
    "ys_logA['amptype'].value_counts()"
   ]
  },
  {
   "cell_type": "code",
   "execution_count": 25,
   "metadata": {},
   "outputs": [
    {
     "data": {
      "text/plain": [
       "units\n",
       "cm    47700\n",
       "mm      251\n",
       "Name: count, dtype: int64"
      ]
     },
     "execution_count": 25,
     "metadata": {},
     "output_type": "execute_result"
    }
   ],
   "source": [
    "ys_logA['units'].value_counts()"
   ]
  },
  {
   "cell_type": "code",
   "execution_count": 26,
   "metadata": {},
   "outputs": [
    {
     "data": {
      "text/plain": [
       "24        0.06\n",
       "25        0.06\n",
       "26       -0.25\n",
       "27        0.59\n",
       "28        0.59\n",
       "          ... \n",
       "128099   -0.09\n",
       "128136   -0.24\n",
       "128137   -0.24\n",
       "128138    0.24\n",
       "128139    0.24\n",
       "Name: magres, Length: 47951, dtype: float64"
      ]
     },
     "execution_count": 26,
     "metadata": {},
     "output_type": "execute_result"
    }
   ],
   "source": [
    "ys_logA['magres']"
   ]
  },
  {
   "cell_type": "markdown",
   "metadata": {},
   "source": [
    "logA don't agree great with station mag, probably because logA_0 being taken into account"
   ]
  },
  {
   "cell_type": "code",
   "execution_count": 27,
   "metadata": {},
   "outputs": [
    {
     "data": {
      "text/html": [
       "<div>\n",
       "<style scoped>\n",
       "    .dataframe tbody tr th:only-of-type {\n",
       "        vertical-align: middle;\n",
       "    }\n",
       "\n",
       "    .dataframe tbody tr th {\n",
       "        vertical-align: top;\n",
       "    }\n",
       "\n",
       "    .dataframe thead th {\n",
       "        text-align: right;\n",
       "    }\n",
       "</style>\n",
       "<table border=\"1\" class=\"dataframe\">\n",
       "  <thead>\n",
       "    <tr style=\"text-align: right;\">\n",
       "      <th></th>\n",
       "      <th>evid</th>\n",
       "      <th>logA</th>\n",
       "      <th>magcorr</th>\n",
       "      <th>mag</th>\n",
       "    </tr>\n",
       "  </thead>\n",
       "  <tbody>\n",
       "    <tr>\n",
       "      <th>24</th>\n",
       "      <td>60000620</td>\n",
       "      <td>1.006126</td>\n",
       "      <td>0.06</td>\n",
       "      <td>2.25</td>\n",
       "    </tr>\n",
       "    <tr>\n",
       "      <th>25</th>\n",
       "      <td>60000620</td>\n",
       "      <td>0.735761</td>\n",
       "      <td>0.06</td>\n",
       "      <td>2.25</td>\n",
       "    </tr>\n",
       "    <tr>\n",
       "      <th>26</th>\n",
       "      <td>60000620</td>\n",
       "      <td>0.213890</td>\n",
       "      <td>0.20</td>\n",
       "      <td>1.94</td>\n",
       "    </tr>\n",
       "    <tr>\n",
       "      <th>27</th>\n",
       "      <td>60000620</td>\n",
       "      <td>0.610896</td>\n",
       "      <td>0.61</td>\n",
       "      <td>2.78</td>\n",
       "    </tr>\n",
       "    <tr>\n",
       "      <th>28</th>\n",
       "      <td>60000620</td>\n",
       "      <td>0.530381</td>\n",
       "      <td>0.61</td>\n",
       "      <td>2.78</td>\n",
       "    </tr>\n",
       "    <tr>\n",
       "      <th>...</th>\n",
       "      <td>...</td>\n",
       "      <td>...</td>\n",
       "      <td>...</td>\n",
       "      <td>...</td>\n",
       "    </tr>\n",
       "    <tr>\n",
       "      <th>128099</th>\n",
       "      <td>60528897</td>\n",
       "      <td>-0.134067</td>\n",
       "      <td>-0.38</td>\n",
       "      <td>0.88</td>\n",
       "    </tr>\n",
       "    <tr>\n",
       "      <th>128136</th>\n",
       "      <td>60528982</td>\n",
       "      <td>0.132178</td>\n",
       "      <td>-0.38</td>\n",
       "      <td>0.97</td>\n",
       "    </tr>\n",
       "    <tr>\n",
       "      <th>128137</th>\n",
       "      <td>60528982</td>\n",
       "      <td>-0.037769</td>\n",
       "      <td>-0.38</td>\n",
       "      <td>0.97</td>\n",
       "    </tr>\n",
       "    <tr>\n",
       "      <th>128138</th>\n",
       "      <td>60528982</td>\n",
       "      <td>-0.280813</td>\n",
       "      <td>0.18</td>\n",
       "      <td>1.45</td>\n",
       "    </tr>\n",
       "    <tr>\n",
       "      <th>128139</th>\n",
       "      <td>60528982</td>\n",
       "      <td>-0.022279</td>\n",
       "      <td>0.18</td>\n",
       "      <td>1.45</td>\n",
       "    </tr>\n",
       "  </tbody>\n",
       "</table>\n",
       "<p>47951 rows × 4 columns</p>\n",
       "</div>"
      ],
      "text/plain": [
       "            evid      logA  magcorr   mag\n",
       "24      60000620  1.006126     0.06  2.25\n",
       "25      60000620  0.735761     0.06  2.25\n",
       "26      60000620  0.213890     0.20  1.94\n",
       "27      60000620  0.610896     0.61  2.78\n",
       "28      60000620  0.530381     0.61  2.78\n",
       "...          ...       ...      ...   ...\n",
       "128099  60528897 -0.134067    -0.38  0.88\n",
       "128136  60528982  0.132178    -0.38  0.97\n",
       "128137  60528982 -0.037769    -0.38  0.97\n",
       "128138  60528982 -0.280813     0.18  1.45\n",
       "128139  60528982 -0.022279     0.18  1.45\n",
       "\n",
       "[47951 rows x 4 columns]"
      ]
     },
     "execution_count": 27,
     "metadata": {},
     "output_type": "execute_result"
    }
   ],
   "source": [
    "ys_logA[['evid', 'logA', 'magcorr', 'mag']]"
   ]
  },
  {
   "cell_type": "markdown",
   "metadata": {},
   "source": [
    "'mag' column is station mag - likely uses average of the two component amplitudes - not the catalog mag. Averaging the station mags gives the catalog mag\n",
    "\n",
    "I think 'magcorr' is the station correction, but there is more than 10 of them so maybe not?"
   ]
  },
  {
   "cell_type": "code",
   "execution_count": 28,
   "metadata": {},
   "outputs": [
    {
     "data": {
      "text/html": [
       "<div>\n",
       "<style scoped>\n",
       "    .dataframe tbody tr th:only-of-type {\n",
       "        vertical-align: middle;\n",
       "    }\n",
       "\n",
       "    .dataframe tbody tr th {\n",
       "        vertical-align: top;\n",
       "    }\n",
       "\n",
       "    .dataframe thead th {\n",
       "        text-align: right;\n",
       "    }\n",
       "</style>\n",
       "<table border=\"1\" class=\"dataframe\">\n",
       "  <thead>\n",
       "    <tr style=\"text-align: right;\">\n",
       "      <th></th>\n",
       "      <th>sta</th>\n",
       "      <th>magcorr</th>\n",
       "    </tr>\n",
       "  </thead>\n",
       "  <tbody>\n",
       "    <tr>\n",
       "      <th>24</th>\n",
       "      <td>LKWY</td>\n",
       "      <td>0.06</td>\n",
       "    </tr>\n",
       "    <tr>\n",
       "      <th>26</th>\n",
       "      <td>YFT</td>\n",
       "      <td>0.20</td>\n",
       "    </tr>\n",
       "    <tr>\n",
       "      <th>27</th>\n",
       "      <td>YUF</td>\n",
       "      <td>0.61</td>\n",
       "    </tr>\n",
       "    <tr>\n",
       "      <th>30</th>\n",
       "      <td>YNR</td>\n",
       "      <td>0.35</td>\n",
       "    </tr>\n",
       "    <tr>\n",
       "      <th>32</th>\n",
       "      <td>YMR</td>\n",
       "      <td>-0.38</td>\n",
       "    </tr>\n",
       "    <tr>\n",
       "      <th>33</th>\n",
       "      <td>YHB</td>\n",
       "      <td>0.18</td>\n",
       "    </tr>\n",
       "    <tr>\n",
       "      <th>166</th>\n",
       "      <td>BOZ</td>\n",
       "      <td>0.17</td>\n",
       "    </tr>\n",
       "    <tr>\n",
       "      <th>168</th>\n",
       "      <td>CTU</td>\n",
       "      <td>0.10</td>\n",
       "    </tr>\n",
       "    <tr>\n",
       "      <th>170</th>\n",
       "      <td>HLID</td>\n",
       "      <td>0.05</td>\n",
       "    </tr>\n",
       "    <tr>\n",
       "      <th>288</th>\n",
       "      <td>BW06</td>\n",
       "      <td>-0.15</td>\n",
       "    </tr>\n",
       "    <tr>\n",
       "      <th>292</th>\n",
       "      <td>TCU</td>\n",
       "      <td>-0.55</td>\n",
       "    </tr>\n",
       "    <tr>\n",
       "      <th>316</th>\n",
       "      <td>HVU</td>\n",
       "      <td>-0.21</td>\n",
       "    </tr>\n",
       "    <tr>\n",
       "      <th>2068</th>\n",
       "      <td>AHID</td>\n",
       "      <td>-0.43</td>\n",
       "    </tr>\n",
       "    <tr>\n",
       "      <th>2566</th>\n",
       "      <td>HWUT</td>\n",
       "      <td>0.09</td>\n",
       "    </tr>\n",
       "    <tr>\n",
       "      <th>11354</th>\n",
       "      <td>SPU</td>\n",
       "      <td>-0.10</td>\n",
       "    </tr>\n",
       "    <tr>\n",
       "      <th>11357</th>\n",
       "      <td>NOQ</td>\n",
       "      <td>-0.08</td>\n",
       "    </tr>\n",
       "    <tr>\n",
       "      <th>11358</th>\n",
       "      <td>JLU</td>\n",
       "      <td>0.05</td>\n",
       "    </tr>\n",
       "    <tr>\n",
       "      <th>11359</th>\n",
       "      <td>MPU</td>\n",
       "      <td>0.20</td>\n",
       "    </tr>\n",
       "    <tr>\n",
       "      <th>11366</th>\n",
       "      <td>RDMU</td>\n",
       "      <td>-0.15</td>\n",
       "    </tr>\n",
       "    <tr>\n",
       "      <th>11368</th>\n",
       "      <td>DUG</td>\n",
       "      <td>0.08</td>\n",
       "    </tr>\n",
       "    <tr>\n",
       "      <th>12575</th>\n",
       "      <td>BGU</td>\n",
       "      <td>0.03</td>\n",
       "    </tr>\n",
       "    <tr>\n",
       "      <th>24770</th>\n",
       "      <td>ELK</td>\n",
       "      <td>0.02</td>\n",
       "    </tr>\n",
       "    <tr>\n",
       "      <th>47942</th>\n",
       "      <td>NLU</td>\n",
       "      <td>0.14</td>\n",
       "    </tr>\n",
       "    <tr>\n",
       "      <th>73665</th>\n",
       "      <td>TMU</td>\n",
       "      <td>-0.28</td>\n",
       "    </tr>\n",
       "    <tr>\n",
       "      <th>91920</th>\n",
       "      <td>YDD</td>\n",
       "      <td>0.00</td>\n",
       "    </tr>\n",
       "    <tr>\n",
       "      <th>101432</th>\n",
       "      <td>SRU</td>\n",
       "      <td>-0.35</td>\n",
       "    </tr>\n",
       "    <tr>\n",
       "      <th>107796</th>\n",
       "      <td>LOHW</td>\n",
       "      <td>0.00</td>\n",
       "    </tr>\n",
       "  </tbody>\n",
       "</table>\n",
       "</div>"
      ],
      "text/plain": [
       "         sta  magcorr\n",
       "24      LKWY     0.06\n",
       "26       YFT     0.20\n",
       "27       YUF     0.61\n",
       "30       YNR     0.35\n",
       "32       YMR    -0.38\n",
       "33       YHB     0.18\n",
       "166      BOZ     0.17\n",
       "168      CTU     0.10\n",
       "170     HLID     0.05\n",
       "288     BW06    -0.15\n",
       "292      TCU    -0.55\n",
       "316      HVU    -0.21\n",
       "2068    AHID    -0.43\n",
       "2566    HWUT     0.09\n",
       "11354    SPU    -0.10\n",
       "11357    NOQ    -0.08\n",
       "11358    JLU     0.05\n",
       "11359    MPU     0.20\n",
       "11366   RDMU    -0.15\n",
       "11368    DUG     0.08\n",
       "12575    BGU     0.03\n",
       "24770    ELK     0.02\n",
       "47942    NLU     0.14\n",
       "73665    TMU    -0.28\n",
       "91920    YDD     0.00\n",
       "101432   SRU    -0.35\n",
       "107796  LOHW     0.00"
      ]
     },
     "execution_count": 28,
     "metadata": {},
     "output_type": "execute_result"
    }
   ],
   "source": [
    "# More than 10 stations with magcorr\n",
    "ys_ml_df[['sta', 'magcorr']].drop_duplicates()"
   ]
  },
  {
   "cell_type": "code",
   "execution_count": 29,
   "metadata": {},
   "outputs": [
    {
     "data": {
      "text/html": [
       "<div>\n",
       "<style scoped>\n",
       "    .dataframe tbody tr th:only-of-type {\n",
       "        vertical-align: middle;\n",
       "    }\n",
       "\n",
       "    .dataframe tbody tr th {\n",
       "        vertical-align: top;\n",
       "    }\n",
       "\n",
       "    .dataframe thead th {\n",
       "        text-align: right;\n",
       "    }\n",
       "</style>\n",
       "<table border=\"1\" class=\"dataframe\">\n",
       "  <thead>\n",
       "    <tr style=\"text-align: right;\">\n",
       "      <th></th>\n",
       "      <th>sta</th>\n",
       "      <th>seedchan</th>\n",
       "      <th>mag</th>\n",
       "    </tr>\n",
       "  </thead>\n",
       "  <tbody>\n",
       "    <tr>\n",
       "      <th>24</th>\n",
       "      <td>LKWY</td>\n",
       "      <td>BHE</td>\n",
       "      <td>2.25</td>\n",
       "    </tr>\n",
       "    <tr>\n",
       "      <th>25</th>\n",
       "      <td>LKWY</td>\n",
       "      <td>BHN</td>\n",
       "      <td>2.25</td>\n",
       "    </tr>\n",
       "    <tr>\n",
       "      <th>26</th>\n",
       "      <td>YFT</td>\n",
       "      <td>HHE</td>\n",
       "      <td>1.94</td>\n",
       "    </tr>\n",
       "    <tr>\n",
       "      <th>27</th>\n",
       "      <td>YUF</td>\n",
       "      <td>HHN</td>\n",
       "      <td>2.78</td>\n",
       "    </tr>\n",
       "    <tr>\n",
       "      <th>28</th>\n",
       "      <td>YUF</td>\n",
       "      <td>HHE</td>\n",
       "      <td>2.78</td>\n",
       "    </tr>\n",
       "    <tr>\n",
       "      <th>29</th>\n",
       "      <td>YFT</td>\n",
       "      <td>HHN</td>\n",
       "      <td>1.94</td>\n",
       "    </tr>\n",
       "    <tr>\n",
       "      <th>30</th>\n",
       "      <td>YNR</td>\n",
       "      <td>HHE</td>\n",
       "      <td>2.47</td>\n",
       "    </tr>\n",
       "    <tr>\n",
       "      <th>31</th>\n",
       "      <td>YNR</td>\n",
       "      <td>HHN</td>\n",
       "      <td>2.47</td>\n",
       "    </tr>\n",
       "    <tr>\n",
       "      <th>32</th>\n",
       "      <td>YMR</td>\n",
       "      <td>HHN</td>\n",
       "      <td>1.73</td>\n",
       "    </tr>\n",
       "    <tr>\n",
       "      <th>33</th>\n",
       "      <td>YHB</td>\n",
       "      <td>HHN</td>\n",
       "      <td>2.00</td>\n",
       "    </tr>\n",
       "    <tr>\n",
       "      <th>34</th>\n",
       "      <td>YMR</td>\n",
       "      <td>HHE</td>\n",
       "      <td>1.73</td>\n",
       "    </tr>\n",
       "    <tr>\n",
       "      <th>35</th>\n",
       "      <td>YHB</td>\n",
       "      <td>HHE</td>\n",
       "      <td>2.00</td>\n",
       "    </tr>\n",
       "  </tbody>\n",
       "</table>\n",
       "</div>"
      ],
      "text/plain": [
       "     sta seedchan   mag\n",
       "24  LKWY      BHE  2.25\n",
       "25  LKWY      BHN  2.25\n",
       "26   YFT      HHE  1.94\n",
       "27   YUF      HHN  2.78\n",
       "28   YUF      HHE  2.78\n",
       "29   YFT      HHN  1.94\n",
       "30   YNR      HHE  2.47\n",
       "31   YNR      HHN  2.47\n",
       "32   YMR      HHN  1.73\n",
       "33   YHB      HHN  2.00\n",
       "34   YMR      HHE  1.73\n",
       "35   YHB      HHE  2.00"
      ]
     },
     "execution_count": 29,
     "metadata": {},
     "output_type": "execute_result"
    }
   ],
   "source": [
    "ys_logA[ys_logA['evid'] == 60000620][['sta', 'seedchan', 'mag']]"
   ]
  },
  {
   "cell_type": "code",
   "execution_count": 30,
   "metadata": {},
   "outputs": [
    {
     "data": {
      "text/plain": [
       "2.195"
      ]
     },
     "execution_count": 30,
     "metadata": {},
     "output_type": "execute_result"
    }
   ],
   "source": [
    "ys_ml_df[ys_ml_df['evid'] == 60000620]['mag'].mean()"
   ]
  },
  {
   "cell_type": "code",
   "execution_count": 31,
   "metadata": {},
   "outputs": [
    {
     "data": {
      "text/html": [
       "<div>\n",
       "<style scoped>\n",
       "    .dataframe tbody tr th:only-of-type {\n",
       "        vertical-align: middle;\n",
       "    }\n",
       "\n",
       "    .dataframe tbody tr th {\n",
       "        vertical-align: top;\n",
       "    }\n",
       "\n",
       "    .dataframe thead th {\n",
       "        text-align: right;\n",
       "    }\n",
       "</style>\n",
       "<table border=\"1\" class=\"dataframe\">\n",
       "  <thead>\n",
       "    <tr style=\"text-align: right;\">\n",
       "      <th></th>\n",
       "      <th>evid</th>\n",
       "      <th>event_lat</th>\n",
       "      <th>event_lon</th>\n",
       "      <th>event_depth</th>\n",
       "      <th>origin_time</th>\n",
       "      <th>magnitude</th>\n",
       "      <th>magnitude_type</th>\n",
       "      <th>rflag</th>\n",
       "      <th>utc</th>\n",
       "    </tr>\n",
       "  </thead>\n",
       "  <tbody>\n",
       "    <tr>\n",
       "      <th>46</th>\n",
       "      <td>60000620</td>\n",
       "      <td>44.4745</td>\n",
       "      <td>-110.552667</td>\n",
       "      <td>4.43</td>\n",
       "      <td>1.357546e+09</td>\n",
       "      <td>2.19</td>\n",
       "      <td>l</td>\n",
       "      <td>F</td>\n",
       "      <td>2013-01-07 08:12:32.649998+00:00</td>\n",
       "    </tr>\n",
       "  </tbody>\n",
       "</table>\n",
       "</div>"
      ],
      "text/plain": [
       "        evid  event_lat   event_lon  event_depth   origin_time  magnitude  \\\n",
       "46  60000620    44.4745 -110.552667         4.43  1.357546e+09       2.19   \n",
       "\n",
       "   magnitude_type rflag                               utc  \n",
       "46              l     F  2013-01-07 08:12:32.649998+00:00  "
      ]
     },
     "execution_count": 31,
     "metadata": {},
     "output_type": "execute_result"
    }
   ],
   "source": [
    "ys_ev_df[ys_ev_df['evid'] == 60000620]"
   ]
  },
  {
   "cell_type": "code",
   "execution_count": 32,
   "metadata": {},
   "outputs": [
    {
     "data": {
      "text/plain": [
       "array([0.06])"
      ]
     },
     "execution_count": 32,
     "metadata": {},
     "output_type": "execute_result"
    }
   ],
   "source": [
    "ys_ml_df[ys_ml_df['sta'] == \"LKWY\"]['magcorr'].unique()"
   ]
  },
  {
   "cell_type": "markdown",
   "metadata": {},
   "source": [
    "# James Amp catalog"
   ]
  },
  {
   "cell_type": "code",
   "execution_count": 3,
   "metadata": {},
   "outputs": [],
   "source": [
    "james_amps = pd.read_csv('/uufs/chpc.utah.edu/common/home/u1072028/PycharmProjects/ynp_local_magnitude_recalibration/catalogs/amplitudes/yellowstone.amps.clean.csv')"
   ]
  },
  {
   "cell_type": "code",
   "execution_count": 34,
   "metadata": {},
   "outputs": [
    {
     "data": {
      "text/plain": [
       "Index(['Evid', 'Date', 'Time', 'EqLat', 'EqLon', 'EqDep', 'EqML', 'EqMC', 'N',\n",
       "       'Dmin', 'ErrZ', 'ErrR', 'Net', 'Sta', 'Cmp', 'SLat', 'SLon', 'SElev',\n",
       "       'Repi', 'Rhyp', 'SML', 'Corr', 'AmpE', 'UnE', 'PerE', 'SnrE', 'AmpN',\n",
       "       'UnN', 'PerN', 'SnrN', 'halfAmpH', 'CatMag', 'H', 'GoodDep'],\n",
       "      dtype='object')"
      ]
     },
     "execution_count": 34,
     "metadata": {},
     "output_type": "execute_result"
    }
   ],
   "source": [
    "james_amps.columns"
   ]
  },
  {
   "cell_type": "code",
   "execution_count": 4,
   "metadata": {},
   "outputs": [
    {
     "data": {
      "text/plain": [
       "'1998-02-02'"
      ]
     },
     "execution_count": 4,
     "metadata": {},
     "output_type": "execute_result"
    }
   ],
   "source": [
    "james_amps[\"Date\"].min()"
   ]
  },
  {
   "cell_type": "code",
   "execution_count": 5,
   "metadata": {},
   "outputs": [
    {
     "data": {
      "text/plain": [
       "'2020-06-26'"
      ]
     },
     "execution_count": 5,
     "metadata": {},
     "output_type": "execute_result"
    }
   ],
   "source": [
    "james_amps[\"Date\"].max()"
   ]
  },
  {
   "cell_type": "code",
   "execution_count": 35,
   "metadata": {},
   "outputs": [
    {
     "data": {
      "text/html": [
       "<div>\n",
       "<style scoped>\n",
       "    .dataframe tbody tr th:only-of-type {\n",
       "        vertical-align: middle;\n",
       "    }\n",
       "\n",
       "    .dataframe tbody tr th {\n",
       "        vertical-align: top;\n",
       "    }\n",
       "\n",
       "    .dataframe thead th {\n",
       "        text-align: right;\n",
       "    }\n",
       "</style>\n",
       "<table border=\"1\" class=\"dataframe\">\n",
       "  <thead>\n",
       "    <tr style=\"text-align: right;\">\n",
       "      <th></th>\n",
       "      <th>AmpE</th>\n",
       "      <th>PerE</th>\n",
       "      <th>SnrE</th>\n",
       "      <th>AmpN</th>\n",
       "      <th>PerN</th>\n",
       "      <th>SnrN</th>\n",
       "    </tr>\n",
       "  </thead>\n",
       "  <tbody>\n",
       "    <tr>\n",
       "      <th>count</th>\n",
       "      <td>25743.000000</td>\n",
       "      <td>21556.000000</td>\n",
       "      <td>25743.000000</td>\n",
       "      <td>25743.000000</td>\n",
       "      <td>21556.000000</td>\n",
       "      <td>25743.000000</td>\n",
       "    </tr>\n",
       "    <tr>\n",
       "      <th>mean</th>\n",
       "      <td>4.903286</td>\n",
       "      <td>0.344492</td>\n",
       "      <td>50.996110</td>\n",
       "      <td>4.648515</td>\n",
       "      <td>0.352972</td>\n",
       "      <td>52.775550</td>\n",
       "    </tr>\n",
       "    <tr>\n",
       "      <th>std</th>\n",
       "      <td>47.372217</td>\n",
       "      <td>0.232387</td>\n",
       "      <td>509.561942</td>\n",
       "      <td>43.365094</td>\n",
       "      <td>0.232614</td>\n",
       "      <td>637.443359</td>\n",
       "    </tr>\n",
       "    <tr>\n",
       "      <th>min</th>\n",
       "      <td>0.009492</td>\n",
       "      <td>0.000000</td>\n",
       "      <td>0.662678</td>\n",
       "      <td>0.012480</td>\n",
       "      <td>0.000000</td>\n",
       "      <td>0.180000</td>\n",
       "    </tr>\n",
       "    <tr>\n",
       "      <th>25%</th>\n",
       "      <td>0.248665</td>\n",
       "      <td>0.200000</td>\n",
       "      <td>3.614344</td>\n",
       "      <td>0.240102</td>\n",
       "      <td>0.220000</td>\n",
       "      <td>3.634772</td>\n",
       "    </tr>\n",
       "    <tr>\n",
       "      <th>50%</th>\n",
       "      <td>0.597060</td>\n",
       "      <td>0.300000</td>\n",
       "      <td>8.020826</td>\n",
       "      <td>0.582739</td>\n",
       "      <td>0.320000</td>\n",
       "      <td>8.266130</td>\n",
       "    </tr>\n",
       "    <tr>\n",
       "      <th>75%</th>\n",
       "      <td>1.844491</td>\n",
       "      <td>0.420000</td>\n",
       "      <td>22.253078</td>\n",
       "      <td>1.785337</td>\n",
       "      <td>0.420000</td>\n",
       "      <td>22.818437</td>\n",
       "    </tr>\n",
       "    <tr>\n",
       "      <th>max</th>\n",
       "      <td>4415.609440</td>\n",
       "      <td>4.880000</td>\n",
       "      <td>52735.796900</td>\n",
       "      <td>4234.119420</td>\n",
       "      <td>4.880000</td>\n",
       "      <td>78013.171900</td>\n",
       "    </tr>\n",
       "  </tbody>\n",
       "</table>\n",
       "</div>"
      ],
      "text/plain": [
       "               AmpE          PerE          SnrE          AmpN          PerN  \\\n",
       "count  25743.000000  21556.000000  25743.000000  25743.000000  21556.000000   \n",
       "mean       4.903286      0.344492     50.996110      4.648515      0.352972   \n",
       "std       47.372217      0.232387    509.561942     43.365094      0.232614   \n",
       "min        0.009492      0.000000      0.662678      0.012480      0.000000   \n",
       "25%        0.248665      0.200000      3.614344      0.240102      0.220000   \n",
       "50%        0.597060      0.300000      8.020826      0.582739      0.320000   \n",
       "75%        1.844491      0.420000     22.253078      1.785337      0.420000   \n",
       "max     4415.609440      4.880000  52735.796900   4234.119420      4.880000   \n",
       "\n",
       "               SnrN  \n",
       "count  25743.000000  \n",
       "mean      52.775550  \n",
       "std      637.443359  \n",
       "min        0.180000  \n",
       "25%        3.634772  \n",
       "50%        8.266130  \n",
       "75%       22.818437  \n",
       "max    78013.171900  "
      ]
     },
     "execution_count": 35,
     "metadata": {},
     "output_type": "execute_result"
    }
   ],
   "source": [
    "james_amps[['AmpE', 'UnE', 'PerE', 'SnrE', 'AmpN','UnN', 'PerN', 'SnrN']].describe()"
   ]
  },
  {
   "cell_type": "code",
   "execution_count": 36,
   "metadata": {},
   "outputs": [
    {
     "data": {
      "text/plain": [
       "array(['mm'], dtype=object)"
      ]
     },
     "execution_count": 36,
     "metadata": {},
     "output_type": "execute_result"
    }
   ],
   "source": [
    "james_amps['UnE'].unique()"
   ]
  },
  {
   "cell_type": "markdown",
   "metadata": {},
   "source": [
    "Do a simple merge of the two catalog to see how the values compare"
   ]
  },
  {
   "cell_type": "code",
   "execution_count": 37,
   "metadata": {},
   "outputs": [],
   "source": [
    "\n",
    "james_ben_merge = james_amps[['Evid', 'Sta', 'Rhyp', 'Repi', 'Corr', 'AmpE', 'AmpN', 'halfAmpH', 'SML', 'CatMag', 'EqLon', 'EqLat', 'EqDep', 'SLon', 'SLat']].merge(ys_ml_df[['evid', 'sta', 'seedchan', 'amplitude', 'mag', 'magcorr']], left_on=['Evid', 'Sta'], right_on=['evid', 'sta'], how='inner')"
   ]
  },
  {
   "cell_type": "code",
   "execution_count": 38,
   "metadata": {},
   "outputs": [
    {
     "data": {
      "text/html": [
       "<div>\n",
       "<style scoped>\n",
       "    .dataframe tbody tr th:only-of-type {\n",
       "        vertical-align: middle;\n",
       "    }\n",
       "\n",
       "    .dataframe tbody tr th {\n",
       "        vertical-align: top;\n",
       "    }\n",
       "\n",
       "    .dataframe thead th {\n",
       "        text-align: right;\n",
       "    }\n",
       "</style>\n",
       "<table border=\"1\" class=\"dataframe\">\n",
       "  <thead>\n",
       "    <tr style=\"text-align: right;\">\n",
       "      <th></th>\n",
       "      <th>Evid</th>\n",
       "      <th>Sta</th>\n",
       "      <th>Rhyp</th>\n",
       "      <th>Repi</th>\n",
       "      <th>Corr</th>\n",
       "      <th>AmpE</th>\n",
       "      <th>AmpN</th>\n",
       "      <th>halfAmpH</th>\n",
       "      <th>SML</th>\n",
       "      <th>CatMag</th>\n",
       "      <th>...</th>\n",
       "      <th>EqLat</th>\n",
       "      <th>EqDep</th>\n",
       "      <th>SLon</th>\n",
       "      <th>SLat</th>\n",
       "      <th>evid</th>\n",
       "      <th>sta</th>\n",
       "      <th>seedchan</th>\n",
       "      <th>amplitude</th>\n",
       "      <th>mag</th>\n",
       "      <th>magcorr</th>\n",
       "    </tr>\n",
       "  </thead>\n",
       "  <tbody>\n",
       "    <tr>\n",
       "      <th>0</th>\n",
       "      <td>60000620</td>\n",
       "      <td>LKWY</td>\n",
       "      <td>16.965698</td>\n",
       "      <td>15.7</td>\n",
       "      <td>0.06</td>\n",
       "      <td>10.142060</td>\n",
       "      <td>5.442032</td>\n",
       "      <td>3.896023</td>\n",
       "      <td>2.25</td>\n",
       "      <td>2.19</td>\n",
       "      <td>...</td>\n",
       "      <td>44.474</td>\n",
       "      <td>6.43</td>\n",
       "      <td>-110.40000</td>\n",
       "      <td>44.56520</td>\n",
       "      <td>60000620</td>\n",
       "      <td>LKWY</td>\n",
       "      <td>BHE</td>\n",
       "      <td>1.014206</td>\n",
       "      <td>2.25</td>\n",
       "      <td>0.06</td>\n",
       "    </tr>\n",
       "    <tr>\n",
       "      <th>1</th>\n",
       "      <td>60000620</td>\n",
       "      <td>LKWY</td>\n",
       "      <td>16.965698</td>\n",
       "      <td>15.7</td>\n",
       "      <td>0.06</td>\n",
       "      <td>10.142060</td>\n",
       "      <td>5.442032</td>\n",
       "      <td>3.896023</td>\n",
       "      <td>2.25</td>\n",
       "      <td>2.19</td>\n",
       "      <td>...</td>\n",
       "      <td>44.474</td>\n",
       "      <td>6.43</td>\n",
       "      <td>-110.40000</td>\n",
       "      <td>44.56520</td>\n",
       "      <td>60000620</td>\n",
       "      <td>LKWY</td>\n",
       "      <td>BHN</td>\n",
       "      <td>0.544203</td>\n",
       "      <td>2.25</td>\n",
       "      <td>0.06</td>\n",
       "    </tr>\n",
       "    <tr>\n",
       "      <th>2</th>\n",
       "      <td>60000620</td>\n",
       "      <td>YFT</td>\n",
       "      <td>23.496913</td>\n",
       "      <td>22.6</td>\n",
       "      <td>0.20</td>\n",
       "      <td>1.636402</td>\n",
       "      <td>1.153130</td>\n",
       "      <td>0.697383</td>\n",
       "      <td>1.94</td>\n",
       "      <td>2.19</td>\n",
       "      <td>...</td>\n",
       "      <td>44.474</td>\n",
       "      <td>6.43</td>\n",
       "      <td>-110.83583</td>\n",
       "      <td>44.45133</td>\n",
       "      <td>60000620</td>\n",
       "      <td>YFT</td>\n",
       "      <td>HHE</td>\n",
       "      <td>0.163640</td>\n",
       "      <td>1.94</td>\n",
       "      <td>0.20</td>\n",
       "    </tr>\n",
       "    <tr>\n",
       "      <th>3</th>\n",
       "      <td>60000620</td>\n",
       "      <td>YFT</td>\n",
       "      <td>23.496913</td>\n",
       "      <td>22.6</td>\n",
       "      <td>0.20</td>\n",
       "      <td>1.636402</td>\n",
       "      <td>1.153130</td>\n",
       "      <td>0.697383</td>\n",
       "      <td>1.94</td>\n",
       "      <td>2.19</td>\n",
       "      <td>...</td>\n",
       "      <td>44.474</td>\n",
       "      <td>6.43</td>\n",
       "      <td>-110.83583</td>\n",
       "      <td>44.45133</td>\n",
       "      <td>60000620</td>\n",
       "      <td>YFT</td>\n",
       "      <td>HHN</td>\n",
       "      <td>0.115313</td>\n",
       "      <td>1.94</td>\n",
       "      <td>0.20</td>\n",
       "    </tr>\n",
       "    <tr>\n",
       "      <th>4</th>\n",
       "      <td>60000620</td>\n",
       "      <td>YHB</td>\n",
       "      <td>59.846428</td>\n",
       "      <td>59.5</td>\n",
       "      <td>0.18</td>\n",
       "      <td>0.196325</td>\n",
       "      <td>0.218335</td>\n",
       "      <td>0.103665</td>\n",
       "      <td>2.00</td>\n",
       "      <td>2.19</td>\n",
       "      <td>...</td>\n",
       "      <td>44.474</td>\n",
       "      <td>6.43</td>\n",
       "      <td>-111.19620</td>\n",
       "      <td>44.75080</td>\n",
       "      <td>60000620</td>\n",
       "      <td>YHB</td>\n",
       "      <td>HHN</td>\n",
       "      <td>0.021834</td>\n",
       "      <td>2.00</td>\n",
       "      <td>0.18</td>\n",
       "    </tr>\n",
       "  </tbody>\n",
       "</table>\n",
       "<p>5 rows × 21 columns</p>\n",
       "</div>"
      ],
      "text/plain": [
       "       Evid   Sta       Rhyp  Repi  Corr       AmpE      AmpN  halfAmpH   SML  \\\n",
       "0  60000620  LKWY  16.965698  15.7  0.06  10.142060  5.442032  3.896023  2.25   \n",
       "1  60000620  LKWY  16.965698  15.7  0.06  10.142060  5.442032  3.896023  2.25   \n",
       "2  60000620   YFT  23.496913  22.6  0.20   1.636402  1.153130  0.697383  1.94   \n",
       "3  60000620   YFT  23.496913  22.6  0.20   1.636402  1.153130  0.697383  1.94   \n",
       "4  60000620   YHB  59.846428  59.5  0.18   0.196325  0.218335  0.103665  2.00   \n",
       "\n",
       "   CatMag  ...   EqLat  EqDep       SLon      SLat      evid   sta seedchan  \\\n",
       "0    2.19  ...  44.474   6.43 -110.40000  44.56520  60000620  LKWY      BHE   \n",
       "1    2.19  ...  44.474   6.43 -110.40000  44.56520  60000620  LKWY      BHN   \n",
       "2    2.19  ...  44.474   6.43 -110.83583  44.45133  60000620   YFT      HHE   \n",
       "3    2.19  ...  44.474   6.43 -110.83583  44.45133  60000620   YFT      HHN   \n",
       "4    2.19  ...  44.474   6.43 -111.19620  44.75080  60000620   YHB      HHN   \n",
       "\n",
       "  amplitude   mag  magcorr  \n",
       "0  1.014206  2.25     0.06  \n",
       "1  0.544203  2.25     0.06  \n",
       "2  0.163640  1.94     0.20  \n",
       "3  0.115313  1.94     0.20  \n",
       "4  0.021834  2.00     0.18  \n",
       "\n",
       "[5 rows x 21 columns]"
      ]
     },
     "execution_count": 38,
     "metadata": {},
     "output_type": "execute_result"
    }
   ],
   "source": [
    "james_ben_merge.head()"
   ]
  },
  {
   "cell_type": "markdown",
   "metadata": {},
   "source": [
    "Using a rough epicentral distance correction (eq from Pechman, 2007) can get much closer to the station magnitude estimate. I'm not sure if use the average amplitude of the two stations or half of the average amplitude. The average amplitude gets closer to the actual mag, but there could also be a different eq for epicentral distance. Though uuss uses epicentral correction, but could be hypocentral."
   ]
  },
  {
   "cell_type": "code",
   "execution_count": 39,
   "metadata": {},
   "outputs": [
    {
     "data": {
      "text/plain": [
       "2.243336762491032"
      ]
     },
     "execution_count": 39,
     "metadata": {},
     "output_type": "execute_result"
    }
   ],
   "source": [
    "#Average amplitude\n",
    "np.log10((10.14+5.44)/2) - (1.1 - 2*np.log10(15.7)) + 0.06"
   ]
  },
  {
   "cell_type": "code",
   "execution_count": 40,
   "metadata": {},
   "outputs": [
    {
     "data": {
      "text/plain": [
       "1.9424182530250453"
      ]
     },
     "execution_count": 40,
     "metadata": {},
     "output_type": "execute_result"
    }
   ],
   "source": [
    "# 1/2 average amplitude\n",
    "np.log10(3.896) - (1.1 - 2*np.log10(15.7)) + 0.06"
   ]
  },
  {
   "cell_type": "code",
   "execution_count": 41,
   "metadata": {},
   "outputs": [
    {
     "data": {
      "text/plain": [
       "seedchan\n",
       "HHE    20938\n",
       "HHN    20937\n",
       "BH1     1871\n",
       "BH2     1871\n",
       "BHE     1136\n",
       "BHN     1136\n",
       "ENN       31\n",
       "ENE       31\n",
       "Name: count, dtype: int64"
      ]
     },
     "execution_count": 41,
     "metadata": {},
     "output_type": "execute_result"
    }
   ],
   "source": [
    "ys_ml_df['seedchan'].value_counts()"
   ]
  },
  {
   "cell_type": "markdown",
   "metadata": {},
   "source": [
    "Ben and James's amplitude values are very close. James's all seem to be in mm and most of Ben's are in cm. There are a few of Ben's in mm, that why I use the median here. "
   ]
  },
  {
   "cell_type": "code",
   "execution_count": 42,
   "metadata": {},
   "outputs": [
    {
     "data": {
      "text/plain": [
       "-4.375405593393111e-11"
      ]
     },
     "execution_count": 42,
     "metadata": {},
     "output_type": "execute_result"
    }
   ],
   "source": [
    "(james_ben_merge[james_ben_merge['seedchan'].isin(['HHE', 'BHE', 'ENE', 'BH1'])]['AmpE'] - (james_ben_merge[james_ben_merge['seedchan'].isin(['HHE', 'BHE', 'ENE'])]['amplitude']*10)).median()"
   ]
  },
  {
   "cell_type": "code",
   "execution_count": 43,
   "metadata": {},
   "outputs": [
    {
     "data": {
      "text/plain": [
       "-8.90350015936292e-11"
      ]
     },
     "execution_count": 43,
     "metadata": {},
     "output_type": "execute_result"
    }
   ],
   "source": [
    "(james_ben_merge[james_ben_merge['seedchan'].isin(['HHN', 'BHN', 'ENN', 'BH2'])]['AmpN'] - (james_ben_merge[james_ben_merge['seedchan'].isin(['HHN', 'BHN', 'ENN'])]['amplitude']*10)).median()"
   ]
  },
  {
   "cell_type": "markdown",
   "metadata": {},
   "source": [
    "Get amplitude values into James's format\n",
    "1. Convert cm to mm \n",
    "2. Compute 1/2 station average\n",
    "3. Compare to James's values"
   ]
  },
  {
   "cell_type": "code",
   "execution_count": 44,
   "metadata": {},
   "outputs": [
    {
     "name": "stderr",
     "output_type": "stream",
     "text": [
      "/tmp/ipykernel_3277974/1583837018.py:2: SettingWithCopyWarning: \n",
      "A value is trying to be set on a copy of a slice from a DataFrame.\n",
      "Try using .loc[row_indexer,col_indexer] = value instead\n",
      "\n",
      "See the caveats in the documentation: https://pandas.pydata.org/pandas-docs/stable/user_guide/indexing.html#returning-a-view-versus-a-copy\n",
      "  ys_ml_df.loc[:, \"Amp\"] = ys_ml_df['amplitude']\n"
     ]
    }
   ],
   "source": [
    "# Make Amp column, with all units in mm\n",
    "ys_ml_df.loc[:, \"Amp\"] = ys_ml_df['amplitude']\n",
    "ys_ml_df.loc[ys_ml_df['units'] == 'cm', 'Amp'] = ys_ml_df.loc[ys_ml_df['units'] == 'cm', 'Amp']*10\n"
   ]
  },
  {
   "cell_type": "code",
   "execution_count": 45,
   "metadata": {},
   "outputs": [
    {
     "data": {
      "text/html": [
       "<div>\n",
       "<style scoped>\n",
       "    .dataframe tbody tr th:only-of-type {\n",
       "        vertical-align: middle;\n",
       "    }\n",
       "\n",
       "    .dataframe tbody tr th {\n",
       "        vertical-align: top;\n",
       "    }\n",
       "\n",
       "    .dataframe thead th {\n",
       "        text-align: right;\n",
       "    }\n",
       "</style>\n",
       "<table border=\"1\" class=\"dataframe\">\n",
       "  <thead>\n",
       "    <tr style=\"text-align: right;\">\n",
       "      <th></th>\n",
       "      <th>units</th>\n",
       "      <th>amplitude</th>\n",
       "      <th>Amp</th>\n",
       "    </tr>\n",
       "  </thead>\n",
       "  <tbody>\n",
       "    <tr>\n",
       "      <th>24</th>\n",
       "      <td>cm</td>\n",
       "      <td>1.014206</td>\n",
       "      <td>10.142061</td>\n",
       "    </tr>\n",
       "    <tr>\n",
       "      <th>25</th>\n",
       "      <td>cm</td>\n",
       "      <td>0.544203</td>\n",
       "      <td>5.442032</td>\n",
       "    </tr>\n",
       "    <tr>\n",
       "      <th>26</th>\n",
       "      <td>cm</td>\n",
       "      <td>0.163640</td>\n",
       "      <td>1.636402</td>\n",
       "    </tr>\n",
       "    <tr>\n",
       "      <th>27</th>\n",
       "      <td>cm</td>\n",
       "      <td>0.408221</td>\n",
       "      <td>4.082212</td>\n",
       "    </tr>\n",
       "    <tr>\n",
       "      <th>28</th>\n",
       "      <td>cm</td>\n",
       "      <td>0.339141</td>\n",
       "      <td>3.391413</td>\n",
       "    </tr>\n",
       "  </tbody>\n",
       "</table>\n",
       "</div>"
      ],
      "text/plain": [
       "   units  amplitude        Amp\n",
       "24    cm   1.014206  10.142061\n",
       "25    cm   0.544203   5.442032\n",
       "26    cm   0.163640   1.636402\n",
       "27    cm   0.408221   4.082212\n",
       "28    cm   0.339141   3.391413"
      ]
     },
     "execution_count": 45,
     "metadata": {},
     "output_type": "execute_result"
    }
   ],
   "source": [
    "# Check amp values make sense for cm (x10)\n",
    "ys_ml_df[['units', 'amplitude', 'Amp']].head()"
   ]
  },
  {
   "cell_type": "code",
   "execution_count": 46,
   "metadata": {},
   "outputs": [
    {
     "data": {
      "text/html": [
       "<div>\n",
       "<style scoped>\n",
       "    .dataframe tbody tr th:only-of-type {\n",
       "        vertical-align: middle;\n",
       "    }\n",
       "\n",
       "    .dataframe tbody tr th {\n",
       "        vertical-align: top;\n",
       "    }\n",
       "\n",
       "    .dataframe thead th {\n",
       "        text-align: right;\n",
       "    }\n",
       "</style>\n",
       "<table border=\"1\" class=\"dataframe\">\n",
       "  <thead>\n",
       "    <tr style=\"text-align: right;\">\n",
       "      <th></th>\n",
       "      <th>units</th>\n",
       "      <th>amplitude</th>\n",
       "      <th>Amp</th>\n",
       "    </tr>\n",
       "  </thead>\n",
       "  <tbody>\n",
       "    <tr>\n",
       "      <th>11628</th>\n",
       "      <td>mm</td>\n",
       "      <td>0.1578</td>\n",
       "      <td>0.1578</td>\n",
       "    </tr>\n",
       "    <tr>\n",
       "      <th>11629</th>\n",
       "      <td>mm</td>\n",
       "      <td>0.1137</td>\n",
       "      <td>0.1137</td>\n",
       "    </tr>\n",
       "    <tr>\n",
       "      <th>11886</th>\n",
       "      <td>mm</td>\n",
       "      <td>2.3700</td>\n",
       "      <td>2.3700</td>\n",
       "    </tr>\n",
       "    <tr>\n",
       "      <th>11887</th>\n",
       "      <td>mm</td>\n",
       "      <td>2.1310</td>\n",
       "      <td>2.1310</td>\n",
       "    </tr>\n",
       "    <tr>\n",
       "      <th>11888</th>\n",
       "      <td>mm</td>\n",
       "      <td>0.4900</td>\n",
       "      <td>0.4900</td>\n",
       "    </tr>\n",
       "  </tbody>\n",
       "</table>\n",
       "</div>"
      ],
      "text/plain": [
       "      units  amplitude     Amp\n",
       "11628    mm     0.1578  0.1578\n",
       "11629    mm     0.1137  0.1137\n",
       "11886    mm     2.3700  2.3700\n",
       "11887    mm     2.1310  2.1310\n",
       "11888    mm     0.4900  0.4900"
      ]
     },
     "execution_count": 46,
     "metadata": {},
     "output_type": "execute_result"
    }
   ],
   "source": [
    "# Check amp values make sense for mm (no change)\n",
    "ys_ml_df[ys_ml_df['units']=='mm'][['units', 'amplitude', 'Amp']].head()"
   ]
  },
  {
   "cell_type": "code",
   "execution_count": 47,
   "metadata": {},
   "outputs": [
    {
     "data": {
      "text/plain": [
       "seedchan\n",
       "HHE    20938\n",
       "HHN    20937\n",
       "BH1     1871\n",
       "BH2     1871\n",
       "BHE     1136\n",
       "BHN     1136\n",
       "ENN       31\n",
       "ENE       31\n",
       "Name: count, dtype: int64"
      ]
     },
     "execution_count": 47,
     "metadata": {},
     "output_type": "execute_result"
    }
   ],
   "source": [
    "# Get the channel types so can separate by E and N components\n",
    "ys_ml_df['seedchan'].value_counts()"
   ]
  },
  {
   "cell_type": "code",
   "execution_count": 48,
   "metadata": {},
   "outputs": [
    {
     "name": "stderr",
     "output_type": "stream",
     "text": [
      "/tmp/ipykernel_3277974/2564405152.py:1: SettingWithCopyWarning: \n",
      "A value is trying to be set on a copy of a slice from a DataFrame.\n",
      "Try using .loc[row_indexer,col_indexer] = value instead\n",
      "\n",
      "See the caveats in the documentation: https://pandas.pydata.org/pandas-docs/stable/user_guide/indexing.html#returning-a-view-versus-a-copy\n",
      "  ys_ml_df.loc[:, \"seedchanpref\"] = ys_ml_df.apply(lambda x: x.seedchan[0:2], axis=1)\n"
     ]
    }
   ],
   "source": [
    "ys_ml_df.loc[:, \"seedchanpref\"] = ys_ml_df.apply(lambda x: x.seedchan[0:2], axis=1)"
   ]
  },
  {
   "cell_type": "markdown",
   "metadata": {},
   "source": [
    "# ERROR! Cannot merge on subsource because the subsource may be Jiggle or RT2 for any amplitude, not necessarily the same for the same event/station. Also do not merge on SMl if using other mag types than 'l' because events that have not been opened in Jiggle do not average the amplitudes and have different SML values"
   ]
  },
  {
   "cell_type": "code",
   "execution_count": 49,
   "metadata": {},
   "outputs": [],
   "source": [
    "# Get the information that is the same for different components of the same station for the same event\n",
    "ys_ml_reform = ys_ml_df[['evid', 'sta', 'net', 'location', 'magtype', 'auth', 'subsource', 'mag', 'magres', 'magcorr', 'seedchanpref']].drop_duplicates().copy()"
   ]
  },
  {
   "cell_type": "code",
   "execution_count": 50,
   "metadata": {},
   "outputs": [],
   "source": [
    "# Add in the information for the E channel in the same event/station row\n",
    "ys_ml_reform_E = ys_ml_reform.merge(ys_ml_df[ys_ml_df['seedchan'].isin(['HHE', 'BH1', 'BHE', 'ENE'])], \n",
    "                   on=['evid', 'sta', 'net', 'location', 'magtype', 'auth', 'subsource', 'mag', 'magres', 'magcorr', 'seedchanpref'], how='left')"
   ]
  },
  {
   "cell_type": "code",
   "execution_count": 51,
   "metadata": {},
   "outputs": [],
   "source": [
    "# Add in the information for the N channel in the same event/station row\n",
    "ys_ml_reform_EN = ys_ml_reform_E.merge(ys_ml_df[ys_ml_df['seedchan'].isin(['HHN', 'BH2', 'BHN', 'ENN'])], \n",
    "                   on=['evid', 'sta', 'net', 'location', 'magtype', 'auth', 'subsource', 'mag', 'magres', 'magcorr', 'seedchanpref'], \n",
    "                   suffixes=('E', 'N'), how='left')"
   ]
  },
  {
   "cell_type": "markdown",
   "metadata": {},
   "source": [
    "# End Error?"
   ]
  },
  {
   "cell_type": "code",
   "execution_count": 52,
   "metadata": {},
   "outputs": [
    {
     "name": "stdout",
     "output_type": "stream",
     "text": [
      "24031 24031 24031\n"
     ]
    }
   ],
   "source": [
    "# Make sure the size stayed consistent \n",
    "print(len(ys_ml_reform), len(ys_ml_reform_E), len(ys_ml_reform_EN))"
   ]
  },
  {
   "cell_type": "code",
   "execution_count": 53,
   "metadata": {},
   "outputs": [
    {
     "data": {
      "text/plain": [
       "True"
      ]
     },
     "execution_count": 53,
     "metadata": {},
     "output_type": "execute_result"
    }
   ],
   "source": [
    "# Make sure the reformatted df has the same amount of station info as the original\n",
    "len(ys_ml_reform_EN[~np.isnan(ys_ml_reform_EN['AmpE'])]) + len(ys_ml_reform_EN[~np.isnan(ys_ml_reform_EN['AmpN'])]) == len(ys_ml_df)"
   ]
  },
  {
   "cell_type": "code",
   "execution_count": 54,
   "metadata": {},
   "outputs": [
    {
     "data": {
      "text/html": [
       "<div>\n",
       "<style scoped>\n",
       "    .dataframe tbody tr th:only-of-type {\n",
       "        vertical-align: middle;\n",
       "    }\n",
       "\n",
       "    .dataframe tbody tr th {\n",
       "        vertical-align: top;\n",
       "    }\n",
       "\n",
       "    .dataframe thead th {\n",
       "        text-align: right;\n",
       "    }\n",
       "</style>\n",
       "<table border=\"1\" class=\"dataframe\">\n",
       "  <thead>\n",
       "    <tr style=\"text-align: right;\">\n",
       "      <th></th>\n",
       "      <th>evid</th>\n",
       "      <th>sta</th>\n",
       "      <th>net</th>\n",
       "      <th>location</th>\n",
       "      <th>magtype</th>\n",
       "      <th>auth</th>\n",
       "      <th>subsource</th>\n",
       "      <th>mag</th>\n",
       "      <th>magres</th>\n",
       "      <th>magcorr</th>\n",
       "      <th>...</th>\n",
       "      <th>weightN</th>\n",
       "      <th>assocamm_in_wgtN</th>\n",
       "      <th>amp_rflagN</th>\n",
       "      <th>cflagN</th>\n",
       "      <th>wstartN</th>\n",
       "      <th>durationN</th>\n",
       "      <th>amp_qualityN</th>\n",
       "      <th>periodN</th>\n",
       "      <th>snrN</th>\n",
       "      <th>AmpN</th>\n",
       "    </tr>\n",
       "  </thead>\n",
       "  <tbody>\n",
       "    <tr>\n",
       "      <th>0</th>\n",
       "      <td>60000620</td>\n",
       "      <td>LKWY</td>\n",
       "      <td>US</td>\n",
       "      <td>01</td>\n",
       "      <td>l</td>\n",
       "      <td>UU</td>\n",
       "      <td>Jiggle</td>\n",
       "      <td>2.25</td>\n",
       "      <td>0.06</td>\n",
       "      <td>0.06</td>\n",
       "      <td>...</td>\n",
       "      <td>1.0</td>\n",
       "      <td>1.0</td>\n",
       "      <td>H</td>\n",
       "      <td>OS</td>\n",
       "      <td>1.357546e+09</td>\n",
       "      <td>10.854288</td>\n",
       "      <td>1.0</td>\n",
       "      <td>0.35</td>\n",
       "      <td>4.276043</td>\n",
       "      <td>5.442032</td>\n",
       "    </tr>\n",
       "    <tr>\n",
       "      <th>1</th>\n",
       "      <td>60000620</td>\n",
       "      <td>YFT</td>\n",
       "      <td>WY</td>\n",
       "      <td>01</td>\n",
       "      <td>l</td>\n",
       "      <td>UU</td>\n",
       "      <td>Jiggle</td>\n",
       "      <td>1.94</td>\n",
       "      <td>-0.25</td>\n",
       "      <td>0.20</td>\n",
       "      <td>...</td>\n",
       "      <td>1.0</td>\n",
       "      <td>1.0</td>\n",
       "      <td>H</td>\n",
       "      <td>OS</td>\n",
       "      <td>1.357546e+09</td>\n",
       "      <td>13.405932</td>\n",
       "      <td>1.0</td>\n",
       "      <td>0.48</td>\n",
       "      <td>3.960521</td>\n",
       "      <td>1.153130</td>\n",
       "    </tr>\n",
       "    <tr>\n",
       "      <th>2</th>\n",
       "      <td>60000620</td>\n",
       "      <td>YUF</td>\n",
       "      <td>WY</td>\n",
       "      <td>01</td>\n",
       "      <td>l</td>\n",
       "      <td>UU</td>\n",
       "      <td>Jiggle</td>\n",
       "      <td>2.78</td>\n",
       "      <td>0.59</td>\n",
       "      <td>0.61</td>\n",
       "      <td>...</td>\n",
       "      <td>1.0</td>\n",
       "      <td>1.0</td>\n",
       "      <td>F</td>\n",
       "      <td>OS</td>\n",
       "      <td>1.357546e+09</td>\n",
       "      <td>3.590000</td>\n",
       "      <td>1.0</td>\n",
       "      <td>0.26</td>\n",
       "      <td>5.097910</td>\n",
       "      <td>4.082212</td>\n",
       "    </tr>\n",
       "    <tr>\n",
       "      <th>3</th>\n",
       "      <td>60000620</td>\n",
       "      <td>YNR</td>\n",
       "      <td>WY</td>\n",
       "      <td>01</td>\n",
       "      <td>l</td>\n",
       "      <td>UU</td>\n",
       "      <td>Jiggle</td>\n",
       "      <td>2.47</td>\n",
       "      <td>0.28</td>\n",
       "      <td>0.35</td>\n",
       "      <td>...</td>\n",
       "      <td>1.0</td>\n",
       "      <td>1.0</td>\n",
       "      <td>H</td>\n",
       "      <td>OS</td>\n",
       "      <td>1.357546e+09</td>\n",
       "      <td>15.644055</td>\n",
       "      <td>1.0</td>\n",
       "      <td>0.26</td>\n",
       "      <td>4.453766</td>\n",
       "      <td>2.025919</td>\n",
       "    </tr>\n",
       "    <tr>\n",
       "      <th>4</th>\n",
       "      <td>60000620</td>\n",
       "      <td>YMR</td>\n",
       "      <td>WY</td>\n",
       "      <td>01</td>\n",
       "      <td>l</td>\n",
       "      <td>UU</td>\n",
       "      <td>Jiggle</td>\n",
       "      <td>1.73</td>\n",
       "      <td>-0.46</td>\n",
       "      <td>-0.38</td>\n",
       "      <td>...</td>\n",
       "      <td>1.0</td>\n",
       "      <td>1.0</td>\n",
       "      <td>H</td>\n",
       "      <td>OS</td>\n",
       "      <td>1.357546e+09</td>\n",
       "      <td>19.596506</td>\n",
       "      <td>1.0</td>\n",
       "      <td>0.56</td>\n",
       "      <td>7.295910</td>\n",
       "      <td>1.084684</td>\n",
       "    </tr>\n",
       "    <tr>\n",
       "      <th>...</th>\n",
       "      <td>...</td>\n",
       "      <td>...</td>\n",
       "      <td>...</td>\n",
       "      <td>...</td>\n",
       "      <td>...</td>\n",
       "      <td>...</td>\n",
       "      <td>...</td>\n",
       "      <td>...</td>\n",
       "      <td>...</td>\n",
       "      <td>...</td>\n",
       "      <td>...</td>\n",
       "      <td>...</td>\n",
       "      <td>...</td>\n",
       "      <td>...</td>\n",
       "      <td>...</td>\n",
       "      <td>...</td>\n",
       "      <td>...</td>\n",
       "      <td>...</td>\n",
       "      <td>...</td>\n",
       "      <td>...</td>\n",
       "      <td>...</td>\n",
       "    </tr>\n",
       "    <tr>\n",
       "      <th>24026</th>\n",
       "      <td>60528892</td>\n",
       "      <td>AHID</td>\n",
       "      <td>US</td>\n",
       "      <td>00</td>\n",
       "      <td>l</td>\n",
       "      <td>UU</td>\n",
       "      <td>Jiggle</td>\n",
       "      <td>2.24</td>\n",
       "      <td>0.03</td>\n",
       "      <td>-0.43</td>\n",
       "      <td>...</td>\n",
       "      <td>1.0</td>\n",
       "      <td>1.0</td>\n",
       "      <td>F</td>\n",
       "      <td>OS</td>\n",
       "      <td>1.672399e+09</td>\n",
       "      <td>2.025000</td>\n",
       "      <td>1.0</td>\n",
       "      <td>0.65</td>\n",
       "      <td>21.943213</td>\n",
       "      <td>0.438571</td>\n",
       "    </tr>\n",
       "    <tr>\n",
       "      <th>24027</th>\n",
       "      <td>60528897</td>\n",
       "      <td>YHB</td>\n",
       "      <td>WY</td>\n",
       "      <td>01</td>\n",
       "      <td>l</td>\n",
       "      <td>UU</td>\n",
       "      <td>Jiggle</td>\n",
       "      <td>1.06</td>\n",
       "      <td>0.09</td>\n",
       "      <td>0.18</td>\n",
       "      <td>...</td>\n",
       "      <td>1.0</td>\n",
       "      <td>1.0</td>\n",
       "      <td>H</td>\n",
       "      <td>OS</td>\n",
       "      <td>1.672418e+09</td>\n",
       "      <td>11.202623</td>\n",
       "      <td>1.0</td>\n",
       "      <td>0.26</td>\n",
       "      <td>5.677681</td>\n",
       "      <td>0.579664</td>\n",
       "    </tr>\n",
       "    <tr>\n",
       "      <th>24028</th>\n",
       "      <td>60528897</td>\n",
       "      <td>YMR</td>\n",
       "      <td>WY</td>\n",
       "      <td>01</td>\n",
       "      <td>l</td>\n",
       "      <td>UU</td>\n",
       "      <td>Jiggle</td>\n",
       "      <td>0.88</td>\n",
       "      <td>-0.09</td>\n",
       "      <td>-0.38</td>\n",
       "      <td>...</td>\n",
       "      <td>1.0</td>\n",
       "      <td>1.0</td>\n",
       "      <td>F</td>\n",
       "      <td>OS</td>\n",
       "      <td>1.672418e+09</td>\n",
       "      <td>0.360000</td>\n",
       "      <td>1.0</td>\n",
       "      <td>0.42</td>\n",
       "      <td>16.905321</td>\n",
       "      <td>0.734400</td>\n",
       "    </tr>\n",
       "    <tr>\n",
       "      <th>24029</th>\n",
       "      <td>60528982</td>\n",
       "      <td>YMR</td>\n",
       "      <td>WY</td>\n",
       "      <td>01</td>\n",
       "      <td>l</td>\n",
       "      <td>UU</td>\n",
       "      <td>Jiggle</td>\n",
       "      <td>0.97</td>\n",
       "      <td>-0.24</td>\n",
       "      <td>-0.38</td>\n",
       "      <td>...</td>\n",
       "      <td>1.0</td>\n",
       "      <td>1.0</td>\n",
       "      <td>F</td>\n",
       "      <td>OS</td>\n",
       "      <td>1.672658e+09</td>\n",
       "      <td>0.290000</td>\n",
       "      <td>1.0</td>\n",
       "      <td>0.20</td>\n",
       "      <td>8.926793</td>\n",
       "      <td>0.916707</td>\n",
       "    </tr>\n",
       "    <tr>\n",
       "      <th>24030</th>\n",
       "      <td>60528982</td>\n",
       "      <td>YHB</td>\n",
       "      <td>WY</td>\n",
       "      <td>01</td>\n",
       "      <td>l</td>\n",
       "      <td>UU</td>\n",
       "      <td>Jiggle</td>\n",
       "      <td>1.45</td>\n",
       "      <td>0.24</td>\n",
       "      <td>0.18</td>\n",
       "      <td>...</td>\n",
       "      <td>1.0</td>\n",
       "      <td>1.0</td>\n",
       "      <td>H</td>\n",
       "      <td>OS</td>\n",
       "      <td>1.672658e+09</td>\n",
       "      <td>12.822371</td>\n",
       "      <td>1.0</td>\n",
       "      <td>0.24</td>\n",
       "      <td>6.563413</td>\n",
       "      <td>0.949995</td>\n",
       "    </tr>\n",
       "  </tbody>\n",
       "</table>\n",
       "<p>24031 rows × 40 columns</p>\n",
       "</div>"
      ],
      "text/plain": [
       "           evid   sta net location magtype auth subsource   mag  magres  \\\n",
       "0      60000620  LKWY  US       01       l   UU    Jiggle  2.25    0.06   \n",
       "1      60000620   YFT  WY       01       l   UU    Jiggle  1.94   -0.25   \n",
       "2      60000620   YUF  WY       01       l   UU    Jiggle  2.78    0.59   \n",
       "3      60000620   YNR  WY       01       l   UU    Jiggle  2.47    0.28   \n",
       "4      60000620   YMR  WY       01       l   UU    Jiggle  1.73   -0.46   \n",
       "...         ...   ...  ..      ...     ...  ...       ...   ...     ...   \n",
       "24026  60528892  AHID  US       00       l   UU    Jiggle  2.24    0.03   \n",
       "24027  60528897   YHB  WY       01       l   UU    Jiggle  1.06    0.09   \n",
       "24028  60528897   YMR  WY       01       l   UU    Jiggle  0.88   -0.09   \n",
       "24029  60528982   YMR  WY       01       l   UU    Jiggle  0.97   -0.24   \n",
       "24030  60528982   YHB  WY       01       l   UU    Jiggle  1.45    0.24   \n",
       "\n",
       "       magcorr  ... weightN  assocamm_in_wgtN amp_rflagN cflagN       wstartN  \\\n",
       "0         0.06  ...     1.0               1.0          H     OS  1.357546e+09   \n",
       "1         0.20  ...     1.0               1.0          H     OS  1.357546e+09   \n",
       "2         0.61  ...     1.0               1.0          F     OS  1.357546e+09   \n",
       "3         0.35  ...     1.0               1.0          H     OS  1.357546e+09   \n",
       "4        -0.38  ...     1.0               1.0          H     OS  1.357546e+09   \n",
       "...        ...  ...     ...               ...        ...    ...           ...   \n",
       "24026    -0.43  ...     1.0               1.0          F     OS  1.672399e+09   \n",
       "24027     0.18  ...     1.0               1.0          H     OS  1.672418e+09   \n",
       "24028    -0.38  ...     1.0               1.0          F     OS  1.672418e+09   \n",
       "24029    -0.38  ...     1.0               1.0          F     OS  1.672658e+09   \n",
       "24030     0.18  ...     1.0               1.0          H     OS  1.672658e+09   \n",
       "\n",
       "       durationN  amp_qualityN periodN       snrN      AmpN  \n",
       "0      10.854288           1.0    0.35   4.276043  5.442032  \n",
       "1      13.405932           1.0    0.48   3.960521  1.153130  \n",
       "2       3.590000           1.0    0.26   5.097910  4.082212  \n",
       "3      15.644055           1.0    0.26   4.453766  2.025919  \n",
       "4      19.596506           1.0    0.56   7.295910  1.084684  \n",
       "...          ...           ...     ...        ...       ...  \n",
       "24026   2.025000           1.0    0.65  21.943213  0.438571  \n",
       "24027  11.202623           1.0    0.26   5.677681  0.579664  \n",
       "24028   0.360000           1.0    0.42  16.905321  0.734400  \n",
       "24029   0.290000           1.0    0.20   8.926793  0.916707  \n",
       "24030  12.822371           1.0    0.24   6.563413  0.949995  \n",
       "\n",
       "[24031 rows x 40 columns]"
      ]
     },
     "execution_count": 54,
     "metadata": {},
     "output_type": "execute_result"
    }
   ],
   "source": [
    "ys_ml_reform_EN.drop('seedchanpref', axis=1)"
   ]
  },
  {
   "cell_type": "code",
   "execution_count": 55,
   "metadata": {},
   "outputs": [
    {
     "data": {
      "text/plain": [
       "Index(['evid', 'sta', 'net', 'location', 'magtype', 'auth', 'subsource', 'mag',\n",
       "       'magres', 'magcorr', 'seedchanpref', 'seedchanE', 'amplitudeE',\n",
       "       'amptypeE', 'unitsE', 'datetimeE', 'weightE', 'assocamm_in_wgtE',\n",
       "       'amp_rflagE', 'cflagE', 'wstartE', 'durationE', 'amp_qualityE',\n",
       "       'periodE', 'snrE', 'AmpE', 'seedchanN', 'amplitudeN', 'amptypeN',\n",
       "       'unitsN', 'datetimeN', 'weightN', 'assocamm_in_wgtN', 'amp_rflagN',\n",
       "       'cflagN', 'wstartN', 'durationN', 'amp_qualityN', 'periodN', 'snrN',\n",
       "       'AmpN'],\n",
       "      dtype='object')"
      ]
     },
     "execution_count": 55,
     "metadata": {},
     "output_type": "execute_result"
    }
   ],
   "source": [
    "ys_ml_reform_EN.columns"
   ]
  },
  {
   "cell_type": "code",
   "execution_count": 56,
   "metadata": {},
   "outputs": [
    {
     "data": {
      "text/html": [
       "<div>\n",
       "<style scoped>\n",
       "    .dataframe tbody tr th:only-of-type {\n",
       "        vertical-align: middle;\n",
       "    }\n",
       "\n",
       "    .dataframe tbody tr th {\n",
       "        vertical-align: top;\n",
       "    }\n",
       "\n",
       "    .dataframe thead th {\n",
       "        text-align: right;\n",
       "    }\n",
       "</style>\n",
       "<table border=\"1\" class=\"dataframe\">\n",
       "  <thead>\n",
       "    <tr style=\"text-align: right;\">\n",
       "      <th></th>\n",
       "      <th>evid</th>\n",
       "      <th>sta</th>\n",
       "      <th>mag</th>\n",
       "      <th>magres</th>\n",
       "      <th>magcorr</th>\n",
       "      <th>seedchanE</th>\n",
       "      <th>amplitudeE</th>\n",
       "      <th>unitsE</th>\n",
       "      <th>periodE</th>\n",
       "      <th>snrE</th>\n",
       "      <th>AmpE</th>\n",
       "      <th>seedchanN</th>\n",
       "      <th>amplitudeN</th>\n",
       "      <th>unitsN</th>\n",
       "      <th>periodN</th>\n",
       "      <th>snrN</th>\n",
       "      <th>AmpN</th>\n",
       "    </tr>\n",
       "  </thead>\n",
       "  <tbody>\n",
       "    <tr>\n",
       "      <th>0</th>\n",
       "      <td>60000620</td>\n",
       "      <td>LKWY</td>\n",
       "      <td>2.25</td>\n",
       "      <td>0.06</td>\n",
       "      <td>0.06</td>\n",
       "      <td>BHE</td>\n",
       "      <td>1.014206</td>\n",
       "      <td>cm</td>\n",
       "      <td>0.35</td>\n",
       "      <td>4.326750</td>\n",
       "      <td>10.142061</td>\n",
       "      <td>BHN</td>\n",
       "      <td>0.544203</td>\n",
       "      <td>cm</td>\n",
       "      <td>0.35</td>\n",
       "      <td>4.276043</td>\n",
       "      <td>5.442032</td>\n",
       "    </tr>\n",
       "    <tr>\n",
       "      <th>1</th>\n",
       "      <td>60000620</td>\n",
       "      <td>YFT</td>\n",
       "      <td>1.94</td>\n",
       "      <td>-0.25</td>\n",
       "      <td>0.20</td>\n",
       "      <td>HHE</td>\n",
       "      <td>0.163640</td>\n",
       "      <td>cm</td>\n",
       "      <td>0.26</td>\n",
       "      <td>3.057469</td>\n",
       "      <td>1.636402</td>\n",
       "      <td>HHN</td>\n",
       "      <td>0.115313</td>\n",
       "      <td>cm</td>\n",
       "      <td>0.48</td>\n",
       "      <td>3.960521</td>\n",
       "      <td>1.153130</td>\n",
       "    </tr>\n",
       "    <tr>\n",
       "      <th>2</th>\n",
       "      <td>60000620</td>\n",
       "      <td>YUF</td>\n",
       "      <td>2.78</td>\n",
       "      <td>0.59</td>\n",
       "      <td>0.61</td>\n",
       "      <td>HHE</td>\n",
       "      <td>0.339141</td>\n",
       "      <td>cm</td>\n",
       "      <td>0.26</td>\n",
       "      <td>5.399999</td>\n",
       "      <td>3.391413</td>\n",
       "      <td>HHN</td>\n",
       "      <td>0.408221</td>\n",
       "      <td>cm</td>\n",
       "      <td>0.26</td>\n",
       "      <td>5.097910</td>\n",
       "      <td>4.082212</td>\n",
       "    </tr>\n",
       "    <tr>\n",
       "      <th>3</th>\n",
       "      <td>60000620</td>\n",
       "      <td>YNR</td>\n",
       "      <td>2.47</td>\n",
       "      <td>0.28</td>\n",
       "      <td>0.35</td>\n",
       "      <td>HHE</td>\n",
       "      <td>0.213206</td>\n",
       "      <td>cm</td>\n",
       "      <td>0.14</td>\n",
       "      <td>4.227587</td>\n",
       "      <td>2.132057</td>\n",
       "      <td>HHN</td>\n",
       "      <td>0.202592</td>\n",
       "      <td>cm</td>\n",
       "      <td>0.26</td>\n",
       "      <td>4.453766</td>\n",
       "      <td>2.025919</td>\n",
       "    </tr>\n",
       "    <tr>\n",
       "      <th>4</th>\n",
       "      <td>60000620</td>\n",
       "      <td>YMR</td>\n",
       "      <td>1.73</td>\n",
       "      <td>-0.46</td>\n",
       "      <td>-0.38</td>\n",
       "      <td>HHE</td>\n",
       "      <td>0.095853</td>\n",
       "      <td>cm</td>\n",
       "      <td>1.00</td>\n",
       "      <td>9.726373</td>\n",
       "      <td>0.958534</td>\n",
       "      <td>HHN</td>\n",
       "      <td>0.108468</td>\n",
       "      <td>cm</td>\n",
       "      <td>0.56</td>\n",
       "      <td>7.295910</td>\n",
       "      <td>1.084684</td>\n",
       "    </tr>\n",
       "  </tbody>\n",
       "</table>\n",
       "</div>"
      ],
      "text/plain": [
       "       evid   sta   mag  magres  magcorr seedchanE  amplitudeE unitsE  \\\n",
       "0  60000620  LKWY  2.25    0.06     0.06       BHE    1.014206     cm   \n",
       "1  60000620   YFT  1.94   -0.25     0.20       HHE    0.163640     cm   \n",
       "2  60000620   YUF  2.78    0.59     0.61       HHE    0.339141     cm   \n",
       "3  60000620   YNR  2.47    0.28     0.35       HHE    0.213206     cm   \n",
       "4  60000620   YMR  1.73   -0.46    -0.38       HHE    0.095853     cm   \n",
       "\n",
       "   periodE      snrE       AmpE seedchanN  amplitudeN unitsN  periodN  \\\n",
       "0     0.35  4.326750  10.142061       BHN    0.544203     cm     0.35   \n",
       "1     0.26  3.057469   1.636402       HHN    0.115313     cm     0.48   \n",
       "2     0.26  5.399999   3.391413       HHN    0.408221     cm     0.26   \n",
       "3     0.14  4.227587   2.132057       HHN    0.202592     cm     0.26   \n",
       "4     1.00  9.726373   0.958534       HHN    0.108468     cm     0.56   \n",
       "\n",
       "       snrN      AmpN  \n",
       "0  4.276043  5.442032  \n",
       "1  3.960521  1.153130  \n",
       "2  5.097910  4.082212  \n",
       "3  4.453766  2.025919  \n",
       "4  7.295910  1.084684  "
      ]
     },
     "execution_count": 56,
     "metadata": {},
     "output_type": "execute_result"
    }
   ],
   "source": [
    "# Visual check of the reformatted values against the original\n",
    "ys_ml_reform_EN[['evid', 'sta', 'mag','magres', 'magcorr', 'seedchanE', 'amplitudeE', 'unitsE',\n",
    "       'periodE', 'snrE', 'AmpE', 'seedchanN', 'amplitudeN', 'unitsN', 'periodN', 'snrN', 'AmpN']].head()"
   ]
  },
  {
   "cell_type": "code",
   "execution_count": 57,
   "metadata": {},
   "outputs": [
    {
     "data": {
      "text/html": [
       "<div>\n",
       "<style scoped>\n",
       "    .dataframe tbody tr th:only-of-type {\n",
       "        vertical-align: middle;\n",
       "    }\n",
       "\n",
       "    .dataframe tbody tr th {\n",
       "        vertical-align: top;\n",
       "    }\n",
       "\n",
       "    .dataframe thead th {\n",
       "        text-align: right;\n",
       "    }\n",
       "</style>\n",
       "<table border=\"1\" class=\"dataframe\">\n",
       "  <thead>\n",
       "    <tr style=\"text-align: right;\">\n",
       "      <th></th>\n",
       "      <th>evid</th>\n",
       "      <th>sta</th>\n",
       "      <th>mag</th>\n",
       "      <th>magres</th>\n",
       "      <th>magcorr</th>\n",
       "      <th>seedchan</th>\n",
       "      <th>amplitude</th>\n",
       "      <th>units</th>\n",
       "      <th>period</th>\n",
       "      <th>snr</th>\n",
       "      <th>Amp</th>\n",
       "    </tr>\n",
       "  </thead>\n",
       "  <tbody>\n",
       "    <tr>\n",
       "      <th>24</th>\n",
       "      <td>60000620</td>\n",
       "      <td>LKWY</td>\n",
       "      <td>2.25</td>\n",
       "      <td>0.06</td>\n",
       "      <td>0.06</td>\n",
       "      <td>BHE</td>\n",
       "      <td>1.014206</td>\n",
       "      <td>cm</td>\n",
       "      <td>0.35</td>\n",
       "      <td>4.326750</td>\n",
       "      <td>10.142061</td>\n",
       "    </tr>\n",
       "    <tr>\n",
       "      <th>25</th>\n",
       "      <td>60000620</td>\n",
       "      <td>LKWY</td>\n",
       "      <td>2.25</td>\n",
       "      <td>0.06</td>\n",
       "      <td>0.06</td>\n",
       "      <td>BHN</td>\n",
       "      <td>0.544203</td>\n",
       "      <td>cm</td>\n",
       "      <td>0.35</td>\n",
       "      <td>4.276043</td>\n",
       "      <td>5.442032</td>\n",
       "    </tr>\n",
       "    <tr>\n",
       "      <th>26</th>\n",
       "      <td>60000620</td>\n",
       "      <td>YFT</td>\n",
       "      <td>1.94</td>\n",
       "      <td>-0.25</td>\n",
       "      <td>0.20</td>\n",
       "      <td>HHE</td>\n",
       "      <td>0.163640</td>\n",
       "      <td>cm</td>\n",
       "      <td>0.26</td>\n",
       "      <td>3.057469</td>\n",
       "      <td>1.636402</td>\n",
       "    </tr>\n",
       "    <tr>\n",
       "      <th>27</th>\n",
       "      <td>60000620</td>\n",
       "      <td>YUF</td>\n",
       "      <td>2.78</td>\n",
       "      <td>0.59</td>\n",
       "      <td>0.61</td>\n",
       "      <td>HHN</td>\n",
       "      <td>0.408221</td>\n",
       "      <td>cm</td>\n",
       "      <td>0.26</td>\n",
       "      <td>5.097910</td>\n",
       "      <td>4.082212</td>\n",
       "    </tr>\n",
       "    <tr>\n",
       "      <th>28</th>\n",
       "      <td>60000620</td>\n",
       "      <td>YUF</td>\n",
       "      <td>2.78</td>\n",
       "      <td>0.59</td>\n",
       "      <td>0.61</td>\n",
       "      <td>HHE</td>\n",
       "      <td>0.339141</td>\n",
       "      <td>cm</td>\n",
       "      <td>0.26</td>\n",
       "      <td>5.399999</td>\n",
       "      <td>3.391413</td>\n",
       "    </tr>\n",
       "  </tbody>\n",
       "</table>\n",
       "</div>"
      ],
      "text/plain": [
       "        evid   sta   mag  magres  magcorr seedchan  amplitude units  period  \\\n",
       "24  60000620  LKWY  2.25    0.06     0.06      BHE   1.014206    cm    0.35   \n",
       "25  60000620  LKWY  2.25    0.06     0.06      BHN   0.544203    cm    0.35   \n",
       "26  60000620   YFT  1.94   -0.25     0.20      HHE   0.163640    cm    0.26   \n",
       "27  60000620   YUF  2.78    0.59     0.61      HHN   0.408221    cm    0.26   \n",
       "28  60000620   YUF  2.78    0.59     0.61      HHE   0.339141    cm    0.26   \n",
       "\n",
       "         snr        Amp  \n",
       "24  4.326750  10.142061  \n",
       "25  4.276043   5.442032  \n",
       "26  3.057469   1.636402  \n",
       "27  5.097910   4.082212  \n",
       "28  5.399999   3.391413  "
      ]
     },
     "execution_count": 57,
     "metadata": {},
     "output_type": "execute_result"
    }
   ],
   "source": [
    "# Original values for comparison\n",
    "ys_ml_df[['evid', 'sta', 'mag','magres', 'magcorr', 'seedchan', 'amplitude', 'units', 'period', 'snr', 'Amp']].head()"
   ]
  },
  {
   "cell_type": "code",
   "execution_count": 58,
   "metadata": {},
   "outputs": [
    {
     "data": {
      "text/plain": [
       "Index(['Evid', 'Date', 'Time', 'EqLat', 'EqLon', 'EqDep', 'EqML', 'EqMC', 'N',\n",
       "       'Dmin', 'ErrZ', 'ErrR', 'Net', 'Sta', 'Cmp', 'SLat', 'SLon', 'SElev',\n",
       "       'Repi', 'Rhyp', 'SML', 'Corr', 'AmpE', 'UnE', 'PerE', 'SnrE', 'AmpN',\n",
       "       'UnN', 'PerN', 'SnrN', 'halfAmpH', 'CatMag', 'H', 'GoodDep'],\n",
       "      dtype='object')"
      ]
     },
     "execution_count": 58,
     "metadata": {},
     "output_type": "execute_result"
    }
   ],
   "source": [
    "james_amps.columns"
   ]
  },
  {
   "cell_type": "markdown",
   "metadata": {},
   "source": [
    "Now add it eq information like the event lat, event lon, station lat, station lon.\n",
    "\n",
    "Cannot just use the arrival df because there seems to be amplitude values at stations without picks. "
   ]
  },
  {
   "cell_type": "code",
   "execution_count": 59,
   "metadata": {},
   "outputs": [
    {
     "data": {
      "text/plain": [
       "Index(['evid', 'network', 'station', 'location', 'channelz', 'phase',\n",
       "       'arrival_id', 'arrival_time', 'pick_quality', 'first_motion',\n",
       "       'take_off_angle', 'source_receiver_distance', 'source_receiver_azimuth',\n",
       "       'travel_time_residual', 'receiver_lat', 'receiver_lon', 'receiver_elev',\n",
       "       'event_lat', 'event_lon', 'event_depth', 'origin_time', 'magnitude',\n",
       "       'magnitude_type', 'rflag', 'utc'],\n",
       "      dtype='object')"
      ]
     },
     "execution_count": 59,
     "metadata": {},
     "output_type": "execute_result"
    }
   ],
   "source": [
    "ys_arr_df.columns"
   ]
  },
  {
   "cell_type": "code",
   "execution_count": 60,
   "metadata": {},
   "outputs": [
    {
     "data": {
      "text/plain": [
       "sta\n",
       "YNR     12352\n",
       "YMR     11902\n",
       "YFT      7046\n",
       "YHB      6199\n",
       "YUF      4084\n",
       "LKWY     3446\n",
       "BOZ      1642\n",
       "AHID      340\n",
       "HLID      252\n",
       "BW06      210\n",
       "HWUT       86\n",
       "HVU        84\n",
       "TCU        76\n",
       "RDMU       46\n",
       "CTU        42\n",
       "SPU        24\n",
       "JLU        18\n",
       "DUG        18\n",
       "BGU        16\n",
       "NOQ        14\n",
       "MPU        12\n",
       "ELK        12\n",
       "NLU        10\n",
       "LOHW        8\n",
       "YDD         6\n",
       "TMU         4\n",
       "SRU         2\n",
       "Name: count, dtype: int64"
      ]
     },
     "execution_count": 60,
     "metadata": {},
     "output_type": "execute_result"
    }
   ],
   "source": [
    "#  27 stations with amplitudes in Ben catalog\n",
    "ys_ml_df['sta'].value_counts()"
   ]
  },
  {
   "cell_type": "code",
   "execution_count": 61,
   "metadata": {},
   "outputs": [
    {
     "data": {
      "text/plain": [
       "Sta\n",
       "YMR     5020\n",
       "YNR     4262\n",
       "YFT     2802\n",
       "YHB     2572\n",
       "LKWY    2148\n",
       "YHL     2029\n",
       "YHH     1781\n",
       "YUF     1472\n",
       "BOZ     1193\n",
       "YPP     1006\n",
       "YTP      397\n",
       "YMP      345\n",
       "YNE      280\n",
       "LOHW     135\n",
       "REDW     111\n",
       "BUT       62\n",
       "AHID      57\n",
       "BW06      28\n",
       "YHR       24\n",
       "YEE       19\n",
       "Name: count, dtype: int64"
      ]
     },
     "execution_count": 61,
     "metadata": {},
     "output_type": "execute_result"
    }
   ],
   "source": [
    "# Only 20 stations in James's catalog\n",
    "james_amps['Sta'].value_counts()"
   ]
  },
  {
   "cell_type": "markdown",
   "metadata": {},
   "source": [
    "Filter amplitude values to just those with James's station corrections"
   ]
  },
  {
   "cell_type": "code",
   "execution_count": 62,
   "metadata": {},
   "outputs": [
    {
     "data": {
      "text/plain": [
       "array(['LKWY', 'YFT', 'YUF', 'YNR', 'YMR', 'YHB', 'BOZ', 'BW06', 'AHID',\n",
       "       'LOHW'], dtype=object)"
      ]
     },
     "execution_count": 62,
     "metadata": {},
     "output_type": "execute_result"
    }
   ],
   "source": [
    "# Stations in the filtered local mag amplitude catalog that are in James's catalog\n",
    "ys_ml_reform_EN['sta'].unique()[np.isin(ys_ml_reform_EN['sta'].unique(), james_amps['Sta'].unique())]"
   ]
  },
  {
   "cell_type": "code",
   "execution_count": 63,
   "metadata": {},
   "outputs": [
    {
     "data": {
      "text/plain": [
       "array(['CTU', 'HLID', 'TCU', 'HVU', 'HWUT', 'SPU', 'NOQ', 'JLU', 'MPU',\n",
       "       'RDMU', 'DUG', 'BGU', 'ELK', 'NLU', 'TMU', 'YDD', 'SRU'],\n",
       "      dtype=object)"
      ]
     },
     "execution_count": 63,
     "metadata": {},
     "output_type": "execute_result"
    }
   ],
   "source": [
    "# Stations in the filtered local mag amplitude catalog that are NOT in James's catalog\n",
    "ys_ml_reform_EN['sta'].unique()[~np.isin(ys_ml_reform_EN['sta'].unique(), james_amps['Sta'].unique())]"
   ]
  },
  {
   "cell_type": "code",
   "execution_count": 64,
   "metadata": {},
   "outputs": [
    {
     "data": {
      "text/plain": [
       "array(['BUT', 'YHH', 'YPP', 'YTP', 'YMP', 'YHL', 'REDW', 'YNE', 'YHR',\n",
       "       'YEE'], dtype=object)"
      ]
     },
     "execution_count": 64,
     "metadata": {},
     "output_type": "execute_result"
    }
   ],
   "source": [
    "# Stations with a James correction that are not in the filtered local mag amplitude catalog\n",
    "james_amps['Sta'].unique()[~np.isin(james_amps['Sta'].unique(), ys_ml_reform_EN['sta'].unique())]"
   ]
  },
  {
   "cell_type": "code",
   "execution_count": 65,
   "metadata": {},
   "outputs": [
    {
     "data": {
      "text/plain": [
       "array(['LKWY', 'YFT', 'YUF', 'YNR', 'YMR', 'YHB', 'BOZ', 'BW06', 'AHID',\n",
       "       'YPP', 'YTP', 'YHH', 'YMP', 'YHL', 'YNE', 'YHR', 'LOHW', 'REDW'],\n",
       "      dtype=object)"
      ]
     },
     "execution_count": 65,
     "metadata": {},
     "output_type": "execute_result"
    }
   ],
   "source": [
    "# Stations in unfiltered (not only local mags) catalog that are also in James's catalog\n",
    "ml_matching_df['sta'].unique()[np.isin(ml_matching_df['sta'].unique(), james_amps['Sta'].unique())]"
   ]
  },
  {
   "cell_type": "code",
   "execution_count": 66,
   "metadata": {},
   "outputs": [
    {
     "data": {
      "text/plain": [
       "array(['BUT', 'YEE'], dtype=object)"
      ]
     },
     "execution_count": 66,
     "metadata": {},
     "output_type": "execute_result"
    }
   ],
   "source": [
    "# James's stations that are not in the unfiltered local magnitude catalog\n",
    "james_amps['Sta'].unique()[~np.isin(james_amps['Sta'].unique(), ml_matching_df['sta'].unique())]"
   ]
  },
  {
   "cell_type": "code",
   "execution_count": 67,
   "metadata": {},
   "outputs": [],
   "source": [
    "ys_ml_reform_EN_filt = ys_ml_reform_EN[ys_ml_reform_EN.sta.isin(james_amps['Sta'].unique())]"
   ]
  },
  {
   "cell_type": "code",
   "execution_count": 68,
   "metadata": {},
   "outputs": [
    {
     "name": "stdout",
     "output_type": "stream",
     "text": [
      "24031 23670\n"
     ]
    }
   ],
   "source": [
    "print(len(ys_ml_reform_EN), len(ys_ml_reform_EN_filt))"
   ]
  },
  {
   "cell_type": "code",
   "execution_count": 69,
   "metadata": {},
   "outputs": [
    {
     "data": {
      "text/plain": [
       "sta\n",
       "YNR     6189\n",
       "YMR     5967\n",
       "YFT     3528\n",
       "YHB     3109\n",
       "YUF     2047\n",
       "LKWY    1727\n",
       "BOZ      824\n",
       "AHID     170\n",
       "BW06     105\n",
       "LOHW       4\n",
       "Name: count, dtype: int64"
      ]
     },
     "execution_count": 69,
     "metadata": {},
     "output_type": "execute_result"
    }
   ],
   "source": [
    "ys_ml_reform_EN_filt['sta'].value_counts()"
   ]
  },
  {
   "cell_type": "markdown",
   "metadata": {},
   "source": [
    "Merge filtered amplitudes with unique event and station info info"
   ]
  },
  {
   "cell_type": "code",
   "execution_count": 70,
   "metadata": {},
   "outputs": [],
   "source": [
    "uniq_events = ys_ev_df[['evid', 'event_lon', 'event_lat', 'event_depth', 'magnitude', 'magnitude_type', 'utc']].drop_duplicates('evid')"
   ]
  },
  {
   "cell_type": "code",
   "execution_count": 71,
   "metadata": {},
   "outputs": [],
   "source": [
    "# Station locations in Ben's catalog\n",
    "# LOHW has a change in lon in some point, but it is quite small so just use the one that James has\n",
    "ys_stats = ys_arr_df[ys_arr_df.station.isin(james_amps.Sta.unique())][['station', 'receiver_lon', 'receiver_lat', 'receiver_elev']].drop_duplicates('station', keep='last')"
   ]
  },
  {
   "cell_type": "code",
   "execution_count": 72,
   "metadata": {},
   "outputs": [],
   "source": [
    "# Station locations in James's catalog\n",
    "\n",
    "james_stats = james_amps[['Sta', 'SLon', 'SLat', 'SElev']].drop_duplicates()"
   ]
  },
  {
   "cell_type": "code",
   "execution_count": 73,
   "metadata": {},
   "outputs": [
    {
     "data": {
      "text/html": [
       "<div>\n",
       "<style scoped>\n",
       "    .dataframe tbody tr th:only-of-type {\n",
       "        vertical-align: middle;\n",
       "    }\n",
       "\n",
       "    .dataframe tbody tr th {\n",
       "        vertical-align: top;\n",
       "    }\n",
       "\n",
       "    .dataframe thead th {\n",
       "        text-align: right;\n",
       "    }\n",
       "</style>\n",
       "<table border=\"1\" class=\"dataframe\">\n",
       "  <thead>\n",
       "    <tr style=\"text-align: right;\">\n",
       "      <th></th>\n",
       "      <th>Sta</th>\n",
       "      <th>SLon</th>\n",
       "      <th>SLat</th>\n",
       "      <th>SElev</th>\n",
       "      <th>station</th>\n",
       "      <th>receiver_lon</th>\n",
       "      <th>receiver_lat</th>\n",
       "      <th>receiver_elev</th>\n",
       "    </tr>\n",
       "  </thead>\n",
       "  <tbody>\n",
       "    <tr>\n",
       "      <th>0</th>\n",
       "      <td>AHID</td>\n",
       "      <td>-111.10040</td>\n",
       "      <td>42.765400</td>\n",
       "      <td>1.960</td>\n",
       "      <td>AHID</td>\n",
       "      <td>-111.10040</td>\n",
       "      <td>42.76540</td>\n",
       "      <td>1960.0</td>\n",
       "    </tr>\n",
       "    <tr>\n",
       "      <th>1</th>\n",
       "      <td>LKWY</td>\n",
       "      <td>-110.40000</td>\n",
       "      <td>44.565200</td>\n",
       "      <td>2.424</td>\n",
       "      <td>LKWY</td>\n",
       "      <td>-110.40000</td>\n",
       "      <td>44.56520</td>\n",
       "      <td>2424.0</td>\n",
       "    </tr>\n",
       "    <tr>\n",
       "      <th>2</th>\n",
       "      <td>BUT</td>\n",
       "      <td>-112.55666</td>\n",
       "      <td>46.010834</td>\n",
       "      <td>1.758</td>\n",
       "      <td>NaN</td>\n",
       "      <td>NaN</td>\n",
       "      <td>NaN</td>\n",
       "      <td>NaN</td>\n",
       "    </tr>\n",
       "    <tr>\n",
       "      <th>3</th>\n",
       "      <td>YMR</td>\n",
       "      <td>-110.96500</td>\n",
       "      <td>44.668670</td>\n",
       "      <td>2.149</td>\n",
       "      <td>YMR</td>\n",
       "      <td>-110.96500</td>\n",
       "      <td>44.66867</td>\n",
       "      <td>2149.0</td>\n",
       "    </tr>\n",
       "    <tr>\n",
       "      <th>4</th>\n",
       "      <td>BOZ</td>\n",
       "      <td>-111.62967</td>\n",
       "      <td>45.596970</td>\n",
       "      <td>1.589</td>\n",
       "      <td>BOZ</td>\n",
       "      <td>-111.62967</td>\n",
       "      <td>45.59697</td>\n",
       "      <td>1589.0</td>\n",
       "    </tr>\n",
       "    <tr>\n",
       "      <th>5</th>\n",
       "      <td>YFT</td>\n",
       "      <td>-110.83583</td>\n",
       "      <td>44.451330</td>\n",
       "      <td>2.292</td>\n",
       "      <td>YFT</td>\n",
       "      <td>-110.83583</td>\n",
       "      <td>44.45133</td>\n",
       "      <td>2292.0</td>\n",
       "    </tr>\n",
       "    <tr>\n",
       "      <th>6</th>\n",
       "      <td>BW06</td>\n",
       "      <td>-109.55830</td>\n",
       "      <td>42.766700</td>\n",
       "      <td>2.224</td>\n",
       "      <td>BW06</td>\n",
       "      <td>-109.55830</td>\n",
       "      <td>42.76670</td>\n",
       "      <td>2224.0</td>\n",
       "    </tr>\n",
       "    <tr>\n",
       "      <th>7</th>\n",
       "      <td>YNR</td>\n",
       "      <td>-110.67917</td>\n",
       "      <td>44.715500</td>\n",
       "      <td>2.336</td>\n",
       "      <td>YNR</td>\n",
       "      <td>-110.67917</td>\n",
       "      <td>44.71550</td>\n",
       "      <td>2336.0</td>\n",
       "    </tr>\n",
       "    <tr>\n",
       "      <th>8</th>\n",
       "      <td>YUF</td>\n",
       "      <td>-110.51170</td>\n",
       "      <td>44.712600</td>\n",
       "      <td>2.394</td>\n",
       "      <td>YUF</td>\n",
       "      <td>-110.51170</td>\n",
       "      <td>44.71260</td>\n",
       "      <td>2394.0</td>\n",
       "    </tr>\n",
       "    <tr>\n",
       "      <th>9</th>\n",
       "      <td>YHB</td>\n",
       "      <td>-111.19620</td>\n",
       "      <td>44.750800</td>\n",
       "      <td>2.167</td>\n",
       "      <td>YHB</td>\n",
       "      <td>-111.19620</td>\n",
       "      <td>44.75080</td>\n",
       "      <td>2167.0</td>\n",
       "    </tr>\n",
       "    <tr>\n",
       "      <th>10</th>\n",
       "      <td>YHH</td>\n",
       "      <td>-110.85050</td>\n",
       "      <td>44.788330</td>\n",
       "      <td>2.717</td>\n",
       "      <td>YHH</td>\n",
       "      <td>-110.85050</td>\n",
       "      <td>44.78833</td>\n",
       "      <td>2717.0</td>\n",
       "    </tr>\n",
       "    <tr>\n",
       "      <th>11</th>\n",
       "      <td>YPP</td>\n",
       "      <td>-110.80450</td>\n",
       "      <td>44.271000</td>\n",
       "      <td>2.707</td>\n",
       "      <td>YPP</td>\n",
       "      <td>-110.80450</td>\n",
       "      <td>44.27100</td>\n",
       "      <td>2707.0</td>\n",
       "    </tr>\n",
       "    <tr>\n",
       "      <th>12</th>\n",
       "      <td>YTP</td>\n",
       "      <td>-110.28500</td>\n",
       "      <td>44.391830</td>\n",
       "      <td>2.384</td>\n",
       "      <td>YTP</td>\n",
       "      <td>-110.28500</td>\n",
       "      <td>44.39183</td>\n",
       "      <td>2384.0</td>\n",
       "    </tr>\n",
       "    <tr>\n",
       "      <th>13</th>\n",
       "      <td>YMP</td>\n",
       "      <td>-110.15600</td>\n",
       "      <td>44.740170</td>\n",
       "      <td>2.774</td>\n",
       "      <td>YMP</td>\n",
       "      <td>-110.15600</td>\n",
       "      <td>44.74017</td>\n",
       "      <td>2774.0</td>\n",
       "    </tr>\n",
       "    <tr>\n",
       "      <th>14</th>\n",
       "      <td>YHL</td>\n",
       "      <td>-111.18300</td>\n",
       "      <td>44.850900</td>\n",
       "      <td>2.691</td>\n",
       "      <td>YHL</td>\n",
       "      <td>-111.18300</td>\n",
       "      <td>44.85090</td>\n",
       "      <td>2691.0</td>\n",
       "    </tr>\n",
       "    <tr>\n",
       "      <th>15</th>\n",
       "      <td>REDW</td>\n",
       "      <td>-110.85180</td>\n",
       "      <td>43.362400</td>\n",
       "      <td>2.192</td>\n",
       "      <td>REDW</td>\n",
       "      <td>-110.85180</td>\n",
       "      <td>43.36240</td>\n",
       "      <td>2192.0</td>\n",
       "    </tr>\n",
       "    <tr>\n",
       "      <th>16</th>\n",
       "      <td>LOHW</td>\n",
       "      <td>-110.60380</td>\n",
       "      <td>43.612400</td>\n",
       "      <td>2.121</td>\n",
       "      <td>LOHW</td>\n",
       "      <td>-110.60380</td>\n",
       "      <td>43.61240</td>\n",
       "      <td>2121.0</td>\n",
       "    </tr>\n",
       "    <tr>\n",
       "      <th>17</th>\n",
       "      <td>YNE</td>\n",
       "      <td>-110.00800</td>\n",
       "      <td>45.007600</td>\n",
       "      <td>2.343</td>\n",
       "      <td>YNE</td>\n",
       "      <td>-110.00800</td>\n",
       "      <td>45.00760</td>\n",
       "      <td>2343.0</td>\n",
       "    </tr>\n",
       "    <tr>\n",
       "      <th>18</th>\n",
       "      <td>YHR</td>\n",
       "      <td>-110.08160</td>\n",
       "      <td>44.106000</td>\n",
       "      <td>2.976</td>\n",
       "      <td>YHR</td>\n",
       "      <td>-110.08160</td>\n",
       "      <td>44.10600</td>\n",
       "      <td>2976.0</td>\n",
       "    </tr>\n",
       "    <tr>\n",
       "      <th>19</th>\n",
       "      <td>YEE</td>\n",
       "      <td>-109.89690</td>\n",
       "      <td>44.485300</td>\n",
       "      <td>2.270</td>\n",
       "      <td>YEE</td>\n",
       "      <td>-109.89690</td>\n",
       "      <td>44.48530</td>\n",
       "      <td>2270.0</td>\n",
       "    </tr>\n",
       "  </tbody>\n",
       "</table>\n",
       "</div>"
      ],
      "text/plain": [
       "     Sta       SLon       SLat  SElev station  receiver_lon  receiver_lat  \\\n",
       "0   AHID -111.10040  42.765400  1.960    AHID    -111.10040      42.76540   \n",
       "1   LKWY -110.40000  44.565200  2.424    LKWY    -110.40000      44.56520   \n",
       "2    BUT -112.55666  46.010834  1.758     NaN           NaN           NaN   \n",
       "3    YMR -110.96500  44.668670  2.149     YMR    -110.96500      44.66867   \n",
       "4    BOZ -111.62967  45.596970  1.589     BOZ    -111.62967      45.59697   \n",
       "5    YFT -110.83583  44.451330  2.292     YFT    -110.83583      44.45133   \n",
       "6   BW06 -109.55830  42.766700  2.224    BW06    -109.55830      42.76670   \n",
       "7    YNR -110.67917  44.715500  2.336     YNR    -110.67917      44.71550   \n",
       "8    YUF -110.51170  44.712600  2.394     YUF    -110.51170      44.71260   \n",
       "9    YHB -111.19620  44.750800  2.167     YHB    -111.19620      44.75080   \n",
       "10   YHH -110.85050  44.788330  2.717     YHH    -110.85050      44.78833   \n",
       "11   YPP -110.80450  44.271000  2.707     YPP    -110.80450      44.27100   \n",
       "12   YTP -110.28500  44.391830  2.384     YTP    -110.28500      44.39183   \n",
       "13   YMP -110.15600  44.740170  2.774     YMP    -110.15600      44.74017   \n",
       "14   YHL -111.18300  44.850900  2.691     YHL    -111.18300      44.85090   \n",
       "15  REDW -110.85180  43.362400  2.192    REDW    -110.85180      43.36240   \n",
       "16  LOHW -110.60380  43.612400  2.121    LOHW    -110.60380      43.61240   \n",
       "17   YNE -110.00800  45.007600  2.343     YNE    -110.00800      45.00760   \n",
       "18   YHR -110.08160  44.106000  2.976     YHR    -110.08160      44.10600   \n",
       "19   YEE -109.89690  44.485300  2.270     YEE    -109.89690      44.48530   \n",
       "\n",
       "    receiver_elev  \n",
       "0          1960.0  \n",
       "1          2424.0  \n",
       "2             NaN  \n",
       "3          2149.0  \n",
       "4          1589.0  \n",
       "5          2292.0  \n",
       "6          2224.0  \n",
       "7          2336.0  \n",
       "8          2394.0  \n",
       "9          2167.0  \n",
       "10         2717.0  \n",
       "11         2707.0  \n",
       "12         2384.0  \n",
       "13         2774.0  \n",
       "14         2691.0  \n",
       "15         2192.0  \n",
       "16         2121.0  \n",
       "17         2343.0  \n",
       "18         2976.0  \n",
       "19         2270.0  "
      ]
     },
     "execution_count": 73,
     "metadata": {},
     "output_type": "execute_result"
    }
   ],
   "source": [
    "# Locations are the same. Ben's catalog has no amps at BUT\n",
    "james_stats.merge(ys_stats, right_on='station', left_on='Sta', how='outer')"
   ]
  },
  {
   "cell_type": "code",
   "execution_count": 74,
   "metadata": {},
   "outputs": [],
   "source": [
    "# Add event info to Ben's amp catalog\n",
    "ys_ml_reform_EN_filt = ys_ml_reform_EN_filt.merge(uniq_events, how='left', on='evid')"
   ]
  },
  {
   "cell_type": "code",
   "execution_count": 75,
   "metadata": {},
   "outputs": [
    {
     "data": {
      "text/plain": [
       "magtype\n",
       "l    23670\n",
       "Name: count, dtype: int64"
      ]
     },
     "execution_count": 75,
     "metadata": {},
     "output_type": "execute_result"
    }
   ],
   "source": [
    "ys_ml_reform_EN_filt['magtype'].value_counts()"
   ]
  },
  {
   "cell_type": "code",
   "execution_count": 76,
   "metadata": {},
   "outputs": [
    {
     "data": {
      "text/plain": [
       "magnitude_type\n",
       "l    23670\n",
       "Name: count, dtype: int64"
      ]
     },
     "execution_count": 76,
     "metadata": {},
     "output_type": "execute_result"
    }
   ],
   "source": [
    "ys_ml_reform_EN_filt['magnitude_type'].value_counts()"
   ]
  },
  {
   "cell_type": "code",
   "execution_count": 77,
   "metadata": {},
   "outputs": [],
   "source": [
    "# Add stat info to Ben's amp catalog\n",
    "ys_ml_reform_EN_filt = ys_ml_reform_EN_filt.merge(james_stats, how='left', left_on='sta', right_on='Sta')"
   ]
  },
  {
   "cell_type": "code",
   "execution_count": 78,
   "metadata": {},
   "outputs": [
    {
     "data": {
      "text/html": [
       "<div>\n",
       "<style scoped>\n",
       "    .dataframe tbody tr th:only-of-type {\n",
       "        vertical-align: middle;\n",
       "    }\n",
       "\n",
       "    .dataframe tbody tr th {\n",
       "        vertical-align: top;\n",
       "    }\n",
       "\n",
       "    .dataframe thead th {\n",
       "        text-align: right;\n",
       "    }\n",
       "</style>\n",
       "<table border=\"1\" class=\"dataframe\">\n",
       "  <thead>\n",
       "    <tr style=\"text-align: right;\">\n",
       "      <th></th>\n",
       "      <th>evid</th>\n",
       "      <th>sta</th>\n",
       "      <th>net</th>\n",
       "      <th>location</th>\n",
       "      <th>magtype</th>\n",
       "      <th>auth</th>\n",
       "      <th>subsource</th>\n",
       "      <th>mag</th>\n",
       "      <th>magres</th>\n",
       "      <th>magcorr</th>\n",
       "      <th>...</th>\n",
       "      <th>event_lon</th>\n",
       "      <th>event_lat</th>\n",
       "      <th>event_depth</th>\n",
       "      <th>magnitude</th>\n",
       "      <th>magnitude_type</th>\n",
       "      <th>utc</th>\n",
       "      <th>Sta</th>\n",
       "      <th>SLon</th>\n",
       "      <th>SLat</th>\n",
       "      <th>SElev</th>\n",
       "    </tr>\n",
       "  </thead>\n",
       "  <tbody>\n",
       "    <tr>\n",
       "      <th>0</th>\n",
       "      <td>60000620</td>\n",
       "      <td>LKWY</td>\n",
       "      <td>US</td>\n",
       "      <td>01</td>\n",
       "      <td>l</td>\n",
       "      <td>UU</td>\n",
       "      <td>Jiggle</td>\n",
       "      <td>2.25</td>\n",
       "      <td>0.06</td>\n",
       "      <td>0.06</td>\n",
       "      <td>...</td>\n",
       "      <td>-110.552667</td>\n",
       "      <td>44.4745</td>\n",
       "      <td>4.43</td>\n",
       "      <td>2.19</td>\n",
       "      <td>l</td>\n",
       "      <td>2013-01-07 08:12:32.649998+00:00</td>\n",
       "      <td>LKWY</td>\n",
       "      <td>-110.40000</td>\n",
       "      <td>44.56520</td>\n",
       "      <td>2.424</td>\n",
       "    </tr>\n",
       "    <tr>\n",
       "      <th>1</th>\n",
       "      <td>60000620</td>\n",
       "      <td>YFT</td>\n",
       "      <td>WY</td>\n",
       "      <td>01</td>\n",
       "      <td>l</td>\n",
       "      <td>UU</td>\n",
       "      <td>Jiggle</td>\n",
       "      <td>1.94</td>\n",
       "      <td>-0.25</td>\n",
       "      <td>0.20</td>\n",
       "      <td>...</td>\n",
       "      <td>-110.552667</td>\n",
       "      <td>44.4745</td>\n",
       "      <td>4.43</td>\n",
       "      <td>2.19</td>\n",
       "      <td>l</td>\n",
       "      <td>2013-01-07 08:12:32.649998+00:00</td>\n",
       "      <td>YFT</td>\n",
       "      <td>-110.83583</td>\n",
       "      <td>44.45133</td>\n",
       "      <td>2.292</td>\n",
       "    </tr>\n",
       "    <tr>\n",
       "      <th>2</th>\n",
       "      <td>60000620</td>\n",
       "      <td>YUF</td>\n",
       "      <td>WY</td>\n",
       "      <td>01</td>\n",
       "      <td>l</td>\n",
       "      <td>UU</td>\n",
       "      <td>Jiggle</td>\n",
       "      <td>2.78</td>\n",
       "      <td>0.59</td>\n",
       "      <td>0.61</td>\n",
       "      <td>...</td>\n",
       "      <td>-110.552667</td>\n",
       "      <td>44.4745</td>\n",
       "      <td>4.43</td>\n",
       "      <td>2.19</td>\n",
       "      <td>l</td>\n",
       "      <td>2013-01-07 08:12:32.649998+00:00</td>\n",
       "      <td>YUF</td>\n",
       "      <td>-110.51170</td>\n",
       "      <td>44.71260</td>\n",
       "      <td>2.394</td>\n",
       "    </tr>\n",
       "    <tr>\n",
       "      <th>3</th>\n",
       "      <td>60000620</td>\n",
       "      <td>YNR</td>\n",
       "      <td>WY</td>\n",
       "      <td>01</td>\n",
       "      <td>l</td>\n",
       "      <td>UU</td>\n",
       "      <td>Jiggle</td>\n",
       "      <td>2.47</td>\n",
       "      <td>0.28</td>\n",
       "      <td>0.35</td>\n",
       "      <td>...</td>\n",
       "      <td>-110.552667</td>\n",
       "      <td>44.4745</td>\n",
       "      <td>4.43</td>\n",
       "      <td>2.19</td>\n",
       "      <td>l</td>\n",
       "      <td>2013-01-07 08:12:32.649998+00:00</td>\n",
       "      <td>YNR</td>\n",
       "      <td>-110.67917</td>\n",
       "      <td>44.71550</td>\n",
       "      <td>2.336</td>\n",
       "    </tr>\n",
       "    <tr>\n",
       "      <th>4</th>\n",
       "      <td>60000620</td>\n",
       "      <td>YMR</td>\n",
       "      <td>WY</td>\n",
       "      <td>01</td>\n",
       "      <td>l</td>\n",
       "      <td>UU</td>\n",
       "      <td>Jiggle</td>\n",
       "      <td>1.73</td>\n",
       "      <td>-0.46</td>\n",
       "      <td>-0.38</td>\n",
       "      <td>...</td>\n",
       "      <td>-110.552667</td>\n",
       "      <td>44.4745</td>\n",
       "      <td>4.43</td>\n",
       "      <td>2.19</td>\n",
       "      <td>l</td>\n",
       "      <td>2013-01-07 08:12:32.649998+00:00</td>\n",
       "      <td>YMR</td>\n",
       "      <td>-110.96500</td>\n",
       "      <td>44.66867</td>\n",
       "      <td>2.149</td>\n",
       "    </tr>\n",
       "  </tbody>\n",
       "</table>\n",
       "<p>5 rows × 51 columns</p>\n",
       "</div>"
      ],
      "text/plain": [
       "       evid   sta net location magtype auth subsource   mag  magres  magcorr  \\\n",
       "0  60000620  LKWY  US       01       l   UU    Jiggle  2.25    0.06     0.06   \n",
       "1  60000620   YFT  WY       01       l   UU    Jiggle  1.94   -0.25     0.20   \n",
       "2  60000620   YUF  WY       01       l   UU    Jiggle  2.78    0.59     0.61   \n",
       "3  60000620   YNR  WY       01       l   UU    Jiggle  2.47    0.28     0.35   \n",
       "4  60000620   YMR  WY       01       l   UU    Jiggle  1.73   -0.46    -0.38   \n",
       "\n",
       "   ...   event_lon event_lat  event_depth magnitude magnitude_type  \\\n",
       "0  ... -110.552667   44.4745         4.43      2.19              l   \n",
       "1  ... -110.552667   44.4745         4.43      2.19              l   \n",
       "2  ... -110.552667   44.4745         4.43      2.19              l   \n",
       "3  ... -110.552667   44.4745         4.43      2.19              l   \n",
       "4  ... -110.552667   44.4745         4.43      2.19              l   \n",
       "\n",
       "                                utc   Sta       SLon      SLat  SElev  \n",
       "0  2013-01-07 08:12:32.649998+00:00  LKWY -110.40000  44.56520  2.424  \n",
       "1  2013-01-07 08:12:32.649998+00:00   YFT -110.83583  44.45133  2.292  \n",
       "2  2013-01-07 08:12:32.649998+00:00   YUF -110.51170  44.71260  2.394  \n",
       "3  2013-01-07 08:12:32.649998+00:00   YNR -110.67917  44.71550  2.336  \n",
       "4  2013-01-07 08:12:32.649998+00:00   YMR -110.96500  44.66867  2.149  \n",
       "\n",
       "[5 rows x 51 columns]"
      ]
     },
     "execution_count": 78,
     "metadata": {},
     "output_type": "execute_result"
    }
   ],
   "source": [
    "ys_ml_reform_EN_filt.head()"
   ]
  },
  {
   "cell_type": "code",
   "execution_count": 79,
   "metadata": {},
   "outputs": [
    {
     "data": {
      "text/plain": [
       "'2012-10-07 00:32:04.740000+00:00'"
      ]
     },
     "execution_count": 79,
     "metadata": {},
     "output_type": "execute_result"
    }
   ],
   "source": [
    "ys_ml_reform_EN_filt['utc'].min()"
   ]
  },
  {
   "cell_type": "code",
   "execution_count": 80,
   "metadata": {},
   "outputs": [
    {
     "data": {
      "text/plain": [
       "'2023-01-02 11:18:40.930000+00:00'"
      ]
     },
     "execution_count": 80,
     "metadata": {},
     "output_type": "execute_result"
    }
   ],
   "source": [
    "ys_ml_reform_EN_filt['utc'].max()"
   ]
  },
  {
   "cell_type": "markdown",
   "metadata": {},
   "source": [
    "Remove some columns that are probably unneeded"
   ]
  },
  {
   "cell_type": "code",
   "execution_count": 81,
   "metadata": {},
   "outputs": [
    {
     "data": {
      "text/plain": [
       "Index(['evid', 'sta', 'net', 'location', 'magtype', 'auth', 'subsource', 'mag',\n",
       "       'magres', 'magcorr', 'seedchanpref', 'seedchanE', 'amplitudeE',\n",
       "       'amptypeE', 'unitsE', 'datetimeE', 'weightE', 'assocamm_in_wgtE',\n",
       "       'amp_rflagE', 'cflagE', 'wstartE', 'durationE', 'amp_qualityE',\n",
       "       'periodE', 'snrE', 'AmpE', 'seedchanN', 'amplitudeN', 'amptypeN',\n",
       "       'unitsN', 'datetimeN', 'weightN', 'assocamm_in_wgtN', 'amp_rflagN',\n",
       "       'cflagN', 'wstartN', 'durationN', 'amp_qualityN', 'periodN', 'snrN',\n",
       "       'AmpN', 'event_lon', 'event_lat', 'event_depth', 'magnitude',\n",
       "       'magnitude_type', 'utc', 'Sta', 'SLon', 'SLat', 'SElev'],\n",
       "      dtype='object')"
      ]
     },
     "execution_count": 81,
     "metadata": {},
     "output_type": "execute_result"
    }
   ],
   "source": [
    "ys_ml_reform_EN_filt.columns"
   ]
  },
  {
   "cell_type": "code",
   "execution_count": 82,
   "metadata": {},
   "outputs": [
    {
     "data": {
      "text/plain": [
       "Index(['Evid', 'Date', 'Time', 'EqLat', 'EqLon', 'EqDep', 'EqML', 'EqMC', 'N',\n",
       "       'Dmin', 'ErrZ', 'ErrR', 'Net', 'Sta', 'Cmp', 'SLat', 'SLon', 'SElev',\n",
       "       'Repi', 'Rhyp', 'SML', 'Corr', 'AmpE', 'UnE', 'PerE', 'SnrE', 'AmpN',\n",
       "       'UnN', 'PerN', 'SnrN', 'halfAmpH', 'CatMag', 'H', 'GoodDep'],\n",
       "      dtype='object')"
      ]
     },
     "execution_count": 82,
     "metadata": {},
     "output_type": "execute_result"
    }
   ],
   "source": [
    "james_amps.columns"
   ]
  },
  {
   "cell_type": "code",
   "execution_count": 83,
   "metadata": {},
   "outputs": [],
   "source": [
    "# Remove some probably unneeded columns\n",
    "ys_ml_reform_EN_filt = ys_ml_reform_EN_filt[['evid', 'sta', 'net', 'location', 'magtype', 'mag',\n",
    "       'magres', 'magcorr', 'seedchanE', 'periodE', 'snrE', 'AmpE',\n",
    "       'seedchanN', 'periodN', 'snrN', 'AmpN', 'event_lon', 'event_lat',\n",
    "       'event_depth', 'magnitude', 'magnitude_type', 'Sta', 'SLon', 'SLat', 'SElev', 'utc']]"
   ]
  },
  {
   "cell_type": "code",
   "execution_count": 84,
   "metadata": {},
   "outputs": [
    {
     "data": {
      "text/html": [
       "<div>\n",
       "<style scoped>\n",
       "    .dataframe tbody tr th:only-of-type {\n",
       "        vertical-align: middle;\n",
       "    }\n",
       "\n",
       "    .dataframe tbody tr th {\n",
       "        vertical-align: top;\n",
       "    }\n",
       "\n",
       "    .dataframe thead th {\n",
       "        text-align: right;\n",
       "    }\n",
       "</style>\n",
       "<table border=\"1\" class=\"dataframe\">\n",
       "  <thead>\n",
       "    <tr style=\"text-align: right;\">\n",
       "      <th></th>\n",
       "      <th>evid</th>\n",
       "      <th>sta</th>\n",
       "      <th>net</th>\n",
       "      <th>location</th>\n",
       "      <th>magtype</th>\n",
       "      <th>mag</th>\n",
       "      <th>magres</th>\n",
       "      <th>magcorr</th>\n",
       "      <th>seedchanE</th>\n",
       "      <th>periodE</th>\n",
       "      <th>...</th>\n",
       "      <th>event_lon</th>\n",
       "      <th>event_lat</th>\n",
       "      <th>event_depth</th>\n",
       "      <th>magnitude</th>\n",
       "      <th>magnitude_type</th>\n",
       "      <th>Sta</th>\n",
       "      <th>SLon</th>\n",
       "      <th>SLat</th>\n",
       "      <th>SElev</th>\n",
       "      <th>utc</th>\n",
       "    </tr>\n",
       "  </thead>\n",
       "  <tbody>\n",
       "    <tr>\n",
       "      <th>0</th>\n",
       "      <td>60000620</td>\n",
       "      <td>LKWY</td>\n",
       "      <td>US</td>\n",
       "      <td>01</td>\n",
       "      <td>l</td>\n",
       "      <td>2.25</td>\n",
       "      <td>0.06</td>\n",
       "      <td>0.06</td>\n",
       "      <td>BHE</td>\n",
       "      <td>0.35</td>\n",
       "      <td>...</td>\n",
       "      <td>-110.552667</td>\n",
       "      <td>44.4745</td>\n",
       "      <td>4.43</td>\n",
       "      <td>2.19</td>\n",
       "      <td>l</td>\n",
       "      <td>LKWY</td>\n",
       "      <td>-110.40000</td>\n",
       "      <td>44.56520</td>\n",
       "      <td>2.424</td>\n",
       "      <td>2013-01-07 08:12:32.649998+00:00</td>\n",
       "    </tr>\n",
       "    <tr>\n",
       "      <th>1</th>\n",
       "      <td>60000620</td>\n",
       "      <td>YFT</td>\n",
       "      <td>WY</td>\n",
       "      <td>01</td>\n",
       "      <td>l</td>\n",
       "      <td>1.94</td>\n",
       "      <td>-0.25</td>\n",
       "      <td>0.20</td>\n",
       "      <td>HHE</td>\n",
       "      <td>0.26</td>\n",
       "      <td>...</td>\n",
       "      <td>-110.552667</td>\n",
       "      <td>44.4745</td>\n",
       "      <td>4.43</td>\n",
       "      <td>2.19</td>\n",
       "      <td>l</td>\n",
       "      <td>YFT</td>\n",
       "      <td>-110.83583</td>\n",
       "      <td>44.45133</td>\n",
       "      <td>2.292</td>\n",
       "      <td>2013-01-07 08:12:32.649998+00:00</td>\n",
       "    </tr>\n",
       "    <tr>\n",
       "      <th>2</th>\n",
       "      <td>60000620</td>\n",
       "      <td>YUF</td>\n",
       "      <td>WY</td>\n",
       "      <td>01</td>\n",
       "      <td>l</td>\n",
       "      <td>2.78</td>\n",
       "      <td>0.59</td>\n",
       "      <td>0.61</td>\n",
       "      <td>HHE</td>\n",
       "      <td>0.26</td>\n",
       "      <td>...</td>\n",
       "      <td>-110.552667</td>\n",
       "      <td>44.4745</td>\n",
       "      <td>4.43</td>\n",
       "      <td>2.19</td>\n",
       "      <td>l</td>\n",
       "      <td>YUF</td>\n",
       "      <td>-110.51170</td>\n",
       "      <td>44.71260</td>\n",
       "      <td>2.394</td>\n",
       "      <td>2013-01-07 08:12:32.649998+00:00</td>\n",
       "    </tr>\n",
       "    <tr>\n",
       "      <th>3</th>\n",
       "      <td>60000620</td>\n",
       "      <td>YNR</td>\n",
       "      <td>WY</td>\n",
       "      <td>01</td>\n",
       "      <td>l</td>\n",
       "      <td>2.47</td>\n",
       "      <td>0.28</td>\n",
       "      <td>0.35</td>\n",
       "      <td>HHE</td>\n",
       "      <td>0.14</td>\n",
       "      <td>...</td>\n",
       "      <td>-110.552667</td>\n",
       "      <td>44.4745</td>\n",
       "      <td>4.43</td>\n",
       "      <td>2.19</td>\n",
       "      <td>l</td>\n",
       "      <td>YNR</td>\n",
       "      <td>-110.67917</td>\n",
       "      <td>44.71550</td>\n",
       "      <td>2.336</td>\n",
       "      <td>2013-01-07 08:12:32.649998+00:00</td>\n",
       "    </tr>\n",
       "    <tr>\n",
       "      <th>4</th>\n",
       "      <td>60000620</td>\n",
       "      <td>YMR</td>\n",
       "      <td>WY</td>\n",
       "      <td>01</td>\n",
       "      <td>l</td>\n",
       "      <td>1.73</td>\n",
       "      <td>-0.46</td>\n",
       "      <td>-0.38</td>\n",
       "      <td>HHE</td>\n",
       "      <td>1.00</td>\n",
       "      <td>...</td>\n",
       "      <td>-110.552667</td>\n",
       "      <td>44.4745</td>\n",
       "      <td>4.43</td>\n",
       "      <td>2.19</td>\n",
       "      <td>l</td>\n",
       "      <td>YMR</td>\n",
       "      <td>-110.96500</td>\n",
       "      <td>44.66867</td>\n",
       "      <td>2.149</td>\n",
       "      <td>2013-01-07 08:12:32.649998+00:00</td>\n",
       "    </tr>\n",
       "  </tbody>\n",
       "</table>\n",
       "<p>5 rows × 26 columns</p>\n",
       "</div>"
      ],
      "text/plain": [
       "       evid   sta net location magtype   mag  magres  magcorr seedchanE  \\\n",
       "0  60000620  LKWY  US       01       l  2.25    0.06     0.06       BHE   \n",
       "1  60000620   YFT  WY       01       l  1.94   -0.25     0.20       HHE   \n",
       "2  60000620   YUF  WY       01       l  2.78    0.59     0.61       HHE   \n",
       "3  60000620   YNR  WY       01       l  2.47    0.28     0.35       HHE   \n",
       "4  60000620   YMR  WY       01       l  1.73   -0.46    -0.38       HHE   \n",
       "\n",
       "   periodE  ...   event_lon  event_lat event_depth  magnitude  magnitude_type  \\\n",
       "0     0.35  ... -110.552667    44.4745        4.43       2.19               l   \n",
       "1     0.26  ... -110.552667    44.4745        4.43       2.19               l   \n",
       "2     0.26  ... -110.552667    44.4745        4.43       2.19               l   \n",
       "3     0.14  ... -110.552667    44.4745        4.43       2.19               l   \n",
       "4     1.00  ... -110.552667    44.4745        4.43       2.19               l   \n",
       "\n",
       "    Sta       SLon      SLat  SElev                               utc  \n",
       "0  LKWY -110.40000  44.56520  2.424  2013-01-07 08:12:32.649998+00:00  \n",
       "1   YFT -110.83583  44.45133  2.292  2013-01-07 08:12:32.649998+00:00  \n",
       "2   YUF -110.51170  44.71260  2.394  2013-01-07 08:12:32.649998+00:00  \n",
       "3   YNR -110.67917  44.71550  2.336  2013-01-07 08:12:32.649998+00:00  \n",
       "4   YMR -110.96500  44.66867  2.149  2013-01-07 08:12:32.649998+00:00  \n",
       "\n",
       "[5 rows x 26 columns]"
      ]
     },
     "execution_count": 84,
     "metadata": {},
     "output_type": "execute_result"
    }
   ],
   "source": [
    "ys_ml_reform_EN_filt.head()"
   ]
  },
  {
   "cell_type": "code",
   "execution_count": 85,
   "metadata": {},
   "outputs": [
    {
     "data": {
      "text/plain": [
       "Index(['evid', 'sta', 'net', 'location', 'magtype', 'mag', 'magres', 'magcorr',\n",
       "       'seedchanE', 'periodE', 'snrE', 'AmpE', 'seedchanN', 'periodN', 'snrN',\n",
       "       'AmpN', 'event_lon', 'event_lat', 'event_depth', 'magnitude',\n",
       "       'magnitude_type', 'Sta', 'SLon', 'SLat', 'SElev', 'utc'],\n",
       "      dtype='object')"
      ]
     },
     "execution_count": 85,
     "metadata": {},
     "output_type": "execute_result"
    }
   ],
   "source": [
    "ys_ml_reform_EN_filt.columns"
   ]
  },
  {
   "cell_type": "markdown",
   "metadata": {},
   "source": [
    "Add in Repi and Rhyp\n",
    "\n",
    "Picks and amps use different stations, so can't use the values in the pick catalag. \n",
    "\n",
    "Rhyp seemes to just be computed with $\\sqrt{\\R_{epi}^2 + depth^2}$ in James catalog"
   ]
  },
  {
   "cell_type": "code",
   "execution_count": 86,
   "metadata": {},
   "outputs": [
    {
     "data": {
      "text/html": [
       "<div>\n",
       "<style scoped>\n",
       "    .dataframe tbody tr th:only-of-type {\n",
       "        vertical-align: middle;\n",
       "    }\n",
       "\n",
       "    .dataframe tbody tr th {\n",
       "        vertical-align: top;\n",
       "    }\n",
       "\n",
       "    .dataframe thead th {\n",
       "        text-align: right;\n",
       "    }\n",
       "</style>\n",
       "<table border=\"1\" class=\"dataframe\">\n",
       "  <thead>\n",
       "    <tr style=\"text-align: right;\">\n",
       "      <th></th>\n",
       "      <th>evid</th>\n",
       "      <th>Sta</th>\n",
       "      <th>Repi</th>\n",
       "      <th>Rhyp</th>\n",
       "      <th>EqLat</th>\n",
       "      <th>EqLon</th>\n",
       "      <th>EqDep</th>\n",
       "      <th>SLat</th>\n",
       "      <th>SLon</th>\n",
       "    </tr>\n",
       "  </thead>\n",
       "  <tbody>\n",
       "    <tr>\n",
       "      <th>0</th>\n",
       "      <td>60000620</td>\n",
       "      <td>LKWY</td>\n",
       "      <td>15.7</td>\n",
       "      <td>16.965698</td>\n",
       "      <td>44.474</td>\n",
       "      <td>-110.553</td>\n",
       "      <td>6.43</td>\n",
       "      <td>44.56520</td>\n",
       "      <td>-110.40000</td>\n",
       "    </tr>\n",
       "    <tr>\n",
       "      <th>1</th>\n",
       "      <td>60000620</td>\n",
       "      <td>LKWY</td>\n",
       "      <td>15.7</td>\n",
       "      <td>16.965698</td>\n",
       "      <td>44.474</td>\n",
       "      <td>-110.553</td>\n",
       "      <td>6.43</td>\n",
       "      <td>44.56520</td>\n",
       "      <td>-110.40000</td>\n",
       "    </tr>\n",
       "    <tr>\n",
       "      <th>2</th>\n",
       "      <td>60000620</td>\n",
       "      <td>YFT</td>\n",
       "      <td>22.6</td>\n",
       "      <td>23.496913</td>\n",
       "      <td>44.474</td>\n",
       "      <td>-110.553</td>\n",
       "      <td>6.43</td>\n",
       "      <td>44.45133</td>\n",
       "      <td>-110.83583</td>\n",
       "    </tr>\n",
       "    <tr>\n",
       "      <th>3</th>\n",
       "      <td>60000620</td>\n",
       "      <td>YFT</td>\n",
       "      <td>22.6</td>\n",
       "      <td>23.496913</td>\n",
       "      <td>44.474</td>\n",
       "      <td>-110.553</td>\n",
       "      <td>6.43</td>\n",
       "      <td>44.45133</td>\n",
       "      <td>-110.83583</td>\n",
       "    </tr>\n",
       "    <tr>\n",
       "      <th>4</th>\n",
       "      <td>60000620</td>\n",
       "      <td>YHB</td>\n",
       "      <td>59.5</td>\n",
       "      <td>59.846428</td>\n",
       "      <td>44.474</td>\n",
       "      <td>-110.553</td>\n",
       "      <td>6.43</td>\n",
       "      <td>44.75080</td>\n",
       "      <td>-111.19620</td>\n",
       "    </tr>\n",
       "  </tbody>\n",
       "</table>\n",
       "</div>"
      ],
      "text/plain": [
       "       evid   Sta  Repi       Rhyp   EqLat    EqLon  EqDep      SLat  \\\n",
       "0  60000620  LKWY  15.7  16.965698  44.474 -110.553   6.43  44.56520   \n",
       "1  60000620  LKWY  15.7  16.965698  44.474 -110.553   6.43  44.56520   \n",
       "2  60000620   YFT  22.6  23.496913  44.474 -110.553   6.43  44.45133   \n",
       "3  60000620   YFT  22.6  23.496913  44.474 -110.553   6.43  44.45133   \n",
       "4  60000620   YHB  59.5  59.846428  44.474 -110.553   6.43  44.75080   \n",
       "\n",
       "        SLon  \n",
       "0 -110.40000  \n",
       "1 -110.40000  \n",
       "2 -110.83583  \n",
       "3 -110.83583  \n",
       "4 -111.19620  "
      ]
     },
     "execution_count": 86,
     "metadata": {},
     "output_type": "execute_result"
    }
   ],
   "source": [
    "james_ben_merge[['evid', 'Sta', 'Repi', 'Rhyp', 'EqLat', 'EqLon', 'EqDep', 'SLat', 'SLon']].head()"
   ]
  },
  {
   "cell_type": "code",
   "execution_count": 87,
   "metadata": {},
   "outputs": [
    {
     "data": {
      "text/plain": [
       "382    15.7\n",
       "Name: source_receiver_distance, dtype: float64"
      ]
     },
     "execution_count": 87,
     "metadata": {},
     "output_type": "execute_result"
    }
   ],
   "source": [
    "ys_arr_df[(ys_arr_df.evid == 60000620) & (ys_arr_df['station'] == 'LKWY')]['source_receiver_distance']"
   ]
  },
  {
   "cell_type": "markdown",
   "metadata": {},
   "source": [
    "Haversine formula give dist of ~17 km for 60000620-LKWY, but catalog is 15.7. Get ~15.8 using fancier method from geographiclib that uses the WGS84 ellipsoid. Ben wasn't sure exactly how hypoinverse calculates epicentral distance, so just use the fancier method, which should be more accurate."
   ]
  },
  {
   "cell_type": "code",
   "execution_count": 88,
   "metadata": {},
   "outputs": [],
   "source": [
    "from geographiclib.geodesic import Geodesic"
   ]
  },
  {
   "cell_type": "code",
   "execution_count": 89,
   "metadata": {},
   "outputs": [
    {
     "name": "stdout",
     "output_type": "stream",
     "text": [
      "15.832457307104635\n"
     ]
    }
   ],
   "source": [
    "result = Geodesic.WGS84.Inverse(44.56520, -110.40000, 44.474, -110.553)\n",
    "print(result['s12']/1000)"
   ]
  },
  {
   "cell_type": "code",
   "execution_count": 90,
   "metadata": {},
   "outputs": [],
   "source": [
    "james_ben_merge.loc[:, \"new_Repi\"] = james_ben_merge.apply(lambda x: Geodesic.WGS84.Inverse(x.SLat, x.SLon, x.EqLat, x.EqLon)['s12']/1000, axis=1)"
   ]
  },
  {
   "cell_type": "code",
   "execution_count": 91,
   "metadata": {},
   "outputs": [],
   "source": [
    "james_ben_merge.loc[:, \"new_Rhyp\"] = james_ben_merge.apply(lambda x: np.sqrt(x.new_Repi**2 + x.EqDep**2), axis=1)"
   ]
  },
  {
   "cell_type": "code",
   "execution_count": 92,
   "metadata": {},
   "outputs": [
    {
     "data": {
      "text/html": [
       "<div>\n",
       "<style scoped>\n",
       "    .dataframe tbody tr th:only-of-type {\n",
       "        vertical-align: middle;\n",
       "    }\n",
       "\n",
       "    .dataframe tbody tr th {\n",
       "        vertical-align: top;\n",
       "    }\n",
       "\n",
       "    .dataframe thead th {\n",
       "        text-align: right;\n",
       "    }\n",
       "</style>\n",
       "<table border=\"1\" class=\"dataframe\">\n",
       "  <thead>\n",
       "    <tr style=\"text-align: right;\">\n",
       "      <th></th>\n",
       "      <th>evid</th>\n",
       "      <th>Sta</th>\n",
       "      <th>Repi</th>\n",
       "      <th>Rhyp</th>\n",
       "      <th>EqDep</th>\n",
       "      <th>new_Repi</th>\n",
       "      <th>new_Rhyp</th>\n",
       "    </tr>\n",
       "  </thead>\n",
       "  <tbody>\n",
       "    <tr>\n",
       "      <th>0</th>\n",
       "      <td>60000620</td>\n",
       "      <td>LKWY</td>\n",
       "      <td>15.7</td>\n",
       "      <td>16.965698</td>\n",
       "      <td>6.43</td>\n",
       "      <td>15.832457</td>\n",
       "      <td>17.088347</td>\n",
       "    </tr>\n",
       "    <tr>\n",
       "      <th>1</th>\n",
       "      <td>60000620</td>\n",
       "      <td>LKWY</td>\n",
       "      <td>15.7</td>\n",
       "      <td>16.965698</td>\n",
       "      <td>6.43</td>\n",
       "      <td>15.832457</td>\n",
       "      <td>17.088347</td>\n",
       "    </tr>\n",
       "    <tr>\n",
       "      <th>2</th>\n",
       "      <td>60000620</td>\n",
       "      <td>YFT</td>\n",
       "      <td>22.6</td>\n",
       "      <td>23.496913</td>\n",
       "      <td>6.43</td>\n",
       "      <td>22.648218</td>\n",
       "      <td>23.543294</td>\n",
       "    </tr>\n",
       "    <tr>\n",
       "      <th>3</th>\n",
       "      <td>60000620</td>\n",
       "      <td>YFT</td>\n",
       "      <td>22.6</td>\n",
       "      <td>23.496913</td>\n",
       "      <td>6.43</td>\n",
       "      <td>22.648218</td>\n",
       "      <td>23.543294</td>\n",
       "    </tr>\n",
       "    <tr>\n",
       "      <th>4</th>\n",
       "      <td>60000620</td>\n",
       "      <td>YHB</td>\n",
       "      <td>59.5</td>\n",
       "      <td>59.846428</td>\n",
       "      <td>6.43</td>\n",
       "      <td>59.604619</td>\n",
       "      <td>59.950442</td>\n",
       "    </tr>\n",
       "  </tbody>\n",
       "</table>\n",
       "</div>"
      ],
      "text/plain": [
       "       evid   Sta  Repi       Rhyp  EqDep   new_Repi   new_Rhyp\n",
       "0  60000620  LKWY  15.7  16.965698   6.43  15.832457  17.088347\n",
       "1  60000620  LKWY  15.7  16.965698   6.43  15.832457  17.088347\n",
       "2  60000620   YFT  22.6  23.496913   6.43  22.648218  23.543294\n",
       "3  60000620   YFT  22.6  23.496913   6.43  22.648218  23.543294\n",
       "4  60000620   YHB  59.5  59.846428   6.43  59.604619  59.950442"
      ]
     },
     "execution_count": 92,
     "metadata": {},
     "output_type": "execute_result"
    }
   ],
   "source": [
    "james_ben_merge[['evid', 'Sta', 'Repi', 'Rhyp','EqDep', 'new_Repi', 'new_Rhyp']].head()"
   ]
  },
  {
   "cell_type": "code",
   "execution_count": 93,
   "metadata": {},
   "outputs": [
    {
     "data": {
      "text/plain": [
       "count    28937.000000\n",
       "mean         0.081876\n",
       "std          0.373997\n",
       "min          0.000003\n",
       "25%          0.021548\n",
       "50%          0.044997\n",
       "75%          0.076332\n",
       "max          5.353329\n",
       "dtype: float64"
      ]
     },
     "execution_count": 93,
     "metadata": {},
     "output_type": "execute_result"
    }
   ],
   "source": [
    "abs(james_ben_merge['Repi'] - james_ben_merge['new_Repi']).describe()"
   ]
  },
  {
   "cell_type": "code",
   "execution_count": 94,
   "metadata": {},
   "outputs": [
    {
     "data": {
      "text/plain": [
       "count    28937.000000\n",
       "mean         0.077220\n",
       "std          0.372645\n",
       "min          0.000002\n",
       "25%          0.018143\n",
       "50%          0.039435\n",
       "75%          0.069779\n",
       "max          5.338073\n",
       "dtype: float64"
      ]
     },
     "execution_count": 94,
     "metadata": {},
     "output_type": "execute_result"
    }
   ],
   "source": [
    "abs(james_ben_merge['Rhyp'] - james_ben_merge['new_Rhyp']).describe()"
   ]
  },
  {
   "cell_type": "markdown",
   "metadata": {},
   "source": [
    "Most of the distances agree pretty well, generally within 0.07 km or 70 m. Bigger discrepancies are at station BOZ, which I imagine is in Bozeman and won't even be in my machine learning stuff. The difference is probably because BOZ is farther away so there is more error in the distance estimate for hypoinverse method. I doubt 5 km will effect the results anyway, since the events are > ~100 km away."
   ]
  },
  {
   "cell_type": "code",
   "execution_count": 95,
   "metadata": {},
   "outputs": [
    {
     "data": {
      "text/plain": [
       "array(['BOZ'], dtype=object)"
      ]
     },
     "execution_count": 95,
     "metadata": {},
     "output_type": "execute_result"
    }
   ],
   "source": [
    "james_ben_merge[abs(james_ben_merge['Repi'] - james_ben_merge['new_Repi']) > 0.5].Sta.unique()"
   ]
  },
  {
   "cell_type": "code",
   "execution_count": 96,
   "metadata": {},
   "outputs": [
    {
     "data": {
      "text/plain": [
       "count    182.000000\n",
       "mean     122.265459\n",
       "std       18.445443\n",
       "min       98.281578\n",
       "25%      103.683851\n",
       "50%      123.436041\n",
       "75%      131.553228\n",
       "max      169.050829\n",
       "Name: new_Repi, dtype: float64"
      ]
     },
     "execution_count": 96,
     "metadata": {},
     "output_type": "execute_result"
    }
   ],
   "source": [
    "james_ben_merge[abs(james_ben_merge['Repi'] - james_ben_merge['new_Repi']) > 0.5]['new_Repi'].describe()"
   ]
  },
  {
   "cell_type": "markdown",
   "metadata": {},
   "source": [
    "Now compute distances for the new catalog"
   ]
  },
  {
   "cell_type": "markdown",
   "metadata": {},
   "source": [
    "James's catalog depths are 2 km larger than Ben's catalog. Ben's must be relative to sea level? Use what James used for consistency with his methods."
   ]
  },
  {
   "cell_type": "code",
   "execution_count": 97,
   "metadata": {},
   "outputs": [],
   "source": [
    "depth_merge = james_amps[['Evid', 'Sta', 'EqDep']].merge(ys_ml_reform_EN_filt[['evid', 'sta', 'event_depth']], left_on=['Evid', 'Sta'], right_on=['evid', 'sta'])[['EqDep', 'event_depth']]"
   ]
  },
  {
   "cell_type": "code",
   "execution_count": 98,
   "metadata": {},
   "outputs": [
    {
     "data": {
      "text/plain": [
       "count    14514.000000\n",
       "mean         1.999997\n",
       "std          0.000166\n",
       "min          1.990000\n",
       "25%          2.000000\n",
       "50%          2.000000\n",
       "75%          2.000000\n",
       "max          2.000000\n",
       "dtype: float64"
      ]
     },
     "execution_count": 98,
     "metadata": {},
     "output_type": "execute_result"
    }
   ],
   "source": [
    "(depth_merge['EqDep'] - depth_merge['event_depth']).describe()"
   ]
  },
  {
   "cell_type": "code",
   "execution_count": 99,
   "metadata": {},
   "outputs": [],
   "source": [
    "ys_ml_reform_EN_filt.loc[:, \"EqDep_abs\"] = ys_ml_reform_EN_filt['event_depth'] + 2"
   ]
  },
  {
   "cell_type": "code",
   "execution_count": 100,
   "metadata": {},
   "outputs": [],
   "source": [
    "ys_ml_reform_EN_filt.loc[:, \"Repi\"] = ys_ml_reform_EN_filt.apply(lambda x: Geodesic.WGS84.Inverse(x.SLat, x.SLon, x.event_lat, x.event_lon)['s12']/1000, axis=1)\n",
    "ys_ml_reform_EN_filt.loc[:, \"Rhyp\"] = ys_ml_reform_EN_filt.apply(lambda x: np.sqrt(x.Repi**2 + (x.EqDep_abs)**2), axis=1)"
   ]
  },
  {
   "cell_type": "code",
   "execution_count": 101,
   "metadata": {},
   "outputs": [
    {
     "data": {
      "text/html": [
       "<div>\n",
       "<style scoped>\n",
       "    .dataframe tbody tr th:only-of-type {\n",
       "        vertical-align: middle;\n",
       "    }\n",
       "\n",
       "    .dataframe tbody tr th {\n",
       "        vertical-align: top;\n",
       "    }\n",
       "\n",
       "    .dataframe thead th {\n",
       "        text-align: right;\n",
       "    }\n",
       "</style>\n",
       "<table border=\"1\" class=\"dataframe\">\n",
       "  <thead>\n",
       "    <tr style=\"text-align: right;\">\n",
       "      <th></th>\n",
       "      <th>evid</th>\n",
       "      <th>sta</th>\n",
       "      <th>net</th>\n",
       "      <th>location</th>\n",
       "      <th>magtype</th>\n",
       "      <th>mag</th>\n",
       "      <th>magres</th>\n",
       "      <th>magcorr</th>\n",
       "      <th>seedchanE</th>\n",
       "      <th>periodE</th>\n",
       "      <th>...</th>\n",
       "      <th>magnitude</th>\n",
       "      <th>magnitude_type</th>\n",
       "      <th>Sta</th>\n",
       "      <th>SLon</th>\n",
       "      <th>SLat</th>\n",
       "      <th>SElev</th>\n",
       "      <th>utc</th>\n",
       "      <th>EqDep_abs</th>\n",
       "      <th>Repi</th>\n",
       "      <th>Rhyp</th>\n",
       "    </tr>\n",
       "  </thead>\n",
       "  <tbody>\n",
       "    <tr>\n",
       "      <th>0</th>\n",
       "      <td>60000620</td>\n",
       "      <td>LKWY</td>\n",
       "      <td>US</td>\n",
       "      <td>01</td>\n",
       "      <td>l</td>\n",
       "      <td>2.25</td>\n",
       "      <td>0.06</td>\n",
       "      <td>0.06</td>\n",
       "      <td>BHE</td>\n",
       "      <td>0.35</td>\n",
       "      <td>...</td>\n",
       "      <td>2.19</td>\n",
       "      <td>l</td>\n",
       "      <td>LKWY</td>\n",
       "      <td>-110.40000</td>\n",
       "      <td>44.56520</td>\n",
       "      <td>2.424</td>\n",
       "      <td>2013-01-07 08:12:32.649998+00:00</td>\n",
       "      <td>6.43</td>\n",
       "      <td>15.776516</td>\n",
       "      <td>17.036530</td>\n",
       "    </tr>\n",
       "    <tr>\n",
       "      <th>1</th>\n",
       "      <td>60000620</td>\n",
       "      <td>YFT</td>\n",
       "      <td>WY</td>\n",
       "      <td>01</td>\n",
       "      <td>l</td>\n",
       "      <td>1.94</td>\n",
       "      <td>-0.25</td>\n",
       "      <td>0.20</td>\n",
       "      <td>HHE</td>\n",
       "      <td>0.26</td>\n",
       "      <td>...</td>\n",
       "      <td>2.19</td>\n",
       "      <td>l</td>\n",
       "      <td>YFT</td>\n",
       "      <td>-110.83583</td>\n",
       "      <td>44.45133</td>\n",
       "      <td>2.292</td>\n",
       "      <td>2013-01-07 08:12:32.649998+00:00</td>\n",
       "      <td>6.43</td>\n",
       "      <td>22.680722</td>\n",
       "      <td>23.574564</td>\n",
       "    </tr>\n",
       "    <tr>\n",
       "      <th>2</th>\n",
       "      <td>60000620</td>\n",
       "      <td>YUF</td>\n",
       "      <td>WY</td>\n",
       "      <td>01</td>\n",
       "      <td>l</td>\n",
       "      <td>2.78</td>\n",
       "      <td>0.59</td>\n",
       "      <td>0.61</td>\n",
       "      <td>HHE</td>\n",
       "      <td>0.26</td>\n",
       "      <td>...</td>\n",
       "      <td>2.19</td>\n",
       "      <td>l</td>\n",
       "      <td>YUF</td>\n",
       "      <td>-110.51170</td>\n",
       "      <td>44.71260</td>\n",
       "      <td>2.394</td>\n",
       "      <td>2013-01-07 08:12:32.649998+00:00</td>\n",
       "      <td>6.43</td>\n",
       "      <td>26.657789</td>\n",
       "      <td>27.422301</td>\n",
       "    </tr>\n",
       "    <tr>\n",
       "      <th>3</th>\n",
       "      <td>60000620</td>\n",
       "      <td>YNR</td>\n",
       "      <td>WY</td>\n",
       "      <td>01</td>\n",
       "      <td>l</td>\n",
       "      <td>2.47</td>\n",
       "      <td>0.28</td>\n",
       "      <td>0.35</td>\n",
       "      <td>HHE</td>\n",
       "      <td>0.14</td>\n",
       "      <td>...</td>\n",
       "      <td>2.19</td>\n",
       "      <td>l</td>\n",
       "      <td>YNR</td>\n",
       "      <td>-110.67917</td>\n",
       "      <td>44.71550</td>\n",
       "      <td>2.336</td>\n",
       "      <td>2013-01-07 08:12:32.649998+00:00</td>\n",
       "      <td>6.43</td>\n",
       "      <td>28.602507</td>\n",
       "      <td>29.316348</td>\n",
       "    </tr>\n",
       "    <tr>\n",
       "      <th>4</th>\n",
       "      <td>60000620</td>\n",
       "      <td>YMR</td>\n",
       "      <td>WY</td>\n",
       "      <td>01</td>\n",
       "      <td>l</td>\n",
       "      <td>1.73</td>\n",
       "      <td>-0.46</td>\n",
       "      <td>-0.38</td>\n",
       "      <td>HHE</td>\n",
       "      <td>1.00</td>\n",
       "      <td>...</td>\n",
       "      <td>2.19</td>\n",
       "      <td>l</td>\n",
       "      <td>YMR</td>\n",
       "      <td>-110.96500</td>\n",
       "      <td>44.66867</td>\n",
       "      <td>2.149</td>\n",
       "      <td>2013-01-07 08:12:32.649998+00:00</td>\n",
       "      <td>6.43</td>\n",
       "      <td>39.220938</td>\n",
       "      <td>39.744520</td>\n",
       "    </tr>\n",
       "  </tbody>\n",
       "</table>\n",
       "<p>5 rows × 29 columns</p>\n",
       "</div>"
      ],
      "text/plain": [
       "       evid   sta net location magtype   mag  magres  magcorr seedchanE  \\\n",
       "0  60000620  LKWY  US       01       l  2.25    0.06     0.06       BHE   \n",
       "1  60000620   YFT  WY       01       l  1.94   -0.25     0.20       HHE   \n",
       "2  60000620   YUF  WY       01       l  2.78    0.59     0.61       HHE   \n",
       "3  60000620   YNR  WY       01       l  2.47    0.28     0.35       HHE   \n",
       "4  60000620   YMR  WY       01       l  1.73   -0.46    -0.38       HHE   \n",
       "\n",
       "   periodE  ...  magnitude  magnitude_type   Sta       SLon      SLat  SElev  \\\n",
       "0     0.35  ...       2.19               l  LKWY -110.40000  44.56520  2.424   \n",
       "1     0.26  ...       2.19               l   YFT -110.83583  44.45133  2.292   \n",
       "2     0.26  ...       2.19               l   YUF -110.51170  44.71260  2.394   \n",
       "3     0.14  ...       2.19               l   YNR -110.67917  44.71550  2.336   \n",
       "4     1.00  ...       2.19               l   YMR -110.96500  44.66867  2.149   \n",
       "\n",
       "                                utc  EqDep_abs       Repi       Rhyp  \n",
       "0  2013-01-07 08:12:32.649998+00:00       6.43  15.776516  17.036530  \n",
       "1  2013-01-07 08:12:32.649998+00:00       6.43  22.680722  23.574564  \n",
       "2  2013-01-07 08:12:32.649998+00:00       6.43  26.657789  27.422301  \n",
       "3  2013-01-07 08:12:32.649998+00:00       6.43  28.602507  29.316348  \n",
       "4  2013-01-07 08:12:32.649998+00:00       6.43  39.220938  39.744520  \n",
       "\n",
       "[5 rows x 29 columns]"
      ]
     },
     "execution_count": 101,
     "metadata": {},
     "output_type": "execute_result"
    }
   ],
   "source": [
    "ys_ml_reform_EN_filt.head()"
   ]
  },
  {
   "cell_type": "markdown",
   "metadata": {},
   "source": [
    "Ben's event location coords have slightly higher precision than James's, that's why the epicenter and hypocenter values are slightly different."
   ]
  },
  {
   "cell_type": "code",
   "execution_count": 102,
   "metadata": {},
   "outputs": [
    {
     "data": {
      "text/html": [
       "<div>\n",
       "<style scoped>\n",
       "    .dataframe tbody tr th:only-of-type {\n",
       "        vertical-align: middle;\n",
       "    }\n",
       "\n",
       "    .dataframe tbody tr th {\n",
       "        vertical-align: top;\n",
       "    }\n",
       "\n",
       "    .dataframe thead th {\n",
       "        text-align: right;\n",
       "    }\n",
       "</style>\n",
       "<table border=\"1\" class=\"dataframe\">\n",
       "  <thead>\n",
       "    <tr style=\"text-align: right;\">\n",
       "      <th></th>\n",
       "      <th>evid</th>\n",
       "      <th>sta</th>\n",
       "      <th>Repi</th>\n",
       "      <th>Rhyp</th>\n",
       "      <th>EqDep_abs</th>\n",
       "      <th>event_lon</th>\n",
       "      <th>event_lat</th>\n",
       "    </tr>\n",
       "  </thead>\n",
       "  <tbody>\n",
       "    <tr>\n",
       "      <th>0</th>\n",
       "      <td>60000620</td>\n",
       "      <td>LKWY</td>\n",
       "      <td>15.776516</td>\n",
       "      <td>17.036530</td>\n",
       "      <td>6.43</td>\n",
       "      <td>-110.552667</td>\n",
       "      <td>44.4745</td>\n",
       "    </tr>\n",
       "    <tr>\n",
       "      <th>1</th>\n",
       "      <td>60000620</td>\n",
       "      <td>YFT</td>\n",
       "      <td>22.680722</td>\n",
       "      <td>23.574564</td>\n",
       "      <td>6.43</td>\n",
       "      <td>-110.552667</td>\n",
       "      <td>44.4745</td>\n",
       "    </tr>\n",
       "    <tr>\n",
       "      <th>2</th>\n",
       "      <td>60000620</td>\n",
       "      <td>YUF</td>\n",
       "      <td>26.657789</td>\n",
       "      <td>27.422301</td>\n",
       "      <td>6.43</td>\n",
       "      <td>-110.552667</td>\n",
       "      <td>44.4745</td>\n",
       "    </tr>\n",
       "    <tr>\n",
       "      <th>3</th>\n",
       "      <td>60000620</td>\n",
       "      <td>YNR</td>\n",
       "      <td>28.602507</td>\n",
       "      <td>29.316348</td>\n",
       "      <td>6.43</td>\n",
       "      <td>-110.552667</td>\n",
       "      <td>44.4745</td>\n",
       "    </tr>\n",
       "    <tr>\n",
       "      <th>4</th>\n",
       "      <td>60000620</td>\n",
       "      <td>YMR</td>\n",
       "      <td>39.220938</td>\n",
       "      <td>39.744520</td>\n",
       "      <td>6.43</td>\n",
       "      <td>-110.552667</td>\n",
       "      <td>44.4745</td>\n",
       "    </tr>\n",
       "  </tbody>\n",
       "</table>\n",
       "</div>"
      ],
      "text/plain": [
       "       evid   sta       Repi       Rhyp  EqDep_abs   event_lon  event_lat\n",
       "0  60000620  LKWY  15.776516  17.036530       6.43 -110.552667    44.4745\n",
       "1  60000620   YFT  22.680722  23.574564       6.43 -110.552667    44.4745\n",
       "2  60000620   YUF  26.657789  27.422301       6.43 -110.552667    44.4745\n",
       "3  60000620   YNR  28.602507  29.316348       6.43 -110.552667    44.4745\n",
       "4  60000620   YMR  39.220938  39.744520       6.43 -110.552667    44.4745"
      ]
     },
     "execution_count": 102,
     "metadata": {},
     "output_type": "execute_result"
    }
   ],
   "source": [
    "ys_ml_reform_EN_filt[['evid', 'sta', 'Repi', 'Rhyp','EqDep_abs', 'event_lon', 'event_lat']].head()"
   ]
  },
  {
   "cell_type": "code",
   "execution_count": 103,
   "metadata": {},
   "outputs": [
    {
     "data": {
      "text/html": [
       "<div>\n",
       "<style scoped>\n",
       "    .dataframe tbody tr th:only-of-type {\n",
       "        vertical-align: middle;\n",
       "    }\n",
       "\n",
       "    .dataframe tbody tr th {\n",
       "        vertical-align: top;\n",
       "    }\n",
       "\n",
       "    .dataframe thead th {\n",
       "        text-align: right;\n",
       "    }\n",
       "</style>\n",
       "<table border=\"1\" class=\"dataframe\">\n",
       "  <thead>\n",
       "    <tr style=\"text-align: right;\">\n",
       "      <th></th>\n",
       "      <th>evid</th>\n",
       "      <th>Sta</th>\n",
       "      <th>Repi</th>\n",
       "      <th>Rhyp</th>\n",
       "      <th>EqDep</th>\n",
       "      <th>new_Repi</th>\n",
       "      <th>new_Rhyp</th>\n",
       "      <th>EqLon</th>\n",
       "      <th>EqLat</th>\n",
       "    </tr>\n",
       "  </thead>\n",
       "  <tbody>\n",
       "    <tr>\n",
       "      <th>0</th>\n",
       "      <td>60000620</td>\n",
       "      <td>LKWY</td>\n",
       "      <td>15.7</td>\n",
       "      <td>16.965698</td>\n",
       "      <td>6.43</td>\n",
       "      <td>15.832457</td>\n",
       "      <td>17.088347</td>\n",
       "      <td>-110.553</td>\n",
       "      <td>44.474</td>\n",
       "    </tr>\n",
       "    <tr>\n",
       "      <th>1</th>\n",
       "      <td>60000620</td>\n",
       "      <td>LKWY</td>\n",
       "      <td>15.7</td>\n",
       "      <td>16.965698</td>\n",
       "      <td>6.43</td>\n",
       "      <td>15.832457</td>\n",
       "      <td>17.088347</td>\n",
       "      <td>-110.553</td>\n",
       "      <td>44.474</td>\n",
       "    </tr>\n",
       "    <tr>\n",
       "      <th>2</th>\n",
       "      <td>60000620</td>\n",
       "      <td>YFT</td>\n",
       "      <td>22.6</td>\n",
       "      <td>23.496913</td>\n",
       "      <td>6.43</td>\n",
       "      <td>22.648218</td>\n",
       "      <td>23.543294</td>\n",
       "      <td>-110.553</td>\n",
       "      <td>44.474</td>\n",
       "    </tr>\n",
       "    <tr>\n",
       "      <th>3</th>\n",
       "      <td>60000620</td>\n",
       "      <td>YFT</td>\n",
       "      <td>22.6</td>\n",
       "      <td>23.496913</td>\n",
       "      <td>6.43</td>\n",
       "      <td>22.648218</td>\n",
       "      <td>23.543294</td>\n",
       "      <td>-110.553</td>\n",
       "      <td>44.474</td>\n",
       "    </tr>\n",
       "    <tr>\n",
       "      <th>4</th>\n",
       "      <td>60000620</td>\n",
       "      <td>YHB</td>\n",
       "      <td>59.5</td>\n",
       "      <td>59.846428</td>\n",
       "      <td>6.43</td>\n",
       "      <td>59.604619</td>\n",
       "      <td>59.950442</td>\n",
       "      <td>-110.553</td>\n",
       "      <td>44.474</td>\n",
       "    </tr>\n",
       "  </tbody>\n",
       "</table>\n",
       "</div>"
      ],
      "text/plain": [
       "       evid   Sta  Repi       Rhyp  EqDep   new_Repi   new_Rhyp    EqLon  \\\n",
       "0  60000620  LKWY  15.7  16.965698   6.43  15.832457  17.088347 -110.553   \n",
       "1  60000620  LKWY  15.7  16.965698   6.43  15.832457  17.088347 -110.553   \n",
       "2  60000620   YFT  22.6  23.496913   6.43  22.648218  23.543294 -110.553   \n",
       "3  60000620   YFT  22.6  23.496913   6.43  22.648218  23.543294 -110.553   \n",
       "4  60000620   YHB  59.5  59.846428   6.43  59.604619  59.950442 -110.553   \n",
       "\n",
       "    EqLat  \n",
       "0  44.474  \n",
       "1  44.474  \n",
       "2  44.474  \n",
       "3  44.474  \n",
       "4  44.474  "
      ]
     },
     "execution_count": 103,
     "metadata": {},
     "output_type": "execute_result"
    }
   ],
   "source": [
    "james_ben_merge[['evid', 'Sta', 'Repi', 'Rhyp','EqDep', 'new_Repi', 'new_Rhyp', 'EqLon', 'EqLat']].head()"
   ]
  },
  {
   "cell_type": "code",
   "execution_count": 104,
   "metadata": {},
   "outputs": [
    {
     "data": {
      "text/plain": [
       "15.832457307104635"
      ]
     },
     "execution_count": 104,
     "metadata": {},
     "output_type": "execute_result"
    }
   ],
   "source": [
    "# Lower precision\n",
    "Geodesic.WGS84.Inverse(44.56520, -110.40000,\t44.474\t, -110.553)['s12']/1000"
   ]
  },
  {
   "cell_type": "code",
   "execution_count": 105,
   "metadata": {},
   "outputs": [
    {
     "data": {
      "text/plain": [
       "15.77653387221436"
      ]
     },
     "execution_count": 105,
     "metadata": {},
     "output_type": "execute_result"
    }
   ],
   "source": [
    "# Higher precision\n",
    "Geodesic.WGS84.Inverse(44.56520, -110.40000, 44.4745, -110.552667)['s12']/1000"
   ]
  },
  {
   "cell_type": "markdown",
   "metadata": {},
   "source": [
    "Now compute 1/2 average amplitudes"
   ]
  },
  {
   "cell_type": "code",
   "execution_count": 106,
   "metadata": {},
   "outputs": [],
   "source": [
    "# One half of the average\n",
    "ys_ml_reform_EN_filt.loc[:, \"halfAmpH\"] = ys_ml_reform_EN_filt.apply(lambda x: np.nansum([x.AmpE, x.AmpN])/4, axis=1)"
   ]
  },
  {
   "cell_type": "code",
   "execution_count": 107,
   "metadata": {},
   "outputs": [
    {
     "data": {
      "text/html": [
       "<div>\n",
       "<style scoped>\n",
       "    .dataframe tbody tr th:only-of-type {\n",
       "        vertical-align: middle;\n",
       "    }\n",
       "\n",
       "    .dataframe tbody tr th {\n",
       "        vertical-align: top;\n",
       "    }\n",
       "\n",
       "    .dataframe thead th {\n",
       "        text-align: right;\n",
       "    }\n",
       "</style>\n",
       "<table border=\"1\" class=\"dataframe\">\n",
       "  <thead>\n",
       "    <tr style=\"text-align: right;\">\n",
       "      <th></th>\n",
       "      <th>evid</th>\n",
       "      <th>Sta</th>\n",
       "      <th>AmpE</th>\n",
       "      <th>AmpN</th>\n",
       "      <th>halfAmpH</th>\n",
       "      <th>mag</th>\n",
       "    </tr>\n",
       "  </thead>\n",
       "  <tbody>\n",
       "    <tr>\n",
       "      <th>0</th>\n",
       "      <td>60000620</td>\n",
       "      <td>LKWY</td>\n",
       "      <td>10.142061</td>\n",
       "      <td>5.442032</td>\n",
       "      <td>3.896023</td>\n",
       "      <td>2.25</td>\n",
       "    </tr>\n",
       "    <tr>\n",
       "      <th>1</th>\n",
       "      <td>60000620</td>\n",
       "      <td>YFT</td>\n",
       "      <td>1.636402</td>\n",
       "      <td>1.153130</td>\n",
       "      <td>0.697383</td>\n",
       "      <td>1.94</td>\n",
       "    </tr>\n",
       "    <tr>\n",
       "      <th>2</th>\n",
       "      <td>60000620</td>\n",
       "      <td>YUF</td>\n",
       "      <td>3.391413</td>\n",
       "      <td>4.082212</td>\n",
       "      <td>1.868406</td>\n",
       "      <td>2.78</td>\n",
       "    </tr>\n",
       "    <tr>\n",
       "      <th>3</th>\n",
       "      <td>60000620</td>\n",
       "      <td>YNR</td>\n",
       "      <td>2.132057</td>\n",
       "      <td>2.025919</td>\n",
       "      <td>1.039494</td>\n",
       "      <td>2.47</td>\n",
       "    </tr>\n",
       "    <tr>\n",
       "      <th>4</th>\n",
       "      <td>60000620</td>\n",
       "      <td>YMR</td>\n",
       "      <td>0.958534</td>\n",
       "      <td>1.084684</td>\n",
       "      <td>0.510805</td>\n",
       "      <td>1.73</td>\n",
       "    </tr>\n",
       "    <tr>\n",
       "      <th>...</th>\n",
       "      <td>...</td>\n",
       "      <td>...</td>\n",
       "      <td>...</td>\n",
       "      <td>...</td>\n",
       "      <td>...</td>\n",
       "      <td>...</td>\n",
       "    </tr>\n",
       "    <tr>\n",
       "      <th>23665</th>\n",
       "      <td>60528892</td>\n",
       "      <td>AHID</td>\n",
       "      <td>0.509137</td>\n",
       "      <td>0.438571</td>\n",
       "      <td>0.236927</td>\n",
       "      <td>2.24</td>\n",
       "    </tr>\n",
       "    <tr>\n",
       "      <th>23666</th>\n",
       "      <td>60528897</td>\n",
       "      <td>YHB</td>\n",
       "      <td>0.177190</td>\n",
       "      <td>0.579664</td>\n",
       "      <td>0.189213</td>\n",
       "      <td>1.06</td>\n",
       "    </tr>\n",
       "    <tr>\n",
       "      <th>23667</th>\n",
       "      <td>60528897</td>\n",
       "      <td>YMR</td>\n",
       "      <td>1.086394</td>\n",
       "      <td>0.734400</td>\n",
       "      <td>0.455198</td>\n",
       "      <td>0.88</td>\n",
       "    </tr>\n",
       "    <tr>\n",
       "      <th>23668</th>\n",
       "      <td>60528982</td>\n",
       "      <td>YMR</td>\n",
       "      <td>1.355745</td>\n",
       "      <td>0.916707</td>\n",
       "      <td>0.568113</td>\n",
       "      <td>0.97</td>\n",
       "    </tr>\n",
       "    <tr>\n",
       "      <th>23669</th>\n",
       "      <td>60528982</td>\n",
       "      <td>YHB</td>\n",
       "      <td>0.523826</td>\n",
       "      <td>0.949995</td>\n",
       "      <td>0.368455</td>\n",
       "      <td>1.45</td>\n",
       "    </tr>\n",
       "  </tbody>\n",
       "</table>\n",
       "<p>23670 rows × 6 columns</p>\n",
       "</div>"
      ],
      "text/plain": [
       "           evid   Sta       AmpE      AmpN  halfAmpH   mag\n",
       "0      60000620  LKWY  10.142061  5.442032  3.896023  2.25\n",
       "1      60000620   YFT   1.636402  1.153130  0.697383  1.94\n",
       "2      60000620   YUF   3.391413  4.082212  1.868406  2.78\n",
       "3      60000620   YNR   2.132057  2.025919  1.039494  2.47\n",
       "4      60000620   YMR   0.958534  1.084684  0.510805  1.73\n",
       "...         ...   ...        ...       ...       ...   ...\n",
       "23665  60528892  AHID   0.509137  0.438571  0.236927  2.24\n",
       "23666  60528897   YHB   0.177190  0.579664  0.189213  1.06\n",
       "23667  60528897   YMR   1.086394  0.734400  0.455198  0.88\n",
       "23668  60528982   YMR   1.355745  0.916707  0.568113  0.97\n",
       "23669  60528982   YHB   0.523826  0.949995  0.368455  1.45\n",
       "\n",
       "[23670 rows x 6 columns]"
      ]
     },
     "execution_count": 107,
     "metadata": {},
     "output_type": "execute_result"
    }
   ],
   "source": [
    "ys_ml_reform_EN_filt[['evid', 'Sta', 'AmpE', 'AmpN', 'halfAmpH', 'mag']]"
   ]
  },
  {
   "cell_type": "code",
   "execution_count": 108,
   "metadata": {},
   "outputs": [
    {
     "data": {
      "text/html": [
       "<div>\n",
       "<style scoped>\n",
       "    .dataframe tbody tr th:only-of-type {\n",
       "        vertical-align: middle;\n",
       "    }\n",
       "\n",
       "    .dataframe tbody tr th {\n",
       "        vertical-align: top;\n",
       "    }\n",
       "\n",
       "    .dataframe thead th {\n",
       "        text-align: right;\n",
       "    }\n",
       "</style>\n",
       "<table border=\"1\" class=\"dataframe\">\n",
       "  <thead>\n",
       "    <tr style=\"text-align: right;\">\n",
       "      <th></th>\n",
       "      <th>Evid</th>\n",
       "      <th>Sta</th>\n",
       "      <th>AmpE_x</th>\n",
       "      <th>AmpN_x</th>\n",
       "      <th>halfAmpH_x</th>\n",
       "      <th>SML</th>\n",
       "      <th>evid</th>\n",
       "      <th>sta</th>\n",
       "      <th>AmpE_y</th>\n",
       "      <th>AmpN_y</th>\n",
       "      <th>halfAmpH_y</th>\n",
       "      <th>mag</th>\n",
       "    </tr>\n",
       "  </thead>\n",
       "  <tbody>\n",
       "    <tr>\n",
       "      <th>0</th>\n",
       "      <td>60000620</td>\n",
       "      <td>LKWY</td>\n",
       "      <td>10.142060</td>\n",
       "      <td>5.442032</td>\n",
       "      <td>3.896023</td>\n",
       "      <td>2.25</td>\n",
       "      <td>60000620</td>\n",
       "      <td>LKWY</td>\n",
       "      <td>10.142061</td>\n",
       "      <td>5.442032</td>\n",
       "      <td>3.896023</td>\n",
       "      <td>2.25</td>\n",
       "    </tr>\n",
       "    <tr>\n",
       "      <th>1</th>\n",
       "      <td>60000620</td>\n",
       "      <td>YFT</td>\n",
       "      <td>1.636402</td>\n",
       "      <td>1.153130</td>\n",
       "      <td>0.697383</td>\n",
       "      <td>1.94</td>\n",
       "      <td>60000620</td>\n",
       "      <td>YFT</td>\n",
       "      <td>1.636402</td>\n",
       "      <td>1.153130</td>\n",
       "      <td>0.697383</td>\n",
       "      <td>1.94</td>\n",
       "    </tr>\n",
       "    <tr>\n",
       "      <th>2</th>\n",
       "      <td>60000620</td>\n",
       "      <td>YHB</td>\n",
       "      <td>0.196325</td>\n",
       "      <td>0.218335</td>\n",
       "      <td>0.103665</td>\n",
       "      <td>2.00</td>\n",
       "      <td>60000620</td>\n",
       "      <td>YHB</td>\n",
       "      <td>0.196325</td>\n",
       "      <td>0.218335</td>\n",
       "      <td>0.103665</td>\n",
       "      <td>2.00</td>\n",
       "    </tr>\n",
       "    <tr>\n",
       "      <th>3</th>\n",
       "      <td>60000620</td>\n",
       "      <td>YMR</td>\n",
       "      <td>0.958534</td>\n",
       "      <td>1.084684</td>\n",
       "      <td>0.510805</td>\n",
       "      <td>1.73</td>\n",
       "      <td>60000620</td>\n",
       "      <td>YMR</td>\n",
       "      <td>0.958534</td>\n",
       "      <td>1.084684</td>\n",
       "      <td>0.510805</td>\n",
       "      <td>1.73</td>\n",
       "    </tr>\n",
       "    <tr>\n",
       "      <th>4</th>\n",
       "      <td>60000620</td>\n",
       "      <td>YNR</td>\n",
       "      <td>2.132057</td>\n",
       "      <td>2.025919</td>\n",
       "      <td>1.039494</td>\n",
       "      <td>2.47</td>\n",
       "      <td>60000620</td>\n",
       "      <td>YNR</td>\n",
       "      <td>2.132057</td>\n",
       "      <td>2.025919</td>\n",
       "      <td>1.039494</td>\n",
       "      <td>2.47</td>\n",
       "    </tr>\n",
       "    <tr>\n",
       "      <th>...</th>\n",
       "      <td>...</td>\n",
       "      <td>...</td>\n",
       "      <td>...</td>\n",
       "      <td>...</td>\n",
       "      <td>...</td>\n",
       "      <td>...</td>\n",
       "      <td>...</td>\n",
       "      <td>...</td>\n",
       "      <td>...</td>\n",
       "      <td>...</td>\n",
       "      <td>...</td>\n",
       "      <td>...</td>\n",
       "    </tr>\n",
       "    <tr>\n",
       "      <th>14509</th>\n",
       "      <td>60398812</td>\n",
       "      <td>YHB</td>\n",
       "      <td>0.800401</td>\n",
       "      <td>0.419761</td>\n",
       "      <td>0.305041</td>\n",
       "      <td>1.36</td>\n",
       "      <td>60398812</td>\n",
       "      <td>YHB</td>\n",
       "      <td>0.800401</td>\n",
       "      <td>0.419761</td>\n",
       "      <td>0.305041</td>\n",
       "      <td>1.36</td>\n",
       "    </tr>\n",
       "    <tr>\n",
       "      <th>14510</th>\n",
       "      <td>60398812</td>\n",
       "      <td>YMR</td>\n",
       "      <td>1.713667</td>\n",
       "      <td>1.521336</td>\n",
       "      <td>0.808751</td>\n",
       "      <td>1.03</td>\n",
       "      <td>60398812</td>\n",
       "      <td>YMR</td>\n",
       "      <td>1.713667</td>\n",
       "      <td>1.521336</td>\n",
       "      <td>0.808751</td>\n",
       "      <td>1.03</td>\n",
       "    </tr>\n",
       "    <tr>\n",
       "      <th>14511</th>\n",
       "      <td>60398812</td>\n",
       "      <td>YNR</td>\n",
       "      <td>0.435728</td>\n",
       "      <td>0.194712</td>\n",
       "      <td>0.157610</td>\n",
       "      <td>1.45</td>\n",
       "      <td>60398812</td>\n",
       "      <td>YNR</td>\n",
       "      <td>0.435728</td>\n",
       "      <td>0.194712</td>\n",
       "      <td>0.157610</td>\n",
       "      <td>1.45</td>\n",
       "    </tr>\n",
       "    <tr>\n",
       "      <th>14512</th>\n",
       "      <td>60398842</td>\n",
       "      <td>YHB</td>\n",
       "      <td>0.358949</td>\n",
       "      <td>0.191610</td>\n",
       "      <td>0.137640</td>\n",
       "      <td>1.02</td>\n",
       "      <td>60398842</td>\n",
       "      <td>YHB</td>\n",
       "      <td>0.358949</td>\n",
       "      <td>0.191610</td>\n",
       "      <td>0.137640</td>\n",
       "      <td>1.02</td>\n",
       "    </tr>\n",
       "    <tr>\n",
       "      <th>14513</th>\n",
       "      <td>60398842</td>\n",
       "      <td>YMR</td>\n",
       "      <td>0.855919</td>\n",
       "      <td>0.708642</td>\n",
       "      <td>0.391140</td>\n",
       "      <td>0.71</td>\n",
       "      <td>60398842</td>\n",
       "      <td>YMR</td>\n",
       "      <td>0.855919</td>\n",
       "      <td>0.708642</td>\n",
       "      <td>0.391140</td>\n",
       "      <td>0.71</td>\n",
       "    </tr>\n",
       "  </tbody>\n",
       "</table>\n",
       "<p>14514 rows × 12 columns</p>\n",
       "</div>"
      ],
      "text/plain": [
       "           Evid   Sta     AmpE_x    AmpN_x  halfAmpH_x   SML      evid   sta  \\\n",
       "0      60000620  LKWY  10.142060  5.442032    3.896023  2.25  60000620  LKWY   \n",
       "1      60000620   YFT   1.636402  1.153130    0.697383  1.94  60000620   YFT   \n",
       "2      60000620   YHB   0.196325  0.218335    0.103665  2.00  60000620   YHB   \n",
       "3      60000620   YMR   0.958534  1.084684    0.510805  1.73  60000620   YMR   \n",
       "4      60000620   YNR   2.132057  2.025919    1.039494  2.47  60000620   YNR   \n",
       "...         ...   ...        ...       ...         ...   ...       ...   ...   \n",
       "14509  60398812   YHB   0.800401  0.419761    0.305041  1.36  60398812   YHB   \n",
       "14510  60398812   YMR   1.713667  1.521336    0.808751  1.03  60398812   YMR   \n",
       "14511  60398812   YNR   0.435728  0.194712    0.157610  1.45  60398812   YNR   \n",
       "14512  60398842   YHB   0.358949  0.191610    0.137640  1.02  60398842   YHB   \n",
       "14513  60398842   YMR   0.855919  0.708642    0.391140  0.71  60398842   YMR   \n",
       "\n",
       "          AmpE_y    AmpN_y  halfAmpH_y   mag  \n",
       "0      10.142061  5.442032    3.896023  2.25  \n",
       "1       1.636402  1.153130    0.697383  1.94  \n",
       "2       0.196325  0.218335    0.103665  2.00  \n",
       "3       0.958534  1.084684    0.510805  1.73  \n",
       "4       2.132057  2.025919    1.039494  2.47  \n",
       "...          ...       ...         ...   ...  \n",
       "14509   0.800401  0.419761    0.305041  1.36  \n",
       "14510   1.713667  1.521336    0.808751  1.03  \n",
       "14511   0.435728  0.194712    0.157610  1.45  \n",
       "14512   0.358949  0.191610    0.137640  1.02  \n",
       "14513   0.855919  0.708642    0.391140  0.71  \n",
       "\n",
       "[14514 rows x 12 columns]"
      ]
     },
     "execution_count": 108,
     "metadata": {},
     "output_type": "execute_result"
    }
   ],
   "source": [
    "james_amps[['Evid', 'Sta', 'AmpE', 'AmpN', 'halfAmpH', 'SML']].merge(ys_ml_reform_EN_filt[['evid', 'sta', 'AmpE', 'AmpN', 'halfAmpH', 'mag']], left_on=['Evid', 'Sta'],\n",
    "                                                                     right_on=['evid', 'sta'], how='inner')"
   ]
  },
  {
   "cell_type": "markdown",
   "metadata": {},
   "source": [
    "Rename the columns in the new df"
   ]
  },
  {
   "cell_type": "code",
   "execution_count": 109,
   "metadata": {},
   "outputs": [],
   "source": [
    "# drop extra station column\n",
    "ys_ml_reform_EN_filt = ys_ml_reform_EN_filt.drop('Sta', axis=1)"
   ]
  },
  {
   "cell_type": "code",
   "execution_count": 110,
   "metadata": {},
   "outputs": [
    {
     "data": {
      "text/plain": [
       "Index(['evid', 'sta', 'net', 'location', 'magtype', 'mag', 'magres', 'magcorr',\n",
       "       'seedchanE', 'periodE', 'snrE', 'AmpE', 'seedchanN', 'periodN', 'snrN',\n",
       "       'AmpN', 'event_lon', 'event_lat', 'event_depth', 'magnitude',\n",
       "       'magnitude_type', 'SLon', 'SLat', 'SElev', 'utc', 'EqDep_abs', 'Repi',\n",
       "       'Rhyp', 'halfAmpH'],\n",
       "      dtype='object')"
      ]
     },
     "execution_count": 110,
     "metadata": {},
     "output_type": "execute_result"
    }
   ],
   "source": [
    "ys_ml_reform_EN_filt.columns"
   ]
  },
  {
   "cell_type": "code",
   "execution_count": 111,
   "metadata": {},
   "outputs": [],
   "source": [
    "ys_ml_reform_EN_filt.columns = ['Evid', 'Sta', 'Net', 'Loc', 'SMagType', 'SML', 'SMLRes', 'Corr',\n",
    "       'SeedChanE', 'PerE', 'SnrE', 'AmpE', 'SeedChanN', 'PerN', 'SnrN',\n",
    "       'AmpN', 'EqLon', 'EqLat', 'EqDep_rel', 'CatMag', 'CatMagType',\n",
    "       'SLon', 'SLat', 'SElev', 'Date', 'EqDep', 'Repi', 'Rhyp',\n",
    "       'halfAmpH']"
   ]
  },
  {
   "cell_type": "code",
   "execution_count": 112,
   "metadata": {},
   "outputs": [
    {
     "data": {
      "text/html": [
       "<div>\n",
       "<style scoped>\n",
       "    .dataframe tbody tr th:only-of-type {\n",
       "        vertical-align: middle;\n",
       "    }\n",
       "\n",
       "    .dataframe tbody tr th {\n",
       "        vertical-align: top;\n",
       "    }\n",
       "\n",
       "    .dataframe thead th {\n",
       "        text-align: right;\n",
       "    }\n",
       "</style>\n",
       "<table border=\"1\" class=\"dataframe\">\n",
       "  <thead>\n",
       "    <tr style=\"text-align: right;\">\n",
       "      <th></th>\n",
       "      <th>Evid</th>\n",
       "      <th>Sta</th>\n",
       "      <th>Net</th>\n",
       "      <th>Loc</th>\n",
       "      <th>SMagType</th>\n",
       "      <th>SML</th>\n",
       "      <th>SMLRes</th>\n",
       "      <th>Corr</th>\n",
       "      <th>SeedChanE</th>\n",
       "      <th>PerE</th>\n",
       "      <th>...</th>\n",
       "      <th>CatMag</th>\n",
       "      <th>CatMagType</th>\n",
       "      <th>SLon</th>\n",
       "      <th>SLat</th>\n",
       "      <th>SElev</th>\n",
       "      <th>Date</th>\n",
       "      <th>EqDep</th>\n",
       "      <th>Repi</th>\n",
       "      <th>Rhyp</th>\n",
       "      <th>halfAmpH</th>\n",
       "    </tr>\n",
       "  </thead>\n",
       "  <tbody>\n",
       "    <tr>\n",
       "      <th>0</th>\n",
       "      <td>60000620</td>\n",
       "      <td>LKWY</td>\n",
       "      <td>US</td>\n",
       "      <td>01</td>\n",
       "      <td>l</td>\n",
       "      <td>2.25</td>\n",
       "      <td>0.06</td>\n",
       "      <td>0.06</td>\n",
       "      <td>BHE</td>\n",
       "      <td>0.35</td>\n",
       "      <td>...</td>\n",
       "      <td>2.19</td>\n",
       "      <td>l</td>\n",
       "      <td>-110.40000</td>\n",
       "      <td>44.56520</td>\n",
       "      <td>2.424</td>\n",
       "      <td>2013-01-07 08:12:32.649998+00:00</td>\n",
       "      <td>6.43</td>\n",
       "      <td>15.776516</td>\n",
       "      <td>17.036530</td>\n",
       "      <td>3.896023</td>\n",
       "    </tr>\n",
       "    <tr>\n",
       "      <th>1</th>\n",
       "      <td>60000620</td>\n",
       "      <td>YFT</td>\n",
       "      <td>WY</td>\n",
       "      <td>01</td>\n",
       "      <td>l</td>\n",
       "      <td>1.94</td>\n",
       "      <td>-0.25</td>\n",
       "      <td>0.20</td>\n",
       "      <td>HHE</td>\n",
       "      <td>0.26</td>\n",
       "      <td>...</td>\n",
       "      <td>2.19</td>\n",
       "      <td>l</td>\n",
       "      <td>-110.83583</td>\n",
       "      <td>44.45133</td>\n",
       "      <td>2.292</td>\n",
       "      <td>2013-01-07 08:12:32.649998+00:00</td>\n",
       "      <td>6.43</td>\n",
       "      <td>22.680722</td>\n",
       "      <td>23.574564</td>\n",
       "      <td>0.697383</td>\n",
       "    </tr>\n",
       "    <tr>\n",
       "      <th>2</th>\n",
       "      <td>60000620</td>\n",
       "      <td>YUF</td>\n",
       "      <td>WY</td>\n",
       "      <td>01</td>\n",
       "      <td>l</td>\n",
       "      <td>2.78</td>\n",
       "      <td>0.59</td>\n",
       "      <td>0.61</td>\n",
       "      <td>HHE</td>\n",
       "      <td>0.26</td>\n",
       "      <td>...</td>\n",
       "      <td>2.19</td>\n",
       "      <td>l</td>\n",
       "      <td>-110.51170</td>\n",
       "      <td>44.71260</td>\n",
       "      <td>2.394</td>\n",
       "      <td>2013-01-07 08:12:32.649998+00:00</td>\n",
       "      <td>6.43</td>\n",
       "      <td>26.657789</td>\n",
       "      <td>27.422301</td>\n",
       "      <td>1.868406</td>\n",
       "    </tr>\n",
       "    <tr>\n",
       "      <th>3</th>\n",
       "      <td>60000620</td>\n",
       "      <td>YNR</td>\n",
       "      <td>WY</td>\n",
       "      <td>01</td>\n",
       "      <td>l</td>\n",
       "      <td>2.47</td>\n",
       "      <td>0.28</td>\n",
       "      <td>0.35</td>\n",
       "      <td>HHE</td>\n",
       "      <td>0.14</td>\n",
       "      <td>...</td>\n",
       "      <td>2.19</td>\n",
       "      <td>l</td>\n",
       "      <td>-110.67917</td>\n",
       "      <td>44.71550</td>\n",
       "      <td>2.336</td>\n",
       "      <td>2013-01-07 08:12:32.649998+00:00</td>\n",
       "      <td>6.43</td>\n",
       "      <td>28.602507</td>\n",
       "      <td>29.316348</td>\n",
       "      <td>1.039494</td>\n",
       "    </tr>\n",
       "    <tr>\n",
       "      <th>4</th>\n",
       "      <td>60000620</td>\n",
       "      <td>YMR</td>\n",
       "      <td>WY</td>\n",
       "      <td>01</td>\n",
       "      <td>l</td>\n",
       "      <td>1.73</td>\n",
       "      <td>-0.46</td>\n",
       "      <td>-0.38</td>\n",
       "      <td>HHE</td>\n",
       "      <td>1.00</td>\n",
       "      <td>...</td>\n",
       "      <td>2.19</td>\n",
       "      <td>l</td>\n",
       "      <td>-110.96500</td>\n",
       "      <td>44.66867</td>\n",
       "      <td>2.149</td>\n",
       "      <td>2013-01-07 08:12:32.649998+00:00</td>\n",
       "      <td>6.43</td>\n",
       "      <td>39.220938</td>\n",
       "      <td>39.744520</td>\n",
       "      <td>0.510805</td>\n",
       "    </tr>\n",
       "  </tbody>\n",
       "</table>\n",
       "<p>5 rows × 29 columns</p>\n",
       "</div>"
      ],
      "text/plain": [
       "       Evid   Sta Net Loc SMagType   SML  SMLRes  Corr SeedChanE  PerE  ...  \\\n",
       "0  60000620  LKWY  US  01        l  2.25    0.06  0.06       BHE  0.35  ...   \n",
       "1  60000620   YFT  WY  01        l  1.94   -0.25  0.20       HHE  0.26  ...   \n",
       "2  60000620   YUF  WY  01        l  2.78    0.59  0.61       HHE  0.26  ...   \n",
       "3  60000620   YNR  WY  01        l  2.47    0.28  0.35       HHE  0.14  ...   \n",
       "4  60000620   YMR  WY  01        l  1.73   -0.46 -0.38       HHE  1.00  ...   \n",
       "\n",
       "   CatMag  CatMagType       SLon      SLat  SElev  \\\n",
       "0    2.19           l -110.40000  44.56520  2.424   \n",
       "1    2.19           l -110.83583  44.45133  2.292   \n",
       "2    2.19           l -110.51170  44.71260  2.394   \n",
       "3    2.19           l -110.67917  44.71550  2.336   \n",
       "4    2.19           l -110.96500  44.66867  2.149   \n",
       "\n",
       "                               Date  EqDep       Repi       Rhyp  halfAmpH  \n",
       "0  2013-01-07 08:12:32.649998+00:00   6.43  15.776516  17.036530  3.896023  \n",
       "1  2013-01-07 08:12:32.649998+00:00   6.43  22.680722  23.574564  0.697383  \n",
       "2  2013-01-07 08:12:32.649998+00:00   6.43  26.657789  27.422301  1.868406  \n",
       "3  2013-01-07 08:12:32.649998+00:00   6.43  28.602507  29.316348  1.039494  \n",
       "4  2013-01-07 08:12:32.649998+00:00   6.43  39.220938  39.744520  0.510805  \n",
       "\n",
       "[5 rows x 29 columns]"
      ]
     },
     "execution_count": 112,
     "metadata": {},
     "output_type": "execute_result"
    }
   ],
   "source": [
    "ys_ml_reform_EN_filt.head()"
   ]
  },
  {
   "cell_type": "markdown",
   "metadata": {},
   "source": [
    "Reorder the columns as bit"
   ]
  },
  {
   "cell_type": "code",
   "execution_count": 113,
   "metadata": {},
   "outputs": [
    {
     "data": {
      "text/plain": [
       "Index(['Evid', 'Date', 'Time', 'EqLat', 'EqLon', 'EqDep', 'EqML', 'EqMC', 'N',\n",
       "       'Dmin', 'ErrZ', 'ErrR', 'Net', 'Sta', 'Cmp', 'SLat', 'SLon', 'SElev',\n",
       "       'Repi', 'Rhyp', 'SML', 'Corr', 'AmpE', 'UnE', 'PerE', 'SnrE', 'AmpN',\n",
       "       'UnN', 'PerN', 'SnrN', 'halfAmpH', 'CatMag', 'H', 'GoodDep'],\n",
       "      dtype='object')"
      ]
     },
     "execution_count": 113,
     "metadata": {},
     "output_type": "execute_result"
    }
   ],
   "source": [
    "james_amps.columns"
   ]
  },
  {
   "cell_type": "code",
   "execution_count": 114,
   "metadata": {},
   "outputs": [],
   "source": [
    "ys_ml_reform_EN_filt = ys_ml_reform_EN_filt[['Evid', 'Net', 'Sta', 'Loc', 'CatMag', 'CatMagType' , 'EqLon', 'EqLat', \n",
    "                              'EqDep','SLon', 'SLat', 'SElev', 'Repi', 'Rhyp', 'SML', 'SMagType', 'SMLRes', 'Corr',\n",
    "                            'SeedChanE', 'PerE', 'SnrE', 'AmpE', 'SeedChanN', 'PerN', 'SnrN',\n",
    "                            'AmpN', 'halfAmpH','EqDep_rel', 'Date']].sort_values(\"Date\")"
   ]
  },
  {
   "cell_type": "code",
   "execution_count": 115,
   "metadata": {},
   "outputs": [
    {
     "data": {
      "text/html": [
       "<div>\n",
       "<style scoped>\n",
       "    .dataframe tbody tr th:only-of-type {\n",
       "        vertical-align: middle;\n",
       "    }\n",
       "\n",
       "    .dataframe tbody tr th {\n",
       "        vertical-align: top;\n",
       "    }\n",
       "\n",
       "    .dataframe thead th {\n",
       "        text-align: right;\n",
       "    }\n",
       "</style>\n",
       "<table border=\"1\" class=\"dataframe\">\n",
       "  <thead>\n",
       "    <tr style=\"text-align: right;\">\n",
       "      <th></th>\n",
       "      <th>Evid</th>\n",
       "      <th>Net</th>\n",
       "      <th>Sta</th>\n",
       "      <th>Loc</th>\n",
       "      <th>CatMag</th>\n",
       "      <th>CatMagType</th>\n",
       "      <th>EqLon</th>\n",
       "      <th>EqLat</th>\n",
       "      <th>EqDep</th>\n",
       "      <th>SLon</th>\n",
       "      <th>...</th>\n",
       "      <th>PerE</th>\n",
       "      <th>SnrE</th>\n",
       "      <th>AmpE</th>\n",
       "      <th>SeedChanN</th>\n",
       "      <th>PerN</th>\n",
       "      <th>SnrN</th>\n",
       "      <th>AmpN</th>\n",
       "      <th>halfAmpH</th>\n",
       "      <th>EqDep_rel</th>\n",
       "      <th>Date</th>\n",
       "    </tr>\n",
       "  </thead>\n",
       "  <tbody>\n",
       "    <tr>\n",
       "      <th>7</th>\n",
       "      <td>60000622</td>\n",
       "      <td>WY</td>\n",
       "      <td>YMR</td>\n",
       "      <td>01</td>\n",
       "      <td>0.83</td>\n",
       "      <td>l</td>\n",
       "      <td>-111.088000</td>\n",
       "      <td>44.764500</td>\n",
       "      <td>9.69</td>\n",
       "      <td>-110.9650</td>\n",
       "      <td>...</td>\n",
       "      <td>0.20</td>\n",
       "      <td>3.343565</td>\n",
       "      <td>0.322444</td>\n",
       "      <td>HHN</td>\n",
       "      <td>0.16</td>\n",
       "      <td>4.049173</td>\n",
       "      <td>0.329492</td>\n",
       "      <td>0.162984</td>\n",
       "      <td>7.69</td>\n",
       "      <td>2012-10-07 00:32:04.740000+00:00</td>\n",
       "    </tr>\n",
       "    <tr>\n",
       "      <th>6</th>\n",
       "      <td>60000622</td>\n",
       "      <td>WY</td>\n",
       "      <td>YHB</td>\n",
       "      <td>01</td>\n",
       "      <td>0.83</td>\n",
       "      <td>l</td>\n",
       "      <td>-111.088000</td>\n",
       "      <td>44.764500</td>\n",
       "      <td>9.69</td>\n",
       "      <td>-111.1962</td>\n",
       "      <td>...</td>\n",
       "      <td>0.28</td>\n",
       "      <td>10.968014</td>\n",
       "      <td>0.521140</td>\n",
       "      <td>HHN</td>\n",
       "      <td>0.20</td>\n",
       "      <td>18.890493</td>\n",
       "      <td>0.886086</td>\n",
       "      <td>0.351807</td>\n",
       "      <td>7.69</td>\n",
       "      <td>2012-10-07 00:32:04.740000+00:00</td>\n",
       "    </tr>\n",
       "    <tr>\n",
       "      <th>33</th>\n",
       "      <td>60001352</td>\n",
       "      <td>US</td>\n",
       "      <td>LKWY</td>\n",
       "      <td>01</td>\n",
       "      <td>2.06</td>\n",
       "      <td>l</td>\n",
       "      <td>-111.035833</td>\n",
       "      <td>44.389333</td>\n",
       "      <td>16.30</td>\n",
       "      <td>-110.4000</td>\n",
       "      <td>...</td>\n",
       "      <td>0.60</td>\n",
       "      <td>7.831464</td>\n",
       "      <td>0.627940</td>\n",
       "      <td>BHN</td>\n",
       "      <td>0.80</td>\n",
       "      <td>4.127927</td>\n",
       "      <td>0.539845</td>\n",
       "      <td>0.291946</td>\n",
       "      <td>14.30</td>\n",
       "      <td>2012-10-15 02:44:35.520000+00:00</td>\n",
       "    </tr>\n",
       "    <tr>\n",
       "      <th>31</th>\n",
       "      <td>60001352</td>\n",
       "      <td>WY</td>\n",
       "      <td>YMR</td>\n",
       "      <td>01</td>\n",
       "      <td>2.06</td>\n",
       "      <td>l</td>\n",
       "      <td>-111.035833</td>\n",
       "      <td>44.389333</td>\n",
       "      <td>16.30</td>\n",
       "      <td>-110.9650</td>\n",
       "      <td>...</td>\n",
       "      <td>0.42</td>\n",
       "      <td>39.374821</td>\n",
       "      <td>3.993131</td>\n",
       "      <td>HHN</td>\n",
       "      <td>0.44</td>\n",
       "      <td>23.638615</td>\n",
       "      <td>2.641196</td>\n",
       "      <td>1.658582</td>\n",
       "      <td>14.30</td>\n",
       "      <td>2012-10-15 02:44:35.520000+00:00</td>\n",
       "    </tr>\n",
       "    <tr>\n",
       "      <th>32</th>\n",
       "      <td>60001352</td>\n",
       "      <td>WY</td>\n",
       "      <td>YHB</td>\n",
       "      <td>01</td>\n",
       "      <td>2.06</td>\n",
       "      <td>l</td>\n",
       "      <td>-111.035833</td>\n",
       "      <td>44.389333</td>\n",
       "      <td>16.30</td>\n",
       "      <td>-111.1962</td>\n",
       "      <td>...</td>\n",
       "      <td>0.42</td>\n",
       "      <td>9.059199</td>\n",
       "      <td>0.502791</td>\n",
       "      <td>HHN</td>\n",
       "      <td>0.42</td>\n",
       "      <td>10.238847</td>\n",
       "      <td>0.617892</td>\n",
       "      <td>0.280171</td>\n",
       "      <td>14.30</td>\n",
       "      <td>2012-10-15 02:44:35.520000+00:00</td>\n",
       "    </tr>\n",
       "  </tbody>\n",
       "</table>\n",
       "<p>5 rows × 29 columns</p>\n",
       "</div>"
      ],
      "text/plain": [
       "        Evid Net   Sta Loc  CatMag CatMagType       EqLon      EqLat  EqDep  \\\n",
       "7   60000622  WY   YMR  01    0.83          l -111.088000  44.764500   9.69   \n",
       "6   60000622  WY   YHB  01    0.83          l -111.088000  44.764500   9.69   \n",
       "33  60001352  US  LKWY  01    2.06          l -111.035833  44.389333  16.30   \n",
       "31  60001352  WY   YMR  01    2.06          l -111.035833  44.389333  16.30   \n",
       "32  60001352  WY   YHB  01    2.06          l -111.035833  44.389333  16.30   \n",
       "\n",
       "        SLon  ...  PerE       SnrE      AmpE  SeedChanN  PerN       SnrN  \\\n",
       "7  -110.9650  ...  0.20   3.343565  0.322444        HHN  0.16   4.049173   \n",
       "6  -111.1962  ...  0.28  10.968014  0.521140        HHN  0.20  18.890493   \n",
       "33 -110.4000  ...  0.60   7.831464  0.627940        BHN  0.80   4.127927   \n",
       "31 -110.9650  ...  0.42  39.374821  3.993131        HHN  0.44  23.638615   \n",
       "32 -111.1962  ...  0.42   9.059199  0.502791        HHN  0.42  10.238847   \n",
       "\n",
       "        AmpN  halfAmpH EqDep_rel                              Date  \n",
       "7   0.329492  0.162984      7.69  2012-10-07 00:32:04.740000+00:00  \n",
       "6   0.886086  0.351807      7.69  2012-10-07 00:32:04.740000+00:00  \n",
       "33  0.539845  0.291946     14.30  2012-10-15 02:44:35.520000+00:00  \n",
       "31  2.641196  1.658582     14.30  2012-10-15 02:44:35.520000+00:00  \n",
       "32  0.617892  0.280171     14.30  2012-10-15 02:44:35.520000+00:00  \n",
       "\n",
       "[5 rows x 29 columns]"
      ]
     },
     "execution_count": 115,
     "metadata": {},
     "output_type": "execute_result"
    }
   ],
   "source": [
    "ys_ml_reform_EN_filt.head()"
   ]
  },
  {
   "cell_type": "code",
   "execution_count": 116,
   "metadata": {},
   "outputs": [
    {
     "data": {
      "text/plain": [
       "'2023-01-02 11:18:40.930000+00:00'"
      ]
     },
     "execution_count": 116,
     "metadata": {},
     "output_type": "execute_result"
    }
   ],
   "source": [
    "ys_ml_reform_EN_filt['Date'].max()"
   ]
  },
  {
   "cell_type": "code",
   "execution_count": 117,
   "metadata": {},
   "outputs": [
    {
     "data": {
      "text/plain": [
       "23670"
      ]
     },
     "execution_count": 117,
     "metadata": {},
     "output_type": "execute_result"
    }
   ],
   "source": [
    "len(ys_ml_reform_EN_filt)"
   ]
  },
  {
   "cell_type": "code",
   "execution_count": 118,
   "metadata": {},
   "outputs": [
    {
     "data": {
      "text/plain": [
       "7652"
      ]
     },
     "execution_count": 118,
     "metadata": {},
     "output_type": "execute_result"
    }
   ],
   "source": [
    "len(ys_ml_reform_EN_filt.Evid.unique())"
   ]
  },
  {
   "cell_type": "code",
   "execution_count": 119,
   "metadata": {},
   "outputs": [
    {
     "data": {
      "text/plain": [
       "'/uufs/chpc.utah.edu/common/home/koper-group3/alysha/ben_catalogs/20230103'"
      ]
     },
     "execution_count": 119,
     "metadata": {},
     "output_type": "execute_result"
    }
   ],
   "source": [
    "catalog_dir"
   ]
  },
  {
   "cell_type": "code",
   "execution_count": 120,
   "metadata": {},
   "outputs": [],
   "source": [
    "#ys_ml_reform_EN_filt.to_csv(f'{catalog_dir}/yellowstoneAmplitudesForJamesML_prefMlOnly_20121007_230103.csv', index=False)"
   ]
  }
 ],
 "metadata": {
  "kernelspec": {
   "display_name": "featmags",
   "language": "python",
   "name": "python3"
  },
  "language_info": {
   "codemirror_mode": {
    "name": "ipython",
    "version": 3
   },
   "file_extension": ".py",
   "mimetype": "text/x-python",
   "name": "python",
   "nbconvert_exporter": "python",
   "pygments_lexer": "ipython3",
   "version": "3.12.0"
  }
 },
 "nbformat": 4,
 "nbformat_minor": 2
}
