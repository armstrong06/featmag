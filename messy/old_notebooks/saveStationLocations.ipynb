{
 "cells": [
  {
   "cell_type": "code",
   "execution_count": 1,
   "metadata": {},
   "outputs": [],
   "source": [
    "import pandas as pd \n",
    "import numpy as np"
   ]
  },
  {
   "cell_type": "code",
   "execution_count": 4,
   "metadata": {},
   "outputs": [],
   "source": [
    "arr_df = pd.read_csv('../data/catalogs/yellowstone.arrivals.2023.csv')"
   ]
  },
  {
   "cell_type": "code",
   "execution_count": 5,
   "metadata": {},
   "outputs": [
    {
     "data": {
      "text/plain": [
       "Index(['evid', 'network', 'station', 'location', 'channelz', 'phase',\n",
       "       'arrival_id', 'arrival_time', 'pick_quality', 'first_motion',\n",
       "       'take_off_angle', 'source_receiver_distance', 'source_receiver_azimuth',\n",
       "       'travel_time_residual', 'receiver_lat', 'receiver_lon', 'receiver_elev',\n",
       "       'event_lat', 'event_lon', 'event_depth', 'origin_time', 'magnitude',\n",
       "       'magnitude_type', 'rflag', 'utc'],\n",
       "      dtype='object')"
      ]
     },
     "execution_count": 5,
     "metadata": {},
     "output_type": "execute_result"
    }
   ],
   "source": [
    "arr_df.columns"
   ]
  },
  {
   "cell_type": "code",
   "execution_count": 30,
   "metadata": {},
   "outputs": [
    {
     "name": "stdout",
     "output_type": "stream",
     "text": [
      "71\n"
     ]
    }
   ],
   "source": [
    "stat_df = arr_df[['network', 'station', 'receiver_lat', 'receiver_lon']].drop_duplicates()\n",
    "print(stat_df.shape[0])"
   ]
  },
  {
   "cell_type": "code",
   "execution_count": 28,
   "metadata": {},
   "outputs": [
    {
     "data": {
      "text/html": [
       "<div>\n",
       "<style scoped>\n",
       "    .dataframe tbody tr th:only-of-type {\n",
       "        vertical-align: middle;\n",
       "    }\n",
       "\n",
       "    .dataframe tbody tr th {\n",
       "        vertical-align: top;\n",
       "    }\n",
       "\n",
       "    .dataframe thead th {\n",
       "        text-align: right;\n",
       "    }\n",
       "</style>\n",
       "<table border=\"1\" class=\"dataframe\">\n",
       "  <thead>\n",
       "    <tr style=\"text-align: right;\">\n",
       "      <th></th>\n",
       "      <th>network</th>\n",
       "      <th>station</th>\n",
       "      <th>receiver_lat</th>\n",
       "      <th>receiver_lon</th>\n",
       "    </tr>\n",
       "  </thead>\n",
       "  <tbody>\n",
       "    <tr>\n",
       "      <th>16</th>\n",
       "      <td>IW</td>\n",
       "      <td>FLWY</td>\n",
       "      <td>44.082700</td>\n",
       "      <td>-110.699300</td>\n",
       "    </tr>\n",
       "    <tr>\n",
       "      <th>9689</th>\n",
       "      <td>IW</td>\n",
       "      <td>FLWY</td>\n",
       "      <td>44.083002</td>\n",
       "      <td>-110.699888</td>\n",
       "    </tr>\n",
       "    <tr>\n",
       "      <th>922</th>\n",
       "      <td>IE</td>\n",
       "      <td>GBI</td>\n",
       "      <td>43.987000</td>\n",
       "      <td>-112.063000</td>\n",
       "    </tr>\n",
       "    <tr>\n",
       "      <th>33959</th>\n",
       "      <td>IE</td>\n",
       "      <td>GBI</td>\n",
       "      <td>43.986041</td>\n",
       "      <td>-112.064334</td>\n",
       "    </tr>\n",
       "    <tr>\n",
       "      <th>36</th>\n",
       "      <td>IW</td>\n",
       "      <td>LOHW</td>\n",
       "      <td>43.612400</td>\n",
       "      <td>-110.603798</td>\n",
       "    </tr>\n",
       "    <tr>\n",
       "      <th>10104</th>\n",
       "      <td>IW</td>\n",
       "      <td>LOHW</td>\n",
       "      <td>43.612400</td>\n",
       "      <td>-110.603800</td>\n",
       "    </tr>\n",
       "    <tr>\n",
       "      <th>4967</th>\n",
       "      <td>IE</td>\n",
       "      <td>PTI</td>\n",
       "      <td>42.870300</td>\n",
       "      <td>-112.370200</td>\n",
       "    </tr>\n",
       "    <tr>\n",
       "      <th>199847</th>\n",
       "      <td>IE</td>\n",
       "      <td>PTI</td>\n",
       "      <td>42.869647</td>\n",
       "      <td>-112.372065</td>\n",
       "    </tr>\n",
       "  </tbody>\n",
       "</table>\n",
       "</div>"
      ],
      "text/plain": [
       "       network station  receiver_lat  receiver_lon\n",
       "16          IW    FLWY     44.082700   -110.699300\n",
       "9689        IW    FLWY     44.083002   -110.699888\n",
       "922         IE     GBI     43.987000   -112.063000\n",
       "33959       IE     GBI     43.986041   -112.064334\n",
       "36          IW    LOHW     43.612400   -110.603798\n",
       "10104       IW    LOHW     43.612400   -110.603800\n",
       "4967        IE     PTI     42.870300   -112.370200\n",
       "199847      IE     PTI     42.869647   -112.372065"
      ]
     },
     "execution_count": 28,
     "metadata": {},
     "output_type": "execute_result"
    }
   ],
   "source": [
    "stat_df[stat_df.duplicated('station', keep=False)].sort_values('station')"
   ]
  },
  {
   "cell_type": "code",
   "execution_count": 31,
   "metadata": {},
   "outputs": [],
   "source": [
    "stat_df = stat_df.drop_duplicates('station', keep='last')"
   ]
  },
  {
   "cell_type": "code",
   "execution_count": 34,
   "metadata": {},
   "outputs": [
    {
     "data": {
      "text/html": [
       "<div>\n",
       "<style scoped>\n",
       "    .dataframe tbody tr th:only-of-type {\n",
       "        vertical-align: middle;\n",
       "    }\n",
       "\n",
       "    .dataframe tbody tr th {\n",
       "        vertical-align: top;\n",
       "    }\n",
       "\n",
       "    .dataframe thead th {\n",
       "        text-align: right;\n",
       "    }\n",
       "</style>\n",
       "<table border=\"1\" class=\"dataframe\">\n",
       "  <thead>\n",
       "    <tr style=\"text-align: right;\">\n",
       "      <th></th>\n",
       "      <th>network</th>\n",
       "      <th>station</th>\n",
       "      <th>receiver_lat</th>\n",
       "      <th>receiver_lon</th>\n",
       "    </tr>\n",
       "  </thead>\n",
       "  <tbody>\n",
       "    <tr>\n",
       "      <th>199847</th>\n",
       "      <td>IE</td>\n",
       "      <td>PTI</td>\n",
       "      <td>42.869647</td>\n",
       "      <td>-112.372065</td>\n",
       "    </tr>\n",
       "  </tbody>\n",
       "</table>\n",
       "</div>"
      ],
      "text/plain": [
       "       network station  receiver_lat  receiver_lon\n",
       "199847      IE     PTI     42.869647   -112.372065"
      ]
     },
     "execution_count": 34,
     "metadata": {},
     "output_type": "execute_result"
    }
   ],
   "source": [
    "stat_df[stat_df['station'] == 'PTI']"
   ]
  },
  {
   "cell_type": "code",
   "execution_count": 35,
   "metadata": {},
   "outputs": [],
   "source": [
    "stat_df.to_csv('../data/catalogs/stat.info.csv', index=False)"
   ]
  },
  {
   "cell_type": "code",
   "execution_count": null,
   "metadata": {},
   "outputs": [],
   "source": []
  }
 ],
 "metadata": {
  "kernelspec": {
   "display_name": "featmags",
   "language": "python",
   "name": "python3"
  },
  "language_info": {
   "codemirror_mode": {
    "name": "ipython",
    "version": 3
   },
   "file_extension": ".py",
   "mimetype": "text/x-python",
   "name": "python",
   "nbconvert_exporter": "python",
   "pygments_lexer": "ipython3",
   "version": "3.11.6"
  }
 },
 "nbformat": 4,
 "nbformat_minor": 2
}
