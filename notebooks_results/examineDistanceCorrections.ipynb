{
 "cells": [
  {
   "cell_type": "code",
   "execution_count": 1,
   "metadata": {},
   "outputs": [],
   "source": [
    "import numpy as np\n",
    "import pandas as pd \n",
    "from sklearn.metrics import r2_score, mean_squared_error\n",
    "import sys\n",
    "import os\n",
    "from joblib import load\n",
    "import matplotlib.pyplot as plt\n",
    "# make paths above 'notebooks/' visible for local imports.\n",
    "# +----------------------------------------------------------------------------+\n",
    "module_path = os.path.abspath(os.path.join('..'))\n",
    "if module_path not in sys.path:\n",
    "    sys.path.append(module_path)\n",
    "\n",
    "from src.processing import GatherFeatureDatasets\n",
    "from src import plotting"
   ]
  },
  {
   "cell_type": "code",
   "execution_count": 2,
   "metadata": {},
   "outputs": [],
   "source": [
    "\n",
    "def get_depth_baz_results(selected_feat_dict, \n",
    "                          station_meta_dict,\n",
    "                          phase,\n",
    "                          model_dir,\n",
    "                          all_train_df,\n",
    "                          depth_ind,\n",
    "                          baz_ind):\n",
    "    depth_r2_summary = {}\n",
    "    baz_r2_summary = {}\n",
    "    for stat in selected_feat_dict.keys():\n",
    "        print(f'{stat}.{phase}.scaler.joblib',  f'{stat}.{phase}.SVR.joblib')\n",
    "        scaler = load(os.path.join(model_dir, f'{stat}.{phase}.scaler.joblib'))\n",
    "        svm_model = load(os.path.join(model_dir, f'{stat}.{phase}.SVR.joblib'))\n",
    "        mean_depth = all_train_df[all_train_df.station == stat].drop_duplicates('Evid')['source_depth_km'].mean()\n",
    "        mean_baz = all_train_df[all_train_df.station == stat].drop_duplicates('Evid')['source_receiver_back_azimuth'].mean()\n",
    "        print(mean_depth, mean_baz)\n",
    "        stat_depth = {}\n",
    "        stat_baz = {}\n",
    "        for ds in ['test', 'holdout']:\n",
    "            if selected_feat_dict[stat][f'X_{ds}'] is None:\n",
    "                stat_depth[f'{ds}_r2'] = None\n",
    "                stat_baz[f'{ds}_r2'] = None\n",
    "                continue\n",
    "\n",
    "            X_depth = np.copy(selected_feat_dict[stat][f'X_{ds}'])\n",
    "            X_depth[:, depth_ind] = mean_depth\n",
    "\n",
    "            X_baz = np.copy(selected_feat_dict[stat][f'X_{ds}'])\n",
    "            X_baz[:, baz_ind] = mean_baz   \n",
    "\n",
    "            yhat_depth = svm_model.predict(scaler.transform(X_depth))\n",
    "            yhat_baz = svm_model.predict(scaler.transform(X_baz))\n",
    "\n",
    "            depth_r2 = r2_score(station_meta_dict[stat][f'y_{ds}'], yhat_depth)\n",
    "            baz_r2 = r2_score(station_meta_dict[stat][f'y_{ds}'], yhat_baz)\n",
    "\n",
    "            stat_depth[f'{ds}_r2'] = depth_r2\n",
    "            stat_baz[f'{ds}_r2'] = baz_r2\n",
    "\n",
    "        depth_r2_summary[stat] = stat_depth\n",
    "        baz_r2_summary[stat] = stat_baz\n",
    "\n",
    "    return pd.DataFrame(depth_r2_summary).T, pd.DataFrame(baz_r2_summary).T"
   ]
  },
  {
   "cell_type": "code",
   "execution_count": 3,
   "metadata": {},
   "outputs": [],
   "source": [
    "magdir = '/uufs/chpc.utah.edu/common/home/koper-group3/alysha/magnitudes'\n",
    "data_dir = os.path.join(magdir, 'feature_splits')"
   ]
  },
  {
   "cell_type": "code",
   "execution_count": 4,
   "metadata": {},
   "outputs": [],
   "source": [
    "selected_features = ['amp_1', 'amp_2','signal_variance',\n",
    "                    'noise_variance', 'source_depth_km',\n",
    "                    'source_receiver_distance_logkm',\n",
    "                    'source_receiver_back_azimuth_deg']"
   ]
  },
  {
   "cell_type": "markdown",
   "metadata": {},
   "source": [
    "# Get P results"
   ]
  },
  {
   "cell_type": "code",
   "execution_count": 5,
   "metadata": {},
   "outputs": [],
   "source": [
    "pproc = GatherFeatureDatasets(is_p=True)"
   ]
  },
  {
   "cell_type": "code",
   "execution_count": 6,
   "metadata": {},
   "outputs": [],
   "source": [
    "pmodel_dir = os.path.join(magdir, 'p_models/selected_features_constHP')\n",
    "p_all_train_df = pd.read_csv(f'{data_dir}/p.train.csv')\n",
    "p_all_test_df = pd.read_csv(f'{data_dir}/p.test.csv')\n",
    "p_all_holdout_df = pd.read_csv(f'{data_dir}/p.20230101.csv')\n",
    "p_results = pd.read_csv(os.path.join(pmodel_dir, 'all.stat.results.csv'))"
   ]
  },
  {
   "cell_type": "code",
   "execution_count": 7,
   "metadata": {},
   "outputs": [
    {
     "name": "stdout",
     "output_type": "stream",
     "text": [
      "YHB\n",
      "X shape: (3580, 45), y shape: (3580,)\n",
      "X shape: (897, 45), y shape: (897,)\n",
      "X shape: (363, 45), y shape: (363,)\n",
      "YDC\n",
      "X shape: (2928, 45), y shape: (2928,)\n",
      "X shape: (725, 45), y shape: (725,)\n",
      "X shape: (29, 45), y shape: (29,)\n",
      "YWB\n",
      "X shape: (3780, 45), y shape: (3780,)\n",
      "X shape: (913, 45), y shape: (913,)\n",
      "X shape: (357, 45), y shape: (357,)\n",
      "MCID\n",
      "X shape: (3389, 45), y shape: (3389,)\n",
      "X shape: (832, 45), y shape: (832,)\n",
      "X shape: (311, 45), y shape: (311,)\n",
      "YHL\n",
      "X shape: (3213, 45), y shape: (3213,)\n",
      "X shape: (812, 45), y shape: (812,)\n",
      "X shape: (374, 45), y shape: (374,)\n",
      "YMR\n",
      "X shape: (4154, 45), y shape: (4154,)\n",
      "X shape: (1071, 45), y shape: (1071,)\n",
      "X shape: (446, 45), y shape: (446,)\n",
      "YHH\n",
      "X shape: (4813, 45), y shape: (4813,)\n",
      "X shape: (1215, 45), y shape: (1215,)\n",
      "X shape: (397, 45), y shape: (397,)\n",
      "B207\n",
      "X shape: (1718, 45), y shape: (1718,)\n",
      "X shape: (411, 45), y shape: (411,)\n",
      "YPP\n",
      "X shape: (1558, 45), y shape: (1558,)\n",
      "X shape: (399, 45), y shape: (399,)\n",
      "X shape: (217, 45), y shape: (217,)\n",
      "YPM\n",
      "X shape: (4078, 45), y shape: (4078,)\n",
      "X shape: (1018, 45), y shape: (1018,)\n",
      "X shape: (438, 45), y shape: (438,)\n",
      "YLT\n",
      "X shape: (1345, 45), y shape: (1345,)\n",
      "X shape: (348, 45), y shape: (348,)\n",
      "X shape: (97, 45), y shape: (97,)\n",
      "H17A\n",
      "X shape: (524, 45), y shape: (524,)\n",
      "X shape: (149, 45), y shape: (149,)\n",
      "B208\n",
      "X shape: (507, 45), y shape: (507,)\n",
      "X shape: (153, 45), y shape: (153,)\n",
      "LKWY\n",
      "X shape: (1062, 45), y shape: (1062,)\n",
      "X shape: (265, 45), y shape: (265,)\n",
      "X shape: (19, 45), y shape: (19,)\n",
      "FLWY\n",
      "X shape: (791, 45), y shape: (791,)\n",
      "X shape: (203, 45), y shape: (203,)\n",
      "X shape: (19, 45), y shape: (19,)\n",
      "YGC\n",
      "X shape: (2233, 45), y shape: (2233,)\n",
      "X shape: (558, 45), y shape: (558,)\n",
      "X shape: (273, 45), y shape: (273,)\n",
      "YMC\n",
      "X shape: (4322, 45), y shape: (4322,)\n",
      "X shape: (1110, 45), y shape: (1110,)\n",
      "X shape: (460, 45), y shape: (460,)\n",
      "YML\n",
      "X shape: (3077, 45), y shape: (3077,)\n",
      "X shape: (801, 45), y shape: (801,)\n",
      "X shape: (387, 45), y shape: (387,)\n",
      "YUF\n",
      "X shape: (1676, 45), y shape: (1676,)\n",
      "X shape: (463, 45), y shape: (463,)\n",
      "X shape: (225, 45), y shape: (225,)\n",
      "B206\n",
      "X shape: (664, 45), y shape: (664,)\n",
      "X shape: (183, 45), y shape: (183,)\n",
      "B944\n",
      "X shape: (348, 45), y shape: (348,)\n",
      "X shape: (108, 45), y shape: (108,)\n",
      "YLA\n",
      "X shape: (719, 45), y shape: (719,)\n",
      "X shape: (182, 45), y shape: (182,)\n",
      "X shape: (74, 45), y shape: (74,)\n",
      "YTP\n",
      "X shape: (926, 45), y shape: (926,)\n",
      "X shape: (223, 45), y shape: (223,)\n",
      "X shape: (127, 45), y shape: (127,)\n",
      "YNR\n",
      "X shape: (4649, 45), y shape: (4649,)\n",
      "X shape: (1174, 45), y shape: (1174,)\n",
      "X shape: (275, 45), y shape: (275,)\n",
      "YNM\n",
      "X shape: (1136, 45), y shape: (1136,)\n",
      "X shape: (293, 45), y shape: (293,)\n",
      "X shape: (8, 45), y shape: (8,)\n",
      "YFT\n",
      "X shape: (3529, 45), y shape: (3529,)\n",
      "X shape: (920, 45), y shape: (920,)\n",
      "X shape: (293, 45), y shape: (293,)\n",
      "YMV\n",
      "X shape: (879, 45), y shape: (879,)\n",
      "X shape: (213, 45), y shape: (213,)\n",
      "X shape: (104, 45), y shape: (104,)\n",
      "YPC\n",
      "X shape: (370, 45), y shape: (370,)\n",
      "X shape: (85, 45), y shape: (85,)\n",
      "X shape: (58, 45), y shape: (58,)\n",
      "YSB\n",
      "X shape: (324, 45), y shape: (324,)\n",
      "X shape: (79, 45), y shape: (79,)\n",
      "X shape: (21, 45), y shape: (21,)\n",
      "YJC\n",
      "X shape: (419, 45), y shape: (419,)\n",
      "X shape: (106, 45), y shape: (106,)\n",
      "X shape: (101, 45), y shape: (101,)\n",
      "YMS\n",
      "X shape: (430, 45), y shape: (430,)\n",
      "X shape: (110, 45), y shape: (110,)\n",
      "X shape: (64, 45), y shape: (64,)\n",
      "YNE\n",
      "X shape: (345, 45), y shape: (345,)\n",
      "X shape: (94, 45), y shape: (94,)\n",
      "X shape: (68, 45), y shape: (68,)\n",
      "YPK\n",
      "X shape: (371, 45), y shape: (371,)\n",
      "X shape: (89, 45), y shape: (89,)\n",
      "X shape: (59, 45), y shape: (59,)\n",
      "B950\n",
      "X shape: (581, 45), y shape: (581,)\n",
      "X shape: (170, 45), y shape: (170,)\n",
      "YDD\n",
      "X shape: (593, 45), y shape: (593,)\n",
      "X shape: (159, 45), y shape: (159,)\n",
      "X shape: (197, 45), y shape: (197,)\n",
      "YHB\n",
      "X_train: (3580, 7), X_test: (897, 7), X_holdout: (363, 7)\n",
      "YDC\n",
      "X_train: (2928, 7), X_test: (725, 7), X_holdout: (29, 7)\n",
      "YWB\n",
      "X_train: (3780, 7), X_test: (913, 7), X_holdout: (357, 7)\n",
      "MCID\n",
      "X_train: (3389, 7), X_test: (832, 7), X_holdout: (311, 7)\n",
      "YHL\n",
      "X_train: (3213, 7), X_test: (812, 7), X_holdout: (374, 7)\n",
      "YMR\n",
      "X_train: (4154, 7), X_test: (1071, 7), X_holdout: (446, 7)\n",
      "YHH\n",
      "X_train: (4813, 7), X_test: (1215, 7), X_holdout: (397, 7)\n",
      "B207\n",
      "X_train: (1718, 7), X_test: (411, 7), X_holdout: 0\n",
      "YPP\n",
      "X_train: (1558, 7), X_test: (399, 7), X_holdout: (217, 7)\n",
      "YPM\n",
      "X_train: (4078, 7), X_test: (1018, 7), X_holdout: (438, 7)\n",
      "YLT\n",
      "X_train: (1345, 7), X_test: (348, 7), X_holdout: (97, 7)\n",
      "H17A\n",
      "X_train: (524, 7), X_test: (149, 7), X_holdout: 0\n",
      "B208\n",
      "X_train: (507, 7), X_test: (153, 7), X_holdout: 0\n",
      "LKWY\n",
      "X_train: (1062, 7), X_test: (265, 7), X_holdout: (19, 7)\n",
      "FLWY\n",
      "X_train: (791, 7), X_test: (203, 7), X_holdout: (19, 7)\n",
      "YGC\n",
      "X_train: (2233, 7), X_test: (558, 7), X_holdout: (273, 7)\n",
      "YMC\n",
      "X_train: (4322, 7), X_test: (1110, 7), X_holdout: (460, 7)\n",
      "YML\n",
      "X_train: (3077, 7), X_test: (801, 7), X_holdout: (387, 7)\n",
      "YUF\n",
      "X_train: (1676, 7), X_test: (463, 7), X_holdout: (225, 7)\n",
      "B206\n",
      "X_train: (664, 7), X_test: (183, 7), X_holdout: 0\n",
      "B944\n",
      "X_train: (348, 7), X_test: (108, 7), X_holdout: 0\n",
      "YLA\n",
      "X_train: (719, 7), X_test: (182, 7), X_holdout: (74, 7)\n",
      "YTP\n",
      "X_train: (926, 7), X_test: (223, 7), X_holdout: (127, 7)\n",
      "YNR\n",
      "X_train: (4649, 7), X_test: (1174, 7), X_holdout: (275, 7)\n",
      "YNM\n",
      "X_train: (1136, 7), X_test: (293, 7), X_holdout: (8, 7)\n",
      "YFT\n",
      "X_train: (3529, 7), X_test: (920, 7), X_holdout: (293, 7)\n",
      "YMV\n",
      "X_train: (879, 7), X_test: (213, 7), X_holdout: (104, 7)\n",
      "YPC\n",
      "X_train: (370, 7), X_test: (85, 7), X_holdout: (58, 7)\n",
      "YSB\n",
      "X_train: (324, 7), X_test: (79, 7), X_holdout: (21, 7)\n",
      "YJC\n",
      "X_train: (419, 7), X_test: (106, 7), X_holdout: (101, 7)\n",
      "YMS\n",
      "X_train: (430, 7), X_test: (110, 7), X_holdout: (64, 7)\n",
      "YNE\n",
      "X_train: (345, 7), X_test: (94, 7), X_holdout: (68, 7)\n",
      "YPK\n",
      "X_train: (371, 7), X_test: (89, 7), X_holdout: (59, 7)\n",
      "B950\n",
      "X_train: (581, 7), X_test: (170, 7), X_holdout: 0\n",
      "YDD\n",
      "X_train: (593, 7), X_test: (159, 7), X_holdout: (197, 7)\n",
      "YHB.P.scaler.joblib YHB.P.SVR.joblib\n",
      "7.95504748603352 92.66232220848401\n",
      "YDC.P.scaler.joblib YDC.P.SVR.joblib\n",
      "8.105665983606556 77.88072508877039\n",
      "YWB.P.scaler.joblib YWB.P.SVR.joblib\n",
      "7.723026455026456 76.54139746822365\n",
      "MCID.P.scaler.joblib MCID.P.SVR.joblib\n",
      "8.015311301268811 28.12487981587264\n",
      "YHL.P.scaler.joblib YHL.P.SVR.joblib\n",
      "8.04493308434485 125.16413779815822\n",
      "YMR.P.scaler.joblib YMR.P.SVR.joblib\n",
      "7.207132883967261 160.09847628639255\n",
      "YHH.P.scaler.joblib YHH.P.SVR.joblib\n",
      "7.416143777269895 190.2570698391066\n",
      "B207.P.scaler.joblib B207.P.SVR.joblib\n",
      "7.624307334109431 181.26632517877175\n",
      "YPP.P.scaler.joblib YPP.P.SVR.joblib\n",
      "7.023844672657253 191.13646238589772\n",
      "YPM.P.scaler.joblib YPM.P.SVR.joblib\n",
      "7.222636096125552 180.08461022078384\n",
      "YLT.P.scaler.joblib YLT.P.SVR.joblib\n",
      "5.755531598513011 193.2915775926218\n",
      "H17A.P.scaler.joblib H17A.P.SVR.joblib\n",
      "6.108148854961832 246.73152714474338\n",
      "B208.P.scaler.joblib B208.P.SVR.joblib\n",
      "5.416883629191322 271.3332776590928\n",
      "LKWY.P.scaler.joblib LKWY.P.SVR.joblib\n",
      "5.86774011299435 260.5433330376066\n",
      "FLWY.P.scaler.joblib FLWY.P.SVR.joblib\n",
      "7.439329962073325 166.26042811818488\n",
      "YGC.P.scaler.joblib YGC.P.SVR.joblib\n",
      "8.360904612628751 123.00566218701547\n",
      "YMC.P.scaler.joblib YMC.P.SVR.joblib\n",
      "7.433662656177695 169.64424183163064\n",
      "YML.P.scaler.joblib YML.P.SVR.joblib\n",
      "6.682908677283068 247.63699713344326\n",
      "YUF.P.scaler.joblib YUF.P.SVR.joblib\n",
      "5.92890214797136 244.70826703862528\n",
      "B206.P.scaler.joblib B206.P.SVR.joblib\n",
      "5.76894578313253 251.52700725671014\n",
      "B944.P.scaler.joblib B944.P.SVR.joblib\n",
      "5.7877298850574705 215.42202414584517\n",
      "YLA.P.scaler.joblib YLA.P.SVR.joblib\n",
      "5.568289290681502 239.13111811531337\n",
      "YTP.P.scaler.joblib YTP.P.SVR.joblib\n",
      "5.531533477321814 283.71208832002986\n",
      "YNR.P.scaler.joblib YNR.P.SVR.joblib\n",
      "7.085790492579049 251.4464092359176\n",
      "YNM.P.scaler.joblib YNM.P.SVR.joblib\n",
      "6.129022887323943 261.4147840127068\n",
      "YFT.P.scaler.joblib YFT.P.SVR.joblib\n",
      "7.265075092094077 183.961253372956\n",
      "YMV.P.scaler.joblib YMV.P.SVR.joblib\n",
      "7.054994311717861 204.14761834934686\n",
      "YPC.P.scaler.joblib YPC.P.SVR.joblib\n",
      "6.098162162162162 214.43733325232438\n",
      "YSB.P.scaler.joblib YSB.P.SVR.joblib\n",
      "7.518425925925927 234.79292942814226\n",
      "YJC.P.scaler.joblib YJC.P.SVR.joblib\n",
      "5.57436754176611 240.79338275107415\n",
      "YMS.P.scaler.joblib YMS.P.SVR.joblib\n",
      "5.821116279069767 126.82173191423085\n",
      "YNE.P.scaler.joblib YNE.P.SVR.joblib\n",
      "7.8055942028985505 236.2230598774963\n",
      "YPK.P.scaler.joblib YPK.P.SVR.joblib\n",
      "7.678463611859838 248.1612791579672\n",
      "B950.P.scaler.joblib B950.P.SVR.joblib\n",
      "6.8906196213425135 255.3890863423698\n",
      "YDD.P.scaler.joblib YDD.P.SVR.joblib\n",
      "6.123456998313659 191.8163370165855\n"
     ]
    }
   ],
   "source": [
    "pproc = GatherFeatureDatasets(is_p=True)\n",
    "p_station_feature_dict, p_station_meta_dict, p_feature_names = pproc.process_all_stations_datasets(p_all_train_df, \n",
    "                                                                  p_all_test_df,\n",
    "                                                                  holdout_df=p_all_holdout_df,\n",
    "                                                                  scaler=False,\n",
    "                                                                  linear_model=False,\n",
    "                                                                  source_dist_type='dist')\n",
    "\n",
    "p_selected_feat_dict, p_selected_feature_names = pproc.filter_station_dict_features(p_station_feature_dict,\n",
    "                                                                             p_feature_names,\n",
    "                                                                             selected_features)\n",
    "\n",
    "p_depth_ind = np.where(p_selected_feature_names == 'source_depth_km')[0]\n",
    "p_baz_ind = np.where(p_selected_feature_names == 'source_receiver_back_azimuth_deg')[0]\n",
    "\n",
    "p_depth_r2_df, p_baz_r2_df = get_depth_baz_results(p_selected_feat_dict,\n",
    "                                               p_station_meta_dict,\n",
    "                                               'P',\n",
    "                                               pmodel_dir,\n",
    "                                               p_all_train_df,\n",
    "                                               p_depth_ind,\n",
    "                                               p_baz_ind)"
   ]
  },
  {
   "cell_type": "markdown",
   "metadata": {},
   "source": [
    "# Get S Results"
   ]
  },
  {
   "cell_type": "code",
   "execution_count": 8,
   "metadata": {},
   "outputs": [],
   "source": [
    "smodel_dir = os.path.join(magdir, 's_models/selected_features_constHP')\n",
    "s_all_train_df = pd.read_csv(f'{data_dir}/s.train.csv')\n",
    "s_all_test_df = pd.read_csv(f'{data_dir}/s.test.csv')\n",
    "s_all_holdout_df = pd.read_csv(f'{data_dir}/s.20230101.csv')\n",
    "s_results = pd.read_csv(os.path.join(smodel_dir, 'all.stat.results.csv'))"
   ]
  },
  {
   "cell_type": "code",
   "execution_count": 9,
   "metadata": {},
   "outputs": [
    {
     "name": "stdout",
     "output_type": "stream",
     "text": [
      "YHB\n",
      "X shape: (1248, 45), y shape: (1248,)\n",
      "X shape: (331, 45), y shape: (331,)\n",
      "X shape: (225, 45), y shape: (225,)\n",
      "YHL\n",
      "X shape: (537, 45), y shape: (537,)\n",
      "X shape: (133, 45), y shape: (133,)\n",
      "X shape: (39, 45), y shape: (39,)\n",
      "YMR\n",
      "X shape: (1533, 45), y shape: (1533,)\n",
      "X shape: (392, 45), y shape: (392,)\n",
      "X shape: (172, 45), y shape: (172,)\n",
      "YHH\n",
      "X shape: (1222, 45), y shape: (1222,)\n",
      "X shape: (328, 45), y shape: (328,)\n",
      "X shape: (113, 45), y shape: (113,)\n",
      "B207\n",
      "X shape: (341, 45), y shape: (341,)\n",
      "X shape: (83, 45), y shape: (83,)\n",
      "FLWY\n",
      "X shape: (319, 45), y shape: (319,)\n",
      "X shape: (89, 45), y shape: (89,)\n",
      "X shape: (12, 45), y shape: (12,)\n",
      "YUF\n",
      "X shape: (816, 45), y shape: (816,)\n",
      "X shape: (227, 45), y shape: (227,)\n",
      "X shape: (118, 45), y shape: (118,)\n",
      "YPP\n",
      "X shape: (189, 45), y shape: (189,)\n",
      "X shape: (58, 45), y shape: (58,)\n",
      "X shape: (35, 45), y shape: (35,)\n",
      "YNR\n",
      "X shape: (2090, 45), y shape: (2090,)\n",
      "X shape: (541, 45), y shape: (541,)\n",
      "X shape: (99, 45), y shape: (99,)\n",
      "YML\n",
      "X shape: (423, 45), y shape: (423,)\n",
      "X shape: (126, 45), y shape: (126,)\n",
      "X shape: (7, 45), y shape: (7,)\n",
      "YFT\n",
      "X shape: (899, 45), y shape: (899,)\n",
      "X shape: (214, 45), y shape: (214,)\n",
      "X shape: (55, 45), y shape: (55,)\n",
      "LKWY\n",
      "X shape: (209, 45), y shape: (209,)\n",
      "X shape: (50, 45), y shape: (50,)\n",
      "X shape: (2, 45), y shape: (2,)\n",
      "YTP\n",
      "X shape: (391, 45), y shape: (391,)\n",
      "X shape: (95, 45), y shape: (95,)\n",
      "X shape: (49, 45), y shape: (49,)\n",
      "B206\n",
      "X shape: (195, 45), y shape: (195,)\n",
      "X shape: (60, 45), y shape: (60,)\n",
      "YMC\n",
      "X shape: (1443, 45), y shape: (1443,)\n",
      "X shape: (363, 45), y shape: (363,)\n",
      "X shape: (171, 45), y shape: (171,)\n",
      "YNM\n",
      "X shape: (487, 45), y shape: (487,)\n",
      "X shape: (137, 45), y shape: (137,)\n",
      "X shape: (6, 45), y shape: (6,)\n",
      "B950\n",
      "X shape: (152, 45), y shape: (152,)\n",
      "X shape: (42, 45), y shape: (42,)\n",
      "YDD\n",
      "X shape: (244, 45), y shape: (244,)\n",
      "X shape: (58, 45), y shape: (58,)\n",
      "X shape: (82, 45), y shape: (82,)\n",
      "YHB\n",
      "X_train: (1248, 7), X_test: (331, 7), X_holdout: (225, 7)\n",
      "YHL\n",
      "X_train: (537, 7), X_test: (133, 7), X_holdout: (39, 7)\n",
      "YMR\n",
      "X_train: (1533, 7), X_test: (392, 7), X_holdout: (172, 7)\n",
      "YHH\n",
      "X_train: (1222, 7), X_test: (328, 7), X_holdout: (113, 7)\n",
      "B207\n",
      "X_train: (341, 7), X_test: (83, 7), X_holdout: 0\n",
      "FLWY\n",
      "X_train: (319, 7), X_test: (89, 7), X_holdout: (12, 7)\n",
      "YUF\n",
      "X_train: (816, 7), X_test: (227, 7), X_holdout: (118, 7)\n",
      "YPP\n",
      "X_train: (189, 7), X_test: (58, 7), X_holdout: (35, 7)\n",
      "YNR\n",
      "X_train: (2090, 7), X_test: (541, 7), X_holdout: (99, 7)\n",
      "YML\n",
      "X_train: (423, 7), X_test: (126, 7), X_holdout: (7, 7)\n",
      "YFT\n",
      "X_train: (899, 7), X_test: (214, 7), X_holdout: (55, 7)\n",
      "LKWY\n",
      "X_train: (209, 7), X_test: (50, 7), X_holdout: (2, 7)\n",
      "YTP\n",
      "X_train: (391, 7), X_test: (95, 7), X_holdout: (49, 7)\n",
      "B206\n",
      "X_train: (195, 7), X_test: (60, 7), X_holdout: 0\n",
      "YMC\n",
      "X_train: (1443, 7), X_test: (363, 7), X_holdout: (171, 7)\n",
      "YNM\n",
      "X_train: (487, 7), X_test: (137, 7), X_holdout: (6, 7)\n",
      "B950\n",
      "X_train: (152, 7), X_test: (42, 7), X_holdout: 0\n",
      "YDD\n",
      "X_train: (244, 7), X_test: (58, 7), X_holdout: (82, 7)\n",
      "YHB.S.scaler.joblib YHB.S.SVR.joblib\n",
      "7.543052884615384 92.2280536864885\n",
      "YHL.S.scaler.joblib YHL.S.SVR.joblib\n",
      "8.48344506517691 131.02932518052023\n",
      "YMR.S.scaler.joblib YMR.S.SVR.joblib\n",
      "7.886412263535551 194.61251977027547\n",
      "YHH.S.scaler.joblib YHH.S.SVR.joblib\n",
      "6.754934533551555 172.5132966228598\n",
      "B207.S.scaler.joblib B207.S.SVR.joblib\n",
      "8.304516129032258 228.43529086357262\n",
      "FLWY.S.scaler.joblib FLWY.S.SVR.joblib\n",
      "6.1111912225705325 75.26429674051793\n",
      "YUF.S.scaler.joblib YUF.S.SVR.joblib\n",
      "5.750735294117647 246.02481910434545\n",
      "YPP.S.scaler.joblib YPP.S.SVR.joblib\n",
      "6.215608465608466 139.36129616235982\n",
      "YNR.S.scaler.joblib YNR.S.SVR.joblib\n",
      "7.264392344497608 265.59509627242716\n",
      "YML.S.scaler.joblib YML.S.SVR.joblib\n",
      "6.778108747044917 264.6320135257159\n",
      "YFT.S.scaler.joblib YFT.S.SVR.joblib\n",
      "6.685027808676307 227.98151279688287\n",
      "LKWY.S.scaler.joblib LKWY.S.SVR.joblib\n",
      "4.73444976076555 226.08978492184298\n",
      "YTP.S.scaler.joblib YTP.S.SVR.joblib\n",
      "5.320179028132992 289.4676444610808\n",
      "B206.S.scaler.joblib B206.S.SVR.joblib\n",
      "5.533846153846153 262.453576141295\n",
      "YMC.S.scaler.joblib YMC.S.SVR.joblib\n",
      "7.94057519057519 189.23108994613474\n",
      "YNM.S.scaler.joblib YNM.S.SVR.joblib\n",
      "5.739219712525667 275.75455664040874\n",
      "B950.S.scaler.joblib B950.S.SVR.joblib\n",
      "6.986907894736842 253.85449399587014\n",
      "YDD.S.scaler.joblib YDD.S.SVR.joblib\n",
      "5.582336065573771 173.4227372428767\n"
     ]
    }
   ],
   "source": [
    "sproc = GatherFeatureDatasets(is_p=False)\n",
    "s_station_feature_dict, s_station_meta_dict, s_feature_names = sproc.process_all_stations_datasets(s_all_train_df, \n",
    "                                                                  s_all_test_df,\n",
    "                                                                  holdout_df=s_all_holdout_df,\n",
    "                                                                  scaler=False,\n",
    "                                                                  linear_model=False,\n",
    "                                                                  source_dist_type='dist')\n",
    "\n",
    "s_selected_feat_dict, s_selected_feature_names = sproc.filter_station_dict_features(s_station_feature_dict,\n",
    "                                                                             s_feature_names,\n",
    "                                                                             selected_features)\n",
    "\n",
    "s_depth_ind = np.where(s_selected_feature_names == 'source_depth_km')[0]\n",
    "s_baz_ind = np.where(s_selected_feature_names == 'source_receiver_back_azimuth_deg')[0]\n",
    "\n",
    "s_depth_r2_df, s_baz_r2_df = get_depth_baz_results(s_selected_feat_dict,\n",
    "                                               s_station_meta_dict,\n",
    "                                               'S',\n",
    "                                               smodel_dir,\n",
    "                                               s_all_train_df,\n",
    "                                               s_depth_ind,\n",
    "                                               s_baz_ind)"
   ]
  },
  {
   "cell_type": "code",
   "execution_count": 10,
   "metadata": {},
   "outputs": [
    {
     "data": {
      "text/html": [
       "<div>\n",
       "<style scoped>\n",
       "    .dataframe tbody tr th:only-of-type {\n",
       "        vertical-align: middle;\n",
       "    }\n",
       "\n",
       "    .dataframe tbody tr th {\n",
       "        vertical-align: top;\n",
       "    }\n",
       "\n",
       "    .dataframe thead th {\n",
       "        text-align: right;\n",
       "    }\n",
       "</style>\n",
       "<table border=\"1\" class=\"dataframe\">\n",
       "  <thead>\n",
       "    <tr style=\"text-align: right;\">\n",
       "      <th></th>\n",
       "      <th>test_r2</th>\n",
       "      <th>holdout_r2</th>\n",
       "    </tr>\n",
       "  </thead>\n",
       "  <tbody>\n",
       "    <tr>\n",
       "      <th>YHB</th>\n",
       "      <td>0.809895</td>\n",
       "      <td>0.849461</td>\n",
       "    </tr>\n",
       "    <tr>\n",
       "      <th>YHL</th>\n",
       "      <td>0.862218</td>\n",
       "      <td>0.818039</td>\n",
       "    </tr>\n",
       "    <tr>\n",
       "      <th>YMR</th>\n",
       "      <td>0.625584</td>\n",
       "      <td>0.747263</td>\n",
       "    </tr>\n",
       "    <tr>\n",
       "      <th>YHH</th>\n",
       "      <td>0.547168</td>\n",
       "      <td>0.598942</td>\n",
       "    </tr>\n",
       "    <tr>\n",
       "      <th>B207</th>\n",
       "      <td>0.865813</td>\n",
       "      <td>NaN</td>\n",
       "    </tr>\n",
       "  </tbody>\n",
       "</table>\n",
       "</div>"
      ],
      "text/plain": [
       "       test_r2  holdout_r2\n",
       "YHB   0.809895    0.849461\n",
       "YHL   0.862218    0.818039\n",
       "YMR   0.625584    0.747263\n",
       "YHH   0.547168    0.598942\n",
       "B207  0.865813         NaN"
      ]
     },
     "execution_count": 10,
     "metadata": {},
     "output_type": "execute_result"
    }
   ],
   "source": [
    "s_depth_r2_df.head()"
   ]
  },
  {
   "cell_type": "markdown",
   "metadata": {},
   "source": [
    "# Make summary boxplots"
   ]
  },
  {
   "cell_type": "code",
   "execution_count": 11,
   "metadata": {},
   "outputs": [],
   "source": [
    "boxplots_dict = {'sub_results':{'P':p_results, 'S':s_results},\n",
    "                'depth_results':{'P':p_depth_r2_df, 'S':s_depth_r2_df},\n",
    "                'baz_results':{'P':p_baz_r2_df, 'S':s_baz_r2_df},\n",
    "                    }\n",
    "scatter_dict = {\n",
    "}\n",
    "label_dict = {'sub_results': 'Actual depth/baz',\n",
    "              'depth_results':'Mean station depth',\n",
    "              'baz_results':'Mean station baz'}"
   ]
  },
  {
   "cell_type": "code",
   "execution_count": 12,
   "metadata": {},
   "outputs": [],
   "source": [
    "plotting.set_default_fontsizes()"
   ]
  },
  {
   "cell_type": "code",
   "execution_count": 14,
   "metadata": {},
   "outputs": [
    {
     "data": {
      "image/png": "[encoded data removed]",
      "text/plain": [
       "<Figure size 440x480 with 2 Axes>"
      ]
     },
     "metadata": {},
     "output_type": "display_data"
    }
   ],
   "source": [
    "plotting.r2_boxplots(boxplots_dict,\n",
    "                     scatter_dict,\n",
    "                     label_dict,\n",
    "                     xtick_locs=[0, 1],\n",
    "                     xlims=[-0.25, 1.75],\n",
    "                     plot_train=False,\n",
    "                     ylim=[0.3, 1.0],\n",
    "                     legend_ax=0,\n",
    "                     savefigname='../figures/stationMeanDistFeaturesR2Boxplots.png',\n",
    "                     figsize=(4.4, 4.8))"
   ]
  },
  {
   "cell_type": "code",
   "execution_count": 18,
   "metadata": {},
   "outputs": [
    {
     "data": {
      "text/plain": [
       "test_r2       0.887\n",
       "holdout_r2    0.822\n",
       "dtype: float64"
      ]
     },
     "execution_count": 18,
     "metadata": {},
     "output_type": "execute_result"
    }
   ],
   "source": [
    "p_results[['test_r2', 'holdout_r2']].median()"
   ]
  },
  {
   "cell_type": "code",
   "execution_count": 16,
   "metadata": {},
   "outputs": [
    {
     "data": {
      "text/plain": [
       "test_r2       0.863272\n",
       "holdout_r2    0.819615\n",
       "dtype: float64"
      ]
     },
     "execution_count": 16,
     "metadata": {},
     "output_type": "execute_result"
    }
   ],
   "source": [
    "p_depth_r2_df.median()"
   ]
  },
  {
   "cell_type": "code",
   "execution_count": 19,
   "metadata": {},
   "outputs": [
    {
     "data": {
      "text/plain": [
       "test_r2       0.839883\n",
       "holdout_r2    0.768264\n",
       "dtype: float64"
      ]
     },
     "execution_count": 19,
     "metadata": {},
     "output_type": "execute_result"
    }
   ],
   "source": [
    "p_baz_r2_df.median()"
   ]
  },
  {
   "cell_type": "code",
   "execution_count": 29,
   "metadata": {},
   "outputs": [
    {
     "name": "stdout",
     "output_type": "stream",
     "text": [
      "depth: 0.023727703984958604\n",
      "baz: 0.04711734770592513\n"
     ]
    }
   ],
   "source": [
    "print('depth:', p_results['test_r2'].median() - p_depth_r2_df['test_r2'].median())\n",
    "print('baz:', p_results['test_r2'].median() - p_baz_r2_df['test_r2'].median())"
   ]
  },
  {
   "cell_type": "code",
   "execution_count": 26,
   "metadata": {},
   "outputs": [
    {
     "name": "stdout",
     "output_type": "stream",
     "text": [
      "depth: 0.00238485994247839\n",
      "baz: 0.053736287669150395\n"
     ]
    }
   ],
   "source": [
    "print('depth:', p_results['holdout_r2'].median() - p_depth_r2_df['holdout_r2'].median())\n",
    "print('baz:', p_results['holdout_r2'].median() - p_baz_r2_df['holdout_r2'].median())"
   ]
  },
  {
   "cell_type": "markdown",
   "metadata": {},
   "source": [
    "S"
   ]
  },
  {
   "cell_type": "code",
   "execution_count": 20,
   "metadata": {},
   "outputs": [
    {
     "data": {
      "text/plain": [
       "test_r2       0.9155\n",
       "holdout_r2    0.9020\n",
       "dtype: float64"
      ]
     },
     "execution_count": 20,
     "metadata": {},
     "output_type": "execute_result"
    }
   ],
   "source": [
    "s_results[['test_r2', 'holdout_r2']].median()"
   ]
  },
  {
   "cell_type": "code",
   "execution_count": 21,
   "metadata": {},
   "outputs": [
    {
     "data": {
      "text/plain": [
       "test_r2       0.632514\n",
       "holdout_r2    0.670633\n",
       "dtype: float64"
      ]
     },
     "execution_count": 21,
     "metadata": {},
     "output_type": "execute_result"
    }
   ],
   "source": [
    "s_depth_r2_df.median()"
   ]
  },
  {
   "cell_type": "code",
   "execution_count": 22,
   "metadata": {},
   "outputs": [
    {
     "data": {
      "text/plain": [
       "test_r2       0.839883\n",
       "holdout_r2    0.768264\n",
       "dtype: float64"
      ]
     },
     "execution_count": 22,
     "metadata": {},
     "output_type": "execute_result"
    }
   ],
   "source": [
    "p_baz_r2_df.median()"
   ]
  },
  {
   "cell_type": "code",
   "execution_count": 27,
   "metadata": {},
   "outputs": [
    {
     "name": "stdout",
     "output_type": "stream",
     "text": [
      "depth: 0.28298611945718255\n",
      "baz: 0.23705000790408004\n"
     ]
    }
   ],
   "source": [
    "print('depth:', s_results['test_r2'].median() - s_depth_r2_df['test_r2'].median())\n",
    "print('baz:', s_results['test_r2'].median() - s_baz_r2_df['test_r2'].median())"
   ]
  },
  {
   "cell_type": "code",
   "execution_count": 28,
   "metadata": {},
   "outputs": [
    {
     "name": "stdout",
     "output_type": "stream",
     "text": [
      "depth: 0.23136654384139288\n",
      "baz: 0.22991979506229754\n"
     ]
    }
   ],
   "source": [
    "print('depth:', s_results['holdout_r2'].median() - s_depth_r2_df['holdout_r2'].median())\n",
    "print('baz:', s_results['holdout_r2'].median() - s_baz_r2_df['holdout_r2'].median())"
   ]
  }
 ],
 "metadata": {
  "kernelspec": {
   "display_name": "featmags",
   "language": "python",
   "name": "python3"
  },
  "language_info": {
   "codemirror_mode": {
    "name": "ipython",
    "version": 3
   },
   "file_extension": ".py",
   "mimetype": "text/x-python",
   "name": "python",
   "nbconvert_exporter": "python",
   "pygments_lexer": "ipython3",
   "version": "3.11.6"
  }
 },
 "nbformat": 4,
 "nbformat_minor": 2
}
