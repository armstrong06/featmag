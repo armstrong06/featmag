{
 "cells": [
  {
   "cell_type": "code",
   "execution_count": 1,
   "metadata": {},
   "outputs": [],
   "source": [
    "import numpy as np\n",
    "import pandas as pd \n",
    "from sklearn.metrics import r2_score, mean_squared_error\n",
    "import sys\n",
    "import os\n",
    "from joblib import load\n",
    "import matplotlib.pyplot as plt\n",
    "# make paths above 'notebooks/' visible for local imports.\n",
    "# +----------------------------------------------------------------------------+\n",
    "module_path = os.path.abspath(os.path.join('..'))\n",
    "if module_path not in sys.path:\n",
    "    sys.path.append(module_path)\n",
    "\n",
    "from src.processing import GatherFeatureDatasets\n",
    "from src import plotting"
   ]
  },
  {
   "cell_type": "code",
   "execution_count": 2,
   "metadata": {},
   "outputs": [],
   "source": [
    "magdir = '/uufs/chpc.utah.edu/common/home/koper-group3/alysha/magnitudes'\n",
    "data_dir = os.path.join(magdir, 'feature_splits')\n",
    "use_mean = False\n",
    "replace_all = True"
   ]
  },
  {
   "cell_type": "code",
   "execution_count": 3,
   "metadata": {},
   "outputs": [],
   "source": [
    "\n",
    "def get_depth_baz_results(selected_feat_dict, \n",
    "                          station_meta_dict,\n",
    "                          phase,\n",
    "                          model_dir,\n",
    "                          all_train_df,\n",
    "                          depth_ind,\n",
    "                          baz_ind):\n",
    "    depth_r2_summary = {}\n",
    "    baz_r2_summary = {}\n",
    "    for stat in selected_feat_dict.keys():\n",
    "        print(f'{stat}.{phase}.scaler.joblib',  f'{stat}.{phase}.SVR.joblib')\n",
    "        scaler = load(os.path.join(model_dir, f'{stat}.{phase}.scaler.joblib'))\n",
    "        svm_model = load(os.path.join(model_dir, f'{stat}.{phase}.SVR.joblib'))\n",
    "        mean_depth = all_train_df[all_train_df.station == stat].drop_duplicates('Evid')['source_depth_km'].mean()\n",
    "        mean_baz = all_train_df[all_train_df.station == stat].drop_duplicates('Evid')['source_receiver_back_azimuth'].mean()\n",
    "        print(mean_depth, mean_baz)\n",
    "        stat_depth = {}\n",
    "        stat_baz = {}\n",
    "        for ds in ['test', 'holdout']:\n",
    "            if selected_feat_dict[stat][f'X_{ds}'] is None:\n",
    "                stat_depth[f'{ds}_r2'] = None\n",
    "                stat_baz[f'{ds}_r2'] = None\n",
    "                continue\n",
    "\n",
    "            X_depth = np.copy(selected_feat_dict[stat][f'X_{ds}'])\n",
    "            X_depth[:, depth_ind] = mean_depth\n",
    "\n",
    "            X_baz = np.copy(selected_feat_dict[stat][f'X_{ds}'])\n",
    "            X_baz[:, baz_ind] = mean_baz   \n",
    "\n",
    "            yhat_depth = svm_model.predict(scaler.transform(X_depth))\n",
    "            yhat_baz = svm_model.predict(scaler.transform(X_baz))\n",
    "\n",
    "            depth_r2 = r2_score(station_meta_dict[stat][f'y_{ds}'], yhat_depth)\n",
    "            baz_r2 = r2_score(station_meta_dict[stat][f'y_{ds}'], yhat_baz)\n",
    "\n",
    "            stat_depth[f'{ds}_r2'] = depth_r2\n",
    "            stat_baz[f'{ds}_r2'] = baz_r2\n",
    "\n",
    "        depth_r2_summary[stat] = stat_depth\n",
    "        baz_r2_summary[stat] = stat_baz\n",
    "\n",
    "    return pd.DataFrame(depth_r2_summary).T, pd.DataFrame(baz_r2_summary).T"
   ]
  },
  {
   "cell_type": "code",
   "execution_count": 4,
   "metadata": {},
   "outputs": [],
   "source": [
    "def get_depth_baz_dist_results(selected_feat_dict, \n",
    "                          station_meta_dict,\n",
    "                          phase,\n",
    "                          model_dir,\n",
    "                          all_train_df,\n",
    "                          depth_ind,\n",
    "                          baz_ind,\n",
    "                          dist_ind,\n",
    "                          use_mean=True,\n",
    "                          replace_all=False):\n",
    "    depth_r2_summary = {}\n",
    "    baz_r2_summary = {}\n",
    "    dist_r2_summary = {}\n",
    "\n",
    "    replaceall_r2_summary = None\n",
    "    if replace_all:\n",
    "        replaceall_r2_summary = {}\n",
    "\n",
    "    for stat in selected_feat_dict.keys():\n",
    "        print(f'{stat}.{phase}.scaler.joblib',  f'{stat}.{phase}.SVR.joblib')\n",
    "        scaler = load(os.path.join(model_dir, f'{stat}.{phase}.scaler.joblib'))\n",
    "        svm_model = load(os.path.join(model_dir, f'{stat}.{phase}.SVR.joblib'))\n",
    "\n",
    "        if use_mean:\n",
    "            default_depth = selected_feat_dict[stat][f'X_train'][:, depth_ind].mean() #all_train_df[all_train_df.station == stat].drop_duplicates('Evid')['source_depth_km'].mean()\n",
    "            default_baz = selected_feat_dict[stat][f'X_train'][:, baz_ind].mean() #all_train_df[all_train_df.station == stat].drop_duplicates('Evid')['source_receiver_back_azimuth'].mean()\n",
    "            default_dist = selected_feat_dict[stat][f'X_train'][:, dist_ind].mean() #all_train_df[all_train_df.station == stat].drop_duplicates('Evid')['source_receiver_distance_km'].mean()\n",
    "            print(default_depth, default_baz, default_dist)\n",
    "\n",
    "        else:\n",
    "            rng1 = np.random.default_rng(122807528840384100672342137672332424406)\n",
    "            def return_min_max(X):\n",
    "                return {'min': X.min(), 'max':X.max()}\n",
    "            depth_stats = return_min_max(selected_feat_dict[stat][f'X_train'][:, depth_ind]) \n",
    "            #all_train_df[all_train_df.station == stat].drop_duplicates('Evid')['source_depth_km'].describe().loc[['min', 'max']]\n",
    "            baz_stats = return_min_max(selected_feat_dict[stat][f'X_train'][:, baz_ind]) \n",
    "            #all_train_df[all_train_df.station == stat].drop_duplicates('Evid')['source_receiver_back_azimuth'].describe().loc[['min', 'max']]\n",
    "            dist_stats = return_min_max(selected_feat_dict[stat][f'X_train'][:, dist_ind]) \n",
    "            #all_train_df[all_train_df.station == stat].drop_duplicates('Evid')['source_receiver_distance_km'].describe().loc[['min', 'max']]\n",
    "            print(depth_stats, baz_stats, dist_stats)\n",
    "        \n",
    "        stat_depth = {}\n",
    "        stat_baz = {}\n",
    "        stat_dist = {}\n",
    "\n",
    "        stat_replaceall = None\n",
    "        if replace_all:\n",
    "            stat_replaceall = {}\n",
    "\n",
    "        for ds in ['test', 'holdout']:\n",
    "            if selected_feat_dict[stat][f'X_{ds}'] is None:\n",
    "                stat_depth[f'{ds}_r2'] = None\n",
    "                stat_baz[f'{ds}_r2'] = None\n",
    "                stat_dist[f'{ds}_r2'] = None\n",
    "                continue\n",
    "            \n",
    "            if not use_mean:\n",
    "                n_test_examples = selected_feat_dict[stat][f'X_{ds}'].shape[0]\n",
    "                default_depth = rng1.uniform(depth_stats['min'], depth_stats['max'], (n_test_examples, 1))\n",
    "                default_baz = rng1.uniform(baz_stats['min'], baz_stats['max'], (n_test_examples, 1))\n",
    "                default_dist = rng1.uniform(dist_stats['min'], dist_stats['max'], (n_test_examples, 1))\n",
    "            \n",
    "            X_depth = np.copy(selected_feat_dict[stat][f'X_{ds}'])\n",
    "            X_depth[:, depth_ind] = default_depth\n",
    "\n",
    "            X_baz = np.copy(selected_feat_dict[stat][f'X_{ds}'])\n",
    "            X_baz[:, baz_ind] = default_baz   \n",
    "\n",
    "            X_dist = np.copy(selected_feat_dict[stat][f'X_{ds}'])\n",
    "            X_dist[:, dist_ind] = default_dist  \n",
    "\n",
    "            yhat_depth = svm_model.predict(scaler.transform(X_depth))\n",
    "            yhat_baz = svm_model.predict(scaler.transform(X_baz))\n",
    "            yhat_dist = svm_model.predict(scaler.transform(X_dist))\n",
    "\n",
    "            depth_r2 = r2_score(station_meta_dict[stat][f'y_{ds}'], yhat_depth)\n",
    "            baz_r2 = r2_score(station_meta_dict[stat][f'y_{ds}'], yhat_baz)\n",
    "            dist_r2 = r2_score(station_meta_dict[stat][f'y_{ds}'], yhat_dist)\n",
    "\n",
    "            stat_depth[f'{ds}_r2'] = depth_r2\n",
    "            stat_baz[f'{ds}_r2'] = baz_r2\n",
    "            stat_dist[f'{ds}_r2'] = dist_r2\n",
    "\n",
    "            if replace_all:\n",
    "                X_rall = np.copy(selected_feat_dict[stat][f'X_{ds}'])\n",
    "                X_rall[:, depth_ind] = default_depth\n",
    "                X_rall[:, baz_ind] = default_baz   \n",
    "                X_rall[:, dist_ind] = default_dist \n",
    "                yhat_rall = svm_model.predict(scaler.transform(X_rall))\n",
    "                rall_r2 = r2_score(station_meta_dict[stat][f'y_{ds}'], yhat_rall)\n",
    "                stat_replaceall[f'{ds}_r2'] = rall_r2\n",
    "\n",
    "        depth_r2_summary[stat] = stat_depth\n",
    "        baz_r2_summary[stat] = stat_baz\n",
    "        dist_r2_summary[stat] = stat_dist\n",
    "        if replace_all:\n",
    "            replaceall_r2_summary[stat] = stat_replaceall\n",
    "\n",
    "    if replace_all:\n",
    "        replaceall_r2_summary = pd.DataFrame(replaceall_r2_summary).T\n",
    "\n",
    "    return pd.DataFrame(depth_r2_summary).T, pd.DataFrame(baz_r2_summary).T, pd.DataFrame(dist_r2_summary).T, replaceall_r2_summary"
   ]
  },
  {
   "cell_type": "markdown",
   "metadata": {},
   "source": [
    "# Get P results"
   ]
  },
  {
   "cell_type": "code",
   "execution_count": 5,
   "metadata": {},
   "outputs": [],
   "source": [
    "selected_P_features = ['amp_1', 'amp_2','signal_variance',\n",
    "                    'noise_variance', 'source_depth_km',\n",
    "                    'source_receiver_distance_logkm',\n",
    "                    'source_receiver_back_azimuth_deg']"
   ]
  },
  {
   "cell_type": "code",
   "execution_count": 6,
   "metadata": {},
   "outputs": [],
   "source": [
    "pproc = GatherFeatureDatasets(is_p=True)"
   ]
  },
  {
   "cell_type": "code",
   "execution_count": 7,
   "metadata": {},
   "outputs": [],
   "source": [
    "pmodel_dir = os.path.join(magdir, 'p_models/selected_features_constHP')\n",
    "p_all_train_df = pd.read_csv(f'{data_dir}/p.train.csv')\n",
    "p_all_test_df = pd.read_csv(f'{data_dir}/p.test.csv')\n",
    "p_all_holdout_df = pd.read_csv(f'{data_dir}/p.20230101.csv')\n",
    "p_results = pd.read_csv(os.path.join(pmodel_dir, 'all.stat.results.csv'))"
   ]
  },
  {
   "cell_type": "code",
   "execution_count": 8,
   "metadata": {},
   "outputs": [
    {
     "name": "stdout",
     "output_type": "stream",
     "text": [
      "YHB\n",
      "X shape: (3580, 45), y shape: (3580,)\n",
      "X shape: (897, 45), y shape: (897,)\n",
      "X shape: (363, 45), y shape: (363,)\n",
      "YDC\n",
      "X shape: (2928, 45), y shape: (2928,)\n",
      "X shape: (725, 45), y shape: (725,)\n",
      "X shape: (29, 45), y shape: (29,)\n",
      "YWB\n",
      "X shape: (3780, 45), y shape: (3780,)\n",
      "X shape: (913, 45), y shape: (913,)\n",
      "X shape: (357, 45), y shape: (357,)\n",
      "MCID\n",
      "X shape: (3389, 45), y shape: (3389,)\n",
      "X shape: (832, 45), y shape: (832,)\n",
      "X shape: (311, 45), y shape: (311,)\n",
      "YHL\n",
      "X shape: (3213, 45), y shape: (3213,)\n",
      "X shape: (812, 45), y shape: (812,)\n",
      "X shape: (374, 45), y shape: (374,)\n",
      "YMR\n",
      "X shape: (4154, 45), y shape: (4154,)\n",
      "X shape: (1071, 45), y shape: (1071,)\n",
      "X shape: (446, 45), y shape: (446,)\n",
      "YHH\n",
      "X shape: (4813, 45), y shape: (4813,)\n",
      "X shape: (1215, 45), y shape: (1215,)\n",
      "X shape: (397, 45), y shape: (397,)\n",
      "B207\n",
      "X shape: (1718, 45), y shape: (1718,)\n",
      "X shape: (411, 45), y shape: (411,)\n",
      "YPP\n",
      "X shape: (1558, 45), y shape: (1558,)\n",
      "X shape: (399, 45), y shape: (399,)\n",
      "X shape: (217, 45), y shape: (217,)\n",
      "YPM\n",
      "X shape: (4078, 45), y shape: (4078,)\n",
      "X shape: (1018, 45), y shape: (1018,)\n",
      "X shape: (438, 45), y shape: (438,)\n",
      "YLT\n",
      "X shape: (1345, 45), y shape: (1345,)\n",
      "X shape: (348, 45), y shape: (348,)\n",
      "X shape: (97, 45), y shape: (97,)\n",
      "H17A\n",
      "X shape: (524, 45), y shape: (524,)\n",
      "X shape: (149, 45), y shape: (149,)\n",
      "B208\n",
      "X shape: (507, 45), y shape: (507,)\n",
      "X shape: (153, 45), y shape: (153,)\n",
      "LKWY\n",
      "X shape: (1062, 45), y shape: (1062,)\n",
      "X shape: (265, 45), y shape: (265,)\n",
      "X shape: (19, 45), y shape: (19,)\n",
      "FLWY\n",
      "X shape: (791, 45), y shape: (791,)\n",
      "X shape: (203, 45), y shape: (203,)\n",
      "X shape: (19, 45), y shape: (19,)\n",
      "YGC\n",
      "X shape: (2233, 45), y shape: (2233,)\n",
      "X shape: (558, 45), y shape: (558,)\n",
      "X shape: (273, 45), y shape: (273,)\n",
      "YMC\n",
      "X shape: (4322, 45), y shape: (4322,)\n",
      "X shape: (1110, 45), y shape: (1110,)\n",
      "X shape: (460, 45), y shape: (460,)\n",
      "YML\n",
      "X shape: (3077, 45), y shape: (3077,)\n",
      "X shape: (801, 45), y shape: (801,)\n",
      "X shape: (387, 45), y shape: (387,)\n",
      "YUF\n",
      "X shape: (1676, 45), y shape: (1676,)\n",
      "X shape: (463, 45), y shape: (463,)\n",
      "X shape: (225, 45), y shape: (225,)\n",
      "B206\n",
      "X shape: (664, 45), y shape: (664,)\n",
      "X shape: (183, 45), y shape: (183,)\n",
      "B944\n",
      "X shape: (348, 45), y shape: (348,)\n",
      "X shape: (108, 45), y shape: (108,)\n",
      "YLA\n",
      "X shape: (719, 45), y shape: (719,)\n",
      "X shape: (182, 45), y shape: (182,)\n",
      "X shape: (74, 45), y shape: (74,)\n",
      "YTP\n",
      "X shape: (926, 45), y shape: (926,)\n",
      "X shape: (223, 45), y shape: (223,)\n",
      "X shape: (127, 45), y shape: (127,)\n",
      "YNR\n",
      "X shape: (4649, 45), y shape: (4649,)\n",
      "X shape: (1174, 45), y shape: (1174,)\n",
      "X shape: (275, 45), y shape: (275,)\n",
      "YNM\n",
      "X shape: (1136, 45), y shape: (1136,)\n",
      "X shape: (293, 45), y shape: (293,)\n",
      "X shape: (8, 45), y shape: (8,)\n",
      "YFT\n",
      "X shape: (3529, 45), y shape: (3529,)\n",
      "X shape: (920, 45), y shape: (920,)\n",
      "X shape: (293, 45), y shape: (293,)\n",
      "YMV\n",
      "X shape: (879, 45), y shape: (879,)\n",
      "X shape: (213, 45), y shape: (213,)\n",
      "X shape: (104, 45), y shape: (104,)\n",
      "YPC\n",
      "X shape: (370, 45), y shape: (370,)\n",
      "X shape: (85, 45), y shape: (85,)\n",
      "X shape: (58, 45), y shape: (58,)\n",
      "YSB\n",
      "X shape: (324, 45), y shape: (324,)\n",
      "X shape: (79, 45), y shape: (79,)\n",
      "X shape: (21, 45), y shape: (21,)\n",
      "YJC\n",
      "X shape: (419, 45), y shape: (419,)\n",
      "X shape: (106, 45), y shape: (106,)\n",
      "X shape: (101, 45), y shape: (101,)\n",
      "YMS\n",
      "X shape: (430, 45), y shape: (430,)\n",
      "X shape: (110, 45), y shape: (110,)\n",
      "X shape: (64, 45), y shape: (64,)\n",
      "YNE\n",
      "X shape: (345, 45), y shape: (345,)\n",
      "X shape: (94, 45), y shape: (94,)\n",
      "X shape: (68, 45), y shape: (68,)\n",
      "YPK\n",
      "X shape: (371, 45), y shape: (371,)\n",
      "X shape: (89, 45), y shape: (89,)\n",
      "X shape: (59, 45), y shape: (59,)\n",
      "B950\n",
      "X shape: (581, 45), y shape: (581,)\n",
      "X shape: (170, 45), y shape: (170,)\n",
      "YDD\n",
      "X shape: (593, 45), y shape: (593,)\n",
      "X shape: (159, 45), y shape: (159,)\n",
      "X shape: (197, 45), y shape: (197,)\n",
      "YHB\n",
      "X_train: (3580, 7), X_test: (897, 7), X_holdout: (363, 7)\n",
      "YDC\n",
      "X_train: (2928, 7), X_test: (725, 7), X_holdout: (29, 7)\n",
      "YWB\n",
      "X_train: (3780, 7), X_test: (913, 7), X_holdout: (357, 7)\n",
      "MCID\n",
      "X_train: (3389, 7), X_test: (832, 7), X_holdout: (311, 7)\n",
      "YHL\n",
      "X_train: (3213, 7), X_test: (812, 7), X_holdout: (374, 7)\n",
      "YMR\n",
      "X_train: (4154, 7), X_test: (1071, 7), X_holdout: (446, 7)\n",
      "YHH\n",
      "X_train: (4813, 7), X_test: (1215, 7), X_holdout: (397, 7)\n",
      "B207\n",
      "X_train: (1718, 7), X_test: (411, 7), X_holdout: 0\n",
      "YPP\n",
      "X_train: (1558, 7), X_test: (399, 7), X_holdout: (217, 7)\n",
      "YPM\n",
      "X_train: (4078, 7), X_test: (1018, 7), X_holdout: (438, 7)\n",
      "YLT\n",
      "X_train: (1345, 7), X_test: (348, 7), X_holdout: (97, 7)\n",
      "H17A\n",
      "X_train: (524, 7), X_test: (149, 7), X_holdout: 0\n",
      "B208\n",
      "X_train: (507, 7), X_test: (153, 7), X_holdout: 0\n",
      "LKWY\n",
      "X_train: (1062, 7), X_test: (265, 7), X_holdout: (19, 7)\n",
      "FLWY\n",
      "X_train: (791, 7), X_test: (203, 7), X_holdout: (19, 7)\n",
      "YGC\n",
      "X_train: (2233, 7), X_test: (558, 7), X_holdout: (273, 7)\n",
      "YMC\n",
      "X_train: (4322, 7), X_test: (1110, 7), X_holdout: (460, 7)\n",
      "YML\n",
      "X_train: (3077, 7), X_test: (801, 7), X_holdout: (387, 7)\n",
      "YUF\n",
      "X_train: (1676, 7), X_test: (463, 7), X_holdout: (225, 7)\n",
      "B206\n",
      "X_train: (664, 7), X_test: (183, 7), X_holdout: 0\n",
      "B944\n",
      "X_train: (348, 7), X_test: (108, 7), X_holdout: 0\n",
      "YLA\n",
      "X_train: (719, 7), X_test: (182, 7), X_holdout: (74, 7)\n",
      "YTP\n",
      "X_train: (926, 7), X_test: (223, 7), X_holdout: (127, 7)\n",
      "YNR\n",
      "X_train: (4649, 7), X_test: (1174, 7), X_holdout: (275, 7)\n",
      "YNM\n",
      "X_train: (1136, 7), X_test: (293, 7), X_holdout: (8, 7)\n",
      "YFT\n",
      "X_train: (3529, 7), X_test: (920, 7), X_holdout: (293, 7)\n",
      "YMV\n",
      "X_train: (879, 7), X_test: (213, 7), X_holdout: (104, 7)\n",
      "YPC\n",
      "X_train: (370, 7), X_test: (85, 7), X_holdout: (58, 7)\n",
      "YSB\n",
      "X_train: (324, 7), X_test: (79, 7), X_holdout: (21, 7)\n",
      "YJC\n",
      "X_train: (419, 7), X_test: (106, 7), X_holdout: (101, 7)\n",
      "YMS\n",
      "X_train: (430, 7), X_test: (110, 7), X_holdout: (64, 7)\n",
      "YNE\n",
      "X_train: (345, 7), X_test: (94, 7), X_holdout: (68, 7)\n",
      "YPK\n",
      "X_train: (371, 7), X_test: (89, 7), X_holdout: (59, 7)\n",
      "B950\n",
      "X_train: (581, 7), X_test: (170, 7), X_holdout: 0\n",
      "YDD\n",
      "X_train: (593, 7), X_test: (159, 7), X_holdout: (197, 7)\n",
      "[4] [6] [5]\n",
      "YHB.P.scaler.joblib YHB.P.SVR.joblib\n",
      "7.95504748603352 92.66232220848401\n",
      "YDC.P.scaler.joblib YDC.P.SVR.joblib\n",
      "8.105665983606556 77.88072508877039\n",
      "YWB.P.scaler.joblib YWB.P.SVR.joblib\n",
      "7.723026455026456 76.54139746822365\n",
      "MCID.P.scaler.joblib MCID.P.SVR.joblib\n",
      "8.015311301268811 28.12487981587264\n",
      "YHL.P.scaler.joblib YHL.P.SVR.joblib\n",
      "8.04493308434485 125.16413779815822\n",
      "YMR.P.scaler.joblib YMR.P.SVR.joblib\n",
      "7.207132883967261 160.09847628639255\n",
      "YHH.P.scaler.joblib YHH.P.SVR.joblib\n",
      "7.416143777269895 190.2570698391066\n",
      "B207.P.scaler.joblib B207.P.SVR.joblib\n",
      "7.624307334109431 181.26632517877175\n",
      "YPP.P.scaler.joblib YPP.P.SVR.joblib\n",
      "7.023844672657253 191.13646238589772\n",
      "YPM.P.scaler.joblib YPM.P.SVR.joblib\n",
      "7.222636096125552 180.08461022078384\n",
      "YLT.P.scaler.joblib YLT.P.SVR.joblib\n",
      "5.755531598513011 193.2915775926218\n",
      "H17A.P.scaler.joblib H17A.P.SVR.joblib\n",
      "6.108148854961832 246.73152714474338\n",
      "B208.P.scaler.joblib B208.P.SVR.joblib\n",
      "5.416883629191322 271.3332776590928\n",
      "LKWY.P.scaler.joblib LKWY.P.SVR.joblib\n",
      "5.86774011299435 260.5433330376066\n",
      "FLWY.P.scaler.joblib FLWY.P.SVR.joblib\n",
      "7.439329962073325 166.26042811818488\n",
      "YGC.P.scaler.joblib YGC.P.SVR.joblib\n",
      "8.360904612628751 123.00566218701547\n",
      "YMC.P.scaler.joblib YMC.P.SVR.joblib\n",
      "7.433662656177695 169.64424183163064\n",
      "YML.P.scaler.joblib YML.P.SVR.joblib\n",
      "6.682908677283068 247.63699713344326\n",
      "YUF.P.scaler.joblib YUF.P.SVR.joblib\n",
      "5.92890214797136 244.70826703862528\n",
      "B206.P.scaler.joblib B206.P.SVR.joblib\n",
      "5.76894578313253 251.52700725671014\n",
      "B944.P.scaler.joblib B944.P.SVR.joblib\n",
      "5.7877298850574705 215.42202414584517\n",
      "YLA.P.scaler.joblib YLA.P.SVR.joblib\n",
      "5.568289290681502 239.13111811531337\n",
      "YTP.P.scaler.joblib YTP.P.SVR.joblib\n",
      "5.531533477321814 283.71208832002986\n",
      "YNR.P.scaler.joblib YNR.P.SVR.joblib\n",
      "7.085790492579049 251.4464092359176\n",
      "YNM.P.scaler.joblib YNM.P.SVR.joblib\n",
      "6.129022887323943 261.4147840127068\n",
      "YFT.P.scaler.joblib YFT.P.SVR.joblib\n",
      "7.265075092094077 183.961253372956\n",
      "YMV.P.scaler.joblib YMV.P.SVR.joblib\n",
      "7.054994311717861 204.14761834934686\n",
      "YPC.P.scaler.joblib YPC.P.SVR.joblib\n",
      "6.098162162162162 214.43733325232438\n",
      "YSB.P.scaler.joblib YSB.P.SVR.joblib\n",
      "7.518425925925927 234.79292942814226\n",
      "YJC.P.scaler.joblib YJC.P.SVR.joblib\n",
      "5.57436754176611 240.79338275107415\n",
      "YMS.P.scaler.joblib YMS.P.SVR.joblib\n",
      "5.821116279069767 126.82173191423085\n",
      "YNE.P.scaler.joblib YNE.P.SVR.joblib\n",
      "7.8055942028985505 236.2230598774963\n",
      "YPK.P.scaler.joblib YPK.P.SVR.joblib\n",
      "7.678463611859838 248.1612791579672\n",
      "B950.P.scaler.joblib B950.P.SVR.joblib\n",
      "6.8906196213425135 255.3890863423698\n",
      "YDD.P.scaler.joblib YDD.P.SVR.joblib\n",
      "6.123456998313659 191.8163370165855\n",
      "YHB.P.scaler.joblib YHB.P.SVR.joblib\n",
      "{'min': -1.43, 'max': 22.62} {'min': 7.059249905475269, 'max': 357.1454870425902} {'min': -0.6385344958344641, 'max': 4.5819218876293855}\n",
      "YDC.P.scaler.joblib YDC.P.SVR.joblib\n",
      "{'min': 0.8, 'max': 22.62} {'min': 0.0027969134003456, 'max': 359.22981969773394} {'min': -0.17963599080612166, 'max': 4.577836612706243}\n",
      "YWB.P.scaler.joblib YWB.P.SVR.joblib\n",
      "{'min': -3.47, 'max': 21.78} {'min': 0.0361776453713673, 'max': 359.95168738601603} {'min': -0.005549413250448903, 'max': 4.477576569703243}\n",
      "MCID.P.scaler.joblib MCID.P.SVR.joblib\n",
      "{'min': -1.83, 'max': 22.62} {'min': 0.1094064004777806, 'max': 359.7842116647575} {'min': 2.9344960725629905, 'max': 4.700668178867614}\n",
      "YHL.P.scaler.joblib YHL.P.SVR.joblib\n",
      "{'min': -1.43, 'max': 22.62} {'min': 25.3262465578232, 'max': 331.6140676995066} {'min': 1.6566914823756471, 'max': 4.637220369606941}\n",
      "YMR.P.scaler.joblib YMR.P.SVR.joblib\n",
      "{'min': -3.47, 'max': 23.48} {'min': 0.0659503664244312, 'max': 360.0} {'min': 0.6909652134247382, 'max': 4.402096562279379}\n",
      "YHH.P.scaler.joblib YHH.P.SVR.joblib\n",
      "{'min': -3.47, 'max': 23.48} {'min': 11.247351948893709, 'max': 359.0680047881888} {'min': -0.965011496127847, 'max': 4.469236472671516}\n",
      "B207.P.scaler.joblib B207.P.SVR.joblib\n",
      "{'min': -3.47, 'max': 23.48} {'min': 0.0410180619059588, 'max': 359.1538110861119} {'min': 0.602296748184565, 'max': 4.204695850717856}\n",
      "YPP.P.scaler.joblib YPP.P.SVR.joblib\n",
      "{'min': -3.47, 'max': 19.25} {'min': 0.0291369183099163, 'max': 360.0} {'min': 0.7226464888480764, 'max': 4.366959860435195}\n",
      "YPM.P.scaler.joblib YPM.P.SVR.joblib\n",
      "{'min': -3.41, 'max': 23.48} {'min': 0.2126996999373887, 'max': 359.29102128957635} {'min': 0.9877455043143384, 'max': 4.300204742325404}\n",
      "YLT.P.scaler.joblib YLT.P.SVR.joblib\n",
      "{'min': -3.47, 'max': 19.25} {'min': 0.24049789217338, 'max': 359.74324964020246} {'min': -0.25553496939046927, 'max': 4.050498004638731}\n",
      "H17A.P.scaler.joblib H17A.P.SVR.joblib\n",
      "{'min': -1.63, 'max': 19.25} {'min': 0.0945876748935461, 'max': 359.4535186491596} {'min': -0.31689319631230034, 'max': 4.100242127878816}\n",
      "B208.P.scaler.joblib B208.P.SVR.joblib\n",
      "{'min': -0.38, 'max': 17.95} {'min': 10.043789095866543, 'max': 357.64772534068027} {'min': 0.20834802260015797, 'max': 4.132134849348126}\n",
      "LKWY.P.scaler.joblib LKWY.P.SVR.joblib\n",
      "{'min': -1.43, 'max': 23.08} {'min': 1.2664145576917178, 'max': 357.0511590254659} {'min': 0.19427068881311654, 'max': 4.137607458709976}\n",
      "FLWY.P.scaler.joblib FLWY.P.SVR.joblib\n",
      "{'min': 0.86, 'max': 22.5} {'min': 0.6713954342664579, 'max': 359.6607456443402} {'min': 0.685552820654431, 'max': 4.588924423217076}\n",
      "YGC.P.scaler.joblib YGC.P.SVR.joblib\n",
      "{'min': 0.86, 'max': 22.62} {'min': 5.267278188709042, 'max': 303.5215550280269} {'min': -0.9212553317617713, 'max': 4.545299294258687}\n",
      "YMC.P.scaler.joblib YMC.P.SVR.joblib\n",
      "{'min': -3.41, 'max': 23.48} {'min': 0.2175806982588994, 'max': 359.9898760017733} {'min': -3.1038337515494696, 'max': 4.4912888783947}\n",
      "YML.P.scaler.joblib YML.P.SVR.joblib\n",
      "{'min': -3.47, 'max': 22.62} {'min': 0.4972248137035535, 'max': 359.94850164721265} {'min': -0.34088653624508153, 'max': 4.084503437909395}\n",
      "YUF.P.scaler.joblib YUF.P.SVR.joblib\n",
      "{'min': -1.83, 'max': 23.48} {'min': 0.0725551094872969, 'max': 359.2736748203357} {'min': -2.2388146810573004, 'max': 4.165960522650181}\n",
      "B206.P.scaler.joblib B206.P.SVR.joblib\n",
      "{'min': -3.41, 'max': 23.48} {'min': 0.0760036324565192, 'max': 359.2350802641066} {'min': -0.1905917681131956, 'max': 4.240369255201906}\n",
      "B944.P.scaler.joblib B944.P.SVR.joblib\n",
      "{'min': -0.07, 'max': 17.95} {'min': 0.62103406646483, 'max': 359.62944053184447} {'min': 1.0213633408810217, 'max': 4.122083515279699}\n",
      "YLA.P.scaler.joblib YLA.P.SVR.joblib\n",
      "{'min': -1.83, 'max': 22.5} {'min': 0.3278947394208558, 'max': 357.1930662194645} {'min': 1.495040615068216, 'max': 4.302773159543565}\n",
      "YTP.P.scaler.joblib YTP.P.SVR.joblib\n",
      "{'min': -1.83, 'max': 22.5} {'min': 0.4866277240666363, 'max': 355.5507056554068} {'min': 0.7323109384665827, 'max': 4.368593723336863}\n",
      "YNR.P.scaler.joblib YNR.P.SVR.joblib\n",
      "{'min': -1.79, 'max': 23.48} {'min': 0.2335628422660249, 'max': 359.8697307214401} {'min': -1.8145926848929417, 'max': 4.271982371827799}\n",
      "YNM.P.scaler.joblib YNM.P.SVR.joblib\n",
      "{'min': 0.97, 'max': 16.98} {'min': 2.6954641669820205, 'max': 359.03226187344} {'min': -0.042722692337197124, 'max': 4.030475321645938}\n",
      "YFT.P.scaler.joblib YFT.P.SVR.joblib\n",
      "{'min': -1.94, 'max': 21.78} {'min': 0.0197914459644437, 'max': 359.9996026227726} {'min': 0.9753324214752843, 'max': 4.183870998934721}\n",
      "YMV.P.scaler.joblib YMV.P.SVR.joblib\n",
      "{'min': 0.86, 'max': 22.62} {'min': 68.87606854262387, 'max': 276.8975687709204} {'min': 2.331944022293664, 'max': 4.377421447776808}\n",
      "YPC.P.scaler.joblib YPC.P.SVR.joblib\n",
      "{'min': -1.83, 'max': 17.46} {'min': 37.98430615006831, 'max': 348.5268935204821} {'min': 1.2539711244858927, 'max': 4.30181862064617}\n",
      "YSB.P.scaler.joblib YSB.P.SVR.joblib\n",
      "{'min': -0.16, 'max': 17.46} {'min': 148.6932899677208, 'max': 299.12630414984403} {'min': 2.5861611121993096, 'max': 4.596783561832403}\n",
      "YJC.P.scaler.joblib YJC.P.SVR.joblib\n",
      "{'min': -0.87, 'max': 14.74} {'min': 47.48710262146415, 'max': 355.8022303803233} {'min': 1.1482024137054594, 'max': 4.216731793062201}\n",
      "YMS.P.scaler.joblib YMS.P.SVR.joblib\n",
      "{'min': -1.83, 'max': 17.46} {'min': 1.5254253000719018, 'max': 358.0928985203541} {'min': 1.71440338984634, 'max': 4.294678476841301}\n",
      "YNE.P.scaler.joblib YNE.P.SVR.joblib\n",
      "{'min': 1.87, 'max': 22.62} {'min': 176.72198087372547, 'max': 272.7812319597718} {'min': 3.3145065648364436, 'max': 4.721999415548133}\n",
      "YPK.P.scaler.joblib YPK.P.SVR.joblib\n",
      "{'min': -0.16, 'max': 17.46} {'min': 202.28522966260152, 'max': 305.3137951482527} {'min': 1.944647310705975, 'max': 4.640744236227337}\n",
      "B950.P.scaler.joblib B950.P.SVR.joblib\n",
      "{'min': -0.68, 'max': 17.34} {'min': 0.3551508141544843, 'max': 360.0} {'min': 0.5330729019029261, 'max': 3.9223733944388854}\n",
      "YDD.P.scaler.joblib YDD.P.SVR.joblib\n",
      "{'min': -1.79, 'max': 17.46} {'min': 0.7115571657242015, 'max': 359.9479741619424} {'min': 0.05429092198728451, 'max': 4.106057528333029}\n"
     ]
    }
   ],
   "source": [
    "pproc = GatherFeatureDatasets(is_p=True)\n",
    "p_station_feature_dict, p_station_meta_dict, p_feature_names = pproc.process_all_stations_datasets(p_all_train_df, \n",
    "                                                                  p_all_test_df,\n",
    "                                                                  holdout_df=p_all_holdout_df,\n",
    "                                                                  scaler=False,\n",
    "                                                                  linear_model=False,\n",
    "                                                                  source_dist_type='dist')\n",
    "\n",
    "p_selected_feat_dict, p_selected_feature_names = pproc.filter_station_dict_features(p_station_feature_dict,\n",
    "                                                                             p_feature_names,\n",
    "                                                                             selected_P_features)\n",
    "\n",
    "p_depth_ind = np.where(p_selected_feature_names == 'source_depth_km')[0]\n",
    "p_baz_ind = np.where(p_selected_feature_names == 'source_receiver_back_azimuth_deg')[0]\n",
    "p_dist_ind = np.where(p_selected_feature_names == 'source_receiver_distance_logkm')[0]\n",
    "print(p_depth_ind, p_baz_ind, p_dist_ind)\n",
    "\n",
    "p_depth_r2_df, p_baz_r2_df = get_depth_baz_results(p_selected_feat_dict,\n",
    "                                               p_station_meta_dict,\n",
    "                                               'P',\n",
    "                                               pmodel_dir,\n",
    "                                               p_all_train_df,\n",
    "                                               p_depth_ind,\n",
    "                                               p_baz_ind)\n",
    "\n",
    "p_depth_r2_df, p_baz_r2_df, p_dist_r2_df, p_rall_r2_df = get_depth_baz_dist_results(p_selected_feat_dict,\n",
    "                                                                                    p_station_meta_dict,\n",
    "                                                                                    'P',\n",
    "                                                                                    pmodel_dir,\n",
    "                                                                                    p_all_train_df,\n",
    "                                                                                    p_depth_ind,\n",
    "                                                                                    p_baz_ind,\n",
    "                                                                                    p_dist_ind,\n",
    "                                                                                    use_mean=use_mean,\n",
    "                                                                                    replace_all=replace_all)"
   ]
  },
  {
   "cell_type": "code",
   "execution_count": 9,
   "metadata": {},
   "outputs": [
    {
     "data": {
      "text/plain": [
       "array(['amp_1', 'amp_2', 'signal_variance', 'noise_variance',\n",
       "       'source_depth_km', 'source_receiver_distance_logkm',\n",
       "       'source_receiver_back_azimuth_deg'], dtype='<U32')"
      ]
     },
     "execution_count": 9,
     "metadata": {},
     "output_type": "execute_result"
    }
   ],
   "source": [
    "p_selected_feature_names"
   ]
  },
  {
   "cell_type": "markdown",
   "metadata": {},
   "source": [
    "# Get S Results"
   ]
  },
  {
   "cell_type": "code",
   "execution_count": 10,
   "metadata": {},
   "outputs": [],
   "source": [
    "smodel_dir = os.path.join(magdir, 's_models/selected_features_constHP')\n",
    "s_all_train_df = pd.read_csv(f'{data_dir}/s.train.csv')\n",
    "s_all_test_df = pd.read_csv(f'{data_dir}/s.test.csv')\n",
    "s_all_holdout_df = pd.read_csv(f'{data_dir}/s.20230101.csv')\n",
    "s_results = pd.read_csv(os.path.join(smodel_dir, 'all.stat.results.csv'))"
   ]
  },
  {
   "cell_type": "code",
   "execution_count": 11,
   "metadata": {},
   "outputs": [],
   "source": [
    "selected_S_features = ['amp_1', 'amp_2', 'amp_4',\n",
    "                        'noise_variance', 'source_depth_km',\n",
    "                        'source_receiver_distance_logkm',\n",
    "                        'source_receiver_back_azimuth_deg']"
   ]
  },
  {
   "cell_type": "code",
   "execution_count": 12,
   "metadata": {},
   "outputs": [
    {
     "name": "stdout",
     "output_type": "stream",
     "text": [
      "YHB\n",
      "X shape: (1248, 45), y shape: (1248,)\n",
      "X shape: (331, 45), y shape: (331,)\n",
      "X shape: (225, 45), y shape: (225,)\n",
      "YHL\n",
      "X shape: (537, 45), y shape: (537,)\n",
      "X shape: (133, 45), y shape: (133,)\n",
      "X shape: (39, 45), y shape: (39,)\n",
      "YMR\n",
      "X shape: (1533, 45), y shape: (1533,)\n",
      "X shape: (392, 45), y shape: (392,)\n",
      "X shape: (172, 45), y shape: (172,)\n",
      "YHH\n",
      "X shape: (1222, 45), y shape: (1222,)\n",
      "X shape: (328, 45), y shape: (328,)\n",
      "X shape: (113, 45), y shape: (113,)\n",
      "B207\n",
      "X shape: (341, 45), y shape: (341,)\n",
      "X shape: (83, 45), y shape: (83,)\n",
      "FLWY\n",
      "X shape: (319, 45), y shape: (319,)\n",
      "X shape: (89, 45), y shape: (89,)\n",
      "X shape: (12, 45), y shape: (12,)\n",
      "YUF\n",
      "X shape: (816, 45), y shape: (816,)\n",
      "X shape: (227, 45), y shape: (227,)\n",
      "X shape: (118, 45), y shape: (118,)\n",
      "YPP\n",
      "X shape: (189, 45), y shape: (189,)\n",
      "X shape: (58, 45), y shape: (58,)\n",
      "X shape: (35, 45), y shape: (35,)\n",
      "YNR\n",
      "X shape: (2090, 45), y shape: (2090,)\n",
      "X shape: (541, 45), y shape: (541,)\n",
      "X shape: (99, 45), y shape: (99,)\n",
      "YML\n",
      "X shape: (423, 45), y shape: (423,)\n",
      "X shape: (126, 45), y shape: (126,)\n",
      "X shape: (7, 45), y shape: (7,)\n",
      "YFT\n",
      "X shape: (899, 45), y shape: (899,)\n",
      "X shape: (214, 45), y shape: (214,)\n",
      "X shape: (55, 45), y shape: (55,)\n",
      "LKWY\n",
      "X shape: (209, 45), y shape: (209,)\n",
      "X shape: (50, 45), y shape: (50,)\n",
      "X shape: (2, 45), y shape: (2,)\n",
      "YTP\n",
      "X shape: (391, 45), y shape: (391,)\n",
      "X shape: (95, 45), y shape: (95,)\n",
      "X shape: (49, 45), y shape: (49,)\n",
      "B206\n",
      "X shape: (195, 45), y shape: (195,)\n",
      "X shape: (60, 45), y shape: (60,)\n",
      "YMC\n",
      "X shape: (1443, 45), y shape: (1443,)\n",
      "X shape: (363, 45), y shape: (363,)\n",
      "X shape: (171, 45), y shape: (171,)\n",
      "YNM\n",
      "X shape: (487, 45), y shape: (487,)\n",
      "X shape: (137, 45), y shape: (137,)\n",
      "X shape: (6, 45), y shape: (6,)\n",
      "B950\n",
      "X shape: (152, 45), y shape: (152,)\n",
      "X shape: (42, 45), y shape: (42,)\n",
      "YDD\n",
      "X shape: (244, 45), y shape: (244,)\n",
      "X shape: (58, 45), y shape: (58,)\n",
      "X shape: (82, 45), y shape: (82,)\n",
      "YHB\n",
      "X_train: (1248, 7), X_test: (331, 7), X_holdout: (225, 7)\n",
      "YHL\n",
      "X_train: (537, 7), X_test: (133, 7), X_holdout: (39, 7)\n",
      "YMR\n",
      "X_train: (1533, 7), X_test: (392, 7), X_holdout: (172, 7)\n",
      "YHH\n",
      "X_train: (1222, 7), X_test: (328, 7), X_holdout: (113, 7)\n",
      "B207\n",
      "X_train: (341, 7), X_test: (83, 7), X_holdout: 0\n",
      "FLWY\n",
      "X_train: (319, 7), X_test: (89, 7), X_holdout: (12, 7)\n",
      "YUF\n",
      "X_train: (816, 7), X_test: (227, 7), X_holdout: (118, 7)\n",
      "YPP\n",
      "X_train: (189, 7), X_test: (58, 7), X_holdout: (35, 7)\n",
      "YNR\n",
      "X_train: (2090, 7), X_test: (541, 7), X_holdout: (99, 7)\n",
      "YML\n",
      "X_train: (423, 7), X_test: (126, 7), X_holdout: (7, 7)\n",
      "YFT\n",
      "X_train: (899, 7), X_test: (214, 7), X_holdout: (55, 7)\n",
      "LKWY\n",
      "X_train: (209, 7), X_test: (50, 7), X_holdout: (2, 7)\n",
      "YTP\n",
      "X_train: (391, 7), X_test: (95, 7), X_holdout: (49, 7)\n",
      "B206\n",
      "X_train: (195, 7), X_test: (60, 7), X_holdout: 0\n",
      "YMC\n",
      "X_train: (1443, 7), X_test: (363, 7), X_holdout: (171, 7)\n",
      "YNM\n",
      "X_train: (487, 7), X_test: (137, 7), X_holdout: (6, 7)\n",
      "B950\n",
      "X_train: (152, 7), X_test: (42, 7), X_holdout: 0\n",
      "YDD\n",
      "X_train: (244, 7), X_test: (58, 7), X_holdout: (82, 7)\n",
      "[4] [6] [5]\n",
      "YHB.S.scaler.joblib YHB.S.SVR.joblib\n",
      "{'min': 1.78, 'max': 17.34} {'min': 13.812423372512995, 'max': 348.894702495935} {'min': 0.2680431717676572, 'max': 4.208392700974354}\n",
      "YHL.S.scaler.joblib YHL.S.SVR.joblib\n",
      "{'min': 1.93, 'max': 16.87} {'min': 87.10707782116991, 'max': 331.6140676995066} {'min': 1.6566914823756471, 'max': 3.9637993306344437}\n",
      "YMR.S.scaler.joblib YMR.S.SVR.joblib\n",
      "{'min': -1.68, 'max': 17.34} {'min': 0.0659503664244312, 'max': 359.6822614354909} {'min': 0.6909652134247382, 'max': 3.9284827486651936}\n",
      "YHH.S.scaler.joblib YHH.S.SVR.joblib\n",
      "{'min': 0.79, 'max': 17.34} {'min': 11.247351948893709, 'max': 350.54598585305894} {'min': -0.965011496127847, 'max': 3.897044318319097}\n",
      "B207.S.scaler.joblib B207.S.SVR.joblib\n",
      "{'min': -1.63, 'max': 17.34} {'min': 4.670867786688746, 'max': 347.6643316704309} {'min': 0.8670448614443318, 'max': 4.09908847374937}\n",
      "FLWY.S.scaler.joblib FLWY.S.SVR.joblib\n",
      "{'min': 1.04, 'max': 15.82} {'min': 0.8250128157683321, 'max': 359.3214615219805} {'min': 0.685552820654431, 'max': 4.422645845031017}\n",
      "YUF.S.scaler.joblib YUF.S.SVR.joblib\n",
      "{'min': -0.87, 'max': 23.48} {'min': 0.2140703778870829, 'max': 359.2736748203357} {'min': -2.2388146810573004, 'max': 3.996209380142435}\n",
      "YPP.S.scaler.joblib YPP.S.SVR.joblib\n",
      "{'min': 0.82, 'max': 16.95} {'min': 0.2095825557132116, 'max': 359.81217983478456} {'min': 0.7226464888480764, 'max': 4.147242809179437}\n",
      "YNR.S.scaler.joblib YNR.S.SVR.joblib\n",
      "{'min': -1.79, 'max': 16.95} {'min': 1.2602648594179016, 'max': 358.8229872299454} {'min': -1.4016169436492218, 'max': 3.9948996714719525}\n",
      "YML.S.scaler.joblib YML.S.SVR.joblib\n",
      "{'min': -1.94, 'max': 14.22} {'min': 19.64795177128923, 'max': 353.1081005973641} {'min': -0.34088653624508153, 'max': 3.9166148415720814}\n",
      "YFT.S.scaler.joblib YFT.S.SVR.joblib\n",
      "{'min': -0.35, 'max': 14.95} {'min': 0.0197914459644437, 'max': 359.9534002776754} {'min': 0.9809264128459997, 'max': 3.9096746895301107}\n",
      "LKWY.S.scaler.joblib LKWY.S.SVR.joblib\n",
      "{'min': 0.37, 'max': 12.72} {'min': 13.964424043364572, 'max': 357.0511590254659} {'min': 0.19427068881311654, 'max': 4.029794904274671}\n",
      "YTP.S.scaler.joblib YTP.S.SVR.joblib\n",
      "{'min': -1.83, 'max': 17.95} {'min': 167.92702905278037, 'max': 355.5507056554068} {'min': 1.191575074412089, 'max': 3.8596208837582564}\n",
      "B206.S.scaler.joblib B206.S.SVR.joblib\n",
      "{'min': 0.92, 'max': 22.62} {'min': 0.2309182219746048, 'max': 359.134129868556} {'min': -0.08757220100779672, 'max': 3.8594501897496905}\n",
      "YMC.S.scaler.joblib YMC.S.SVR.joblib\n",
      "{'min': -1.68, 'max': 17.34} {'min': 0.2738977752892424, 'max': 359.9873831723153} {'min': -3.1038337515494696, 'max': 3.896798440702604}\n",
      "YNM.S.scaler.joblib YNM.S.SVR.joblib\n",
      "{'min': 1.27, 'max': 11.12} {'min': 2.711033011601586, 'max': 356.6184956585491} {'min': -0.042722692337197124, 'max': 3.5351836675896653}\n",
      "B950.S.scaler.joblib B950.S.SVR.joblib\n",
      "{'min': -0.68, 'max': 15.28} {'min': 0.386607826489751, 'max': 357.215949105266} {'min': 0.5330729019029261, 'max': 3.804461119865465}\n",
      "YDD.S.scaler.joblib YDD.S.SVR.joblib\n",
      "{'min': 1.2, 'max': 15.02} {'min': 0.7115571657242015, 'max': 359.9479741619424} {'min': 0.05429092198728451, 'max': 3.9557281686739234}\n"
     ]
    }
   ],
   "source": [
    "sproc = GatherFeatureDatasets(is_p=False)\n",
    "s_station_feature_dict, s_station_meta_dict, s_feature_names = sproc.process_all_stations_datasets(s_all_train_df, \n",
    "                                                                  s_all_test_df,\n",
    "                                                                  holdout_df=s_all_holdout_df,\n",
    "                                                                  scaler=False,\n",
    "                                                                  linear_model=False,\n",
    "                                                                  source_dist_type='dist')\n",
    "\n",
    "s_selected_feat_dict, s_selected_feature_names = sproc.filter_station_dict_features(s_station_feature_dict,\n",
    "                                                                             s_feature_names,\n",
    "                                                                             selected_S_features)\n",
    "\n",
    "s_depth_ind = np.where(s_selected_feature_names == 'source_depth_km')[0]\n",
    "s_baz_ind = np.where(s_selected_feature_names == 'source_receiver_back_azimuth_deg')[0]\n",
    "s_dist_ind = np.where(s_selected_feature_names == 'source_receiver_distance_logkm')[0]\n",
    "print(s_depth_ind, s_baz_ind, s_dist_ind)\n",
    "\n",
    "# s_depth_r2_df, s_baz_r2_df = get_depth_baz_results(s_selected_feat_dict,\n",
    "#                                                s_station_meta_dict,\n",
    "#                                                'S',\n",
    "#                                                smodel_dir,\n",
    "#                                                s_all_train_df,\n",
    "#                                                s_depth_ind,\n",
    "#                                                s_baz_ind)\n",
    "\n",
    "s_depth_r2_df, s_baz_r2_df, s_dist_r2_df, s_rall_r2_df = get_depth_baz_dist_results(s_selected_feat_dict,\n",
    "                                                                                    s_station_meta_dict,\n",
    "                                                                                    'S',\n",
    "                                                                                    smodel_dir,\n",
    "                                                                                    s_all_train_df,\n",
    "                                                                                    s_depth_ind,\n",
    "                                                                                    s_baz_ind,\n",
    "                                                                                    s_dist_ind,\n",
    "                                                                                    use_mean=use_mean,\n",
    "                                                                                    replace_all=replace_all)"
   ]
  },
  {
   "cell_type": "code",
   "execution_count": 13,
   "metadata": {},
   "outputs": [
    {
     "data": {
      "text/html": [
       "<div>\n",
       "<style scoped>\n",
       "    .dataframe tbody tr th:only-of-type {\n",
       "        vertical-align: middle;\n",
       "    }\n",
       "\n",
       "    .dataframe tbody tr th {\n",
       "        vertical-align: top;\n",
       "    }\n",
       "\n",
       "    .dataframe thead th {\n",
       "        text-align: right;\n",
       "    }\n",
       "</style>\n",
       "<table border=\"1\" class=\"dataframe\">\n",
       "  <thead>\n",
       "    <tr style=\"text-align: right;\">\n",
       "      <th></th>\n",
       "      <th>test_r2</th>\n",
       "      <th>holdout_r2</th>\n",
       "    </tr>\n",
       "  </thead>\n",
       "  <tbody>\n",
       "    <tr>\n",
       "      <th>YHB</th>\n",
       "      <td>0.867689</td>\n",
       "      <td>0.833693</td>\n",
       "    </tr>\n",
       "    <tr>\n",
       "      <th>YHL</th>\n",
       "      <td>0.880762</td>\n",
       "      <td>0.794081</td>\n",
       "    </tr>\n",
       "    <tr>\n",
       "      <th>YMR</th>\n",
       "      <td>0.785597</td>\n",
       "      <td>0.740938</td>\n",
       "    </tr>\n",
       "    <tr>\n",
       "      <th>YHH</th>\n",
       "      <td>0.674820</td>\n",
       "      <td>0.578094</td>\n",
       "    </tr>\n",
       "    <tr>\n",
       "      <th>B207</th>\n",
       "      <td>0.778167</td>\n",
       "      <td>NaN</td>\n",
       "    </tr>\n",
       "  </tbody>\n",
       "</table>\n",
       "</div>"
      ],
      "text/plain": [
       "       test_r2  holdout_r2\n",
       "YHB   0.867689    0.833693\n",
       "YHL   0.880762    0.794081\n",
       "YMR   0.785597    0.740938\n",
       "YHH   0.674820    0.578094\n",
       "B207  0.778167         NaN"
      ]
     },
     "execution_count": 13,
     "metadata": {},
     "output_type": "execute_result"
    }
   ],
   "source": [
    "s_depth_r2_df.head()"
   ]
  },
  {
   "cell_type": "code",
   "execution_count": 14,
   "metadata": {},
   "outputs": [
    {
     "data": {
      "text/plain": [
       "0.4428654150097142"
      ]
     },
     "execution_count": 14,
     "metadata": {},
     "output_type": "execute_result"
    }
   ],
   "source": [
    "s_depth_r2_df['test_r2'].describe().loc[['min', 'max']]['min']"
   ]
  },
  {
   "cell_type": "markdown",
   "metadata": {},
   "source": [
    "# Make summary boxplots"
   ]
  },
  {
   "cell_type": "code",
   "execution_count": 15,
   "metadata": {},
   "outputs": [],
   "source": [
    "valtype = \"Rand\"\n",
    "if use_mean:\n",
    "    valtype = \"Mean\"\n",
    "\n",
    "figname = f'../figures/station{valtype}DistFeaturesR2Boxplots.png'\n",
    "if replace_all:\n",
    "    figname = f'../figures/station{valtype}DistFeaturesR2BoxplotsAll.png'\n"
   ]
  },
  {
   "cell_type": "code",
   "execution_count": 16,
   "metadata": {},
   "outputs": [],
   "source": [
    "boxplots_dict = {'sub_results':{'P':p_results, 'S':s_results},\n",
    "                'depth_results':{'P':p_depth_r2_df, 'S':s_depth_r2_df},\n",
    "                'baz_results':{'P':p_baz_r2_df, 'S':s_baz_r2_df},\n",
    "                'dist_results':{'P':p_dist_r2_df, 'S':s_dist_r2_df}\n",
    "                    }\n",
    "scatter_dict = {\n",
    "}\n",
    "label_dict = {'sub_results': 'Actual depth/baz/dist',\n",
    "              'depth_results':f'{valtype} station depth',\n",
    "              'baz_results':f'{valtype} station baz',\n",
    "              'dist_results': f'{valtype} station dist'\n",
    "              }\n",
    "\n",
    "if replace_all:\n",
    "    boxplots_dict['all_results'] = {'P': p_rall_r2_df, 'S':s_rall_r2_df}\n",
    "    label_dict['all_results'] = f'{valtype} depth/baz/dist'\n"
   ]
  },
  {
   "cell_type": "code",
   "execution_count": 17,
   "metadata": {},
   "outputs": [],
   "source": [
    "plotting.set_default_fontsizes()"
   ]
  },
  {
   "cell_type": "code",
   "execution_count": 18,
   "metadata": {},
   "outputs": [],
   "source": [
    "bp_colors = ['#f7f7f7',\n",
    "'#cccccc',\n",
    "'#969696',\n",
    "'#525252', '#252525']"
   ]
  },
  {
   "cell_type": "code",
   "execution_count": 19,
   "metadata": {},
   "outputs": [
    {
     "data": {
      "image/png": "[encoded data removed]",
      "text/plain": [
       "<Figure size 440x480 with 2 Axes>"
      ]
     },
     "metadata": {},
     "output_type": "display_data"
    }
   ],
   "source": [
    "\n",
    "xtick_locs = [0, 1.25]\n",
    "xlims=[-0.25, 2.25]\n",
    "if replace_all:\n",
    "    xtick_locs = [0, 1.5]\n",
    "    xlims=[-0.25, 2.75]\n",
    "\n",
    "if use_mean:\n",
    "    plotting.r2_boxplots(boxplots_dict,\n",
    "                        scatter_dict,\n",
    "                        label_dict,\n",
    "                        xtick_locs=xtick_locs,\n",
    "                        xlims=xlims,\n",
    "                        plot_train=False,\n",
    "                        ylim=[-0.95, 1.],\n",
    "                        legend_ax=1,\n",
    "                        savefigname=figname,\n",
    "                        figsize=(4.4, 4.8),\n",
    "                        bp_colors=bp_colors,\n",
    "                        yticks={'major':0.5, 'minor':0.1},\n",
    "                        legend_ncols=2)\n",
    "else:\n",
    "    plotting.r2_boxplots(boxplots_dict,\n",
    "                        scatter_dict,\n",
    "                        label_dict,\n",
    "                        xtick_locs=xtick_locs,\n",
    "                        xlims=xlims,\n",
    "                        plot_train=False,\n",
    "                        ylim=[-1.75, 1.],\n",
    "                        legend_ax=1,\n",
    "                        savefigname=figname,\n",
    "                        figsize=(4.4, 4.8),\n",
    "                        bp_colors=bp_colors,\n",
    "                        yticks={'major':0.5, 'minor':0.1},\n",
    "                        legend_ncols=2)"
   ]
  },
  {
   "cell_type": "code",
   "execution_count": 20,
   "metadata": {},
   "outputs": [
    {
     "data": {
      "text/plain": [
       "test_r2       0.887\n",
       "holdout_r2    0.822\n",
       "dtype: float64"
      ]
     },
     "execution_count": 20,
     "metadata": {},
     "output_type": "execute_result"
    }
   ],
   "source": [
    "p_results[['test_r2', 'holdout_r2']].median()"
   ]
  },
  {
   "cell_type": "code",
   "execution_count": 21,
   "metadata": {},
   "outputs": [
    {
     "data": {
      "text/plain": [
       "test_r2       0.662745\n",
       "holdout_r2    0.553410\n",
       "dtype: float64"
      ]
     },
     "execution_count": 21,
     "metadata": {},
     "output_type": "execute_result"
    }
   ],
   "source": [
    "p_depth_r2_df.median()"
   ]
  },
  {
   "cell_type": "code",
   "execution_count": 22,
   "metadata": {},
   "outputs": [
    {
     "data": {
      "text/plain": [
       "test_r2       0.769584\n",
       "holdout_r2    0.674466\n",
       "dtype: float64"
      ]
     },
     "execution_count": 22,
     "metadata": {},
     "output_type": "execute_result"
    }
   ],
   "source": [
    "p_baz_r2_df.median()"
   ]
  },
  {
   "cell_type": "code",
   "execution_count": 23,
   "metadata": {},
   "outputs": [
    {
     "data": {
      "text/plain": [
       "test_r2      -0.534161\n",
       "holdout_r2   -0.763611\n",
       "dtype: float64"
      ]
     },
     "execution_count": 23,
     "metadata": {},
     "output_type": "execute_result"
    }
   ],
   "source": [
    "p_dist_r2_df.median()"
   ]
  },
  {
   "cell_type": "code",
   "execution_count": 24,
   "metadata": {},
   "outputs": [
    {
     "name": "stdout",
     "output_type": "stream",
     "text": [
      "depth: 0.2242551377328056\n",
      "baz: 0.11741618937712583\n",
      "dist: 1.4211607317869182\n"
     ]
    }
   ],
   "source": [
    "print('depth:', p_results['test_r2'].median() - p_depth_r2_df['test_r2'].median())\n",
    "print('baz:', p_results['test_r2'].median() - p_baz_r2_df['test_r2'].median())\n",
    "print('dist:', p_results['test_r2'].median() - p_dist_r2_df['test_r2'].median())"
   ]
  },
  {
   "cell_type": "code",
   "execution_count": 25,
   "metadata": {},
   "outputs": [
    {
     "name": "stdout",
     "output_type": "stream",
     "text": [
      "depth: 0.2685902922900768\n",
      "baz: 0.14753412835971402\n",
      "dist: 1.5856109499097242\n"
     ]
    }
   ],
   "source": [
    "print('depth:', p_results['holdout_r2'].median() - p_depth_r2_df['holdout_r2'].median())\n",
    "print('baz:', p_results['holdout_r2'].median() - p_baz_r2_df['holdout_r2'].median())\n",
    "print('dist:', p_results['holdout_r2'].median() - p_dist_r2_df['holdout_r2'].median())"
   ]
  },
  {
   "cell_type": "markdown",
   "metadata": {},
   "source": [
    "S"
   ]
  },
  {
   "cell_type": "code",
   "execution_count": 26,
   "metadata": {},
   "outputs": [
    {
     "data": {
      "text/plain": [
       "test_r2       0.9155\n",
       "holdout_r2    0.9020\n",
       "dtype: float64"
      ]
     },
     "execution_count": 26,
     "metadata": {},
     "output_type": "execute_result"
    }
   ],
   "source": [
    "s_results[['test_r2', 'holdout_r2']].median()"
   ]
  },
  {
   "cell_type": "code",
   "execution_count": 27,
   "metadata": {},
   "outputs": [
    {
     "data": {
      "text/plain": [
       "test_r2       0.764210\n",
       "holdout_r2    0.740938\n",
       "dtype: float64"
      ]
     },
     "execution_count": 27,
     "metadata": {},
     "output_type": "execute_result"
    }
   ],
   "source": [
    "s_depth_r2_df.median()"
   ]
  },
  {
   "cell_type": "code",
   "execution_count": 28,
   "metadata": {},
   "outputs": [
    {
     "data": {
      "text/plain": [
       "test_r2       0.769584\n",
       "holdout_r2    0.674466\n",
       "dtype: float64"
      ]
     },
     "execution_count": 28,
     "metadata": {},
     "output_type": "execute_result"
    }
   ],
   "source": [
    "p_baz_r2_df.median()"
   ]
  },
  {
   "cell_type": "code",
   "execution_count": 29,
   "metadata": {},
   "outputs": [
    {
     "data": {
      "text/plain": [
       "test_r2      -0.534161\n",
       "holdout_r2   -0.763611\n",
       "dtype: float64"
      ]
     },
     "execution_count": 29,
     "metadata": {},
     "output_type": "execute_result"
    }
   ],
   "source": [
    "p_dist_r2_df.median()"
   ]
  },
  {
   "cell_type": "code",
   "execution_count": 30,
   "metadata": {},
   "outputs": [
    {
     "name": "stdout",
     "output_type": "stream",
     "text": [
      "depth: 0.15128983204139868\n",
      "baz: 0.0892829158934133\n",
      "dist: 0.813669916017538\n"
     ]
    }
   ],
   "source": [
    "print('depth:', s_results['test_r2'].median() - s_depth_r2_df['test_r2'].median())\n",
    "print('baz:', s_results['test_r2'].median() - s_baz_r2_df['test_r2'].median())\n",
    "print('dist:', s_results['test_r2'].median() - s_dist_r2_df['test_r2'].median())"
   ]
  },
  {
   "cell_type": "code",
   "execution_count": 31,
   "metadata": {},
   "outputs": [
    {
     "name": "stdout",
     "output_type": "stream",
     "text": [
      "depth: 0.16106219640525732\n",
      "baz: 0.1231582246473909\n",
      "dist: 0.8138603126068825\n"
     ]
    }
   ],
   "source": [
    "print('depth:', s_results['holdout_r2'].median() - s_depth_r2_df['holdout_r2'].median())\n",
    "print('baz:', s_results['holdout_r2'].median() - s_baz_r2_df['holdout_r2'].median())\n",
    "print('dist:', s_results['holdout_r2'].median() - s_dist_r2_df['holdout_r2'].median())"
   ]
  }
 ],
 "metadata": {
  "kernelspec": {
   "display_name": "featmags",
   "language": "python",
   "name": "python3"
  },
  "language_info": {
   "codemirror_mode": {
    "name": "ipython",
    "version": 3
   },
   "file_extension": ".py",
   "mimetype": "text/x-python",
   "name": "python",
   "nbconvert_exporter": "python",
   "pygments_lexer": "ipython3",
   "version": "3.11.6"
  }
 },
 "nbformat": 4,
 "nbformat_minor": 2
}
