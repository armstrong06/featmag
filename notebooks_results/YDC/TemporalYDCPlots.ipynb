{
 "cells": [
  {
   "cell_type": "code",
   "execution_count": 1,
   "metadata": {},
   "outputs": [],
   "source": [
    "import numpy as np\n",
    "import pandas as pd\n",
    "import matplotlib\n",
    "import matplotlib.pyplot as plt\n",
    "import sys\n",
    "import os\n",
    "from joblib import load\n",
    "from datetime import datetime, timezone\n",
    "from mpl_toolkits.mplot3d import Axes3D\n",
    "from matplotlib.dates import DateFormatter\n",
    "import matplotlib.dates as mdates\n",
    "import ipywidgets as widgets\n",
    "from ipywidgets import interact, fixed\n",
    "from sklearn.metrics import r2_score\n",
    "# make paths above 'notebooks/' visible for local imports.\n",
    "# +----------------------------------------------------------------------------+\n",
    "module_path = os.path.abspath(os.path.join('../..'))\n",
    "if module_path not in sys.path:\n",
    "    sys.path.append(module_path)\n",
    "\n",
    "from src.processing import GatherFeatureDatasets\n",
    "from src import plotting"
   ]
  },
  {
   "cell_type": "code",
   "execution_count": 2,
   "metadata": {},
   "outputs": [],
   "source": [
    "data_dir = '/uufs/chpc.utah.edu/common/home/koper-group3/alysha/magnitudes/feature_splits'\n",
    "all_train_df = pd.read_csv(f'{data_dir}/p.train.csv')\n",
    "all_test_df = pd.read_csv(f'{data_dir}/p.test.csv')\n",
    "all_holdout_df = pd.read_csv(f'{data_dir}/p.20230101.csv')"
   ]
  },
  {
   "cell_type": "code",
   "execution_count": 3,
   "metadata": {},
   "outputs": [],
   "source": [
    "model_dir = '/uufs/chpc.utah.edu/common/home/koper-group3/alysha/magnitudes/p_models/selected_features_constHP'\n",
    "preds_2023 = pd.read_csv(os.path.join(model_dir, 'YDC.P.preds.holdout.csv'))\n",
    "scaler = load(os.path.join(model_dir, 'YDC.P.scaler.joblib'))"
   ]
  },
  {
   "cell_type": "code",
   "execution_count": 4,
   "metadata": {},
   "outputs": [
    {
     "data": {
      "text/html": [
       "<div>\n",
       "<style scoped>\n",
       "    .dataframe tbody tr th:only-of-type {\n",
       "        vertical-align: middle;\n",
       "    }\n",
       "\n",
       "    .dataframe tbody tr th {\n",
       "        vertical-align: top;\n",
       "    }\n",
       "\n",
       "    .dataframe thead th {\n",
       "        text-align: right;\n",
       "    }\n",
       "</style>\n",
       "<table border=\"1\" class=\"dataframe\">\n",
       "  <thead>\n",
       "    <tr style=\"text-align: right;\">\n",
       "      <th></th>\n",
       "      <th>evid</th>\n",
       "      <th>event_lat</th>\n",
       "      <th>event_lon</th>\n",
       "      <th>event_depth</th>\n",
       "      <th>origin_time</th>\n",
       "      <th>magnitude</th>\n",
       "      <th>magnitude_type</th>\n",
       "      <th>rflag</th>\n",
       "      <th>utc</th>\n",
       "    </tr>\n",
       "  </thead>\n",
       "  <tbody>\n",
       "    <tr>\n",
       "      <th>0</th>\n",
       "      <td>60000005</td>\n",
       "      <td>44.743333</td>\n",
       "      <td>-111.067500</td>\n",
       "      <td>5.48</td>\n",
       "      <td>1.349112e+09</td>\n",
       "      <td>-0.20</td>\n",
       "      <td>d</td>\n",
       "      <td>F</td>\n",
       "      <td>2012-10-01 17:26:54.360001+00:00</td>\n",
       "    </tr>\n",
       "    <tr>\n",
       "      <th>1</th>\n",
       "      <td>60000010</td>\n",
       "      <td>44.438167</td>\n",
       "      <td>-111.032000</td>\n",
       "      <td>6.05</td>\n",
       "      <td>1.349101e+09</td>\n",
       "      <td>0.35</td>\n",
       "      <td>d</td>\n",
       "      <td>F</td>\n",
       "      <td>2012-10-01 14:24:40.459999+00:00</td>\n",
       "    </tr>\n",
       "    <tr>\n",
       "      <th>2</th>\n",
       "      <td>60000050</td>\n",
       "      <td>44.276000</td>\n",
       "      <td>-110.645667</td>\n",
       "      <td>2.18</td>\n",
       "      <td>1.350621e+09</td>\n",
       "      <td>1.15</td>\n",
       "      <td>d</td>\n",
       "      <td>F</td>\n",
       "      <td>2012-10-19 04:29:58.239998+00:00</td>\n",
       "    </tr>\n",
       "    <tr>\n",
       "      <th>3</th>\n",
       "      <td>60000060</td>\n",
       "      <td>44.346167</td>\n",
       "      <td>-110.327333</td>\n",
       "      <td>9.44</td>\n",
       "      <td>1.350808e+09</td>\n",
       "      <td>1.34</td>\n",
       "      <td>d</td>\n",
       "      <td>F</td>\n",
       "      <td>2012-10-21 08:32:33.660000+00:00</td>\n",
       "    </tr>\n",
       "    <tr>\n",
       "      <th>4</th>\n",
       "      <td>60000065</td>\n",
       "      <td>44.395000</td>\n",
       "      <td>-111.021833</td>\n",
       "      <td>4.71</td>\n",
       "      <td>1.350274e+09</td>\n",
       "      <td>0.82</td>\n",
       "      <td>d</td>\n",
       "      <td>F</td>\n",
       "      <td>2012-10-15 04:14:30.209999+00:00</td>\n",
       "    </tr>\n",
       "  </tbody>\n",
       "</table>\n",
       "</div>"
      ],
      "text/plain": [
       "       evid  event_lat   event_lon  event_depth   origin_time  magnitude  \\\n",
       "0  60000005  44.743333 -111.067500         5.48  1.349112e+09      -0.20   \n",
       "1  60000010  44.438167 -111.032000         6.05  1.349101e+09       0.35   \n",
       "2  60000050  44.276000 -110.645667         2.18  1.350621e+09       1.15   \n",
       "3  60000060  44.346167 -110.327333         9.44  1.350808e+09       1.34   \n",
       "4  60000065  44.395000 -111.021833         4.71  1.350274e+09       0.82   \n",
       "\n",
       "  magnitude_type rflag                               utc  \n",
       "0              d     F  2012-10-01 17:26:54.360001+00:00  \n",
       "1              d     F  2012-10-01 14:24:40.459999+00:00  \n",
       "2              d     F  2012-10-19 04:29:58.239998+00:00  \n",
       "3              d     F  2012-10-21 08:32:33.660000+00:00  \n",
       "4              d     F  2012-10-15 04:14:30.209999+00:00  "
      ]
     },
     "execution_count": 4,
     "metadata": {},
     "output_type": "execute_result"
    }
   ],
   "source": [
    "cat = pd.read_csv(\"../../data/catalogs/yellowstone.events.2024.csv\")\n",
    "cat.head()"
   ]
  },
  {
   "cell_type": "code",
   "execution_count": 5,
   "metadata": {},
   "outputs": [
    {
     "name": "stdout",
     "output_type": "stream",
     "text": [
      "YDC\n",
      "X shape: (2928, 45), y shape: (2928,)\n",
      "X shape: (725, 45), y shape: (725,)\n",
      "X shape: (29, 45), y shape: (29,)\n"
     ]
    }
   ],
   "source": [
    "stat = \"YDC\"\n",
    "proc = GatherFeatureDatasets(is_p=True)\n",
    "station_feature_dict, station_meta_dict, feature_names = proc.process_station_datasets(stat, \n",
    "                                                                                        all_train_df,\n",
    "                                                                                        test_df=all_test_df,\n",
    "                                                                                        holdout_df=all_holdout_df,\n",
    "                                                                                        scaler=False,\n",
    "                                                                                        linear_model=False,\n",
    "                                                                                        source_dist_type='dist')"
   ]
  },
  {
   "cell_type": "code",
   "execution_count": 6,
   "metadata": {},
   "outputs": [],
   "source": [
    "feature_plot_names = proc.get_feature_plot_names(18, 'dist')"
   ]
  },
  {
   "cell_type": "code",
   "execution_count": 7,
   "metadata": {},
   "outputs": [],
   "source": [
    "selected_features = np.array(['amp_1', 'amp_2','signal_variance',\n",
    "                    'noise_variance', 'source_depth_km',\n",
    "                    'source_receiver_distance_logkm',\n",
    "                    'source_receiver_back_azimuth_deg'])\n",
    "feature_inds = np.where(np.isin(feature_names, selected_features))[0]"
   ]
  },
  {
   "cell_type": "code",
   "execution_count": 8,
   "metadata": {},
   "outputs": [],
   "source": [
    "X_train = station_feature_dict['X_train']\n",
    "X_holdout = station_feature_dict['X_holdout']"
   ]
  },
  {
   "cell_type": "code",
   "execution_count": 9,
   "metadata": {},
   "outputs": [],
   "source": [
    "SMALL_SIZE=8\n",
    "MEDIUM_SIZE=9\n",
    "LARGE_SIZE=9\n",
    "plt.rc('font', size=SMALL_SIZE)          # controls default text sizes\n",
    "plt.rc('axes', titlesize=MEDIUM_SIZE)     # fontsize of the axes title\n",
    "plt.rc('axes', labelsize=MEDIUM_SIZE)    # fontsize of the x and y labels\n",
    "plt.rc('xtick', labelsize=SMALL_SIZE)    # fontsize of the tick labels\n",
    "plt.rc('ytick', labelsize=SMALL_SIZE)    # fontsize of the tick labels\n",
    "plt.rc('legend', fontsize=SMALL_SIZE)    # legend fontsize\n",
    "plt.rc('figure', titlesize=LARGE_SIZE)  # fontsize of the figure title\n",
    "plt.rc('figure', labelsize=MEDIUM_SIZE)"
   ]
  },
  {
   "cell_type": "code",
   "execution_count": 10,
   "metadata": {},
   "outputs": [],
   "source": [
    "train_cat = cat[cat[\"evid\"].isin(station_meta_dict[\"evids_train\"])]\n",
    "test_cat = cat[cat[\"evid\"].isin(station_meta_dict[\"evids_test\"])]\n",
    "holdout_cat = cat[cat[\"evid\"].isin(station_meta_dict[\"evids_holdout\"])]\n",
    "assert train_cat.shape[0] == station_meta_dict[\"evids_train\"].shape[0]\n",
    "assert np.array_equal(train_cat.evid.values, station_meta_dict[\"evids_train\"])\n",
    "assert test_cat.shape[0] == station_meta_dict[\"evids_test\"].shape[0]\n",
    "assert np.array_equal(test_cat.evid.values, station_meta_dict[\"evids_test\"])\n",
    "assert holdout_cat.shape[0] == station_meta_dict[\"evids_holdout\"].shape[0]\n",
    "assert np.array_equal(holdout_cat.evid.values, station_meta_dict[\"evids_holdout\"])"
   ]
  },
  {
   "cell_type": "code",
   "execution_count": 11,
   "metadata": {},
   "outputs": [],
   "source": [
    "X_train_s = scaler.transform(X_train[:, feature_inds])\n",
    "X_holdout_s = scaler.transform(X_holdout[:, feature_inds])"
   ]
  },
  {
   "cell_type": "code",
   "execution_count": 12,
   "metadata": {},
   "outputs": [
    {
     "name": "stdout",
     "output_type": "stream",
     "text": [
      "(2957, 45) (2957,) (2957,)\n"
     ]
    }
   ],
   "source": [
    "all_X = np.concatenate([X_train[:, :], X_holdout[:, :]])\n",
    "all_X_s = np.concatenate([X_train_s[:, :], X_holdout_s[:, :]])\n",
    "all_y = np.concatenate([station_meta_dict['y_train'], station_meta_dict['y_holdout']])\n",
    "all_ot = np.concatenate([train_cat[\"origin_time\"].values,\n",
    "                holdout_cat[\"origin_time\"].values])\n",
    "print(all_X.shape, all_y.shape, all_ot.shape)"
   ]
  },
  {
   "cell_type": "code",
   "execution_count": 13,
   "metadata": {},
   "outputs": [],
   "source": [
    "model = load(os.path.join(model_dir, 'YDC.P.SVR.joblib'))\n",
    "X_test_s = scaler.transform(station_feature_dict[\"X_test\"][:, feature_inds])"
   ]
  },
  {
   "cell_type": "markdown",
   "metadata": {},
   "source": [
    "# Interactive plots"
   ]
  },
  {
   "cell_type": "code",
   "execution_count": 14,
   "metadata": {},
   "outputs": [
    {
     "data": {
      "application/vnd.jupyter.widget-view+json": {
       "model_id": "b296d3a027b3416fa9458d1194c7add2",
       "version_major": 2,
       "version_minor": 0
      },
      "text/plain": [
       "interactive(children=(Dropdown(description='z_feature', options=('amp_1', 'amp_2', 'signal_variance', 'noise_v…"
      ]
     },
     "metadata": {},
     "output_type": "display_data"
    }
   ],
   "source": [
    "# Generate random 3D data points\n",
    "def plot_3d_scatter(z_feature, scale_X=True, elev=10, azim=-110):\n",
    "    fig = plt.figure()\n",
    "    ax = fig.add_subplot(111, projection='3d')\n",
    "    ax2 = fig.add_subplot(1, 10, (10, 10))\n",
    "\n",
    "    cmap = plt.get_cmap('viridis')\n",
    "    bounds = np.arange(2013, 2024)\n",
    "    norm = matplotlib.colors.BoundaryNorm(bounds, cmap.N, extend='both')\n",
    "    mags=all_y\n",
    "    if scale_X:\n",
    "        X = all_X_s\n",
    "        srdist_ind = np.where(feature_names[feature_inds] == \"source_receiver_distance_logkm\")[0][0]\n",
    "        z_feature_ind = np.where(feature_names[feature_inds] == z_feature)[0][0]\n",
    "    else:\n",
    "        X = all_X\n",
    "        srdist_ind = np.where(feature_names == \"source_receiver_distance_logkm\")[0][0]\n",
    "        z_feature_ind = np.where(feature_names == z_feature)[0][0]\n",
    "\n",
    "    # print(srdist_ind, z_feature_ind)\n",
    "    srdists=X[:, srdist_ind]\n",
    "    ots = all_ot\n",
    "    z = X[:, z_feature_ind]\n",
    "\n",
    "    # Create the scatter plot\n",
    "    sc = ax.scatter(mags, srdists, z, c=ots, cmap=cmap, s=15, edgecolor='k')\n",
    "    \n",
    "    # Set the view angle\n",
    "    ax.view_init(elev=elev, azim=azim)\n",
    "\n",
    "    # Add a color bar to show how colors map to z values\n",
    "    #fig.colorbar(sc, ax=ax, label=labels[3])\n",
    "    fig.colorbar(matplotlib.cm.ScalarMappable(norm=norm, cmap=cmap),\n",
    "                cax=ax2, extend=\"max\", label=\"OT Year\")\n",
    "             \n",
    "    # Set axis labels\n",
    "    ax.set_xlabel(\"Mag\")\n",
    "    ax.set_ylabel(\"source_receiver_dist_logkm\")\n",
    "    ax.set_zlabel(z_feature)\n",
    "\n",
    "    plt.show()\n",
    "\n",
    "# Use ipywidgets interact function to make the plot interactive\n",
    "interact(plot_3d_scatter,\n",
    "         z_feature=feature_names[feature_inds],\n",
    "         scaled_X=True,\n",
    "         elev=widgets.FloatSlider(min=-180, max=180, step=1, value=10, description='Elevation'),\n",
    "         azim=widgets.FloatSlider(min=-180, max=180, step=1, value=-110, description='Azimuth'));\n"
   ]
  },
  {
   "cell_type": "code",
   "execution_count": 15,
   "metadata": {},
   "outputs": [
    {
     "data": {
      "application/vnd.jupyter.widget-view+json": {
       "model_id": "96b0a4056adf48139cfa4e68eeb17333",
       "version_major": 2,
       "version_minor": 0
      },
      "text/plain": [
       "interactive(children=(Dropdown(description='x_feat', index=1, options=('mag', 'ot'), value='ot'), Dropdown(des…"
      ]
     },
     "metadata": {},
     "output_type": "display_data"
    }
   ],
   "source": [
    "\n",
    "def plot_2d_scatter(x_feat=\"ot\", y_feat=\"mag\", color_feat=\"signal_variance\"):\n",
    "\n",
    "    if x_feat == \"mag\":\n",
    "        x = all_y\n",
    "        x_label = \"$M_{L,YP21}$\"\n",
    "    elif x_feat == \"ot\":\n",
    "        x = mdates.date2num(pd.to_datetime(all_ot, unit=\"s\"))\n",
    "        x_label = \"Origin Time\"\n",
    "\n",
    "    if y_feat == \"mag\":\n",
    "        y = all_y\n",
    "        y_label = \"$M_{L,YP21}$\"\n",
    "    else:\n",
    "        y_feat_ind = np.where(feature_names[feature_inds] == y_feat)[0][0]\n",
    "        y = all_X_s[:, y_feat_ind]\n",
    "        y_label = feature_plot_names[np.where(feature_names == y_feat)[0]][0]\n",
    "\n",
    "    cmap = matplotlib.colormaps[\"viridis\"]\n",
    "\n",
    "    format = None\n",
    "    if color_feat == \"mag\":\n",
    "        c = all_y\n",
    "        c_label = \"$M_{L,YP21}$\"\n",
    "    elif color_feat == \"ot\":\n",
    "        c = mdates.date2num(pd.to_datetime(all_ot, unit=\"s\"))\n",
    "        c_label = \"Origin Time\"\n",
    "        format = DateFormatter('%Y')\n",
    "    else:\n",
    "        c_feat_ind = np.where(feature_names[feature_inds] == color_feat)[0][0]\n",
    "        c = all_X_s[:, c_feat_ind]\n",
    "        c_label = feature_plot_names[np.where(feature_names == color_feat)[0]][0]\n",
    "\n",
    "    fig, ax = plt.subplots(1)\n",
    "    s = ax.scatter(x,\n",
    "                  y,\n",
    "                  c=c,\n",
    "                  cmap=cmap\n",
    "                )\n",
    "\n",
    "    ax.set_xlabel(x_label)\n",
    "    ax.set_ylabel(y_label)\n",
    "    cb = fig.colorbar(s, label=c_label, format=format)\n",
    "\n",
    "    if x_feat == \"ot\":\n",
    "        ax.xaxis.set_major_locator(mdates.YearLocator())\n",
    "        ax.xaxis.set_major_formatter(mdates.DateFormatter('%Y'))\n",
    "\n",
    "interact(plot_2d_scatter,\n",
    "         x_feat=[\"mag\", \"ot\"],\n",
    "         y_feat=[\"mag\", *selected_features],\n",
    "         color_feat=[\"mag\", \"ot\", *selected_features],\n",
    "        );\n"
   ]
  },
  {
   "cell_type": "markdown",
   "metadata": {},
   "source": [
    "# Binned plots"
   ]
  },
  {
   "cell_type": "code",
   "execution_count": 16,
   "metadata": {},
   "outputs": [],
   "source": [
    "def mag_year_bin_stats(X, y, ot, feature_ind):\n",
    "    starttime = datetime(2013, 1, 1, tzinfo=timezone.utc).timestamp()\n",
    "    summary = []\n",
    "    for i, year in enumerate(range(2014, 2025)):\n",
    "        endtime = datetime(year, 1, 1, tzinfo=timezone.utc).timestamp()\n",
    "        # print(starttime, endtime)\n",
    "        year_inds = np.where((ot >= starttime) & (ot < endtime))[0]\n",
    "        year_filt_X = X[year_inds, feature_ind:feature_ind+1]\n",
    "        year_filt_y = y[year_inds]\n",
    "        startmag = 0.0\n",
    "        for endmag in np.arange(0.5, 5.0, 0.5):\n",
    "            mag_inds = np.where((year_filt_y >= startmag) & (year_filt_y < endmag))[0]\n",
    "            if len(mag_inds) < 2:\n",
    "                startmag=endmag\n",
    "                q1, median, q3, mean = np.nan, np.nan, np.nan, np.nan\n",
    "            else:  \n",
    "                pos = (endmag+startmag)/2\n",
    "                #print(startmag, endmag, pos)   \n",
    "                q1, median, q3 = np.quantile(year_filt_X[mag_inds, :], [0.25, 0.5, 0.75])\n",
    "                mean = np.mean(year_filt_X[mag_inds, :])\n",
    "            summary.append([starttime, endtime, startmag, endmag, q1, median, q3, mean, len(mag_inds)])\n",
    "            startmag=endmag\n",
    "        starttime = endtime\n",
    "    df = pd.DataFrame(summary, columns=[\"start_time\", \"end_time\", \"start_mag\", \"end_mag\", \"q1\", \"median\", \"q3\", \"mean\", \"N\"])\n",
    "    return df"
   ]
  },
  {
   "cell_type": "code",
   "execution_count": 17,
   "metadata": {},
   "outputs": [],
   "source": [
    "year_mag_bin_dict = {}\n",
    "for feature_name in [*selected_features, \"amp_ratio_1\", \"amp_ratio_2\"]:\n",
    "    ind = np.where(feature_names == feature_name)[0][0]\n",
    "    \n",
    "    df = mag_year_bin_stats(all_X, all_y, all_ot, ind)\n",
    "    year_mag_bin_dict[feature_name] = {\"plot_name\":feature_plot_names[ind],\n",
    "                                       \"ind\":ind,\n",
    "                                       \"df\":df\n",
    "                                        }\n",
    "    if feature_name in selected_features:\n",
    "        scaled_ind = np.where(feature_names[feature_inds] == feature_name)[0][0]\n",
    "        scaled_df = mag_year_bin_stats(all_X_s, all_y, all_ot, scaled_ind)\n",
    "        year_mag_bin_dict[f\"scaled_{feature_name}\"] = {\"plot_name\":f\"scaled {feature_plot_names[ind]}\",\n",
    "                                                        \"scaled_ind\":scaled_ind,\n",
    "                                                        \"df\":scaled_df\n",
    "                                                        }"
   ]
  },
  {
   "cell_type": "code",
   "execution_count": 18,
   "metadata": {},
   "outputs": [
    {
     "data": {
      "text/plain": [
       "Text(0, 0.5, 'Number of examples (training ex. only before 2023)')"
      ]
     },
     "execution_count": 18,
     "metadata": {},
     "output_type": "execute_result"
    },
    {
     "data": {
      "image/png": "[encoded data removed]",
      "text/plain": [
       "<Figure size 640x480 with 1 Axes>"
      ]
     },
     "metadata": {},
     "output_type": "display_data"
    }
   ],
   "source": [
    "## 2017 had the Maple Creek Sequence\n",
    "year_cnts = df.groupby(\"start_time\")[\"N\"].sum().reset_index()\n",
    "plt.plot(year_cnts.apply(lambda x: datetime.fromtimestamp(x[\"start_time\"], \n",
    "                                   tz=timezone.utc).year, axis=1), \n",
    "         year_cnts[\"N\"], marker=\"o\")\n",
    "plt.xlabel(\"Year\")\n",
    "plt.ylabel(\"Number of examples (training ex. only before 2023)\")"
   ]
  },
  {
   "cell_type": "code",
   "execution_count": 19,
   "metadata": {},
   "outputs": [],
   "source": [
    "def plot_amp_and_snr(amp_feature_name, sr_feature_name, binstartmags):\n",
    "    amp_df = year_mag_bin_dict[amp_feature_name][\"df\"]\n",
    "    sr_df = year_mag_bin_dict[sr_feature_name][\"df\"]\n",
    "    amp_label = year_mag_bin_dict[amp_feature_name][\"plot_name\"]\n",
    "    sr_label = year_mag_bin_dict[sr_feature_name][\"plot_name\"]\n",
    "    for startmag in binstartmags:     \n",
    "        fig, ax = plt.subplots(1, 2,\n",
    "                        constrained_layout=True,\n",
    "                        figsize=(8, 4))\n",
    "        fig.suptitle(f\"M {startmag} - {startmag + 0.5}\")\n",
    "        startmag_df = amp_df[amp_df[\"start_mag\"] == startmag]  \n",
    "        print(startmag, startmag_df.iloc[-1][\"N\"])      \n",
    "        ax[0].plot(startmag_df.apply(lambda x: datetime.fromtimestamp(x[\"start_time\"], \n",
    "                                        tz=timezone.utc).year, axis=1),\n",
    "                    startmag_df[\"median\"],\n",
    "                    c=\"k\",\n",
    "                    marker='o')\n",
    "        ax[0].errorbar(startmag_df.apply(lambda x: datetime.fromtimestamp(x[\"start_time\"], \n",
    "                                        tz=timezone.utc).year, axis=1),\n",
    "                    startmag_df[\"median\"],\n",
    "                    abs(startmag_df[[\"median\", \"median\"]] - startmag_df[[\"q1\", \"q3\"]].values).values.T,\n",
    "                    color=\"k\", \n",
    "                    capsize=10)\n",
    "        \n",
    "        \n",
    "        srdist_startmag_df = sr_df[sr_df[\"start_mag\"] == startmag]  \n",
    "        ax[1].plot(srdist_startmag_df.apply(lambda x: datetime.fromtimestamp(x[\"start_time\"], \n",
    "                                        tz=timezone.utc).year, axis=1),\n",
    "                    srdist_startmag_df[\"median\"],\n",
    "                    c=\"k\",\n",
    "                    marker='o')\n",
    "        ax[1].errorbar(srdist_startmag_df.apply(lambda x: datetime.fromtimestamp(x[\"start_time\"], \n",
    "                                        tz=timezone.utc).year, axis=1),\n",
    "                    srdist_startmag_df[\"median\"],\n",
    "                    abs(srdist_startmag_df[[\"median\", \"median\"]] - srdist_startmag_df[[\"q1\", \"q3\"]].values).values.T,\n",
    "                    color=\"k\", \n",
    "                    capsize=10)\n",
    "        ax[1].set_ylabel(f\"Median {sr_label}\")\n",
    "        ax[0].set_xlabel(\"OT Year\")\n",
    "        ax[0].set_ylabel(f\"Median {amp_label}\")"
   ]
  },
  {
   "cell_type": "code",
   "execution_count": 20,
   "metadata": {},
   "outputs": [
    {
     "name": "stdout",
     "output_type": "stream",
     "text": [
      "1.5 10.0\n",
      "2.0 11.0\n"
     ]
    },
    {
     "data": {
      "image/png": "[encoded data removed]",
      "text/plain": [
       "<Figure size 800x400 with 2 Axes>"
      ]
     },
     "metadata": {},
     "output_type": "display_data"
    },
    {
     "data": {
      "image/png": "[encoded data removed]",
      "text/plain": [
       "<Figure size 800x400 with 2 Axes>"
      ]
     },
     "metadata": {},
     "output_type": "display_data"
    }
   ],
   "source": [
    "plot_amp_and_snr(\"scaled_amp_2\", \n",
    "                 \"scaled_source_receiver_distance_logkm\", \n",
    "                 [1.5, 2.0])"
   ]
  },
  {
   "cell_type": "code",
   "execution_count": 21,
   "metadata": {},
   "outputs": [],
   "source": [
    "# Scaled feature as a function of time\n",
    "def plot_mag_binned(y_feature=\"scaled_amp_2\", start_mags=\"2023\", use_mean=True):\n",
    "    cmap = matplotlib.colormaps[\"viridis\"]\n",
    "    color_bounds = np.arange(0.0, 5.0, 0.5)\n",
    "    norm = matplotlib.colors.BoundaryNorm(color_bounds, cmap.N, extend='both')\n",
    "    \n",
    "    df = year_mag_bin_dict[y_feature][\"df\"]\n",
    "    y_label = year_mag_bin_dict[y_feature][\"plot_name\"]\n",
    "    if start_mags == \"all\":\n",
    "        start_mags = df[\"start_mag\"].unique()\n",
    "    elif start_mags == \"2023\":\n",
    "        start_mags = df[(df[\"start_time\"] == 1672531200.0) & \n",
    "                        (~np.isnan(df[\"mean\"]))][\"start_mag\"].values\n",
    "    metric = \"mean\"\n",
    "    if not use_mean:\n",
    "        metric = \"median\"\n",
    "\n",
    "    fig, ax = plt.subplots(1, 2,\n",
    "                        width_ratios=[0.95, 0.05])\n",
    "    print(\"2023 counts\")\n",
    "    for startmag in start_mags:     \n",
    "        startmag_df = df[df[\"start_mag\"] == startmag]  \n",
    "        cmap_input = (startmag_df.iloc[0][\"end_mag\"]+startmag_df.iloc[0][\"start_mag\"])/2\n",
    "        print(startmag, startmag_df.iloc[-1][\"N\"])       \n",
    "        ax[0].plot(startmag_df.apply(lambda x: datetime.fromtimestamp(x[\"start_time\"], \n",
    "                                        tz=timezone.utc).year, axis=1),\n",
    "                    startmag_df[metric],\n",
    "                    c=cmap(norm(cmap_input)),\n",
    "                    marker='o')\n",
    "\n",
    "    fig.colorbar(matplotlib.cm.ScalarMappable(norm=norm, cmap=cmap),\n",
    "                cax=ax[1], extend='max', label=\"$M_{L,YP21}$\"\n",
    "                )\n",
    "\n",
    "    ax[0].set_xlabel(\"Origin Time (Year)\")\n",
    "    ax[0].set_ylabel(f\"{metric} {y_label}\")"
   ]
  },
  {
   "cell_type": "code",
   "execution_count": 22,
   "metadata": {},
   "outputs": [
    {
     "data": {
      "application/vnd.jupyter.widget-view+json": {
       "model_id": "58367c0978e045adbed34f19c8ac7284",
       "version_major": 2,
       "version_minor": 0
      },
      "text/plain": [
       "interactive(children=(Dropdown(description='y_feature', index=3, options=('amp_1', 'scaled_amp_1', 'amp_2', 's…"
      ]
     },
     "metadata": {},
     "output_type": "display_data"
    },
    {
     "data": {
      "text/plain": [
       "<function __main__.plot_mag_binned(y_feature='scaled_amp_2', start_mags='2023', use_mean=True)>"
      ]
     },
     "execution_count": 22,
     "metadata": {},
     "output_type": "execute_result"
    }
   ],
   "source": [
    "interact(plot_mag_binned,\n",
    "         y_feature=year_mag_bin_dict.keys(),\n",
    "         start_mags=[\"all\", \"2023\"],\n",
    "         use_mean=True)"
   ]
  },
  {
   "cell_type": "code",
   "execution_count": 23,
   "metadata": {},
   "outputs": [
    {
     "data": {
      "application/vnd.jupyter.widget-view+json": {
       "model_id": "42825db1bfe246eaa62635e3e67fd7ee",
       "version_major": 2,
       "version_minor": 0
      },
      "text/plain": [
       "interactive(children=(Dropdown(description='y_feature', index=3, options=('amp_1', 'scaled_amp_1', 'amp_2', 's…"
      ]
     },
     "metadata": {},
     "output_type": "display_data"
    },
    {
     "data": {
      "text/plain": [
       "<function __main__.plot_mag_binned_y(y_feature='scaled_amp_2', start_mags='2023', use_mean=True)>"
      ]
     },
     "execution_count": 23,
     "metadata": {},
     "output_type": "execute_result"
    }
   ],
   "source": [
    "# Scaled features by magnitude bin\n",
    "def plot_mag_binned_y(y_feature=\"scaled_amp_2\", start_mags=\"2023\", use_mean=True):\n",
    "    cmap = matplotlib.colormaps[\"viridis\"]\n",
    "    color_bounds = np.arange(2013, 2024)\n",
    "    norm = matplotlib.colors.BoundaryNorm(color_bounds, cmap.N, extend='both')\n",
    "    \n",
    "    df = year_mag_bin_dict[y_feature][\"df\"]\n",
    "    y_label = year_mag_bin_dict[y_feature][\"plot_name\"]\n",
    "\n",
    "    if start_mags == \"2023\":\n",
    "        df = df[df[\"start_mag\"].isin(df[(df[\"start_time\"] == 1672531200.0) \n",
    "                                        & (~np.isnan(df[\"mean\"]))][\"start_mag\"])]\n",
    "    metric = \"mean\"\n",
    "    if not use_mean:\n",
    "        metric = \"median\"\n",
    "\n",
    "    fig, ax = plt.subplots(1, 2,\n",
    "                        width_ratios=[0.95, 0.05])\n",
    "\n",
    "\n",
    "    ax[0].scatter((df[\"end_mag\"]+df[\"start_mag\"])/2,\n",
    "                    df[\"mean\"],\n",
    "                c=df.apply(lambda x: datetime.fromtimestamp(x[\"start_time\"], \n",
    "                                    tz=timezone.utc).year, axis=1),\n",
    "                cmap=cmap)\n",
    "    fig.colorbar(matplotlib.cm.ScalarMappable(norm=norm, cmap=cmap),\n",
    "                cax=ax[1], extend=\"max\", label=\"OT Year\"\n",
    "                )\n",
    "\n",
    "    ax[0].set_xlabel(\"$M_{L,YP21}$\")\n",
    "    ax[0].set_ylabel(f\"{metric} {y_label}\")\n",
    "\n",
    "interact(plot_mag_binned_y,\n",
    "         y_feature=year_mag_bin_dict.keys(),\n",
    "         start_mags=[\"all\", \"2023\"],\n",
    "         use_mean=True)"
   ]
  },
  {
   "cell_type": "markdown",
   "metadata": {},
   "source": [
    "# Plot $R^2$ values as a function of time"
   ]
  },
  {
   "cell_type": "code",
   "execution_count": 24,
   "metadata": {},
   "outputs": [],
   "source": [
    "def compute_r2_v_time(cat, X, ds_type):\n",
    "    starttime = datetime(2013, 1, 1, tzinfo=timezone.utc).timestamp()\n",
    "    summary = []\n",
    "    for i, year in enumerate(range(2014, 2024)):\n",
    "        endtime = datetime(year, 1, 1, tzinfo=timezone.utc).timestamp()\n",
    "        inds = np.where((cat[\"origin_time\"] >= starttime) & (cat[\"origin_time\"] < endtime))[0]\n",
    "        assert np.array_equal(cat[\"evid\"].iloc[inds], station_meta_dict[f\"evids_{ds_type}\"].iloc[inds])\n",
    "        y_year_preds = model.predict(X[inds, :])\n",
    "        summary.append([year-1, \n",
    "                        r2_score(station_meta_dict[f\"y_{ds_type}\"][inds],\n",
    "                                    y_year_preds), \n",
    "                        len(inds)])\n",
    "        starttime = endtime\n",
    "\n",
    "    return pd.DataFrame(summary, columns=[\"year\", \"r2\", \"N\"])\n"
   ]
  },
  {
   "cell_type": "code",
   "execution_count": 25,
   "metadata": {},
   "outputs": [],
   "source": [
    "test_r2s = compute_r2_v_time(test_cat, X_test_s, \"test\")\n",
    "train_r2s = compute_r2_v_time(train_cat, X_train_s, \"train\")"
   ]
  },
  {
   "cell_type": "code",
   "execution_count": 26,
   "metadata": {},
   "outputs": [
    {
     "data": {
      "text/plain": [
       "Text(0, 0.5, 'Number of Examples')"
      ]
     },
     "execution_count": 26,
     "metadata": {},
     "output_type": "execute_result"
    },
    {
     "data": {
      "image/png": "[encoded data removed]",
      "text/plain": [
       "<Figure size 640x480 with 2 Axes>"
      ]
     },
     "metadata": {},
     "output_type": "display_data"
    }
   ],
   "source": [
    "fig, ax = plt.subplots(1)\n",
    "\n",
    "ax.plot(train_r2s[\"year\"], train_r2s[\"r2\"], marker=\"o\", label=\"Train $R^2$\")\n",
    "ax.plot(test_r2s[\"year\"], test_r2s[\"r2\"], marker=\"o\", label=\"Test A $R^2$\")\n",
    "\n",
    "ax2 = ax.twinx()\n",
    "\n",
    "ax2.plot(train_r2s[\"year\"], train_r2s[\"N\"], marker=\"x\", linestyle=\"--\", label=\"Train N\")\n",
    "ax2.plot(test_r2s[\"year\"], test_r2s[\"N\"], marker=\"x\", linestyle=\"--\", label=\"Test A N\")\n",
    "\n",
    "# plt.plot(2023, \n",
    "#          r2_score(preds_2023[\"magnitude\"], \n",
    "#                         preds_2023[\"predicted_magnitude\"]),\n",
    "#          marker=\"o\",\n",
    "#          label=\"Test B\")\n",
    "ax.legend()\n",
    "ax.set_ylabel(\"$R^2$\")\n",
    "ax.set_xlabel(\"Year\")\n",
    "ax2.set_ylabel(\"Number of Examples\")"
   ]
  },
  {
   "cell_type": "code",
   "execution_count": 59,
   "metadata": {},
   "outputs": [
    {
     "data": {
      "text/plain": [
       "0.12430747922437674"
      ]
     },
     "execution_count": 59,
     "metadata": {},
     "output_type": "execute_result"
    }
   ],
   "source": [
    "train_r2s[train_r2s.year.isin([2021, 2022])][\"N\"].sum() / train_r2s[\"N\"].sum()"
   ]
  },
  {
   "cell_type": "code",
   "execution_count": 60,
   "metadata": {},
   "outputs": [
    {
     "data": {
      "text/plain": [
       "0.12939521800281295"
      ]
     },
     "execution_count": 60,
     "metadata": {},
     "output_type": "execute_result"
    }
   ],
   "source": [
    "test_r2s[test_r2s.year.isin([2021, 2022])][\"N\"].sum() / test_r2s[\"N\"].sum()"
   ]
  },
  {
   "cell_type": "code",
   "execution_count": 41,
   "metadata": {},
   "outputs": [],
   "source": [
    "train_resid_years = train_cat[train_cat[\"evid\"].isin(station_meta_dict[\"evids_train\"].iloc[np.where(abs(model.predict(X_train_s) - station_meta_dict[\"y_train\"]) > 0.5)[0]])].apply(lambda x: datetime.fromtimestamp(x[\"origin_time\"], tz=timezone.utc).year, axis=1).value_counts().reset_index()"
   ]
  },
  {
   "cell_type": "code",
   "execution_count": 46,
   "metadata": {},
   "outputs": [],
   "source": [
    "train_resid_years[\"percent\"] = train_resid_years[\"count\"] / train_resid_years[\"count\"].sum()"
   ]
  },
  {
   "cell_type": "code",
   "execution_count": 52,
   "metadata": {},
   "outputs": [
    {
     "data": {
      "text/html": [
       "<div>\n",
       "<style scoped>\n",
       "    .dataframe tbody tr th:only-of-type {\n",
       "        vertical-align: middle;\n",
       "    }\n",
       "\n",
       "    .dataframe tbody tr th {\n",
       "        vertical-align: top;\n",
       "    }\n",
       "\n",
       "    .dataframe thead th {\n",
       "        text-align: right;\n",
       "    }\n",
       "</style>\n",
       "<table border=\"1\" class=\"dataframe\">\n",
       "  <thead>\n",
       "    <tr style=\"text-align: right;\">\n",
       "      <th></th>\n",
       "      <th>index</th>\n",
       "      <th>count</th>\n",
       "      <th>percent</th>\n",
       "    </tr>\n",
       "  </thead>\n",
       "  <tbody>\n",
       "    <tr>\n",
       "      <th>8</th>\n",
       "      <td>2013</td>\n",
       "      <td>4</td>\n",
       "      <td>0.027397</td>\n",
       "    </tr>\n",
       "    <tr>\n",
       "      <th>2</th>\n",
       "      <td>2014</td>\n",
       "      <td>18</td>\n",
       "      <td>0.123288</td>\n",
       "    </tr>\n",
       "    <tr>\n",
       "      <th>9</th>\n",
       "      <td>2015</td>\n",
       "      <td>3</td>\n",
       "      <td>0.020548</td>\n",
       "    </tr>\n",
       "    <tr>\n",
       "      <th>7</th>\n",
       "      <td>2016</td>\n",
       "      <td>6</td>\n",
       "      <td>0.041096</td>\n",
       "    </tr>\n",
       "    <tr>\n",
       "      <th>5</th>\n",
       "      <td>2017</td>\n",
       "      <td>8</td>\n",
       "      <td>0.054795</td>\n",
       "    </tr>\n",
       "    <tr>\n",
       "      <th>4</th>\n",
       "      <td>2018</td>\n",
       "      <td>14</td>\n",
       "      <td>0.095890</td>\n",
       "    </tr>\n",
       "    <tr>\n",
       "      <th>6</th>\n",
       "      <td>2019</td>\n",
       "      <td>7</td>\n",
       "      <td>0.047945</td>\n",
       "    </tr>\n",
       "    <tr>\n",
       "      <th>3</th>\n",
       "      <td>2020</td>\n",
       "      <td>16</td>\n",
       "      <td>0.109589</td>\n",
       "    </tr>\n",
       "    <tr>\n",
       "      <th>1</th>\n",
       "      <td>2021</td>\n",
       "      <td>34</td>\n",
       "      <td>0.232877</td>\n",
       "    </tr>\n",
       "    <tr>\n",
       "      <th>0</th>\n",
       "      <td>2022</td>\n",
       "      <td>36</td>\n",
       "      <td>0.246575</td>\n",
       "    </tr>\n",
       "  </tbody>\n",
       "</table>\n",
       "</div>"
      ],
      "text/plain": [
       "   index  count   percent\n",
       "8   2013      4  0.027397\n",
       "2   2014     18  0.123288\n",
       "9   2015      3  0.020548\n",
       "7   2016      6  0.041096\n",
       "5   2017      8  0.054795\n",
       "4   2018     14  0.095890\n",
       "6   2019      7  0.047945\n",
       "3   2020     16  0.109589\n",
       "1   2021     34  0.232877\n",
       "0   2022     36  0.246575"
      ]
     },
     "execution_count": 52,
     "metadata": {},
     "output_type": "execute_result"
    }
   ],
   "source": [
    "train_resid_years.sort_values(\"index\")"
   ]
  },
  {
   "cell_type": "code",
   "execution_count": 54,
   "metadata": {},
   "outputs": [
    {
     "data": {
      "text/plain": [
       "0.4794520547945205"
      ]
     },
     "execution_count": 54,
     "metadata": {},
     "output_type": "execute_result"
    }
   ],
   "source": [
    "(34+36)/train_resid_years[\"count\"].sum()"
   ]
  },
  {
   "cell_type": "code",
   "execution_count": 50,
   "metadata": {},
   "outputs": [],
   "source": [
    "test_resid_years = test_cat[test_cat[\"evid\"].isin(station_meta_dict[\"evids_test\"].iloc[np.where(abs(model.predict(X_test_s) - station_meta_dict[\"y_test\"]) > 0.5)[0]])].apply(lambda x: datetime.fromtimestamp(x[\"origin_time\"], tz=timezone.utc).year, axis=1).value_counts().reset_index()\n",
    "test_resid_years[\"percent\"] = test_resid_years[\"count\"] / test_resid_years[\"count\"].sum()"
   ]
  },
  {
   "cell_type": "code",
   "execution_count": 53,
   "metadata": {},
   "outputs": [
    {
     "data": {
      "text/html": [
       "<div>\n",
       "<style scoped>\n",
       "    .dataframe tbody tr th:only-of-type {\n",
       "        vertical-align: middle;\n",
       "    }\n",
       "\n",
       "    .dataframe tbody tr th {\n",
       "        vertical-align: top;\n",
       "    }\n",
       "\n",
       "    .dataframe thead th {\n",
       "        text-align: right;\n",
       "    }\n",
       "</style>\n",
       "<table border=\"1\" class=\"dataframe\">\n",
       "  <thead>\n",
       "    <tr style=\"text-align: right;\">\n",
       "      <th></th>\n",
       "      <th>index</th>\n",
       "      <th>count</th>\n",
       "      <th>percent</th>\n",
       "    </tr>\n",
       "  </thead>\n",
       "  <tbody>\n",
       "    <tr>\n",
       "      <th>8</th>\n",
       "      <td>2012</td>\n",
       "      <td>1</td>\n",
       "      <td>0.018868</td>\n",
       "    </tr>\n",
       "    <tr>\n",
       "      <th>9</th>\n",
       "      <td>2013</td>\n",
       "      <td>1</td>\n",
       "      <td>0.018868</td>\n",
       "    </tr>\n",
       "    <tr>\n",
       "      <th>3</th>\n",
       "      <td>2014</td>\n",
       "      <td>6</td>\n",
       "      <td>0.113208</td>\n",
       "    </tr>\n",
       "    <tr>\n",
       "      <th>10</th>\n",
       "      <td>2015</td>\n",
       "      <td>1</td>\n",
       "      <td>0.018868</td>\n",
       "    </tr>\n",
       "    <tr>\n",
       "      <th>6</th>\n",
       "      <td>2016</td>\n",
       "      <td>3</td>\n",
       "      <td>0.056604</td>\n",
       "    </tr>\n",
       "    <tr>\n",
       "      <th>4</th>\n",
       "      <td>2017</td>\n",
       "      <td>5</td>\n",
       "      <td>0.094340</td>\n",
       "    </tr>\n",
       "    <tr>\n",
       "      <th>7</th>\n",
       "      <td>2018</td>\n",
       "      <td>3</td>\n",
       "      <td>0.056604</td>\n",
       "    </tr>\n",
       "    <tr>\n",
       "      <th>2</th>\n",
       "      <td>2019</td>\n",
       "      <td>8</td>\n",
       "      <td>0.150943</td>\n",
       "    </tr>\n",
       "    <tr>\n",
       "      <th>5</th>\n",
       "      <td>2020</td>\n",
       "      <td>4</td>\n",
       "      <td>0.075472</td>\n",
       "    </tr>\n",
       "    <tr>\n",
       "      <th>0</th>\n",
       "      <td>2021</td>\n",
       "      <td>12</td>\n",
       "      <td>0.226415</td>\n",
       "    </tr>\n",
       "    <tr>\n",
       "      <th>1</th>\n",
       "      <td>2022</td>\n",
       "      <td>9</td>\n",
       "      <td>0.169811</td>\n",
       "    </tr>\n",
       "  </tbody>\n",
       "</table>\n",
       "</div>"
      ],
      "text/plain": [
       "    index  count   percent\n",
       "8    2012      1  0.018868\n",
       "9    2013      1  0.018868\n",
       "3    2014      6  0.113208\n",
       "10   2015      1  0.018868\n",
       "6    2016      3  0.056604\n",
       "4    2017      5  0.094340\n",
       "7    2018      3  0.056604\n",
       "2    2019      8  0.150943\n",
       "5    2020      4  0.075472\n",
       "0    2021     12  0.226415\n",
       "1    2022      9  0.169811"
      ]
     },
     "execution_count": 53,
     "metadata": {},
     "output_type": "execute_result"
    }
   ],
   "source": [
    "test_resid_years.sort_values(\"index\")"
   ]
  },
  {
   "cell_type": "code",
   "execution_count": 67,
   "metadata": {},
   "outputs": [
    {
     "data": {
      "text/html": [
       "<div>\n",
       "<style scoped>\n",
       "    .dataframe tbody tr th:only-of-type {\n",
       "        vertical-align: middle;\n",
       "    }\n",
       "\n",
       "    .dataframe tbody tr th {\n",
       "        vertical-align: top;\n",
       "    }\n",
       "\n",
       "    .dataframe thead th {\n",
       "        text-align: right;\n",
       "    }\n",
       "</style>\n",
       "<table border=\"1\" class=\"dataframe\">\n",
       "  <thead>\n",
       "    <tr style=\"text-align: right;\">\n",
       "      <th></th>\n",
       "      <th>year</th>\n",
       "      <th>r2</th>\n",
       "      <th>N</th>\n",
       "    </tr>\n",
       "  </thead>\n",
       "  <tbody>\n",
       "    <tr>\n",
       "      <th>0</th>\n",
       "      <td>2013</td>\n",
       "      <td>0.889698</td>\n",
       "      <td>403</td>\n",
       "    </tr>\n",
       "    <tr>\n",
       "      <th>1</th>\n",
       "      <td>2014</td>\n",
       "      <td>0.844732</td>\n",
       "      <td>394</td>\n",
       "    </tr>\n",
       "    <tr>\n",
       "      <th>2</th>\n",
       "      <td>2015</td>\n",
       "      <td>0.842028</td>\n",
       "      <td>176</td>\n",
       "    </tr>\n",
       "    <tr>\n",
       "      <th>3</th>\n",
       "      <td>2016</td>\n",
       "      <td>0.756747</td>\n",
       "      <td>118</td>\n",
       "    </tr>\n",
       "    <tr>\n",
       "      <th>4</th>\n",
       "      <td>2017</td>\n",
       "      <td>0.889069</td>\n",
       "      <td>807</td>\n",
       "    </tr>\n",
       "    <tr>\n",
       "      <th>5</th>\n",
       "      <td>2018</td>\n",
       "      <td>0.770690</td>\n",
       "      <td>317</td>\n",
       "    </tr>\n",
       "    <tr>\n",
       "      <th>6</th>\n",
       "      <td>2019</td>\n",
       "      <td>0.732854</td>\n",
       "      <td>129</td>\n",
       "    </tr>\n",
       "    <tr>\n",
       "      <th>7</th>\n",
       "      <td>2020</td>\n",
       "      <td>0.682911</td>\n",
       "      <td>185</td>\n",
       "    </tr>\n",
       "    <tr>\n",
       "      <th>8</th>\n",
       "      <td>2021</td>\n",
       "      <td>0.464526</td>\n",
       "      <td>137</td>\n",
       "    </tr>\n",
       "    <tr>\n",
       "      <th>9</th>\n",
       "      <td>2022</td>\n",
       "      <td>0.690431</td>\n",
       "      <td>222</td>\n",
       "    </tr>\n",
       "  </tbody>\n",
       "</table>\n",
       "</div>"
      ],
      "text/plain": [
       "   year        r2    N\n",
       "0  2013  0.889698  403\n",
       "1  2014  0.844732  394\n",
       "2  2015  0.842028  176\n",
       "3  2016  0.756747  118\n",
       "4  2017  0.889069  807\n",
       "5  2018  0.770690  317\n",
       "6  2019  0.732854  129\n",
       "7  2020  0.682911  185\n",
       "8  2021  0.464526  137\n",
       "9  2022  0.690431  222"
      ]
     },
     "execution_count": 67,
     "metadata": {},
     "output_type": "execute_result"
    }
   ],
   "source": [
    "train_r2s"
   ]
  },
  {
   "cell_type": "code",
   "execution_count": 79,
   "metadata": {},
   "outputs": [],
   "source": [
    "merged_r2s = train_r2s.merge(test_r2s, on=\"year\", suffixes=[\"_train\", \"_test\"])"
   ]
  },
  {
   "cell_type": "code",
   "execution_count": 80,
   "metadata": {},
   "outputs": [
    {
     "data": {
      "text/html": [
       "<div>\n",
       "<style scoped>\n",
       "    .dataframe tbody tr th:only-of-type {\n",
       "        vertical-align: middle;\n",
       "    }\n",
       "\n",
       "    .dataframe tbody tr th {\n",
       "        vertical-align: top;\n",
       "    }\n",
       "\n",
       "    .dataframe thead th {\n",
       "        text-align: right;\n",
       "    }\n",
       "</style>\n",
       "<table border=\"1\" class=\"dataframe\">\n",
       "  <thead>\n",
       "    <tr style=\"text-align: right;\">\n",
       "      <th></th>\n",
       "      <th>year</th>\n",
       "      <th>r2_train</th>\n",
       "      <th>N_train</th>\n",
       "      <th>r2_test</th>\n",
       "      <th>N_test</th>\n",
       "      <th>N_total</th>\n",
       "    </tr>\n",
       "  </thead>\n",
       "  <tbody>\n",
       "    <tr>\n",
       "      <th>0</th>\n",
       "      <td>2013</td>\n",
       "      <td>0.889698</td>\n",
       "      <td>403</td>\n",
       "      <td>0.888339</td>\n",
       "      <td>78</td>\n",
       "      <td>481</td>\n",
       "    </tr>\n",
       "    <tr>\n",
       "      <th>1</th>\n",
       "      <td>2014</td>\n",
       "      <td>0.844732</td>\n",
       "      <td>394</td>\n",
       "      <td>0.802655</td>\n",
       "      <td>109</td>\n",
       "      <td>503</td>\n",
       "    </tr>\n",
       "    <tr>\n",
       "      <th>2</th>\n",
       "      <td>2015</td>\n",
       "      <td>0.842028</td>\n",
       "      <td>176</td>\n",
       "      <td>0.838879</td>\n",
       "      <td>43</td>\n",
       "      <td>219</td>\n",
       "    </tr>\n",
       "    <tr>\n",
       "      <th>3</th>\n",
       "      <td>2016</td>\n",
       "      <td>0.756747</td>\n",
       "      <td>118</td>\n",
       "      <td>0.760342</td>\n",
       "      <td>24</td>\n",
       "      <td>142</td>\n",
       "    </tr>\n",
       "    <tr>\n",
       "      <th>4</th>\n",
       "      <td>2017</td>\n",
       "      <td>0.889069</td>\n",
       "      <td>807</td>\n",
       "      <td>0.891716</td>\n",
       "      <td>196</td>\n",
       "      <td>1003</td>\n",
       "    </tr>\n",
       "    <tr>\n",
       "      <th>5</th>\n",
       "      <td>2018</td>\n",
       "      <td>0.770690</td>\n",
       "      <td>317</td>\n",
       "      <td>0.695509</td>\n",
       "      <td>89</td>\n",
       "      <td>406</td>\n",
       "    </tr>\n",
       "    <tr>\n",
       "      <th>6</th>\n",
       "      <td>2019</td>\n",
       "      <td>0.732854</td>\n",
       "      <td>129</td>\n",
       "      <td>0.664967</td>\n",
       "      <td>29</td>\n",
       "      <td>158</td>\n",
       "    </tr>\n",
       "    <tr>\n",
       "      <th>7</th>\n",
       "      <td>2020</td>\n",
       "      <td>0.682911</td>\n",
       "      <td>185</td>\n",
       "      <td>0.573981</td>\n",
       "      <td>51</td>\n",
       "      <td>236</td>\n",
       "    </tr>\n",
       "    <tr>\n",
       "      <th>8</th>\n",
       "      <td>2021</td>\n",
       "      <td>0.464526</td>\n",
       "      <td>137</td>\n",
       "      <td>0.169089</td>\n",
       "      <td>41</td>\n",
       "      <td>178</td>\n",
       "    </tr>\n",
       "    <tr>\n",
       "      <th>9</th>\n",
       "      <td>2022</td>\n",
       "      <td>0.690431</td>\n",
       "      <td>222</td>\n",
       "      <td>0.517311</td>\n",
       "      <td>51</td>\n",
       "      <td>273</td>\n",
       "    </tr>\n",
       "  </tbody>\n",
       "</table>\n",
       "</div>"
      ],
      "text/plain": [
       "   year  r2_train  N_train   r2_test  N_test  N_total\n",
       "0  2013  0.889698      403  0.888339      78      481\n",
       "1  2014  0.844732      394  0.802655     109      503\n",
       "2  2015  0.842028      176  0.838879      43      219\n",
       "3  2016  0.756747      118  0.760342      24      142\n",
       "4  2017  0.889069      807  0.891716     196     1003\n",
       "5  2018  0.770690      317  0.695509      89      406\n",
       "6  2019  0.732854      129  0.664967      29      158\n",
       "7  2020  0.682911      185  0.573981      51      236\n",
       "8  2021  0.464526      137  0.169089      41      178\n",
       "9  2022  0.690431      222  0.517311      51      273"
      ]
     },
     "execution_count": 80,
     "metadata": {},
     "output_type": "execute_result"
    }
   ],
   "source": [
    "merged_r2s[\"N_total\"] = (merged_r2s[\"N_train\"] + merged_r2s[\"N_test\"])\n",
    "merged_r2s"
   ]
  },
  {
   "cell_type": "code",
   "execution_count": 81,
   "metadata": {},
   "outputs": [
    {
     "data": {
      "text/plain": [
       "254.5"
      ]
     },
     "execution_count": 81,
     "metadata": {},
     "output_type": "execute_result"
    }
   ],
   "source": [
    "merged_r2s[\"N_total\"].median()"
   ]
  },
  {
   "cell_type": "code",
   "execution_count": null,
   "metadata": {},
   "outputs": [],
   "source": []
  }
 ],
 "metadata": {
  "kernelspec": {
   "display_name": "featmags",
   "language": "python",
   "name": "python3"
  },
  "language_info": {
   "codemirror_mode": {
    "name": "ipython",
    "version": 3
   },
   "file_extension": ".py",
   "mimetype": "text/x-python",
   "name": "python",
   "nbconvert_exporter": "python",
   "pygments_lexer": "ipython3",
   "version": "3.11.6"
  }
 },
 "nbformat": 4,
 "nbformat_minor": 2
}
