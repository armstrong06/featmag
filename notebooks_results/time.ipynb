{
 "cells": [
  {
   "cell_type": "code",
   "execution_count": 1,
   "metadata": {},
   "outputs": [],
   "source": [
    "import joblib \n",
    "import time\n",
    "import pandas as pd\n",
    "import os\n",
    "import sys\n",
    "import numpy as np\n",
    "import threadpoolctl\n",
    "import glob\n",
    "module_path = os.path.abspath(os.path.join('..'))\n",
    "if module_path not in sys.path:\n",
    "    sys.path.append(module_path)\n",
    "\n",
    "from src.processing import GatherFeatureDatasets\n",
    "from scripts.pMagnitude import create_features"
   ]
  },
  {
   "cell_type": "code",
   "execution_count": 2,
   "metadata": {},
   "outputs": [],
   "source": [
    "stat = \"YUF\""
   ]
  },
  {
   "cell_type": "markdown",
   "metadata": {},
   "source": [
    "# Time how long it takes to extract waveform information"
   ]
  },
  {
   "cell_type": "code",
   "execution_count": 3,
   "metadata": {},
   "outputs": [],
   "source": [
    "archive_dir = '/uufs/chpc.utah.edu/common/home/koper-group4/bbaker/waveformArchive/archives/'\n",
    "h5_archive_files = glob.glob(archive_dir + '/archive_????.h5')\n",
    "catalog_dir = '/uufs/chpc.utah.edu/common/home/koper-group3/alysha/ben_catalogs/20240220'\n",
    "arrival_catalog_3c = f'{catalog_dir}/currentEarthquakeArrivalInformation3CWithGains.csv'\n",
    "arrival_catalog_3c_df = pd.read_csv(arrival_catalog_3c, dtype = {'location' : object})"
   ]
  },
  {
   "cell_type": "code",
   "execution_count": 4,
   "metadata": {},
   "outputs": [
    {
     "data": {
      "text/html": [
       "<div>\n",
       "<style scoped>\n",
       "    .dataframe tbody tr th:only-of-type {\n",
       "        vertical-align: middle;\n",
       "    }\n",
       "\n",
       "    .dataframe tbody tr th {\n",
       "        vertical-align: top;\n",
       "    }\n",
       "\n",
       "    .dataframe thead th {\n",
       "        text-align: right;\n",
       "    }\n",
       "</style>\n",
       "<table border=\"1\" class=\"dataframe\">\n",
       "  <thead>\n",
       "    <tr style=\"text-align: right;\">\n",
       "      <th></th>\n",
       "      <th>evid</th>\n",
       "      <th>network</th>\n",
       "      <th>station</th>\n",
       "      <th>location</th>\n",
       "      <th>channelz</th>\n",
       "      <th>channel1</th>\n",
       "      <th>channel2</th>\n",
       "      <th>phase</th>\n",
       "      <th>arrival_id</th>\n",
       "      <th>arrival_time</th>\n",
       "      <th>...</th>\n",
       "      <th>low_freq_corners_2</th>\n",
       "      <th>high_freq_corners_z</th>\n",
       "      <th>high_freq_corners_1</th>\n",
       "      <th>high_freq_corners_2</th>\n",
       "      <th>channel_dip_z</th>\n",
       "      <th>channel_azimuth_z</th>\n",
       "      <th>channel_dip_1</th>\n",
       "      <th>channel_azimuth_1</th>\n",
       "      <th>channel_dip_2</th>\n",
       "      <th>channel_azimuth_2</th>\n",
       "    </tr>\n",
       "  </thead>\n",
       "  <tbody>\n",
       "    <tr>\n",
       "      <th>987</th>\n",
       "      <td>60001407</td>\n",
       "      <td>WY</td>\n",
       "      <td>YUF</td>\n",
       "      <td>01</td>\n",
       "      <td>HHZ</td>\n",
       "      <td>HHN</td>\n",
       "      <td>HHE</td>\n",
       "      <td>P</td>\n",
       "      <td>10001508</td>\n",
       "      <td>1.350270e+09</td>\n",
       "      <td>...</td>\n",
       "      <td>40.0</td>\n",
       "      <td>3.530537</td>\n",
       "      <td>3.530537</td>\n",
       "      <td>3.530537</td>\n",
       "      <td>-90.0</td>\n",
       "      <td>0.0</td>\n",
       "      <td>0.0</td>\n",
       "      <td>0.0</td>\n",
       "      <td>0.0</td>\n",
       "      <td>90.0</td>\n",
       "    </tr>\n",
       "  </tbody>\n",
       "</table>\n",
       "<p>1 rows × 42 columns</p>\n",
       "</div>"
      ],
      "text/plain": [
       "         evid network station location channelz channel1 channel2 phase  \\\n",
       "987  60001407      WY     YUF       01      HHZ      HHN      HHE     P   \n",
       "\n",
       "     arrival_id  arrival_time  ...  low_freq_corners_2  high_freq_corners_z  \\\n",
       "987    10001508  1.350270e+09  ...                40.0             3.530537   \n",
       "\n",
       "     high_freq_corners_1  high_freq_corners_2  channel_dip_z  \\\n",
       "987             3.530537             3.530537          -90.0   \n",
       "\n",
       "     channel_azimuth_z  channel_dip_1  channel_azimuth_1  channel_dip_2  \\\n",
       "987                0.0            0.0                0.0            0.0   \n",
       "\n",
       "     channel_azimuth_2  \n",
       "987               90.0  \n",
       "\n",
       "[1 rows x 42 columns]"
      ]
     },
     "execution_count": 4,
     "metadata": {},
     "output_type": "execute_result"
    }
   ],
   "source": [
    "# Just get one example\n",
    "ex_arrival_df = arrival_catalog_3c_df[(arrival_catalog_3c_df.evid == 60001407) \n",
    "                      & (arrival_catalog_3c_df.station == stat) \n",
    "                      & (arrival_catalog_3c_df.phase == \"P\")]\n",
    "ex_arrival_df"
   ]
  },
  {
   "cell_type": "code",
   "execution_count": 5,
   "metadata": {},
   "outputs": [],
   "source": [
    "sys.path.insert(0, '/uufs/chpc.utah.edu/common/home/koper-group4/bbaker/mlmodels/features/np4_build')\n",
    "import pyWaveformArchive as pwa \n",
    "\n",
    "archive_manager = pwa.ArchiveManager()\n",
    "archive_manager.open_files_for_reading(h5_archive_files)\n",
    "\n",
    "create_features(archive_manager, ex_arrival_df,\n",
    "                magnitude_type = 'l',\n",
    "                output_file = 'time_ex.csv')"
   ]
  },
  {
   "cell_type": "code",
   "execution_count": 6,
   "metadata": {},
   "outputs": [
    {
     "name": "stdout",
     "output_type": "stream",
     "text": [
      "Time: 0.009597017209976912\n"
     ]
    }
   ],
   "source": [
    "with threadpoolctl.threadpool_limits(limits=1):\n",
    "    start = time.perf_counter()\n",
    "    for _ in range(1000):\n",
    "        create_features(archive_manager, ex_arrival_df,\n",
    "                        magnitude_type = 'l',\n",
    "                        output_file = 'time_ex.csv')\n",
    "    end = time.perf_counter()\n",
    "    extraction_time = (end-start)/1000\n",
    "    print(\"Time:\", extraction_time)"
   ]
  },
  {
   "cell_type": "markdown",
   "metadata": {},
   "source": [
    "# Time how long it takes to compute features from extracted info"
   ]
  },
  {
   "cell_type": "code",
   "execution_count": 7,
   "metadata": {},
   "outputs": [
    {
     "name": "stdout",
     "output_type": "stream",
     "text": [
      "YUF\n",
      "X shape: (1, 45), y shape: (1,)\n"
     ]
    }
   ],
   "source": [
    "data_file = \"/uufs/chpc.utah.edu/common/home/koper-group3/alysha/magnitudes/feature_splits/p.train.csv\"\n",
    "train_df = pd.read_csv(data_file)\n",
    "example = train_df[train_df.station == \"YUF\"].iloc[0:1]\n",
    "proc = GatherFeatureDatasets(is_p=True)\n",
    "feature_dict, meta_dict, feature_names = proc.process_station_datasets(stat,\n",
    "                                                                        example, \n",
    "                                                                        scaler=False,\n",
    "                                                                        linear_model=False,\n",
    "                                                                        source_dist_type='dist')"
   ]
  },
  {
   "cell_type": "code",
   "execution_count": 8,
   "metadata": {},
   "outputs": [
    {
     "name": "stdout",
     "output_type": "stream",
     "text": [
      "Time: 0.007951987776905298\n"
     ]
    }
   ],
   "source": [
    "with threadpoolctl.threadpool_limits(limits=1):\n",
    "    start = time.perf_counter()\n",
    "    for _ in range(1000):\n",
    "        proc.get_X_y(example,\n",
    "                freq_max=18,\n",
    "                scaler=False,\n",
    "                source_dist_type='dist',\n",
    "                linear_model=False,\n",
    "                target_column='Event-Mean-YPML-S',\n",
    "                verbose=False)\n",
    "    end = time.perf_counter()\n",
    "    feature_comp_time = (end-start)/1000\n",
    "    print(\"Time:\", feature_comp_time)"
   ]
  },
  {
   "cell_type": "markdown",
   "metadata": {},
   "source": [
    "# Time how long it takes to scale the example and evaluate the model"
   ]
  },
  {
   "cell_type": "code",
   "execution_count": 9,
   "metadata": {},
   "outputs": [],
   "source": [
    "modeldir = f\"/uufs/chpc.utah.edu/common/home/koper-group3/alysha/magnitudes/p_models/selected_features_constHP\"\n",
    "model = joblib.load(os.path.join(modeldir, f\"{stat}.P.SVR.joblib\"))\n",
    "scaler = joblib.load(os.path.join(modeldir, f\"{stat}.P.scaler.joblib\"))\n"
   ]
  },
  {
   "cell_type": "code",
   "execution_count": 10,
   "metadata": {},
   "outputs": [],
   "source": [
    "selected_feats = [\"amp_1\",\n",
    "                    \"amp_2\",\n",
    "                    \"signal_variance\",\n",
    "                    \"noise_variance\",\n",
    "                    \"source_depth_km\",\n",
    "                    \"source_receiver_distance_logkm\",\n",
    "                    \"source_receiver_back_azimuth_deg\"]"
   ]
  },
  {
   "cell_type": "code",
   "execution_count": 11,
   "metadata": {},
   "outputs": [],
   "source": [
    "feature_subset_inds = np.where(np.isin( feature_names, selected_feats,))[0]"
   ]
  },
  {
   "cell_type": "code",
   "execution_count": 12,
   "metadata": {},
   "outputs": [
    {
     "data": {
      "text/plain": [
       "(1, 7)"
      ]
     },
     "execution_count": 12,
     "metadata": {},
     "output_type": "execute_result"
    }
   ],
   "source": [
    "filtered_example = feature_dict[\"X_train\"][0:1, feature_subset_inds]\n",
    "filtered_example.shape"
   ]
  },
  {
   "cell_type": "code",
   "execution_count": 13,
   "metadata": {},
   "outputs": [
    {
     "name": "stdout",
     "output_type": "stream",
     "text": [
      "Time: 0.00041623956002295016\n"
     ]
    }
   ],
   "source": [
    "with threadpoolctl.threadpool_limits(limits=1):\n",
    "    start = time.perf_counter()\n",
    "    for _ in range(10000):\n",
    "        #scaled_ex = scaler.transform(ex)\n",
    "        model.predict(scaler.transform(filtered_example))\n",
    "    end = time.perf_counter()\n",
    "    scale_eval_time = (end-start)/10000\n",
    "    print(\"Time:\", scale_eval_time)"
   ]
  },
  {
   "cell_type": "markdown",
   "metadata": {},
   "source": [
    "# Estimate total time"
   ]
  },
  {
   "cell_type": "code",
   "execution_count": 20,
   "metadata": {},
   "outputs": [
    {
     "name": "stdout",
     "output_type": "stream",
     "text": [
      "Total time: 0.0180 s\n"
     ]
    }
   ],
   "source": [
    "total_time = extraction_time + feature_comp_time + scale_eval_time\n",
    "print(f\"Total time: {total_time:0.4f} s\")"
   ]
  },
  {
   "cell_type": "code",
   "execution_count": 22,
   "metadata": {},
   "outputs": [
    {
     "data": {
      "text/plain": [
       "0.9341927164390682"
      ]
     },
     "execution_count": 22,
     "metadata": {},
     "output_type": "execute_result"
    }
   ],
   "source": [
    "total_time*52"
   ]
  }
 ],
 "metadata": {
  "kernelspec": {
   "display_name": "featmags",
   "language": "python",
   "name": "python3"
  },
  "language_info": {
   "codemirror_mode": {
    "name": "ipython",
    "version": 3
   },
   "file_extension": ".py",
   "mimetype": "text/x-python",
   "name": "python",
   "nbconvert_exporter": "python",
   "pygments_lexer": "ipython3",
   "version": "3.11.6"
  }
 },
 "nbformat": 4,
 "nbformat_minor": 2
}
