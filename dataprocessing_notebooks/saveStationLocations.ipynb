{
 "cells": [
  {
   "cell_type": "code",
   "execution_count": 1,
   "metadata": {},
   "outputs": [],
   "source": [
    "import pandas as pd \n",
    "import numpy as np"
   ]
  },
  {
   "cell_type": "code",
   "execution_count": 2,
   "metadata": {},
   "outputs": [],
   "source": [
    "arr_df = pd.read_csv('../data/catalogs/yellowstone.arrivals.gains.2024.csv')"
   ]
  },
  {
   "cell_type": "code",
   "execution_count": 3,
   "metadata": {},
   "outputs": [
    {
     "data": {
      "text/plain": [
       "Index(['evid', 'network', 'station', 'location', 'channelz', 'phase',\n",
       "       'arrival_id', 'arrival_time', 'pick_quality', 'first_motion',\n",
       "       'take_off_angle', 'source_receiver_distance', 'source_receiver_azimuth',\n",
       "       'travel_time_residual', 'receiver_lat', 'receiver_lon', 'receiver_elev',\n",
       "       'event_lat', 'event_lon', 'event_depth', 'origin_time', 'magnitude',\n",
       "       'magnitude_type', 'rflag', 'gain_z', 'gain_units', 'low_freq_corners_z',\n",
       "       'high_freq_corners_z', 'channel_dip_z', 'channel_azimuth_z', 'utc'],\n",
       "      dtype='object')"
      ]
     },
     "execution_count": 3,
     "metadata": {},
     "output_type": "execute_result"
    }
   ],
   "source": [
    "arr_df.columns"
   ]
  },
  {
   "cell_type": "code",
   "execution_count": 4,
   "metadata": {},
   "outputs": [
    {
     "name": "stdout",
     "output_type": "stream",
     "text": [
      "73\n"
     ]
    }
   ],
   "source": [
    "stat_df = arr_df[['network', 'station', 'receiver_lat', 'receiver_lon']].drop_duplicates()\n",
    "print(stat_df.shape[0])"
   ]
  },
  {
   "cell_type": "code",
   "execution_count": 6,
   "metadata": {},
   "outputs": [
    {
     "data": {
      "text/html": [
       "<div>\n",
       "<style scoped>\n",
       "    .dataframe tbody tr th:only-of-type {\n",
       "        vertical-align: middle;\n",
       "    }\n",
       "\n",
       "    .dataframe tbody tr th {\n",
       "        vertical-align: top;\n",
       "    }\n",
       "\n",
       "    .dataframe thead th {\n",
       "        text-align: right;\n",
       "    }\n",
       "</style>\n",
       "<table border=\"1\" class=\"dataframe\">\n",
       "  <thead>\n",
       "    <tr style=\"text-align: right;\">\n",
       "      <th></th>\n",
       "      <th>network</th>\n",
       "      <th>station</th>\n",
       "      <th>receiver_lat</th>\n",
       "      <th>receiver_lon</th>\n",
       "    </tr>\n",
       "  </thead>\n",
       "  <tbody>\n",
       "    <tr>\n",
       "      <th>11</th>\n",
       "      <td>IW</td>\n",
       "      <td>FLWY</td>\n",
       "      <td>44.082700</td>\n",
       "      <td>-110.699300</td>\n",
       "    </tr>\n",
       "    <tr>\n",
       "      <th>10011</th>\n",
       "      <td>IW</td>\n",
       "      <td>FLWY</td>\n",
       "      <td>44.083002</td>\n",
       "      <td>-110.699888</td>\n",
       "    </tr>\n",
       "    <tr>\n",
       "      <th>941</th>\n",
       "      <td>IE</td>\n",
       "      <td>GBI</td>\n",
       "      <td>43.987000</td>\n",
       "      <td>-112.063000</td>\n",
       "    </tr>\n",
       "    <tr>\n",
       "      <th>34864</th>\n",
       "      <td>IE</td>\n",
       "      <td>GBI</td>\n",
       "      <td>43.986041</td>\n",
       "      <td>-112.064334</td>\n",
       "    </tr>\n",
       "    <tr>\n",
       "      <th>38</th>\n",
       "      <td>IW</td>\n",
       "      <td>LOHW</td>\n",
       "      <td>43.612400</td>\n",
       "      <td>-110.603798</td>\n",
       "    </tr>\n",
       "    <tr>\n",
       "      <th>10453</th>\n",
       "      <td>IW</td>\n",
       "      <td>LOHW</td>\n",
       "      <td>43.612400</td>\n",
       "      <td>-110.603800</td>\n",
       "    </tr>\n",
       "    <tr>\n",
       "      <th>5048</th>\n",
       "      <td>IE</td>\n",
       "      <td>PTI</td>\n",
       "      <td>42.870300</td>\n",
       "      <td>-112.370200</td>\n",
       "    </tr>\n",
       "    <tr>\n",
       "      <th>211882</th>\n",
       "      <td>IE</td>\n",
       "      <td>PTI</td>\n",
       "      <td>42.869647</td>\n",
       "      <td>-112.372065</td>\n",
       "    </tr>\n",
       "  </tbody>\n",
       "</table>\n",
       "</div>"
      ],
      "text/plain": [
       "       network station  receiver_lat  receiver_lon\n",
       "11          IW    FLWY     44.082700   -110.699300\n",
       "10011       IW    FLWY     44.083002   -110.699888\n",
       "941         IE     GBI     43.987000   -112.063000\n",
       "34864       IE     GBI     43.986041   -112.064334\n",
       "38          IW    LOHW     43.612400   -110.603798\n",
       "10453       IW    LOHW     43.612400   -110.603800\n",
       "5048        IE     PTI     42.870300   -112.370200\n",
       "211882      IE     PTI     42.869647   -112.372065"
      ]
     },
     "execution_count": 6,
     "metadata": {},
     "output_type": "execute_result"
    }
   ],
   "source": [
    "stat_df[stat_df.duplicated('station', keep=False)].sort_values('station')"
   ]
  },
  {
   "cell_type": "code",
   "execution_count": 7,
   "metadata": {},
   "outputs": [
    {
     "data": {
      "text/plain": [
       "(69, 4)"
      ]
     },
     "execution_count": 7,
     "metadata": {},
     "output_type": "execute_result"
    }
   ],
   "source": [
    "stat_df = stat_df.drop_duplicates('station', keep='last')\n",
    "stat_df.shape"
   ]
  },
  {
   "cell_type": "code",
   "execution_count": 7,
   "metadata": {},
   "outputs": [
    {
     "data": {
      "text/html": [
       "<div>\n",
       "<style scoped>\n",
       "    .dataframe tbody tr th:only-of-type {\n",
       "        vertical-align: middle;\n",
       "    }\n",
       "\n",
       "    .dataframe tbody tr th {\n",
       "        vertical-align: top;\n",
       "    }\n",
       "\n",
       "    .dataframe thead th {\n",
       "        text-align: right;\n",
       "    }\n",
       "</style>\n",
       "<table border=\"1\" class=\"dataframe\">\n",
       "  <thead>\n",
       "    <tr style=\"text-align: right;\">\n",
       "      <th></th>\n",
       "      <th>network</th>\n",
       "      <th>station</th>\n",
       "      <th>receiver_lat</th>\n",
       "      <th>receiver_lon</th>\n",
       "    </tr>\n",
       "  </thead>\n",
       "  <tbody>\n",
       "    <tr>\n",
       "      <th>211882</th>\n",
       "      <td>IE</td>\n",
       "      <td>PTI</td>\n",
       "      <td>42.869647</td>\n",
       "      <td>-112.372065</td>\n",
       "    </tr>\n",
       "  </tbody>\n",
       "</table>\n",
       "</div>"
      ],
      "text/plain": [
       "       network station  receiver_lat  receiver_lon\n",
       "211882      IE     PTI     42.869647   -112.372065"
      ]
     },
     "execution_count": 7,
     "metadata": {},
     "output_type": "execute_result"
    }
   ],
   "source": [
    "stat_df[stat_df['station'] == 'PTI']"
   ]
  },
  {
   "cell_type": "code",
   "execution_count": 8,
   "metadata": {},
   "outputs": [],
   "source": [
    "stat_df.to_csv('../data/stat.info.csv', index=False)"
   ]
  },
  {
   "cell_type": "markdown",
   "metadata": {},
   "source": [
    "# Channel df"
   ]
  },
  {
   "cell_type": "code",
   "execution_count": 5,
   "metadata": {},
   "outputs": [
    {
     "name": "stdout",
     "output_type": "stream",
     "text": [
      "92\n"
     ]
    }
   ],
   "source": [
    "chan_df = arr_df[['network', 'station', 'receiver_lat', 'receiver_lon', 'channelz']].drop_duplicates()\n",
    "print(chan_df.shape[0])"
   ]
  },
  {
   "cell_type": "code",
   "execution_count": 8,
   "metadata": {},
   "outputs": [
    {
     "data": {
      "text/html": [
       "<div>\n",
       "<style scoped>\n",
       "    .dataframe tbody tr th:only-of-type {\n",
       "        vertical-align: middle;\n",
       "    }\n",
       "\n",
       "    .dataframe tbody tr th {\n",
       "        vertical-align: top;\n",
       "    }\n",
       "\n",
       "    .dataframe thead th {\n",
       "        text-align: right;\n",
       "    }\n",
       "</style>\n",
       "<table border=\"1\" class=\"dataframe\">\n",
       "  <thead>\n",
       "    <tr style=\"text-align: right;\">\n",
       "      <th></th>\n",
       "      <th>network</th>\n",
       "      <th>station</th>\n",
       "      <th>receiver_lat</th>\n",
       "      <th>receiver_lon</th>\n",
       "      <th>channelz</th>\n",
       "    </tr>\n",
       "  </thead>\n",
       "  <tbody>\n",
       "    <tr>\n",
       "      <th>11</th>\n",
       "      <td>IW</td>\n",
       "      <td>FLWY</td>\n",
       "      <td>44.082700</td>\n",
       "      <td>-110.699300</td>\n",
       "      <td>BHZ</td>\n",
       "    </tr>\n",
       "    <tr>\n",
       "      <th>10011</th>\n",
       "      <td>IW</td>\n",
       "      <td>FLWY</td>\n",
       "      <td>44.083002</td>\n",
       "      <td>-110.699888</td>\n",
       "      <td>BHZ</td>\n",
       "    </tr>\n",
       "    <tr>\n",
       "      <th>38</th>\n",
       "      <td>IW</td>\n",
       "      <td>LOHW</td>\n",
       "      <td>43.612400</td>\n",
       "      <td>-110.603798</td>\n",
       "      <td>BHZ</td>\n",
       "    </tr>\n",
       "    <tr>\n",
       "      <th>10453</th>\n",
       "      <td>IW</td>\n",
       "      <td>LOHW</td>\n",
       "      <td>43.612400</td>\n",
       "      <td>-110.603800</td>\n",
       "      <td>BHZ</td>\n",
       "    </tr>\n",
       "  </tbody>\n",
       "</table>\n",
       "</div>"
      ],
      "text/plain": [
       "      network station  receiver_lat  receiver_lon channelz\n",
       "11         IW    FLWY     44.082700   -110.699300      BHZ\n",
       "10011      IW    FLWY     44.083002   -110.699888      BHZ\n",
       "38         IW    LOHW     43.612400   -110.603798      BHZ\n",
       "10453      IW    LOHW     43.612400   -110.603800      BHZ"
      ]
     },
     "execution_count": 8,
     "metadata": {},
     "output_type": "execute_result"
    }
   ],
   "source": [
    "chan_df[chan_df.duplicated(['station', 'channelz'], keep=False)].sort_values('station')"
   ]
  },
  {
   "cell_type": "code",
   "execution_count": 9,
   "metadata": {},
   "outputs": [
    {
     "data": {
      "text/plain": [
       "(90, 5)"
      ]
     },
     "execution_count": 9,
     "metadata": {},
     "output_type": "execute_result"
    }
   ],
   "source": [
    "chan_df = chan_df.drop_duplicates(['station', 'channelz'], keep='last')\n",
    "chan_df.shape"
   ]
  },
  {
   "cell_type": "code",
   "execution_count": 16,
   "metadata": {},
   "outputs": [
    {
     "data": {
      "text/plain": [
       "21"
      ]
     },
     "execution_count": 16,
     "metadata": {},
     "output_type": "execute_result"
    }
   ],
   "source": [
    "chan_df[chan_df.duplicated('station')].shape[0]"
   ]
  },
  {
   "cell_type": "code",
   "execution_count": 23,
   "metadata": {},
   "outputs": [
    {
     "data": {
      "text/plain": [
       "39"
      ]
     },
     "execution_count": 23,
     "metadata": {},
     "output_type": "execute_result"
    }
   ],
   "source": [
    "chan_df[chan_df.channelz == 'EHZ'].shape[0]"
   ]
  },
  {
   "cell_type": "code",
   "execution_count": 24,
   "metadata": {},
   "outputs": [],
   "source": [
    "chan_df.to_csv('../data/chan.info.csv', index=False)"
   ]
  }
 ],
 "metadata": {
  "kernelspec": {
   "display_name": "featmags",
   "language": "python",
   "name": "python3"
  },
  "language_info": {
   "codemirror_mode": {
    "name": "ipython",
    "version": 3
   },
   "file_extension": ".py",
   "mimetype": "text/x-python",
   "name": "python",
   "nbconvert_exporter": "python",
   "pygments_lexer": "ipython3",
   "version": "3.11.6"
  }
 },
 "nbformat": 4,
 "nbformat_minor": 2
}
