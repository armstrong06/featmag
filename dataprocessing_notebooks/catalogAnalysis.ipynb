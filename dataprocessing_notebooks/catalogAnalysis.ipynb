{
 "cells": [
  {
   "cell_type": "code",
   "execution_count": 24,
   "metadata": {},
   "outputs": [],
   "source": [
    "import pandas as pd\n",
    "import matplotlib.pyplot as plt\n",
    "import numpy as np\n",
    "import pygmt\n",
    "from datetime import datetime, timezone\n",
    "import os\n",
    "import sys\n",
    "\n",
    "# make paths above 'notebooks/' visible for local imports.\n",
    "# +----------------------------------------------------------------------------+\n",
    "module_path = os.path.abspath(os.path.join('..'))\n",
    "if module_path not in sys.path:\n",
    "    sys.path.append(module_path)\n",
    "\n",
    "from src.processing import TrainTestSplit as split"
   ]
  },
  {
   "cell_type": "code",
   "execution_count": 25,
   "metadata": {},
   "outputs": [],
   "source": [
    "data_path = '../data'\n",
    "ev_cat = pd.read_csv(f'{data_path}/catalogs/yellowstone.events.2024.csv')\n",
    "arr_cat = pd.read_csv(f'{data_path}/catalogs/yellowstone.arrivals.gains.2024.csv')\n",
    "ypml_cat = pd.read_csv(f'{data_path}/catalogs/yellowstone.events.ypml-v5.2024.csv')\n",
    "ypml_amps = pd.read_csv(f'{data_path}/catalogs/yellowstone.amps.ypml-v5.2024.csv')\n",
    "p_feats = pd.read_csv(f'{data_path}/features/p_features.2024.csv')\n",
    "s_feats = pd.read_csv(f'{data_path}/features/s_features.2024.csv')"
   ]
  },
  {
   "cell_type": "code",
   "execution_count": 26,
   "metadata": {},
   "outputs": [
    {
     "data": {
      "text/plain": [
       "count    21075.000000\n",
       "mean      -110.806796\n",
       "std          0.258270\n",
       "min       -111.331667\n",
       "25%       -111.014167\n",
       "50%       -110.813667\n",
       "75%       -110.673167\n",
       "max       -109.753333\n",
       "Name: event_lon, dtype: float64"
      ]
     },
     "execution_count": 26,
     "metadata": {},
     "output_type": "execute_result"
    }
   ],
   "source": [
    "ev_cat['event_lon'].describe()"
   ]
  },
  {
   "cell_type": "markdown",
   "metadata": {},
   "source": [
    "# Describe the feature catalogs"
   ]
  },
  {
   "cell_type": "code",
   "execution_count": 27,
   "metadata": {},
   "outputs": [
    {
     "name": "stdout",
     "output_type": "stream",
     "text": [
      "There are 7996 events and 92295 arrivals in the P feature catalog between 2012-10-07 00:32:04.740000+00:00 and 2023-12-29 09:38:37.689999+00:00\n"
     ]
    }
   ],
   "source": [
    "split.print_feature_df_event_counts(p_feats, \"P\", ypml_cat)"
   ]
  },
  {
   "cell_type": "code",
   "execution_count": 28,
   "metadata": {},
   "outputs": [
    {
     "name": "stdout",
     "output_type": "stream",
     "text": [
      "There are 7017 events and 18179 arrivals in the S feature catalog between 2012-10-07 00:32:04.740000+00:00 and 2023-12-29 09:38:37.689999+00:00\n"
     ]
    }
   ],
   "source": [
    "split.print_feature_df_event_counts(s_feats, \"S\", ypml_cat)"
   ]
  },
  {
   "cell_type": "code",
   "execution_count": 29,
   "metadata": {},
   "outputs": [
    {
     "data": {
      "text/html": [
       "<div>\n",
       "<style scoped>\n",
       "    .dataframe tbody tr th:only-of-type {\n",
       "        vertical-align: middle;\n",
       "    }\n",
       "\n",
       "    .dataframe tbody tr th {\n",
       "        vertical-align: top;\n",
       "    }\n",
       "\n",
       "    .dataframe thead th {\n",
       "        text-align: right;\n",
       "    }\n",
       "</style>\n",
       "<table border=\"1\" class=\"dataframe\">\n",
       "  <thead>\n",
       "    <tr style=\"text-align: right;\">\n",
       "      <th></th>\n",
       "      <th>event_identifier</th>\n",
       "      <th>arrival_identifier</th>\n",
       "      <th>network</th>\n",
       "      <th>station</th>\n",
       "      <th>channel</th>\n",
       "      <th>location_code</th>\n",
       "      <th>source_latitude</th>\n",
       "      <th>source_longitude</th>\n",
       "      <th>source_receiver_distance_km</th>\n",
       "      <th>source_receiver_back_azimuth</th>\n",
       "      <th>...</th>\n",
       "      <th>avg_noise_14.00</th>\n",
       "      <th>avg_signal_14.00</th>\n",
       "      <th>avg_noise_15.00</th>\n",
       "      <th>avg_signal_15.00</th>\n",
       "      <th>avg_noise_16.00</th>\n",
       "      <th>avg_signal_16.00</th>\n",
       "      <th>avg_noise_17.00</th>\n",
       "      <th>avg_signal_17.00</th>\n",
       "      <th>avg_noise_18.00</th>\n",
       "      <th>avg_signal_18.00</th>\n",
       "    </tr>\n",
       "  </thead>\n",
       "  <tbody>\n",
       "    <tr>\n",
       "      <th>27855</th>\n",
       "      <td>60408292</td>\n",
       "      <td>10575122</td>\n",
       "      <td>WY</td>\n",
       "      <td>YMS</td>\n",
       "      <td>EHZ</td>\n",
       "      <td>1</td>\n",
       "      <td>44.324833</td>\n",
       "      <td>-110.537167</td>\n",
       "      <td>6.800621</td>\n",
       "      <td>353.712696</td>\n",
       "      <td>...</td>\n",
       "      <td>0.003389</td>\n",
       "      <td>0.150573</td>\n",
       "      <td>0.002909</td>\n",
       "      <td>0.119775</td>\n",
       "      <td>0.002450</td>\n",
       "      <td>0.094578</td>\n",
       "      <td>0.002036</td>\n",
       "      <td>0.074574</td>\n",
       "      <td>0.001679</td>\n",
       "      <td>0.058954</td>\n",
       "    </tr>\n",
       "    <tr>\n",
       "      <th>27856</th>\n",
       "      <td>60408292</td>\n",
       "      <td>10575127</td>\n",
       "      <td>WY</td>\n",
       "      <td>YLT</td>\n",
       "      <td>EHZ</td>\n",
       "      <td>1</td>\n",
       "      <td>44.324833</td>\n",
       "      <td>-110.537167</td>\n",
       "      <td>13.105718</td>\n",
       "      <td>161.977253</td>\n",
       "      <td>...</td>\n",
       "      <td>0.000484</td>\n",
       "      <td>0.043079</td>\n",
       "      <td>0.000382</td>\n",
       "      <td>0.033142</td>\n",
       "      <td>0.000305</td>\n",
       "      <td>0.025678</td>\n",
       "      <td>0.000245</td>\n",
       "      <td>0.020071</td>\n",
       "      <td>0.000197</td>\n",
       "      <td>0.015839</td>\n",
       "    </tr>\n",
       "    <tr>\n",
       "      <th>27857</th>\n",
       "      <td>60408292</td>\n",
       "      <td>10575131</td>\n",
       "      <td>WY</td>\n",
       "      <td>YLA</td>\n",
       "      <td>EHZ</td>\n",
       "      <td>1</td>\n",
       "      <td>44.324833</td>\n",
       "      <td>-110.537167</td>\n",
       "      <td>29.880559</td>\n",
       "      <td>225.787811</td>\n",
       "      <td>...</td>\n",
       "      <td>0.000136</td>\n",
       "      <td>0.005872</td>\n",
       "      <td>0.000115</td>\n",
       "      <td>0.004525</td>\n",
       "      <td>0.000097</td>\n",
       "      <td>0.003500</td>\n",
       "      <td>0.000081</td>\n",
       "      <td>0.002723</td>\n",
       "      <td>0.000067</td>\n",
       "      <td>0.002136</td>\n",
       "    </tr>\n",
       "    <tr>\n",
       "      <th>27858</th>\n",
       "      <td>60408292</td>\n",
       "      <td>10575132</td>\n",
       "      <td>WY</td>\n",
       "      <td>MCID</td>\n",
       "      <td>EHZ</td>\n",
       "      <td>1</td>\n",
       "      <td>44.324833</td>\n",
       "      <td>-110.537167</td>\n",
       "      <td>53.670805</td>\n",
       "      <td>73.606143</td>\n",
       "      <td>...</td>\n",
       "      <td>0.000185</td>\n",
       "      <td>0.001779</td>\n",
       "      <td>0.000144</td>\n",
       "      <td>0.001384</td>\n",
       "      <td>0.000112</td>\n",
       "      <td>0.001083</td>\n",
       "      <td>0.000088</td>\n",
       "      <td>0.000854</td>\n",
       "      <td>0.000070</td>\n",
       "      <td>0.000679</td>\n",
       "    </tr>\n",
       "    <tr>\n",
       "      <th>74801</th>\n",
       "      <td>60408292</td>\n",
       "      <td>10575125</td>\n",
       "      <td>WY</td>\n",
       "      <td>YDD</td>\n",
       "      <td>HHZ</td>\n",
       "      <td>1</td>\n",
       "      <td>44.324833</td>\n",
       "      <td>-110.537167</td>\n",
       "      <td>8.405203</td>\n",
       "      <td>158.257549</td>\n",
       "      <td>...</td>\n",
       "      <td>0.007189</td>\n",
       "      <td>0.682729</td>\n",
       "      <td>0.005965</td>\n",
       "      <td>0.657198</td>\n",
       "      <td>0.005080</td>\n",
       "      <td>0.632004</td>\n",
       "      <td>0.004462</td>\n",
       "      <td>0.597486</td>\n",
       "      <td>0.004035</td>\n",
       "      <td>0.552900</td>\n",
       "    </tr>\n",
       "    <tr>\n",
       "      <th>74802</th>\n",
       "      <td>60408292</td>\n",
       "      <td>10575128</td>\n",
       "      <td>WY</td>\n",
       "      <td>YTP</td>\n",
       "      <td>HHZ</td>\n",
       "      <td>1</td>\n",
       "      <td>44.324833</td>\n",
       "      <td>-110.537167</td>\n",
       "      <td>21.437371</td>\n",
       "      <td>249.767577</td>\n",
       "      <td>...</td>\n",
       "      <td>0.000823</td>\n",
       "      <td>0.025475</td>\n",
       "      <td>0.000743</td>\n",
       "      <td>0.022279</td>\n",
       "      <td>0.000710</td>\n",
       "      <td>0.019660</td>\n",
       "      <td>0.000684</td>\n",
       "      <td>0.017502</td>\n",
       "      <td>0.000651</td>\n",
       "      <td>0.015649</td>\n",
       "    </tr>\n",
       "    <tr>\n",
       "      <th>74803</th>\n",
       "      <td>60408292</td>\n",
       "      <td>10575130</td>\n",
       "      <td>WY</td>\n",
       "      <td>YPP</td>\n",
       "      <td>HHZ</td>\n",
       "      <td>1</td>\n",
       "      <td>44.324833</td>\n",
       "      <td>-110.537167</td>\n",
       "      <td>22.156948</td>\n",
       "      <td>74.243825</td>\n",
       "      <td>...</td>\n",
       "      <td>0.000883</td>\n",
       "      <td>0.121959</td>\n",
       "      <td>0.001091</td>\n",
       "      <td>0.112158</td>\n",
       "      <td>0.001255</td>\n",
       "      <td>0.102130</td>\n",
       "      <td>0.001356</td>\n",
       "      <td>0.093836</td>\n",
       "      <td>0.001402</td>\n",
       "      <td>0.086661</td>\n",
       "    </tr>\n",
       "  </tbody>\n",
       "</table>\n",
       "<p>7 rows × 59 columns</p>\n",
       "</div>"
      ],
      "text/plain": [
       "       event_identifier  arrival_identifier network station channel  \\\n",
       "27855          60408292            10575122      WY     YMS     EHZ   \n",
       "27856          60408292            10575127      WY     YLT     EHZ   \n",
       "27857          60408292            10575131      WY     YLA     EHZ   \n",
       "27858          60408292            10575132      WY    MCID     EHZ   \n",
       "74801          60408292            10575125      WY     YDD     HHZ   \n",
       "74802          60408292            10575128      WY     YTP     HHZ   \n",
       "74803          60408292            10575130      WY     YPP     HHZ   \n",
       "\n",
       "       location_code  source_latitude  source_longitude  \\\n",
       "27855              1        44.324833       -110.537167   \n",
       "27856              1        44.324833       -110.537167   \n",
       "27857              1        44.324833       -110.537167   \n",
       "27858              1        44.324833       -110.537167   \n",
       "74801              1        44.324833       -110.537167   \n",
       "74802              1        44.324833       -110.537167   \n",
       "74803              1        44.324833       -110.537167   \n",
       "\n",
       "       source_receiver_distance_km  source_receiver_back_azimuth  ...  \\\n",
       "27855                     6.800621                    353.712696  ...   \n",
       "27856                    13.105718                    161.977253  ...   \n",
       "27857                    29.880559                    225.787811  ...   \n",
       "27858                    53.670805                     73.606143  ...   \n",
       "74801                     8.405203                    158.257549  ...   \n",
       "74802                    21.437371                    249.767577  ...   \n",
       "74803                    22.156948                     74.243825  ...   \n",
       "\n",
       "       avg_noise_14.00  avg_signal_14.00  avg_noise_15.00  avg_signal_15.00  \\\n",
       "27855         0.003389          0.150573         0.002909          0.119775   \n",
       "27856         0.000484          0.043079         0.000382          0.033142   \n",
       "27857         0.000136          0.005872         0.000115          0.004525   \n",
       "27858         0.000185          0.001779         0.000144          0.001384   \n",
       "74801         0.007189          0.682729         0.005965          0.657198   \n",
       "74802         0.000823          0.025475         0.000743          0.022279   \n",
       "74803         0.000883          0.121959         0.001091          0.112158   \n",
       "\n",
       "       avg_noise_16.00  avg_signal_16.00  avg_noise_17.00  avg_signal_17.00  \\\n",
       "27855         0.002450          0.094578         0.002036          0.074574   \n",
       "27856         0.000305          0.025678         0.000245          0.020071   \n",
       "27857         0.000097          0.003500         0.000081          0.002723   \n",
       "27858         0.000112          0.001083         0.000088          0.000854   \n",
       "74801         0.005080          0.632004         0.004462          0.597486   \n",
       "74802         0.000710          0.019660         0.000684          0.017502   \n",
       "74803         0.001255          0.102130         0.001356          0.093836   \n",
       "\n",
       "       avg_noise_18.00  avg_signal_18.00  \n",
       "27855         0.001679          0.058954  \n",
       "27856         0.000197          0.015839  \n",
       "27857         0.000067          0.002136  \n",
       "27858         0.000070          0.000679  \n",
       "74801         0.004035          0.552900  \n",
       "74802         0.000651          0.015649  \n",
       "74803         0.001402          0.086661  \n",
       "\n",
       "[7 rows x 59 columns]"
      ]
     },
     "execution_count": 29,
     "metadata": {},
     "output_type": "execute_result"
    }
   ],
   "source": [
    "p_feats[~p_feats['event_identifier'].isin(ypml_cat['Evid'])]"
   ]
  },
  {
   "cell_type": "code",
   "execution_count": 30,
   "metadata": {},
   "outputs": [
    {
     "data": {
      "text/html": [
       "<div>\n",
       "<style scoped>\n",
       "    .dataframe tbody tr th:only-of-type {\n",
       "        vertical-align: middle;\n",
       "    }\n",
       "\n",
       "    .dataframe tbody tr th {\n",
       "        vertical-align: top;\n",
       "    }\n",
       "\n",
       "    .dataframe thead th {\n",
       "        text-align: right;\n",
       "    }\n",
       "</style>\n",
       "<table border=\"1\" class=\"dataframe\">\n",
       "  <thead>\n",
       "    <tr style=\"text-align: right;\">\n",
       "      <th></th>\n",
       "      <th>event_identifier</th>\n",
       "      <th>arrival_identifier</th>\n",
       "      <th>network</th>\n",
       "      <th>station</th>\n",
       "      <th>channel1</th>\n",
       "      <th>channel2</th>\n",
       "      <th>location_code</th>\n",
       "      <th>source_latitude</th>\n",
       "      <th>source_longitude</th>\n",
       "      <th>source_receiver_distance_km</th>\n",
       "      <th>...</th>\n",
       "      <th>radial_avg_noise_16.00</th>\n",
       "      <th>radial_avg_signal_16.00</th>\n",
       "      <th>transverse_avg_noise_17.00</th>\n",
       "      <th>transverse_avg_signal_17.00</th>\n",
       "      <th>radial_avg_noise_17.00</th>\n",
       "      <th>radial_avg_signal_17.00</th>\n",
       "      <th>transverse_avg_noise_18.00</th>\n",
       "      <th>transverse_avg_signal_18.00</th>\n",
       "      <th>radial_avg_noise_18.00</th>\n",
       "      <th>radial_avg_signal_18.00</th>\n",
       "    </tr>\n",
       "  </thead>\n",
       "  <tbody>\n",
       "    <tr>\n",
       "      <th>12097</th>\n",
       "      <td>60408292</td>\n",
       "      <td>10575126</td>\n",
       "      <td>WY</td>\n",
       "      <td>YDD</td>\n",
       "      <td>HHN</td>\n",
       "      <td>HHE</td>\n",
       "      <td>1</td>\n",
       "      <td>44.324833</td>\n",
       "      <td>-110.537167</td>\n",
       "      <td>8.405203</td>\n",
       "      <td>...</td>\n",
       "      <td>0.088273</td>\n",
       "      <td>0.790454</td>\n",
       "      <td>0.080542</td>\n",
       "      <td>0.970869</td>\n",
       "      <td>0.083408</td>\n",
       "      <td>0.68981</td>\n",
       "      <td>0.071742</td>\n",
       "      <td>0.862301</td>\n",
       "      <td>0.077962</td>\n",
       "      <td>0.598520</td>\n",
       "    </tr>\n",
       "    <tr>\n",
       "      <th>12098</th>\n",
       "      <td>60408292</td>\n",
       "      <td>10575129</td>\n",
       "      <td>WY</td>\n",
       "      <td>YTP</td>\n",
       "      <td>HHN</td>\n",
       "      <td>HHE</td>\n",
       "      <td>1</td>\n",
       "      <td>44.324833</td>\n",
       "      <td>-110.537167</td>\n",
       "      <td>21.437371</td>\n",
       "      <td>...</td>\n",
       "      <td>0.009260</td>\n",
       "      <td>0.045823</td>\n",
       "      <td>0.007834</td>\n",
       "      <td>0.045607</td>\n",
       "      <td>0.008362</td>\n",
       "      <td>0.04075</td>\n",
       "      <td>0.007218</td>\n",
       "      <td>0.041277</td>\n",
       "      <td>0.007580</td>\n",
       "      <td>0.036075</td>\n",
       "    </tr>\n",
       "  </tbody>\n",
       "</table>\n",
       "<p>2 rows × 106 columns</p>\n",
       "</div>"
      ],
      "text/plain": [
       "       event_identifier  arrival_identifier network station channel1 channel2  \\\n",
       "12097          60408292            10575126      WY     YDD      HHN      HHE   \n",
       "12098          60408292            10575129      WY     YTP      HHN      HHE   \n",
       "\n",
       "       location_code  source_latitude  source_longitude  \\\n",
       "12097              1        44.324833       -110.537167   \n",
       "12098              1        44.324833       -110.537167   \n",
       "\n",
       "       source_receiver_distance_km  ...  radial_avg_noise_16.00  \\\n",
       "12097                     8.405203  ...                0.088273   \n",
       "12098                    21.437371  ...                0.009260   \n",
       "\n",
       "       radial_avg_signal_16.00  transverse_avg_noise_17.00  \\\n",
       "12097                 0.790454                    0.080542   \n",
       "12098                 0.045823                    0.007834   \n",
       "\n",
       "       transverse_avg_signal_17.00  radial_avg_noise_17.00  \\\n",
       "12097                     0.970869                0.083408   \n",
       "12098                     0.045607                0.008362   \n",
       "\n",
       "       radial_avg_signal_17.00  transverse_avg_noise_18.00  \\\n",
       "12097                  0.68981                    0.071742   \n",
       "12098                  0.04075                    0.007218   \n",
       "\n",
       "       transverse_avg_signal_18.00  radial_avg_noise_18.00  \\\n",
       "12097                     0.862301                0.077962   \n",
       "12098                     0.041277                0.007580   \n",
       "\n",
       "       radial_avg_signal_18.00  \n",
       "12097                 0.598520  \n",
       "12098                 0.036075  \n",
       "\n",
       "[2 rows x 106 columns]"
      ]
     },
     "execution_count": 30,
     "metadata": {},
     "output_type": "execute_result"
    }
   ],
   "source": [
    "s_feats[~s_feats['event_identifier'].isin(ypml_cat['Evid'])]"
   ]
  },
  {
   "cell_type": "markdown",
   "metadata": {},
   "source": [
    "# Describe Event Catalogs"
   ]
  },
  {
   "cell_type": "code",
   "execution_count": 31,
   "metadata": {},
   "outputs": [],
   "source": [
    "def describe_cat_cnts(cat_df, cat_name, ot_name='origin_time', cat_type='events'):\n",
    "    print(f\"There are {len(cat_df)} {cat_type} in the {cat_name} event catalog between \\\n",
    "{datetime.fromtimestamp(cat_df[ot_name].min(), tz=timezone.utc)} and \\\n",
    "{datetime.fromtimestamp(cat_df[ot_name].max(), tz=timezone.utc)}\")\n",
    "    \n",
    "def describe_cat_ml_cnt(cat_df, cat_name, magtype_name='magnitude_type', cat_type='events'):\n",
    "    print(f\"There are {len(cat_df[cat_df[magtype_name] == 'l'])} {cat_type} with a preferred local magnitude in the {cat_name} event catalog\")\n",
    "\n",
    "def feat_percentage(featdf1, featdf2, phase, feat1_name):\n",
    "    print(f\"The {feat1_name} events make up {(len(featdf1)/(len(featdf1)+len(featdf2)))*100:0.2f}% of the {phase.upper()} feature dataset\")\n",
    "\n",
    "def print_value_counts(df, column_name, cat_name):\n",
    "    print(f\"The breakdown (%) of the {cat_name} {(df[column_name].value_counts()/len(df))*100}\")\n",
    "\n",
    "def time_filter(cat_df, start_datetime, end_datetime, ot_col_name):\n",
    "    return cat_df[(cat_df[ot_col_name] >= start_datetime.timestamp()) & \n",
    "                    (cat_df[ot_col_name] < end_datetime.timestamp())]"
   ]
  },
  {
   "cell_type": "code",
   "execution_count": 32,
   "metadata": {},
   "outputs": [
    {
     "name": "stdout",
     "output_type": "stream",
     "text": [
      "There are 21075 events in the *full* YS event catalog between 2012-10-01 10:05:36.099998+00:00 and 2023-12-31 12:39:40.480000+00:00\n"
     ]
    }
   ],
   "source": [
    "describe_cat_cnts(ev_cat, \"*full* YS\")"
   ]
  },
  {
   "cell_type": "code",
   "execution_count": 33,
   "metadata": {},
   "outputs": [
    {
     "name": "stdout",
     "output_type": "stream",
     "text": [
      "There are 8475 events in the YMPL event catalog between 2012-10-07 00:32:04.740000+00:00 and 2023-12-29 09:38:37.689999+00:00\n"
     ]
    }
   ],
   "source": [
    "describe_cat_cnts(ypml_cat, \"YMPL\", ot_name='EqOt')"
   ]
  },
  {
   "cell_type": "code",
   "execution_count": 34,
   "metadata": {},
   "outputs": [
    {
     "name": "stdout",
     "output_type": "stream",
     "text": [
      "There are 8476 events in the *full* YS local mag event catalog between 2012-10-07 00:32:04.740000+00:00 and 2023-12-29 09:38:37.689999+00:00\n"
     ]
    }
   ],
   "source": [
    "describe_cat_cnts(ev_cat[ev_cat['magnitude_type'] == 'l'], \"*full* YS local mag\")"
   ]
  },
  {
   "cell_type": "code",
   "execution_count": 35,
   "metadata": {},
   "outputs": [
    {
     "name": "stdout",
     "output_type": "stream",
     "text": [
      "Event 60408292 \n",
      " in full YS cat: True \n",
      " in YS ML cat: False\n"
     ]
    }
   ],
   "source": [
    "print(f\"Event 60408292 \\n in full YS cat: {np.any(ev_cat['evid'] == 60408292)} \\n in YS ML cat: {np.any(ypml_cat['Evid'] == 60408292)}\")"
   ]
  },
  {
   "cell_type": "code",
   "execution_count": 36,
   "metadata": {},
   "outputs": [
    {
     "data": {
      "text/html": [
       "<div>\n",
       "<style scoped>\n",
       "    .dataframe tbody tr th:only-of-type {\n",
       "        vertical-align: middle;\n",
       "    }\n",
       "\n",
       "    .dataframe tbody tr th {\n",
       "        vertical-align: top;\n",
       "    }\n",
       "\n",
       "    .dataframe thead th {\n",
       "        text-align: right;\n",
       "    }\n",
       "</style>\n",
       "<table border=\"1\" class=\"dataframe\">\n",
       "  <thead>\n",
       "    <tr style=\"text-align: right;\">\n",
       "      <th></th>\n",
       "      <th>evid</th>\n",
       "      <th>event_lat</th>\n",
       "      <th>event_lon</th>\n",
       "      <th>event_depth</th>\n",
       "      <th>origin_time</th>\n",
       "      <th>magnitude</th>\n",
       "      <th>magnitude_type</th>\n",
       "      <th>rflag</th>\n",
       "      <th>utc</th>\n",
       "    </tr>\n",
       "  </thead>\n",
       "  <tbody>\n",
       "    <tr>\n",
       "      <th>5539</th>\n",
       "      <td>60061837</td>\n",
       "      <td>44.772167</td>\n",
       "      <td>-110.684667</td>\n",
       "      <td>5.62</td>\n",
       "      <td>1.396183e+09</td>\n",
       "      <td>4.83</td>\n",
       "      <td>w</td>\n",
       "      <td>F</td>\n",
       "      <td>2014-03-30 12:34:39.160000+00:00</td>\n",
       "    </tr>\n",
       "  </tbody>\n",
       "</table>\n",
       "</div>"
      ],
      "text/plain": [
       "          evid  event_lat   event_lon  event_depth   origin_time  magnitude  \\\n",
       "5539  60061837  44.772167 -110.684667         5.62  1.396183e+09       4.83   \n",
       "\n",
       "     magnitude_type rflag                               utc  \n",
       "5539              w     F  2014-03-30 12:34:39.160000+00:00  "
      ]
     },
     "execution_count": 36,
     "metadata": {},
     "output_type": "execute_result"
    }
   ],
   "source": [
    "ev_cat[ev_cat['magnitude_type'] == 'w']"
   ]
  },
  {
   "cell_type": "code",
   "execution_count": 37,
   "metadata": {},
   "outputs": [
    {
     "data": {
      "text/plain": [
       "count    20687.000000\n",
       "mean         0.940888\n",
       "std          0.654943\n",
       "min         -1.410000\n",
       "25%          0.490000\n",
       "50%          0.870000\n",
       "75%          1.370000\n",
       "max          4.830000\n",
       "Name: magnitude, dtype: float64"
      ]
     },
     "execution_count": 37,
     "metadata": {},
     "output_type": "execute_result"
    }
   ],
   "source": [
    "ev_cat[ev_cat['magnitude'] > -9]['magnitude'].describe()"
   ]
  },
  {
   "cell_type": "code",
   "execution_count": 38,
   "metadata": {},
   "outputs": [
    {
     "data": {
      "text/plain": [
       "count    8476.000000\n",
       "mean        1.409356\n",
       "std         0.556107\n",
       "min         0.010000\n",
       "25%         0.990000\n",
       "50%         1.370000\n",
       "75%         1.740000\n",
       "max         4.360000\n",
       "Name: magnitude, dtype: float64"
      ]
     },
     "execution_count": 38,
     "metadata": {},
     "output_type": "execute_result"
    }
   ],
   "source": [
    "ev_cat[ev_cat['magnitude_type'] == 'l']['magnitude'].describe()"
   ]
  },
  {
   "cell_type": "code",
   "execution_count": 39,
   "metadata": {},
   "outputs": [
    {
     "data": {
      "text/html": [
       "<div>\n",
       "<style scoped>\n",
       "    .dataframe tbody tr th:only-of-type {\n",
       "        vertical-align: middle;\n",
       "    }\n",
       "\n",
       "    .dataframe tbody tr th {\n",
       "        vertical-align: top;\n",
       "    }\n",
       "\n",
       "    .dataframe thead th {\n",
       "        text-align: right;\n",
       "    }\n",
       "</style>\n",
       "<table border=\"1\" class=\"dataframe\">\n",
       "  <thead>\n",
       "    <tr style=\"text-align: right;\">\n",
       "      <th></th>\n",
       "      <th>evid</th>\n",
       "      <th>event_lat</th>\n",
       "      <th>event_lon</th>\n",
       "      <th>event_depth</th>\n",
       "      <th>origin_time</th>\n",
       "      <th>magnitude</th>\n",
       "      <th>magnitude_type</th>\n",
       "      <th>rflag</th>\n",
       "      <th>utc</th>\n",
       "    </tr>\n",
       "  </thead>\n",
       "  <tbody>\n",
       "    <tr>\n",
       "      <th>1672</th>\n",
       "      <td>60014499</td>\n",
       "      <td>44.660833</td>\n",
       "      <td>-110.756500</td>\n",
       "      <td>2.61</td>\n",
       "      <td>1.515725e+09</td>\n",
       "      <td>0.01</td>\n",
       "      <td>l</td>\n",
       "      <td>F</td>\n",
       "      <td>2018-01-12 02:41:04.370000+00:00</td>\n",
       "    </tr>\n",
       "    <tr>\n",
       "      <th>6893</th>\n",
       "      <td>60104782</td>\n",
       "      <td>44.644500</td>\n",
       "      <td>-111.013333</td>\n",
       "      <td>9.39</td>\n",
       "      <td>1.426623e+09</td>\n",
       "      <td>0.02</td>\n",
       "      <td>l</td>\n",
       "      <td>F</td>\n",
       "      <td>2015-03-17 20:16:48.820000+00:00</td>\n",
       "    </tr>\n",
       "    <tr>\n",
       "      <th>11312</th>\n",
       "      <td>60264947</td>\n",
       "      <td>44.660833</td>\n",
       "      <td>-110.754833</td>\n",
       "      <td>2.11</td>\n",
       "      <td>1.515725e+09</td>\n",
       "      <td>0.05</td>\n",
       "      <td>l</td>\n",
       "      <td>F</td>\n",
       "      <td>2018-01-12 02:38:11.480000+00:00</td>\n",
       "    </tr>\n",
       "    <tr>\n",
       "      <th>11313</th>\n",
       "      <td>60264952</td>\n",
       "      <td>44.653667</td>\n",
       "      <td>-110.751500</td>\n",
       "      <td>2.17</td>\n",
       "      <td>1.515725e+09</td>\n",
       "      <td>0.05</td>\n",
       "      <td>l</td>\n",
       "      <td>F</td>\n",
       "      <td>2018-01-12 02:40:03.650000+00:00</td>\n",
       "    </tr>\n",
       "    <tr>\n",
       "      <th>17976</th>\n",
       "      <td>60490002</td>\n",
       "      <td>44.741833</td>\n",
       "      <td>-111.061833</td>\n",
       "      <td>10.61</td>\n",
       "      <td>1.649588e+09</td>\n",
       "      <td>0.13</td>\n",
       "      <td>l</td>\n",
       "      <td>F</td>\n",
       "      <td>2022-04-10 10:54:22.609999+00:00</td>\n",
       "    </tr>\n",
       "    <tr>\n",
       "      <th>...</th>\n",
       "      <td>...</td>\n",
       "      <td>...</td>\n",
       "      <td>...</td>\n",
       "      <td>...</td>\n",
       "      <td>...</td>\n",
       "      <td>...</td>\n",
       "      <td>...</td>\n",
       "      <td>...</td>\n",
       "      <td>...</td>\n",
       "    </tr>\n",
       "    <tr>\n",
       "      <th>9572</th>\n",
       "      <td>60210707</td>\n",
       "      <td>44.751000</td>\n",
       "      <td>-110.995833</td>\n",
       "      <td>4.58</td>\n",
       "      <td>1.498974e+09</td>\n",
       "      <td>0.99</td>\n",
       "      <td>l</td>\n",
       "      <td>F</td>\n",
       "      <td>2017-07-02 05:33:21.789999+00:00</td>\n",
       "    </tr>\n",
       "    <tr>\n",
       "      <th>8474</th>\n",
       "      <td>60193087</td>\n",
       "      <td>44.790000</td>\n",
       "      <td>-110.994833</td>\n",
       "      <td>4.36</td>\n",
       "      <td>1.491713e+09</td>\n",
       "      <td>0.99</td>\n",
       "      <td>l</td>\n",
       "      <td>F</td>\n",
       "      <td>2017-04-09 04:42:43+00:00</td>\n",
       "    </tr>\n",
       "    <tr>\n",
       "      <th>14704</th>\n",
       "      <td>60393137</td>\n",
       "      <td>44.834167</td>\n",
       "      <td>-110.781333</td>\n",
       "      <td>3.67</td>\n",
       "      <td>1.591273e+09</td>\n",
       "      <td>0.99</td>\n",
       "      <td>l</td>\n",
       "      <td>F</td>\n",
       "      <td>2020-06-04 12:20:02.640000+00:00</td>\n",
       "    </tr>\n",
       "    <tr>\n",
       "      <th>15593</th>\n",
       "      <td>60430017</td>\n",
       "      <td>44.748667</td>\n",
       "      <td>-110.823167</td>\n",
       "      <td>5.88</td>\n",
       "      <td>1.616495e+09</td>\n",
       "      <td>0.99</td>\n",
       "      <td>l</td>\n",
       "      <td>F</td>\n",
       "      <td>2021-03-23 10:17:23.810000+00:00</td>\n",
       "    </tr>\n",
       "    <tr>\n",
       "      <th>20598</th>\n",
       "      <td>60546427</td>\n",
       "      <td>44.613667</td>\n",
       "      <td>-110.448833</td>\n",
       "      <td>6.32</td>\n",
       "      <td>1.690527e+09</td>\n",
       "      <td>0.99</td>\n",
       "      <td>l</td>\n",
       "      <td>F</td>\n",
       "      <td>2023-07-28 06:53:28.840000+00:00</td>\n",
       "    </tr>\n",
       "  </tbody>\n",
       "</table>\n",
       "<p>2124 rows × 9 columns</p>\n",
       "</div>"
      ],
      "text/plain": [
       "           evid  event_lat   event_lon  event_depth   origin_time  magnitude  \\\n",
       "1672   60014499  44.660833 -110.756500         2.61  1.515725e+09       0.01   \n",
       "6893   60104782  44.644500 -111.013333         9.39  1.426623e+09       0.02   \n",
       "11312  60264947  44.660833 -110.754833         2.11  1.515725e+09       0.05   \n",
       "11313  60264952  44.653667 -110.751500         2.17  1.515725e+09       0.05   \n",
       "17976  60490002  44.741833 -111.061833        10.61  1.649588e+09       0.13   \n",
       "...         ...        ...         ...          ...           ...        ...   \n",
       "9572   60210707  44.751000 -110.995833         4.58  1.498974e+09       0.99   \n",
       "8474   60193087  44.790000 -110.994833         4.36  1.491713e+09       0.99   \n",
       "14704  60393137  44.834167 -110.781333         3.67  1.591273e+09       0.99   \n",
       "15593  60430017  44.748667 -110.823167         5.88  1.616495e+09       0.99   \n",
       "20598  60546427  44.613667 -110.448833         6.32  1.690527e+09       0.99   \n",
       "\n",
       "      magnitude_type rflag                               utc  \n",
       "1672               l     F  2018-01-12 02:41:04.370000+00:00  \n",
       "6893               l     F  2015-03-17 20:16:48.820000+00:00  \n",
       "11312              l     F  2018-01-12 02:38:11.480000+00:00  \n",
       "11313              l     F  2018-01-12 02:40:03.650000+00:00  \n",
       "17976              l     F  2022-04-10 10:54:22.609999+00:00  \n",
       "...              ...   ...                               ...  \n",
       "9572               l     F  2017-07-02 05:33:21.789999+00:00  \n",
       "8474               l     F         2017-04-09 04:42:43+00:00  \n",
       "14704              l     F  2020-06-04 12:20:02.640000+00:00  \n",
       "15593              l     F  2021-03-23 10:17:23.810000+00:00  \n",
       "20598              l     F  2023-07-28 06:53:28.840000+00:00  \n",
       "\n",
       "[2124 rows x 9 columns]"
      ]
     },
     "execution_count": 39,
     "metadata": {},
     "output_type": "execute_result"
    }
   ],
   "source": [
    "ev_cat[(ev_cat['magnitude_type'] == 'l') & (ev_cat['magnitude'] < 1.0)].sort_values('magnitude')"
   ]
  },
  {
   "cell_type": "code",
   "execution_count": 40,
   "metadata": {},
   "outputs": [
    {
     "data": {
      "text/plain": [
       "count    8475.000000\n",
       "mean        1.409368\n",
       "std         0.556139\n",
       "min         0.010000\n",
       "25%         0.990000\n",
       "50%         1.370000\n",
       "75%         1.740000\n",
       "max         4.360000\n",
       "Name: CatMag, dtype: float64"
      ]
     },
     "execution_count": 40,
     "metadata": {},
     "output_type": "execute_result"
    }
   ],
   "source": [
    "ypml_cat['CatMag'].describe()"
   ]
  },
  {
   "cell_type": "code",
   "execution_count": 41,
   "metadata": {},
   "outputs": [
    {
     "data": {
      "text/plain": [
       "count    8475.000000\n",
       "mean        1.306131\n",
       "std         0.563419\n",
       "min        -0.339761\n",
       "25%         0.906641\n",
       "50%         1.250970\n",
       "75%         1.628050\n",
       "max         4.332082\n",
       "Name: Event-Mean-YPML-S, dtype: float64"
      ]
     },
     "execution_count": 41,
     "metadata": {},
     "output_type": "execute_result"
    }
   ],
   "source": [
    "ypml_cat['Event-Mean-YPML-S'].describe()"
   ]
  },
  {
   "cell_type": "code",
   "execution_count": 42,
   "metadata": {},
   "outputs": [
    {
     "data": {
      "text/plain": [
       "count    8475.000000\n",
       "mean        0.103236\n",
       "std         0.181879\n",
       "min        -0.473797\n",
       "25%        -0.010337\n",
       "50%         0.082000\n",
       "75%         0.169803\n",
       "max         1.049101\n",
       "dtype: float64"
      ]
     },
     "execution_count": 42,
     "metadata": {},
     "output_type": "execute_result"
    }
   ],
   "source": [
    "(ypml_cat['CatMag'] - ypml_cat['Event-Mean-YPML-S']).describe()"
   ]
  },
  {
   "cell_type": "code",
   "execution_count": 43,
   "metadata": {},
   "outputs": [
    {
     "data": {
      "text/html": [
       "<div>\n",
       "<style scoped>\n",
       "    .dataframe tbody tr th:only-of-type {\n",
       "        vertical-align: middle;\n",
       "    }\n",
       "\n",
       "    .dataframe tbody tr th {\n",
       "        vertical-align: top;\n",
       "    }\n",
       "\n",
       "    .dataframe thead th {\n",
       "        text-align: right;\n",
       "    }\n",
       "</style>\n",
       "<table border=\"1\" class=\"dataframe\">\n",
       "  <thead>\n",
       "    <tr style=\"text-align: right;\">\n",
       "      <th></th>\n",
       "      <th>Evid</th>\n",
       "      <th>EqLat</th>\n",
       "      <th>EqLon</th>\n",
       "      <th>EqDepSL</th>\n",
       "      <th>EqOt</th>\n",
       "      <th>CatMag</th>\n",
       "      <th>CatMagType</th>\n",
       "      <th>Date</th>\n",
       "      <th>Event-Mean-YPML</th>\n",
       "      <th>Event-Median-YPML</th>\n",
       "      <th>Event-Mean-YPML-S</th>\n",
       "      <th>Event-Median-YPML-S</th>\n",
       "    </tr>\n",
       "  </thead>\n",
       "  <tbody>\n",
       "    <tr>\n",
       "      <th>103</th>\n",
       "      <td>60003995.0</td>\n",
       "      <td>44.7805</td>\n",
       "      <td>-110.721833</td>\n",
       "      <td>3.48</td>\n",
       "      <td>1.396192e+09</td>\n",
       "      <td>3.66</td>\n",
       "      <td>l</td>\n",
       "      <td>2014-03-30 15:12:24.330000+00:00</td>\n",
       "      <td>3.357628</td>\n",
       "      <td>3.325083</td>\n",
       "      <td>3.387239</td>\n",
       "      <td>3.316782</td>\n",
       "    </tr>\n",
       "  </tbody>\n",
       "</table>\n",
       "</div>"
      ],
      "text/plain": [
       "           Evid    EqLat       EqLon  EqDepSL          EqOt  CatMag  \\\n",
       "103  60003995.0  44.7805 -110.721833     3.48  1.396192e+09    3.66   \n",
       "\n",
       "    CatMagType                              Date  Event-Mean-YPML  \\\n",
       "103          l  2014-03-30 15:12:24.330000+00:00         3.357628   \n",
       "\n",
       "     Event-Median-YPML  Event-Mean-YPML-S  Event-Median-YPML-S  \n",
       "103           3.325083           3.387239             3.316782  "
      ]
     },
     "execution_count": 43,
     "metadata": {},
     "output_type": "execute_result"
    }
   ],
   "source": [
    "# The 4.8 is not in the local mag catalog\n",
    "ypml_cat[(ypml_cat['EqOt'] > 1396137600.0) & (ypml_cat['EqOt'] < 1396224000.0)].sort_values('CatMag').iloc[-1:]"
   ]
  },
  {
   "cell_type": "markdown",
   "metadata": {},
   "source": [
    "# Split the catalogs temporally "
   ]
  },
  {
   "cell_type": "code",
   "execution_count": 44,
   "metadata": {},
   "outputs": [
    {
     "name": "stdout",
     "output_type": "stream",
     "text": [
      "Filter the other catalogs from 2012-10-01 00:00:00+00:00 to 2023-01-01 00:00:00+00:00 and from 2023-01-01 00:00:00+00:00 to 2024-01-01 00:00:00+00:00\n"
     ]
    }
   ],
   "source": [
    "startdate1 = datetime(2012, 10, 1, tzinfo=timezone.utc)\n",
    "enddate1 = datetime(2023, 1, 1, tzinfo=timezone.utc)\n",
    "startdate2 = datetime(2023, 1, 1, tzinfo=timezone.utc)\n",
    "enddate2 = datetime(2024, 1, 1, tzinfo=timezone.utc)\n",
    "print(f\"Filter the other catalogs from {startdate1} to {enddate1} and from {startdate2} to {enddate2}\")"
   ]
  },
  {
   "cell_type": "code",
   "execution_count": 45,
   "metadata": {},
   "outputs": [],
   "source": [
    "# Catalogs pre enddate1\n",
    "ev_cat_pre = time_filter(ev_cat, startdate1, enddate1, 'origin_time')\n",
    "ypml_cat_pre = time_filter(ypml_cat, startdate1, enddate1, 'EqOt')\n",
    "ypml_amps_pre = time_filter(ypml_amps, startdate1, enddate1, 'EqOt')\n",
    "arr_cat_pre = time_filter(arr_cat, startdate1, enddate1, 'origin_time')"
   ]
  },
  {
   "cell_type": "code",
   "execution_count": 46,
   "metadata": {},
   "outputs": [],
   "source": [
    "# Catalogs post enddate1\n",
    "ev_cat_post = time_filter(ev_cat, startdate2, enddate2, 'origin_time')\n",
    "ypml_cat_post = time_filter(ypml_cat, startdate2, enddate2, 'EqOt')\n",
    "ypml_amps_post = time_filter(ypml_amps, startdate2, enddate2, 'EqOt')\n",
    "arr_cat_post = time_filter(arr_cat, startdate2, enddate2, 'origin_time')"
   ]
  },
  {
   "cell_type": "code",
   "execution_count": 47,
   "metadata": {},
   "outputs": [],
   "source": [
    "p_feats_pre = p_feats[p_feats.event_identifier.isin(ev_cat_pre.evid)]\n",
    "s_feats_pre = s_feats[s_feats.event_identifier.isin(ev_cat_pre.evid)]"
   ]
  },
  {
   "cell_type": "code",
   "execution_count": 48,
   "metadata": {},
   "outputs": [],
   "source": [
    "p_feats_post = p_feats[p_feats.event_identifier.isin(ev_cat_post.evid)]\n",
    "s_feats_post = s_feats[s_feats.event_identifier.isin(ev_cat_post.evid)]"
   ]
  },
  {
   "cell_type": "code",
   "execution_count": 49,
   "metadata": {},
   "outputs": [
    {
     "name": "stdout",
     "output_type": "stream",
     "text": [
      "The 2023 events make up 93.30% of the P feature dataset\n",
      "The 2023 events make up 92.96% of the S feature dataset\n"
     ]
    }
   ],
   "source": [
    "feat_percentage(p_feats_pre, p_feats_post, \"P\", '2023')\n",
    "feat_percentage(s_feats_pre, s_feats_post, \"S\", '2023')"
   ]
  },
  {
   "cell_type": "code",
   "execution_count": 50,
   "metadata": {},
   "outputs": [
    {
     "name": "stdout",
     "output_type": "stream",
     "text": [
      "The 2023 events make up 6.70% of the P feature dataset\n",
      "The 2023 events make up 7.04% of the S feature dataset\n"
     ]
    }
   ],
   "source": [
    "feat_percentage(p_feats_post, p_feats_pre, \"P\", '2023')\n",
    "feat_percentage(s_feats_post, s_feats_pre, \"S\", '2023')"
   ]
  },
  {
   "cell_type": "code",
   "execution_count": 51,
   "metadata": {},
   "outputs": [
    {
     "name": "stdout",
     "output_type": "stream",
     "text": [
      "The breakdown (%) of the *full* YS cat magnitude_type\n",
      "d    57.935943\n",
      "l    40.218268\n",
      "h     1.841044\n",
      "w     0.004745\n",
      "Name: count, dtype: float64\n",
      "\n",
      "\n",
      "The breakdown (%) of the Pre YS cat magnitude_type\n",
      "d    57.313065\n",
      "l    40.791906\n",
      "h     1.889893\n",
      "w     0.005136\n",
      "Name: count, dtype: float64\n",
      "\n",
      "\n",
      "The breakdown (%) of the Post YS cat magnitude_type\n",
      "d    65.502183\n",
      "l    33.250156\n",
      "h     1.247661\n",
      "Name: count, dtype: float64\n"
     ]
    }
   ],
   "source": [
    "print_value_counts(ev_cat, 'magnitude_type', '*full* YS cat')\n",
    "print(\"\\n\")\n",
    "print_value_counts(ev_cat_pre, 'magnitude_type', 'Pre YS cat')\n",
    "print(\"\\n\")\n",
    "print_value_counts(ev_cat_post, 'magnitude_type', 'Post YS cat')"
   ]
  },
  {
   "cell_type": "code",
   "execution_count": 52,
   "metadata": {},
   "outputs": [
    {
     "name": "stdout",
     "output_type": "stream",
     "text": [
      "There are 19472 events in the Pre-2023 YS event catalog between 2012-10-01 10:05:36.099998+00:00 and 2022-12-30 16:36:52.549999+00:00\n",
      "There are 1603 events in the Post-2023 YS event catalog between 2023-01-01 06:50:26.900000+00:00 and 2023-12-31 12:39:40.480000+00:00\n"
     ]
    }
   ],
   "source": [
    "describe_cat_cnts(ev_cat_pre, \"Pre-2023 YS\")\n",
    "describe_cat_cnts(ev_cat_post, \"Post-2023 YS\")"
   ]
  },
  {
   "cell_type": "code",
   "execution_count": 53,
   "metadata": {},
   "outputs": [
    {
     "name": "stdout",
     "output_type": "stream",
     "text": [
      "There are 7942 events in the Pre-2023 YS event catalog between 2012-10-07 00:32:04.740000+00:00 and 2022-12-30 16:36:52.549999+00:00\n",
      "There are 533 events in the Post-2023 YS event catalog between 2023-01-02 11:18:40.930000+00:00 and 2023-12-29 09:38:37.689999+00:00\n"
     ]
    }
   ],
   "source": [
    "describe_cat_cnts(ypml_cat_pre, \"Pre-2023 YS\",ot_name='EqOt')\n",
    "describe_cat_cnts(ypml_cat_post, \"Post-2023 YS\",ot_name='EqOt')"
   ]
  },
  {
   "cell_type": "markdown",
   "metadata": {},
   "source": [
    "# Describe arrivals"
   ]
  },
  {
   "cell_type": "code",
   "execution_count": 54,
   "metadata": {},
   "outputs": [
    {
     "name": "stdout",
     "output_type": "stream",
     "text": [
      "There are 266134 arrivals in the *full* YS event catalog between 2012-10-01 10:05:36.099998+00:00 and 2023-12-31 12:39:40.480000+00:00\n"
     ]
    }
   ],
   "source": [
    "describe_cat_cnts(arr_cat, '*full* YS', cat_type='arrivals')"
   ]
  },
  {
   "cell_type": "code",
   "execution_count": 55,
   "metadata": {},
   "outputs": [
    {
     "name": "stdout",
     "output_type": "stream",
     "text": [
      "There are 132902 arrivals in the *full* YS event catalog between 2012-10-07 00:32:04.740000+00:00 and 2023-12-29 09:38:37.689999+00:00\n"
     ]
    }
   ],
   "source": [
    "describe_cat_cnts(arr_cat[arr_cat.magnitude_type == 'l'], '*full* YS', cat_type='arrivals')"
   ]
  },
  {
   "cell_type": "code",
   "execution_count": 56,
   "metadata": {},
   "outputs": [
    {
     "data": {
      "text/plain": [
       "0.4993800115731173"
      ]
     },
     "execution_count": 56,
     "metadata": {},
     "output_type": "execute_result"
    }
   ],
   "source": [
    "132902 /266134 "
   ]
  },
  {
   "cell_type": "code",
   "execution_count": 57,
   "metadata": {},
   "outputs": [
    {
     "name": "stdout",
     "output_type": "stream",
     "text": [
      "The breakdown (%) of the *full* YS cat phase\n",
      "P    79.140583\n",
      "S    20.859417\n",
      "Name: count, dtype: float64\n",
      "\n",
      "\n",
      "The breakdown (%) of the time-filtered local mag YS cat phase\n",
      "P    81.688763\n",
      "S    18.311237\n",
      "Name: count, dtype: float64\n"
     ]
    }
   ],
   "source": [
    "print_value_counts(arr_cat, 'phase', '*full* YS cat')\n",
    "print(\"\\n\")\n",
    "print_value_counts(arr_cat[arr_cat['magnitude_type'] == 'l'], 'phase', 'time-filtered local mag YS cat')"
   ]
  },
  {
   "cell_type": "code",
   "execution_count": 58,
   "metadata": {},
   "outputs": [
    {
     "name": "stdout",
     "output_type": "stream",
     "text": [
      "The breakdown (%) of the pre-2023 YS cat phase\n",
      "P    79.163698\n",
      "S    20.836302\n",
      "Name: count, dtype: float64\n",
      "\n",
      "\n",
      "The breakdown (%) of the pre-2023 local mag YS cat phase\n",
      "P    81.672259\n",
      "S    18.327741\n",
      "Name: count, dtype: float64\n"
     ]
    }
   ],
   "source": [
    "print_value_counts(arr_cat_pre, 'phase', 'pre-2023 YS cat')\n",
    "print(\"\\n\")\n",
    "print_value_counts(arr_cat_pre[arr_cat_pre['magnitude_type'] == 'l'], 'phase', 'pre-2023 local mag YS cat')"
   ]
  },
  {
   "cell_type": "code",
   "execution_count": 59,
   "metadata": {},
   "outputs": [
    {
     "name": "stdout",
     "output_type": "stream",
     "text": [
      "The breakdown (%) of the post-2023 YS cat phase\n",
      "P    78.864046\n",
      "S    21.135954\n",
      "Name: count, dtype: float64\n",
      "\n",
      "\n",
      "The breakdown (%) of the post-2023 local mag YS cat phase\n",
      "P    81.917992\n",
      "S    18.082008\n",
      "Name: count, dtype: float64\n"
     ]
    }
   ],
   "source": [
    "print_value_counts(arr_cat_post, 'phase', 'post-2023 YS cat')\n",
    "print(\"\\n\")\n",
    "print_value_counts(arr_cat_post[arr_cat_post['magnitude_type'] == 'l'], 'phase', 'post-2023 local mag YS cat')"
   ]
  },
  {
   "cell_type": "code",
   "execution_count": 60,
   "metadata": {},
   "outputs": [
    {
     "name": "stdout",
     "output_type": "stream",
     "text": [
      "The proportion of phase types in the 10-day deep learning catalog from Armstrong et al (2023) is \n",
      " P: 55.2% \n",
      " S: 44.8%\n"
     ]
    }
   ],
   "source": [
    "ngb_dl_p = 137958\n",
    "ngb_dl_s = 111896\n",
    "print(f\"The proportion of phase types in the 10-day deep learning catalog from Armstrong et al (2023) is \\n \\\n",
    "P: {(ngb_dl_p/(ngb_dl_p+ngb_dl_s))*100:0.1f}% \\n \\\n",
    "S: {(ngb_dl_s/(ngb_dl_p+ngb_dl_s))*100:0.1f}%\")"
   ]
  },
  {
   "cell_type": "markdown",
   "metadata": {},
   "source": [
    "## Look into the stations that arrivals are picked at"
   ]
  },
  {
   "cell_type": "code",
   "execution_count": 61,
   "metadata": {},
   "outputs": [],
   "source": [
    "stat_count = arr_cat[['network', 'station', 'channelz']].value_counts().reset_index()"
   ]
  },
  {
   "cell_type": "code",
   "execution_count": 62,
   "metadata": {},
   "outputs": [
    {
     "name": "stdout",
     "output_type": "stream",
     "text": [
      "The break down of networks in the arrival catalog:\n"
     ]
    },
    {
     "data": {
      "text/plain": [
       "network\n",
       "WY    75.810306\n",
       "PB    17.845521\n",
       "IW     2.652423\n",
       "US     1.446264\n",
       "MB     1.179481\n",
       "TA     1.009266\n",
       "IE     0.042460\n",
       "RC     0.012400\n",
       "IM     0.001127\n",
       "GS     0.000752\n",
       "Name: count, dtype: float64"
      ]
     },
     "execution_count": 62,
     "metadata": {},
     "output_type": "execute_result"
    }
   ],
   "source": [
    "print(\"The break down of networks in the arrival catalog:\")\n",
    "((arr_cat['network'].value_counts())/len(arr_cat))*100"
   ]
  },
  {
   "cell_type": "code",
   "execution_count": 63,
   "metadata": {},
   "outputs": [
    {
     "name": "stdout",
     "output_type": "stream",
     "text": [
      "The break down of networks in the arrival catalog for local mag events:\n"
     ]
    },
    {
     "data": {
      "text/plain": [
       "network\n",
       "WY    75.828054\n",
       "PB    17.443680\n",
       "IW     2.087252\n",
       "MB     1.908925\n",
       "US     1.601180\n",
       "TA     1.037607\n",
       "IE     0.075243\n",
       "RC     0.014296\n",
       "IM     0.002257\n",
       "GS     0.001505\n",
       "Name: count, dtype: float64"
      ]
     },
     "execution_count": 63,
     "metadata": {},
     "output_type": "execute_result"
    }
   ],
   "source": [
    "print(\"The break down of networks in the arrival catalog for local mag events:\")\n",
    "((arr_cat[arr_cat['magnitude_type'] == 'l']['network'].value_counts())/len(arr_cat[arr_cat['magnitude_type'] == 'l']))*100"
   ]
  },
  {
   "cell_type": "code",
   "execution_count": 64,
   "metadata": {},
   "outputs": [
    {
     "name": "stdout",
     "output_type": "stream",
     "text": [
      "Stations with more than 100 picks that are not in the WY or PB networks:\n"
     ]
    },
    {
     "data": {
      "text/html": [
       "<div>\n",
       "<style scoped>\n",
       "    .dataframe tbody tr th:only-of-type {\n",
       "        vertical-align: middle;\n",
       "    }\n",
       "\n",
       "    .dataframe tbody tr th {\n",
       "        vertical-align: top;\n",
       "    }\n",
       "\n",
       "    .dataframe thead th {\n",
       "        text-align: right;\n",
       "    }\n",
       "</style>\n",
       "<table border=\"1\" class=\"dataframe\">\n",
       "  <thead>\n",
       "    <tr style=\"text-align: right;\">\n",
       "      <th></th>\n",
       "      <th>network</th>\n",
       "      <th>station</th>\n",
       "      <th>channelz</th>\n",
       "      <th>count</th>\n",
       "    </tr>\n",
       "  </thead>\n",
       "  <tbody>\n",
       "    <tr>\n",
       "      <th>23</th>\n",
       "      <td>IW</td>\n",
       "      <td>FLWY</td>\n",
       "      <td>BHZ</td>\n",
       "      <td>3902</td>\n",
       "    </tr>\n",
       "    <tr>\n",
       "      <th>25</th>\n",
       "      <td>US</td>\n",
       "      <td>LKWY</td>\n",
       "      <td>BHZ</td>\n",
       "      <td>3264</td>\n",
       "    </tr>\n",
       "    <tr>\n",
       "      <th>31</th>\n",
       "      <td>TA</td>\n",
       "      <td>H17A</td>\n",
       "      <td>BHZ</td>\n",
       "      <td>1567</td>\n",
       "    </tr>\n",
       "    <tr>\n",
       "      <th>32</th>\n",
       "      <td>MB</td>\n",
       "      <td>QLMT</td>\n",
       "      <td>EHZ</td>\n",
       "      <td>1560</td>\n",
       "    </tr>\n",
       "    <tr>\n",
       "      <th>38</th>\n",
       "      <td>IW</td>\n",
       "      <td>IMW</td>\n",
       "      <td>BHZ</td>\n",
       "      <td>1255</td>\n",
       "    </tr>\n",
       "    <tr>\n",
       "      <th>39</th>\n",
       "      <td>TA</td>\n",
       "      <td>H17A</td>\n",
       "      <td>HHZ</td>\n",
       "      <td>1119</td>\n",
       "    </tr>\n",
       "    <tr>\n",
       "      <th>42</th>\n",
       "      <td>IW</td>\n",
       "      <td>LOHW</td>\n",
       "      <td>BHZ</td>\n",
       "      <td>765</td>\n",
       "    </tr>\n",
       "    <tr>\n",
       "      <th>43</th>\n",
       "      <td>MB</td>\n",
       "      <td>TPMT</td>\n",
       "      <td>EHZ</td>\n",
       "      <td>737</td>\n",
       "    </tr>\n",
       "    <tr>\n",
       "      <th>48</th>\n",
       "      <td>IW</td>\n",
       "      <td>MOOW</td>\n",
       "      <td>BHZ</td>\n",
       "      <td>559</td>\n",
       "    </tr>\n",
       "    <tr>\n",
       "      <th>49</th>\n",
       "      <td>US</td>\n",
       "      <td>BOZ</td>\n",
       "      <td>BHZ</td>\n",
       "      <td>426</td>\n",
       "    </tr>\n",
       "    <tr>\n",
       "      <th>50</th>\n",
       "      <td>MB</td>\n",
       "      <td>CRMT</td>\n",
       "      <td>EHZ</td>\n",
       "      <td>390</td>\n",
       "    </tr>\n",
       "    <tr>\n",
       "      <th>51</th>\n",
       "      <td>MB</td>\n",
       "      <td>BGMT</td>\n",
       "      <td>EHZ</td>\n",
       "      <td>267</td>\n",
       "    </tr>\n",
       "    <tr>\n",
       "      <th>52</th>\n",
       "      <td>IW</td>\n",
       "      <td>SNOW</td>\n",
       "      <td>BHZ</td>\n",
       "      <td>250</td>\n",
       "    </tr>\n",
       "    <tr>\n",
       "      <th>53</th>\n",
       "      <td>IW</td>\n",
       "      <td>TPAW</td>\n",
       "      <td>BHZ</td>\n",
       "      <td>224</td>\n",
       "    </tr>\n",
       "    <tr>\n",
       "      <th>56</th>\n",
       "      <td>US</td>\n",
       "      <td>RLMT</td>\n",
       "      <td>BHZ</td>\n",
       "      <td>127</td>\n",
       "    </tr>\n",
       "    <tr>\n",
       "      <th>57</th>\n",
       "      <td>IW</td>\n",
       "      <td>REDW</td>\n",
       "      <td>BHZ</td>\n",
       "      <td>104</td>\n",
       "    </tr>\n",
       "  </tbody>\n",
       "</table>\n",
       "</div>"
      ],
      "text/plain": [
       "   network station channelz  count\n",
       "23      IW    FLWY      BHZ   3902\n",
       "25      US    LKWY      BHZ   3264\n",
       "31      TA    H17A      BHZ   1567\n",
       "32      MB    QLMT      EHZ   1560\n",
       "38      IW     IMW      BHZ   1255\n",
       "39      TA    H17A      HHZ   1119\n",
       "42      IW    LOHW      BHZ    765\n",
       "43      MB    TPMT      EHZ    737\n",
       "48      IW    MOOW      BHZ    559\n",
       "49      US     BOZ      BHZ    426\n",
       "50      MB    CRMT      EHZ    390\n",
       "51      MB    BGMT      EHZ    267\n",
       "52      IW    SNOW      BHZ    250\n",
       "53      IW    TPAW      BHZ    224\n",
       "56      US    RLMT      BHZ    127\n",
       "57      IW    REDW      BHZ    104"
      ]
     },
     "execution_count": 64,
     "metadata": {},
     "output_type": "execute_result"
    }
   ],
   "source": [
    "print(\"Stations with more than 100 picks that are not in the WY or PB networks:\")\n",
    "stat_count[(stat_count['count'] > 100) & (~stat_count['network'].isin(['WY', 'PB']))]"
   ]
  },
  {
   "cell_type": "code",
   "execution_count": 65,
   "metadata": {},
   "outputs": [
    {
     "name": "stdout",
     "output_type": "stream",
     "text": [
      "There are 90 sensors in the YS arr catalog\n"
     ]
    }
   ],
   "source": [
    "print(f\"There are {stat_count.shape[0]} sensors in the YS arr catalog\")"
   ]
  },
  {
   "cell_type": "code",
   "execution_count": 66,
   "metadata": {},
   "outputs": [
    {
     "name": "stdout",
     "output_type": "stream",
     "text": [
      "There are 76 sensors in the top 6 networks in the arr catalog\n"
     ]
    }
   ],
   "source": [
    "print(f\"There are {stat_count[~stat_count['network'].isin(['IE', 'RC', 'GS', 'IM'])].shape[0]} sensors in the top 6 networks in the arr catalog\")"
   ]
  },
  {
   "cell_type": "code",
   "execution_count": 67,
   "metadata": {},
   "outputs": [
    {
     "name": "stdout",
     "output_type": "stream",
     "text": [
      "There are 69 stations in the stations in the YS arr catalog\n"
     ]
    }
   ],
   "source": [
    "print(f\"There are {stat_count['station'].drop_duplicates().shape[0]} stations in the stations in the YS arr catalog\")"
   ]
  },
  {
   "cell_type": "code",
   "execution_count": 68,
   "metadata": {},
   "outputs": [
    {
     "name": "stdout",
     "output_type": "stream",
     "text": [
      "There are 57 stations in the top 6 networks in the arr catalog\n"
     ]
    }
   ],
   "source": [
    "print(f\"There are {stat_count[~stat_count['network'].isin(['IE', 'RC', 'GS', 'IM'])]['station'].drop_duplicates().shape[0]} stations in the top 6 networks in the arr catalog\")"
   ]
  },
  {
   "cell_type": "code",
   "execution_count": 69,
   "metadata": {},
   "outputs": [
    {
     "name": "stdout",
     "output_type": "stream",
     "text": [
      "There are 31 stations in the WY network\n"
     ]
    }
   ],
   "source": [
    "print(f\"There are {stat_count[stat_count['network'] == 'WY'].drop_duplicates('station').shape[0]} stations in the WY network\")"
   ]
  },
  {
   "cell_type": "code",
   "execution_count": 70,
   "metadata": {},
   "outputs": [
    {
     "name": "stdout",
     "output_type": "stream",
     "text": [
      "There are 49 sensors in the WY network\n"
     ]
    }
   ],
   "source": [
    "print(f\"There are {stat_count[stat_count['network'] == 'WY'].drop_duplicates(['station', 'channelz']).shape[0]} sensors in the WY network\")"
   ]
  },
  {
   "cell_type": "code",
   "execution_count": 71,
   "metadata": {},
   "outputs": [
    {
     "name": "stdout",
     "output_type": "stream",
     "text": [
      "There are 6 stations in the PB network\n"
     ]
    }
   ],
   "source": [
    "print(f\"There are {stat_count[stat_count['network'] == 'PB'].drop_duplicates('station').shape[0]} stations in the PB network\")"
   ]
  },
  {
   "cell_type": "code",
   "execution_count": 72,
   "metadata": {},
   "outputs": [
    {
     "name": "stdout",
     "output_type": "stream",
     "text": [
      "There are 6 sensors in the PB network\n"
     ]
    }
   ],
   "source": [
    "print(f\"There are {stat_count[stat_count['network'] == 'PB'].drop_duplicates(['station', 'channelz']).shape[0]} sensors in the PB network\")"
   ]
  },
  {
   "cell_type": "markdown",
   "metadata": {},
   "source": [
    "# Summary catalog and dataset features"
   ]
  },
  {
   "cell_type": "markdown",
   "metadata": {},
   "source": [
    "Map of all events from 2012/10/01 to 2024/01/01\n",
    "- gray non-M_L events\n",
    "- plot stations, highlight those that have corrections"
   ]
  },
  {
   "cell_type": "code",
   "execution_count": 73,
   "metadata": {},
   "outputs": [
    {
     "data": {
      "text/html": [
       "<div>\n",
       "<style scoped>\n",
       "    .dataframe tbody tr th:only-of-type {\n",
       "        vertical-align: middle;\n",
       "    }\n",
       "\n",
       "    .dataframe tbody tr th {\n",
       "        vertical-align: top;\n",
       "    }\n",
       "\n",
       "    .dataframe thead th {\n",
       "        text-align: right;\n",
       "    }\n",
       "</style>\n",
       "<table border=\"1\" class=\"dataframe\">\n",
       "  <thead>\n",
       "    <tr style=\"text-align: right;\">\n",
       "      <th></th>\n",
       "      <th>event_lon</th>\n",
       "      <th>event_lat</th>\n",
       "    </tr>\n",
       "  </thead>\n",
       "  <tbody>\n",
       "    <tr>\n",
       "      <th>min</th>\n",
       "      <td>-111.331667</td>\n",
       "      <td>44.000167</td>\n",
       "    </tr>\n",
       "    <tr>\n",
       "      <th>max</th>\n",
       "      <td>-109.753333</td>\n",
       "      <td>45.129000</td>\n",
       "    </tr>\n",
       "  </tbody>\n",
       "</table>\n",
       "</div>"
      ],
      "text/plain": [
       "      event_lon  event_lat\n",
       "min -111.331667  44.000167\n",
       "max -109.753333  45.129000"
      ]
     },
     "execution_count": 73,
     "metadata": {},
     "output_type": "execute_result"
    }
   ],
   "source": [
    "ev_cat[['event_lon', 'event_lat']].describe().loc[['min', 'max']]"
   ]
  },
  {
   "cell_type": "code",
   "execution_count": 74,
   "metadata": {},
   "outputs": [],
   "source": [
    "ys_border = pd.read_csv(f\"{data_path}/utahnet/yell.border.g\", delimiter=\" \", names=[\"Longitude\", \"Latitude\"], dtype=np.float64)\n",
    "caldera = pd.read_csv(f\"{data_path}/utahnet/caldera.ys\", sep=\"\\s+\", names=[\"Latitude\", \"Longitude\"], dtype=np.float64)\n",
    "\n",
    "caldera = caldera.drop(caldera[caldera[\"Longitude\"]==0].index)\n",
    "caldera = caldera[[\"Longitude\", \"Latitude\"]]\n",
    "caldera[\"Longitude\"] = caldera[\"Longitude\"]*-1\n",
    "caldera.head()\n",
    "\n",
    "# Northeast Corner\tSouthwest Corner\n",
    "# 45.17º,-109.75º\t44.00º,-111.50º\n",
    "uuss_auth_box = [[-109.75, 45.17],[-109.75, 44.00],  [-111.3333, 44.00], [-111.3333, 45.17], [-109.75, 45.17]]"
   ]
  },
  {
   "cell_type": "code",
   "execution_count": 75,
   "metadata": {},
   "outputs": [
    {
     "name": "stdout",
     "output_type": "stream",
     "text": [
      "69\n"
     ]
    },
    {
     "data": {
      "text/html": [
       "<div>\n",
       "<style scoped>\n",
       "    .dataframe tbody tr th:only-of-type {\n",
       "        vertical-align: middle;\n",
       "    }\n",
       "\n",
       "    .dataframe tbody tr th {\n",
       "        vertical-align: top;\n",
       "    }\n",
       "\n",
       "    .dataframe thead th {\n",
       "        text-align: right;\n",
       "    }\n",
       "</style>\n",
       "<table border=\"1\" class=\"dataframe\">\n",
       "  <thead>\n",
       "    <tr style=\"text-align: right;\">\n",
       "      <th></th>\n",
       "      <th>network</th>\n",
       "      <th>station</th>\n",
       "      <th>receiver_lon</th>\n",
       "      <th>receiver_lat</th>\n",
       "    </tr>\n",
       "  </thead>\n",
       "  <tbody>\n",
       "    <tr>\n",
       "      <th>0</th>\n",
       "      <td>WY</td>\n",
       "      <td>YDC</td>\n",
       "      <td>-111.23967</td>\n",
       "      <td>44.70950</td>\n",
       "    </tr>\n",
       "    <tr>\n",
       "      <th>1</th>\n",
       "      <td>WY</td>\n",
       "      <td>YHH</td>\n",
       "      <td>-110.85050</td>\n",
       "      <td>44.78833</td>\n",
       "    </tr>\n",
       "    <tr>\n",
       "      <th>2</th>\n",
       "      <td>WY</td>\n",
       "      <td>YMR</td>\n",
       "      <td>-110.96500</td>\n",
       "      <td>44.66867</td>\n",
       "    </tr>\n",
       "    <tr>\n",
       "      <th>3</th>\n",
       "      <td>WY</td>\n",
       "      <td>YHB</td>\n",
       "      <td>-111.19620</td>\n",
       "      <td>44.75080</td>\n",
       "    </tr>\n",
       "    <tr>\n",
       "      <th>5</th>\n",
       "      <td>PB</td>\n",
       "      <td>B207</td>\n",
       "      <td>-110.84850</td>\n",
       "      <td>44.61900</td>\n",
       "    </tr>\n",
       "  </tbody>\n",
       "</table>\n",
       "</div>"
      ],
      "text/plain": [
       "  network station  receiver_lon  receiver_lat\n",
       "0      WY     YDC    -111.23967      44.70950\n",
       "1      WY     YHH    -110.85050      44.78833\n",
       "2      WY     YMR    -110.96500      44.66867\n",
       "3      WY     YHB    -111.19620      44.75080\n",
       "5      PB    B207    -110.84850      44.61900"
      ]
     },
     "execution_count": 75,
     "metadata": {},
     "output_type": "execute_result"
    }
   ],
   "source": [
    "station_df = arr_cat[['network', 'station', 'receiver_lon', 'receiver_lat']].drop_duplicates('station')\n",
    "print(station_df.shape[0])\n",
    "station_df.head()"
   ]
  },
  {
   "cell_type": "code",
   "execution_count": 76,
   "metadata": {},
   "outputs": [
    {
     "data": {
      "text/plain": [
       "min    42.64290\n",
       "max    45.64817\n",
       "Name: receiver_lat, dtype: float64"
      ]
     },
     "execution_count": 76,
     "metadata": {},
     "output_type": "execute_result"
    }
   ],
   "source": [
    "station_df['receiver_lat'].describe()[['min', 'max']]"
   ]
  },
  {
   "cell_type": "code",
   "execution_count": 77,
   "metadata": {},
   "outputs": [
    {
     "data": {
      "text/plain": [
       "min   -114.038580\n",
       "max   -109.267303\n",
       "Name: receiver_lon, dtype: float64"
      ]
     },
     "execution_count": 77,
     "metadata": {},
     "output_type": "execute_result"
    }
   ],
   "source": [
    "station_df['receiver_lon'].describe()[['min', 'max']]"
   ]
  },
  {
   "cell_type": "markdown",
   "metadata": {},
   "source": [
    "#TODO highlight stations with R58 corrections"
   ]
  },
  {
   "cell_type": "code",
   "execution_count": 78,
   "metadata": {},
   "outputs": [
    {
     "data": {
      "image/png": "[encoded data removed]",
      "text/plain": [
       "<IPython.core.display.Image object>"
      ]
     },
     "metadata": {
      "image/png": {
       "width": 500
      }
     },
     "output_type": "display_data"
    }
   ],
   "source": [
    "fig = pygmt.Figure()\n",
    "pygmt.config(FORMAT_GEO_MAP=\"ddd.x\")\n",
    "pygmt.config(FONT=\"8p\")\n",
    "\n",
    "STUDYREG = np.array([-111.40, -109.80, 43.99, 45.13])\n",
    "#STUDYREG = np.array([-114.40, -109.20, 42.5, 45.7])\n",
    "projection = f\"M5.4/9\"\n",
    "\n",
    "\n",
    "with pygmt.config(MAP_FRAME_TYPE=\"plain\", MAP_FRAME_PEN=\"0.15p\", MAP_TICK_LENGTH_PRIMARY=\"0.05c\", \n",
    "                 FONT_TITLE=\"5p\"):\n",
    "    fig.coast(region=STUDYREG, projection=projection, water=\"lightblue\", borders=\"2/0.3p\")\n",
    "\n",
    "    fig.basemap(region=STUDYREG, projection=projection, frame=[\"SenW+t\", \"xa0.4\", \"ya0.2\"], \n",
    "               map_scale=\"jBL+w20k+o0.2c/0.4c\")\n",
    "\n",
    "#\n",
    "# Plot utahnet boundaries\n",
    "#\n",
    "fig.plot(data=caldera, pen='0.5p,#ca0020,-')\n",
    "fig.plot(data=ys_border, pen='0.5p,#bababa')\n",
    "#fig.plot(data=uuss_auth_box, pen='0.5p,gray,-')\n",
    "\n",
    "#\n",
    "# Plot events\n",
    "#\n",
    "fig.plot(data=ev_cat[ev_cat['magnitude_type'] != 'l'][['event_lon', 'event_lat']], style='c0.5p', fill='#bababa')\n",
    "fig.plot(data=ev_cat[ev_cat['magnitude_type'] == 'l'][['event_lon', 'event_lat']], style='c0.5p', fill='#404040')\n",
    "\n",
    "\n",
    "#\n",
    "# State labels, title, etc\n",
    "#\n",
    "fig.text(x=-111.375, y=45.0, text=\"MT\", offset=\"0.0/0.25\", justify=\"LM\")\n",
    "fig.text(x=-111.2, y=45.0, text=\"WY\", offset=\"1.00/-0.25\", justify=\"LM\")\n",
    "fig.text(x=-111.375, y=44.7, text=\"ID\", justify=\"LM\")\n",
    "\n",
    "# fig.text(x=-111.25, y=44.88, text=\"Hebgen Lake\", justify=\"CM\", angle=-42, offset='-0.05c/-0.05c')\n",
    "# fig.text(x=-110.2, y=44.40, text=\"Yellowstone Lake\", justify=\"RM\", angle=-73, offset='0.20c/-0.35c', fill='white')\n",
    "fig.text(x=-111.2, y=44.9, text=\"Hebgen Lake\", justify=\"CM\", offset=\"-0.1/-0.02\")\n",
    "with open('ysl.txt', 'w') as fp:\n",
    "    fp.write('''\\\n",
    "> -110.15 44.45 7p 0.1i l\n",
    "Yellowstone Lake\n",
    "''')\n",
    "fig.text(textfiles='ysl.txt', M=True, offset='0.02c/0.1c')\n",
    "\n",
    "#\n",
    "#Plot stations\n",
    "#\n",
    "fig.plot(data=station_df[['receiver_lon', 'receiver_lat']], style='i0.25c', fill='#f4a582', pen='0.2p,black')\n",
    "\n",
    "\n",
    "with fig.inset(position=\"jBR+o-1.25/0.15+w2.3c/2.23c\", box=\"+p0.3,black+gwhite\"):\n",
    "    fig.coast(\n",
    "        region = STUDYREG + np.array([-6.5, 6.5, -4.25, 4.6]),\n",
    "        projection = f\"M5.4/9/?\",\n",
    "        borders = [1, 2]\n",
    "    )\n",
    "    with pygmt.config(MAP_FRAME_TYPE=\"plain\"):\n",
    "        fig.basemap(frame=[\"nsew\"])\n",
    "        \n",
    "    fig.plot(data=[[STUDYREG[0], STUDYREG[2], STUDYREG[1], STUDYREG[3]]], style=\"r+s\", fill=\"#ca0020\", pen=\"0.5p,black\")\n",
    "\n",
    "    fig.text(\n",
    "        x = -107.25, \n",
    "        y = 43,\n",
    "        text = \"WY\",\n",
    "    )\n",
    "    fig.text(\n",
    "        x = -114, \n",
    "        y = 43.5, \n",
    "        text = \"ID\", \n",
    "    )\n",
    "    fig.text(\n",
    "        x = -109.7, \n",
    "        y = 47.4, \n",
    "        text = \"MT\", \n",
    "    )\n",
    "\n",
    "fig.show()\n"
   ]
  },
  {
   "cell_type": "markdown",
   "metadata": {},
   "source": [
    "Network magnitude vs station magnitude for local magnitudes \n",
    "- plot A) YP21\n",
    "- plot B) UUSS"
   ]
  },
  {
   "cell_type": "code",
   "execution_count": 79,
   "metadata": {},
   "outputs": [
    {
     "data": {
      "text/plain": [
       "count    2.609800e+04\n",
       "mean     1.805846e-18\n",
       "std      1.660247e-01\n",
       "min     -1.025347e+00\n",
       "25%     -9.956507e-02\n",
       "50%      3.127696e-03\n",
       "75%      1.031450e-01\n",
       "max      1.049844e+00\n",
       "dtype: float64"
      ]
     },
     "execution_count": 79,
     "metadata": {},
     "output_type": "execute_result"
    }
   ],
   "source": [
    "(ypml_amps['Event-Mean-YPML-S'] - ypml_amps['Station-YPML-S']).describe()"
   ]
  },
  {
   "cell_type": "code",
   "execution_count": 80,
   "metadata": {},
   "outputs": [
    {
     "data": {
      "image/png": "[encoded data removed]",
      "text/plain": [
       "<Figure size 640x480 with 2 Axes>"
      ]
     },
     "metadata": {},
     "output_type": "display_data"
    }
   ],
   "source": [
    "def plot_compare_net_stat_mags(df, title1, title2):\n",
    "    fig, ax = plt.subplots(1, 2)\n",
    "\n",
    "    sscale = 3\n",
    "    oneone= np.arange(-0.5, 5.5, 0.5)\n",
    "    text_pos = (2.75, 0)\n",
    "    lims = [-0.5, 5]\n",
    "    xlabel1 = r'Event (Mean) $M_L$'\n",
    "    xlabel2 = r'Catalog $M_L$'\n",
    "    ylabel = r'Station $M_L$'\n",
    "    std_line_color = 'r'\n",
    "    oneone_line_color = 'k'\n",
    "    circle_color = 'C0'\n",
    "    circle_alpha=0.2\n",
    "    circle_size = 10\n",
    "\n",
    "    def plot_box( ax, x_col_name, y_col_name, title, xlabel):\n",
    "        if type(y_col_name) == list:\n",
    "            y = (df[y_col_name[0]] + df[y_col_name[1]])/2\n",
    "        else:\n",
    "            y = df[y_col_name]\n",
    "        diff = df[x_col_name] - y\n",
    "        std = np.std(diff)\n",
    "        ax.scatter(df[x_col_name], y, s=circle_size, alpha=circle_alpha, color=circle_color)\n",
    "        ax.plot(oneone, oneone, color=oneone_line_color, label='1:1')\n",
    "        ax.plot(oneone + std*sscale, oneone, color=std_line_color, linestyle='--', label=f\"{sscale}-$\\sigma$\")\n",
    "        ax.plot(oneone - std*sscale, oneone, color=std_line_color, linestyle='--')\n",
    "        ax.set_title(title)\n",
    "        ax.set_xlabel(xlabel)\n",
    "        ax.text(text_pos[0], text_pos[1], f\"{sscale}$\\sigma$={std:0.2f} m.u.\")\n",
    "\n",
    "        ax.set_aspect('equal', adjustable='box')\n",
    "        ax.set_xlim(lims)\n",
    "        ax.set_ylim(lims)\n",
    "\n",
    "    # YP21 mags\n",
    "    plot_box(ax[0], 'Event-Mean-YPML-S','Station-YPML-S', title1, xlabel1)\n",
    "    # UUSS Mags\n",
    "    plot_box(ax[1], 'CatMag',['SMLE', 'SMLN'], title2, xlabel2)\n",
    "\n",
    "    ax[1].set_yticklabels([])\n",
    "    ax[0].set_ylabel(ylabel)\n",
    "    ax[0].legend()\n",
    "\n",
    "    fig.tight_layout()\n",
    "plot_compare_net_stat_mags(ypml_amps, 'YP21', 'UUSS')"
   ]
  },
  {
   "cell_type": "code",
   "execution_count": 81,
   "metadata": {},
   "outputs": [
    {
     "data": {
      "text/plain": [
       "(-0.5, 5.0)"
      ]
     },
     "execution_count": 81,
     "metadata": {},
     "output_type": "execute_result"
    },
    {
     "data": {
      "image/png": "[encoded data removed]",
      "text/plain": [
       "<Figure size 640x480 with 1 Axes>"
      ]
     },
     "metadata": {},
     "output_type": "display_data"
    }
   ],
   "source": [
    "fig, ax = plt.subplots(1)\n",
    "\n",
    "# My Cat vs UUSS\n",
    "ax.scatter(ypml_cat['CatMag'], ypml_cat['Event-Mean-YPML-S'], s=10, alpha=0.2)\n",
    "ax.plot(np.arange(0, 5., 0.5), np.arange(0, 5., 0.5), color='r')\n",
    "ax.set_xlabel(r'UUSS $M_L$')\n",
    "ax.set_ylabel(r'YP21 Event (Mean) $M_L$')\n",
    "ax.set_title(\"Armstrong (2024)\")\n",
    "ax.set_aspect('equal', adjustable='box')\n",
    "ax.set_xlim([-0.5, 5])\n",
    "ax.set_ylim([-0.5, 5])"
   ]
  },
  {
   "cell_type": "code",
   "execution_count": null,
   "metadata": {},
   "outputs": [],
   "source": []
  }
 ],
 "metadata": {
  "kernelspec": {
   "display_name": "featmags",
   "language": "python",
   "name": "python3"
  },
  "language_info": {
   "codemirror_mode": {
    "name": "ipython",
    "version": 3
   },
   "file_extension": ".py",
   "mimetype": "text/x-python",
   "name": "python",
   "nbconvert_exporter": "python",
   "pygments_lexer": "ipython3",
   "version": "3.11.6"
  }
 },
 "nbformat": 4,
 "nbformat_minor": 2
}
