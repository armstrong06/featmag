{
 "cells": [
  {
   "cell_type": "code",
   "execution_count": null,
   "metadata": {},
   "outputs": [],
   "source": [
    "import numpy as np\n",
    "import pandas as pd \n",
    "from sklearn.preprocessing import StandardScaler, LabelEncoder\n",
    "from sklearn import ensemble\n",
    "from sklearn.metrics import r2_score\n",
    "import matplotlib.pyplot as plt\n",
    "\n",
    "import sys\n",
    "import os\n",
    "# make paths above 'notebooks/' visible for local imports.\n",
    "# +----------------------------------------------------------------------------+\n",
    "module_path = os.path.abspath(os.path.join('../..'))\n",
    "if module_path not in sys.path:\n",
    "    sys.path.append(module_path)\n",
    "\n",
    "from src.processing import GatherFeatureDatasets\n"
   ]
  },
  {
   "cell_type": "code",
   "execution_count": 2,
   "metadata": {},
   "outputs": [],
   "source": [
    "data_dir = '/uufs/chpc.utah.edu/common/home/koper-group3/alysha/magnitudes/feature_splits'\n",
    "all_train = pd.read_csv(f'{data_dir}/s.train.csv')\n",
    "all_test = pd.read_csv(f'{data_dir}/s.test.csv')\n",
    "all_2023 = pd.read_csv(f'{data_dir}/s.20230101.csv')"
   ]
  },
  {
   "cell_type": "code",
   "execution_count": 3,
   "metadata": {},
   "outputs": [],
   "source": [
    "proc = GatherFeatureDatasets(is_p=False)"
   ]
  },
  {
   "cell_type": "code",
   "execution_count": 4,
   "metadata": {},
   "outputs": [
    {
     "name": "stdout",
     "output_type": "stream",
     "text": [
      "X shape: (12738, 45), y shape: (12738,)\n"
     ]
    }
   ],
   "source": [
    "X_train, y_train, _, feature_names = proc.get_X_y(all_train, \n",
    "                                               scaler=False,\n",
    "                                               source_dist_type='dist',\n",
    "                                                linear_model=False)"
   ]
  },
  {
   "cell_type": "code",
   "execution_count": 5,
   "metadata": {},
   "outputs": [
    {
     "name": "stdout",
     "output_type": "stream",
     "text": [
      "X shape: (3327, 45), y shape: (3327,)\n"
     ]
    }
   ],
   "source": [
    "X_testA, y_testA, _, _ = proc.get_X_y(all_test, \n",
    "                                    scaler=False,\n",
    "                                    source_dist_type='dist',\n",
    "                                    linear_model=False)"
   ]
  },
  {
   "cell_type": "code",
   "execution_count": 6,
   "metadata": {},
   "outputs": [
    {
     "name": "stdout",
     "output_type": "stream",
     "text": [
      "X shape: (1185, 45), y shape: (1185,)\n"
     ]
    }
   ],
   "source": [
    "X_testB, y_testB, _, _ = proc.get_X_y(all_2023, \n",
    "                                    scaler=False,\n",
    "                                    source_dist_type='dist',\n",
    "                                    linear_model=False)"
   ]
  },
  {
   "cell_type": "code",
   "execution_count": 7,
   "metadata": {},
   "outputs": [],
   "source": [
    "def encode_stations(X, stats, le=None, names=None):\n",
    "    if le is None:\n",
    "        le = LabelEncoder()\n",
    "        le.fit(np.unique(stats))\n",
    "\n",
    "    if names is not None:\n",
    "        if 'station' in names:\n",
    "            raise ValueError('station already in feature names')\n",
    "        names = np.append(names, 'station') \n",
    "\n",
    "    encoded_stats = le.transform(stats)\n",
    "    X= np.append(X, encoded_stats[:, None], 1)\n",
    "\n",
    "    return X, le, names"
   ]
  },
  {
   "cell_type": "code",
   "execution_count": 8,
   "metadata": {},
   "outputs": [],
   "source": [
    "X_train, le, feature_names = encode_stations(X_train, all_train['station'].values, names=feature_names)"
   ]
  },
  {
   "cell_type": "code",
   "execution_count": 9,
   "metadata": {},
   "outputs": [],
   "source": [
    "X_testA, _, _ = encode_stations(X_testA, all_test['station'].values, le=le)"
   ]
  },
  {
   "cell_type": "code",
   "execution_count": 10,
   "metadata": {},
   "outputs": [],
   "source": [
    "X_testB, _, _ = encode_stations(X_testB, all_2023['station'].values, le=le)"
   ]
  },
  {
   "cell_type": "code",
   "execution_count": 11,
   "metadata": {},
   "outputs": [
    {
     "name": "stdout",
     "output_type": "stream",
     "text": [
      "(12738, 46)\n",
      "['amp_ratio_1' 'amp_ratio_2' 'amp_ratio_3' 'amp_ratio_4' 'amp_ratio_5'\n",
      " 'amp_ratio_6' 'amp_ratio_7' 'amp_ratio_8' 'amp_ratio_9' 'amp_ratio_10'\n",
      " 'amp_ratio_11' 'amp_ratio_12' 'amp_ratio_13' 'amp_ratio_14'\n",
      " 'amp_ratio_15' 'amp_ratio_16' 'amp_ratio_17' 'amp_ratio_18' 'amp_1'\n",
      " 'amp_2' 'amp_3' 'amp_4' 'amp_5' 'amp_6' 'amp_7' 'amp_8' 'amp_9' 'amp_10'\n",
      " 'amp_11' 'amp_12' 'amp_13' 'amp_14' 'amp_15' 'amp_16' 'amp_17' 'amp_18'\n",
      " 'signal_dominant_frequency' 'signal_dominant_amplitude'\n",
      " 'noise_max_amplitude' 'signal_max_amplitude' 'signal_variance'\n",
      " 'noise_variance' 'source_depth_km' 'source_receiver_distance_logkm'\n",
      " 'source_receiver_back_azimuth_deg' 'station']\n"
     ]
    },
    {
     "data": {
      "text/plain": [
       "array([ 1.21448028e+00,  1.44962219e+00,  1.67456315e+00,  1.47840254e+00,\n",
       "        1.28761567e+00,  1.24113808e+00,  1.40968286e+00,  1.45675300e+00,\n",
       "        1.43571169e+00,  1.35353062e+00,  1.18042577e+00,  1.00803660e+00,\n",
       "        8.93877059e-01,  8.10170993e-01,  7.29164783e-01,  6.47255285e-01,\n",
       "        5.67123926e-01,  4.85244669e-01, -3.11348738e+00, -2.21589873e+00,\n",
       "       -1.76753049e+00, -1.33298600e+00, -1.25227789e+00, -1.26106209e+00,\n",
       "       -1.22805816e+00, -1.24118775e+00, -1.30720159e+00, -1.41598749e+00,\n",
       "       -1.55052539e+00, -1.66281665e+00, -1.74599295e+00, -1.83493787e+00,\n",
       "       -1.93726861e+00, -2.05148749e+00, -2.17533634e+00, -2.31115999e+00,\n",
       "        2.04717228e+00, -2.33259986e+00,  1.30463078e+00,  2.41727420e+00,\n",
       "        5.02459030e-02, -9.13227169e-01,  7.69000000e+00,  2.16347672e+00,\n",
       "        7.98852166e+01,  7.00000000e+00])"
      ]
     },
     "execution_count": 11,
     "metadata": {},
     "output_type": "execute_result"
    }
   ],
   "source": [
    "print(X_train.shape)\n",
    "print(feature_names)\n",
    "X_train[0, :]"
   ]
  },
  {
   "cell_type": "code",
   "execution_count": 12,
   "metadata": {},
   "outputs": [
    {
     "data": {
      "text/html": [
       "<style>#sk-container-id-1 {color: black;background-color: white;}#sk-container-id-1 pre{padding: 0;}#sk-container-id-1 div.sk-toggleable {background-color: white;}#sk-container-id-1 label.sk-toggleable__label {cursor: pointer;display: block;width: 100%;margin-bottom: 0;padding: 0.3em;box-sizing: border-box;text-align: center;}#sk-container-id-1 label.sk-toggleable__label-arrow:before {content: \"▸\";float: left;margin-right: 0.25em;color: #696969;}#sk-container-id-1 label.sk-toggleable__label-arrow:hover:before {color: black;}#sk-container-id-1 div.sk-estimator:hover label.sk-toggleable__label-arrow:before {color: black;}#sk-container-id-1 div.sk-toggleable__content {max-height: 0;max-width: 0;overflow: hidden;text-align: left;background-color: #f0f8ff;}#sk-container-id-1 div.sk-toggleable__content pre {margin: 0.2em;color: black;border-radius: 0.25em;background-color: #f0f8ff;}#sk-container-id-1 input.sk-toggleable__control:checked~div.sk-toggleable__content {max-height: 200px;max-width: 100%;overflow: auto;}#sk-container-id-1 input.sk-toggleable__control:checked~label.sk-toggleable__label-arrow:before {content: \"▾\";}#sk-container-id-1 div.sk-estimator input.sk-toggleable__control:checked~label.sk-toggleable__label {background-color: #d4ebff;}#sk-container-id-1 div.sk-label input.sk-toggleable__control:checked~label.sk-toggleable__label {background-color: #d4ebff;}#sk-container-id-1 input.sk-hidden--visually {border: 0;clip: rect(1px 1px 1px 1px);clip: rect(1px, 1px, 1px, 1px);height: 1px;margin: -1px;overflow: hidden;padding: 0;position: absolute;width: 1px;}#sk-container-id-1 div.sk-estimator {font-family: monospace;background-color: #f0f8ff;border: 1px dotted black;border-radius: 0.25em;box-sizing: border-box;margin-bottom: 0.5em;}#sk-container-id-1 div.sk-estimator:hover {background-color: #d4ebff;}#sk-container-id-1 div.sk-parallel-item::after {content: \"\";width: 100%;border-bottom: 1px solid gray;flex-grow: 1;}#sk-container-id-1 div.sk-label:hover label.sk-toggleable__label {background-color: #d4ebff;}#sk-container-id-1 div.sk-serial::before {content: \"\";position: absolute;border-left: 1px solid gray;box-sizing: border-box;top: 0;bottom: 0;left: 50%;z-index: 0;}#sk-container-id-1 div.sk-serial {display: flex;flex-direction: column;align-items: center;background-color: white;padding-right: 0.2em;padding-left: 0.2em;position: relative;}#sk-container-id-1 div.sk-item {position: relative;z-index: 1;}#sk-container-id-1 div.sk-parallel {display: flex;align-items: stretch;justify-content: center;background-color: white;position: relative;}#sk-container-id-1 div.sk-item::before, #sk-container-id-1 div.sk-parallel-item::before {content: \"\";position: absolute;border-left: 1px solid gray;box-sizing: border-box;top: 0;bottom: 0;left: 50%;z-index: -1;}#sk-container-id-1 div.sk-parallel-item {display: flex;flex-direction: column;z-index: 1;position: relative;background-color: white;}#sk-container-id-1 div.sk-parallel-item:first-child::after {align-self: flex-end;width: 50%;}#sk-container-id-1 div.sk-parallel-item:last-child::after {align-self: flex-start;width: 50%;}#sk-container-id-1 div.sk-parallel-item:only-child::after {width: 0;}#sk-container-id-1 div.sk-dashed-wrapped {border: 1px dashed gray;margin: 0 0.4em 0.5em 0.4em;box-sizing: border-box;padding-bottom: 0.4em;background-color: white;}#sk-container-id-1 div.sk-label label {font-family: monospace;font-weight: bold;display: inline-block;line-height: 1.2em;}#sk-container-id-1 div.sk-label-container {text-align: center;}#sk-container-id-1 div.sk-container {/* jupyter's `normalize.less` sets `[hidden] { display: none; }` but bootstrap.min.css set `[hidden] { display: none !important; }` so we also need the `!important` here to be able to override the default hidden behavior on the sphinx rendered scikit-learn.org. See: https://github.com/scikit-learn/scikit-learn/issues/21755 */display: inline-block !important;position: relative;}#sk-container-id-1 div.sk-text-repr-fallback {display: none;}</style><div id=\"sk-container-id-1\" class=\"sk-top-container\"><div class=\"sk-text-repr-fallback\"><pre>GradientBoostingRegressor(learning_rate=0.01, max_depth=4, min_samples_split=5,\n",
       "                          n_estimators=500)</pre><b>In a Jupyter environment, please rerun this cell to show the HTML representation or trust the notebook. <br />On GitHub, the HTML representation is unable to render, please try loading this page with nbviewer.org.</b></div><div class=\"sk-container\" hidden><div class=\"sk-item\"><div class=\"sk-estimator sk-toggleable\"><input class=\"sk-toggleable__control sk-hidden--visually\" id=\"sk-estimator-id-1\" type=\"checkbox\" checked><label for=\"sk-estimator-id-1\" class=\"sk-toggleable__label sk-toggleable__label-arrow\">GradientBoostingRegressor</label><div class=\"sk-toggleable__content\"><pre>GradientBoostingRegressor(learning_rate=0.01, max_depth=4, min_samples_split=5,\n",
       "                          n_estimators=500)</pre></div></div></div></div></div>"
      ],
      "text/plain": [
       "GradientBoostingRegressor(learning_rate=0.01, max_depth=4, min_samples_split=5,\n",
       "                          n_estimators=500)"
      ]
     },
     "execution_count": 12,
     "metadata": {},
     "output_type": "execute_result"
    }
   ],
   "source": [
    "params = {\n",
    "    \"n_estimators\": 500,\n",
    "    \"max_depth\": 4,\n",
    "    \"min_samples_split\": 5,\n",
    "    \"learning_rate\": 0.01,\n",
    "    \"loss\": \"squared_error\",\n",
    "}\n",
    "tree_reg = ensemble.GradientBoostingRegressor(**params)\n",
    "\n",
    "tree_reg.fit(X_train, y_train)"
   ]
  },
  {
   "cell_type": "code",
   "execution_count": 13,
   "metadata": {},
   "outputs": [
    {
     "data": {
      "text/plain": [
       "0.9048544036572275"
      ]
     },
     "execution_count": 13,
     "metadata": {},
     "output_type": "execute_result"
    }
   ],
   "source": [
    "r2_score(y_train, tree_reg.predict(X_train))"
   ]
  },
  {
   "cell_type": "code",
   "execution_count": 14,
   "metadata": {},
   "outputs": [
    {
     "data": {
      "text/plain": [
       "0.8897684408282568"
      ]
     },
     "execution_count": 14,
     "metadata": {},
     "output_type": "execute_result"
    }
   ],
   "source": [
    "r2_score(y_testA, tree_reg.predict(X_testA))"
   ]
  },
  {
   "cell_type": "code",
   "execution_count": 15,
   "metadata": {},
   "outputs": [
    {
     "data": {
      "text/plain": [
       "0.8723639137413872"
      ]
     },
     "execution_count": 15,
     "metadata": {},
     "output_type": "execute_result"
    }
   ],
   "source": [
    "r2_score(y_testB, tree_reg.predict(X_testB))"
   ]
  },
  {
   "cell_type": "code",
   "execution_count": 16,
   "metadata": {},
   "outputs": [],
   "source": [
    "testA_preds = tree_reg.predict(X_testA)\n",
    "testB_preds = tree_reg.predict(X_testB)\n",
    "train_preds = tree_reg.predict(X_train)"
   ]
  },
  {
   "cell_type": "code",
   "execution_count": 17,
   "metadata": {},
   "outputs": [],
   "source": [
    "def network_avg(testdf, testpreds):\n",
    "    avg_preds = np.zeros(testdf.Evid.unique().shape)\n",
    "    test_act_mags = np.zeros(testdf.Evid.unique().shape)\n",
    "    for i, evid in enumerate(testdf.Evid.unique()):\n",
    "        mag = testdf[testdf['Evid'] == evid]['Event-Mean-YPML-S'].values[0]\n",
    "        inds = np.where(testdf.Evid == evid)[0]\n",
    "        avg = np.mean(testpreds[inds])\n",
    "        avg_preds[i] = avg\n",
    "        test_act_mags[i] = mag\n",
    "    return test_act_mags, avg_preds\n",
    "    "
   ]
  },
  {
   "cell_type": "code",
   "execution_count": 41,
   "metadata": {},
   "outputs": [
    {
     "data": {
      "text/plain": [
       "0.9174729372247676"
      ]
     },
     "execution_count": 41,
     "metadata": {},
     "output_type": "execute_result"
    }
   ],
   "source": [
    "testA_net_act_mags, testA_avg_preds = network_avg(all_test, testA_preds)\n",
    "testA_avg_r2 = r2_score(testA_net_act_mags, testA_avg_preds)\n",
    "testA_avg_r2"
   ]
  },
  {
   "cell_type": "code",
   "execution_count": 42,
   "metadata": {},
   "outputs": [
    {
     "data": {
      "text/plain": [
       "0.9234632640294296"
      ]
     },
     "execution_count": 42,
     "metadata": {},
     "output_type": "execute_result"
    }
   ],
   "source": [
    "testB_net_act_mags, testB_avg_preds = network_avg(all_2023, testB_preds)\n",
    "testB_avg_r2 = r2_score(testB_net_act_mags, testB_avg_preds)\n",
    "testB_avg_r2"
   ]
  },
  {
   "cell_type": "code",
   "execution_count": 25,
   "metadata": {},
   "outputs": [],
   "source": [
    "def stationr2(testdf, testpreds):\n",
    "    stat_r2 = {}\n",
    "    for i, stat in enumerate(testdf.station.unique()):\n",
    "        stat_df = testdf[testdf['station'] == stat]\n",
    "        stat_r2[stat] = r2_score(stat_df['Event-Mean-YPML-S'],\n",
    "                            testpreds[stat_df.index.values])\n",
    "        \n",
    "    return stat_r2"
   ]
  },
  {
   "cell_type": "code",
   "execution_count": 28,
   "metadata": {},
   "outputs": [
    {
     "data": {
      "text/plain": [
       "{'YHB': 0.9404002135324934,\n",
       " 'YHL': 0.9062565549313113,\n",
       " 'YMR': 0.9134143335619498,\n",
       " 'YHH': 0.8467698503813517,\n",
       " 'B207': 0.8837114282367003,\n",
       " 'FLWY': 0.7919133810622189,\n",
       " 'YUF': 0.9122446315583168,\n",
       " 'YPP': 0.9011225568721951,\n",
       " 'YNR': 0.9381358412603192,\n",
       " 'YML': 0.7731690029294522,\n",
       " 'YFT': 0.9351985626683605,\n",
       " 'LKWY': 0.8049521295436526,\n",
       " 'YTP': 0.7559064232724151,\n",
       " 'B206': 0.8674194783252944,\n",
       " 'YMC': 0.7979367441324865,\n",
       " 'YNM': 0.9408222035598749,\n",
       " 'B950': 0.8271930830030825,\n",
       " 'YDD': 0.873367929683228}"
      ]
     },
     "execution_count": 28,
     "metadata": {},
     "output_type": "execute_result"
    }
   ],
   "source": [
    "train_station_r2 = stationr2(all_train, train_preds)\n",
    "train_station_r2"
   ]
  },
  {
   "cell_type": "code",
   "execution_count": 43,
   "metadata": {},
   "outputs": [],
   "source": [
    "testA_station_r2 = stationr2(all_test, testA_preds)\n",
    "testA_station_r2['network'] = testA_avg_r2"
   ]
  },
  {
   "cell_type": "code",
   "execution_count": 44,
   "metadata": {},
   "outputs": [],
   "source": [
    "testB_station_r2 = stationr2(all_2023, testB_preds)\n",
    "testB_station_r2['network'] = testB_avg_r2"
   ]
  },
  {
   "cell_type": "code",
   "execution_count": 45,
   "metadata": {},
   "outputs": [],
   "source": [
    "r2_df = pd.DataFrame([train_station_r2, testA_station_r2, testB_station_r2]).T.reset_index().rename(columns={'index':'station', 0:'train_r2', 1:'test_r2', 2:'holdout_r2'})"
   ]
  },
  {
   "cell_type": "code",
   "execution_count": 46,
   "metadata": {},
   "outputs": [
    {
     "data": {
      "text/html": [
       "<div>\n",
       "<style scoped>\n",
       "    .dataframe tbody tr th:only-of-type {\n",
       "        vertical-align: middle;\n",
       "    }\n",
       "\n",
       "    .dataframe tbody tr th {\n",
       "        vertical-align: top;\n",
       "    }\n",
       "\n",
       "    .dataframe thead th {\n",
       "        text-align: right;\n",
       "    }\n",
       "</style>\n",
       "<table border=\"1\" class=\"dataframe\">\n",
       "  <thead>\n",
       "    <tr style=\"text-align: right;\">\n",
       "      <th></th>\n",
       "      <th>station</th>\n",
       "      <th>train_r2</th>\n",
       "      <th>test_r2</th>\n",
       "      <th>holdout_r2</th>\n",
       "    </tr>\n",
       "  </thead>\n",
       "  <tbody>\n",
       "    <tr>\n",
       "      <th>0</th>\n",
       "      <td>YHB</td>\n",
       "      <td>0.940400</td>\n",
       "      <td>0.937879</td>\n",
       "      <td>0.933174</td>\n",
       "    </tr>\n",
       "    <tr>\n",
       "      <th>1</th>\n",
       "      <td>YHL</td>\n",
       "      <td>0.906257</td>\n",
       "      <td>0.913347</td>\n",
       "      <td>0.857942</td>\n",
       "    </tr>\n",
       "    <tr>\n",
       "      <th>2</th>\n",
       "      <td>YMR</td>\n",
       "      <td>0.913414</td>\n",
       "      <td>0.903444</td>\n",
       "      <td>0.896393</td>\n",
       "    </tr>\n",
       "    <tr>\n",
       "      <th>3</th>\n",
       "      <td>YHH</td>\n",
       "      <td>0.846770</td>\n",
       "      <td>0.816218</td>\n",
       "      <td>0.805882</td>\n",
       "    </tr>\n",
       "    <tr>\n",
       "      <th>4</th>\n",
       "      <td>B207</td>\n",
       "      <td>0.883711</td>\n",
       "      <td>0.883420</td>\n",
       "      <td>NaN</td>\n",
       "    </tr>\n",
       "    <tr>\n",
       "      <th>5</th>\n",
       "      <td>FLWY</td>\n",
       "      <td>0.791913</td>\n",
       "      <td>0.719554</td>\n",
       "      <td>0.632912</td>\n",
       "    </tr>\n",
       "    <tr>\n",
       "      <th>6</th>\n",
       "      <td>YUF</td>\n",
       "      <td>0.912245</td>\n",
       "      <td>0.905528</td>\n",
       "      <td>0.896621</td>\n",
       "    </tr>\n",
       "    <tr>\n",
       "      <th>7</th>\n",
       "      <td>YPP</td>\n",
       "      <td>0.901123</td>\n",
       "      <td>0.829350</td>\n",
       "      <td>0.830661</td>\n",
       "    </tr>\n",
       "    <tr>\n",
       "      <th>8</th>\n",
       "      <td>YNR</td>\n",
       "      <td>0.938136</td>\n",
       "      <td>0.928077</td>\n",
       "      <td>0.915527</td>\n",
       "    </tr>\n",
       "    <tr>\n",
       "      <th>9</th>\n",
       "      <td>YML</td>\n",
       "      <td>0.773169</td>\n",
       "      <td>0.746212</td>\n",
       "      <td>-7.122966</td>\n",
       "    </tr>\n",
       "    <tr>\n",
       "      <th>10</th>\n",
       "      <td>YFT</td>\n",
       "      <td>0.935199</td>\n",
       "      <td>0.916932</td>\n",
       "      <td>0.847492</td>\n",
       "    </tr>\n",
       "    <tr>\n",
       "      <th>11</th>\n",
       "      <td>LKWY</td>\n",
       "      <td>0.804952</td>\n",
       "      <td>0.878000</td>\n",
       "      <td>0.502000</td>\n",
       "    </tr>\n",
       "    <tr>\n",
       "      <th>12</th>\n",
       "      <td>YTP</td>\n",
       "      <td>0.755906</td>\n",
       "      <td>0.579910</td>\n",
       "      <td>0.682940</td>\n",
       "    </tr>\n",
       "    <tr>\n",
       "      <th>13</th>\n",
       "      <td>B206</td>\n",
       "      <td>0.867419</td>\n",
       "      <td>0.826718</td>\n",
       "      <td>NaN</td>\n",
       "    </tr>\n",
       "    <tr>\n",
       "      <th>14</th>\n",
       "      <td>YMC</td>\n",
       "      <td>0.797937</td>\n",
       "      <td>0.771548</td>\n",
       "      <td>0.744100</td>\n",
       "    </tr>\n",
       "    <tr>\n",
       "      <th>15</th>\n",
       "      <td>YNM</td>\n",
       "      <td>0.940822</td>\n",
       "      <td>0.913472</td>\n",
       "      <td>0.546320</td>\n",
       "    </tr>\n",
       "    <tr>\n",
       "      <th>16</th>\n",
       "      <td>B950</td>\n",
       "      <td>0.827193</td>\n",
       "      <td>0.761129</td>\n",
       "      <td>NaN</td>\n",
       "    </tr>\n",
       "    <tr>\n",
       "      <th>17</th>\n",
       "      <td>YDD</td>\n",
       "      <td>0.873368</td>\n",
       "      <td>0.898570</td>\n",
       "      <td>0.921419</td>\n",
       "    </tr>\n",
       "    <tr>\n",
       "      <th>18</th>\n",
       "      <td>network</td>\n",
       "      <td>NaN</td>\n",
       "      <td>0.917473</td>\n",
       "      <td>0.923463</td>\n",
       "    </tr>\n",
       "  </tbody>\n",
       "</table>\n",
       "</div>"
      ],
      "text/plain": [
       "    station  train_r2   test_r2  holdout_r2\n",
       "0       YHB  0.940400  0.937879    0.933174\n",
       "1       YHL  0.906257  0.913347    0.857942\n",
       "2       YMR  0.913414  0.903444    0.896393\n",
       "3       YHH  0.846770  0.816218    0.805882\n",
       "4      B207  0.883711  0.883420         NaN\n",
       "5      FLWY  0.791913  0.719554    0.632912\n",
       "6       YUF  0.912245  0.905528    0.896621\n",
       "7       YPP  0.901123  0.829350    0.830661\n",
       "8       YNR  0.938136  0.928077    0.915527\n",
       "9       YML  0.773169  0.746212   -7.122966\n",
       "10      YFT  0.935199  0.916932    0.847492\n",
       "11     LKWY  0.804952  0.878000    0.502000\n",
       "12      YTP  0.755906  0.579910    0.682940\n",
       "13     B206  0.867419  0.826718         NaN\n",
       "14      YMC  0.797937  0.771548    0.744100\n",
       "15      YNM  0.940822  0.913472    0.546320\n",
       "16     B950  0.827193  0.761129         NaN\n",
       "17      YDD  0.873368  0.898570    0.921419\n",
       "18  network       NaN  0.917473    0.923463"
      ]
     },
     "execution_count": 46,
     "metadata": {},
     "output_type": "execute_result"
    }
   ],
   "source": [
    "r2_df"
   ]
  },
  {
   "cell_type": "code",
   "execution_count": 47,
   "metadata": {},
   "outputs": [],
   "source": [
    "outdir = '/uufs/chpc.utah.edu/common/home/koper-group3/alysha/magnitudes/gbt'\n",
    "r2_df.to_csv(os.path.join(outdir, 'r2.summary.S.csv'), index=False)"
   ]
  },
  {
   "cell_type": "code",
   "execution_count": 48,
   "metadata": {},
   "outputs": [
    {
     "data": {
      "text/plain": [
       "['/uufs/chpc.utah.edu/common/home/koper-group3/alysha/magnitudes/gbt/gbt.S.joblib']"
      ]
     },
     "execution_count": 48,
     "metadata": {},
     "output_type": "execute_result"
    }
   ],
   "source": [
    "from joblib import dump\n",
    "dump(tree_reg, os.path.join(outdir, 'gbt.S.joblib'))"
   ]
  },
  {
   "cell_type": "code",
   "execution_count": null,
   "metadata": {},
   "outputs": [],
   "source": []
  }
 ],
 "metadata": {
  "kernelspec": {
   "display_name": "featmags",
   "language": "python",
   "name": "python3"
  },
  "language_info": {
   "codemirror_mode": {
    "name": "ipython",
    "version": 3
   },
   "file_extension": ".py",
   "mimetype": "text/x-python",
   "name": "python",
   "nbconvert_exporter": "python",
   "pygments_lexer": "ipython3",
   "version": "3.11.6"
  }
 },
 "nbformat": 4,
 "nbformat_minor": 2
}
