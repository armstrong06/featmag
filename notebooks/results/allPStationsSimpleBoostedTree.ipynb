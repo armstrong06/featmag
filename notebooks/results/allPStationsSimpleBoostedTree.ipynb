{
 "cells": [
  {
   "cell_type": "code",
   "execution_count": null,
   "metadata": {},
   "outputs": [],
   "source": [
    "import numpy as np\n",
    "import pandas as pd \n",
    "from sklearn.preprocessing import StandardScaler, LabelEncoder\n",
    "from sklearn import ensemble\n",
    "from sklearn.metrics import r2_score\n",
    "import matplotlib.pyplot as plt\n",
    "\n",
    "import sys\n",
    "import os\n",
    "# make paths above 'notebooks/' visible for local imports.\n",
    "# +----------------------------------------------------------------------------+\n",
    "module_path = os.path.abspath(os.path.join('../..'))\n",
    "if module_path not in sys.path:\n",
    "    sys.path.append(module_path)\n",
    "\n",
    "from src.processing import GatherFeatureDatasets\n"
   ]
  },
  {
   "cell_type": "code",
   "execution_count": 2,
   "metadata": {},
   "outputs": [],
   "source": [
    "data_dir = '/uufs/chpc.utah.edu/common/home/koper-group3/alysha/magnitudes/feature_splits'\n",
    "all_train = pd.read_csv(f'{data_dir}/p.train.csv')\n",
    "all_test = pd.read_csv(f'{data_dir}/p.test.csv')\n",
    "all_2023 = pd.read_csv(f'{data_dir}/p.20230101.csv')"
   ]
  },
  {
   "cell_type": "code",
   "execution_count": 3,
   "metadata": {},
   "outputs": [],
   "source": [
    "proc = GatherFeatureDatasets(is_p=True)"
   ]
  },
  {
   "cell_type": "code",
   "execution_count": 4,
   "metadata": {},
   "outputs": [
    {
     "name": "stdout",
     "output_type": "stream",
     "text": [
      "X shape: (65031, 45), y shape: (65031,)\n"
     ]
    }
   ],
   "source": [
    "X_train, y_train, _, feature_names = proc.get_X_y(all_train, \n",
    "                                               scaler=False,\n",
    "                                               source_dist_type='dist',\n",
    "                                                linear_model=False)"
   ]
  },
  {
   "cell_type": "code",
   "execution_count": 5,
   "metadata": {},
   "outputs": [
    {
     "name": "stdout",
     "output_type": "stream",
     "text": [
      "X shape: (16531, 45), y shape: (16531,)\n"
     ]
    }
   ],
   "source": [
    "X_testA, y_testA, _, _ = proc.get_X_y(all_test, \n",
    "                                    scaler=False,\n",
    "                                    source_dist_type='dist',\n",
    "                                    linear_model=False)"
   ]
  },
  {
   "cell_type": "code",
   "execution_count": 6,
   "metadata": {},
   "outputs": [
    {
     "name": "stdout",
     "output_type": "stream",
     "text": [
      "X shape: (5861, 45), y shape: (5861,)\n"
     ]
    }
   ],
   "source": [
    "X_testB, y_testB, _, _ = proc.get_X_y(all_2023, \n",
    "                                    scaler=False,\n",
    "                                    source_dist_type='dist',\n",
    "                                    linear_model=False)"
   ]
  },
  {
   "cell_type": "code",
   "execution_count": 7,
   "metadata": {},
   "outputs": [],
   "source": [
    "def encode_stations(X, stats, le=None, names=None):\n",
    "    if le is None:\n",
    "        le = LabelEncoder()\n",
    "        le.fit(np.unique(stats))\n",
    "\n",
    "    if names is not None:\n",
    "        if 'station' in names:\n",
    "            raise ValueError('station already in feature names')\n",
    "        names = np.append(names, 'station') \n",
    "\n",
    "    encoded_stats = le.transform(stats)\n",
    "    X= np.append(X, encoded_stats[:, None], 1)\n",
    "\n",
    "    return X, le, names"
   ]
  },
  {
   "cell_type": "code",
   "execution_count": 8,
   "metadata": {},
   "outputs": [],
   "source": [
    "X_train, le, feature_names = encode_stations(X_train, all_train['station'].values, names=feature_names)"
   ]
  },
  {
   "cell_type": "code",
   "execution_count": 9,
   "metadata": {},
   "outputs": [],
   "source": [
    "X_testA, _, _ = encode_stations(X_testA, all_test['station'].values, le=le)"
   ]
  },
  {
   "cell_type": "code",
   "execution_count": 10,
   "metadata": {},
   "outputs": [],
   "source": [
    "X_testB, _, _ = encode_stations(X_testB, all_2023['station'].values, le=le)"
   ]
  },
  {
   "cell_type": "code",
   "execution_count": 11,
   "metadata": {},
   "outputs": [
    {
     "name": "stdout",
     "output_type": "stream",
     "text": [
      "(65031, 46)\n",
      "['amp_ratio_1' 'amp_ratio_2' 'amp_ratio_3' 'amp_ratio_4' 'amp_ratio_5'\n",
      " 'amp_ratio_6' 'amp_ratio_7' 'amp_ratio_8' 'amp_ratio_9' 'amp_ratio_10'\n",
      " 'amp_ratio_11' 'amp_ratio_12' 'amp_ratio_13' 'amp_ratio_14'\n",
      " 'amp_ratio_15' 'amp_ratio_16' 'amp_ratio_17' 'amp_ratio_18' 'amp_1'\n",
      " 'amp_2' 'amp_3' 'amp_4' 'amp_5' 'amp_6' 'amp_7' 'amp_8' 'amp_9' 'amp_10'\n",
      " 'amp_11' 'amp_12' 'amp_13' 'amp_14' 'amp_15' 'amp_16' 'amp_17' 'amp_18'\n",
      " 'signal_dominant_frequency' 'signal_dominant_amplitude'\n",
      " 'noise_max_amplitude' 'signal_max_amplitude' 'signal_variance'\n",
      " 'noise_variance' 'source_depth_km' 'source_receiver_distance_logkm'\n",
      " 'source_receiver_back_azimuth_deg' 'station']\n"
     ]
    },
    {
     "data": {
      "text/plain": [
       "array([ 2.47744353,  2.53305999,  2.93512781,  3.52129371,  3.76847963,\n",
       "        4.23535151,  4.41872084,  4.28590903,  4.26921754,  4.34385778,\n",
       "        4.43942912,  4.4936378 ,  4.49191638,  4.44878747,  4.37982151,\n",
       "        4.30826924,  4.25007158,  4.20490098, -4.11949516, -2.8802031 ,\n",
       "       -2.39762744, -1.8694013 , -1.74099749, -1.61845206, -1.66670288,\n",
       "       -1.76068281, -1.90440231, -2.09030123, -2.29811339, -2.52891383,\n",
       "       -2.77455398, -3.02717571, -3.28071982, -3.53126864, -3.7761202 ,\n",
       "       -4.01327211,  1.79175947, -3.18827381, -2.75211698,  1.34317148,\n",
       "       -1.10851584, -8.6701376 ,  7.69      ,  2.16347672, 79.88521657,\n",
       "       13.        ])"
      ]
     },
     "execution_count": 11,
     "metadata": {},
     "output_type": "execute_result"
    }
   ],
   "source": [
    "print(X_train.shape)\n",
    "print(feature_names)\n",
    "X_train[0, :]"
   ]
  },
  {
   "cell_type": "code",
   "execution_count": 12,
   "metadata": {},
   "outputs": [
    {
     "data": {
      "text/html": [
       "<style>#sk-container-id-1 {color: black;background-color: white;}#sk-container-id-1 pre{padding: 0;}#sk-container-id-1 div.sk-toggleable {background-color: white;}#sk-container-id-1 label.sk-toggleable__label {cursor: pointer;display: block;width: 100%;margin-bottom: 0;padding: 0.3em;box-sizing: border-box;text-align: center;}#sk-container-id-1 label.sk-toggleable__label-arrow:before {content: \"▸\";float: left;margin-right: 0.25em;color: #696969;}#sk-container-id-1 label.sk-toggleable__label-arrow:hover:before {color: black;}#sk-container-id-1 div.sk-estimator:hover label.sk-toggleable__label-arrow:before {color: black;}#sk-container-id-1 div.sk-toggleable__content {max-height: 0;max-width: 0;overflow: hidden;text-align: left;background-color: #f0f8ff;}#sk-container-id-1 div.sk-toggleable__content pre {margin: 0.2em;color: black;border-radius: 0.25em;background-color: #f0f8ff;}#sk-container-id-1 input.sk-toggleable__control:checked~div.sk-toggleable__content {max-height: 200px;max-width: 100%;overflow: auto;}#sk-container-id-1 input.sk-toggleable__control:checked~label.sk-toggleable__label-arrow:before {content: \"▾\";}#sk-container-id-1 div.sk-estimator input.sk-toggleable__control:checked~label.sk-toggleable__label {background-color: #d4ebff;}#sk-container-id-1 div.sk-label input.sk-toggleable__control:checked~label.sk-toggleable__label {background-color: #d4ebff;}#sk-container-id-1 input.sk-hidden--visually {border: 0;clip: rect(1px 1px 1px 1px);clip: rect(1px, 1px, 1px, 1px);height: 1px;margin: -1px;overflow: hidden;padding: 0;position: absolute;width: 1px;}#sk-container-id-1 div.sk-estimator {font-family: monospace;background-color: #f0f8ff;border: 1px dotted black;border-radius: 0.25em;box-sizing: border-box;margin-bottom: 0.5em;}#sk-container-id-1 div.sk-estimator:hover {background-color: #d4ebff;}#sk-container-id-1 div.sk-parallel-item::after {content: \"\";width: 100%;border-bottom: 1px solid gray;flex-grow: 1;}#sk-container-id-1 div.sk-label:hover label.sk-toggleable__label {background-color: #d4ebff;}#sk-container-id-1 div.sk-serial::before {content: \"\";position: absolute;border-left: 1px solid gray;box-sizing: border-box;top: 0;bottom: 0;left: 50%;z-index: 0;}#sk-container-id-1 div.sk-serial {display: flex;flex-direction: column;align-items: center;background-color: white;padding-right: 0.2em;padding-left: 0.2em;position: relative;}#sk-container-id-1 div.sk-item {position: relative;z-index: 1;}#sk-container-id-1 div.sk-parallel {display: flex;align-items: stretch;justify-content: center;background-color: white;position: relative;}#sk-container-id-1 div.sk-item::before, #sk-container-id-1 div.sk-parallel-item::before {content: \"\";position: absolute;border-left: 1px solid gray;box-sizing: border-box;top: 0;bottom: 0;left: 50%;z-index: -1;}#sk-container-id-1 div.sk-parallel-item {display: flex;flex-direction: column;z-index: 1;position: relative;background-color: white;}#sk-container-id-1 div.sk-parallel-item:first-child::after {align-self: flex-end;width: 50%;}#sk-container-id-1 div.sk-parallel-item:last-child::after {align-self: flex-start;width: 50%;}#sk-container-id-1 div.sk-parallel-item:only-child::after {width: 0;}#sk-container-id-1 div.sk-dashed-wrapped {border: 1px dashed gray;margin: 0 0.4em 0.5em 0.4em;box-sizing: border-box;padding-bottom: 0.4em;background-color: white;}#sk-container-id-1 div.sk-label label {font-family: monospace;font-weight: bold;display: inline-block;line-height: 1.2em;}#sk-container-id-1 div.sk-label-container {text-align: center;}#sk-container-id-1 div.sk-container {/* jupyter's `normalize.less` sets `[hidden] { display: none; }` but bootstrap.min.css set `[hidden] { display: none !important; }` so we also need the `!important` here to be able to override the default hidden behavior on the sphinx rendered scikit-learn.org. See: https://github.com/scikit-learn/scikit-learn/issues/21755 */display: inline-block !important;position: relative;}#sk-container-id-1 div.sk-text-repr-fallback {display: none;}</style><div id=\"sk-container-id-1\" class=\"sk-top-container\"><div class=\"sk-text-repr-fallback\"><pre>GradientBoostingRegressor(learning_rate=0.01, max_depth=4, min_samples_split=5,\n",
       "                          n_estimators=500)</pre><b>In a Jupyter environment, please rerun this cell to show the HTML representation or trust the notebook. <br />On GitHub, the HTML representation is unable to render, please try loading this page with nbviewer.org.</b></div><div class=\"sk-container\" hidden><div class=\"sk-item\"><div class=\"sk-estimator sk-toggleable\"><input class=\"sk-toggleable__control sk-hidden--visually\" id=\"sk-estimator-id-1\" type=\"checkbox\" checked><label for=\"sk-estimator-id-1\" class=\"sk-toggleable__label sk-toggleable__label-arrow\">GradientBoostingRegressor</label><div class=\"sk-toggleable__content\"><pre>GradientBoostingRegressor(learning_rate=0.01, max_depth=4, min_samples_split=5,\n",
       "                          n_estimators=500)</pre></div></div></div></div></div>"
      ],
      "text/plain": [
       "GradientBoostingRegressor(learning_rate=0.01, max_depth=4, min_samples_split=5,\n",
       "                          n_estimators=500)"
      ]
     },
     "execution_count": 12,
     "metadata": {},
     "output_type": "execute_result"
    }
   ],
   "source": [
    "params = {\n",
    "    \"n_estimators\": 500,\n",
    "    \"max_depth\": 4,\n",
    "    \"min_samples_split\": 5,\n",
    "    \"learning_rate\": 0.01,\n",
    "    \"loss\": \"squared_error\",\n",
    "}\n",
    "tree_reg = ensemble.GradientBoostingRegressor(**params)\n",
    "\n",
    "tree_reg.fit(X_train, y_train)"
   ]
  },
  {
   "cell_type": "code",
   "execution_count": 25,
   "metadata": {},
   "outputs": [
    {
     "data": {
      "text/plain": [
       "0.8224032041227308"
      ]
     },
     "execution_count": 25,
     "metadata": {},
     "output_type": "execute_result"
    }
   ],
   "source": [
    "r2_score(y_train, tree_reg.predict(X_train))"
   ]
  },
  {
   "cell_type": "code",
   "execution_count": 26,
   "metadata": {},
   "outputs": [
    {
     "data": {
      "text/plain": [
       "0.8148830455372293"
      ]
     },
     "execution_count": 26,
     "metadata": {},
     "output_type": "execute_result"
    }
   ],
   "source": [
    "r2_score(y_testA, tree_reg.predict(X_testA))"
   ]
  },
  {
   "cell_type": "code",
   "execution_count": 27,
   "metadata": {},
   "outputs": [
    {
     "data": {
      "text/plain": [
       "0.7923271538800253"
      ]
     },
     "execution_count": 27,
     "metadata": {},
     "output_type": "execute_result"
    }
   ],
   "source": [
    "r2_score(y_testB, tree_reg.predict(X_testB))"
   ]
  },
  {
   "cell_type": "code",
   "execution_count": 28,
   "metadata": {},
   "outputs": [],
   "source": [
    "testA_preds = tree_reg.predict(X_testA)\n",
    "testB_preds = tree_reg.predict(X_testB)\n",
    "train_preds = tree_reg.predict(X_train)"
   ]
  },
  {
   "cell_type": "code",
   "execution_count": 29,
   "metadata": {},
   "outputs": [],
   "source": [
    "def network_avg(testdf, testpreds):\n",
    "    avg_preds = np.zeros(testdf.Evid.unique().shape)\n",
    "    test_act_mags = np.zeros(testdf.Evid.unique().shape)\n",
    "    for i, evid in enumerate(testdf.Evid.unique()):\n",
    "        mag = testdf[testdf['Evid'] == evid]['Event-Mean-YPML-S'].values[0]\n",
    "        inds = np.where(testdf.Evid == evid)[0]\n",
    "        avg = np.mean(testpreds[inds])\n",
    "        avg_preds[i] = avg\n",
    "        test_act_mags[i] = mag\n",
    "    return test_act_mags, avg_preds\n",
    "    "
   ]
  },
  {
   "cell_type": "code",
   "execution_count": 30,
   "metadata": {},
   "outputs": [
    {
     "data": {
      "text/plain": [
       "0.8815242575025456"
      ]
     },
     "execution_count": 30,
     "metadata": {},
     "output_type": "execute_result"
    }
   ],
   "source": [
    "testA_net_act_mags, testA_avg_preds = network_avg(all_test, testA_preds)\n",
    "testA_avg_r2 = r2_score(testA_net_act_mags, testA_avg_preds)\n",
    "testA_avg_r2"
   ]
  },
  {
   "cell_type": "code",
   "execution_count": 31,
   "metadata": {},
   "outputs": [
    {
     "data": {
      "text/plain": [
       "0.8716868405785804"
      ]
     },
     "execution_count": 31,
     "metadata": {},
     "output_type": "execute_result"
    }
   ],
   "source": [
    "testB_net_act_mags, testB_avg_preds = network_avg(all_2023, testB_preds)\n",
    "testB_avg_r2 = r2_score(testB_net_act_mags, testB_avg_preds)\n",
    "testB_avg_r2"
   ]
  },
  {
   "cell_type": "code",
   "execution_count": 32,
   "metadata": {},
   "outputs": [],
   "source": [
    "def stationr2(testdf, testpreds):\n",
    "    stat_r2 = {}\n",
    "    for i, stat in enumerate(testdf.station.unique()):\n",
    "        stat_df = testdf[testdf['station'] == stat]\n",
    "        stat_r2[stat] = r2_score(stat_df['Event-Mean-YPML-S'],\n",
    "                            testpreds[stat_df.index.values])\n",
    "        \n",
    "    return stat_r2"
   ]
  },
  {
   "cell_type": "code",
   "execution_count": 33,
   "metadata": {},
   "outputs": [],
   "source": [
    "train_station_r2 = stationr2(all_train, train_preds)\n",
    "#np.median(train_station_r2)"
   ]
  },
  {
   "cell_type": "code",
   "execution_count": 34,
   "metadata": {},
   "outputs": [],
   "source": [
    "testA_station_r2 = stationr2(all_test, testA_preds)\n",
    "#np.median(testA_station_r2)\n",
    "testA_station_r2['network'] = testA_avg_r2"
   ]
  },
  {
   "cell_type": "code",
   "execution_count": 35,
   "metadata": {},
   "outputs": [],
   "source": [
    "testB_station_r2 = stationr2(all_2023, testB_preds)\n",
    "#np.median(testB_station_r2)\n",
    "testB_station_r2['network'] = testB_avg_r2"
   ]
  },
  {
   "cell_type": "code",
   "execution_count": 36,
   "metadata": {},
   "outputs": [],
   "source": [
    "r2_df = pd.DataFrame([train_station_r2, testA_station_r2, testB_station_r2]).T.reset_index().rename(columns={'index':'station', 0:'train_r2', 1:'test_r2', 2:'holdout_r2'})"
   ]
  },
  {
   "cell_type": "code",
   "execution_count": 37,
   "metadata": {},
   "outputs": [
    {
     "data": {
      "text/html": [
       "<div>\n",
       "<style scoped>\n",
       "    .dataframe tbody tr th:only-of-type {\n",
       "        vertical-align: middle;\n",
       "    }\n",
       "\n",
       "    .dataframe tbody tr th {\n",
       "        vertical-align: top;\n",
       "    }\n",
       "\n",
       "    .dataframe thead th {\n",
       "        text-align: right;\n",
       "    }\n",
       "</style>\n",
       "<table border=\"1\" class=\"dataframe\">\n",
       "  <thead>\n",
       "    <tr style=\"text-align: right;\">\n",
       "      <th></th>\n",
       "      <th>station</th>\n",
       "      <th>train_r2</th>\n",
       "      <th>test_r2</th>\n",
       "      <th>holdout_r2</th>\n",
       "    </tr>\n",
       "  </thead>\n",
       "  <tbody>\n",
       "    <tr>\n",
       "      <th>0</th>\n",
       "      <td>YHB</td>\n",
       "      <td>0.857961</td>\n",
       "      <td>0.855882</td>\n",
       "      <td>0.847069</td>\n",
       "    </tr>\n",
       "    <tr>\n",
       "      <th>1</th>\n",
       "      <td>YDC</td>\n",
       "      <td>0.708102</td>\n",
       "      <td>0.690671</td>\n",
       "      <td>-3.904963</td>\n",
       "    </tr>\n",
       "    <tr>\n",
       "      <th>2</th>\n",
       "      <td>YWB</td>\n",
       "      <td>0.862648</td>\n",
       "      <td>0.870568</td>\n",
       "      <td>0.860126</td>\n",
       "    </tr>\n",
       "    <tr>\n",
       "      <th>3</th>\n",
       "      <td>MCID</td>\n",
       "      <td>0.819436</td>\n",
       "      <td>0.816263</td>\n",
       "      <td>0.821493</td>\n",
       "    </tr>\n",
       "    <tr>\n",
       "      <th>4</th>\n",
       "      <td>YHL</td>\n",
       "      <td>0.819549</td>\n",
       "      <td>0.813781</td>\n",
       "      <td>0.828336</td>\n",
       "    </tr>\n",
       "    <tr>\n",
       "      <th>5</th>\n",
       "      <td>YMR</td>\n",
       "      <td>0.837914</td>\n",
       "      <td>0.841778</td>\n",
       "      <td>0.838050</td>\n",
       "    </tr>\n",
       "    <tr>\n",
       "      <th>6</th>\n",
       "      <td>YHH</td>\n",
       "      <td>0.821671</td>\n",
       "      <td>0.809976</td>\n",
       "      <td>0.828764</td>\n",
       "    </tr>\n",
       "    <tr>\n",
       "      <th>7</th>\n",
       "      <td>B207</td>\n",
       "      <td>0.773030</td>\n",
       "      <td>0.777366</td>\n",
       "      <td>NaN</td>\n",
       "    </tr>\n",
       "    <tr>\n",
       "      <th>8</th>\n",
       "      <td>YPP</td>\n",
       "      <td>0.799461</td>\n",
       "      <td>0.783103</td>\n",
       "      <td>0.777544</td>\n",
       "    </tr>\n",
       "    <tr>\n",
       "      <th>9</th>\n",
       "      <td>YPM</td>\n",
       "      <td>0.855843</td>\n",
       "      <td>0.851707</td>\n",
       "      <td>0.829647</td>\n",
       "    </tr>\n",
       "    <tr>\n",
       "      <th>10</th>\n",
       "      <td>YLT</td>\n",
       "      <td>0.827159</td>\n",
       "      <td>0.790794</td>\n",
       "      <td>0.662246</td>\n",
       "    </tr>\n",
       "    <tr>\n",
       "      <th>11</th>\n",
       "      <td>H17A</td>\n",
       "      <td>0.770790</td>\n",
       "      <td>0.730273</td>\n",
       "      <td>NaN</td>\n",
       "    </tr>\n",
       "    <tr>\n",
       "      <th>12</th>\n",
       "      <td>B208</td>\n",
       "      <td>0.809985</td>\n",
       "      <td>0.786558</td>\n",
       "      <td>NaN</td>\n",
       "    </tr>\n",
       "    <tr>\n",
       "      <th>13</th>\n",
       "      <td>LKWY</td>\n",
       "      <td>0.817464</td>\n",
       "      <td>0.828449</td>\n",
       "      <td>0.824562</td>\n",
       "    </tr>\n",
       "    <tr>\n",
       "      <th>14</th>\n",
       "      <td>FLWY</td>\n",
       "      <td>0.801831</td>\n",
       "      <td>0.785200</td>\n",
       "      <td>0.534923</td>\n",
       "    </tr>\n",
       "    <tr>\n",
       "      <th>15</th>\n",
       "      <td>YGC</td>\n",
       "      <td>0.725728</td>\n",
       "      <td>0.700087</td>\n",
       "      <td>0.704629</td>\n",
       "    </tr>\n",
       "    <tr>\n",
       "      <th>16</th>\n",
       "      <td>YMC</td>\n",
       "      <td>0.788663</td>\n",
       "      <td>0.752454</td>\n",
       "      <td>0.803054</td>\n",
       "    </tr>\n",
       "    <tr>\n",
       "      <th>17</th>\n",
       "      <td>YML</td>\n",
       "      <td>0.743060</td>\n",
       "      <td>0.743709</td>\n",
       "      <td>0.613936</td>\n",
       "    </tr>\n",
       "    <tr>\n",
       "      <th>18</th>\n",
       "      <td>YUF</td>\n",
       "      <td>0.853715</td>\n",
       "      <td>0.836089</td>\n",
       "      <td>0.787647</td>\n",
       "    </tr>\n",
       "    <tr>\n",
       "      <th>19</th>\n",
       "      <td>B206</td>\n",
       "      <td>0.735323</td>\n",
       "      <td>0.711153</td>\n",
       "      <td>NaN</td>\n",
       "    </tr>\n",
       "    <tr>\n",
       "      <th>20</th>\n",
       "      <td>B944</td>\n",
       "      <td>0.646494</td>\n",
       "      <td>0.650307</td>\n",
       "      <td>NaN</td>\n",
       "    </tr>\n",
       "    <tr>\n",
       "      <th>21</th>\n",
       "      <td>YLA</td>\n",
       "      <td>0.782443</td>\n",
       "      <td>0.795559</td>\n",
       "      <td>0.648465</td>\n",
       "    </tr>\n",
       "    <tr>\n",
       "      <th>22</th>\n",
       "      <td>YTP</td>\n",
       "      <td>0.716970</td>\n",
       "      <td>0.728219</td>\n",
       "      <td>0.545708</td>\n",
       "    </tr>\n",
       "    <tr>\n",
       "      <th>23</th>\n",
       "      <td>YNR</td>\n",
       "      <td>0.836703</td>\n",
       "      <td>0.837521</td>\n",
       "      <td>0.814641</td>\n",
       "    </tr>\n",
       "    <tr>\n",
       "      <th>24</th>\n",
       "      <td>YNM</td>\n",
       "      <td>0.883572</td>\n",
       "      <td>0.866755</td>\n",
       "      <td>0.611106</td>\n",
       "    </tr>\n",
       "    <tr>\n",
       "      <th>25</th>\n",
       "      <td>YFT</td>\n",
       "      <td>0.837450</td>\n",
       "      <td>0.830219</td>\n",
       "      <td>0.650732</td>\n",
       "    </tr>\n",
       "    <tr>\n",
       "      <th>26</th>\n",
       "      <td>YMV</td>\n",
       "      <td>0.871106</td>\n",
       "      <td>0.836383</td>\n",
       "      <td>0.729415</td>\n",
       "    </tr>\n",
       "    <tr>\n",
       "      <th>27</th>\n",
       "      <td>YPC</td>\n",
       "      <td>0.827252</td>\n",
       "      <td>0.859954</td>\n",
       "      <td>0.810641</td>\n",
       "    </tr>\n",
       "    <tr>\n",
       "      <th>28</th>\n",
       "      <td>YSB</td>\n",
       "      <td>0.673853</td>\n",
       "      <td>0.676768</td>\n",
       "      <td>0.526243</td>\n",
       "    </tr>\n",
       "    <tr>\n",
       "      <th>29</th>\n",
       "      <td>YJC</td>\n",
       "      <td>0.793240</td>\n",
       "      <td>0.785400</td>\n",
       "      <td>0.727636</td>\n",
       "    </tr>\n",
       "    <tr>\n",
       "      <th>30</th>\n",
       "      <td>YMS</td>\n",
       "      <td>0.674766</td>\n",
       "      <td>0.622294</td>\n",
       "      <td>0.542051</td>\n",
       "    </tr>\n",
       "    <tr>\n",
       "      <th>31</th>\n",
       "      <td>YNE</td>\n",
       "      <td>0.827347</td>\n",
       "      <td>0.861365</td>\n",
       "      <td>0.771564</td>\n",
       "    </tr>\n",
       "    <tr>\n",
       "      <th>32</th>\n",
       "      <td>YPK</td>\n",
       "      <td>0.770948</td>\n",
       "      <td>0.751535</td>\n",
       "      <td>0.127793</td>\n",
       "    </tr>\n",
       "    <tr>\n",
       "      <th>33</th>\n",
       "      <td>B950</td>\n",
       "      <td>0.714895</td>\n",
       "      <td>0.739696</td>\n",
       "      <td>NaN</td>\n",
       "    </tr>\n",
       "    <tr>\n",
       "      <th>34</th>\n",
       "      <td>YDD</td>\n",
       "      <td>0.753229</td>\n",
       "      <td>0.778512</td>\n",
       "      <td>0.728834</td>\n",
       "    </tr>\n",
       "    <tr>\n",
       "      <th>35</th>\n",
       "      <td>network</td>\n",
       "      <td>NaN</td>\n",
       "      <td>0.881524</td>\n",
       "      <td>0.871687</td>\n",
       "    </tr>\n",
       "  </tbody>\n",
       "</table>\n",
       "</div>"
      ],
      "text/plain": [
       "    station  train_r2   test_r2  holdout_r2\n",
       "0       YHB  0.857961  0.855882    0.847069\n",
       "1       YDC  0.708102  0.690671   -3.904963\n",
       "2       YWB  0.862648  0.870568    0.860126\n",
       "3      MCID  0.819436  0.816263    0.821493\n",
       "4       YHL  0.819549  0.813781    0.828336\n",
       "5       YMR  0.837914  0.841778    0.838050\n",
       "6       YHH  0.821671  0.809976    0.828764\n",
       "7      B207  0.773030  0.777366         NaN\n",
       "8       YPP  0.799461  0.783103    0.777544\n",
       "9       YPM  0.855843  0.851707    0.829647\n",
       "10      YLT  0.827159  0.790794    0.662246\n",
       "11     H17A  0.770790  0.730273         NaN\n",
       "12     B208  0.809985  0.786558         NaN\n",
       "13     LKWY  0.817464  0.828449    0.824562\n",
       "14     FLWY  0.801831  0.785200    0.534923\n",
       "15      YGC  0.725728  0.700087    0.704629\n",
       "16      YMC  0.788663  0.752454    0.803054\n",
       "17      YML  0.743060  0.743709    0.613936\n",
       "18      YUF  0.853715  0.836089    0.787647\n",
       "19     B206  0.735323  0.711153         NaN\n",
       "20     B944  0.646494  0.650307         NaN\n",
       "21      YLA  0.782443  0.795559    0.648465\n",
       "22      YTP  0.716970  0.728219    0.545708\n",
       "23      YNR  0.836703  0.837521    0.814641\n",
       "24      YNM  0.883572  0.866755    0.611106\n",
       "25      YFT  0.837450  0.830219    0.650732\n",
       "26      YMV  0.871106  0.836383    0.729415\n",
       "27      YPC  0.827252  0.859954    0.810641\n",
       "28      YSB  0.673853  0.676768    0.526243\n",
       "29      YJC  0.793240  0.785400    0.727636\n",
       "30      YMS  0.674766  0.622294    0.542051\n",
       "31      YNE  0.827347  0.861365    0.771564\n",
       "32      YPK  0.770948  0.751535    0.127793\n",
       "33     B950  0.714895  0.739696         NaN\n",
       "34      YDD  0.753229  0.778512    0.728834\n",
       "35  network       NaN  0.881524    0.871687"
      ]
     },
     "execution_count": 37,
     "metadata": {},
     "output_type": "execute_result"
    }
   ],
   "source": [
    "r2_df"
   ]
  },
  {
   "cell_type": "code",
   "execution_count": 38,
   "metadata": {},
   "outputs": [],
   "source": [
    "outdir = '/uufs/chpc.utah.edu/common/home/koper-group3/alysha/magnitudes/gbt'\n",
    "r2_df.to_csv(os.path.join(outdir, 'r2.summary.P.csv'), index=False)"
   ]
  },
  {
   "cell_type": "code",
   "execution_count": 39,
   "metadata": {},
   "outputs": [
    {
     "data": {
      "text/plain": [
       "['/uufs/chpc.utah.edu/common/home/koper-group3/alysha/magnitudes/gbt/gbt.P.joblib']"
      ]
     },
     "execution_count": 39,
     "metadata": {},
     "output_type": "execute_result"
    }
   ],
   "source": [
    "from joblib import dump\n",
    "dump(tree_reg, os.path.join(outdir, 'gbt.P.joblib'))"
   ]
  },
  {
   "cell_type": "code",
   "execution_count": null,
   "metadata": {},
   "outputs": [],
   "source": []
  }
 ],
 "metadata": {
  "kernelspec": {
   "display_name": "featmags",
   "language": "python",
   "name": "python3"
  },
  "language_info": {
   "codemirror_mode": {
    "name": "ipython",
    "version": 3
   },
   "file_extension": ".py",
   "mimetype": "text/x-python",
   "name": "python",
   "nbconvert_exporter": "python",
   "pygments_lexer": "ipython3",
   "version": "3.11.6"
  }
 },
 "nbformat": 4,
 "nbformat_minor": 2
}
