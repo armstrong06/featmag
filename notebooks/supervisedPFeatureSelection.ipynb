{
 "cells": [
  {
   "cell_type": "code",
   "execution_count": 1,
   "metadata": {},
   "outputs": [],
   "source": [
    "import numpy as np\n",
    "import pandas as pd \n",
    "from sklearn.preprocessing import StandardScaler\n",
    "import matplotlib.pyplot as plt\n",
    "\n",
    "import sys\n",
    "import os\n",
    "# make paths above 'notebooks/' visible for local imports.\n",
    "# +----------------------------------------------------------------------------+\n",
    "module_path = os.path.abspath(os.path.join('..'))\n",
    "if module_path not in sys.path:\n",
    "    sys.path.append(module_path)\n",
    "\n",
    "from src.features import SelectPFeatures\n",
    "from src.features import FeaturePlots as fp"
   ]
  },
  {
   "cell_type": "code",
   "execution_count": 2,
   "metadata": {},
   "outputs": [],
   "source": [
    "sf = SelectPFeatures()"
   ]
  },
  {
   "cell_type": "code",
   "execution_count": 3,
   "metadata": {},
   "outputs": [],
   "source": [
    "from sklearn.model_selection import cross_val_score\n",
    "from sklearn.model_selection import RepeatedKFold\n",
    "from sklearn.feature_selection import RFECV\n",
    "from sklearn.tree import DecisionTreeRegressor\n",
    "from sklearn.pipeline import Pipeline"
   ]
  },
  {
   "cell_type": "markdown",
   "metadata": {},
   "source": [
    "# Load the data and process each station individually"
   ]
  },
  {
   "cell_type": "code",
   "execution_count": 4,
   "metadata": {},
   "outputs": [],
   "source": [
    "data_dir = '/uufs/chpc.utah.edu/common/home/koper-group3/alysha/magnitudes/feature_splits'\n",
    "train = pd.read_csv(f'{data_dir}/p.train.csv')\n",
    "test = pd.read_csv(f'{data_dir}/p.test.csv')"
   ]
  },
  {
   "cell_type": "code",
   "execution_count": 5,
   "metadata": {},
   "outputs": [
    {
     "name": "stdout",
     "output_type": "stream",
     "text": [
      "YHB\n",
      "X shape: (2920, 47), y shape: (2920,)\n",
      "X shape: (734, 47), y shape: (734,)\n",
      "YDC\n",
      "X shape: (2509, 47), y shape: (2509,)\n",
      "X shape: (645, 47), y shape: (645,)\n",
      "YWB\n",
      "X shape: (3069, 47), y shape: (3069,)\n",
      "X shape: (786, 47), y shape: (786,)\n",
      "MCID\n",
      "X shape: (2942, 47), y shape: (2942,)\n",
      "X shape: (771, 47), y shape: (771,)\n",
      "YHL\n",
      "X shape: (2739, 47), y shape: (2739,)\n",
      "X shape: (682, 47), y shape: (682,)\n",
      "YMR\n",
      "X shape: (3393, 47), y shape: (3393,)\n",
      "X shape: (845, 47), y shape: (845,)\n",
      "YHH\n",
      "X shape: (4005, 47), y shape: (4005,)\n",
      "X shape: (1002, 47), y shape: (1002,)\n",
      "B207\n",
      "X shape: (1609, 47), y shape: (1609,)\n",
      "X shape: (380, 47), y shape: (380,)\n",
      "YPP\n",
      "X shape: (1334, 47), y shape: (1334,)\n",
      "X shape: (338, 47), y shape: (338,)\n",
      "YPM\n",
      "X shape: (3358, 47), y shape: (3358,)\n",
      "X shape: (843, 47), y shape: (843,)\n",
      "YLT\n",
      "X shape: (1275, 47), y shape: (1275,)\n",
      "X shape: (291, 47), y shape: (291,)\n",
      "QLMT\n",
      "X shape: (792, 47), y shape: (792,)\n",
      "X shape: (190, 47), y shape: (190,)\n",
      "H17A\n",
      "X shape: (527, 47), y shape: (527,)\n",
      "X shape: (142, 47), y shape: (142,)\n",
      "B208\n",
      "X shape: (526, 47), y shape: (526,)\n",
      "X shape: (134, 47), y shape: (134,)\n",
      "LKWY\n",
      "X shape: (1016, 47), y shape: (1016,)\n",
      "X shape: (278, 47), y shape: (278,)\n",
      "FLWY\n",
      "X shape: (694, 47), y shape: (694,)\n",
      "X shape: (177, 47), y shape: (177,)\n",
      "YGC\n",
      "X shape: (1725, 47), y shape: (1725,)\n",
      "X shape: (451, 47), y shape: (451,)\n",
      "TPMT\n",
      "X shape: (408, 47), y shape: (408,)\n",
      "X shape: (97, 47), y shape: (97,)\n",
      "YMC\n",
      "X shape: (3553, 47), y shape: (3553,)\n",
      "X shape: (898, 47), y shape: (898,)\n",
      "YML\n",
      "X shape: (2678, 47), y shape: (2678,)\n",
      "X shape: (638, 47), y shape: (638,)\n",
      "B206\n",
      "X shape: (671, 47), y shape: (671,)\n",
      "X shape: (175, 47), y shape: (175,)\n",
      "B944\n",
      "X shape: (360, 47), y shape: (360,)\n",
      "X shape: (95, 47), y shape: (95,)\n",
      "YLA\n",
      "X shape: (681, 47), y shape: (681,)\n",
      "X shape: (169, 47), y shape: (169,)\n",
      "YUF\n",
      "X shape: (1433, 47), y shape: (1433,)\n",
      "X shape: (351, 47), y shape: (351,)\n",
      "YTP\n",
      "X shape: (879, 47), y shape: (879,)\n",
      "X shape: (212, 47), y shape: (212,)\n",
      "YNR\n",
      "X shape: (4009, 47), y shape: (4009,)\n",
      "X shape: (1008, 47), y shape: (1008,)\n",
      "YNM\n",
      "X shape: (852, 47), y shape: (852,)\n",
      "X shape: (209, 47), y shape: (209,)\n",
      "YFT\n",
      "X shape: (2915, 47), y shape: (2915,)\n",
      "X shape: (723, 47), y shape: (723,)\n",
      "YPC\n",
      "X shape: (343, 47), y shape: (343,)\n",
      "X shape: (78, 47), y shape: (78,)\n",
      "YJC\n",
      "X shape: (405, 47), y shape: (405,)\n",
      "X shape: (97, 47), y shape: (97,)\n",
      "YMS\n",
      "X shape: (406, 47), y shape: (406,)\n",
      "X shape: (108, 47), y shape: (108,)\n",
      "YMV\n",
      "X shape: (555, 47), y shape: (555,)\n",
      "X shape: (148, 47), y shape: (148,)\n",
      "B950\n",
      "X shape: (544, 47), y shape: (544,)\n",
      "X shape: (147, 47), y shape: (147,)\n",
      "YDD\n",
      "X shape: (497, 47), y shape: (497,)\n",
      "X shape: (116, 47), y shape: (116,)\n"
     ]
    }
   ],
   "source": [
    "station_feature_dict, feature_names = sf.process_station_datasets(train, test, scaler=False)"
   ]
  },
  {
   "cell_type": "code",
   "execution_count": 6,
   "metadata": {},
   "outputs": [],
   "source": [
    "ll_feature_subset = ['amp_ratio_4', 'amp_ratio_5', 'amp_ratio_6', 'amp_ratio_7',\n",
    "                'amp_1', 'amp_2', 'amp_3', 'amp_4','amp_5', 'signal_variance',\n",
    "                'signal_dominant_amplitude', 'signal_max_amplitude','signal_dominant_frequency',\n",
    "                'noise_max_amplitude', 'noise_variance', \n",
    "                'source_depth_km', 'source_latitude',\n",
    "                'source_longitude']\n",
    "\n",
    "sr_feature_subset = ['amp_ratio_4', 'amp_ratio_5', 'amp_ratio_6', 'amp_ratio_7',\n",
    "                'amp_1', 'amp_2', 'amp_3', 'amp_4','amp_5', 'signal_variance',\n",
    "                'signal_dominant_amplitude', 'signal_max_amplitude','signal_dominant_frequency',\n",
    "                'noise_max_amplitude', 'noise_variance', \n",
    "                'source_depth_km', 'source_receiver_distance_logkm',\n",
    "                'source_receiver_back_azimuth_sine']"
   ]
  },
  {
   "cell_type": "code",
   "execution_count": 7,
   "metadata": {},
   "outputs": [
    {
     "name": "stdout",
     "output_type": "stream",
     "text": [
      "YHB\n",
      "X_train: (2920, 18), X_test: (734, 18)\n",
      "YDC\n",
      "X_train: (2509, 18), X_test: (645, 18)\n",
      "YWB\n",
      "X_train: (3069, 18), X_test: (786, 18)\n",
      "MCID\n",
      "X_train: (2942, 18), X_test: (771, 18)\n",
      "YHL\n",
      "X_train: (2739, 18), X_test: (682, 18)\n",
      "YMR\n",
      "X_train: (3393, 18), X_test: (845, 18)\n",
      "YHH\n",
      "X_train: (4005, 18), X_test: (1002, 18)\n",
      "B207\n",
      "X_train: (1609, 18), X_test: (380, 18)\n",
      "YPP\n",
      "X_train: (1334, 18), X_test: (338, 18)\n",
      "YPM\n",
      "X_train: (3358, 18), X_test: (843, 18)\n",
      "YLT\n",
      "X_train: (1275, 18), X_test: (291, 18)\n",
      "QLMT\n",
      "X_train: (792, 18), X_test: (190, 18)\n",
      "H17A\n",
      "X_train: (527, 18), X_test: (142, 18)\n",
      "B208\n",
      "X_train: (526, 18), X_test: (134, 18)\n",
      "LKWY\n",
      "X_train: (1016, 18), X_test: (278, 18)\n",
      "FLWY\n",
      "X_train: (694, 18), X_test: (177, 18)\n",
      "YGC\n",
      "X_train: (1725, 18), X_test: (451, 18)\n",
      "TPMT\n",
      "X_train: (408, 18), X_test: (97, 18)\n",
      "YMC\n",
      "X_train: (3553, 18), X_test: (898, 18)\n",
      "YML\n",
      "X_train: (2678, 18), X_test: (638, 18)\n",
      "B206\n",
      "X_train: (671, 18), X_test: (175, 18)\n",
      "B944\n",
      "X_train: (360, 18), X_test: (95, 18)\n",
      "YLA\n",
      "X_train: (681, 18), X_test: (169, 18)\n",
      "YUF\n",
      "X_train: (1433, 18), X_test: (351, 18)\n",
      "YTP\n",
      "X_train: (879, 18), X_test: (212, 18)\n",
      "YNR\n",
      "X_train: (4009, 18), X_test: (1008, 18)\n",
      "YNM\n",
      "X_train: (852, 18), X_test: (209, 18)\n",
      "YFT\n",
      "X_train: (2915, 18), X_test: (723, 18)\n",
      "YPC\n",
      "X_train: (343, 18), X_test: (78, 18)\n",
      "YJC\n",
      "X_train: (405, 18), X_test: (97, 18)\n",
      "YMS\n",
      "X_train: (406, 18), X_test: (108, 18)\n",
      "YMV\n",
      "X_train: (555, 18), X_test: (148, 18)\n",
      "B950\n",
      "X_train: (544, 18), X_test: (147, 18)\n",
      "YDD\n",
      "X_train: (497, 18), X_test: (116, 18)\n"
     ]
    }
   ],
   "source": [
    "ll_station_feat_dict, ll_feature_names = sf.filter_station_dict_features(station_feature_dict,\n",
    "                                                                        feature_names,\n",
    "                                                                        ll_feature_subset)"
   ]
  },
  {
   "cell_type": "code",
   "execution_count": 8,
   "metadata": {},
   "outputs": [
    {
     "name": "stdout",
     "output_type": "stream",
     "text": [
      "YHB\n",
      "X_train: (2920, 18), X_test: (734, 18)\n",
      "YDC\n",
      "X_train: (2509, 18), X_test: (645, 18)\n",
      "YWB\n",
      "X_train: (3069, 18), X_test: (786, 18)\n",
      "MCID\n",
      "X_train: (2942, 18), X_test: (771, 18)\n",
      "YHL\n",
      "X_train: (2739, 18), X_test: (682, 18)\n",
      "YMR\n",
      "X_train: (3393, 18), X_test: (845, 18)\n",
      "YHH\n",
      "X_train: (4005, 18), X_test: (1002, 18)\n",
      "B207\n",
      "X_train: (1609, 18), X_test: (380, 18)\n",
      "YPP\n",
      "X_train: (1334, 18), X_test: (338, 18)\n",
      "YPM\n",
      "X_train: (3358, 18), X_test: (843, 18)\n",
      "YLT\n",
      "X_train: (1275, 18), X_test: (291, 18)\n",
      "QLMT\n",
      "X_train: (792, 18), X_test: (190, 18)\n",
      "H17A\n",
      "X_train: (527, 18), X_test: (142, 18)\n",
      "B208\n",
      "X_train: (526, 18), X_test: (134, 18)\n",
      "LKWY\n",
      "X_train: (1016, 18), X_test: (278, 18)\n",
      "FLWY\n",
      "X_train: (694, 18), X_test: (177, 18)\n",
      "YGC\n",
      "X_train: (1725, 18), X_test: (451, 18)\n",
      "TPMT\n",
      "X_train: (408, 18), X_test: (97, 18)\n",
      "YMC\n",
      "X_train: (3553, 18), X_test: (898, 18)\n",
      "YML\n",
      "X_train: (2678, 18), X_test: (638, 18)\n",
      "B206\n",
      "X_train: (671, 18), X_test: (175, 18)\n",
      "B944\n",
      "X_train: (360, 18), X_test: (95, 18)\n",
      "YLA\n",
      "X_train: (681, 18), X_test: (169, 18)\n",
      "YUF\n",
      "X_train: (1433, 18), X_test: (351, 18)\n",
      "YTP\n",
      "X_train: (879, 18), X_test: (212, 18)\n",
      "YNR\n",
      "X_train: (4009, 18), X_test: (1008, 18)\n",
      "YNM\n",
      "X_train: (852, 18), X_test: (209, 18)\n",
      "YFT\n",
      "X_train: (2915, 18), X_test: (723, 18)\n",
      "YPC\n",
      "X_train: (343, 18), X_test: (78, 18)\n",
      "YJC\n",
      "X_train: (405, 18), X_test: (97, 18)\n",
      "YMS\n",
      "X_train: (406, 18), X_test: (108, 18)\n",
      "YMV\n",
      "X_train: (555, 18), X_test: (148, 18)\n",
      "B950\n",
      "X_train: (544, 18), X_test: (147, 18)\n",
      "YDD\n",
      "X_train: (497, 18), X_test: (116, 18)\n"
     ]
    }
   ],
   "source": [
    "sr_station_feat_dict, sr_feature_names = sf.filter_station_dict_features(station_feature_dict,\n",
    "                                                                        feature_names,\n",
    "                                                                        sr_feature_subset)"
   ]
  },
  {
   "cell_type": "code",
   "execution_count": 9,
   "metadata": {},
   "outputs": [],
   "source": [
    "assert np.array_equal(ll_station_feat_dict['YHB']['X_train'][:, 0:-2], sr_station_feat_dict['YHB']['X_train'][:, 0:-2]),\\\n",
    "'The filtered datasets are not the same, excluding the location columns'"
   ]
  },
  {
   "cell_type": "markdown",
   "metadata": {},
   "source": [
    "# Recursive Feature Elimination"
   ]
  },
  {
   "cell_type": "markdown",
   "metadata": {},
   "source": [
    "Do nested CV for Recursive Feature Elimination (RFE) to select the optimal number of features for each station and (I think?) the optimal hyperparameters.  \n",
    "\n",
    "Do this for both the feature set with lat/lon and the feature set with SR distance and baz. Then use the location parameters that result in the best performance in the cross validation overall (across all stations). (I would rather just use sr-distance and backazimuth).  \n",
    "\n",
    "Then, use the optimal number of features from the CV to select the features from each stations training dataset. Compare the selected features.  "
   ]
  },
  {
   "cell_type": "markdown",
   "metadata": {},
   "source": [
    "Followed example from [Machine Learning Mastery](https://machinelearningmastery.com/rfe-feature-selection-in-python/)"
   ]
  },
  {
   "cell_type": "markdown",
   "metadata": {},
   "source": [
    "# I NEED TO TURN THE SCALER OFF IN THE DATA LOADER IF I AM GOING TO USE CROSS-VALIDATION WITH A SVR ESTIMATOR BECUASE SCALING NEEDS TO HAPPEN IN EACH FOLD"
   ]
  },
  {
   "cell_type": "code",
   "execution_count": 15,
   "metadata": {},
   "outputs": [],
   "source": [
    "from sklearn.model_selection import cross_val_score\n",
    "from sklearn.model_selection import RepeatedKFold, KFold, GridSearchCV\n",
    "from sklearn.feature_selection import RFECV, RFE\n",
    "from sklearn.tree import DecisionTreeRegressor\n",
    "from sklearn.pipeline import Pipeline\n",
    "from sklearn.svm import SVR"
   ]
  },
  {
   "cell_type": "code",
   "execution_count": 11,
   "metadata": {},
   "outputs": [
    {
     "data": {
      "text/html": [
       "<style>#sk-container-id-1 {color: black;background-color: white;}#sk-container-id-1 pre{padding: 0;}#sk-container-id-1 div.sk-toggleable {background-color: white;}#sk-container-id-1 label.sk-toggleable__label {cursor: pointer;display: block;width: 100%;margin-bottom: 0;padding: 0.3em;box-sizing: border-box;text-align: center;}#sk-container-id-1 label.sk-toggleable__label-arrow:before {content: \"▸\";float: left;margin-right: 0.25em;color: #696969;}#sk-container-id-1 label.sk-toggleable__label-arrow:hover:before {color: black;}#sk-container-id-1 div.sk-estimator:hover label.sk-toggleable__label-arrow:before {color: black;}#sk-container-id-1 div.sk-toggleable__content {max-height: 0;max-width: 0;overflow: hidden;text-align: left;background-color: #f0f8ff;}#sk-container-id-1 div.sk-toggleable__content pre {margin: 0.2em;color: black;border-radius: 0.25em;background-color: #f0f8ff;}#sk-container-id-1 input.sk-toggleable__control:checked~div.sk-toggleable__content {max-height: 200px;max-width: 100%;overflow: auto;}#sk-container-id-1 input.sk-toggleable__control:checked~label.sk-toggleable__label-arrow:before {content: \"▾\";}#sk-container-id-1 div.sk-estimator input.sk-toggleable__control:checked~label.sk-toggleable__label {background-color: #d4ebff;}#sk-container-id-1 div.sk-label input.sk-toggleable__control:checked~label.sk-toggleable__label {background-color: #d4ebff;}#sk-container-id-1 input.sk-hidden--visually {border: 0;clip: rect(1px 1px 1px 1px);clip: rect(1px, 1px, 1px, 1px);height: 1px;margin: -1px;overflow: hidden;padding: 0;position: absolute;width: 1px;}#sk-container-id-1 div.sk-estimator {font-family: monospace;background-color: #f0f8ff;border: 1px dotted black;border-radius: 0.25em;box-sizing: border-box;margin-bottom: 0.5em;}#sk-container-id-1 div.sk-estimator:hover {background-color: #d4ebff;}#sk-container-id-1 div.sk-parallel-item::after {content: \"\";width: 100%;border-bottom: 1px solid gray;flex-grow: 1;}#sk-container-id-1 div.sk-label:hover label.sk-toggleable__label {background-color: #d4ebff;}#sk-container-id-1 div.sk-serial::before {content: \"\";position: absolute;border-left: 1px solid gray;box-sizing: border-box;top: 0;bottom: 0;left: 50%;z-index: 0;}#sk-container-id-1 div.sk-serial {display: flex;flex-direction: column;align-items: center;background-color: white;padding-right: 0.2em;padding-left: 0.2em;position: relative;}#sk-container-id-1 div.sk-item {position: relative;z-index: 1;}#sk-container-id-1 div.sk-parallel {display: flex;align-items: stretch;justify-content: center;background-color: white;position: relative;}#sk-container-id-1 div.sk-item::before, #sk-container-id-1 div.sk-parallel-item::before {content: \"\";position: absolute;border-left: 1px solid gray;box-sizing: border-box;top: 0;bottom: 0;left: 50%;z-index: -1;}#sk-container-id-1 div.sk-parallel-item {display: flex;flex-direction: column;z-index: 1;position: relative;background-color: white;}#sk-container-id-1 div.sk-parallel-item:first-child::after {align-self: flex-end;width: 50%;}#sk-container-id-1 div.sk-parallel-item:last-child::after {align-self: flex-start;width: 50%;}#sk-container-id-1 div.sk-parallel-item:only-child::after {width: 0;}#sk-container-id-1 div.sk-dashed-wrapped {border: 1px dashed gray;margin: 0 0.4em 0.5em 0.4em;box-sizing: border-box;padding-bottom: 0.4em;background-color: white;}#sk-container-id-1 div.sk-label label {font-family: monospace;font-weight: bold;display: inline-block;line-height: 1.2em;}#sk-container-id-1 div.sk-label-container {text-align: center;}#sk-container-id-1 div.sk-container {/* jupyter's `normalize.less` sets `[hidden] { display: none; }` but bootstrap.min.css set `[hidden] { display: none !important; }` so we also need the `!important` here to be able to override the default hidden behavior on the sphinx rendered scikit-learn.org. See: https://github.com/scikit-learn/scikit-learn/issues/21755 */display: inline-block !important;position: relative;}#sk-container-id-1 div.sk-text-repr-fallback {display: none;}</style><div id=\"sk-container-id-1\" class=\"sk-top-container\"><div class=\"sk-text-repr-fallback\"><pre>RFECV(estimator=DecisionTreeRegressor(), n_jobs=1, scoring=&#x27;r2&#x27;)</pre><b>In a Jupyter environment, please rerun this cell to show the HTML representation or trust the notebook. <br />On GitHub, the HTML representation is unable to render, please try loading this page with nbviewer.org.</b></div><div class=\"sk-container\" hidden><div class=\"sk-item sk-dashed-wrapped\"><div class=\"sk-label-container\"><div class=\"sk-label sk-toggleable\"><input class=\"sk-toggleable__control sk-hidden--visually\" id=\"sk-estimator-id-1\" type=\"checkbox\" ><label for=\"sk-estimator-id-1\" class=\"sk-toggleable__label sk-toggleable__label-arrow\">RFECV</label><div class=\"sk-toggleable__content\"><pre>RFECV(estimator=DecisionTreeRegressor(), n_jobs=1, scoring=&#x27;r2&#x27;)</pre></div></div></div><div class=\"sk-parallel\"><div class=\"sk-parallel-item\"><div class=\"sk-item\"><div class=\"sk-label-container\"><div class=\"sk-label sk-toggleable\"><input class=\"sk-toggleable__control sk-hidden--visually\" id=\"sk-estimator-id-2\" type=\"checkbox\" ><label for=\"sk-estimator-id-2\" class=\"sk-toggleable__label sk-toggleable__label-arrow\">estimator: DecisionTreeRegressor</label><div class=\"sk-toggleable__content\"><pre>DecisionTreeRegressor()</pre></div></div></div><div class=\"sk-serial\"><div class=\"sk-item\"><div class=\"sk-estimator sk-toggleable\"><input class=\"sk-toggleable__control sk-hidden--visually\" id=\"sk-estimator-id-3\" type=\"checkbox\" ><label for=\"sk-estimator-id-3\" class=\"sk-toggleable__label sk-toggleable__label-arrow\">DecisionTreeRegressor</label><div class=\"sk-toggleable__content\"><pre>DecisionTreeRegressor()</pre></div></div></div></div></div></div></div></div></div></div>"
      ],
      "text/plain": [
       "RFECV(estimator=DecisionTreeRegressor(), n_jobs=1, scoring='r2')"
      ]
     },
     "execution_count": 11,
     "metadata": {},
     "output_type": "execute_result"
    }
   ],
   "source": [
    "X = ll_station_feat_dict['YNR']['X_train']\n",
    "y = ll_station_feat_dict['YNR']['y_train']\n",
    "\n",
    "rfe = RFECV(DecisionTreeRegressor(),\n",
    "            scoring='r2',\n",
    "            n_jobs=1)\n",
    "rfe.fit(X, y)"
   ]
  },
  {
   "cell_type": "code",
   "execution_count": 12,
   "metadata": {},
   "outputs": [
    {
     "data": {
      "text/plain": [
       "{'mean_test_score': array([-0.2043669 , -0.23778897,  0.53216759,  0.56470719,  0.62311772,\n",
       "         0.6496774 ,  0.67101865,  0.66055609,  0.65927265,  0.65082419,\n",
       "         0.6568674 ,  0.64698696,  0.64826863,  0.64708842,  0.64608246,\n",
       "         0.65633823,  0.65509187,  0.64751194]),\n",
       " 'std_test_score': array([0.13428017, 0.17541945, 0.02311186, 0.09945653, 0.06757163,\n",
       "        0.03120139, 0.03812313, 0.04906294, 0.03516151, 0.04049811,\n",
       "        0.03028124, 0.0323639 , 0.03635343, 0.0463777 , 0.0565227 ,\n",
       "        0.0452284 , 0.04478739, 0.04728891]),\n",
       " 'split0_test_score': array([0.0163012 , 0.06265244, 0.51471605, 0.49137295, 0.65986513,\n",
       "        0.66596008, 0.66043302, 0.67415989, 0.67452917, 0.650914  ,\n",
       "        0.64408208, 0.62062556, 0.64483674, 0.6414857 , 0.65764902,\n",
       "        0.6742302 , 0.6719316 , 0.65453748]),\n",
       " 'split1_test_score': array([-0.20952143, -0.15267227,  0.5333484 ,  0.47403625,  0.53657878,\n",
       "         0.60375033,  0.61608884,  0.58375125,  0.61392172,  0.62857413,\n",
       "         0.61826797,  0.62375999,  0.60183991,  0.57739273,  0.56516012,\n",
       "         0.58842714,  0.58455615,  0.5692605 ]),\n",
       " 'split2_test_score': array([-0.40453293, -0.43362816,  0.52141748,  0.67737977,  0.6703103 ,\n",
       "         0.68073793,  0.7228354 ,  0.72202632,  0.71400742,  0.71934665,\n",
       "         0.7054986 ,  0.69879714,  0.70125077,  0.71707328,  0.72192852,\n",
       "         0.70919231,  0.70635304,  0.70851288]),\n",
       " 'split3_test_score': array([-0.18703448, -0.33219651,  0.57637176,  0.69488725,  0.70109753,\n",
       "         0.67660492,  0.70393255,  0.69437394,  0.66416759,  0.65875061,\n",
       "         0.67501621,  0.67152691,  0.6752427 ,  0.67158067,  0.68477883,\n",
       "         0.69026499,  0.68902027,  0.67747564]),\n",
       " 'split4_test_score': array([-0.23704688, -0.33310034,  0.51498428,  0.48585973,  0.54773684,\n",
       "         0.62133374,  0.65180342,  0.62846906,  0.62973736,  0.59653556,\n",
       "         0.64147213,  0.62022521,  0.61817302,  0.62790973,  0.60089579,\n",
       "         0.61957652,  0.6235983 ,  0.62777319])}"
      ]
     },
     "execution_count": 12,
     "metadata": {},
     "output_type": "execute_result"
    }
   ],
   "source": [
    "rfe.cv_results_"
   ]
  },
  {
   "cell_type": "code",
   "execution_count": 13,
   "metadata": {},
   "outputs": [
    {
     "data": {
      "text/plain": [
       "7"
      ]
     },
     "execution_count": 13,
     "metadata": {},
     "output_type": "execute_result"
    }
   ],
   "source": [
    "rfe.n_features_"
   ]
  },
  {
   "cell_type": "code",
   "execution_count": 14,
   "metadata": {},
   "outputs": [
    {
     "data": {
      "text/plain": [
       "array(['amp_1', 'amp_2', 'amp_3', 'signal_variance', 'source_depth_km',\n",
       "       'source_latitude', 'source_longitude'], dtype='<U33')"
      ]
     },
     "execution_count": 14,
     "metadata": {},
     "output_type": "execute_result"
    }
   ],
   "source": [
    "ll_feature_names[rfe.support_]"
   ]
  },
  {
   "cell_type": "code",
   "execution_count": 21,
   "metadata": {},
   "outputs": [
    {
     "data": {
      "text/html": [
       "<style>#sk-container-id-2 {color: black;background-color: white;}#sk-container-id-2 pre{padding: 0;}#sk-container-id-2 div.sk-toggleable {background-color: white;}#sk-container-id-2 label.sk-toggleable__label {cursor: pointer;display: block;width: 100%;margin-bottom: 0;padding: 0.3em;box-sizing: border-box;text-align: center;}#sk-container-id-2 label.sk-toggleable__label-arrow:before {content: \"▸\";float: left;margin-right: 0.25em;color: #696969;}#sk-container-id-2 label.sk-toggleable__label-arrow:hover:before {color: black;}#sk-container-id-2 div.sk-estimator:hover label.sk-toggleable__label-arrow:before {color: black;}#sk-container-id-2 div.sk-toggleable__content {max-height: 0;max-width: 0;overflow: hidden;text-align: left;background-color: #f0f8ff;}#sk-container-id-2 div.sk-toggleable__content pre {margin: 0.2em;color: black;border-radius: 0.25em;background-color: #f0f8ff;}#sk-container-id-2 input.sk-toggleable__control:checked~div.sk-toggleable__content {max-height: 200px;max-width: 100%;overflow: auto;}#sk-container-id-2 input.sk-toggleable__control:checked~label.sk-toggleable__label-arrow:before {content: \"▾\";}#sk-container-id-2 div.sk-estimator input.sk-toggleable__control:checked~label.sk-toggleable__label {background-color: #d4ebff;}#sk-container-id-2 div.sk-label input.sk-toggleable__control:checked~label.sk-toggleable__label {background-color: #d4ebff;}#sk-container-id-2 input.sk-hidden--visually {border: 0;clip: rect(1px 1px 1px 1px);clip: rect(1px, 1px, 1px, 1px);height: 1px;margin: -1px;overflow: hidden;padding: 0;position: absolute;width: 1px;}#sk-container-id-2 div.sk-estimator {font-family: monospace;background-color: #f0f8ff;border: 1px dotted black;border-radius: 0.25em;box-sizing: border-box;margin-bottom: 0.5em;}#sk-container-id-2 div.sk-estimator:hover {background-color: #d4ebff;}#sk-container-id-2 div.sk-parallel-item::after {content: \"\";width: 100%;border-bottom: 1px solid gray;flex-grow: 1;}#sk-container-id-2 div.sk-label:hover label.sk-toggleable__label {background-color: #d4ebff;}#sk-container-id-2 div.sk-serial::before {content: \"\";position: absolute;border-left: 1px solid gray;box-sizing: border-box;top: 0;bottom: 0;left: 50%;z-index: 0;}#sk-container-id-2 div.sk-serial {display: flex;flex-direction: column;align-items: center;background-color: white;padding-right: 0.2em;padding-left: 0.2em;position: relative;}#sk-container-id-2 div.sk-item {position: relative;z-index: 1;}#sk-container-id-2 div.sk-parallel {display: flex;align-items: stretch;justify-content: center;background-color: white;position: relative;}#sk-container-id-2 div.sk-item::before, #sk-container-id-2 div.sk-parallel-item::before {content: \"\";position: absolute;border-left: 1px solid gray;box-sizing: border-box;top: 0;bottom: 0;left: 50%;z-index: -1;}#sk-container-id-2 div.sk-parallel-item {display: flex;flex-direction: column;z-index: 1;position: relative;background-color: white;}#sk-container-id-2 div.sk-parallel-item:first-child::after {align-self: flex-end;width: 50%;}#sk-container-id-2 div.sk-parallel-item:last-child::after {align-self: flex-start;width: 50%;}#sk-container-id-2 div.sk-parallel-item:only-child::after {width: 0;}#sk-container-id-2 div.sk-dashed-wrapped {border: 1px dashed gray;margin: 0 0.4em 0.5em 0.4em;box-sizing: border-box;padding-bottom: 0.4em;background-color: white;}#sk-container-id-2 div.sk-label label {font-family: monospace;font-weight: bold;display: inline-block;line-height: 1.2em;}#sk-container-id-2 div.sk-label-container {text-align: center;}#sk-container-id-2 div.sk-container {/* jupyter's `normalize.less` sets `[hidden] { display: none; }` but bootstrap.min.css set `[hidden] { display: none !important; }` so we also need the `!important` here to be able to override the default hidden behavior on the sphinx rendered scikit-learn.org. See: https://github.com/scikit-learn/scikit-learn/issues/21755 */display: inline-block !important;position: relative;}#sk-container-id-2 div.sk-text-repr-fallback {display: none;}</style><div id=\"sk-container-id-2\" class=\"sk-top-container\"><div class=\"sk-text-repr-fallback\"><pre>RFE(estimator=DecisionTreeRegressor(), n_features_to_select=7)</pre><b>In a Jupyter environment, please rerun this cell to show the HTML representation or trust the notebook. <br />On GitHub, the HTML representation is unable to render, please try loading this page with nbviewer.org.</b></div><div class=\"sk-container\" hidden><div class=\"sk-item sk-dashed-wrapped\"><div class=\"sk-label-container\"><div class=\"sk-label sk-toggleable\"><input class=\"sk-toggleable__control sk-hidden--visually\" id=\"sk-estimator-id-4\" type=\"checkbox\" ><label for=\"sk-estimator-id-4\" class=\"sk-toggleable__label sk-toggleable__label-arrow\">RFE</label><div class=\"sk-toggleable__content\"><pre>RFE(estimator=DecisionTreeRegressor(), n_features_to_select=7)</pre></div></div></div><div class=\"sk-parallel\"><div class=\"sk-parallel-item\"><div class=\"sk-item\"><div class=\"sk-label-container\"><div class=\"sk-label sk-toggleable\"><input class=\"sk-toggleable__control sk-hidden--visually\" id=\"sk-estimator-id-5\" type=\"checkbox\" ><label for=\"sk-estimator-id-5\" class=\"sk-toggleable__label sk-toggleable__label-arrow\">estimator: DecisionTreeRegressor</label><div class=\"sk-toggleable__content\"><pre>DecisionTreeRegressor()</pre></div></div></div><div class=\"sk-serial\"><div class=\"sk-item\"><div class=\"sk-estimator sk-toggleable\"><input class=\"sk-toggleable__control sk-hidden--visually\" id=\"sk-estimator-id-6\" type=\"checkbox\" ><label for=\"sk-estimator-id-6\" class=\"sk-toggleable__label sk-toggleable__label-arrow\">DecisionTreeRegressor</label><div class=\"sk-toggleable__content\"><pre>DecisionTreeRegressor()</pre></div></div></div></div></div></div></div></div></div></div>"
      ],
      "text/plain": [
       "RFE(estimator=DecisionTreeRegressor(), n_features_to_select=7)"
      ]
     },
     "execution_count": 21,
     "metadata": {},
     "output_type": "execute_result"
    }
   ],
   "source": [
    "rfe = RFE(DecisionTreeRegressor(),n_features_to_select=7)\n",
    "rfe.fit(X, y)"
   ]
  },
  {
   "cell_type": "code",
   "execution_count": 22,
   "metadata": {},
   "outputs": [
    {
     "data": {
      "text/plain": [
       "array(['amp_1', 'amp_2', 'amp_3', 'signal_variance', 'source_depth_km',\n",
       "       'source_latitude', 'source_longitude'], dtype='<U33')"
      ]
     },
     "execution_count": 22,
     "metadata": {},
     "output_type": "execute_result"
    }
   ],
   "source": [
    "ll_feature_names[rfe.support_]"
   ]
  },
  {
   "cell_type": "code",
   "execution_count": 24,
   "metadata": {},
   "outputs": [
    {
     "data": {
      "text/plain": [
       "(4009, 7)"
      ]
     },
     "execution_count": 24,
     "metadata": {},
     "output_type": "execute_result"
    }
   ],
   "source": [
    "X[:, rfe.support_].shape"
   ]
  },
  {
   "cell_type": "code",
   "execution_count": 63,
   "metadata": {},
   "outputs": [],
   "source": [
    "def run_grid_search(gs, Xtrain, ytrain, Xtest):\n",
    "    gs_results = gs.fit(Xtrain, ytrain)\n",
    "    yhat = gs_results.predict(Xtest)\n",
    "    return gs_results, yhat"
   ]
  },
  {
   "cell_type": "code",
   "execution_count": null,
   "metadata": {},
   "outputs": [],
   "source": [
    "def get_gs_best_results(gs_results):\n",
    "    cv_mean = gs_results.best_score_\n",
    "    cv_std = gs_results.cv_results_['std_test_score'][gs_results.best_index_]\n",
    "    params = gs_results.best_params_\n",
    "\n",
    "    return cv_mean, cv_std, params"
   ]
  },
  {
   "cell_type": "code",
   "execution_count": null,
   "metadata": {},
   "outputs": [],
   "source": [
    "X = ll_station_feat_dict['YNR']['X_train']\n",
    "y = ll_station_feat_dict['YNR']['y_train']\n",
    "\n",
    "cv_outer = KFold(n_splits=10, shuffle=True, random_state=1)\n",
    "cv_inner = KFold(n_splits=5, shuffle=True, random_state=1)\n",
    "\n",
    "for train_ix, test_ix in cv_outer.split(X):\n",
    "    X_train, X_test = X[train_ix, :], X[test_ix, :]\n",
    "    y_train, y_test = y[train_ix, :], y[test_ix, :]\n",
    "\n",
    "    # If the estimator model needs scaled features, add scaling to the \n",
    "    # selector pipeline (s_pipe)\n",
    "    # Each fold in RFECV should be scaled independently\n",
    "    s_pipe = []\n",
    "    if s_scaler:\n",
    "        s_pipe.append(('scaler', StandardScaler()))\n",
    "    \n",
    "    # If the main model needs scaled features, add to the model pipeline (m_pipe)\n",
    "    # Can use this pipeline in GridCV and evaluating the final models\n",
    "    m_pipe = []\n",
    "    if m_scaler:\n",
    "        m_pipe.append(('scaler', StandardScaler()))\n",
    "\n",
    "    s_pipe.append(('m', estimator_model))    \n",
    "    m_pipe.append(('m', model))\n",
    "\n",
    "    # Do RFECV to select the optimal number of features\n",
    "    rfe = RFECV(s_pipe,\n",
    "                cv=cv_inner \n",
    "                scoring=scoring_method,\n",
    "                n_jobs=n_jobs)\n",
    "    rfe.fit(X_train, y_train)\n",
    "\n",
    "    # Get the best features from the RFECV\n",
    "    n_feats = rfe.n_features_\n",
    "    best_feats = rfe.support_\n",
    "\n",
    "    # Do grid search over all features\n",
    "    search = GridSearchCV(m_pipe,\n",
    "                           param_grid=param_grid, \n",
    "                           scoring=scoring_method, \n",
    "                           n_jobs=n_jobs, \n",
    "                           cv=cv_inner,\n",
    "                           refit=True)\n",
    "    \n",
    "    gs_results_all, yhat_all = run_grid_search(search, X_train, y_train, X_test)\n",
    "    score_all = score_func(y_test, yhat_all)\n",
    "                                                                                                                                                                                                                                                                                                                                                                                                                                                                                                                                                              \n",
    "\n",
    "    # Do GridCV using the optimal number of features \n",
    "    X_train = X_train[:, best_feats]\n",
    "    X_test = X_test[:, best_feats]\n",
    "    cv_results_best, yhat_best = run_grid_search(search, X_train, y_train, X_test)\n",
    "    score_best = score_func(y_test, yhat_best)\n",
    "\n",
    "\n",
    "\n",
    "\n"
   ]
  },
  {
   "cell_type": "code",
   "execution_count": 47,
   "metadata": {},
   "outputs": [
    {
     "data": {
      "text/html": [
       "<style>#sk-container-id-9 {color: black;background-color: white;}#sk-container-id-9 pre{padding: 0;}#sk-container-id-9 div.sk-toggleable {background-color: white;}#sk-container-id-9 label.sk-toggleable__label {cursor: pointer;display: block;width: 100%;margin-bottom: 0;padding: 0.3em;box-sizing: border-box;text-align: center;}#sk-container-id-9 label.sk-toggleable__label-arrow:before {content: \"▸\";float: left;margin-right: 0.25em;color: #696969;}#sk-container-id-9 label.sk-toggleable__label-arrow:hover:before {color: black;}#sk-container-id-9 div.sk-estimator:hover label.sk-toggleable__label-arrow:before {color: black;}#sk-container-id-9 div.sk-toggleable__content {max-height: 0;max-width: 0;overflow: hidden;text-align: left;background-color: #f0f8ff;}#sk-container-id-9 div.sk-toggleable__content pre {margin: 0.2em;color: black;border-radius: 0.25em;background-color: #f0f8ff;}#sk-container-id-9 input.sk-toggleable__control:checked~div.sk-toggleable__content {max-height: 200px;max-width: 100%;overflow: auto;}#sk-container-id-9 input.sk-toggleable__control:checked~label.sk-toggleable__label-arrow:before {content: \"▾\";}#sk-container-id-9 div.sk-estimator input.sk-toggleable__control:checked~label.sk-toggleable__label {background-color: #d4ebff;}#sk-container-id-9 div.sk-label input.sk-toggleable__control:checked~label.sk-toggleable__label {background-color: #d4ebff;}#sk-container-id-9 input.sk-hidden--visually {border: 0;clip: rect(1px 1px 1px 1px);clip: rect(1px, 1px, 1px, 1px);height: 1px;margin: -1px;overflow: hidden;padding: 0;position: absolute;width: 1px;}#sk-container-id-9 div.sk-estimator {font-family: monospace;background-color: #f0f8ff;border: 1px dotted black;border-radius: 0.25em;box-sizing: border-box;margin-bottom: 0.5em;}#sk-container-id-9 div.sk-estimator:hover {background-color: #d4ebff;}#sk-container-id-9 div.sk-parallel-item::after {content: \"\";width: 100%;border-bottom: 1px solid gray;flex-grow: 1;}#sk-container-id-9 div.sk-label:hover label.sk-toggleable__label {background-color: #d4ebff;}#sk-container-id-9 div.sk-serial::before {content: \"\";position: absolute;border-left: 1px solid gray;box-sizing: border-box;top: 0;bottom: 0;left: 50%;z-index: 0;}#sk-container-id-9 div.sk-serial {display: flex;flex-direction: column;align-items: center;background-color: white;padding-right: 0.2em;padding-left: 0.2em;position: relative;}#sk-container-id-9 div.sk-item {position: relative;z-index: 1;}#sk-container-id-9 div.sk-parallel {display: flex;align-items: stretch;justify-content: center;background-color: white;position: relative;}#sk-container-id-9 div.sk-item::before, #sk-container-id-9 div.sk-parallel-item::before {content: \"\";position: absolute;border-left: 1px solid gray;box-sizing: border-box;top: 0;bottom: 0;left: 50%;z-index: -1;}#sk-container-id-9 div.sk-parallel-item {display: flex;flex-direction: column;z-index: 1;position: relative;background-color: white;}#sk-container-id-9 div.sk-parallel-item:first-child::after {align-self: flex-end;width: 50%;}#sk-container-id-9 div.sk-parallel-item:last-child::after {align-self: flex-start;width: 50%;}#sk-container-id-9 div.sk-parallel-item:only-child::after {width: 0;}#sk-container-id-9 div.sk-dashed-wrapped {border: 1px dashed gray;margin: 0 0.4em 0.5em 0.4em;box-sizing: border-box;padding-bottom: 0.4em;background-color: white;}#sk-container-id-9 div.sk-label label {font-family: monospace;font-weight: bold;display: inline-block;line-height: 1.2em;}#sk-container-id-9 div.sk-label-container {text-align: center;}#sk-container-id-9 div.sk-container {/* jupyter's `normalize.less` sets `[hidden] { display: none; }` but bootstrap.min.css set `[hidden] { display: none !important; }` so we also need the `!important` here to be able to override the default hidden behavior on the sphinx rendered scikit-learn.org. See: https://github.com/scikit-learn/scikit-learn/issues/21755 */display: inline-block !important;position: relative;}#sk-container-id-9 div.sk-text-repr-fallback {display: none;}</style><div id=\"sk-container-id-9\" class=\"sk-top-container\"><div class=\"sk-text-repr-fallback\"><pre>GridSearchCV(cv=KFold(n_splits=3, random_state=1, shuffle=True),\n",
       "             estimator=Pipeline(steps=[(&#x27;scale&#x27;, StandardScaler()),\n",
       "                                       (&#x27;svr&#x27;, SVR())]),\n",
       "             n_jobs=1,\n",
       "             param_grid=[{&#x27;svr__C&#x27;: [0.1, 1, 10], &#x27;svr__epsilon&#x27;: [0.1, 1, 10],\n",
       "                          &#x27;svr__kernel&#x27;: [&#x27;linear&#x27;]},\n",
       "                         {&#x27;svr__C&#x27;: [0.1, 1, 10], &#x27;svr__epsilon&#x27;: [0.1, 1, 10],\n",
       "                          &#x27;svr__gamma&#x27;: [0.1, 0.01, 0.001],\n",
       "                          &#x27;svr__kernel&#x27;: [&#x27;rbf&#x27;]}],\n",
       "             scoring=&#x27;r2&#x27;)</pre><b>In a Jupyter environment, please rerun this cell to show the HTML representation or trust the notebook. <br />On GitHub, the HTML representation is unable to render, please try loading this page with nbviewer.org.</b></div><div class=\"sk-container\" hidden><div class=\"sk-item sk-dashed-wrapped\"><div class=\"sk-label-container\"><div class=\"sk-label sk-toggleable\"><input class=\"sk-toggleable__control sk-hidden--visually\" id=\"sk-estimator-id-26\" type=\"checkbox\" ><label for=\"sk-estimator-id-26\" class=\"sk-toggleable__label sk-toggleable__label-arrow\">GridSearchCV</label><div class=\"sk-toggleable__content\"><pre>GridSearchCV(cv=KFold(n_splits=3, random_state=1, shuffle=True),\n",
       "             estimator=Pipeline(steps=[(&#x27;scale&#x27;, StandardScaler()),\n",
       "                                       (&#x27;svr&#x27;, SVR())]),\n",
       "             n_jobs=1,\n",
       "             param_grid=[{&#x27;svr__C&#x27;: [0.1, 1, 10], &#x27;svr__epsilon&#x27;: [0.1, 1, 10],\n",
       "                          &#x27;svr__kernel&#x27;: [&#x27;linear&#x27;]},\n",
       "                         {&#x27;svr__C&#x27;: [0.1, 1, 10], &#x27;svr__epsilon&#x27;: [0.1, 1, 10],\n",
       "                          &#x27;svr__gamma&#x27;: [0.1, 0.01, 0.001],\n",
       "                          &#x27;svr__kernel&#x27;: [&#x27;rbf&#x27;]}],\n",
       "             scoring=&#x27;r2&#x27;)</pre></div></div></div><div class=\"sk-parallel\"><div class=\"sk-parallel-item\"><div class=\"sk-item\"><div class=\"sk-label-container\"><div class=\"sk-label sk-toggleable\"><input class=\"sk-toggleable__control sk-hidden--visually\" id=\"sk-estimator-id-27\" type=\"checkbox\" ><label for=\"sk-estimator-id-27\" class=\"sk-toggleable__label sk-toggleable__label-arrow\">estimator: Pipeline</label><div class=\"sk-toggleable__content\"><pre>Pipeline(steps=[(&#x27;scale&#x27;, StandardScaler()), (&#x27;svr&#x27;, SVR())])</pre></div></div></div><div class=\"sk-serial\"><div class=\"sk-item\"><div class=\"sk-serial\"><div class=\"sk-item\"><div class=\"sk-estimator sk-toggleable\"><input class=\"sk-toggleable__control sk-hidden--visually\" id=\"sk-estimator-id-28\" type=\"checkbox\" ><label for=\"sk-estimator-id-28\" class=\"sk-toggleable__label sk-toggleable__label-arrow\">StandardScaler</label><div class=\"sk-toggleable__content\"><pre>StandardScaler()</pre></div></div></div><div class=\"sk-item\"><div class=\"sk-estimator sk-toggleable\"><input class=\"sk-toggleable__control sk-hidden--visually\" id=\"sk-estimator-id-29\" type=\"checkbox\" ><label for=\"sk-estimator-id-29\" class=\"sk-toggleable__label sk-toggleable__label-arrow\">SVR</label><div class=\"sk-toggleable__content\"><pre>SVR()</pre></div></div></div></div></div></div></div></div></div></div></div></div>"
      ],
      "text/plain": [
       "GridSearchCV(cv=KFold(n_splits=3, random_state=1, shuffle=True),\n",
       "             estimator=Pipeline(steps=[('scale', StandardScaler()),\n",
       "                                       ('svr', SVR())]),\n",
       "             n_jobs=1,\n",
       "             param_grid=[{'svr__C': [0.1, 1, 10], 'svr__epsilon': [0.1, 1, 10],\n",
       "                          'svr__kernel': ['linear']},\n",
       "                         {'svr__C': [0.1, 1, 10], 'svr__epsilon': [0.1, 1, 10],\n",
       "                          'svr__gamma': [0.1, 0.01, 0.001],\n",
       "                          'svr__kernel': ['rbf']}],\n",
       "             scoring='r2')"
      ]
     },
     "execution_count": 47,
     "metadata": {},
     "output_type": "execute_result"
    }
   ],
   "source": [
    "## Outer loop cv settings\n",
    "\n",
    "## Inner loop setting \n",
    "### Set up the Hyperparameter space, associated cv procedure, and grid search\n",
    "cv_inner = KFold(n_splits=3, shuffle=True, random_state=1)\n",
    "param_grid = [\n",
    "    {'svr__C': [0.1, 1, 10], 'svr__epsilon': [0.1, 1, 10], 'svr__kernel': ['linear']},\n",
    "    {'svr__C': [0.1, 1, 10], 'svr__epsilon': [0.1, 1, 10], 'svr__gamma': [0.1, 0.01, 0.001], 'svr__kernel': ['rbf']},\n",
    "]\n",
    "hp_search = GridSearchCV(Pipeline(steps=[('scale', StandardScaler()),('svr', SVR())]), \n",
    "                         param_grid, scoring='r2', n_jobs=1, cv=cv_inner, refit=True)\n",
    "hp_search.fit(X, y)\n",
    "### Set up feature selection \n",
    "\n",
    "### Set up inner loop pipeline:\n",
    "#### 1. RFECV - get features + optimal number. \n",
    "#### 2. Tune model hyperparameters with selected features using CV  \n",
    "#### 3. Train model with selected features and hyperparameters\n",
    "#### 4. Eval on the fold's test set. \n"
   ]
  },
  {
   "cell_type": "code",
   "execution_count": 48,
   "metadata": {},
   "outputs": [
    {
     "data": {
      "text/plain": [
       "array([3.01463458, 1.69425173, 0.88448447, ..., 0.94992239, 0.99755112,\n",
       "       1.442211  ])"
      ]
     },
     "execution_count": 48,
     "metadata": {},
     "output_type": "execute_result"
    }
   ],
   "source": [
    "hp_search.predict(X)"
   ]
  },
  {
   "cell_type": "code",
   "execution_count": 51,
   "metadata": {},
   "outputs": [
    {
     "data": {
      "text/plain": [
       "array([[ 0.79096608,  0.18190067,  0.51717547, ...,  0.69088028,\n",
       "        -2.92798006, -0.98568311],\n",
       "       [ 0.82000645,  1.37105573,  1.52367719, ..., -0.45802101,\n",
       "        -0.93311124,  1.01508226],\n",
       "       [ 0.75317058,  1.07396393,  1.25970456, ..., -0.79109011,\n",
       "        -0.97002477,  0.99229834],\n",
       "       ...,\n",
       "       [ 0.45099418,  0.7000917 ,  0.68199508, ..., -0.95201114,\n",
       "         0.36655221,  1.12647031],\n",
       "       [-0.1189456 , -0.00845542, -0.5144648 , ..., -0.8584524 ,\n",
       "        -0.90235027,  2.06904969],\n",
       "       [ 0.96811234,  1.07010402,  1.03197437, ..., -0.96698053,\n",
       "         0.74184004,  0.29781105]])"
      ]
     },
     "execution_count": 51,
     "metadata": {},
     "output_type": "execute_result"
    }
   ],
   "source": [
    "hp_search.best_estimator_.get_params()['scale'].transform(X)"
   ]
  },
  {
   "cell_type": "code",
   "execution_count": 50,
   "metadata": {},
   "outputs": [
    {
     "data": {
      "text/plain": [
       "array([3.01463458, 1.69425173, 0.88448447, ..., 0.94992239, 0.99755112,\n",
       "       1.442211  ])"
      ]
     },
     "execution_count": 50,
     "metadata": {},
     "output_type": "execute_result"
    }
   ],
   "source": [
    "hp_search.best_estimator_.predict(X)"
   ]
  },
  {
   "cell_type": "code",
   "execution_count": 39,
   "metadata": {},
   "outputs": [
    {
     "data": {
      "text/plain": [
       "{'svr__C': 10, 'svr__epsilon': 0.1, 'svr__gamma': 0.01, 'svr__kernel': 'rbf'}"
      ]
     },
     "execution_count": 39,
     "metadata": {},
     "output_type": "execute_result"
    }
   ],
   "source": [
    "hp_search.best_params_"
   ]
  },
  {
   "cell_type": "code",
   "execution_count": 40,
   "metadata": {},
   "outputs": [
    {
     "data": {
      "text/plain": [
       "0.8849830404626405"
      ]
     },
     "execution_count": 40,
     "metadata": {},
     "output_type": "execute_result"
    }
   ],
   "source": [
    "hp_search.best_score_"
   ]
  },
  {
   "cell_type": "code",
   "execution_count": 43,
   "metadata": {},
   "outputs": [
    {
     "name": "stdout",
     "output_type": "stream",
     "text": [
      "dict_keys(['mean_fit_time', 'std_fit_time', 'mean_score_time', 'std_score_time', 'param_svr__C', 'param_svr__epsilon', 'param_svr__kernel', 'param_svr__gamma', 'params', 'split0_test_score', 'split1_test_score', 'split2_test_score', 'mean_test_score', 'std_test_score', 'rank_test_score'])\n"
     ]
    }
   ],
   "source": [
    "print(hp_search.cv_results_.keys())"
   ]
  },
  {
   "cell_type": "code",
   "execution_count": 58,
   "metadata": {},
   "outputs": [
    {
     "data": {
      "text/plain": [
       "28"
      ]
     },
     "execution_count": 58,
     "metadata": {},
     "output_type": "execute_result"
    }
   ],
   "source": [
    "hp_search.best_index_"
   ]
  },
  {
   "cell_type": "code",
   "execution_count": 57,
   "metadata": {},
   "outputs": [
    {
     "data": {
      "text/html": [
       "<div>\n",
       "<style scoped>\n",
       "    .dataframe tbody tr th:only-of-type {\n",
       "        vertical-align: middle;\n",
       "    }\n",
       "\n",
       "    .dataframe tbody tr th {\n",
       "        vertical-align: top;\n",
       "    }\n",
       "\n",
       "    .dataframe thead th {\n",
       "        text-align: right;\n",
       "    }\n",
       "</style>\n",
       "<table border=\"1\" class=\"dataframe\">\n",
       "  <thead>\n",
       "    <tr style=\"text-align: right;\">\n",
       "      <th></th>\n",
       "      <th>mean_fit_time</th>\n",
       "      <th>std_fit_time</th>\n",
       "      <th>mean_score_time</th>\n",
       "      <th>std_score_time</th>\n",
       "      <th>param_svr__C</th>\n",
       "      <th>param_svr__epsilon</th>\n",
       "      <th>param_svr__kernel</th>\n",
       "      <th>param_svr__gamma</th>\n",
       "      <th>params</th>\n",
       "      <th>split0_test_score</th>\n",
       "      <th>split1_test_score</th>\n",
       "      <th>split2_test_score</th>\n",
       "      <th>mean_test_score</th>\n",
       "      <th>std_test_score</th>\n",
       "      <th>rank_test_score</th>\n",
       "    </tr>\n",
       "  </thead>\n",
       "  <tbody>\n",
       "    <tr>\n",
       "      <th>28</th>\n",
       "      <td>0.93399</td>\n",
       "      <td>0.011615</td>\n",
       "      <td>0.372692</td>\n",
       "      <td>0.001778</td>\n",
       "      <td>10</td>\n",
       "      <td>0.1</td>\n",
       "      <td>rbf</td>\n",
       "      <td>0.01</td>\n",
       "      <td>{'svr__C': 10, 'svr__epsilon': 0.1, 'svr__gamm...</td>\n",
       "      <td>0.883659</td>\n",
       "      <td>0.883507</td>\n",
       "      <td>0.887783</td>\n",
       "      <td>0.884983</td>\n",
       "      <td>0.001981</td>\n",
       "      <td>1</td>\n",
       "    </tr>\n",
       "  </tbody>\n",
       "</table>\n",
       "</div>"
      ],
      "text/plain": [
       "    mean_fit_time  std_fit_time  mean_score_time  std_score_time param_svr__C  \\\n",
       "28        0.93399      0.011615         0.372692        0.001778           10   \n",
       "\n",
       "   param_svr__epsilon param_svr__kernel param_svr__gamma  \\\n",
       "28                0.1               rbf             0.01   \n",
       "\n",
       "                                               params  split0_test_score  \\\n",
       "28  {'svr__C': 10, 'svr__epsilon': 0.1, 'svr__gamm...           0.883659   \n",
       "\n",
       "    split1_test_score  split2_test_score  mean_test_score  std_test_score  \\\n",
       "28           0.883507           0.887783         0.884983        0.001981   \n",
       "\n",
       "    rank_test_score  \n",
       "28                1  "
      ]
     },
     "execution_count": 57,
     "metadata": {},
     "output_type": "execute_result"
    }
   ],
   "source": [
    "pd.DataFrame(hp_search.cv_results_).iloc[28:29]"
   ]
  },
  {
   "cell_type": "code",
   "execution_count": 61,
   "metadata": {},
   "outputs": [
    {
     "data": {
      "text/plain": [
       "0.001980586782341556"
      ]
     },
     "execution_count": 61,
     "metadata": {},
     "output_type": "execute_result"
    }
   ],
   "source": [
    "hp_search.cv_results_['std_test_score'][hp_search.best_index_]"
   ]
  }
 ],
 "metadata": {
  "kernelspec": {
   "display_name": "featmags",
   "language": "python",
   "name": "python3"
  },
  "language_info": {
   "codemirror_mode": {
    "name": "ipython",
    "version": 3
   },
   "file_extension": ".py",
   "mimetype": "text/x-python",
   "name": "python",
   "nbconvert_exporter": "python",
   "pygments_lexer": "ipython3",
   "version": "3.11.6"
  }
 },
 "nbformat": 4,
 "nbformat_minor": 2
}
