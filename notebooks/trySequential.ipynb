{
 "cells": [
  {
   "cell_type": "code",
   "execution_count": 1,
   "metadata": {},
   "outputs": [],
   "source": [
    "import numpy as np\n",
    "import pandas as pd\n",
    "from sklearn.base import clone \n",
    "from sklearn.preprocessing import StandardScaler\n",
    "from sklearn.svm import SVR\n",
    "from sklearn.tree import DecisionTreeRegressor\n",
    "from sklearn.model_selection import RepeatedKFold, KFold, GridSearchCV\n",
    "from sklearn.metrics import r2_score\n",
    "from sklearn.feature_selection import RFE, SelectKBest, mutual_info_regression\n",
    "import matplotlib.pyplot as plt\n",
    "import time\n",
    "import json\n",
    "import sys\n",
    "import os\n",
    "# make paths above 'notebooks/' visible for local imports.\n",
    "# +----------------------------------------------------------------------------+\n",
    "module_path = os.path.abspath(os.path.join('..'))\n",
    "if module_path not in sys.path:\n",
    "    sys.path.append(module_path)\n",
    "\n",
    "from src.processing import GatherFeatureDatasets\n",
    "from src.utils import CrossValidation\n",
    "from src.feature_selection import UnsupervisedFeatureSelection as unsup_fs\n",
    "from src.feature_selection import IntrinsicFeatureSelection as ifs\n",
    "from src.plotting import plot_pairwise_correlations\n",
    "from src.feature_selection import SequentialFeatureSelection\n"
   ]
  },
  {
   "cell_type": "markdown",
   "metadata": {},
   "source": [
    "# Load in the data"
   ]
  },
  {
   "cell_type": "code",
   "execution_count": 2,
   "metadata": {},
   "outputs": [],
   "source": [
    "proc = GatherFeatureDatasets(is_p=True)"
   ]
  },
  {
   "cell_type": "code",
   "execution_count": 3,
   "metadata": {},
   "outputs": [],
   "source": [
    "data_dir = '/uufs/chpc.utah.edu/common/home/koper-group3/alysha/magnitudes/feature_splits'\n",
    "all_train_df = pd.read_csv(f'{data_dir}/p.train.csv')"
   ]
  },
  {
   "cell_type": "code",
   "execution_count": 4,
   "metadata": {},
   "outputs": [
    {
     "name": "stdout",
     "output_type": "stream",
     "text": [
      "YUF\n",
      "X shape: (1433, 45), y shape: (1433,)\n"
     ]
    }
   ],
   "source": [
    "# Use station YUF for experimenting with models because it has 1433 training examples, \n",
    "# which is ~half as much as YNR, so training should go faster. But should still be enough \n",
    "# examples for training good models. It is also one of the stations with a \n",
    "# UUSS correction, so already used for magnitude calculations and amplitudes should be good quality. \n",
    "stat = \"YUF\"\n",
    "station_feature_dict, station_meta_dict, feature_names = proc.process_station_datasets(stat, \n",
    "                                                                                        all_train_df,\n",
    "                                                                                        scaler=False,\n",
    "                                                                                        linear_model=False,\n",
    "                                                                                        source_dist_type='dist')"
   ]
  },
  {
   "cell_type": "code",
   "execution_count": 5,
   "metadata": {},
   "outputs": [
    {
     "data": {
      "text/plain": [
       "array(['amp_ratio_1', 'amp_ratio_2', 'amp_ratio_3', 'amp_ratio_4',\n",
       "       'amp_ratio_5', 'amp_ratio_6', 'amp_ratio_7', 'amp_ratio_8',\n",
       "       'amp_ratio_9', 'amp_ratio_10', 'amp_ratio_11', 'amp_ratio_12',\n",
       "       'amp_ratio_13', 'amp_ratio_14', 'amp_ratio_15', 'amp_ratio_16',\n",
       "       'amp_ratio_17', 'amp_ratio_18', 'amp_1', 'amp_2', 'amp_3', 'amp_4',\n",
       "       'amp_5', 'amp_6', 'amp_7', 'amp_8', 'amp_9', 'amp_10', 'amp_11',\n",
       "       'amp_12', 'amp_13', 'amp_14', 'amp_15', 'amp_16', 'amp_17',\n",
       "       'amp_18', 'signal_dominant_frequency', 'signal_dominant_amplitude',\n",
       "       'noise_max_amplitude', 'signal_max_amplitude', 'signal_variance',\n",
       "       'noise_variance', 'source_depth_km',\n",
       "       'source_receiver_distance_logkm',\n",
       "       'source_receiver_back_azimuth_deg'], dtype='<U32')"
      ]
     },
     "execution_count": 5,
     "metadata": {},
     "output_type": "execute_result"
    }
   ],
   "source": [
    "feature_names"
   ]
  },
  {
   "cell_type": "code",
   "execution_count": 6,
   "metadata": {},
   "outputs": [],
   "source": [
    "### Set Parameters ###\n",
    "cv_random_state=2652124\n",
    "# The model to used to estimate feature importance \n",
    "estimator_model =  DecisionTreeRegressor()\n",
    "# Boolean - True if data for estimator_model needs to be scaled\n",
    "estimator_scaler = False\n",
    "# The main model to fit\n",
    "predictor_model = SVR(kernel='rbf')\n",
    "# Boolean - True if data for model needs to be scaled \n",
    "model_scaler = True\n",
    "# The scoring method to use in RFECV and GridCV\n",
    "scoring_method = 'r2'\n",
    "# The function used to evaluate the performance on the test model\n",
    "score_func = r2_score\n",
    "# True if a larger score_func value is better\n",
    "larger_score_is_better = True\n",
    "# The parameter space for GridCV to search\n",
    "# Decrease upper-limit of C for linear model because 100 is very slow \n",
    "svr_Cspace = [1, 10, 100]\n",
    "svr_gspace = [0.1, 0.01, 0.001]\n",
    "param_grid = [\n",
    "    {'m__C': svr_Cspace, 'm__gamma': svr_gspace},\n",
    "]\n",
    "# The number of jobs for RFECV and GridCV to use\n",
    "n_jobs = 10\n",
    "# number of folds for outer CV\n",
    "cv_folds_outer = 10\n",
    "# number of times to repeat outer CV\n",
    "n_outer_repeats = 1\n",
    "# number of folds for inner CV (used for hyperparameter tuning)\n",
    "cv_folds_inner = 5\n",
    "# number of folds for the final hyperparameter grid search\n",
    "cv_folds_hp = 10\n",
    "# Run grid search over all features\n",
    "run_gridsearchcv_all = True\n",
    "\n",
    "### Intrisic feature selection information \n",
    "# Function that takes in X, y, list of np arrays containing \n",
    "# the indices of features to filter, and K features to select\n",
    "if_feat_inds = [np.arange(0, 18), np.arange(18, 36)]\n",
    "if_K = 5\n",
    "#####################"
   ]
  },
  {
   "cell_type": "code",
   "execution_count": 7,
   "metadata": {},
   "outputs": [],
   "source": [
    "X = station_feature_dict['X_train']\n",
    "y = station_meta_dict['y_train']"
   ]
  },
  {
   "cell_type": "markdown",
   "metadata": {},
   "source": [
    "# Reduce correlated features"
   ]
  },
  {
   "cell_type": "code",
   "execution_count": 8,
   "metadata": {},
   "outputs": [],
   "source": [
    "hp_grid_search, hp_cv = CrossValidation.setup_cv(predictor_model, \n",
    "                                                param_grid, \n",
    "                                                model_scaler=model_scaler, \n",
    "                                                scoring_method=scoring_method, \n",
    "                                                n_jobs=n_jobs, \n",
    "                                                cv_folds=cv_folds_outer, \n",
    "                                                cv_random_state=cv_random_state, \n",
    "                                                refit_model=False)"
   ]
  },
  {
   "cell_type": "code",
   "execution_count": 9,
   "metadata": {},
   "outputs": [],
   "source": [
    "kept_features = unsup_fs.remove_highly_correlated_features(X, thresh=0.75)"
   ]
  },
  {
   "cell_type": "code",
   "execution_count": 10,
   "metadata": {},
   "outputs": [
    {
     "data": {
      "image/png": "[encoded data removed]",
      "text/plain": [
       "<Figure size 1100x900 with 2 Axes>"
      ]
     },
     "metadata": {},
     "output_type": "display_data"
    }
   ],
   "source": [
    "kept_feature_names = feature_names[kept_features]\n",
    "plot_pairwise_correlations(X[:, kept_features], y, kept_feature_names, \"Reduced Feature Set\",\n",
    "                           xticklabels=1)"
   ]
  },
  {
   "cell_type": "code",
   "execution_count": 11,
   "metadata": {},
   "outputs": [],
   "source": [
    "corr_gs_results, _ = CrossValidation.do_gridsearchcv(hp_grid_search,\n",
    "                                X[:, kept_features],\n",
    "                                y,\n",
    "                                None)"
   ]
  },
  {
   "cell_type": "code",
   "execution_count": 12,
   "metadata": {},
   "outputs": [
    {
     "data": {
      "text/plain": [
       "(0.8745364314697618, 0.04293839702976155, {'m__C': 100, 'm__gamma': 0.01})"
      ]
     },
     "execution_count": 12,
     "metadata": {},
     "output_type": "execute_result"
    }
   ],
   "source": [
    "CrossValidation.get_gridsearchcv_best_results(corr_gs_results)"
   ]
  },
  {
   "cell_type": "markdown",
   "metadata": {},
   "source": [
    "# Sequential Feature Selection"
   ]
  },
  {
   "cell_type": "code",
   "execution_count": 13,
   "metadata": {},
   "outputs": [],
   "source": [
    "inner_grid_search, cv_inner = CrossValidation.setup_cv(predictor_model, \n",
    "                                                                param_grid, \n",
    "                                                                model_scaler=model_scaler, \n",
    "                                                                scoring_method=scoring_method, \n",
    "                                                                n_jobs=n_jobs, \n",
    "                                                                cv_folds=cv_folds_inner, \n",
    "                                                                cv_random_state=cv_random_state, \n",
    "                                                                refit_model=True)"
   ]
  },
  {
   "cell_type": "markdown",
   "metadata": {},
   "source": [
    "# Approach more similar to RFECV\n",
    "Go through all features for all folds. Average the test scores across folds to find N with the best performance. Can use N later to select features or filter results down to add CI to features selected from the entire training set using tol or something. Could also look at most frequently selected early features across folds (apply tol retroactively)."
   ]
  },
  {
   "cell_type": "code",
   "execution_count": 16,
   "metadata": {},
   "outputs": [
    {
     "data": {
      "text/plain": [
       "array([ 0,  2, 17, 18, 36, 41, 42, 43, 44])"
      ]
     },
     "execution_count": 16,
     "metadata": {},
     "output_type": "execute_result"
    }
   ],
   "source": [
    "np.arange(X.shape[1])[kept_features]"
   ]
  },
  {
   "cell_type": "code",
   "execution_count": 17,
   "metadata": {},
   "outputs": [
    {
     "name": "stdout",
     "output_type": "stream",
     "text": [
      "[0, 2, 17, 18, 36, 41, 42, 43, 44]\n",
      "[ 0  2 17 18 36 41 42 43 44  1]\n",
      "[ 0  2 17 18 36 41 42 43 44  3]\n",
      "[ 0  2 17 18 36 41 42 43 44  4]\n",
      "[ 0  2 17 18 36 41 42 43 44  5]\n",
      "[ 0  2 17 18 36 41 42 43 44  6]\n",
      "[ 0  2 17 18 36 41 42 43 44  5  1]\n",
      "[ 0  2 17 18 36 41 42 43 44  5  3]\n",
      "[ 0  2 17 18 36 41 42 43 44  5  4]\n",
      "[ 0  2 17 18 36 41 42 43 44  5  6]\n",
      "[ 0  2 17 18 36 41 42 43 44  5  6  1]\n",
      "[ 0  2 17 18 36 41 42 43 44  5  6  3]\n",
      "[ 0  2 17 18 36 41 42 43 44  5  6  4]\n",
      "[ 0  2 17 18 36 41 42 43 44  5  6  1  3]\n",
      "[ 0  2 17 18 36 41 42 43 44  5  6  1  4]\n",
      "Stopping early\n"
     ]
    },
    {
     "data": {
      "text/plain": [
       "([0, 2, 17, 18, 36, 41, 42, 43, 44, 5, 6, 1, 3],\n",
       " [0.8483284073752726,\n",
       "  0.894497094121057,\n",
       "  0.8841981253604584,\n",
       "  0.8595541152072521,\n",
       "  0.8197885493917314],\n",
       " array([[0.83184043, 0.81060912, 0.85002962, 0.89449709, 0.88274229],\n",
       "        [0.87592973, 0.85370199, 0.82583676,        nan, 0.88419813],\n",
       "        [0.85955412, 0.84657167, 0.79551033,        nan,        nan],\n",
       "        [       nan, 0.81978855, 0.76810868,        nan,        nan]]))"
      ]
     },
     "execution_count": 17,
     "metadata": {},
     "output_type": "execute_result"
    }
   ],
   "source": [
    "SequentialFeatureSelection.do_forward_selection(X[:100, :],\n",
    "                                                y[:100],\n",
    "                                                X[100:110, :],\n",
    "                                                y[100:110],\n",
    "                                                inner_grid_search,\n",
    "                                                np.arange(X.shape[1])[~kept_features][0:5], \n",
    "                                                score_func,\n",
    "                                                early_stopping_tol=-0.05,\n",
    "                                                required_feature_ids=np.arange(X.shape[1])[kept_features])"
   ]
  },
  {
   "cell_type": "code",
   "execution_count": 18,
   "metadata": {},
   "outputs": [
    {
     "name": "stdout",
     "output_type": "stream",
     "text": [
      "[3 1]\n",
      "[3 4]\n",
      "[3 5]\n",
      "[3 6]\n",
      "[3 4 1]\n",
      "[3 4 5]\n",
      "[3 4 6]\n",
      "[3 4 1 5]\n",
      "[3 4 1 6]\n",
      "[3 4 1 5 6]\n",
      "Fold 0: N=1, test_score=0.435\n",
      "[3 1]\n",
      "[3 4]\n",
      "[3 5]\n",
      "[3 6]\n",
      "[3 6 1]\n",
      "[3 6 4]\n",
      "[3 6 5]\n",
      "[3 6 5 1]\n",
      "[3 6 5 4]\n",
      "[3 6 5 4 1]\n",
      "Fold 1: N=2, test_score=0.253\n",
      "total time: 2.29 s\n",
      "Selected number of features: 1 (avg. score of 0.34)\n"
     ]
    },
    {
     "data": {
      "text/plain": [
       "{'N_scores': array([[0.        , 0.4345974 , 0.17392918, 0.23905042, 0.28205414,\n",
       "         0.31708179],\n",
       "        [0.        , 0.23560904, 0.2531576 , 0.24756776, 0.22109412,\n",
       "         0.14733788]]),\n",
       " 'selected_feats': array([[3, 4, 1, 5, 6],\n",
       "        [3, 6, 5, 4, 1]]),\n",
       " 'intrinsic_K_feature_selection': None}"
      ]
     },
     "execution_count": 18,
     "metadata": {},
     "output_type": "execute_result"
    }
   ],
   "source": [
    "N_feature_to_use, results = SequentialFeatureSelection.sequential_cv_N(X[:100, :],\n",
    "                                         y[:100],\n",
    "                                        predictor_model,\n",
    "                                        param_grid,\n",
    "                                        np.arange(X.shape[1])[~kept_features][0:5],\n",
    "                                        required_feature_ids=None,\n",
    "                                        predictor_scaler=model_scaler,\n",
    "                                        scoring_method=scoring_method,\n",
    "                                        score_func=score_func,\n",
    "                                        n_jobs=n_jobs,\n",
    "                                        cv_folds_outer=2,\n",
    "                                        cv_folds_inner=cv_folds_inner,\n",
    "                                        n_outer_repeats=1,\n",
    "                                        cv_random_state=cv_random_state,\n",
    "                                        larger_score_is_better=larger_score_is_better,\n",
    "                                        )\n",
    "results"
   ]
  },
  {
   "cell_type": "code",
   "execution_count": 19,
   "metadata": {},
   "outputs": [
    {
     "name": "stdout",
     "output_type": "stream",
     "text": [
      "[0, 2, 17, 18, 36, 41, 42, 43, 44]\n",
      "[ 0  2 17 18 36 41 42 43 44  1]\n",
      "[ 0  2 17 18 36 41 42 43 44  3]\n",
      "[ 0  2 17 18 36 41 42 43 44  4]\n",
      "[ 0  2 17 18 36 41 42 43 44  5]\n",
      "[ 0  2 17 18 36 41 42 43 44  6]\n",
      "[ 0  2 17 18 36 41 42 43 44  4  1]\n",
      "[ 0  2 17 18 36 41 42 43 44  4  3]\n",
      "[ 0  2 17 18 36 41 42 43 44  4  5]\n",
      "[ 0  2 17 18 36 41 42 43 44  4  6]\n",
      "[ 0  2 17 18 36 41 42 43 44  4  3  1]\n",
      "[ 0  2 17 18 36 41 42 43 44  4  3  5]\n",
      "[ 0  2 17 18 36 41 42 43 44  4  3  6]\n",
      "[ 0  2 17 18 36 41 42 43 44  4  3  6  1]\n",
      "[ 0  2 17 18 36 41 42 43 44  4  3  6  5]\n",
      "[ 0  2 17 18 36 41 42 43 44  4  3  6  5  1]\n",
      "Fold 0: N=1, test_score=0.826\n",
      "[0, 2, 17, 18, 36, 41, 42, 43, 44]\n",
      "[ 0  2 17 18 36 41 42 43 44  1]\n",
      "[ 0  2 17 18 36 41 42 43 44  3]\n",
      "[ 0  2 17 18 36 41 42 43 44  4]\n",
      "[ 0  2 17 18 36 41 42 43 44  5]\n",
      "[ 0  2 17 18 36 41 42 43 44  6]\n",
      "[ 0  2 17 18 36 41 42 43 44  3  1]\n",
      "[ 0  2 17 18 36 41 42 43 44  3  4]\n",
      "[ 0  2 17 18 36 41 42 43 44  3  5]\n",
      "[ 0  2 17 18 36 41 42 43 44  3  6]\n",
      "[ 0  2 17 18 36 41 42 43 44  3  1  4]\n",
      "[ 0  2 17 18 36 41 42 43 44  3  1  5]\n",
      "[ 0  2 17 18 36 41 42 43 44  3  1  6]\n",
      "[ 0  2 17 18 36 41 42 43 44  3  1  5  4]\n",
      "[ 0  2 17 18 36 41 42 43 44  3  1  5  6]\n",
      "[ 0  2 17 18 36 41 42 43 44  3  1  5  4  6]\n",
      "Fold 1: N=1, test_score=0.858\n",
      "total time: 2.38 s\n",
      "Selected number of features: 1 (avg. score of 0.84)\n"
     ]
    },
    {
     "data": {
      "text/plain": [
       "{'N_scores': array([[0.80385205, 0.8256849 , 0.82291943, 0.81184804, 0.80500664,\n",
       "         0.7558027 ],\n",
       "        [0.83993835, 0.85830005, 0.85208002, 0.84141311, 0.8373089 ,\n",
       "         0.84018034]]),\n",
       " 'selected_feats': array([[4, 3, 6, 5, 1],\n",
       "        [3, 1, 5, 4, 6]]),\n",
       " 'intrinsic_K_feature_selection': None}"
      ]
     },
     "execution_count": 19,
     "metadata": {},
     "output_type": "execute_result"
    }
   ],
   "source": [
    "N_feature_to_use, results = SequentialFeatureSelection.sequential_cv_N(X[:100, :],\n",
    "                                         y[:100],\n",
    "                                        predictor_model,\n",
    "                                        param_grid,\n",
    "                                        np.arange(X.shape[1])[~kept_features][0:5],\n",
    "                                        required_feature_ids=np.arange(X.shape[1])[kept_features],\n",
    "                                        predictor_scaler=model_scaler,\n",
    "                                        scoring_method=scoring_method,\n",
    "                                        score_func=score_func,\n",
    "                                        n_jobs=n_jobs,\n",
    "                                        cv_folds_outer=2,\n",
    "                                        cv_folds_inner=cv_folds_inner,\n",
    "                                        n_outer_repeats=1,\n",
    "                                        cv_random_state=cv_random_state,\n",
    "                                        larger_score_is_better=larger_score_is_better,\n",
    "                                        intrinsic_filter_func=None,\n",
    "                                        feature_inds_to_filter=None,\n",
    "                                        intrinsic_filter_K=5\n",
    "                                        )\n",
    "results"
   ]
  },
  {
   "cell_type": "code",
   "execution_count": 25,
   "metadata": {},
   "outputs": [
    {
     "name": "stdout",
     "output_type": "stream",
     "text": [
      "Starting features to select from [1 3 4 5 6]\n",
      "reducing features to [3 4 6]\n",
      "[0, 2, 17, 18, 36, 41, 42, 43, 44]\n",
      "[ 0  2 17 18 36 41 42 43 44  3]\n",
      "[ 0  2 17 18 36 41 42 43 44  4]\n",
      "[ 0  2 17 18 36 41 42 43 44  6]\n",
      "[ 0  2 17 18 36 41 42 43 44  4  3]\n",
      "[ 0  2 17 18 36 41 42 43 44  4  6]\n",
      "[ 0  2 17 18 36 41 42 43 44  4  3  6]\n",
      "Fold 0: N=1, test_score=0.826\n",
      "Starting features to select from [3 4 6]\n",
      "reducing features to [3 4 6]\n",
      "[0, 2, 17, 18, 36, 41, 42, 43, 44]\n",
      "[ 0  2 17 18 36 41 42 43 44  3]\n",
      "[ 0  2 17 18 36 41 42 43 44  4]\n",
      "[ 0  2 17 18 36 41 42 43 44  6]\n",
      "[ 0  2 17 18 36 41 42 43 44  3  4]\n",
      "[ 0  2 17 18 36 41 42 43 44  3  6]\n",
      "[ 0  2 17 18 36 41 42 43 44  3  4  6]\n",
      "Fold 1: N=1, test_score=0.858\n",
      "total time: 1.02 s\n",
      "Selected number of features: 1 (avg. score of 0.84)\n"
     ]
    }
   ],
   "source": [
    "N_feature_to_use, results = SequentialFeatureSelection.sequential_cv_N(X[:100, :],\n",
    "                                         y[:100],\n",
    "                                        predictor_model,\n",
    "                                        param_grid,\n",
    "                                        np.arange(X.shape[1])[~kept_features][0:5],\n",
    "                                        required_feature_ids=np.arange(X.shape[1])[kept_features],\n",
    "                                        predictor_scaler=model_scaler,\n",
    "                                        scoring_method=scoring_method,\n",
    "                                        score_func=score_func,\n",
    "                                        n_jobs=n_jobs,\n",
    "                                        cv_folds_outer=2,\n",
    "                                        cv_folds_inner=cv_folds_inner,\n",
    "                                        n_outer_repeats=1,\n",
    "                                        cv_random_state=cv_random_state,\n",
    "                                        larger_score_is_better=larger_score_is_better,\n",
    "                                        intrinsic_filter_func=ifs.MI_filter_func,\n",
    "                                        feature_inds_to_filter=[np.arange(X.shape[1])[~kept_features][0:4]],\n",
    "                                        intrinsic_filter_K=2\n",
    "                                        )"
   ]
  },
  {
   "cell_type": "markdown",
   "metadata": {},
   "source": [
    "# Alternate sequential approach (better?)\n",
    "Instead of performing sequential feature selection for each fold entirely independently, train a model for each fold with the potential feature, average the test scores, and select the feature with the best average test score to move forward with. "
   ]
  },
  {
   "cell_type": "code",
   "execution_count": 14,
   "metadata": {},
   "outputs": [],
   "source": [
    "cv_outer = RepeatedKFold(n_splits=cv_folds_outer, \n",
    "                            n_repeats=n_outer_repeats, \n",
    "                            random_state=cv_random_state)"
   ]
  },
  {
   "cell_type": "code",
   "execution_count": 15,
   "metadata": {},
   "outputs": [
    {
     "name": "stdout",
     "output_type": "stream",
     "text": [
      "0 0.07878296223960755\n",
      "2 0.12840377048173526\n",
      "17 -0.019360371418905408\n",
      "18 0.45241198084531675\n",
      "36 -0.0273893301776578\n",
      "41 -0.012552705912197681\n",
      "42 -0.10898232926837163\n",
      "43 -0.016960446239767467\n",
      "44 -0.14491124357687704\n",
      "[18  0] 0.43480202489038666\n",
      "[18  2] 0.28159068174693846\n",
      "[18 17] 0.5733733674387368\n",
      "[18 36] 0.5461633659834609\n",
      "[18 41] 0.49304014183711703\n",
      "[18 42] 0.6020293651519184\n",
      "[18 43] 0.7192698073814443\n",
      "[18 44] 0.530508686559904\n",
      "[18 43  0] 0.7251174319476397\n",
      "[18 43  2] 0.7271467014871911\n",
      "[18 43 17] 0.7816858659034802\n",
      "[18 43 36] 0.7424891857201514\n",
      "[18 43 41] 0.6744328337641344\n",
      "[18 43 42] 0.739397063466181\n",
      "[18 43 44] 0.7486444532892756\n",
      "[18 43 17  0] 0.7646548474096275\n",
      "[18 43 17  2] 0.7643867534572459\n",
      "[18 43 17 36] 0.7398910509519994\n",
      "[18 43 17 41] 0.796508055431459\n",
      "[18 43 17 42] 0.8104446648163126\n",
      "[18 43 17 44] 0.7534868981392808\n",
      "[18 43 17 42  0] 0.7947362807029116\n",
      "[18 43 17 42  2] 0.8089177311743099\n",
      "[18 43 17 42 36] 0.8055419057984562\n",
      "[18 43 17 42 41] 0.8228868030168195\n",
      "[18 43 17 42 44] 0.821999590713802\n",
      "[18 43 17 42 41  0] 0.8332266343967267\n",
      "[18 43 17 42 41  2] 0.8238449717600502\n",
      "[18 43 17 42 41 36] 0.833128477650595\n",
      "[18 43 17 42 41 44] 0.8256169127104498\n",
      "[18 43 17 42 41  0  2] 0.8508626029924302\n",
      "[18 43 17 42 41  0 36] 0.8389627978945547\n",
      "[18 43 17 42 41  0 44] 0.8235816981600182\n",
      "[18 43 17 42 41  0  2 36] 0.853211710477004\n",
      "[18 43 17 42 41  0  2 44] 0.8394034419822433\n",
      "[18 43 17 42 41  0  2 36 44] 0.843536945756289\n"
     ]
    }
   ],
   "source": [
    "ids, ids_scores, all_scores = SequentialFeatureSelection.do_forward_selection_cv(X[:100, :],\n",
    "                                                    y[:100],\n",
    "                                                    np.arange(X.shape[1])[kept_features], \n",
    "                                                    cv_outer,\n",
    "                                                    inner_grid_search,\n",
    "                                                    scoring_method,\n",
    "                                                    larger_score_is_better=larger_score_is_better,\n",
    "                                                    required_feature_ids=None,\n",
    "                                                    verbose=True)"
   ]
  },
  {
   "cell_type": "code",
   "execution_count": 17,
   "metadata": {},
   "outputs": [
    {
     "name": "stdout",
     "output_type": "stream",
     "text": [
      "[0, 2, 17, 18, 36, 41, 42, 43, 44]\n",
      "[ 0  2 17 18 36 41 42 43 44  1] 0.8271620670211977\n",
      "[ 0  2 17 18 36 41 42 43 44  3] 0.8314736729232539\n",
      "[ 0  2 17 18 36 41 42 43 44  4] 0.8073976948355828\n",
      "[ 0  2 17 18 36 41 42 43 44  5] 0.830719438469224\n",
      "[ 0  2 17 18 36 41 42 43 44  6] 0.8281797489995905\n",
      "[ 0  2 17 18 36 41 42 43 44  7] 0.8280685035448873\n",
      "[ 0  2 17 18 36 41 42 43 44  8] 0.8324062683932898\n",
      "[ 0  2 17 18 36 41 42 43 44  9] 0.8344112671702149\n",
      "[ 0  2 17 18 36 41 42 43 44 10] 0.8359416488368488\n",
      "[ 0  2 17 18 36 41 42 43 44 11] 0.8392321689062736\n",
      "[ 0  2 17 18 36 41 42 43 44 12] 0.8349800850077138\n",
      "[ 0  2 17 18 36 41 42 43 44 13] 0.8387006683399552\n",
      "[ 0  2 17 18 36 41 42 43 44 14] 0.8375869012869996\n",
      "[ 0  2 17 18 36 41 42 43 44 15] 0.8382667980791517\n",
      "[ 0  2 17 18 36 41 42 43 44 16] 0.8382138722030034\n",
      "[ 0  2 17 18 36 41 42 43 44 19] 0.8641252318921679\n",
      "[ 0  2 17 18 36 41 42 43 44 20] 0.8653599548755171\n",
      "[ 0  2 17 18 36 41 42 43 44 21] 0.8614671634256043\n",
      "[ 0  2 17 18 36 41 42 43 44 22] 0.8547517155208368\n",
      "[ 0  2 17 18 36 41 42 43 44 23] 0.8478694196027765\n",
      "[ 0  2 17 18 36 41 42 43 44 24] 0.8382232089659422\n",
      "[ 0  2 17 18 36 41 42 43 44 25] 0.834518630295125\n",
      "[ 0  2 17 18 36 41 42 43 44 26] 0.8285270198360383\n",
      "[ 0  2 17 18 36 41 42 43 44 27] 0.842463652342712\n",
      "[ 0  2 17 18 36 41 42 43 44 28] 0.8457417106085238\n",
      "[ 0  2 17 18 36 41 42 43 44 29] 0.8472566218724247\n",
      "[ 0  2 17 18 36 41 42 43 44 30] 0.8502558064408895\n",
      "[ 0  2 17 18 36 41 42 43 44 31] 0.850198239410172\n",
      "[ 0  2 17 18 36 41 42 43 44 32] 0.8514932955918502\n",
      "[ 0  2 17 18 36 41 42 43 44 33] 0.8530088946834319\n",
      "[ 0  2 17 18 36 41 42 43 44 34] 0.8547316552617584\n",
      "[ 0  2 17 18 36 41 42 43 44 35] 0.8543568730632479\n",
      "[ 0  2 17 18 36 41 42 43 44 37] 0.8309634617865583\n",
      "[ 0  2 17 18 36 41 42 43 44 38] 0.8173924062477507\n",
      "[ 0  2 17 18 36 41 42 43 44 39] 0.8289972321568235\n",
      "[ 0  2 17 18 36 41 42 43 44 40] 0.8421048410303789\n",
      "[ 0  2 17 18 36 41 42 43 44 20  1] 0.859743567177385\n",
      "[ 0  2 17 18 36 41 42 43 44 20  3] 0.8667909681047625\n",
      "[ 0  2 17 18 36 41 42 43 44 20  4] 0.8563830702149875\n",
      "[ 0  2 17 18 36 41 42 43 44 20  5] 0.865113423682814\n",
      "[ 0  2 17 18 36 41 42 43 44 20  6] 0.8679331050169807\n",
      "[ 0  2 17 18 36 41 42 43 44 20  7] 0.8634593160980986\n",
      "[ 0  2 17 18 36 41 42 43 44 20  8] 0.8618049402220885\n",
      "[ 0  2 17 18 36 41 42 43 44 20  9] 0.8612136821780038\n",
      "[ 0  2 17 18 36 41 42 43 44 20 10] 0.8599082699982372\n",
      "[ 0  2 17 18 36 41 42 43 44 20 11] 0.8588899411434916\n",
      "[ 0  2 17 18 36 41 42 43 44 20 12] 0.8586127120337558\n",
      "[ 0  2 17 18 36 41 42 43 44 20 13] 0.8601976319103354\n",
      "[ 0  2 17 18 36 41 42 43 44 20 14] 0.8623358076509271\n",
      "[ 0  2 17 18 36 41 42 43 44 20 15] 0.8638856578255855\n",
      "[ 0  2 17 18 36 41 42 43 44 20 16] 0.8647195554294116\n",
      "[ 0  2 17 18 36 41 42 43 44 20 19] 0.864190019876639\n",
      "[ 0  2 17 18 36 41 42 43 44 20 21] 0.8671043687779962\n",
      "[ 0  2 17 18 36 41 42 43 44 20 22] 0.8658712370207449\n",
      "[ 0  2 17 18 36 41 42 43 44 20 23] 0.8708012422074226\n",
      "[ 0  2 17 18 36 41 42 43 44 20 24] 0.8701318333603147\n",
      "[ 0  2 17 18 36 41 42 43 44 20 25] 0.8651827927905007\n",
      "[ 0  2 17 18 36 41 42 43 44 20 26] 0.8638314518422371\n",
      "[ 0  2 17 18 36 41 42 43 44 20 27] 0.8680337648062005\n",
      "[ 0  2 17 18 36 41 42 43 44 20 28] 0.8658912741027576\n",
      "[ 0  2 17 18 36 41 42 43 44 20 29] 0.8630921779459821\n",
      "[ 0  2 17 18 36 41 42 43 44 20 30] 0.8639702486715516\n",
      "[ 0  2 17 18 36 41 42 43 44 20 31] 0.8646460194970518\n",
      "[ 0  2 17 18 36 41 42 43 44 20 32] 0.8652764422232639\n",
      "[ 0  2 17 18 36 41 42 43 44 20 33] 0.8657986330085258\n",
      "[ 0  2 17 18 36 41 42 43 44 20 34] 0.8663776502930707\n",
      "[ 0  2 17 18 36 41 42 43 44 20 35] 0.8665084865462834\n",
      "[ 0  2 17 18 36 41 42 43 44 20 37] 0.8624509128951731\n",
      "[ 0  2 17 18 36 41 42 43 44 20 38] 0.8636715441468693\n",
      "[ 0  2 17 18 36 41 42 43 44 20 39] 0.8624423027086424\n",
      "[ 0  2 17 18 36 41 42 43 44 20 40] 0.8626279761216779\n",
      "[ 0  2 17 18 36 41 42 43 44 20 23  1] 0.8635189693574444\n",
      "[ 0  2 17 18 36 41 42 43 44 20 23  3] 0.8576072018745698\n",
      "[ 0  2 17 18 36 41 42 43 44 20 23  4] 0.8633322889505463\n",
      "[ 0  2 17 18 36 41 42 43 44 20 23  5] 0.8729790472105818\n",
      "[ 0  2 17 18 36 41 42 43 44 20 23  6] 0.8701159505918094\n",
      "[ 0  2 17 18 36 41 42 43 44 20 23  7] 0.8696247242689511\n",
      "[ 0  2 17 18 36 41 42 43 44 20 23  8] 0.8690348896732895\n",
      "[ 0  2 17 18 36 41 42 43 44 20 23  9] 0.8681819321957567\n",
      "[ 0  2 17 18 36 41 42 43 44 20 23 10] 0.8670681182410988\n",
      "[ 0  2 17 18 36 41 42 43 44 20 23 11] 0.8667422719180944\n",
      "[ 0  2 17 18 36 41 42 43 44 20 23 12] 0.8671155901845019\n",
      "[ 0  2 17 18 36 41 42 43 44 20 23 13] 0.8679620990062045\n",
      "[ 0  2 17 18 36 41 42 43 44 20 23 14] 0.8688261988013529\n",
      "[ 0  2 17 18 36 41 42 43 44 20 23 15] 0.8693556805020629\n",
      "[ 0  2 17 18 36 41 42 43 44 20 23 16] 0.8690796424707715\n",
      "[ 0  2 17 18 36 41 42 43 44 20 23 19] 0.8603245445607977\n",
      "[ 0  2 17 18 36 41 42 43 44 20 23 21] 0.8669342179491425\n",
      "[ 0  2 17 18 36 41 42 43 44 20 23 22] 0.8688426695451149\n",
      "[ 0  2 17 18 36 41 42 43 44 20 23 24] 0.8699370254770089\n",
      "[ 0  2 17 18 36 41 42 43 44 20 23 25] 0.8692491127190136\n",
      "[ 0  2 17 18 36 41 42 43 44 20 23 26] 0.8718245572415603\n",
      "[ 0  2 17 18 36 41 42 43 44 20 23 27] 0.8704944468281569\n",
      "[ 0  2 17 18 36 41 42 43 44 20 23 28] 0.8668112041331373\n",
      "[ 0  2 17 18 36 41 42 43 44 20 23 29] 0.8670427191255683\n",
      "[ 0  2 17 18 36 41 42 43 44 20 23 30] 0.8687349513937692\n",
      "[ 0  2 17 18 36 41 42 43 44 20 23 31] 0.8699717340015531\n",
      "[ 0  2 17 18 36 41 42 43 44 20 23 32] 0.8711079957549798\n",
      "[ 0  2 17 18 36 41 42 43 44 20 23 33] 0.871343364551808\n",
      "[ 0  2 17 18 36 41 42 43 44 20 23 34] 0.871090537641857\n",
      "[ 0  2 17 18 36 41 42 43 44 20 23 35] 0.8706226314825016\n",
      "[ 0  2 17 18 36 41 42 43 44 20 23 37] 0.8662427601065767\n",
      "[ 0  2 17 18 36 41 42 43 44 20 23 38] 0.8624063070698755\n",
      "[ 0  2 17 18 36 41 42 43 44 20 23 39] 0.867847383532886\n",
      "[ 0  2 17 18 36 41 42 43 44 20 23 40] 0.8677756139678632\n",
      "Stopping early\n"
     ]
    }
   ],
   "source": [
    "ids, ids_scores, all_scores = SequentialFeatureSelection.do_forward_selection_cv(X[:100, :],\n",
    "                                                                                y[:100],\n",
    "                                                                                np.arange(X.shape[1])[~kept_features], \n",
    "                                                                                cv_outer,\n",
    "                                                                                inner_grid_search,\n",
    "                                                                                scoring_method,\n",
    "                                                                                larger_score_is_better=larger_score_is_better,\n",
    "                                                                                required_feature_ids=np.arange(X.shape[1])[kept_features],\n",
    "                                                                                verbose=True,\n",
    "                                                                                early_stopping_tol=0.005)"
   ]
  },
  {
   "cell_type": "code",
   "execution_count": 20,
   "metadata": {},
   "outputs": [
    {
     "data": {
      "text/plain": [
       "[0, 2, 17, 18, 36, 41, 42, 43, 44, 20, 23, 5]"
      ]
     },
     "execution_count": 20,
     "metadata": {},
     "output_type": "execute_result"
    }
   ],
   "source": [
    "ids"
   ]
  },
  {
   "cell_type": "code",
   "execution_count": 21,
   "metadata": {},
   "outputs": [
    {
     "data": {
      "text/plain": [
       "array([[0.84353695, 0.74259257, 0.92787583],\n",
       "       [0.86535995, 0.76951245, 0.97562155],\n",
       "       [0.87080124, 0.76684915, 0.97382038],\n",
       "       [0.87297905, 0.77265627, 0.97134499]])"
      ]
     },
     "execution_count": 21,
     "metadata": {},
     "output_type": "execute_result"
    }
   ],
   "source": [
    "ids_scores"
   ]
  },
  {
   "cell_type": "code",
   "execution_count": null,
   "metadata": {},
   "outputs": [],
   "source": []
  }
 ],
 "metadata": {
  "kernelspec": {
   "display_name": "featmags",
   "language": "python",
   "name": "python3"
  },
  "language_info": {
   "codemirror_mode": {
    "name": "ipython",
    "version": 3
   },
   "file_extension": ".py",
   "mimetype": "text/x-python",
   "name": "python",
   "nbconvert_exporter": "python",
   "pygments_lexer": "ipython3",
   "version": "3.11.6"
  }
 },
 "nbformat": 4,
 "nbformat_minor": 2
}
