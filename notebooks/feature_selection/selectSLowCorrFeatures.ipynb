{
 "cells": [
  {
   "cell_type": "code",
   "execution_count": 1,
   "metadata": {},
   "outputs": [],
   "source": [
    "import numpy as np\n",
    "import pandas as pd\n",
    "from sklearn.base import clone \n",
    "from sklearn.svm import SVR\n",
    "from sklearn.tree import DecisionTreeRegressor\n",
    "from sklearn.metrics import r2_score\n",
    "import json\n",
    "import sys\n",
    "import os\n",
    "# make paths above 'notebooks/' visible for local imports.\n",
    "# +----------------------------------------------------------------------------+\n",
    "module_path = os.path.abspath(os.path.join('../..'))\n",
    "if module_path not in sys.path:\n",
    "    sys.path.append(module_path)\n",
    "\n",
    "from src.processing import GatherFeatureDatasets\n",
    "from src.feature_selection import UnsupervisedFeatureSelection as unsup_fs\n",
    "from src.feature_selection import CustomRFECV\n",
    "from src import plotting\n"
   ]
  },
  {
   "cell_type": "markdown",
   "metadata": {},
   "source": [
    "# Load data"
   ]
  },
  {
   "cell_type": "code",
   "execution_count": 2,
   "metadata": {},
   "outputs": [],
   "source": [
    "proc = GatherFeatureDatasets(is_p=False)"
   ]
  },
  {
   "cell_type": "code",
   "execution_count": 3,
   "metadata": {},
   "outputs": [],
   "source": [
    "datadir = '/uufs/chpc.utah.edu/common/home/koper-group3/alysha/magnitudes'\n",
    "train = pd.read_csv(os.path.join(datadir, 'feature_splits','s.train.csv'))"
   ]
  },
  {
   "cell_type": "code",
   "execution_count": 4,
   "metadata": {},
   "outputs": [
    {
     "name": "stdout",
     "output_type": "stream",
     "text": [
      "YHB\n",
      "X shape: (1248, 45), y shape: (1248,)\n",
      "YHL\n",
      "X shape: (537, 45), y shape: (537,)\n",
      "YMR\n",
      "X shape: (1533, 45), y shape: (1533,)\n",
      "YHH\n",
      "X shape: (1222, 45), y shape: (1222,)\n",
      "B207\n",
      "X shape: (341, 45), y shape: (341,)\n",
      "FLWY\n",
      "X shape: (319, 45), y shape: (319,)\n",
      "YUF\n",
      "X shape: (816, 45), y shape: (816,)\n",
      "YPP\n",
      "X shape: (189, 45), y shape: (189,)\n",
      "YNR\n",
      "X shape: (2090, 45), y shape: (2090,)\n",
      "YML\n",
      "X shape: (423, 45), y shape: (423,)\n",
      "YFT\n",
      "X shape: (899, 45), y shape: (899,)\n",
      "LKWY\n",
      "X shape: (209, 45), y shape: (209,)\n",
      "YTP\n",
      "X shape: (391, 45), y shape: (391,)\n",
      "B206\n",
      "X shape: (195, 45), y shape: (195,)\n",
      "YMC\n",
      "X shape: (1443, 45), y shape: (1443,)\n",
      "YNM\n",
      "X shape: (487, 45), y shape: (487,)\n",
      "B950\n",
      "X shape: (152, 45), y shape: (152,)\n",
      "YDD\n",
      "X shape: (244, 45), y shape: (244,)\n"
     ]
    }
   ],
   "source": [
    "station_feature_dict, station_meta_dict, feature_names = proc.process_all_stations_datasets(train, \n",
    "                                                                  scaler=False,\n",
    "                                                                  linear_model=False,\n",
    "                                                                  source_dist_type='dist')"
   ]
  },
  {
   "cell_type": "code",
   "execution_count": 5,
   "metadata": {},
   "outputs": [
    {
     "data": {
      "text/plain": [
       "array(['amp_ratio_1', 'amp_ratio_2', 'amp_ratio_3', 'amp_ratio_4',\n",
       "       'amp_ratio_5', 'amp_ratio_6', 'amp_ratio_7', 'amp_ratio_8',\n",
       "       'amp_ratio_9', 'amp_ratio_10', 'amp_ratio_11', 'amp_ratio_12',\n",
       "       'amp_ratio_13', 'amp_ratio_14', 'amp_ratio_15', 'amp_ratio_16',\n",
       "       'amp_ratio_17', 'amp_ratio_18', 'amp_1', 'amp_2', 'amp_3', 'amp_4',\n",
       "       'amp_5', 'amp_6', 'amp_7', 'amp_8', 'amp_9', 'amp_10', 'amp_11',\n",
       "       'amp_12', 'amp_13', 'amp_14', 'amp_15', 'amp_16', 'amp_17',\n",
       "       'amp_18', 'signal_dominant_frequency', 'signal_dominant_amplitude',\n",
       "       'noise_max_amplitude', 'signal_max_amplitude', 'signal_variance',\n",
       "       'noise_variance', 'source_depth_km',\n",
       "       'source_receiver_distance_logkm',\n",
       "       'source_receiver_back_azimuth_deg'], dtype='<U32')"
      ]
     },
     "execution_count": 5,
     "metadata": {},
     "output_type": "execute_result"
    }
   ],
   "source": [
    "feature_names"
   ]
  },
  {
   "cell_type": "code",
   "execution_count": 6,
   "metadata": {},
   "outputs": [
    {
     "data": {
      "text/plain": [
       "array(['ratio 1', 'ratio 2', 'ratio 3', 'ratio 4', 'ratio 5', 'ratio 6',\n",
       "       'ratio 7', 'ratio 8', 'ratio 9', 'ratio 10', 'ratio 11',\n",
       "       'ratio 12', 'ratio 13', 'ratio 14', 'ratio 15', 'ratio 16',\n",
       "       'ratio 17', 'ratio 18', 'amp. 1', 'amp. 2', 'amp. 3', 'amp. 4',\n",
       "       'amp. 5', 'amp. 6', 'amp. 7', 'amp. 8', 'amp. 9', 'amp. 10',\n",
       "       'amp. 11', 'amp. 12', 'amp. 13', 'amp. 14', 'amp. 15', 'amp. 16',\n",
       "       'amp. 17', 'amp. 18', 'sig. dom. freq.', 'sig. dom. amp.',\n",
       "       'noise max. amp.', 'sig. max. amp.', 'sig. var.', 'noise var.',\n",
       "       'depth', 'distance', 'back az.'], dtype='<U15')"
      ]
     },
     "execution_count": 6,
     "metadata": {},
     "output_type": "execute_result"
    }
   ],
   "source": [
    "feature_plot_names = proc.get_feature_plot_names(18, 'dist')\n",
    "feature_plot_names"
   ]
  },
  {
   "cell_type": "markdown",
   "metadata": {},
   "source": [
    "# Get features with low-ish pairwise correlation values"
   ]
  },
  {
   "cell_type": "code",
   "execution_count": 7,
   "metadata": {},
   "outputs": [],
   "source": [
    "corr_thresh = 0.85"
   ]
  },
  {
   "cell_type": "code",
   "execution_count": 8,
   "metadata": {},
   "outputs": [],
   "source": [
    "selected_feats_dict = {}\n",
    "for stat in station_feature_dict.keys():\n",
    "    kept_features = unsup_fs.remove_highly_correlated_features(station_feature_dict[stat]['X_train'], thresh=corr_thresh)\n",
    "    selected_feats_dict[stat] = kept_features"
   ]
  },
  {
   "cell_type": "markdown",
   "metadata": {},
   "source": [
    "# Look at low corr features across all stations"
   ]
  },
  {
   "cell_type": "code",
   "execution_count": 9,
   "metadata": {},
   "outputs": [
    {
     "data": {
      "text/html": [
       "<div>\n",
       "<style scoped>\n",
       "    .dataframe tbody tr th:only-of-type {\n",
       "        vertical-align: middle;\n",
       "    }\n",
       "\n",
       "    .dataframe tbody tr th {\n",
       "        vertical-align: top;\n",
       "    }\n",
       "\n",
       "    .dataframe thead th {\n",
       "        text-align: right;\n",
       "    }\n",
       "</style>\n",
       "<table border=\"1\" class=\"dataframe\">\n",
       "  <thead>\n",
       "    <tr style=\"text-align: right;\">\n",
       "      <th></th>\n",
       "      <th>YHB</th>\n",
       "      <th>YHL</th>\n",
       "      <th>YMR</th>\n",
       "      <th>YHH</th>\n",
       "      <th>B207</th>\n",
       "      <th>FLWY</th>\n",
       "      <th>YUF</th>\n",
       "      <th>YPP</th>\n",
       "      <th>YNR</th>\n",
       "      <th>YML</th>\n",
       "      <th>YFT</th>\n",
       "      <th>LKWY</th>\n",
       "      <th>YTP</th>\n",
       "      <th>B206</th>\n",
       "      <th>YMC</th>\n",
       "      <th>YNM</th>\n",
       "      <th>B950</th>\n",
       "      <th>YDD</th>\n",
       "    </tr>\n",
       "  </thead>\n",
       "  <tbody>\n",
       "    <tr>\n",
       "      <th>ratio 1</th>\n",
       "      <td>True</td>\n",
       "      <td>True</td>\n",
       "      <td>True</td>\n",
       "      <td>True</td>\n",
       "      <td>True</td>\n",
       "      <td>True</td>\n",
       "      <td>True</td>\n",
       "      <td>True</td>\n",
       "      <td>True</td>\n",
       "      <td>True</td>\n",
       "      <td>True</td>\n",
       "      <td>True</td>\n",
       "      <td>True</td>\n",
       "      <td>True</td>\n",
       "      <td>True</td>\n",
       "      <td>True</td>\n",
       "      <td>True</td>\n",
       "      <td>True</td>\n",
       "    </tr>\n",
       "    <tr>\n",
       "      <th>ratio 2</th>\n",
       "      <td>True</td>\n",
       "      <td>True</td>\n",
       "      <td>True</td>\n",
       "      <td>True</td>\n",
       "      <td>True</td>\n",
       "      <td>True</td>\n",
       "      <td>True</td>\n",
       "      <td>True</td>\n",
       "      <td>True</td>\n",
       "      <td>True</td>\n",
       "      <td>True</td>\n",
       "      <td>True</td>\n",
       "      <td>True</td>\n",
       "      <td>True</td>\n",
       "      <td>True</td>\n",
       "      <td>True</td>\n",
       "      <td>True</td>\n",
       "      <td>True</td>\n",
       "    </tr>\n",
       "    <tr>\n",
       "      <th>ratio 3</th>\n",
       "      <td>True</td>\n",
       "      <td>True</td>\n",
       "      <td>True</td>\n",
       "      <td>True</td>\n",
       "      <td>True</td>\n",
       "      <td>True</td>\n",
       "      <td>True</td>\n",
       "      <td>True</td>\n",
       "      <td>False</td>\n",
       "      <td>True</td>\n",
       "      <td>True</td>\n",
       "      <td>True</td>\n",
       "      <td>True</td>\n",
       "      <td>True</td>\n",
       "      <td>False</td>\n",
       "      <td>True</td>\n",
       "      <td>True</td>\n",
       "      <td>True</td>\n",
       "    </tr>\n",
       "    <tr>\n",
       "      <th>ratio 4</th>\n",
       "      <td>True</td>\n",
       "      <td>True</td>\n",
       "      <td>True</td>\n",
       "      <td>True</td>\n",
       "      <td>True</td>\n",
       "      <td>True</td>\n",
       "      <td>False</td>\n",
       "      <td>True</td>\n",
       "      <td>True</td>\n",
       "      <td>True</td>\n",
       "      <td>True</td>\n",
       "      <td>True</td>\n",
       "      <td>True</td>\n",
       "      <td>False</td>\n",
       "      <td>True</td>\n",
       "      <td>True</td>\n",
       "      <td>True</td>\n",
       "      <td>True</td>\n",
       "    </tr>\n",
       "    <tr>\n",
       "      <th>ratio 5</th>\n",
       "      <td>True</td>\n",
       "      <td>False</td>\n",
       "      <td>False</td>\n",
       "      <td>False</td>\n",
       "      <td>False</td>\n",
       "      <td>False</td>\n",
       "      <td>True</td>\n",
       "      <td>False</td>\n",
       "      <td>False</td>\n",
       "      <td>False</td>\n",
       "      <td>False</td>\n",
       "      <td>False</td>\n",
       "      <td>False</td>\n",
       "      <td>True</td>\n",
       "      <td>False</td>\n",
       "      <td>False</td>\n",
       "      <td>False</td>\n",
       "      <td>False</td>\n",
       "    </tr>\n",
       "  </tbody>\n",
       "</table>\n",
       "</div>"
      ],
      "text/plain": [
       "          YHB    YHL    YMR    YHH   B207   FLWY    YUF    YPP    YNR    YML  \\\n",
       "ratio 1  True   True   True   True   True   True   True   True   True   True   \n",
       "ratio 2  True   True   True   True   True   True   True   True   True   True   \n",
       "ratio 3  True   True   True   True   True   True   True   True  False   True   \n",
       "ratio 4  True   True   True   True   True   True  False   True   True   True   \n",
       "ratio 5  True  False  False  False  False  False   True  False  False  False   \n",
       "\n",
       "           YFT   LKWY    YTP   B206    YMC    YNM   B950    YDD  \n",
       "ratio 1   True   True   True   True   True   True   True   True  \n",
       "ratio 2   True   True   True   True   True   True   True   True  \n",
       "ratio 3   True   True   True   True  False   True   True   True  \n",
       "ratio 4   True   True   True  False   True   True   True   True  \n",
       "ratio 5  False  False  False   True  False  False  False  False  "
      ]
     },
     "execution_count": 9,
     "metadata": {},
     "output_type": "execute_result"
    }
   ],
   "source": [
    "cnt_df = pd.DataFrame(selected_feats_dict)\n",
    "cnt_df.index = feature_plot_names\n",
    "cnt_df.head()"
   ]
  },
  {
   "cell_type": "code",
   "execution_count": 10,
   "metadata": {},
   "outputs": [
    {
     "data": {
      "text/html": [
       "<div>\n",
       "<style scoped>\n",
       "    .dataframe tbody tr th:only-of-type {\n",
       "        vertical-align: middle;\n",
       "    }\n",
       "\n",
       "    .dataframe tbody tr th {\n",
       "        vertical-align: top;\n",
       "    }\n",
       "\n",
       "    .dataframe thead th {\n",
       "        text-align: right;\n",
       "    }\n",
       "</style>\n",
       "<table border=\"1\" class=\"dataframe\">\n",
       "  <thead>\n",
       "    <tr style=\"text-align: right;\">\n",
       "      <th></th>\n",
       "      <th>B206</th>\n",
       "      <th>B207</th>\n",
       "      <th>B950</th>\n",
       "      <th>FLWY</th>\n",
       "      <th>LKWY</th>\n",
       "      <th>YDD</th>\n",
       "      <th>YFT</th>\n",
       "      <th>YHB</th>\n",
       "      <th>YHH</th>\n",
       "      <th>YHL</th>\n",
       "      <th>YMC</th>\n",
       "      <th>YML</th>\n",
       "      <th>YMR</th>\n",
       "      <th>YNM</th>\n",
       "      <th>YNR</th>\n",
       "      <th>YPP</th>\n",
       "      <th>YTP</th>\n",
       "      <th>YUF</th>\n",
       "    </tr>\n",
       "  </thead>\n",
       "  <tbody>\n",
       "    <tr>\n",
       "      <th>ratio 1</th>\n",
       "      <td>True</td>\n",
       "      <td>True</td>\n",
       "      <td>True</td>\n",
       "      <td>True</td>\n",
       "      <td>True</td>\n",
       "      <td>True</td>\n",
       "      <td>True</td>\n",
       "      <td>True</td>\n",
       "      <td>True</td>\n",
       "      <td>True</td>\n",
       "      <td>True</td>\n",
       "      <td>True</td>\n",
       "      <td>True</td>\n",
       "      <td>True</td>\n",
       "      <td>True</td>\n",
       "      <td>True</td>\n",
       "      <td>True</td>\n",
       "      <td>True</td>\n",
       "    </tr>\n",
       "    <tr>\n",
       "      <th>ratio 2</th>\n",
       "      <td>True</td>\n",
       "      <td>True</td>\n",
       "      <td>True</td>\n",
       "      <td>True</td>\n",
       "      <td>True</td>\n",
       "      <td>True</td>\n",
       "      <td>True</td>\n",
       "      <td>True</td>\n",
       "      <td>True</td>\n",
       "      <td>True</td>\n",
       "      <td>True</td>\n",
       "      <td>True</td>\n",
       "      <td>True</td>\n",
       "      <td>True</td>\n",
       "      <td>True</td>\n",
       "      <td>True</td>\n",
       "      <td>True</td>\n",
       "      <td>True</td>\n",
       "    </tr>\n",
       "    <tr>\n",
       "      <th>ratio 3</th>\n",
       "      <td>True</td>\n",
       "      <td>True</td>\n",
       "      <td>True</td>\n",
       "      <td>True</td>\n",
       "      <td>True</td>\n",
       "      <td>True</td>\n",
       "      <td>True</td>\n",
       "      <td>True</td>\n",
       "      <td>True</td>\n",
       "      <td>True</td>\n",
       "      <td>False</td>\n",
       "      <td>True</td>\n",
       "      <td>True</td>\n",
       "      <td>True</td>\n",
       "      <td>False</td>\n",
       "      <td>True</td>\n",
       "      <td>True</td>\n",
       "      <td>True</td>\n",
       "    </tr>\n",
       "    <tr>\n",
       "      <th>ratio 4</th>\n",
       "      <td>False</td>\n",
       "      <td>True</td>\n",
       "      <td>True</td>\n",
       "      <td>True</td>\n",
       "      <td>True</td>\n",
       "      <td>True</td>\n",
       "      <td>True</td>\n",
       "      <td>True</td>\n",
       "      <td>True</td>\n",
       "      <td>True</td>\n",
       "      <td>True</td>\n",
       "      <td>True</td>\n",
       "      <td>True</td>\n",
       "      <td>True</td>\n",
       "      <td>True</td>\n",
       "      <td>True</td>\n",
       "      <td>True</td>\n",
       "      <td>False</td>\n",
       "    </tr>\n",
       "    <tr>\n",
       "      <th>ratio 5</th>\n",
       "      <td>True</td>\n",
       "      <td>False</td>\n",
       "      <td>False</td>\n",
       "      <td>False</td>\n",
       "      <td>False</td>\n",
       "      <td>False</td>\n",
       "      <td>False</td>\n",
       "      <td>True</td>\n",
       "      <td>False</td>\n",
       "      <td>False</td>\n",
       "      <td>False</td>\n",
       "      <td>False</td>\n",
       "      <td>False</td>\n",
       "      <td>False</td>\n",
       "      <td>False</td>\n",
       "      <td>False</td>\n",
       "      <td>False</td>\n",
       "      <td>True</td>\n",
       "    </tr>\n",
       "  </tbody>\n",
       "</table>\n",
       "</div>"
      ],
      "text/plain": [
       "          B206   B207   B950   FLWY   LKWY    YDD    YFT   YHB    YHH    YHL  \\\n",
       "ratio 1   True   True   True   True   True   True   True  True   True   True   \n",
       "ratio 2   True   True   True   True   True   True   True  True   True   True   \n",
       "ratio 3   True   True   True   True   True   True   True  True   True   True   \n",
       "ratio 4  False   True   True   True   True   True   True  True   True   True   \n",
       "ratio 5   True  False  False  False  False  False  False  True  False  False   \n",
       "\n",
       "           YMC    YML    YMR    YNM    YNR    YPP    YTP    YUF  \n",
       "ratio 1   True   True   True   True   True   True   True   True  \n",
       "ratio 2   True   True   True   True   True   True   True   True  \n",
       "ratio 3  False   True   True   True  False   True   True   True  \n",
       "ratio 4   True   True   True   True   True   True   True  False  \n",
       "ratio 5  False  False  False  False  False  False  False   True  "
      ]
     },
     "execution_count": 10,
     "metadata": {},
     "output_type": "execute_result"
    }
   ],
   "source": [
    "cnt_df = cnt_df[cnt_df.columns.sort_values()]\n",
    "cnt_df.head()"
   ]
  },
  {
   "cell_type": "code",
   "execution_count": 12,
   "metadata": {},
   "outputs": [],
   "source": [
    "cnt_df.to_csv(os.path.join(datadir, 'feature_selection_update/lowcorr', 'feature.counts.S.csv'))"
   ]
  },
  {
   "cell_type": "code",
   "execution_count": 13,
   "metadata": {},
   "outputs": [],
   "source": [
    "tmp = pd.read_csv(os.path.join(datadir, 'feature_selection_update/lowcorr_backup', 'feature.counts.S.csv'))\n",
    "tmp = tmp.drop('Unnamed: 0', axis=1)\n",
    "assert np.array_equal(tmp[tmp.columns.sort_values()].to_numpy(), cnt_df.to_numpy())"
   ]
  },
  {
   "cell_type": "code",
   "execution_count": 14,
   "metadata": {},
   "outputs": [
    {
     "data": {
      "text/plain": [
       "<matplotlib.image.AxesImage at 0x14eb5d9a3090>"
      ]
     },
     "execution_count": 14,
     "metadata": {},
     "output_type": "execute_result"
    },
    {
     "data": {
      "image/png": "[encoded data removed]",
      "text/plain": [
       "<Figure size 700x700 with 1 Axes>"
      ]
     },
     "metadata": {},
     "output_type": "display_data"
    }
   ],
   "source": [
    "plotting.plot_rfecv_feature_heatmap(cnt_df, \n",
    "                                    plot_colorbar=False,\n",
    "                                    fontsize=8,\n",
    "                                    figsize=(7, 7),\n",
    "                                    title='$\\it{N}$ Selected Features')"
   ]
  },
  {
   "cell_type": "code",
   "execution_count": 15,
   "metadata": {},
   "outputs": [],
   "source": [
    "total_cnt_df = CustomRFECV.get_feature_cnts_across_stats(cnt_df)"
   ]
  },
  {
   "cell_type": "code",
   "execution_count": 16,
   "metadata": {},
   "outputs": [
    {
     "data": {
      "text/html": [
       "<div>\n",
       "<style scoped>\n",
       "    .dataframe tbody tr th:only-of-type {\n",
       "        vertical-align: middle;\n",
       "    }\n",
       "\n",
       "    .dataframe tbody tr th {\n",
       "        vertical-align: top;\n",
       "    }\n",
       "\n",
       "    .dataframe thead th {\n",
       "        text-align: right;\n",
       "    }\n",
       "</style>\n",
       "<table border=\"1\" class=\"dataframe\">\n",
       "  <thead>\n",
       "    <tr style=\"text-align: right;\">\n",
       "      <th></th>\n",
       "      <th>index</th>\n",
       "      <th>cnt</th>\n",
       "    </tr>\n",
       "  </thead>\n",
       "  <tbody>\n",
       "    <tr>\n",
       "      <th>36</th>\n",
       "      <td>sig. dom. freq.</td>\n",
       "      <td>18</td>\n",
       "    </tr>\n",
       "    <tr>\n",
       "      <th>1</th>\n",
       "      <td>ratio 2</td>\n",
       "      <td>18</td>\n",
       "    </tr>\n",
       "    <tr>\n",
       "      <th>0</th>\n",
       "      <td>ratio 1</td>\n",
       "      <td>18</td>\n",
       "    </tr>\n",
       "    <tr>\n",
       "      <th>43</th>\n",
       "      <td>distance</td>\n",
       "      <td>18</td>\n",
       "    </tr>\n",
       "    <tr>\n",
       "      <th>42</th>\n",
       "      <td>depth</td>\n",
       "      <td>18</td>\n",
       "    </tr>\n",
       "    <tr>\n",
       "      <th>44</th>\n",
       "      <td>back az.</td>\n",
       "      <td>18</td>\n",
       "    </tr>\n",
       "    <tr>\n",
       "      <th>3</th>\n",
       "      <td>ratio 4</td>\n",
       "      <td>16</td>\n",
       "    </tr>\n",
       "    <tr>\n",
       "      <th>2</th>\n",
       "      <td>ratio 3</td>\n",
       "      <td>16</td>\n",
       "    </tr>\n",
       "    <tr>\n",
       "      <th>17</th>\n",
       "      <td>ratio 18</td>\n",
       "      <td>15</td>\n",
       "    </tr>\n",
       "    <tr>\n",
       "      <th>41</th>\n",
       "      <td>noise var.</td>\n",
       "      <td>13</td>\n",
       "    </tr>\n",
       "    <tr>\n",
       "      <th>9</th>\n",
       "      <td>ratio 10</td>\n",
       "      <td>11</td>\n",
       "    </tr>\n",
       "  </tbody>\n",
       "</table>\n",
       "</div>"
      ],
      "text/plain": [
       "              index  cnt\n",
       "36  sig. dom. freq.   18\n",
       "1           ratio 2   18\n",
       "0           ratio 1   18\n",
       "43         distance   18\n",
       "42            depth   18\n",
       "44         back az.   18\n",
       "3           ratio 4   16\n",
       "2           ratio 3   16\n",
       "17         ratio 18   15\n",
       "41       noise var.   13\n",
       "9          ratio 10   11"
      ]
     },
     "execution_count": 16,
     "metadata": {},
     "output_type": "execute_result"
    }
   ],
   "source": [
    "total_cnt_df[total_cnt_df.cnt > total_cnt_df['cnt'].quantile(0.75)].sort_values(['cnt', 'index'], ascending=False)"
   ]
  },
  {
   "cell_type": "code",
   "execution_count": 17,
   "metadata": {},
   "outputs": [
    {
     "data": {
      "text/plain": [
       "array(['back az.', 'depth', 'distance', 'noise var.', 'ratio 1',\n",
       "       'ratio 10', 'ratio 18', 'ratio 2', 'ratio 3', 'ratio 4',\n",
       "       'sig. dom. freq.'], dtype=object)"
      ]
     },
     "execution_count": 17,
     "metadata": {},
     "output_type": "execute_result"
    }
   ],
   "source": [
    "np.sort(total_cnt_df[total_cnt_df.cnt > total_cnt_df['cnt'].quantile(0.75)]['index'].values)"
   ]
  }
 ],
 "metadata": {
  "kernelspec": {
   "display_name": "featmags",
   "language": "python",
   "name": "python3"
  },
  "language_info": {
   "codemirror_mode": {
    "name": "ipython",
    "version": 3
   },
   "file_extension": ".py",
   "mimetype": "text/x-python",
   "name": "python",
   "nbconvert_exporter": "python",
   "pygments_lexer": "ipython3",
   "version": "3.11.6"
  }
 },
 "nbformat": 4,
 "nbformat_minor": 2
}
