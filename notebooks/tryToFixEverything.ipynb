{
 "cells": [
  {
   "cell_type": "code",
   "execution_count": 1,
   "metadata": {},
   "outputs": [],
   "source": [
    "import numpy as np\n",
    "import pandas as pd\n",
    "from sklearn.base import clone \n",
    "from sklearn.preprocessing import StandardScaler\n",
    "from sklearn.svm import SVR\n",
    "from sklearn.tree import DecisionTreeRegressor\n",
    "from sklearn.model_selection import RepeatedKFold, KFold, GridSearchCV\n",
    "from sklearn.metrics import r2_score\n",
    "from sklearn.feature_selection import RFE, SelectKBest, mutual_info_regression\n",
    "import matplotlib.pyplot as plt\n",
    "import time\n",
    "import json\n",
    "import sys\n",
    "import os\n",
    "# make paths above 'notebooks/' visible for local imports.\n",
    "# +----------------------------------------------------------------------------+\n",
    "module_path = os.path.abspath(os.path.join('..'))\n",
    "if module_path not in sys.path:\n",
    "    sys.path.append(module_path)\n",
    "\n",
    "from src.processing import GatherFeatureDatasets\n",
    "from src.utils import CrossValidation\n",
    "from src.feature_selection import CustomRFECV\n",
    "from src.feature_selection import IntrinsicFeatureSelection as ifs"
   ]
  },
  {
   "cell_type": "markdown",
   "metadata": {},
   "source": [
    "# Load in the data"
   ]
  },
  {
   "cell_type": "code",
   "execution_count": 2,
   "metadata": {},
   "outputs": [],
   "source": [
    "proc = GatherFeatureDatasets(is_p=True)"
   ]
  },
  {
   "cell_type": "code",
   "execution_count": 3,
   "metadata": {},
   "outputs": [],
   "source": [
    "data_dir = '/uufs/chpc.utah.edu/common/home/koper-group3/alysha/magnitudes/feature_splits'\n",
    "all_train_df = pd.read_csv(f'{data_dir}/p.train.csv')"
   ]
  },
  {
   "cell_type": "code",
   "execution_count": 4,
   "metadata": {},
   "outputs": [
    {
     "name": "stdout",
     "output_type": "stream",
     "text": [
      "YUF\n",
      "X shape: (1433, 45), y shape: (1433,)\n"
     ]
    }
   ],
   "source": [
    "# Use station YUF for experimenting with models because it has 1433 training examples, \n",
    "# which is ~half as much as YNR, so training should go faster. But should still be enough \n",
    "# examples for training good models. It is also one of the stations with a \n",
    "# UUSS correction, so already used for magnitude calculations and amplitudes should be good quality. \n",
    "stat = \"YUF\"\n",
    "station_feature_dict, station_meta_dict, feature_names = proc.process_station_datasets(stat, \n",
    "                                                                                        all_train_df,\n",
    "                                                                                        scaler=False,\n",
    "                                                                                        linear_model=False,\n",
    "                                                                                        source_dist_type='dist')"
   ]
  },
  {
   "cell_type": "code",
   "execution_count": 5,
   "metadata": {},
   "outputs": [
    {
     "data": {
      "text/plain": [
       "array(['amp_ratio_1', 'amp_ratio_2', 'amp_ratio_3', 'amp_ratio_4',\n",
       "       'amp_ratio_5', 'amp_ratio_6', 'amp_ratio_7', 'amp_ratio_8',\n",
       "       'amp_ratio_9', 'amp_ratio_10', 'amp_ratio_11', 'amp_ratio_12',\n",
       "       'amp_ratio_13', 'amp_ratio_14', 'amp_ratio_15', 'amp_ratio_16',\n",
       "       'amp_ratio_17', 'amp_ratio_18', 'amp_1', 'amp_2', 'amp_3', 'amp_4',\n",
       "       'amp_5', 'amp_6', 'amp_7', 'amp_8', 'amp_9', 'amp_10', 'amp_11',\n",
       "       'amp_12', 'amp_13', 'amp_14', 'amp_15', 'amp_16', 'amp_17',\n",
       "       'amp_18', 'signal_dominant_frequency', 'signal_dominant_amplitude',\n",
       "       'noise_max_amplitude', 'signal_max_amplitude', 'signal_variance',\n",
       "       'noise_variance', 'source_depth_km',\n",
       "       'source_receiver_distance_logkm',\n",
       "       'source_receiver_back_azimuth_deg'], dtype='<U32')"
      ]
     },
     "execution_count": 5,
     "metadata": {},
     "output_type": "execute_result"
    }
   ],
   "source": [
    "feature_names"
   ]
  },
  {
   "cell_type": "markdown",
   "metadata": {},
   "source": [
    "# RFE to select N\n",
    "\n",
    "Updates I need to make:\n",
    "\n",
    "- RFECV is the outer loop\n",
    "- Select N based on predictor model performance not estimator model performance\n",
    "- tune predictor model hyperparameter for each N for each fold (optional?)\n",
    "- Save the optimal N features from each fold \n",
    "- For each fold, do RFE with relative and absolute location information\n",
    "- Save optimal N features (based on average performance for N over all folds) from the entire training set \n",
    "- Use MI to limit amplitudes and amplitude ratios (optional?)"
   ]
  },
  {
   "cell_type": "code",
   "execution_count": 6,
   "metadata": {},
   "outputs": [],
   "source": [
    "def MI_filter_func(X, y, subsets, K, verbose=False):\n",
    "    other_inds = np.arange(0, X.shape[1])[np.isin(np.arange(0, X.shape[1]), np.concatenate(subsets), invert=True)]\n",
    "    filtered_inds = np.zeros((len(subsets), K), dtype=int)\n",
    "    for i, subset in enumerate(subsets):\n",
    "        Xi = X[:, subset]\n",
    "        yi = y[:]\n",
    "        filtered_inds[i, :] = subset[np.argsort(-1*ifs.mutual_reg_feature_selection(Xi, yi).scores_)[0:K]]\n",
    "    new_inds = np.sort(np.concatenate([other_inds, filtered_inds.flatten()]))\n",
    "    return filtered_inds, new_inds"
   ]
  },
  {
   "cell_type": "code",
   "execution_count": 7,
   "metadata": {},
   "outputs": [],
   "source": [
    "### Set Parameters ###\n",
    "cv_random_state=2652124\n",
    "# The model to used to estimate feature importance \n",
    "estimator_model =  DecisionTreeRegressor()\n",
    "# Boolean - True if data for estimator_model needs to be scaled\n",
    "estimator_scaler = False\n",
    "# The main model to fit\n",
    "predictor_model = SVR(kernel='rbf')\n",
    "# Boolean - True if data for model needs to be scaled \n",
    "model_scaler = True\n",
    "# The scoring method to use in RFECV and GridCV\n",
    "scoring_method = 'r2'\n",
    "# The function used to evaluate the performance on the test model\n",
    "score_func = r2_score\n",
    "# True if a larger score_func value is better\n",
    "larger_score_is_better = True\n",
    "# The parameter space for GridCV to search\n",
    "# Decrease upper-limit of C for linear model because 100 is very slow \n",
    "svr_Cspace = [1, 10, 100]\n",
    "svr_gspace = [0.1, 0.01, 0.001]\n",
    "param_grid = [\n",
    "    {'m__C': svr_Cspace, 'm__gamma': svr_gspace},\n",
    "]\n",
    "# The number of jobs for RFECV and GridCV to use\n",
    "n_jobs = 10\n",
    "# number of folds for outer CV\n",
    "cv_folds_outer = 10\n",
    "# number of times to repeat outer CV\n",
    "n_outer_repeats = 1\n",
    "# number of folds for inner CV (used for hyperparameter tuning)\n",
    "cv_folds_inner = 5\n",
    "# number of folds for the final hyperparameter grid search\n",
    "cv_folds_hp = 10\n",
    "# Run grid search over all features\n",
    "run_gridsearchcv_all = True\n",
    "\n",
    "### Intrisic feature selection information \n",
    "# Function that takes in X, y, list of np arrays containing \n",
    "# the indices of features to filter, and K features to select\n",
    "intrinsic_filter_func = MI_filter_func\n",
    "if_feat_inds = [np.arange(0, 18), np.arange(18, 36)]\n",
    "if_K = 5\n",
    "#####################"
   ]
  },
  {
   "cell_type": "code",
   "execution_count": 8,
   "metadata": {},
   "outputs": [
    {
     "name": "stdout",
     "output_type": "stream",
     "text": [
      "reducing features to 19\n",
      "Fold 0: N=12, test_score=0.845\n",
      "reducing features to 19\n",
      "Fold 1: N=14, test_score=0.944\n",
      "reducing features to 19\n",
      "Fold 2: N=18, test_score=0.907\n",
      "reducing features to 19\n",
      "Fold 3: N=9, test_score=0.937\n",
      "reducing features to 19\n",
      "Fold 4: N=17, test_score=0.906\n",
      "reducing features to 19\n",
      "Fold 5: N=14, test_score=0.922\n",
      "reducing features to 19\n",
      "Fold 6: N=14, test_score=0.925\n",
      "reducing features to 19\n",
      "Fold 7: N=15, test_score=0.862\n",
      "reducing features to 19\n",
      "Fold 8: N=18, test_score=0.886\n",
      "reducing features to 19\n",
      "Fold 9: N=16, test_score=0.895\n",
      "total time: 423.35 s\n",
      "Selected number of features: 15 (avg. score of 0.90)\n"
     ]
    }
   ],
   "source": [
    "N_feats_to_use, feat_selection_results = CustomRFECV.do_rfecv(station_feature_dict['X_train'],\n",
    "                                                            station_meta_dict['y_train'],\n",
    "                                                            estimator_model,\n",
    "                                                            predictor_model,\n",
    "                                                            param_grid,\n",
    "                                                            estimator_scaler=estimator_scaler,\n",
    "                                                            predictor_scaler=model_scaler,\n",
    "                                                            score_func=score_func,\n",
    "                                                            scoring_method=scoring_method,\n",
    "                                                            n_jobs=n_jobs,\n",
    "                                                            cv_folds_outer=cv_folds_outer,\n",
    "                                                            cv_folds_inner=cv_folds_inner,\n",
    "                                                            n_outer_repeats=n_outer_repeats,\n",
    "                                                            cv_random_state=cv_random_state,\n",
    "                                                            larger_score_is_better=larger_score_is_better,\n",
    "                                                            intrinsic_filter_func=ifs.MI_filter_func,\n",
    "                                                            feature_inds_to_filter=if_feat_inds,\n",
    "                                                            intrinsic_filter_K=if_K\n",
    "                                                            )"
   ]
  },
  {
   "cell_type": "code",
   "execution_count": 11,
   "metadata": {},
   "outputs": [],
   "source": [
    "full_score_array = feat_selection_results['RFECV_N_scores']\n",
    "N_avgs = np.average(full_score_array, axis=0)\n",
    "N_min = np.min(full_score_array, axis=0)\n",
    "N_max = np.max(full_score_array, axis=0)"
   ]
  },
  {
   "cell_type": "code",
   "execution_count": 12,
   "metadata": {},
   "outputs": [
    {
     "data": {
      "text/plain": [
       "<matplotlib.collections.PathCollection at 0x1461602b5dd0>"
      ]
     },
     "execution_count": 12,
     "metadata": {},
     "output_type": "execute_result"
    },
    {
     "data": {
      "image/png": "[encoded data removed]",
      "text/plain": [
       "<Figure size 640x480 with 1 Axes>"
      ]
     },
     "metadata": {},
     "output_type": "display_data"
    }
   ],
   "source": [
    "x = np.arange(N_avgs.shape[0])+1\n",
    "plt.fill_between(x, N_min, N_max, alpha=0.5)\n",
    "plt.scatter(x, N_avgs, color='C0')\n",
    "plt.scatter(N_feats_to_use, N_avgs[N_feats_to_use-1], marker=\"x\", color='r')\n"
   ]
  },
  {
   "cell_type": "markdown",
   "metadata": {},
   "source": [
    "# Get N features from entire training set (with same MI filtering and RFE with N features)"
   ]
  },
  {
   "cell_type": "markdown",
   "metadata": {},
   "source": []
  }
 ],
 "metadata": {
  "kernelspec": {
   "display_name": "featmags",
   "language": "python",
   "name": "python3"
  },
  "language_info": {
   "codemirror_mode": {
    "name": "ipython",
    "version": 3
   },
   "file_extension": ".py",
   "mimetype": "text/x-python",
   "name": "python",
   "nbconvert_exporter": "python",
   "pygments_lexer": "ipython3",
   "version": "3.11.6"
  }
 },
 "nbformat": 4,
 "nbformat_minor": 2
}
