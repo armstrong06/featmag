{
 "cells": [
  {
   "cell_type": "code",
   "execution_count": 1,
   "metadata": {},
   "outputs": [],
   "source": [
    "import os\n",
    "import pandas as pd\n",
    "import numpy as np\n",
    "import matplotlib.pyplot as plt\n",
    "from matplotlib.ticker import MultipleLocator\n",
    "from matplotlib.lines import Line2D\n",
    "from sklearn.metrics import r2_score\n",
    "import os\n",
    "import sys\n",
    "module_path = os.path.abspath(os.path.join('../..'))\n",
    "if module_path not in sys.path:\n",
    "    sys.path.append(module_path)\n",
    "\n",
    "from src.utils import combine_prediction_files, compute_network_avg_prediction\n",
    "from src import plotting #import r2_boxplots"
   ]
  },
  {
   "cell_type": "markdown",
   "metadata": {},
   "source": [
    "# Load splits"
   ]
  },
  {
   "cell_type": "code",
   "execution_count": 2,
   "metadata": {},
   "outputs": [],
   "source": [
    "magdir = '/uufs/chpc.utah.edu/common/home/koper-group3/alysha/magnitudes'\n",
    "p_test_df = pd.read_csv(os.path.join(magdir, 'feature_splits', 'p.test.csv'))\n",
    "p_2023_df = pd.read_csv(os.path.join(magdir, 'feature_splits','p.20230101.csv'))\n",
    "s_test_df = pd.read_csv(os.path.join(magdir, 'feature_splits','s.test.csv'))\n",
    "s_2023_df = pd.read_csv(os.path.join(magdir, 'feature_splits','s.20230101.csv'))\n",
    "p_train_df = pd.read_csv(os.path.join(magdir, 'feature_splits', 'p.train.csv'))\n",
    "s_train_df = pd.read_csv(os.path.join(magdir, 'feature_splits','s.train.csv'))"
   ]
  },
  {
   "cell_type": "code",
   "execution_count": 3,
   "metadata": {},
   "outputs": [],
   "source": [
    "p_test_evids = p_test_df['Evid'].unique()\n",
    "p_2023_evids = p_2023_df['Evid'].unique()\n",
    "s_test_evids = s_test_df['Evid'].unique()\n",
    "s_2023_evids = s_2023_df['Evid'].unique()\n",
    "p_train_evids = p_train_df['Evid'].unique()\n",
    "s_train_evids = s_train_df['Evid'].unique()"
   ]
  },
  {
   "cell_type": "markdown",
   "metadata": {},
   "source": [
    "# Load YP21 catalogs"
   ]
  },
  {
   "cell_type": "code",
   "execution_count": null,
   "metadata": {},
   "outputs": [],
   "source": [
    "ypml_amps = pd.read_csv(f'../../data/catalogs/yellowstone.amps.ypml-v5.2024.csv')"
   ]
  },
  {
   "cell_type": "markdown",
   "metadata": {},
   "source": [
    "# Load predictions and results"
   ]
  },
  {
   "cell_type": "code",
   "execution_count": 5,
   "metadata": {},
   "outputs": [],
   "source": [
    "allfeatdir = \"all_features_constHP\"\n",
    "selectedfeatdir = \"selected_features_constHP\"\n",
    "summfilename = 'all.stat.results.csv'\n",
    "p_resultsdir = os.path.join(magdir, 'p_models')\n",
    "s_resultsdir = os.path.join(magdir, 's_models')"
   ]
  },
  {
   "cell_type": "code",
   "execution_count": 6,
   "metadata": {},
   "outputs": [],
   "source": [
    "p_sub_results = pd.read_csv(os.path.join(p_resultsdir, selectedfeatdir, summfilename))\n",
    "s_sub_results = pd.read_csv(os.path.join(s_resultsdir, selectedfeatdir, summfilename))\n",
    "\n",
    "p_all_results = pd.read_csv(os.path.join(p_resultsdir, allfeatdir, summfilename))\n",
    "s_all_results = pd.read_csv(os.path.join(s_resultsdir, allfeatdir, summfilename))"
   ]
  },
  {
   "cell_type": "code",
   "execution_count": 7,
   "metadata": {},
   "outputs": [
    {
     "name": "stdout",
     "output_type": "stream",
     "text": [
      "/uufs/chpc.utah.edu/common/home/koper-group3/alysha/magnitudes/p_models/selected_features_constHP/B207.P.preds.holdout.csv does not exist, skipping...\n",
      "/uufs/chpc.utah.edu/common/home/koper-group3/alysha/magnitudes/p_models/selected_features_constHP/H17A.P.preds.holdout.csv does not exist, skipping...\n",
      "/uufs/chpc.utah.edu/common/home/koper-group3/alysha/magnitudes/p_models/selected_features_constHP/B208.P.preds.holdout.csv does not exist, skipping...\n",
      "/uufs/chpc.utah.edu/common/home/koper-group3/alysha/magnitudes/p_models/selected_features_constHP/B944.P.preds.holdout.csv does not exist, skipping...\n",
      "/uufs/chpc.utah.edu/common/home/koper-group3/alysha/magnitudes/p_models/selected_features_constHP/B206.P.preds.holdout.csv does not exist, skipping...\n",
      "/uufs/chpc.utah.edu/common/home/koper-group3/alysha/magnitudes/p_models/selected_features_constHP/B950.P.preds.holdout.csv does not exist, skipping...\n"
     ]
    }
   ],
   "source": [
    "p_stats = p_test_df.station.unique()\n",
    "p_sub_test_preds = combine_prediction_files(p_stats,\n",
    "                                            os.path.join(p_resultsdir, selectedfeatdir),\n",
    "                                            'P',\n",
    "                                            'test')\n",
    "\n",
    "p_sub_2023_preds = combine_prediction_files(p_stats,\n",
    "                                            os.path.join(p_resultsdir, selectedfeatdir),\n",
    "                                            'P',\n",
    "                                            'holdout')"
   ]
  },
  {
   "cell_type": "code",
   "execution_count": 8,
   "metadata": {},
   "outputs": [
    {
     "name": "stdout",
     "output_type": "stream",
     "text": [
      "/uufs/chpc.utah.edu/common/home/koper-group3/alysha/magnitudes/p_models/all_features_constHP/B207.P.preds.holdout.csv does not exist, skipping...\n",
      "/uufs/chpc.utah.edu/common/home/koper-group3/alysha/magnitudes/p_models/all_features_constHP/H17A.P.preds.holdout.csv does not exist, skipping...\n",
      "/uufs/chpc.utah.edu/common/home/koper-group3/alysha/magnitudes/p_models/all_features_constHP/B208.P.preds.holdout.csv does not exist, skipping...\n",
      "/uufs/chpc.utah.edu/common/home/koper-group3/alysha/magnitudes/p_models/all_features_constHP/B944.P.preds.holdout.csv does not exist, skipping...\n",
      "/uufs/chpc.utah.edu/common/home/koper-group3/alysha/magnitudes/p_models/all_features_constHP/B206.P.preds.holdout.csv does not exist, skipping...\n",
      "/uufs/chpc.utah.edu/common/home/koper-group3/alysha/magnitudes/p_models/all_features_constHP/B950.P.preds.holdout.csv does not exist, skipping...\n"
     ]
    }
   ],
   "source": [
    "p_all_test_preds = combine_prediction_files(p_stats,\n",
    "                                            os.path.join(p_resultsdir, allfeatdir),\n",
    "                                            'P',\n",
    "                                            'test')\n",
    "\n",
    "p_all_2023_preds = combine_prediction_files(p_stats,\n",
    "                                            os.path.join(p_resultsdir, allfeatdir),\n",
    "                                            'P',\n",
    "                                            'holdout')"
   ]
  },
  {
   "cell_type": "code",
   "execution_count": 9,
   "metadata": {},
   "outputs": [
    {
     "name": "stdout",
     "output_type": "stream",
     "text": [
      "/uufs/chpc.utah.edu/common/home/koper-group3/alysha/magnitudes/s_models/selected_features_constHP/B207.S.preds.holdout.csv does not exist, skipping...\n",
      "/uufs/chpc.utah.edu/common/home/koper-group3/alysha/magnitudes/s_models/selected_features_constHP/B206.S.preds.holdout.csv does not exist, skipping...\n",
      "/uufs/chpc.utah.edu/common/home/koper-group3/alysha/magnitudes/s_models/selected_features_constHP/B950.S.preds.holdout.csv does not exist, skipping...\n"
     ]
    }
   ],
   "source": [
    "s_stats = s_test_df.station.unique()\n",
    "s_sub_test_preds = combine_prediction_files(s_stats,\n",
    "                                            os.path.join(s_resultsdir, selectedfeatdir),\n",
    "                                            'S',\n",
    "                                            'test')\n",
    "\n",
    "s_sub_2023_preds = combine_prediction_files(s_stats,\n",
    "                                            os.path.join(s_resultsdir, selectedfeatdir),\n",
    "                                            'S',\n",
    "                                            'holdout')"
   ]
  },
  {
   "cell_type": "code",
   "execution_count": 10,
   "metadata": {},
   "outputs": [
    {
     "name": "stdout",
     "output_type": "stream",
     "text": [
      "/uufs/chpc.utah.edu/common/home/koper-group3/alysha/magnitudes/s_models/all_features_constHP/B207.S.preds.holdout.csv does not exist, skipping...\n",
      "/uufs/chpc.utah.edu/common/home/koper-group3/alysha/magnitudes/s_models/all_features_constHP/B206.S.preds.holdout.csv does not exist, skipping...\n",
      "/uufs/chpc.utah.edu/common/home/koper-group3/alysha/magnitudes/s_models/all_features_constHP/B950.S.preds.holdout.csv does not exist, skipping...\n"
     ]
    }
   ],
   "source": [
    "s_all_test_preds = combine_prediction_files(s_stats,\n",
    "                                            os.path.join(s_resultsdir, allfeatdir),\n",
    "                                            'S',\n",
    "                                            'test')\n",
    "\n",
    "s_all_2023_preds = combine_prediction_files(s_stats,\n",
    "                                            os.path.join(s_resultsdir, allfeatdir),\n",
    "                                            'S',\n",
    "                                            'holdout')"
   ]
  },
  {
   "cell_type": "markdown",
   "metadata": {},
   "source": [
    "# Compute network averages and their $R^2$ values"
   ]
  },
  {
   "cell_type": "code",
   "execution_count": 11,
   "metadata": {},
   "outputs": [],
   "source": [
    "p_all_test_avg = compute_network_avg_prediction(p_all_test_preds)\n",
    "p_all_2023_avg = compute_network_avg_prediction(p_all_2023_preds)\n",
    "\n",
    "p_sub_test_avg = compute_network_avg_prediction(p_sub_test_preds)\n",
    "p_sub_2023_avg = compute_network_avg_prediction(p_sub_2023_preds)"
   ]
  },
  {
   "cell_type": "code",
   "execution_count": 12,
   "metadata": {},
   "outputs": [],
   "source": [
    "s_all_test_avg = compute_network_avg_prediction(s_all_test_preds)\n",
    "s_all_2023_avg = compute_network_avg_prediction(s_all_2023_preds)\n",
    "\n",
    "s_sub_test_avg = compute_network_avg_prediction(s_sub_test_preds)\n",
    "s_sub_2023_avg = compute_network_avg_prediction(s_sub_2023_preds)"
   ]
  },
  {
   "cell_type": "code",
   "execution_count": 16,
   "metadata": {},
   "outputs": [],
   "source": [
    "def get_r2(df):\n",
    "    return r2_score(df['magnitude'],\n",
    "                    df['predicted_magnitude'])"
   ]
  },
  {
   "cell_type": "code",
   "execution_count": 17,
   "metadata": {},
   "outputs": [],
   "source": [
    "p_all_test_avg_r2 = get_r2(p_all_test_avg)\n",
    "p_all_2023_avg_r2 = get_r2(p_all_2023_avg)\n",
    "\n",
    "p_sub_test_avg_r2 = get_r2(p_sub_test_avg)\n",
    "p_sub_2023_avg_r2 = get_r2(p_sub_2023_avg)"
   ]
  },
  {
   "cell_type": "code",
   "execution_count": 18,
   "metadata": {},
   "outputs": [],
   "source": [
    "s_all_test_avg_r2 = get_r2(s_all_test_avg)\n",
    "s_all_2023_avg_r2 = get_r2(s_all_2023_avg)\n",
    "\n",
    "s_sub_test_avg_r2 = get_r2(s_sub_test_avg)\n",
    "s_sub_2023_avg_r2 = get_r2(s_sub_2023_avg)"
   ]
  },
  {
   "cell_type": "code",
   "execution_count": 19,
   "metadata": {},
   "outputs": [
    {
     "name": "stdout",
     "output_type": "stream",
     "text": [
      "0.9471979247557927 0.9433888998965212\n",
      "0.94899629484207 0.9466558772009794\n"
     ]
    }
   ],
   "source": [
    "print(p_all_test_avg_r2, p_all_2023_avg_r2)\n",
    "print(p_sub_test_avg_r2, p_sub_2023_avg_r2)"
   ]
  },
  {
   "cell_type": "code",
   "execution_count": 20,
   "metadata": {},
   "outputs": [
    {
     "name": "stdout",
     "output_type": "stream",
     "text": [
      "0.9423483755502344 0.9498863821108356\n",
      "0.9518536729154369 0.959452684910144\n"
     ]
    }
   ],
   "source": [
    "print(s_all_test_avg_r2, s_all_2023_avg_r2)\n",
    "print(s_sub_test_avg_r2, s_sub_2023_avg_r2)"
   ]
  },
  {
   "cell_type": "markdown",
   "metadata": {},
   "source": [
    "# $R^2$ summary plots"
   ]
  },
  {
   "cell_type": "code",
   "execution_count": 16,
   "metadata": {},
   "outputs": [],
   "source": [
    "plotting.set_default_fontsizes()"
   ]
  },
  {
   "cell_type": "code",
   "execution_count": 17,
   "metadata": {},
   "outputs": [],
   "source": [
    "boxplots_dict = {'sub_results':{'P':p_sub_results, 'S':s_sub_results},\n",
    "                   'all_results':{'P':p_all_results, 'S':s_all_results},\n",
    "                    }\n",
    "scatter_dict = {\n",
    "            'sub_results':{'P':{'test_r2':p_sub_test_avg_r2, 'holdout_r2':p_sub_2023_avg_r2},\n",
    "                           'S':{'test_r2':s_sub_test_avg_r2, 'holdout_r2':s_sub_2023_avg_r2}},\n",
    "            'all_results':{'P':{'test_r2':p_all_test_avg_r2, 'holdout_r2':p_all_2023_avg_r2},\n",
    "                           'S':{'test_r2':s_all_test_avg_r2, 'holdout_r2':s_all_2023_avg_r2}}\n",
    "}\n",
    "label_dict = {'sub_results': '7 features',\n",
    "              'all_results':'45 features',\n",
    "              'yp21_stat_results':'Station $M_{L,YP21}$',\n",
    "              'scatter': 'Network Avg.'}"
   ]
  },
  {
   "cell_type": "code",
   "execution_count": 18,
   "metadata": {},
   "outputs": [
    {
     "data": {
      "image/png": "[encoded data removed]",
      "text/plain": [
       "<Figure size 640x480 with 2 Axes>"
      ]
     },
     "metadata": {},
     "output_type": "display_data"
    }
   ],
   "source": [
    "plotting.r2_boxplots(boxplots_dict, scatter_dict, label_dict, \n",
    "            xtick_locs=[0, 0.75, 1.5],\n",
    "            xlims=[-0.25, 2])"
   ]
  },
  {
   "cell_type": "code",
   "execution_count": 19,
   "metadata": {},
   "outputs": [
    {
     "name": "stdout",
     "output_type": "stream",
     "text": [
      "0.599\n"
     ]
    },
    {
     "data": {
      "text/html": [
       "<div>\n",
       "<style scoped>\n",
       "    .dataframe tbody tr th:only-of-type {\n",
       "        vertical-align: middle;\n",
       "    }\n",
       "\n",
       "    .dataframe tbody tr th {\n",
       "        vertical-align: top;\n",
       "    }\n",
       "\n",
       "    .dataframe thead th {\n",
       "        text-align: right;\n",
       "    }\n",
       "</style>\n",
       "<table border=\"1\" class=\"dataframe\">\n",
       "  <thead>\n",
       "    <tr style=\"text-align: right;\">\n",
       "      <th></th>\n",
       "      <th>train_r2</th>\n",
       "      <th>test_r2</th>\n",
       "      <th>holdout_r2</th>\n",
       "    </tr>\n",
       "  </thead>\n",
       "  <tbody>\n",
       "    <tr>\n",
       "      <th>min</th>\n",
       "      <td>0.794</td>\n",
       "      <td>0.758</td>\n",
       "      <td>-3.616</td>\n",
       "    </tr>\n",
       "    <tr>\n",
       "      <th>max</th>\n",
       "      <td>0.951</td>\n",
       "      <td>0.939</td>\n",
       "      <td>0.940</td>\n",
       "    </tr>\n",
       "    <tr>\n",
       "      <th>50%</th>\n",
       "      <td>0.901</td>\n",
       "      <td>0.878</td>\n",
       "      <td>0.830</td>\n",
       "    </tr>\n",
       "  </tbody>\n",
       "</table>\n",
       "</div>"
      ],
      "text/plain": [
       "     train_r2  test_r2  holdout_r2\n",
       "min     0.794    0.758      -3.616\n",
       "max     0.951    0.939       0.940\n",
       "50%     0.901    0.878       0.830"
      ]
     },
     "execution_count": 19,
     "metadata": {},
     "output_type": "execute_result"
    }
   ],
   "source": [
    "print(p_all_results[p_all_results['holdout_r2'] > 0]['holdout_r2'].min())\n",
    "p_all_results[['train_r2', 'test_r2', 'holdout_r2']].describe().loc[['min', 'max', '50%']]"
   ]
  },
  {
   "cell_type": "code",
   "execution_count": 20,
   "metadata": {},
   "outputs": [
    {
     "name": "stdout",
     "output_type": "stream",
     "text": [
      "0.138\n"
     ]
    },
    {
     "data": {
      "text/html": [
       "<div>\n",
       "<style scoped>\n",
       "    .dataframe tbody tr th:only-of-type {\n",
       "        vertical-align: middle;\n",
       "    }\n",
       "\n",
       "    .dataframe tbody tr th {\n",
       "        vertical-align: top;\n",
       "    }\n",
       "\n",
       "    .dataframe thead th {\n",
       "        text-align: right;\n",
       "    }\n",
       "</style>\n",
       "<table border=\"1\" class=\"dataframe\">\n",
       "  <thead>\n",
       "    <tr style=\"text-align: right;\">\n",
       "      <th></th>\n",
       "      <th>train_r2</th>\n",
       "      <th>test_r2</th>\n",
       "      <th>holdout_r2</th>\n",
       "    </tr>\n",
       "  </thead>\n",
       "  <tbody>\n",
       "    <tr>\n",
       "      <th>min</th>\n",
       "      <td>0.8580</td>\n",
       "      <td>0.7920</td>\n",
       "      <td>-0.443</td>\n",
       "    </tr>\n",
       "    <tr>\n",
       "      <th>max</th>\n",
       "      <td>0.9690</td>\n",
       "      <td>0.9610</td>\n",
       "      <td>0.955</td>\n",
       "    </tr>\n",
       "    <tr>\n",
       "      <th>50%</th>\n",
       "      <td>0.9365</td>\n",
       "      <td>0.9035</td>\n",
       "      <td>0.875</td>\n",
       "    </tr>\n",
       "  </tbody>\n",
       "</table>\n",
       "</div>"
      ],
      "text/plain": [
       "     train_r2  test_r2  holdout_r2\n",
       "min    0.8580   0.7920      -0.443\n",
       "max    0.9690   0.9610       0.955\n",
       "50%    0.9365   0.9035       0.875"
      ]
     },
     "execution_count": 20,
     "metadata": {},
     "output_type": "execute_result"
    }
   ],
   "source": [
    "print(s_all_results[s_all_results['holdout_r2'] > 0]['holdout_r2'].min())\n",
    "s_all_results[['train_r2', 'test_r2', 'holdout_r2']].describe().loc[['min', 'max', '50%']]"
   ]
  },
  {
   "cell_type": "code",
   "execution_count": 21,
   "metadata": {},
   "outputs": [
    {
     "name": "stdout",
     "output_type": "stream",
     "text": [
      "0.618\n"
     ]
    },
    {
     "data": {
      "text/html": [
       "<div>\n",
       "<style scoped>\n",
       "    .dataframe tbody tr th:only-of-type {\n",
       "        vertical-align: middle;\n",
       "    }\n",
       "\n",
       "    .dataframe tbody tr th {\n",
       "        vertical-align: top;\n",
       "    }\n",
       "\n",
       "    .dataframe thead th {\n",
       "        text-align: right;\n",
       "    }\n",
       "</style>\n",
       "<table border=\"1\" class=\"dataframe\">\n",
       "  <thead>\n",
       "    <tr style=\"text-align: right;\">\n",
       "      <th></th>\n",
       "      <th>train_r2</th>\n",
       "      <th>test_r2</th>\n",
       "      <th>holdout_r2</th>\n",
       "    </tr>\n",
       "  </thead>\n",
       "  <tbody>\n",
       "    <tr>\n",
       "      <th>min</th>\n",
       "      <td>0.817</td>\n",
       "      <td>0.766</td>\n",
       "      <td>-3.866</td>\n",
       "    </tr>\n",
       "    <tr>\n",
       "      <th>max</th>\n",
       "      <td>0.954</td>\n",
       "      <td>0.934</td>\n",
       "      <td>0.916</td>\n",
       "    </tr>\n",
       "    <tr>\n",
       "      <th>50%</th>\n",
       "      <td>0.909</td>\n",
       "      <td>0.887</td>\n",
       "      <td>0.822</td>\n",
       "    </tr>\n",
       "  </tbody>\n",
       "</table>\n",
       "</div>"
      ],
      "text/plain": [
       "     train_r2  test_r2  holdout_r2\n",
       "min     0.817    0.766      -3.866\n",
       "max     0.954    0.934       0.916\n",
       "50%     0.909    0.887       0.822"
      ]
     },
     "execution_count": 21,
     "metadata": {},
     "output_type": "execute_result"
    }
   ],
   "source": [
    "print(p_sub_results[p_sub_results['holdout_r2'] > 0]['holdout_r2'].min())\n",
    "p_sub_results[['train_r2', 'test_r2', 'holdout_r2']].describe().loc[['min', 'max', '50%']]"
   ]
  },
  {
   "cell_type": "code",
   "execution_count": 22,
   "metadata": {},
   "outputs": [
    {
     "name": "stdout",
     "output_type": "stream",
     "text": [
      "0.66\n"
     ]
    },
    {
     "data": {
      "text/html": [
       "<div>\n",
       "<style scoped>\n",
       "    .dataframe tbody tr th:only-of-type {\n",
       "        vertical-align: middle;\n",
       "    }\n",
       "\n",
       "    .dataframe tbody tr th {\n",
       "        vertical-align: top;\n",
       "    }\n",
       "\n",
       "    .dataframe thead th {\n",
       "        text-align: right;\n",
       "    }\n",
       "</style>\n",
       "<table border=\"1\" class=\"dataframe\">\n",
       "  <thead>\n",
       "    <tr style=\"text-align: right;\">\n",
       "      <th></th>\n",
       "      <th>train_r2</th>\n",
       "      <th>test_r2</th>\n",
       "      <th>holdout_r2</th>\n",
       "    </tr>\n",
       "  </thead>\n",
       "  <tbody>\n",
       "    <tr>\n",
       "      <th>min</th>\n",
       "      <td>0.857</td>\n",
       "      <td>0.8160</td>\n",
       "      <td>-0.982</td>\n",
       "    </tr>\n",
       "    <tr>\n",
       "      <th>max</th>\n",
       "      <td>0.964</td>\n",
       "      <td>0.9590</td>\n",
       "      <td>0.961</td>\n",
       "    </tr>\n",
       "    <tr>\n",
       "      <th>50%</th>\n",
       "      <td>0.948</td>\n",
       "      <td>0.9155</td>\n",
       "      <td>0.902</td>\n",
       "    </tr>\n",
       "  </tbody>\n",
       "</table>\n",
       "</div>"
      ],
      "text/plain": [
       "     train_r2  test_r2  holdout_r2\n",
       "min     0.857   0.8160      -0.982\n",
       "max     0.964   0.9590       0.961\n",
       "50%     0.948   0.9155       0.902"
      ]
     },
     "execution_count": 22,
     "metadata": {},
     "output_type": "execute_result"
    }
   ],
   "source": [
    "print(s_sub_results[s_sub_results['holdout_r2'] > 0]['holdout_r2'].min())\n",
    "s_sub_results[['train_r2', 'test_r2', 'holdout_r2']].describe().loc[['min', 'max', '50%']]"
   ]
  },
  {
   "cell_type": "markdown",
   "metadata": {},
   "source": [
    "## Add YP21 station $R^2$ into plots"
   ]
  },
  {
   "cell_type": "code",
   "execution_count": 23,
   "metadata": {},
   "outputs": [
    {
     "name": "stderr",
     "output_type": "stream",
     "text": [
      "/uufs/chpc.utah.edu/common/home/u1072028/software/pkg/miniconda3/envs/featmags/lib/python3.11/site-packages/sklearn/metrics/_regression.py:918: UndefinedMetricWarning: R^2 score is not well-defined with less than two samples.\n",
      "  warnings.warn(msg, UndefinedMetricWarning)\n",
      "/uufs/chpc.utah.edu/common/home/u1072028/software/pkg/miniconda3/envs/featmags/lib/python3.11/site-packages/sklearn/metrics/_regression.py:918: UndefinedMetricWarning: R^2 score is not well-defined with less than two samples.\n",
      "  warnings.warn(msg, UndefinedMetricWarning)\n"
     ]
    }
   ],
   "source": [
    "p_ypml_test_r2_vals = ypml_amps[ypml_amps['Evid'].isin(p_test_evids)].groupby('Sta').apply(lambda x: r2_score(x['Event-Mean-YPML-S'], x['Station-YPML-S'])).dropna()\n",
    "p_ypml_2023_r2_vals = ypml_amps[ypml_amps['Evid'].isin(p_2023_evids)].groupby('Sta').apply(lambda x: r2_score(x['Event-Mean-YPML-S'], x['Station-YPML-S'])).dropna()\n",
    "p_ypml_train_r2_vals = ypml_amps[ypml_amps['Evid'].isin(p_train_evids)].groupby('Sta').apply(lambda x: r2_score(x['Event-Mean-YPML-S'], x['Station-YPML-S'])).dropna()\n",
    "\n",
    "s_ypml_test_r2_vals = ypml_amps[ypml_amps['Evid'].isin(s_test_evids)].groupby('Sta').apply(lambda x: r2_score(x['Event-Mean-YPML-S'], x['Station-YPML-S'])).dropna()\n",
    "s_ypml_2023_r2_vals = ypml_amps[ypml_amps['Evid'].isin(s_2023_evids)].groupby('Sta').apply(lambda x: r2_score(x['Event-Mean-YPML-S'], x['Station-YPML-S'])).dropna()\n",
    "s_ypml_train_r2_vals = ypml_amps[ypml_amps['Evid'].isin(s_train_evids)].groupby('Sta').apply(lambda x: r2_score(x['Event-Mean-YPML-S'], x['Station-YPML-S'])).dropna()\n"
   ]
  },
  {
   "cell_type": "code",
   "execution_count": 24,
   "metadata": {},
   "outputs": [
    {
     "data": {
      "text/html": [
       "<div>\n",
       "<style scoped>\n",
       "    .dataframe tbody tr th:only-of-type {\n",
       "        vertical-align: middle;\n",
       "    }\n",
       "\n",
       "    .dataframe tbody tr th {\n",
       "        vertical-align: top;\n",
       "    }\n",
       "\n",
       "    .dataframe thead th {\n",
       "        text-align: right;\n",
       "    }\n",
       "</style>\n",
       "<table border=\"1\" class=\"dataframe\">\n",
       "  <thead>\n",
       "    <tr style=\"text-align: right;\">\n",
       "      <th></th>\n",
       "      <th>station</th>\n",
       "      <th>train_r2</th>\n",
       "      <th>test_r2</th>\n",
       "      <th>holdout_r2</th>\n",
       "    </tr>\n",
       "  </thead>\n",
       "  <tbody>\n",
       "    <tr>\n",
       "      <th>0</th>\n",
       "      <td>AHID</td>\n",
       "      <td>0.335074</td>\n",
       "      <td>0.324362</td>\n",
       "      <td>0.383105</td>\n",
       "    </tr>\n",
       "    <tr>\n",
       "      <th>1</th>\n",
       "      <td>BOZ</td>\n",
       "      <td>0.809338</td>\n",
       "      <td>0.805967</td>\n",
       "      <td>0.776239</td>\n",
       "    </tr>\n",
       "    <tr>\n",
       "      <th>2</th>\n",
       "      <td>BW06</td>\n",
       "      <td>0.438596</td>\n",
       "      <td>0.437123</td>\n",
       "      <td>0.698975</td>\n",
       "    </tr>\n",
       "    <tr>\n",
       "      <th>3</th>\n",
       "      <td>LKWY</td>\n",
       "      <td>0.926772</td>\n",
       "      <td>0.929881</td>\n",
       "      <td>0.958450</td>\n",
       "    </tr>\n",
       "    <tr>\n",
       "      <th>5</th>\n",
       "      <td>YFT</td>\n",
       "      <td>0.923349</td>\n",
       "      <td>0.932485</td>\n",
       "      <td>0.894205</td>\n",
       "    </tr>\n",
       "    <tr>\n",
       "      <th>6</th>\n",
       "      <td>YHB</td>\n",
       "      <td>0.883897</td>\n",
       "      <td>0.875645</td>\n",
       "      <td>0.922395</td>\n",
       "    </tr>\n",
       "    <tr>\n",
       "      <th>7</th>\n",
       "      <td>YMR</td>\n",
       "      <td>0.941443</td>\n",
       "      <td>0.942105</td>\n",
       "      <td>0.917991</td>\n",
       "    </tr>\n",
       "    <tr>\n",
       "      <th>8</th>\n",
       "      <td>YNR</td>\n",
       "      <td>0.934513</td>\n",
       "      <td>0.935353</td>\n",
       "      <td>0.939594</td>\n",
       "    </tr>\n",
       "    <tr>\n",
       "      <th>9</th>\n",
       "      <td>YUF</td>\n",
       "      <td>0.913129</td>\n",
       "      <td>0.907882</td>\n",
       "      <td>0.859210</td>\n",
       "    </tr>\n",
       "  </tbody>\n",
       "</table>\n",
       "</div>"
      ],
      "text/plain": [
       "  station  train_r2   test_r2  holdout_r2\n",
       "0    AHID  0.335074  0.324362    0.383105\n",
       "1     BOZ  0.809338  0.805967    0.776239\n",
       "2    BW06  0.438596  0.437123    0.698975\n",
       "3    LKWY  0.926772  0.929881    0.958450\n",
       "5     YFT  0.923349  0.932485    0.894205\n",
       "6     YHB  0.883897  0.875645    0.922395\n",
       "7     YMR  0.941443  0.942105    0.917991\n",
       "8     YNR  0.934513  0.935353    0.939594\n",
       "9     YUF  0.913129  0.907882    0.859210"
      ]
     },
     "execution_count": 24,
     "metadata": {},
     "output_type": "execute_result"
    }
   ],
   "source": [
    "ypml_p_r2_results = pd.concat([p_ypml_train_r2_vals, p_ypml_test_r2_vals, p_ypml_2023_r2_vals], axis=1).reset_index().dropna()\n",
    "ypml_p_r2_results.columns = ['station', 'train_r2', 'test_r2', 'holdout_r2']\n",
    "ypml_p_r2_results"
   ]
  },
  {
   "cell_type": "code",
   "execution_count": 25,
   "metadata": {},
   "outputs": [
    {
     "data": {
      "text/html": [
       "<div>\n",
       "<style scoped>\n",
       "    .dataframe tbody tr th:only-of-type {\n",
       "        vertical-align: middle;\n",
       "    }\n",
       "\n",
       "    .dataframe tbody tr th {\n",
       "        vertical-align: top;\n",
       "    }\n",
       "\n",
       "    .dataframe thead th {\n",
       "        text-align: right;\n",
       "    }\n",
       "</style>\n",
       "<table border=\"1\" class=\"dataframe\">\n",
       "  <thead>\n",
       "    <tr style=\"text-align: right;\">\n",
       "      <th></th>\n",
       "      <th>train_r2</th>\n",
       "      <th>test_r2</th>\n",
       "      <th>holdout_r2</th>\n",
       "    </tr>\n",
       "  </thead>\n",
       "  <tbody>\n",
       "    <tr>\n",
       "      <th>min</th>\n",
       "      <td>0.335074</td>\n",
       "      <td>0.324362</td>\n",
       "      <td>0.383105</td>\n",
       "    </tr>\n",
       "    <tr>\n",
       "      <th>max</th>\n",
       "      <td>0.941443</td>\n",
       "      <td>0.942105</td>\n",
       "      <td>0.958450</td>\n",
       "    </tr>\n",
       "    <tr>\n",
       "      <th>50%</th>\n",
       "      <td>0.913129</td>\n",
       "      <td>0.907882</td>\n",
       "      <td>0.894205</td>\n",
       "    </tr>\n",
       "  </tbody>\n",
       "</table>\n",
       "</div>"
      ],
      "text/plain": [
       "     train_r2   test_r2  holdout_r2\n",
       "min  0.335074  0.324362    0.383105\n",
       "max  0.941443  0.942105    0.958450\n",
       "50%  0.913129  0.907882    0.894205"
      ]
     },
     "execution_count": 25,
     "metadata": {},
     "output_type": "execute_result"
    }
   ],
   "source": [
    "ypml_p_r2_results.describe().loc[['min', 'max', '50%']]"
   ]
  },
  {
   "cell_type": "code",
   "execution_count": 26,
   "metadata": {},
   "outputs": [
    {
     "data": {
      "text/html": [
       "<div>\n",
       "<style scoped>\n",
       "    .dataframe tbody tr th:only-of-type {\n",
       "        vertical-align: middle;\n",
       "    }\n",
       "\n",
       "    .dataframe tbody tr th {\n",
       "        vertical-align: top;\n",
       "    }\n",
       "\n",
       "    .dataframe thead th {\n",
       "        text-align: right;\n",
       "    }\n",
       "</style>\n",
       "<table border=\"1\" class=\"dataframe\">\n",
       "  <thead>\n",
       "    <tr style=\"text-align: right;\">\n",
       "      <th></th>\n",
       "      <th>station</th>\n",
       "      <th>train_r2</th>\n",
       "      <th>test_r2</th>\n",
       "      <th>holdout_r2</th>\n",
       "    </tr>\n",
       "  </thead>\n",
       "  <tbody>\n",
       "    <tr>\n",
       "      <th>0</th>\n",
       "      <td>AHID</td>\n",
       "      <td>0.369435</td>\n",
       "      <td>0.444903</td>\n",
       "      <td>0.472091</td>\n",
       "    </tr>\n",
       "    <tr>\n",
       "      <th>1</th>\n",
       "      <td>BOZ</td>\n",
       "      <td>0.834469</td>\n",
       "      <td>0.840915</td>\n",
       "      <td>0.765798</td>\n",
       "    </tr>\n",
       "    <tr>\n",
       "      <th>2</th>\n",
       "      <td>BW06</td>\n",
       "      <td>0.382908</td>\n",
       "      <td>0.548918</td>\n",
       "      <td>0.731446</td>\n",
       "    </tr>\n",
       "    <tr>\n",
       "      <th>3</th>\n",
       "      <td>LKWY</td>\n",
       "      <td>0.930386</td>\n",
       "      <td>0.926438</td>\n",
       "      <td>0.932626</td>\n",
       "    </tr>\n",
       "    <tr>\n",
       "      <th>5</th>\n",
       "      <td>YFT</td>\n",
       "      <td>0.921479</td>\n",
       "      <td>0.931288</td>\n",
       "      <td>0.893660</td>\n",
       "    </tr>\n",
       "    <tr>\n",
       "      <th>6</th>\n",
       "      <td>YHB</td>\n",
       "      <td>0.882384</td>\n",
       "      <td>0.873543</td>\n",
       "      <td>0.921492</td>\n",
       "    </tr>\n",
       "    <tr>\n",
       "      <th>7</th>\n",
       "      <td>YMR</td>\n",
       "      <td>0.939299</td>\n",
       "      <td>0.940581</td>\n",
       "      <td>0.916493</td>\n",
       "    </tr>\n",
       "    <tr>\n",
       "      <th>8</th>\n",
       "      <td>YNR</td>\n",
       "      <td>0.932619</td>\n",
       "      <td>0.931816</td>\n",
       "      <td>0.939057</td>\n",
       "    </tr>\n",
       "    <tr>\n",
       "      <th>9</th>\n",
       "      <td>YUF</td>\n",
       "      <td>0.910923</td>\n",
       "      <td>0.906943</td>\n",
       "      <td>0.866302</td>\n",
       "    </tr>\n",
       "  </tbody>\n",
       "</table>\n",
       "</div>"
      ],
      "text/plain": [
       "  station  train_r2   test_r2  holdout_r2\n",
       "0    AHID  0.369435  0.444903    0.472091\n",
       "1     BOZ  0.834469  0.840915    0.765798\n",
       "2    BW06  0.382908  0.548918    0.731446\n",
       "3    LKWY  0.930386  0.926438    0.932626\n",
       "5     YFT  0.921479  0.931288    0.893660\n",
       "6     YHB  0.882384  0.873543    0.921492\n",
       "7     YMR  0.939299  0.940581    0.916493\n",
       "8     YNR  0.932619  0.931816    0.939057\n",
       "9     YUF  0.910923  0.906943    0.866302"
      ]
     },
     "execution_count": 26,
     "metadata": {},
     "output_type": "execute_result"
    }
   ],
   "source": [
    "ypml_s_r2_results = pd.concat([s_ypml_train_r2_vals, s_ypml_test_r2_vals, s_ypml_2023_r2_vals], axis=1).reset_index().dropna()\n",
    "ypml_s_r2_results.columns = ['station', 'train_r2', 'test_r2', 'holdout_r2']\n",
    "ypml_s_r2_results"
   ]
  },
  {
   "cell_type": "code",
   "execution_count": 27,
   "metadata": {},
   "outputs": [
    {
     "data": {
      "text/html": [
       "<div>\n",
       "<style scoped>\n",
       "    .dataframe tbody tr th:only-of-type {\n",
       "        vertical-align: middle;\n",
       "    }\n",
       "\n",
       "    .dataframe tbody tr th {\n",
       "        vertical-align: top;\n",
       "    }\n",
       "\n",
       "    .dataframe thead th {\n",
       "        text-align: right;\n",
       "    }\n",
       "</style>\n",
       "<table border=\"1\" class=\"dataframe\">\n",
       "  <thead>\n",
       "    <tr style=\"text-align: right;\">\n",
       "      <th></th>\n",
       "      <th>train_r2</th>\n",
       "      <th>test_r2</th>\n",
       "      <th>holdout_r2</th>\n",
       "    </tr>\n",
       "  </thead>\n",
       "  <tbody>\n",
       "    <tr>\n",
       "      <th>min</th>\n",
       "      <td>0.369435</td>\n",
       "      <td>0.444903</td>\n",
       "      <td>0.472091</td>\n",
       "    </tr>\n",
       "    <tr>\n",
       "      <th>max</th>\n",
       "      <td>0.939299</td>\n",
       "      <td>0.940581</td>\n",
       "      <td>0.939057</td>\n",
       "    </tr>\n",
       "    <tr>\n",
       "      <th>50%</th>\n",
       "      <td>0.910923</td>\n",
       "      <td>0.906943</td>\n",
       "      <td>0.893660</td>\n",
       "    </tr>\n",
       "  </tbody>\n",
       "</table>\n",
       "</div>"
      ],
      "text/plain": [
       "     train_r2   test_r2  holdout_r2\n",
       "min  0.369435  0.444903    0.472091\n",
       "max  0.939299  0.940581    0.939057\n",
       "50%  0.910923  0.906943    0.893660"
      ]
     },
     "execution_count": 27,
     "metadata": {},
     "output_type": "execute_result"
    }
   ],
   "source": [
    "ypml_s_r2_results.describe().loc[['min', 'max', '50%']]"
   ]
  },
  {
   "cell_type": "code",
   "execution_count": 28,
   "metadata": {},
   "outputs": [],
   "source": [
    "boxplots_dict = {'sub_results':{'P':p_sub_results, 'S':s_sub_results},\n",
    "                'all_results':{'P':p_all_results, 'S':s_all_results},\n",
    "                'yp21_stat_results':{'P':ypml_p_r2_results, 'S':ypml_s_r2_results},\n",
    "                    }"
   ]
  },
  {
   "cell_type": "code",
   "execution_count": null,
   "metadata": {},
   "outputs": [
    {
     "data": {
      "image/png": "[encoded data removed]",
      "text/plain": [
       "<Figure size 640x480 with 2 Axes>"
      ]
     },
     "metadata": {},
     "output_type": "display_data"
    }
   ],
   "source": [
    "plotting.r2_boxplots(boxplots_dict, scatter_dict, label_dict,\n",
    "                     savefigname='../../figures/r2_summary_boxplots.png')"
   ]
  },
  {
   "cell_type": "code",
   "execution_count": 30,
   "metadata": {},
   "outputs": [
    {
     "data": {
      "text/plain": [
       "Sta\n",
       "YMR     412\n",
       "YHB     314\n",
       "YNR     214\n",
       "YUF     181\n",
       "YFT     135\n",
       "BOZ      51\n",
       "AHID     26\n",
       "LKWY     17\n",
       "BW06     16\n",
       "Name: count, dtype: int64"
      ]
     },
     "execution_count": 30,
     "metadata": {},
     "output_type": "execute_result"
    }
   ],
   "source": [
    "ypml_amps[ypml_amps.Evid.isin(s_2023_evids)].value_counts('Sta')"
   ]
  },
  {
   "cell_type": "code",
   "execution_count": 31,
   "metadata": {},
   "outputs": [
    {
     "data": {
      "text/plain": [
       "station\n",
       "YHB     225\n",
       "YMR     172\n",
       "YMC     171\n",
       "YUF     118\n",
       "YHH     113\n",
       "YNR      99\n",
       "YDD      82\n",
       "YFT      55\n",
       "YTP      49\n",
       "YHL      39\n",
       "YPP      35\n",
       "FLWY     12\n",
       "YML       7\n",
       "YNM       6\n",
       "LKWY      2\n",
       "Name: count, dtype: int64"
      ]
     },
     "execution_count": 31,
     "metadata": {},
     "output_type": "execute_result"
    }
   ],
   "source": [
    "s_2023_df.value_counts('station')"
   ]
  }
 ],
 "metadata": {
  "kernelspec": {
   "display_name": "featmags",
   "language": "python",
   "name": "python3"
  },
  "language_info": {
   "codemirror_mode": {
    "name": "ipython",
    "version": 3
   },
   "file_extension": ".py",
   "mimetype": "text/x-python",
   "name": "python",
   "nbconvert_exporter": "python",
   "pygments_lexer": "ipython3",
   "version": "3.11.6"
  }
 },
 "nbformat": 4,
 "nbformat_minor": 2
}
