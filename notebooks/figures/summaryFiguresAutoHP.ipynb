{
 "cells": [
  {
   "cell_type": "code",
   "execution_count": 1,
   "metadata": {},
   "outputs": [],
   "source": [
    "import os\n",
    "import pandas as pd\n",
    "import numpy as np\n",
    "import matplotlib.pyplot as plt\n",
    "from sklearn.metrics import r2_score\n",
    "import os\n",
    "import sys\n",
    "module_path = os.path.abspath(os.path.join('../..'))\n",
    "if module_path not in sys.path:\n",
    "    sys.path.append(module_path)\n",
    "\n",
    "from src.utils import combine_prediction_files, compute_network_avg_prediction"
   ]
  },
  {
   "cell_type": "markdown",
   "metadata": {},
   "source": [
    "# Load splits"
   ]
  },
  {
   "cell_type": "code",
   "execution_count": 2,
   "metadata": {},
   "outputs": [],
   "source": [
    "magdir = '/uufs/chpc.utah.edu/common/home/koper-group3/alysha/magnitudes'\n",
    "p_test_df = pd.read_csv(os.path.join(magdir, 'feature_splits', 'p.test.csv'))\n",
    "p_2023_df = pd.read_csv(os.path.join(magdir, 'feature_splits','p.20230101.csv'))\n",
    "s_test_df = pd.read_csv(os.path.join(magdir, 'feature_splits','s.test.csv'))\n",
    "s_2023_df = pd.read_csv(os.path.join(magdir, 'feature_splits','s.20230101.csv'))"
   ]
  },
  {
   "cell_type": "code",
   "execution_count": 3,
   "metadata": {},
   "outputs": [
    {
     "data": {
      "text/plain": [
       "(array([], dtype=int64),)"
      ]
     },
     "execution_count": 3,
     "metadata": {},
     "output_type": "execute_result"
    }
   ],
   "source": [
    "np.where(p_test_df.duplicated(['Evid', 'station']))"
   ]
  },
  {
   "cell_type": "code",
   "execution_count": 4,
   "metadata": {},
   "outputs": [
    {
     "data": {
      "text/plain": [
       "(array([], dtype=int64),)"
      ]
     },
     "execution_count": 4,
     "metadata": {},
     "output_type": "execute_result"
    }
   ],
   "source": [
    "np.where(p_2023_df.duplicated(['Evid', 'station']))"
   ]
  },
  {
   "cell_type": "code",
   "execution_count": 5,
   "metadata": {},
   "outputs": [
    {
     "data": {
      "text/plain": [
       "(array([], dtype=int64),)"
      ]
     },
     "execution_count": 5,
     "metadata": {},
     "output_type": "execute_result"
    }
   ],
   "source": [
    "np.where(s_test_df.duplicated(['Evid', 'station']))"
   ]
  },
  {
   "cell_type": "code",
   "execution_count": 6,
   "metadata": {},
   "outputs": [
    {
     "data": {
      "text/plain": [
       "(array([], dtype=int64),)"
      ]
     },
     "execution_count": 6,
     "metadata": {},
     "output_type": "execute_result"
    }
   ],
   "source": [
    "np.where(s_2023_df.duplicated(['Evid', 'station']))"
   ]
  },
  {
   "cell_type": "code",
   "execution_count": 7,
   "metadata": {},
   "outputs": [],
   "source": [
    "p_test_evids = p_test_df['Evid'].unique()\n",
    "p_2023_evids = p_2023_df['Evid'].unique()\n",
    "s_test_evids = s_test_df['Evid'].unique()\n",
    "s_2023_evids = s_2023_df['Evid'].unique()"
   ]
  },
  {
   "cell_type": "markdown",
   "metadata": {},
   "source": [
    "# Load YP21 catalogs"
   ]
  },
  {
   "cell_type": "code",
   "execution_count": null,
   "metadata": {},
   "outputs": [],
   "source": [
    "ypml_amps = pd.read_csv(f'../../data/catalogs/yellowstone.amps.ypml-v5.2024.csv')"
   ]
  },
  {
   "cell_type": "markdown",
   "metadata": {},
   "source": [
    "# Load predictions and results"
   ]
  },
  {
   "cell_type": "code",
   "execution_count": 9,
   "metadata": {},
   "outputs": [],
   "source": [
    "allfeatdir = \"all_features\"\n",
    "selectedfeatdir = \"selected_features\"\n",
    "summfilename = 'all.stat.results.csv'\n",
    "p_resultsdir = os.path.join(magdir, 'p_models')\n",
    "s_resultsdir = os.path.join(magdir, 's_models')"
   ]
  },
  {
   "cell_type": "code",
   "execution_count": 10,
   "metadata": {},
   "outputs": [],
   "source": [
    "p_sub_results = pd.read_csv(os.path.join(p_resultsdir, selectedfeatdir, summfilename))\n",
    "s_sub_results = pd.read_csv(os.path.join(s_resultsdir, selectedfeatdir, summfilename))\n",
    "\n",
    "p_all_results = pd.read_csv(os.path.join(p_resultsdir, allfeatdir, summfilename))\n",
    "s_all_results = pd.read_csv(os.path.join(s_resultsdir, allfeatdir, summfilename))"
   ]
  },
  {
   "cell_type": "code",
   "execution_count": 11,
   "metadata": {},
   "outputs": [
    {
     "name": "stdout",
     "output_type": "stream",
     "text": [
      "/uufs/chpc.utah.edu/common/home/koper-group3/alysha/magnitudes/p_models/selected_features/B207.P.preds.holdout.csv does not exist, skipping...\n",
      "/uufs/chpc.utah.edu/common/home/koper-group3/alysha/magnitudes/p_models/selected_features/H17A.P.preds.holdout.csv does not exist, skipping...\n",
      "/uufs/chpc.utah.edu/common/home/koper-group3/alysha/magnitudes/p_models/selected_features/B208.P.preds.holdout.csv does not exist, skipping...\n",
      "/uufs/chpc.utah.edu/common/home/koper-group3/alysha/magnitudes/p_models/selected_features/B944.P.preds.holdout.csv does not exist, skipping...\n",
      "/uufs/chpc.utah.edu/common/home/koper-group3/alysha/magnitudes/p_models/selected_features/B206.P.preds.holdout.csv does not exist, skipping...\n",
      "/uufs/chpc.utah.edu/common/home/koper-group3/alysha/magnitudes/p_models/selected_features/B950.P.preds.holdout.csv does not exist, skipping...\n"
     ]
    }
   ],
   "source": [
    "p_stats = p_test_df.station.unique()\n",
    "p_sub_test_preds = combine_prediction_files(p_stats,\n",
    "                                            os.path.join(p_resultsdir, selectedfeatdir),\n",
    "                                            'P',\n",
    "                                            'test')\n",
    "\n",
    "p_sub_2023_preds = combine_prediction_files(p_stats,\n",
    "                                            os.path.join(p_resultsdir, selectedfeatdir),\n",
    "                                            'P',\n",
    "                                            'holdout')"
   ]
  },
  {
   "cell_type": "code",
   "execution_count": 12,
   "metadata": {},
   "outputs": [
    {
     "name": "stdout",
     "output_type": "stream",
     "text": [
      "/uufs/chpc.utah.edu/common/home/koper-group3/alysha/magnitudes/p_models/all_features/B207.P.preds.holdout.csv does not exist, skipping...\n",
      "/uufs/chpc.utah.edu/common/home/koper-group3/alysha/magnitudes/p_models/all_features/H17A.P.preds.holdout.csv does not exist, skipping...\n",
      "/uufs/chpc.utah.edu/common/home/koper-group3/alysha/magnitudes/p_models/all_features/B208.P.preds.holdout.csv does not exist, skipping...\n",
      "/uufs/chpc.utah.edu/common/home/koper-group3/alysha/magnitudes/p_models/all_features/B944.P.preds.holdout.csv does not exist, skipping...\n",
      "/uufs/chpc.utah.edu/common/home/koper-group3/alysha/magnitudes/p_models/all_features/B206.P.preds.holdout.csv does not exist, skipping...\n",
      "/uufs/chpc.utah.edu/common/home/koper-group3/alysha/magnitudes/p_models/all_features/B950.P.preds.holdout.csv does not exist, skipping...\n"
     ]
    }
   ],
   "source": [
    "p_all_test_preds = combine_prediction_files(p_stats,\n",
    "                                            os.path.join(p_resultsdir, allfeatdir),\n",
    "                                            'P',\n",
    "                                            'test')\n",
    "\n",
    "p_all_2023_preds = combine_prediction_files(p_stats,\n",
    "                                            os.path.join(p_resultsdir, allfeatdir),\n",
    "                                            'P',\n",
    "                                            'holdout')"
   ]
  },
  {
   "cell_type": "code",
   "execution_count": 13,
   "metadata": {},
   "outputs": [
    {
     "name": "stdout",
     "output_type": "stream",
     "text": [
      "/uufs/chpc.utah.edu/common/home/koper-group3/alysha/magnitudes/s_models/selected_features/B207.S.preds.holdout.csv does not exist, skipping...\n",
      "/uufs/chpc.utah.edu/common/home/koper-group3/alysha/magnitudes/s_models/selected_features/B206.S.preds.holdout.csv does not exist, skipping...\n",
      "/uufs/chpc.utah.edu/common/home/koper-group3/alysha/magnitudes/s_models/selected_features/B950.S.preds.holdout.csv does not exist, skipping...\n"
     ]
    }
   ],
   "source": [
    "s_stats = s_test_df.station.unique()\n",
    "s_sub_test_preds = combine_prediction_files(s_stats,\n",
    "                                            os.path.join(s_resultsdir, selectedfeatdir),\n",
    "                                            'S',\n",
    "                                            'test')\n",
    "\n",
    "s_sub_2023_preds = combine_prediction_files(s_stats,\n",
    "                                            os.path.join(s_resultsdir, selectedfeatdir),\n",
    "                                            'S',\n",
    "                                            'holdout')"
   ]
  },
  {
   "cell_type": "code",
   "execution_count": 14,
   "metadata": {},
   "outputs": [
    {
     "name": "stdout",
     "output_type": "stream",
     "text": [
      "/uufs/chpc.utah.edu/common/home/koper-group3/alysha/magnitudes/s_models/all_features/B207.S.preds.holdout.csv does not exist, skipping...\n",
      "/uufs/chpc.utah.edu/common/home/koper-group3/alysha/magnitudes/s_models/all_features/B206.S.preds.holdout.csv does not exist, skipping...\n",
      "/uufs/chpc.utah.edu/common/home/koper-group3/alysha/magnitudes/s_models/all_features/B950.S.preds.holdout.csv does not exist, skipping...\n"
     ]
    }
   ],
   "source": [
    "s_all_test_preds = combine_prediction_files(s_stats,\n",
    "                                            os.path.join(s_resultsdir, allfeatdir),\n",
    "                                            'S',\n",
    "                                            'test')\n",
    "\n",
    "s_all_2023_preds = combine_prediction_files(s_stats,\n",
    "                                            os.path.join(s_resultsdir, allfeatdir),\n",
    "                                            'S',\n",
    "                                            'holdout')"
   ]
  },
  {
   "cell_type": "code",
   "execution_count": 15,
   "metadata": {},
   "outputs": [],
   "source": [
    "p_all_test_avg = compute_network_avg_prediction(p_all_test_preds)\n",
    "p_all_2023_avg = compute_network_avg_prediction(p_all_2023_preds)\n",
    "\n",
    "p_sub_test_avg = compute_network_avg_prediction(p_sub_test_preds)\n",
    "p_sub_2023_avg = compute_network_avg_prediction(p_sub_2023_preds)"
   ]
  },
  {
   "cell_type": "code",
   "execution_count": 16,
   "metadata": {},
   "outputs": [],
   "source": [
    "s_all_test_avg = compute_network_avg_prediction(s_all_test_preds)\n",
    "s_all_2023_avg = compute_network_avg_prediction(s_all_2023_preds)\n",
    "\n",
    "s_sub_test_avg = compute_network_avg_prediction(s_sub_test_preds)\n",
    "s_sub_2023_avg = compute_network_avg_prediction(s_sub_2023_preds)"
   ]
  },
  {
   "cell_type": "code",
   "execution_count": 17,
   "metadata": {},
   "outputs": [],
   "source": [
    "def get_r2(df):\n",
    "    return r2_score(df['magnitude'],\n",
    "                    df['predicted_magnitude'])"
   ]
  },
  {
   "cell_type": "code",
   "execution_count": 18,
   "metadata": {},
   "outputs": [],
   "source": [
    "p_all_test_avg_r2 = get_r2(p_all_test_avg)\n",
    "p_all_2023_avg_r2 = get_r2(p_all_2023_avg)\n",
    "\n",
    "p_sub_test_avg_r2 = get_r2(p_sub_test_avg)\n",
    "p_sub_2023_avg_r2 = get_r2(p_sub_2023_avg)"
   ]
  },
  {
   "cell_type": "code",
   "execution_count": 19,
   "metadata": {},
   "outputs": [],
   "source": [
    "s_all_test_avg_r2 = get_r2(s_all_test_avg)\n",
    "s_all_2023_avg_r2 = get_r2(s_all_2023_avg)\n",
    "\n",
    "s_sub_test_avg_r2 = get_r2(s_sub_test_avg)\n",
    "s_sub_2023_avg_r2 = get_r2(s_sub_2023_avg)"
   ]
  },
  {
   "cell_type": "markdown",
   "metadata": {},
   "source": [
    "# R2 summary plots"
   ]
  },
  {
   "cell_type": "code",
   "execution_count": 27,
   "metadata": {},
   "outputs": [],
   "source": [
    "from matplotlib.ticker import MultipleLocator\n",
    "from matplotlib.lines import Line2D"
   ]
  },
  {
   "cell_type": "code",
   "execution_count": 28,
   "metadata": {},
   "outputs": [
    {
     "data": {
      "text/plain": [
       "<matplotlib.legend.Legend at 0x14be78e5ded0>"
      ]
     },
     "execution_count": 28,
     "metadata": {},
     "output_type": "execute_result"
    },
    {
     "data": {
      "image/png": "[encoded data removed]",
      "text/plain": [
       "<Figure size 640x480 with 2 Axes>"
      ]
     },
     "metadata": {},
     "output_type": "display_data"
    }
   ],
   "source": [
    "fig, axes = plt.subplots(2, 1, constrained_layout=True)\n",
    "\n",
    "h_offset = 0.25\n",
    "r2_marker = '*'\n",
    "r2_markersize = 75\n",
    "r2_marker_linewidth = 0.9\n",
    "bp_colors = ['#f0f0f0', '#636363']\n",
    "cap_width = 0.12\n",
    "main_x = np.array([0, 0.75, 1.5])\n",
    "splits = ['Train', 'Test A', 'Test B']\n",
    "ylim = [0.6, 1.0]\n",
    "\n",
    "labels = ['7', '45', 'Network Avg.']\n",
    "\n",
    "test_r2 = [p_sub_test_avg_r2, p_all_test_avg_r2]\n",
    "holdout_r2 = [p_sub_2023_avg_r2, p_all_2023_avg_r2]\n",
    "ax = axes[0]\n",
    "for i, df in enumerate([p_sub_results, p_all_results]):\n",
    "    offset = h_offset*i\n",
    "    color=bp_colors[i]\n",
    "    bp1 = ax.boxplot(df[['train_r2', 'test_r2']],\n",
    "                vert=True,\n",
    "                positions=main_x[:-1]+offset,\n",
    "                showfliers=False,\n",
    "                patch_artist=True,\n",
    "                capwidths=cap_width);\n",
    "    ax.scatter(main_x[1:2]+offset, test_r2[i],\n",
    "               marker=r2_marker,\n",
    "               color=color,\n",
    "               zorder=10,\n",
    "               s=r2_markersize,\n",
    "               edgecolor='k',\n",
    "               linewidth=r2_marker_linewidth)\n",
    "    bp2 = ax.boxplot(df['holdout_r2'].dropna(),\n",
    "                vert=True,\n",
    "                positions=main_x[-1:]+offset,\n",
    "                showfliers=False,\n",
    "                patch_artist=True,\n",
    "                capwidths=cap_width);\n",
    "    ax.scatter(main_x[-1:]+offset, holdout_r2[i],\n",
    "               marker=r2_marker,\n",
    "               color=color,\n",
    "               zorder=10,\n",
    "               s=r2_markersize,\n",
    "               edgecolor='k',\n",
    "               linewidth=r2_marker_linewidth)\n",
    "    for bp in [bp1, bp2]:\n",
    "        for patch in bp['boxes']:\n",
    "            patch.set_facecolor(color)\n",
    "\n",
    "ax.set_xticks(main_x+(h_offset/2), [])\n",
    "ax.set_ylim(ylim)\n",
    "ax.yaxis.set_minor_locator(MultipleLocator(0.05))\n",
    "ax.grid(axis='y', which='both')\n",
    "ax.set_title(\"P Models\")\n",
    "ax.set_xlim([-0.25, 2])\n",
    "\n",
    "\n",
    "ax = axes[1]\n",
    "test_r2 = [s_sub_test_avg_r2, s_all_test_avg_r2]\n",
    "holdout_r2 = [s_sub_2023_avg_r2, s_all_2023_avg_r2]\n",
    "legend_boxes = []\n",
    "for i, df in enumerate([s_sub_results, s_all_results]):\n",
    "    offset = h_offset*i\n",
    "    color=bp_colors[i]\n",
    "    bp1 = ax.boxplot(df[['train_r2', 'test_r2']],\n",
    "                vert=True,\n",
    "                positions=main_x[:-1]+offset,\n",
    "                showfliers=False,\n",
    "                patch_artist=True,\n",
    "                capwidths=cap_width);\n",
    "    ax.scatter(main_x[1:2]+offset, test_r2[i],\n",
    "               marker=r2_marker,\n",
    "               color=color,\n",
    "               zorder=10,\n",
    "               s=r2_markersize, \n",
    "               edgecolor='k',\n",
    "               linewidth=r2_marker_linewidth,)\n",
    "    bp2 = ax.boxplot(df['holdout_r2'].dropna(),\n",
    "                vert=True,\n",
    "                positions=main_x[-1:]+offset,\n",
    "                showfliers=False,\n",
    "                patch_artist=True,\n",
    "                capwidths=cap_width);\n",
    "    star = ax.scatter(main_x[-1:]+offset, holdout_r2[i],\n",
    "               marker=r2_marker,\n",
    "               color=color,\n",
    "               zorder=10,\n",
    "               s=r2_markersize,\n",
    "               edgecolor='k',\n",
    "               linewidth=r2_marker_linewidth)\n",
    "    for bp in [bp1, bp2]:\n",
    "        for patch in bp['boxes']:\n",
    "            patch.set_facecolor(color)\n",
    "\n",
    "    legend_boxes.append(bp1['boxes'][0])\n",
    "\n",
    "ax.set_xticks(main_x+(h_offset/2), splits)\n",
    "ax.set_ylim(ylim)\n",
    "ax.set_xlim([-0.25, 2])\n",
    "ax.yaxis.set_minor_locator(MultipleLocator(0.05))\n",
    "ax.grid(axis='y', which='both')\n",
    "ax.set_title(\"S Models\")\n",
    "fig.supylabel(\"Station $R^2$\")\n",
    "\n",
    "# Set up legend\n",
    "star = Line2D([0], [0], marker=r2_marker, \n",
    "              color='black', \n",
    "              markersize=r2_markersize//10, \n",
    "              linestyle='')\n",
    "legend_boxes.append(star)\n",
    "ax.legend(legend_boxes, labels, loc='lower left')\n"
   ]
  },
  {
   "cell_type": "code",
   "execution_count": 22,
   "metadata": {},
   "outputs": [
    {
     "name": "stdout",
     "output_type": "stream",
     "text": [
      "P test\n",
      "0.9335673868784805\n",
      "0.9375848919490751\n",
      "P 2023\n",
      "0.9226528022662508\n",
      "0.9272365468488477\n",
      "S Test\n",
      "0.9379203661564917\n",
      "0.9362380959709973\n",
      "S 2023\n",
      "0.9467759495720349\n",
      "0.9463559709476912\n"
     ]
    }
   ],
   "source": [
    "print(\"P test\")\n",
    "print(p_sub_test_avg_r2)\n",
    "print(p_all_test_avg_r2)\n",
    "print('P 2023')\n",
    "print(p_sub_2023_avg_r2)\n",
    "print(p_all_2023_avg_r2)\n",
    "print(\"S Test\")\n",
    "print(s_sub_test_avg_r2)\n",
    "print(s_all_test_avg_r2)\n",
    "print('S 2023')\n",
    "print(s_sub_2023_avg_r2)\n",
    "print(s_all_2023_avg_r2)"
   ]
  },
  {
   "cell_type": "code",
   "execution_count": null,
   "metadata": {},
   "outputs": [],
   "source": []
  }
 ],
 "metadata": {
  "kernelspec": {
   "display_name": "featmags",
   "language": "python",
   "name": "python3"
  },
  "language_info": {
   "codemirror_mode": {
    "name": "ipython",
    "version": 3
   },
   "file_extension": ".py",
   "mimetype": "text/x-python",
   "name": "python",
   "nbconvert_exporter": "python",
   "pygments_lexer": "ipython3",
   "version": "3.11.6"
  }
 },
 "nbformat": 4,
 "nbformat_minor": 2
}
