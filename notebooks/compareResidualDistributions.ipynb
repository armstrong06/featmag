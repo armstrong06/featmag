{
 "cells": [
  {
   "cell_type": "code",
   "execution_count": 1,
   "metadata": {},
   "outputs": [],
   "source": [
    "import os\n",
    "import pandas as pd\n",
    "import numpy as np\n",
    "import matplotlib.pyplot as plt\n",
    "\n",
    "import os\n",
    "import sys\n",
    "module_path = os.path.abspath(os.path.join('..'))\n",
    "if module_path not in sys.path:\n",
    "    sys.path.append(module_path)\n",
    "\n",
    "from src.utils import combine_prediction_files"
   ]
  },
  {
   "cell_type": "markdown",
   "metadata": {},
   "source": [
    "# Load the YP21 station and network magnitudes for the test and holdout sets"
   ]
  },
  {
   "cell_type": "code",
   "execution_count": 2,
   "metadata": {},
   "outputs": [],
   "source": [
    "ypml_amps = pd.read_csv(f'../data/catalogs/yellowstone.amps.ypml-v5.2023.csv')\n",
    "datadir = '/uufs/chpc.utah.edu/common/home/koper-group3/alysha/magnitudes/feature_splits'\n",
    "p_test = pd.read_csv(os.path.join(datadir, 'p.test.csv'))\n",
    "p_2022 = pd.read_csv(os.path.join(datadir, 'p.2022.csv'))\n",
    "s_test = pd.read_csv(os.path.join(datadir, 's.test.csv'))\n",
    "s_2022 = pd.read_csv(os.path.join(datadir, 's.2022.csv'))"
   ]
  },
  {
   "cell_type": "code",
   "execution_count": 3,
   "metadata": {},
   "outputs": [
    {
     "name": "stdout",
     "output_type": "stream",
     "text": [
      "(1283,)\n",
      "(1283,)\n"
     ]
    }
   ],
   "source": [
    "p_test_evids = p_test['Evid'].unique()\n",
    "print(p_test_evids.shape)\n",
    "p_test_ypml = ypml_amps[ypml_amps['Evid'].isin(p_test_evids)][['Evid', 'Sta', 'Event-Mean-YPML-S', 'Station-YPML-S']]\n",
    "print(p_test_ypml.Evid.unique().shape)\n",
    "p_test_resids = p_test_ypml['Event-Mean-YPML-S'] - p_test_ypml['Station-YPML-S']"
   ]
  },
  {
   "cell_type": "code",
   "execution_count": 4,
   "metadata": {},
   "outputs": [
    {
     "name": "stdout",
     "output_type": "stream",
     "text": [
      "(197,)\n",
      "(197,)\n"
     ]
    }
   ],
   "source": [
    "p_2022_evids = p_2022['Evid'].unique()\n",
    "print(p_2022_evids.shape)\n",
    "p_2022_ypml = ypml_amps[ypml_amps['Evid'].isin(p_2022_evids)][['Evid', 'Sta', 'Event-Mean-YPML-S', 'Station-YPML-S']]\n",
    "print(p_2022_ypml.Evid.unique().shape)\n",
    "p_2022_resids = p_2022_ypml['Event-Mean-YPML-S'] - p_2022_ypml['Station-YPML-S']\n"
   ]
  },
  {
   "cell_type": "code",
   "execution_count": 5,
   "metadata": {},
   "outputs": [
    {
     "name": "stdout",
     "output_type": "stream",
     "text": [
      "(1106,)\n",
      "(1106,)\n"
     ]
    }
   ],
   "source": [
    "s_test_evids = s_test['Evid'].unique()\n",
    "print(s_test_evids.shape)\n",
    "s_test_ypml = ypml_amps[ypml_amps['Evid'].isin(s_test_evids)][['Evid', 'Sta', 'Event-Mean-YPML-S', 'Station-YPML-S']]\n",
    "print(s_test_ypml.Evid.unique().shape)\n",
    "s_test_resids = s_test_ypml['Event-Mean-YPML-S'] - s_test_ypml['Station-YPML-S']"
   ]
  },
  {
   "cell_type": "code",
   "execution_count": 6,
   "metadata": {},
   "outputs": [
    {
     "name": "stdout",
     "output_type": "stream",
     "text": [
      "(178,)\n",
      "(178,)\n"
     ]
    }
   ],
   "source": [
    "s_2022_evids = s_2022['Evid'].unique()\n",
    "print(s_2022_evids.shape)\n",
    "s_2022_ypml = ypml_amps[ypml_amps['Evid'].isin(s_2022_evids)][['Evid', 'Sta', 'Event-Mean-YPML-S', 'Station-YPML-S']]\n",
    "print(s_2022_ypml.Evid.unique().shape)\n",
    "s_2022_resids = s_2022_ypml['Event-Mean-YPML-S'] - s_2022_ypml['Station-YPML-S']\n"
   ]
  },
  {
   "cell_type": "code",
   "execution_count": 7,
   "metadata": {},
   "outputs": [
    {
     "data": {
      "text/plain": [
       "50%    0.003620\n",
       "std    0.163536\n",
       "dtype: float64"
      ]
     },
     "execution_count": 7,
     "metadata": {},
     "output_type": "execute_result"
    }
   ],
   "source": [
    "p_test_resids.describe()[['50%', 'std']]"
   ]
  },
  {
   "cell_type": "code",
   "execution_count": 8,
   "metadata": {},
   "outputs": [
    {
     "data": {
      "text/plain": [
       "50%    0.005043\n",
       "std    0.159352\n",
       "dtype: float64"
      ]
     },
     "execution_count": 8,
     "metadata": {},
     "output_type": "execute_result"
    }
   ],
   "source": [
    "p_2022_resids.describe()[['50%', 'std']]"
   ]
  },
  {
   "cell_type": "code",
   "execution_count": 9,
   "metadata": {},
   "outputs": [
    {
     "data": {
      "text/plain": [
       "50%    0.003734\n",
       "std    0.161857\n",
       "dtype: float64"
      ]
     },
     "execution_count": 9,
     "metadata": {},
     "output_type": "execute_result"
    }
   ],
   "source": [
    "s_test_resids.describe()[['50%', 'std']]"
   ]
  },
  {
   "cell_type": "code",
   "execution_count": 10,
   "metadata": {},
   "outputs": [
    {
     "data": {
      "text/plain": [
       "50%    0.004061\n",
       "std    0.152847\n",
       "dtype: float64"
      ]
     },
     "execution_count": 10,
     "metadata": {},
     "output_type": "execute_result"
    }
   ],
   "source": [
    "s_2022_resids.describe()[['50%', 'std']]"
   ]
  },
  {
   "cell_type": "code",
   "execution_count": 11,
   "metadata": {},
   "outputs": [
    {
     "data": {
      "image/png": "[encoded data removed]",
      "text/plain": [
       "<Figure size 640x480 with 1 Axes>"
      ]
     },
     "metadata": {},
     "output_type": "display_data"
    }
   ],
   "source": [
    "plt.hist(p_test_resids, bins=np.arange(-1, 1.01, 0.1));\n",
    "plt.hist(s_test_resids, bins=np.arange(-1, 1.01, 0.1));\n",
    "plt.hist(p_2022_resids, bins=np.arange(-1, 1.01, 0.1));\n",
    "plt.hist(s_2022_resids, bins=np.arange(-1, 1.01, 0.1));"
   ]
  },
  {
   "cell_type": "code",
   "execution_count": 12,
   "metadata": {},
   "outputs": [
    {
     "data": {
      "text/plain": [
       "(3444,)"
      ]
     },
     "execution_count": 12,
     "metadata": {},
     "output_type": "execute_result"
    }
   ],
   "source": [
    "s_test_resids.shape"
   ]
  },
  {
   "cell_type": "markdown",
   "metadata": {},
   "source": [
    "# Load the new, predicted $M_L$ values"
   ]
  },
  {
   "cell_type": "code",
   "execution_count": 13,
   "metadata": {},
   "outputs": [],
   "source": [
    "datadir = '/uufs/chpc.utah.edu/common/home/koper-group3/alysha/magnitudes'\n",
    "p_results_df = pd.read_csv(os.path.join(datadir, 'p_models', 'selected_features', 'all.stat.results.csv'))\n",
    "s_results_df = pd.read_csv(os.path.join(datadir, 's_models', 'selected_features', 'all.stat.results.csv'))\n"
   ]
  },
  {
   "cell_type": "code",
   "execution_count": 14,
   "metadata": {},
   "outputs": [],
   "source": [
    "s_stats = s_results_df['station']\n",
    "pred_path = os.path.join(datadir,'s_models', 'selected_features')\n",
    "s_test_preds_df = combine_prediction_files(s_stats, pred_path,'S', 'test')\n",
    "s_holdout_preds_df = combine_prediction_files(s_2022['station'].unique(), pred_path,'S', 'holdout')"
   ]
  },
  {
   "cell_type": "code",
   "execution_count": 15,
   "metadata": {},
   "outputs": [
    {
     "data": {
      "text/plain": [
       "(2638, 4)"
      ]
     },
     "execution_count": 15,
     "metadata": {},
     "output_type": "execute_result"
    }
   ],
   "source": [
    "s_test_preds_df.shape"
   ]
  },
  {
   "cell_type": "code",
   "execution_count": 16,
   "metadata": {},
   "outputs": [],
   "source": [
    "p_stats = p_results_df['station']\n",
    "pred_path = os.path.join(datadir,'p_models', 'selected_features')\n",
    "p_test_preds_df = combine_prediction_files(p_stats, pred_path,'P', 'test')\n",
    "p_holdout_preds_df = combine_prediction_files(p_2022['station'].unique(), pred_path,'P', 'holdout')"
   ]
  },
  {
   "cell_type": "code",
   "execution_count": 17,
   "metadata": {},
   "outputs": [],
   "source": [
    "p_pred_test_resids = p_test_preds_df['magnitude'] - p_test_preds_df['predicted_magnitude']\n",
    "p_pred_holdout_resids = p_holdout_preds_df['magnitude'] - p_holdout_preds_df['predicted_magnitude']"
   ]
  },
  {
   "cell_type": "code",
   "execution_count": 18,
   "metadata": {},
   "outputs": [],
   "source": [
    "s_pred_test_resids = s_test_preds_df['magnitude'] - s_test_preds_df['predicted_magnitude']\n",
    "s_pred_holdout_resids = s_holdout_preds_df['magnitude'] - s_holdout_preds_df['predicted_magnitude']"
   ]
  },
  {
   "cell_type": "code",
   "execution_count": 19,
   "metadata": {},
   "outputs": [
    {
     "data": {
      "image/png": "[encoded data removed]",
      "text/plain": [
       "<Figure size 640x480 with 1 Axes>"
      ]
     },
     "metadata": {},
     "output_type": "display_data"
    }
   ],
   "source": [
    "plt.hist(p_pred_test_resids, bins=np.arange(-1, 1.01, 0.1));\n",
    "plt.hist(s_pred_test_resids, bins=np.arange(-1, 1.01, 0.1));\n",
    "plt.hist(p_pred_holdout_resids, bins=np.arange(-1, 1.01, 0.1));\n",
    "plt.hist(s_pred_holdout_resids, bins=np.arange(-1, 1.01, 0.1));"
   ]
  },
  {
   "cell_type": "code",
   "execution_count": 20,
   "metadata": {},
   "outputs": [
    {
     "data": {
      "text/plain": [
       "Text(0.02, 0.5, 'Count')"
      ]
     },
     "execution_count": 20,
     "metadata": {},
     "output_type": "execute_result"
    },
    {
     "data": {
      "image/png": "[encoded data removed]",
      "text/plain": [
       "<Figure size 640x480 with 4 Axes>"
      ]
     },
     "metadata": {},
     "output_type": "display_data"
    }
   ],
   "source": [
    "fig, axes = plt.subplots(2, 2, constrained_layout=True)\n",
    "axes = axes.flatten()\n",
    "\n",
    "bins = np.arange(-1, 1.1, 0.1)\n",
    "# P test set\n",
    "axes[0].set_title(\"P Test Set\")\n",
    "axes[0].hist(p_test_resids, bins=bins, color='gray', label='YP21');\n",
    "axes[0].hist(p_pred_test_resids, bins=bins, alpha=0.6, label='Predicted');\n",
    "axes[0].legend()\n",
    "axes[0].set_xticklabels([])\n",
    "\n",
    "# S test set\n",
    "axes[1].set_title(\"S Test Set\")\n",
    "axes[1].hist(s_test_resids, bins=bins, color='gray');\n",
    "axes[1].hist(s_pred_test_resids, bins=bins, alpha=0.6);\n",
    "axes[1].set_xticklabels([])\n",
    "\n",
    "# P 2022 set\n",
    "axes[2].set_title(\"P Holdout Set\")\n",
    "axes[2].hist(p_2022_resids, bins=bins, color='gray');\n",
    "axes[2].hist(p_pred_holdout_resids, bins=bins, alpha=0.6);\n",
    "\n",
    "# S 2022 set\n",
    "axes[3].set_title(\"S Holdout Set\")\n",
    "axes[3].hist(s_2022_resids, bins=bins, color='gray');\n",
    "axes[3].hist(s_pred_holdout_resids, bins=bins, alpha=0.6);\n",
    "\n",
    "fig.supxlabel(\"Residual (YP21 Network $M_L$ - Station $M_L$)\")\n",
    "fig.supylabel(\"Count\")"
   ]
  },
  {
   "cell_type": "markdown",
   "metadata": {},
   "source": [
    "# Limit the station magnitude estimates to those from the same stations because there are many more stations with picks in the predicted catalog"
   ]
  },
  {
   "cell_type": "code",
   "execution_count": 21,
   "metadata": {},
   "outputs": [],
   "source": [
    "p_test_merge = p_test_ypml.merge(p_test_preds_df, left_on=['Evid', 'Sta'], right_on=['Evid', 'station'], how='inner')\n",
    "s_test_merge = s_test_ypml.merge(s_test_preds_df, left_on=['Evid', 'Sta'], right_on=['Evid', 'station'], how='inner')\n",
    "p_2022_merge = p_2022_ypml.merge(p_holdout_preds_df, left_on=['Evid', 'Sta'], right_on=['Evid', 'station'], how='inner')\n",
    "s_2022_merge = s_2022_ypml.merge(s_holdout_preds_df, left_on=['Evid', 'Sta'], right_on=['Evid', 'station'], how='inner')"
   ]
  },
  {
   "cell_type": "code",
   "execution_count": 22,
   "metadata": {},
   "outputs": [],
   "source": [
    "p_test_merge_resid = p_test_merge['Event-Mean-YPML-S'] - p_test_merge['Station-YPML-S']\n",
    "s_test_merge_resid = s_test_merge['Event-Mean-YPML-S'] - s_test_merge['Station-YPML-S']\n",
    "p_2022_merge_resid = p_2022_merge['Event-Mean-YPML-S'] - p_2022_merge['Station-YPML-S']\n",
    "s_2022_merge_resid = s_2022_merge['Event-Mean-YPML-S'] - s_2022_merge['Station-YPML-S']"
   ]
  },
  {
   "cell_type": "code",
   "execution_count": 23,
   "metadata": {},
   "outputs": [],
   "source": [
    "p_pred_test_merge_resid = p_test_merge['Event-Mean-YPML-S'] - p_test_merge['predicted_magnitude']\n",
    "s_pred_test_merge_resid = s_test_merge['Event-Mean-YPML-S'] - s_test_merge['predicted_magnitude']\n",
    "p_pred_2022_merge_resid = p_2022_merge['Event-Mean-YPML-S'] - p_2022_merge['predicted_magnitude']\n",
    "s_pred_2022_merge_resid = s_2022_merge['Event-Mean-YPML-S'] - s_2022_merge['predicted_magnitude']"
   ]
  },
  {
   "cell_type": "code",
   "execution_count": 24,
   "metadata": {},
   "outputs": [
    {
     "data": {
      "image/png": "[encoded data removed]",
      "text/plain": [
       "<Figure size 640x480 with 1 Axes>"
      ]
     },
     "metadata": {},
     "output_type": "display_data"
    }
   ],
   "source": [
    "plt.hist(p_pred_test_merge_resid, bins=np.arange(-1, 1.01, 0.1));\n",
    "plt.hist(s_pred_test_merge_resid, bins=np.arange(-1, 1.01, 0.1));\n",
    "plt.hist(p_pred_2022_merge_resid, bins=np.arange(-1, 1.01, 0.1));\n",
    "plt.hist(s_pred_2022_merge_resid, bins=np.arange(-1, 1.01, 0.1));"
   ]
  },
  {
   "cell_type": "code",
   "execution_count": 25,
   "metadata": {},
   "outputs": [
    {
     "data": {
      "image/png": "[encoded data removed]",
      "text/plain": [
       "<Figure size 640x480 with 1 Axes>"
      ]
     },
     "metadata": {},
     "output_type": "display_data"
    }
   ],
   "source": [
    "plt.hist(p_test_merge_resid, bins=np.arange(-1, 1.01, 0.1));\n",
    "plt.hist(s_test_merge_resid, bins=np.arange(-1, 1.01, 0.1));\n",
    "plt.hist(p_2022_merge_resid, bins=np.arange(-1, 1.01, 0.1));\n",
    "plt.hist(s_2022_merge_resid, bins=np.arange(-1, 1.01, 0.1));"
   ]
  },
  {
   "cell_type": "markdown",
   "metadata": {},
   "source": [
    "P test"
   ]
  },
  {
   "cell_type": "code",
   "execution_count": 26,
   "metadata": {},
   "outputs": [
    {
     "data": {
      "text/plain": [
       "50%    0.004952\n",
       "std    0.154871\n",
       "dtype: float64"
      ]
     },
     "execution_count": 26,
     "metadata": {},
     "output_type": "execute_result"
    }
   ],
   "source": [
    "p_test_merge_resid.describe()[['50%', 'std']]"
   ]
  },
  {
   "cell_type": "code",
   "execution_count": 27,
   "metadata": {},
   "outputs": [
    {
     "data": {
      "text/plain": [
       "50%    0.005387\n",
       "std    0.163517\n",
       "dtype: float64"
      ]
     },
     "execution_count": 27,
     "metadata": {},
     "output_type": "execute_result"
    }
   ],
   "source": [
    "p_pred_test_merge_resid.describe()[['50%', 'std']]"
   ]
  },
  {
   "cell_type": "markdown",
   "metadata": {},
   "source": [
    "S test"
   ]
  },
  {
   "cell_type": "code",
   "execution_count": 28,
   "metadata": {},
   "outputs": [
    {
     "data": {
      "text/plain": [
       "50%   -0.025588\n",
       "std    0.148539\n",
       "dtype: float64"
      ]
     },
     "execution_count": 28,
     "metadata": {},
     "output_type": "execute_result"
    }
   ],
   "source": [
    "s_test_merge_resid.describe()[['50%', 'std']]"
   ]
  },
  {
   "cell_type": "code",
   "execution_count": 29,
   "metadata": {},
   "outputs": [
    {
     "data": {
      "text/plain": [
       "50%    0.002889\n",
       "std    0.116761\n",
       "dtype: float64"
      ]
     },
     "execution_count": 29,
     "metadata": {},
     "output_type": "execute_result"
    }
   ],
   "source": [
    "s_pred_test_merge_resid.describe()[['50%', 'std']]"
   ]
  },
  {
   "cell_type": "markdown",
   "metadata": {},
   "source": [
    "P 2022"
   ]
  },
  {
   "cell_type": "code",
   "execution_count": 30,
   "metadata": {},
   "outputs": [
    {
     "data": {
      "text/plain": [
       "50%    0.019814\n",
       "std    0.143724\n",
       "dtype: float64"
      ]
     },
     "execution_count": 30,
     "metadata": {},
     "output_type": "execute_result"
    }
   ],
   "source": [
    "p_2022_merge_resid.describe()[['50%', 'std']]"
   ]
  },
  {
   "cell_type": "code",
   "execution_count": 31,
   "metadata": {},
   "outputs": [
    {
     "data": {
      "text/plain": [
       "50%    0.046655\n",
       "std    0.203345\n",
       "dtype: float64"
      ]
     },
     "execution_count": 31,
     "metadata": {},
     "output_type": "execute_result"
    }
   ],
   "source": [
    "p_pred_2022_merge_resid.describe()[['50%', 'std']]"
   ]
  },
  {
   "cell_type": "markdown",
   "metadata": {},
   "source": [
    "S 2022"
   ]
  },
  {
   "cell_type": "code",
   "execution_count": 32,
   "metadata": {},
   "outputs": [
    {
     "data": {
      "text/plain": [
       "50%    0.024028\n",
       "std    0.130168\n",
       "dtype: float64"
      ]
     },
     "execution_count": 32,
     "metadata": {},
     "output_type": "execute_result"
    }
   ],
   "source": [
    "s_2022_merge_resid.describe()[['50%', 'std']]"
   ]
  },
  {
   "cell_type": "code",
   "execution_count": 33,
   "metadata": {},
   "outputs": [
    {
     "data": {
      "text/plain": [
       "50%    0.025102\n",
       "std    0.119246\n",
       "dtype: float64"
      ]
     },
     "execution_count": 33,
     "metadata": {},
     "output_type": "execute_result"
    }
   ],
   "source": [
    "s_pred_2022_merge_resid.describe()[['50%', 'std']]"
   ]
  },
  {
   "cell_type": "code",
   "execution_count": 34,
   "metadata": {},
   "outputs": [
    {
     "data": {
      "text/plain": [
       "Text(0.02, 0.5, 'Count')"
      ]
     },
     "execution_count": 34,
     "metadata": {},
     "output_type": "execute_result"
    },
    {
     "data": {
      "image/png": "[encoded data removed]",
      "text/plain": [
       "<Figure size 640x480 with 4 Axes>"
      ]
     },
     "metadata": {},
     "output_type": "display_data"
    }
   ],
   "source": [
    "fig, axes = plt.subplots(2, 2, constrained_layout=True)\n",
    "axes = axes.flatten()\n",
    "\n",
    "bins = np.arange(-1, 1.1, 0.1)\n",
    "# P test set\n",
    "axes[0].set_title(\"P Test Set\")\n",
    "axes[0].hist(p_test_merge_resid, bins=bins, color='gray', label='YP21');\n",
    "axes[0].hist(p_pred_test_merge_resid, bins=bins, alpha=0.6, label='Predicted');\n",
    "axes[0].legend()\n",
    "axes[0].set_xticklabels([])\n",
    "\n",
    "# S test set\n",
    "axes[1].set_title(\"S Test Set\")\n",
    "axes[1].hist(s_test_merge_resid, bins=bins, color='gray');\n",
    "axes[1].hist(s_pred_test_merge_resid, bins=bins, alpha=0.6);\n",
    "axes[1].set_xticklabels([])\n",
    "\n",
    "# P 2022 set\n",
    "axes[2].set_title(\"P Holdout Set\")\n",
    "axes[2].hist(p_2022_merge_resid, bins=bins, color='gray');\n",
    "axes[2].hist(p_pred_2022_merge_resid, bins=bins, alpha=0.6);\n",
    "\n",
    "# S 2022 set\n",
    "axes[3].set_title(\"S Holdout Set\")\n",
    "axes[3].hist(s_2022_merge_resid, bins=bins, color='gray');\n",
    "axes[3].hist(s_pred_2022_merge_resid, bins=bins, alpha=0.6);\n",
    "\n",
    "fig.supxlabel(\"Residual (YP21 Network $M_L$ - Station $M_L$)\")\n",
    "fig.supylabel(\"Count\")"
   ]
  },
  {
   "cell_type": "markdown",
   "metadata": {},
   "source": [
    "# F-test  \n",
    "We want to use a lower-tailed test -> The alt. hypothesis is that $\\mu < \\mu_0$, where $\\mu_0$ is the comparator (UUSS/YP21 station magnitude residuals) and $\\mu$ is new distribution (ML predicted magnitude residuals)   \n",
    "\n",
    "Reject the null hypothesis if p < $\\alpha$  \n",
    "\n",
    "F-test is sensitive to normality "
   ]
  },
  {
   "cell_type": "code",
   "execution_count": 35,
   "metadata": {},
   "outputs": [],
   "source": [
    "import scipy.stats as st\n",
    "\n",
    "# This function is from https://stackoverflow.com/a/67885335\n",
    "def f_test(x, y, alt=\"two_sided\"):\n",
    "    \"\"\"\n",
    "    Calculates the F-test.\n",
    "    :param x: The first group of data\n",
    "    :param y: The second group of data\n",
    "    :param alt: The alternative hypothesis, one of \"two_sided\" (default), \"greater\" or \"less\"\n",
    "    :return: a tuple with the F statistic value and the p-value.\n",
    "    \"\"\"\n",
    "    df1 = len(x) - 1\n",
    "    df2 = len(y) - 1\n",
    "    f = x.var() / y.var()\n",
    "    if alt == \"greater\":\n",
    "        p = 1.0 - st.f.cdf(f, df1, df2)\n",
    "    elif alt == \"less\":\n",
    "        p = st.f.cdf(f, df1, df2)\n",
    "    else:\n",
    "        # two-sided by default\n",
    "        # Crawley, the R book, p.355\n",
    "        p = 2.0*(1.0 - st.f.cdf(f, df1, df2))\n",
    "    return f, p"
   ]
  },
  {
   "cell_type": "code",
   "execution_count": 36,
   "metadata": {},
   "outputs": [],
   "source": [
    "def hypothesis_result(f_test_result, alpha=0.05):\n",
    "    p = f_test_result[1]\n",
    "    if p < alpha:\n",
    "        print(\"Reject the Null Hypothesis\")\n",
    "    else:\n",
    "        print(\"Cannot Reject the Null Hypothesis\")"
   ]
  },
  {
   "cell_type": "code",
   "execution_count": 37,
   "metadata": {},
   "outputs": [
    {
     "name": "stdout",
     "output_type": "stream",
     "text": [
      "Reject the Null Hypothesis\n"
     ]
    }
   ],
   "source": [
    "hypothesis_result(f_test(p_test_merge_resid.values, p_pred_test_merge_resid.values, alt='less'))"
   ]
  },
  {
   "cell_type": "code",
   "execution_count": 38,
   "metadata": {},
   "outputs": [
    {
     "name": "stdout",
     "output_type": "stream",
     "text": [
      "Cannot Reject the Null Hypothesis\n"
     ]
    }
   ],
   "source": [
    "hypothesis_result(f_test(s_test_merge_resid.values, s_pred_test_merge_resid.values, alt='less'))"
   ]
  },
  {
   "cell_type": "code",
   "execution_count": 39,
   "metadata": {},
   "outputs": [
    {
     "name": "stdout",
     "output_type": "stream",
     "text": [
      "Reject the Null Hypothesis\n"
     ]
    }
   ],
   "source": [
    "hypothesis_result(f_test(p_2022_merge_resid.values, p_pred_2022_merge_resid.values, alt='less'))"
   ]
  },
  {
   "cell_type": "code",
   "execution_count": 40,
   "metadata": {},
   "outputs": [
    {
     "name": "stdout",
     "output_type": "stream",
     "text": [
      "Cannot Reject the Null Hypothesis\n"
     ]
    }
   ],
   "source": [
    "hypothesis_result(f_test(s_2022_merge_resid.values, s_pred_2022_merge_resid.values, alt='less'))"
   ]
  },
  {
   "cell_type": "code",
   "execution_count": null,
   "metadata": {},
   "outputs": [],
   "source": []
  }
 ],
 "metadata": {
  "kernelspec": {
   "display_name": "featmags",
   "language": "python",
   "name": "python3"
  },
  "language_info": {
   "codemirror_mode": {
    "name": "ipython",
    "version": 3
   },
   "file_extension": ".py",
   "mimetype": "text/x-python",
   "name": "python",
   "nbconvert_exporter": "python",
   "pygments_lexer": "ipython3",
   "version": "3.11.6"
  }
 },
 "nbformat": 4,
 "nbformat_minor": 2
}
