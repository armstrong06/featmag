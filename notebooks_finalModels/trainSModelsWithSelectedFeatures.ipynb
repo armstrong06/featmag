{
 "cells": [
  {
   "cell_type": "code",
   "execution_count": 1,
   "metadata": {},
   "outputs": [],
   "source": [
    "import numpy as np\n",
    "import pandas as pd \n",
    "from sklearn.preprocessing import StandardScaler\n",
    "from sklearn.svm import SVR\n",
    "import matplotlib.pyplot as plt\n",
    "import sys\n",
    "import os\n",
    "from sklearn.base import clone \n",
    "# make paths above 'notebooks/' visible for local imports.\n",
    "# +----------------------------------------------------------------------------+\n",
    "module_path = os.path.abspath(os.path.join('..'))\n",
    "if module_path not in sys.path:\n",
    "    sys.path.append(module_path)\n",
    "\n",
    "from src.processing import GatherFeatureDatasets\n",
    "from src.train import TrainStationModel, OptModelSelectionMethods\n",
    "from src.plotting import plot_r2_heatmap\n",
    "from src.utils import CrossValidation as cv"
   ]
  },
  {
   "cell_type": "markdown",
   "metadata": {},
   "source": [
    "# Load Data"
   ]
  },
  {
   "cell_type": "code",
   "execution_count": 2,
   "metadata": {},
   "outputs": [
    {
     "data": {
      "text/plain": [
       "<function src.processing.SFeatures.compute_feature_matrix(df, freq_max=18, scaler=True, source_dist_type='dist', linear_model=True, w_r=0.5)>"
      ]
     },
     "execution_count": 2,
     "metadata": {},
     "output_type": "execute_result"
    }
   ],
   "source": [
    "proc = GatherFeatureDatasets(is_p=False)\n",
    "proc.compute_feature_matrix"
   ]
  },
  {
   "cell_type": "code",
   "execution_count": 3,
   "metadata": {},
   "outputs": [
    {
     "name": "stdout",
     "output_type": "stream",
     "text": [
      "YHB\n",
      "X shape: (1248, 45), y shape: (1248,)\n",
      "X shape: (331, 45), y shape: (331,)\n",
      "X shape: (225, 45), y shape: (225,)\n",
      "YHL\n",
      "X shape: (537, 45), y shape: (537,)\n",
      "X shape: (133, 45), y shape: (133,)\n",
      "X shape: (39, 45), y shape: (39,)\n",
      "YMR\n",
      "X shape: (1533, 45), y shape: (1533,)\n",
      "X shape: (392, 45), y shape: (392,)\n",
      "X shape: (172, 45), y shape: (172,)\n",
      "YHH\n",
      "X shape: (1222, 45), y shape: (1222,)\n",
      "X shape: (328, 45), y shape: (328,)\n",
      "X shape: (113, 45), y shape: (113,)\n",
      "B207\n",
      "X shape: (341, 45), y shape: (341,)\n",
      "X shape: (83, 45), y shape: (83,)\n",
      "FLWY\n",
      "X shape: (319, 45), y shape: (319,)\n",
      "X shape: (89, 45), y shape: (89,)\n",
      "X shape: (12, 45), y shape: (12,)\n",
      "YUF\n",
      "X shape: (816, 45), y shape: (816,)\n",
      "X shape: (227, 45), y shape: (227,)\n",
      "X shape: (118, 45), y shape: (118,)\n",
      "YPP\n",
      "X shape: (189, 45), y shape: (189,)\n",
      "X shape: (58, 45), y shape: (58,)\n",
      "X shape: (35, 45), y shape: (35,)\n",
      "YNR\n",
      "X shape: (2090, 45), y shape: (2090,)\n",
      "X shape: (541, 45), y shape: (541,)\n",
      "X shape: (99, 45), y shape: (99,)\n",
      "YML\n",
      "X shape: (423, 45), y shape: (423,)\n",
      "X shape: (126, 45), y shape: (126,)\n",
      "X shape: (7, 45), y shape: (7,)\n",
      "YFT\n",
      "X shape: (899, 45), y shape: (899,)\n",
      "X shape: (214, 45), y shape: (214,)\n",
      "X shape: (55, 45), y shape: (55,)\n",
      "LKWY\n",
      "X shape: (209, 45), y shape: (209,)\n",
      "X shape: (50, 45), y shape: (50,)\n",
      "X shape: (2, 45), y shape: (2,)\n",
      "YTP\n",
      "X shape: (391, 45), y shape: (391,)\n",
      "X shape: (95, 45), y shape: (95,)\n",
      "X shape: (49, 45), y shape: (49,)\n",
      "B206\n",
      "X shape: (195, 45), y shape: (195,)\n",
      "X shape: (60, 45), y shape: (60,)\n",
      "YMC\n",
      "X shape: (1443, 45), y shape: (1443,)\n",
      "X shape: (363, 45), y shape: (363,)\n",
      "X shape: (171, 45), y shape: (171,)\n",
      "YNM\n",
      "X shape: (487, 45), y shape: (487,)\n",
      "X shape: (137, 45), y shape: (137,)\n",
      "X shape: (6, 45), y shape: (6,)\n",
      "B950\n",
      "X shape: (152, 45), y shape: (152,)\n",
      "X shape: (42, 45), y shape: (42,)\n",
      "YDD\n",
      "X shape: (244, 45), y shape: (244,)\n",
      "X shape: (58, 45), y shape: (58,)\n",
      "X shape: (82, 45), y shape: (82,)\n"
     ]
    },
    {
     "data": {
      "text/plain": [
       "array(['amp_ratio_1', 'amp_ratio_2', 'amp_ratio_3', 'amp_ratio_4',\n",
       "       'amp_ratio_5', 'amp_ratio_6', 'amp_ratio_7', 'amp_ratio_8',\n",
       "       'amp_ratio_9', 'amp_ratio_10', 'amp_ratio_11', 'amp_ratio_12',\n",
       "       'amp_ratio_13', 'amp_ratio_14', 'amp_ratio_15', 'amp_ratio_16',\n",
       "       'amp_ratio_17', 'amp_ratio_18', 'amp_1', 'amp_2', 'amp_3', 'amp_4',\n",
       "       'amp_5', 'amp_6', 'amp_7', 'amp_8', 'amp_9', 'amp_10', 'amp_11',\n",
       "       'amp_12', 'amp_13', 'amp_14', 'amp_15', 'amp_16', 'amp_17',\n",
       "       'amp_18', 'signal_dominant_frequency', 'signal_dominant_amplitude',\n",
       "       'noise_max_amplitude', 'signal_max_amplitude', 'signal_variance',\n",
       "       'noise_variance', 'source_depth_km',\n",
       "       'source_receiver_distance_logkm',\n",
       "       'source_receiver_back_azimuth_deg'], dtype='<U32')"
      ]
     },
     "execution_count": 3,
     "metadata": {},
     "output_type": "execute_result"
    }
   ],
   "source": [
    "data_dir = '/uufs/chpc.utah.edu/common/home/koper-group3/alysha/magnitudes/feature_splits'\n",
    "train = pd.read_csv(f'{data_dir}/s.train.csv')\n",
    "test = pd.read_csv(f'{data_dir}/s.test.csv')\n",
    "holdout = pd.read_csv(f'{data_dir}/s.20230101.csv')\n",
    "station_feature_dict, station_meta_dict, feature_names = proc.process_all_stations_datasets(train, \n",
    "                                                                  test, \n",
    "                                                                  holdout_df=holdout,\n",
    "                                                                  scaler=False,\n",
    "                                                                  linear_model=False,\n",
    "                                                                  source_dist_type='dist')\n",
    "feature_names"
   ]
  },
  {
   "cell_type": "code",
   "execution_count": 4,
   "metadata": {},
   "outputs": [],
   "source": [
    "# distance, amp. 1., amp. 2, amp 4., depth, | noise max. amp., back az.\n",
    "selected_features = ['amp_1', 'amp_2', \n",
    "                     'amp_4', 'noise_variance',\n",
    "                     'source_depth_km',\n",
    "                    'source_receiver_distance_logkm',\n",
    "                    'source_receiver_back_azimuth_deg']"
   ]
  },
  {
   "cell_type": "code",
   "execution_count": 5,
   "metadata": {},
   "outputs": [
    {
     "name": "stdout",
     "output_type": "stream",
     "text": [
      "YHB\n",
      "X_train: (1248, 7), X_test: (331, 7), X_holdout: (225, 7)\n",
      "YHL\n",
      "X_train: (537, 7), X_test: (133, 7), X_holdout: (39, 7)\n",
      "YMR\n",
      "X_train: (1533, 7), X_test: (392, 7), X_holdout: (172, 7)\n",
      "YHH\n",
      "X_train: (1222, 7), X_test: (328, 7), X_holdout: (113, 7)\n",
      "B207\n",
      "X_train: (341, 7), X_test: (83, 7), X_holdout: 0\n",
      "FLWY\n",
      "X_train: (319, 7), X_test: (89, 7), X_holdout: (12, 7)\n",
      "YUF\n",
      "X_train: (816, 7), X_test: (227, 7), X_holdout: (118, 7)\n",
      "YPP\n",
      "X_train: (189, 7), X_test: (58, 7), X_holdout: (35, 7)\n",
      "YNR\n",
      "X_train: (2090, 7), X_test: (541, 7), X_holdout: (99, 7)\n",
      "YML\n",
      "X_train: (423, 7), X_test: (126, 7), X_holdout: (7, 7)\n",
      "YFT\n",
      "X_train: (899, 7), X_test: (214, 7), X_holdout: (55, 7)\n",
      "LKWY\n",
      "X_train: (209, 7), X_test: (50, 7), X_holdout: (2, 7)\n",
      "YTP\n",
      "X_train: (391, 7), X_test: (95, 7), X_holdout: (49, 7)\n",
      "B206\n",
      "X_train: (195, 7), X_test: (60, 7), X_holdout: 0\n",
      "YMC\n",
      "X_train: (1443, 7), X_test: (363, 7), X_holdout: (171, 7)\n",
      "YNM\n",
      "X_train: (487, 7), X_test: (137, 7), X_holdout: (6, 7)\n",
      "B950\n",
      "X_train: (152, 7), X_test: (42, 7), X_holdout: 0\n",
      "YDD\n",
      "X_train: (244, 7), X_test: (58, 7), X_holdout: (82, 7)\n"
     ]
    }
   ],
   "source": [
    "selected_feat_dict, selected_feature_names = proc.filter_station_dict_features(station_feature_dict,\n",
    "                                                                             feature_names,\n",
    "                                                                             selected_features)"
   ]
  },
  {
   "cell_type": "code",
   "execution_count": 6,
   "metadata": {},
   "outputs": [
    {
     "data": {
      "text/plain": [
       "['amp_1',\n",
       " 'amp_2',\n",
       " 'amp_4',\n",
       " 'noise_variance',\n",
       " 'source_depth_km',\n",
       " 'source_receiver_distance_logkm',\n",
       " 'source_receiver_back_azimuth_deg']"
      ]
     },
     "execution_count": 6,
     "metadata": {},
     "output_type": "execute_result"
    }
   ],
   "source": [
    "selected_features"
   ]
  },
  {
   "cell_type": "markdown",
   "metadata": {},
   "source": [
    "# Set Parameters"
   ]
  },
  {
   "cell_type": "code",
   "execution_count": 7,
   "metadata": {},
   "outputs": [],
   "source": [
    "# Model parameters\n",
    "model = SVR(kernel='rbf', C=1.0, gamma=0.1)\n",
    "model_scaler = True\n",
    "outdir = '/uufs/chpc.utah.edu/common/home/koper-group3/alysha/magnitudes/s_models/selected_features_constHP'\n",
    "phase = 'S'\n",
    "scoring_method='r2'\n"
   ]
  },
  {
   "cell_type": "markdown",
   "metadata": {},
   "source": [
    "# Select hyperparameters, train and evaluate the final model"
   ]
  },
  {
   "cell_type": "code",
   "execution_count": 8,
   "metadata": {},
   "outputs": [],
   "source": [
    "with open(os.path.join(outdir, 'selected_feature_names.txt'), 'w') as fp:\n",
    "    for ft in selected_feature_names:\n",
    "        fp.write(f'{ft}\\n')"
   ]
  },
  {
   "cell_type": "code",
   "execution_count": 9,
   "metadata": {},
   "outputs": [
    {
     "name": "stdout",
     "output_type": "stream",
     "text": [
      "YHB\n",
      "YHL\n",
      "YMR\n",
      "YHH\n",
      "B207\n",
      "FLWY\n",
      "YUF\n",
      "YPP\n",
      "YNR\n",
      "YML\n",
      "YFT\n",
      "LKWY\n",
      "YTP\n",
      "B206\n",
      "YMC\n",
      "YNM\n",
      "B950\n",
      "YDD\n"
     ]
    }
   ],
   "source": [
    "stations = selected_feat_dict.keys()\n",
    "results_dict_list = []\n",
    "\n",
    "for station in stations:\n",
    "    # Set up the grid search\n",
    "    print(station)\n",
    "    X = selected_feat_dict[station]['X_train'] \n",
    "    y = station_meta_dict[station]['y_train']   \n",
    "    trainer = TrainStationModel(station,\n",
    "                                phase,\n",
    "                                selected_feat_dict[station],\n",
    "                                station_meta_dict[station])\n",
    "    \n",
    "    opt_pipeline = cv.make_simple_pipeline(clone(model), model_scaler)\n",
    "    opt_pipeline.fit(X, \n",
    "                     y)\n",
    "    all_yhat, eval_results_dict = trainer.eval_all_splits(opt_pipeline)\n",
    "    eval_results_dict['station'] = station\n",
    "    eval_results_dict['phase'] = phase\n",
    "    trainer.save_all_predictions(all_yhat, outdir)\n",
    "    trainer.save_model(opt_pipeline, outdir)\n",
    "    results_dict_list.append(eval_results_dict)\n",
    "\n",
    "results_df = pd.DataFrame(results_dict_list)\n",
    "results_df.to_csv(os.path.join(outdir, 'all.stat.results.csv'), index=False)                                   "
   ]
  }
 ],
 "metadata": {
  "kernelspec": {
   "display_name": "featmags",
   "language": "python",
   "name": "python3"
  },
  "language_info": {
   "codemirror_mode": {
    "name": "ipython",
    "version": 3
   },
   "file_extension": ".py",
   "mimetype": "text/x-python",
   "name": "python",
   "nbconvert_exporter": "python",
   "pygments_lexer": "ipython3",
   "version": "3.11.6"
  }
 },
 "nbformat": 4,
 "nbformat_minor": 2
}
