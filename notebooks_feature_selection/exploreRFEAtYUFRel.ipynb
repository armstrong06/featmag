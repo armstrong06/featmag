{
 "cells": [
  {
   "cell_type": "code",
   "execution_count": 1,
   "metadata": {},
   "outputs": [],
   "source": [
    "import numpy as np\n",
    "import pandas as pd\n",
    "from sklearn.base import clone \n",
    "from sklearn.preprocessing import StandardScaler\n",
    "from sklearn.svm import SVR\n",
    "from sklearn.tree import DecisionTreeRegressor\n",
    "from sklearn.ensemble import RandomForestRegressor, GradientBoostingRegressor\n",
    "from sklearn.model_selection import RepeatedKFold, KFold, GridSearchCV\n",
    "from sklearn.metrics import r2_score\n",
    "from sklearn.feature_selection import RFE, SelectKBest, mutual_info_regression\n",
    "import matplotlib.pyplot as plt\n",
    "import time\n",
    "import json\n",
    "import sys\n",
    "import os\n",
    "# make paths above 'notebooks/' visible for local imports.\n",
    "# +----------------------------------------------------------------------------+\n",
    "module_path = os.path.abspath(os.path.join('..'))\n",
    "if module_path not in sys.path:\n",
    "    sys.path.append(module_path)\n",
    "\n",
    "from src.processing import GatherFeatureDatasets\n",
    "from src.utils import CrossValidation\n",
    "from src.feature_selection import CustomRFECV\n",
    "from src.feature_selection import IntrinsicFeatureSelection as ifs\n",
    "from src.plotting import plot_pairwise_correlations"
   ]
  },
  {
   "cell_type": "markdown",
   "metadata": {},
   "source": [
    "# Load in the data"
   ]
  },
  {
   "cell_type": "code",
   "execution_count": 2,
   "metadata": {},
   "outputs": [],
   "source": [
    "proc = GatherFeatureDatasets(is_p=True)"
   ]
  },
  {
   "cell_type": "code",
   "execution_count": 3,
   "metadata": {},
   "outputs": [],
   "source": [
    "data_dir = '/uufs/chpc.utah.edu/common/home/koper-group3/alysha/magnitudes/feature_splits'\n",
    "all_train_df = pd.read_csv(f'{data_dir}/p.train.csv')"
   ]
  },
  {
   "cell_type": "code",
   "execution_count": 4,
   "metadata": {},
   "outputs": [
    {
     "name": "stdout",
     "output_type": "stream",
     "text": [
      "YUF\n",
      "X shape: (1676, 45), y shape: (1676,)\n"
     ]
    }
   ],
   "source": [
    "# Use station YUF for experimenting with models because it has 1433 training examples, \n",
    "# which is ~half as much as YNR, so training should go faster. But should still be enough \n",
    "# examples for training good models. It is also one of the stations with a \n",
    "# UUSS correction, so already used for magnitude calculations and amplitudes should be good quality. \n",
    "stat = \"YUF\"\n",
    "station_feature_dict_rel, station_meta_dict_rel, feature_names_rel = proc.process_station_datasets(stat, \n",
    "                                                                                        all_train_df,\n",
    "                                                                                        scaler=False,\n",
    "                                                                                        linear_model=False,\n",
    "                                                                                        source_dist_type='dist')"
   ]
  },
  {
   "cell_type": "code",
   "execution_count": 5,
   "metadata": {},
   "outputs": [
    {
     "name": "stdout",
     "output_type": "stream",
     "text": [
      "YUF\n",
      "X shape: (1676, 45), y shape: (1676,)\n"
     ]
    }
   ],
   "source": [
    "station_feature_dict_rel_lin, station_meta_dict_rel_lin, feature_names_rel_lin = proc.process_station_datasets(stat, \n",
    "                                                                                        all_train_df,\n",
    "                                                                                        scaler=False,\n",
    "                                                                                        linear_model=True,\n",
    "                                                                                        source_dist_type='dist')"
   ]
  },
  {
   "cell_type": "code",
   "execution_count": 6,
   "metadata": {},
   "outputs": [
    {
     "data": {
      "text/plain": [
       "array(['amp_ratio_1', 'amp_ratio_2', 'amp_ratio_3', 'amp_ratio_4',\n",
       "       'amp_ratio_5', 'amp_ratio_6', 'amp_ratio_7', 'amp_ratio_8',\n",
       "       'amp_ratio_9', 'amp_ratio_10', 'amp_ratio_11', 'amp_ratio_12',\n",
       "       'amp_ratio_13', 'amp_ratio_14', 'amp_ratio_15', 'amp_ratio_16',\n",
       "       'amp_ratio_17', 'amp_ratio_18', 'amp_1', 'amp_2', 'amp_3', 'amp_4',\n",
       "       'amp_5', 'amp_6', 'amp_7', 'amp_8', 'amp_9', 'amp_10', 'amp_11',\n",
       "       'amp_12', 'amp_13', 'amp_14', 'amp_15', 'amp_16', 'amp_17',\n",
       "       'amp_18', 'signal_dominant_frequency', 'signal_dominant_amplitude',\n",
       "       'noise_max_amplitude', 'signal_max_amplitude', 'signal_variance',\n",
       "       'noise_variance', 'source_depth_km',\n",
       "       'source_receiver_distance_logkm',\n",
       "       'source_receiver_back_azimuth_deg'], dtype='<U32')"
      ]
     },
     "execution_count": 6,
     "metadata": {},
     "output_type": "execute_result"
    }
   ],
   "source": [
    "feature_names_rel"
   ]
  },
  {
   "cell_type": "code",
   "execution_count": 7,
   "metadata": {},
   "outputs": [
    {
     "data": {
      "text/plain": [
       "array(['amp_ratio_1', 'amp_ratio_2', 'amp_ratio_3', 'amp_ratio_4',\n",
       "       'amp_ratio_5', 'amp_ratio_6', 'amp_ratio_7', 'amp_ratio_8',\n",
       "       'amp_ratio_9', 'amp_ratio_10', 'amp_ratio_11', 'amp_ratio_12',\n",
       "       'amp_ratio_13', 'amp_ratio_14', 'amp_ratio_15', 'amp_ratio_16',\n",
       "       'amp_ratio_17', 'amp_ratio_18', 'amp_1', 'amp_2', 'amp_3', 'amp_4',\n",
       "       'amp_5', 'amp_6', 'amp_7', 'amp_8', 'amp_9', 'amp_10', 'amp_11',\n",
       "       'amp_12', 'amp_13', 'amp_14', 'amp_15', 'amp_16', 'amp_17',\n",
       "       'amp_18', 'signal_dominant_frequency', 'signal_dominant_amplitude',\n",
       "       'noise_max_amplitude', 'signal_max_amplitude', 'signal_variance',\n",
       "       'noise_variance', 'source_depth_km',\n",
       "       'source_receiver_distance_logkm',\n",
       "       'source_receiver_back_azimuth_sine'], dtype='<U33')"
      ]
     },
     "execution_count": 7,
     "metadata": {},
     "output_type": "execute_result"
    }
   ],
   "source": [
    "feature_names_rel_lin"
   ]
  },
  {
   "cell_type": "code",
   "execution_count": 8,
   "metadata": {},
   "outputs": [],
   "source": [
    "X_rel = station_feature_dict_rel['X_train']\n",
    "y_rel = station_meta_dict_rel['y_train']"
   ]
  },
  {
   "cell_type": "code",
   "execution_count": 9,
   "metadata": {},
   "outputs": [],
   "source": [
    "X_rel_lin = station_feature_dict_rel['X_train']\n",
    "y_rel_lin = station_meta_dict_rel['y_train']"
   ]
  },
  {
   "cell_type": "markdown",
   "metadata": {},
   "source": [
    "# Use RFECV to select N with different estimator models"
   ]
  },
  {
   "cell_type": "code",
   "execution_count": 10,
   "metadata": {},
   "outputs": [],
   "source": [
    "### Set Parameters ###\n",
    "cv_random_state=2652124\n",
    "# The model to used to estimate feature importance \n",
    "# estimator_model =  DecisionTreeRegressor()\n",
    "# # Boolean - True if data for estimator_model needs to be scaled\n",
    "# estimator_scaler = False\n",
    "# The main model to fit\n",
    "predictor_model = SVR(kernel='rbf')\n",
    "# Boolean - True if data for model needs to be scaled \n",
    "model_scaler = True\n",
    "# The scoring method to use in RFECV and GridCV\n",
    "scoring_method = 'r2'\n",
    "# The function used to evaluate the performance on the test model\n",
    "score_func = r2_score\n",
    "# True if a larger score_func value is better\n",
    "larger_score_is_better = True\n",
    "# The parameter space for GridCV to search\n",
    "# Decrease upper-limit of C for linear model because 100 is very slow \n",
    "svr_Cspace = [1, 10, 100]\n",
    "svr_gspace = [0.1, 0.01, 0.001]\n",
    "param_grid = [\n",
    "    {'m__C': svr_Cspace, 'm__gamma': svr_gspace},\n",
    "]\n",
    "# The number of jobs for RFECV and GridCV to use\n",
    "n_jobs = 10\n",
    "# number of folds for outer CV\n",
    "cv_folds_outer = 10\n",
    "# number of times to repeat outer CV\n",
    "n_outer_repeats = 1\n",
    "# number of folds for inner CV (used for hyperparameter tuning)\n",
    "cv_folds_inner = 5\n",
    "# number of folds for the final hyperparameter grid search\n",
    "cv_folds_hp = 10\n",
    "### Intrisic feature selection information \n",
    "# Function that takes in X, y, list of np arrays containing \n",
    "# the indices of features to filter, and K features to select\n",
    "if_feat_inds = [np.arange(0, 18), np.arange(18, 36)]\n",
    "if_K = 5\n",
    "#####################"
   ]
  },
  {
   "cell_type": "code",
   "execution_count": 14,
   "metadata": {},
   "outputs": [],
   "source": [
    "estimator_models = [DecisionTreeRegressor(), RandomForestRegressor(n_estimators=10), GradientBoostingRegressor(),  SVR(kernel='linear')]\n",
    "estimator_scalers = [False, False, False, True]"
   ]
  },
  {
   "cell_type": "markdown",
   "metadata": {},
   "source": [
    "Stopped running SVR linear estimator because I passed in the linear back azimuth, which is good for the estimator but not the SVR rbf predictor."
   ]
  },
  {
   "cell_type": "code",
   "execution_count": 16,
   "metadata": {},
   "outputs": [
    {
     "name": "stdout",
     "output_type": "stream",
     "text": [
      "DecisionTreeRegressor Estimator Scaler: False\n",
      "reducing features to 19\n",
      "Fold 0: N=19, test_score=0.915\n",
      "reducing features to 19\n",
      "Fold 1: N=17, test_score=0.880\n",
      "reducing features to 19\n",
      "Fold 2: N=14, test_score=0.917\n",
      "reducing features to 19\n",
      "Fold 3: N=10, test_score=0.907\n",
      "reducing features to 19\n",
      "Fold 4: N=11, test_score=0.924\n",
      "reducing features to 19\n",
      "Fold 5: N=19, test_score=0.891\n",
      "reducing features to 19\n",
      "Fold 6: N=9, test_score=0.900\n",
      "reducing features to 19\n",
      "Fold 7: N=17, test_score=0.929\n",
      "reducing features to 19\n",
      "Fold 8: N=16, test_score=0.915\n",
      "reducing features to 19\n",
      "Fold 9: N=11, test_score=0.901\n",
      "total time: 543.05 s\n",
      "Selected number of features: 17 (avg. score of 0.90)\n",
      "RandomForestRegressor Estimator Scaler: False\n",
      "reducing features to 19\n",
      "Fold 0: N=11, test_score=0.924\n",
      "reducing features to 19\n",
      "Fold 1: N=18, test_score=0.880\n",
      "reducing features to 19\n",
      "Fold 2: N=16, test_score=0.917\n",
      "reducing features to 19\n",
      "Fold 3: N=13, test_score=0.905\n",
      "reducing features to 19\n",
      "Fold 4: N=11, test_score=0.922\n",
      "reducing features to 19\n",
      "Fold 5: N=19, test_score=0.891\n",
      "reducing features to 19\n",
      "Fold 6: N=16, test_score=0.900\n",
      "reducing features to 19\n",
      "Fold 7: N=9, test_score=0.929\n",
      "reducing features to 19\n",
      "Fold 8: N=18, test_score=0.914\n",
      "reducing features to 19\n",
      "Fold 9: N=11, test_score=0.901\n",
      "total time: 838.20 s\n",
      "Selected number of features: 19 (avg. score of 0.90)\n",
      "GradientBoostingRegressor Estimator Scaler: False\n",
      "reducing features to 19\n",
      "Fold 0: N=11, test_score=0.924\n",
      "reducing features to 19\n",
      "Fold 1: N=8, test_score=0.889\n",
      "reducing features to 19\n",
      "Fold 2: N=17, test_score=0.918\n",
      "reducing features to 19\n",
      "Fold 3: N=13, test_score=0.906\n",
      "reducing features to 19\n",
      "Fold 4: N=11, test_score=0.924\n",
      "reducing features to 19\n",
      "Fold 5: N=19, test_score=0.891\n",
      "reducing features to 19\n",
      "Fold 6: N=9, test_score=0.906\n",
      "reducing features to 19\n",
      "Fold 7: N=10, test_score=0.930\n",
      "reducing features to 19\n",
      "Fold 8: N=12, test_score=0.914\n",
      "reducing features to 19\n",
      "Fold 9: N=11, test_score=0.899\n",
      "total time: 1932.23 s\n",
      "Selected number of features: 19 (avg. score of 0.90)\n",
      "Using linear features\n",
      "SVR Estimator Scaler: True\n",
      "reducing features to 19\n",
      "Fold 0: N=19, test_score=0.915\n",
      "reducing features to 19\n",
      "Fold 1: N=19, test_score=0.880\n",
      "reducing features to 19\n"
     ]
    },
    {
     "ename": "KeyboardInterrupt",
     "evalue": "",
     "output_type": "error",
     "traceback": [
      "\u001b[0;31m---------------------------------------------------------------------------\u001b[0m",
      "\u001b[0;31mKeyboardInterrupt\u001b[0m                         Traceback (most recent call last)",
      "Cell \u001b[0;32mIn[16], line 14\u001b[0m\n\u001b[1;32m     12\u001b[0m mname \u001b[38;5;241m=\u001b[39m \u001b[38;5;28mtype\u001b[39m(estimator_model)\u001b[38;5;241m.\u001b[39m\u001b[38;5;18m__name__\u001b[39m\n\u001b[1;32m     13\u001b[0m \u001b[38;5;28mprint\u001b[39m(mname, \u001b[38;5;124m'\u001b[39m\u001b[38;5;124mEstimator Scaler:\u001b[39m\u001b[38;5;124m'\u001b[39m, estimator_scaler)\n\u001b[0;32m---> 14\u001b[0m feat_selection_results \u001b[38;5;241m=\u001b[39m \u001b[43mCustomRFECV\u001b[49m\u001b[38;5;241;43m.\u001b[39;49m\u001b[43mdo_rfecv\u001b[49m\u001b[43m(\u001b[49m\u001b[43mX\u001b[49m\u001b[43m,\u001b[49m\n\u001b[1;32m     15\u001b[0m \u001b[43m                                              \u001b[49m\u001b[43my\u001b[49m\u001b[43m,\u001b[49m\n\u001b[1;32m     16\u001b[0m \u001b[43m                                            \u001b[49m\u001b[43mestimator_model\u001b[49m\u001b[43m,\u001b[49m\n\u001b[1;32m     17\u001b[0m \u001b[43m                                            \u001b[49m\u001b[43mpredictor_model\u001b[49m\u001b[43m,\u001b[49m\n\u001b[1;32m     18\u001b[0m \u001b[43m                                            \u001b[49m\u001b[43mparam_grid\u001b[49m\u001b[43m,\u001b[49m\n\u001b[1;32m     19\u001b[0m \u001b[43m                                            \u001b[49m\u001b[43mestimator_scaler\u001b[49m\u001b[38;5;241;43m=\u001b[39;49m\u001b[43mestimator_scaler\u001b[49m\u001b[43m,\u001b[49m\n\u001b[1;32m     20\u001b[0m \u001b[43m                                            \u001b[49m\u001b[43mpredictor_scaler\u001b[49m\u001b[38;5;241;43m=\u001b[39;49m\u001b[43mmodel_scaler\u001b[49m\u001b[43m,\u001b[49m\n\u001b[1;32m     21\u001b[0m \u001b[43m                                            \u001b[49m\u001b[43mscore_func\u001b[49m\u001b[38;5;241;43m=\u001b[39;49m\u001b[43mscore_func\u001b[49m\u001b[43m,\u001b[49m\n\u001b[1;32m     22\u001b[0m \u001b[43m                                            \u001b[49m\u001b[43mscoring_method\u001b[49m\u001b[38;5;241;43m=\u001b[39;49m\u001b[43mscoring_method\u001b[49m\u001b[43m,\u001b[49m\n\u001b[1;32m     23\u001b[0m \u001b[43m                                            \u001b[49m\u001b[43mn_jobs\u001b[49m\u001b[38;5;241;43m=\u001b[39;49m\u001b[43mn_jobs\u001b[49m\u001b[43m,\u001b[49m\n\u001b[1;32m     24\u001b[0m \u001b[43m                                            \u001b[49m\u001b[43mcv_folds_outer\u001b[49m\u001b[38;5;241;43m=\u001b[39;49m\u001b[43mcv_folds_outer\u001b[49m\u001b[43m,\u001b[49m\n\u001b[1;32m     25\u001b[0m \u001b[43m                                            \u001b[49m\u001b[43mcv_folds_inner\u001b[49m\u001b[38;5;241;43m=\u001b[39;49m\u001b[43mcv_folds_inner\u001b[49m\u001b[43m,\u001b[49m\n\u001b[1;32m     26\u001b[0m \u001b[43m                                            \u001b[49m\u001b[43mn_outer_repeats\u001b[49m\u001b[38;5;241;43m=\u001b[39;49m\u001b[43mn_outer_repeats\u001b[49m\u001b[43m,\u001b[49m\n\u001b[1;32m     27\u001b[0m \u001b[43m                                            \u001b[49m\u001b[43mcv_random_state\u001b[49m\u001b[38;5;241;43m=\u001b[39;49m\u001b[43mcv_random_state\u001b[49m\u001b[43m,\u001b[49m\n\u001b[1;32m     28\u001b[0m \u001b[43m                                            \u001b[49m\u001b[43mlarger_score_is_better\u001b[49m\u001b[38;5;241;43m=\u001b[39;49m\u001b[43mlarger_score_is_better\u001b[49m\u001b[43m,\u001b[49m\n\u001b[1;32m     29\u001b[0m \u001b[43m                                            \u001b[49m\u001b[43mintrinsic_filter_func\u001b[49m\u001b[38;5;241;43m=\u001b[39;49m\u001b[43mifs\u001b[49m\u001b[38;5;241;43m.\u001b[39;49m\u001b[43mMI_filter_func\u001b[49m\u001b[43m,\u001b[49m\n\u001b[1;32m     30\u001b[0m \u001b[43m                                            \u001b[49m\u001b[43mfeature_inds_to_filter\u001b[49m\u001b[38;5;241;43m=\u001b[39;49m\u001b[43mif_feat_inds\u001b[49m\u001b[43m,\u001b[49m\n\u001b[1;32m     31\u001b[0m \u001b[43m                                            \u001b[49m\u001b[43mintrinsic_filter_K\u001b[49m\u001b[38;5;241;43m=\u001b[39;49m\u001b[43mif_K\u001b[49m\n\u001b[1;32m     32\u001b[0m \u001b[43m                                            \u001b[49m\u001b[43m)\u001b[49m\n\u001b[1;32m     33\u001b[0m estimator_rfe_results_rel[mname] \u001b[38;5;241m=\u001b[39m feat_selection_results\n",
      "File \u001b[0;32m~/PycharmProjects/featmag/src/feature_selection.py:226\u001b[0m, in \u001b[0;36mCustomRFECV.do_rfecv\u001b[0;34m(X, y, estimator_model, predictor_model, param_grid, estimator_scaler, predictor_scaler, scoring_method, score_func, n_jobs, cv_folds_outer, cv_folds_inner, n_outer_repeats, cv_random_state, larger_score_is_better, intrinsic_filter_func, feature_inds_to_filter, intrinsic_filter_K)\u001b[0m\n\u001b[1;32m    224\u001b[0m \u001b[38;5;66;03m# Loop over all possible number of features (1,...,N)\u001b[39;00m\n\u001b[1;32m    225\u001b[0m \u001b[38;5;28;01mfor\u001b[39;00m n_feats \u001b[38;5;129;01min\u001b[39;00m \u001b[38;5;28mrange\u001b[39m(\u001b[38;5;241m1\u001b[39m, N\u001b[38;5;241m+\u001b[39m\u001b[38;5;241m1\u001b[39m):\n\u001b[0;32m--> 226\u001b[0m     fselector, pred_gs_result, yhat \u001b[38;5;241m=\u001b[39m \u001b[43mCustomRFECV\u001b[49m\u001b[38;5;241;43m.\u001b[39;49m\u001b[43mcustom_rfe\u001b[49m\u001b[43m(\u001b[49m\u001b[43mXi_train\u001b[49m\u001b[43m,\u001b[49m\n\u001b[1;32m    227\u001b[0m \u001b[43m                                                             \u001b[49m\u001b[43myi_train\u001b[49m\u001b[43m,\u001b[49m\n\u001b[1;32m    228\u001b[0m \u001b[43m                                                             \u001b[49m\u001b[43mestimator_pipeline\u001b[49m\u001b[43m,\u001b[49m\n\u001b[1;32m    229\u001b[0m \u001b[43m                                                             \u001b[49m\u001b[43mn_feats\u001b[49m\u001b[43m,\u001b[49m\n\u001b[1;32m    230\u001b[0m \u001b[43m                                                             \u001b[49m\u001b[43minner_grid_search\u001b[49m\u001b[43m,\u001b[49m\n\u001b[1;32m    231\u001b[0m \u001b[43m                                                             \u001b[49m\u001b[43mX_test\u001b[49m\u001b[38;5;241;43m=\u001b[39;49m\u001b[43mXi_test\u001b[49m\u001b[43m)\u001b[49m\n\u001b[1;32m    233\u001b[0m     \u001b[38;5;66;03m# Evaluate the predictor on the folds test set\u001b[39;00m\n\u001b[1;32m    234\u001b[0m     predictor_score \u001b[38;5;241m=\u001b[39m score_func(yi_test, yhat)\n",
      "File \u001b[0;32m~/PycharmProjects/featmag/src/feature_selection.py:282\u001b[0m, in \u001b[0;36mCustomRFECV.custom_rfe\u001b[0;34m(X_train, y_train, estimator_pipeline, n_feats, predictor_hyperparam_grid_search, X_test)\u001b[0m\n\u001b[1;32m    278\u001b[0m \u001b[38;5;66;03m# Select n features from the folds training set\u001b[39;00m\n\u001b[1;32m    279\u001b[0m fselector \u001b[38;5;241m=\u001b[39m RFE(estimator_pipeline, \n\u001b[1;32m    280\u001b[0m                 n_features_to_select\u001b[38;5;241m=\u001b[39mn_feats,\n\u001b[1;32m    281\u001b[0m                 importance_getter\u001b[38;5;241m=\u001b[39mimportance_getter)\n\u001b[0;32m--> 282\u001b[0m fselector \u001b[38;5;241m=\u001b[39m \u001b[43mfselector\u001b[49m\u001b[38;5;241;43m.\u001b[39;49m\u001b[43mfit\u001b[49m\u001b[43m(\u001b[49m\u001b[43mX_train\u001b[49m\u001b[43m,\u001b[49m\u001b[43m \u001b[49m\u001b[43my_train\u001b[49m\u001b[43m)\u001b[49m\n\u001b[1;32m    283\u001b[0m Xfeat_train \u001b[38;5;241m=\u001b[39m X_train[:, fselector\u001b[38;5;241m.\u001b[39msupport_]\n\u001b[1;32m    284\u001b[0m Xfeat_test \u001b[38;5;241m=\u001b[39m \u001b[38;5;28;01mNone\u001b[39;00m\n",
      "File \u001b[0;32m~/software/pkg/miniconda3/envs/featmags/lib/python3.11/site-packages/sklearn/feature_selection/_rfe.py:251\u001b[0m, in \u001b[0;36mRFE.fit\u001b[0;34m(self, X, y, **fit_params)\u001b[0m\n\u001b[1;32m    231\u001b[0m \u001b[38;5;250m\u001b[39m\u001b[38;5;124;03m\"\"\"Fit the RFE model and then the underlying estimator on the selected features.\u001b[39;00m\n\u001b[1;32m    232\u001b[0m \n\u001b[1;32m    233\u001b[0m \u001b[38;5;124;03mParameters\u001b[39;00m\n\u001b[0;32m   (...)\u001b[0m\n\u001b[1;32m    248\u001b[0m \u001b[38;5;124;03m    Fitted estimator.\u001b[39;00m\n\u001b[1;32m    249\u001b[0m \u001b[38;5;124;03m\"\"\"\u001b[39;00m\n\u001b[1;32m    250\u001b[0m \u001b[38;5;28mself\u001b[39m\u001b[38;5;241m.\u001b[39m_validate_params()\n\u001b[0;32m--> 251\u001b[0m \u001b[38;5;28;01mreturn\u001b[39;00m \u001b[38;5;28;43mself\u001b[39;49m\u001b[38;5;241;43m.\u001b[39;49m\u001b[43m_fit\u001b[49m\u001b[43m(\u001b[49m\u001b[43mX\u001b[49m\u001b[43m,\u001b[49m\u001b[43m \u001b[49m\u001b[43my\u001b[49m\u001b[43m,\u001b[49m\u001b[43m \u001b[49m\u001b[38;5;241;43m*\u001b[39;49m\u001b[38;5;241;43m*\u001b[39;49m\u001b[43mfit_params\u001b[49m\u001b[43m)\u001b[49m\n",
      "File \u001b[0;32m~/software/pkg/miniconda3/envs/featmags/lib/python3.11/site-packages/sklearn/feature_selection/_rfe.py:299\u001b[0m, in \u001b[0;36mRFE._fit\u001b[0;34m(self, X, y, step_score, **fit_params)\u001b[0m\n\u001b[1;32m    296\u001b[0m \u001b[38;5;28;01mif\u001b[39;00m \u001b[38;5;28mself\u001b[39m\u001b[38;5;241m.\u001b[39mverbose \u001b[38;5;241m>\u001b[39m \u001b[38;5;241m0\u001b[39m:\n\u001b[1;32m    297\u001b[0m     \u001b[38;5;28mprint\u001b[39m(\u001b[38;5;124m\"\u001b[39m\u001b[38;5;124mFitting estimator with \u001b[39m\u001b[38;5;132;01m%d\u001b[39;00m\u001b[38;5;124m features.\u001b[39m\u001b[38;5;124m\"\u001b[39m \u001b[38;5;241m%\u001b[39m np\u001b[38;5;241m.\u001b[39msum(support_))\n\u001b[0;32m--> 299\u001b[0m \u001b[43mestimator\u001b[49m\u001b[38;5;241;43m.\u001b[39;49m\u001b[43mfit\u001b[49m\u001b[43m(\u001b[49m\u001b[43mX\u001b[49m\u001b[43m[\u001b[49m\u001b[43m:\u001b[49m\u001b[43m,\u001b[49m\u001b[43m \u001b[49m\u001b[43mfeatures\u001b[49m\u001b[43m]\u001b[49m\u001b[43m,\u001b[49m\u001b[43m \u001b[49m\u001b[43my\u001b[49m\u001b[43m,\u001b[49m\u001b[43m \u001b[49m\u001b[38;5;241;43m*\u001b[39;49m\u001b[38;5;241;43m*\u001b[39;49m\u001b[43mfit_params\u001b[49m\u001b[43m)\u001b[49m\n\u001b[1;32m    301\u001b[0m \u001b[38;5;66;03m# Get importance and rank them\u001b[39;00m\n\u001b[1;32m    302\u001b[0m importances \u001b[38;5;241m=\u001b[39m _get_feature_importances(\n\u001b[1;32m    303\u001b[0m     estimator,\n\u001b[1;32m    304\u001b[0m     \u001b[38;5;28mself\u001b[39m\u001b[38;5;241m.\u001b[39mimportance_getter,\n\u001b[1;32m    305\u001b[0m     transform_func\u001b[38;5;241m=\u001b[39m\u001b[38;5;124m\"\u001b[39m\u001b[38;5;124msquare\u001b[39m\u001b[38;5;124m\"\u001b[39m,\n\u001b[1;32m    306\u001b[0m )\n",
      "File \u001b[0;32m~/software/pkg/miniconda3/envs/featmags/lib/python3.11/site-packages/sklearn/pipeline.py:405\u001b[0m, in \u001b[0;36mPipeline.fit\u001b[0;34m(self, X, y, **fit_params)\u001b[0m\n\u001b[1;32m    403\u001b[0m     \u001b[38;5;28;01mif\u001b[39;00m \u001b[38;5;28mself\u001b[39m\u001b[38;5;241m.\u001b[39m_final_estimator \u001b[38;5;241m!=\u001b[39m \u001b[38;5;124m\"\u001b[39m\u001b[38;5;124mpassthrough\u001b[39m\u001b[38;5;124m\"\u001b[39m:\n\u001b[1;32m    404\u001b[0m         fit_params_last_step \u001b[38;5;241m=\u001b[39m fit_params_steps[\u001b[38;5;28mself\u001b[39m\u001b[38;5;241m.\u001b[39msteps[\u001b[38;5;241m-\u001b[39m\u001b[38;5;241m1\u001b[39m][\u001b[38;5;241m0\u001b[39m]]\n\u001b[0;32m--> 405\u001b[0m         \u001b[38;5;28;43mself\u001b[39;49m\u001b[38;5;241;43m.\u001b[39;49m\u001b[43m_final_estimator\u001b[49m\u001b[38;5;241;43m.\u001b[39;49m\u001b[43mfit\u001b[49m\u001b[43m(\u001b[49m\u001b[43mXt\u001b[49m\u001b[43m,\u001b[49m\u001b[43m \u001b[49m\u001b[43my\u001b[49m\u001b[43m,\u001b[49m\u001b[43m \u001b[49m\u001b[38;5;241;43m*\u001b[39;49m\u001b[38;5;241;43m*\u001b[39;49m\u001b[43mfit_params_last_step\u001b[49m\u001b[43m)\u001b[49m\n\u001b[1;32m    407\u001b[0m \u001b[38;5;28;01mreturn\u001b[39;00m \u001b[38;5;28mself\u001b[39m\n",
      "File \u001b[0;32m~/software/pkg/miniconda3/envs/featmags/lib/python3.11/site-packages/sklearn/svm/_base.py:252\u001b[0m, in \u001b[0;36mBaseLibSVM.fit\u001b[0;34m(self, X, y, sample_weight)\u001b[0m\n\u001b[1;32m    249\u001b[0m     \u001b[38;5;28mprint\u001b[39m(\u001b[38;5;124m\"\u001b[39m\u001b[38;5;124m[LibSVM]\u001b[39m\u001b[38;5;124m\"\u001b[39m, end\u001b[38;5;241m=\u001b[39m\u001b[38;5;124m\"\u001b[39m\u001b[38;5;124m\"\u001b[39m)\n\u001b[1;32m    251\u001b[0m seed \u001b[38;5;241m=\u001b[39m rnd\u001b[38;5;241m.\u001b[39mrandint(np\u001b[38;5;241m.\u001b[39miinfo(\u001b[38;5;124m\"\u001b[39m\u001b[38;5;124mi\u001b[39m\u001b[38;5;124m\"\u001b[39m)\u001b[38;5;241m.\u001b[39mmax)\n\u001b[0;32m--> 252\u001b[0m \u001b[43mfit\u001b[49m\u001b[43m(\u001b[49m\u001b[43mX\u001b[49m\u001b[43m,\u001b[49m\u001b[43m \u001b[49m\u001b[43my\u001b[49m\u001b[43m,\u001b[49m\u001b[43m \u001b[49m\u001b[43msample_weight\u001b[49m\u001b[43m,\u001b[49m\u001b[43m \u001b[49m\u001b[43msolver_type\u001b[49m\u001b[43m,\u001b[49m\u001b[43m \u001b[49m\u001b[43mkernel\u001b[49m\u001b[43m,\u001b[49m\u001b[43m \u001b[49m\u001b[43mrandom_seed\u001b[49m\u001b[38;5;241;43m=\u001b[39;49m\u001b[43mseed\u001b[49m\u001b[43m)\u001b[49m\n\u001b[1;32m    253\u001b[0m \u001b[38;5;66;03m# see comment on the other call to np.iinfo in this file\u001b[39;00m\n\u001b[1;32m    255\u001b[0m \u001b[38;5;28mself\u001b[39m\u001b[38;5;241m.\u001b[39mshape_fit_ \u001b[38;5;241m=\u001b[39m X\u001b[38;5;241m.\u001b[39mshape \u001b[38;5;28;01mif\u001b[39;00m \u001b[38;5;28mhasattr\u001b[39m(X, \u001b[38;5;124m\"\u001b[39m\u001b[38;5;124mshape\u001b[39m\u001b[38;5;124m\"\u001b[39m) \u001b[38;5;28;01melse\u001b[39;00m (n_samples,)\n",
      "File \u001b[0;32m~/software/pkg/miniconda3/envs/featmags/lib/python3.11/site-packages/sklearn/svm/_base.py:331\u001b[0m, in \u001b[0;36mBaseLibSVM._dense_fit\u001b[0;34m(self, X, y, sample_weight, solver_type, kernel, random_seed)\u001b[0m\n\u001b[1;32m    317\u001b[0m libsvm\u001b[38;5;241m.\u001b[39mset_verbosity_wrap(\u001b[38;5;28mself\u001b[39m\u001b[38;5;241m.\u001b[39mverbose)\n\u001b[1;32m    319\u001b[0m \u001b[38;5;66;03m# we don't pass **self.get_params() to allow subclasses to\u001b[39;00m\n\u001b[1;32m    320\u001b[0m \u001b[38;5;66;03m# add other parameters to __init__\u001b[39;00m\n\u001b[1;32m    321\u001b[0m (\n\u001b[1;32m    322\u001b[0m     \u001b[38;5;28mself\u001b[39m\u001b[38;5;241m.\u001b[39msupport_,\n\u001b[1;32m    323\u001b[0m     \u001b[38;5;28mself\u001b[39m\u001b[38;5;241m.\u001b[39msupport_vectors_,\n\u001b[1;32m    324\u001b[0m     \u001b[38;5;28mself\u001b[39m\u001b[38;5;241m.\u001b[39m_n_support,\n\u001b[1;32m    325\u001b[0m     \u001b[38;5;28mself\u001b[39m\u001b[38;5;241m.\u001b[39mdual_coef_,\n\u001b[1;32m    326\u001b[0m     \u001b[38;5;28mself\u001b[39m\u001b[38;5;241m.\u001b[39mintercept_,\n\u001b[1;32m    327\u001b[0m     \u001b[38;5;28mself\u001b[39m\u001b[38;5;241m.\u001b[39m_probA,\n\u001b[1;32m    328\u001b[0m     \u001b[38;5;28mself\u001b[39m\u001b[38;5;241m.\u001b[39m_probB,\n\u001b[1;32m    329\u001b[0m     \u001b[38;5;28mself\u001b[39m\u001b[38;5;241m.\u001b[39mfit_status_,\n\u001b[1;32m    330\u001b[0m     \u001b[38;5;28mself\u001b[39m\u001b[38;5;241m.\u001b[39m_num_iter,\n\u001b[0;32m--> 331\u001b[0m ) \u001b[38;5;241m=\u001b[39m \u001b[43mlibsvm\u001b[49m\u001b[38;5;241;43m.\u001b[39;49m\u001b[43mfit\u001b[49m\u001b[43m(\u001b[49m\n\u001b[1;32m    332\u001b[0m \u001b[43m    \u001b[49m\u001b[43mX\u001b[49m\u001b[43m,\u001b[49m\n\u001b[1;32m    333\u001b[0m \u001b[43m    \u001b[49m\u001b[43my\u001b[49m\u001b[43m,\u001b[49m\n\u001b[1;32m    334\u001b[0m \u001b[43m    \u001b[49m\u001b[43msvm_type\u001b[49m\u001b[38;5;241;43m=\u001b[39;49m\u001b[43msolver_type\u001b[49m\u001b[43m,\u001b[49m\n\u001b[1;32m    335\u001b[0m \u001b[43m    \u001b[49m\u001b[43msample_weight\u001b[49m\u001b[38;5;241;43m=\u001b[39;49m\u001b[43msample_weight\u001b[49m\u001b[43m,\u001b[49m\n\u001b[1;32m    336\u001b[0m \u001b[43m    \u001b[49m\u001b[38;5;66;43;03m# TODO(1.4): Replace \"_class_weight\" with \"class_weight_\"\u001b[39;49;00m\n\u001b[1;32m    337\u001b[0m \u001b[43m    \u001b[49m\u001b[43mclass_weight\u001b[49m\u001b[38;5;241;43m=\u001b[39;49m\u001b[38;5;28;43mgetattr\u001b[39;49m\u001b[43m(\u001b[49m\u001b[38;5;28;43mself\u001b[39;49m\u001b[43m,\u001b[49m\u001b[43m \u001b[49m\u001b[38;5;124;43m\"\u001b[39;49m\u001b[38;5;124;43m_class_weight\u001b[39;49m\u001b[38;5;124;43m\"\u001b[39;49m\u001b[43m,\u001b[49m\u001b[43m \u001b[49m\u001b[43mnp\u001b[49m\u001b[38;5;241;43m.\u001b[39;49m\u001b[43mempty\u001b[49m\u001b[43m(\u001b[49m\u001b[38;5;241;43m0\u001b[39;49m\u001b[43m)\u001b[49m\u001b[43m)\u001b[49m\u001b[43m,\u001b[49m\n\u001b[1;32m    338\u001b[0m \u001b[43m    \u001b[49m\u001b[43mkernel\u001b[49m\u001b[38;5;241;43m=\u001b[39;49m\u001b[43mkernel\u001b[49m\u001b[43m,\u001b[49m\n\u001b[1;32m    339\u001b[0m \u001b[43m    \u001b[49m\u001b[43mC\u001b[49m\u001b[38;5;241;43m=\u001b[39;49m\u001b[38;5;28;43mself\u001b[39;49m\u001b[38;5;241;43m.\u001b[39;49m\u001b[43mC\u001b[49m\u001b[43m,\u001b[49m\n\u001b[1;32m    340\u001b[0m \u001b[43m    \u001b[49m\u001b[43mnu\u001b[49m\u001b[38;5;241;43m=\u001b[39;49m\u001b[38;5;28;43mself\u001b[39;49m\u001b[38;5;241;43m.\u001b[39;49m\u001b[43mnu\u001b[49m\u001b[43m,\u001b[49m\n\u001b[1;32m    341\u001b[0m \u001b[43m    \u001b[49m\u001b[43mprobability\u001b[49m\u001b[38;5;241;43m=\u001b[39;49m\u001b[38;5;28;43mself\u001b[39;49m\u001b[38;5;241;43m.\u001b[39;49m\u001b[43mprobability\u001b[49m\u001b[43m,\u001b[49m\n\u001b[1;32m    342\u001b[0m \u001b[43m    \u001b[49m\u001b[43mdegree\u001b[49m\u001b[38;5;241;43m=\u001b[39;49m\u001b[38;5;28;43mself\u001b[39;49m\u001b[38;5;241;43m.\u001b[39;49m\u001b[43mdegree\u001b[49m\u001b[43m,\u001b[49m\n\u001b[1;32m    343\u001b[0m \u001b[43m    \u001b[49m\u001b[43mshrinking\u001b[49m\u001b[38;5;241;43m=\u001b[39;49m\u001b[38;5;28;43mself\u001b[39;49m\u001b[38;5;241;43m.\u001b[39;49m\u001b[43mshrinking\u001b[49m\u001b[43m,\u001b[49m\n\u001b[1;32m    344\u001b[0m \u001b[43m    \u001b[49m\u001b[43mtol\u001b[49m\u001b[38;5;241;43m=\u001b[39;49m\u001b[38;5;28;43mself\u001b[39;49m\u001b[38;5;241;43m.\u001b[39;49m\u001b[43mtol\u001b[49m\u001b[43m,\u001b[49m\n\u001b[1;32m    345\u001b[0m \u001b[43m    \u001b[49m\u001b[43mcache_size\u001b[49m\u001b[38;5;241;43m=\u001b[39;49m\u001b[38;5;28;43mself\u001b[39;49m\u001b[38;5;241;43m.\u001b[39;49m\u001b[43mcache_size\u001b[49m\u001b[43m,\u001b[49m\n\u001b[1;32m    346\u001b[0m \u001b[43m    \u001b[49m\u001b[43mcoef0\u001b[49m\u001b[38;5;241;43m=\u001b[39;49m\u001b[38;5;28;43mself\u001b[39;49m\u001b[38;5;241;43m.\u001b[39;49m\u001b[43mcoef0\u001b[49m\u001b[43m,\u001b[49m\n\u001b[1;32m    347\u001b[0m \u001b[43m    \u001b[49m\u001b[43mgamma\u001b[49m\u001b[38;5;241;43m=\u001b[39;49m\u001b[38;5;28;43mself\u001b[39;49m\u001b[38;5;241;43m.\u001b[39;49m\u001b[43m_gamma\u001b[49m\u001b[43m,\u001b[49m\n\u001b[1;32m    348\u001b[0m \u001b[43m    \u001b[49m\u001b[43mepsilon\u001b[49m\u001b[38;5;241;43m=\u001b[39;49m\u001b[38;5;28;43mself\u001b[39;49m\u001b[38;5;241;43m.\u001b[39;49m\u001b[43mepsilon\u001b[49m\u001b[43m,\u001b[49m\n\u001b[1;32m    349\u001b[0m \u001b[43m    \u001b[49m\u001b[43mmax_iter\u001b[49m\u001b[38;5;241;43m=\u001b[39;49m\u001b[38;5;28;43mself\u001b[39;49m\u001b[38;5;241;43m.\u001b[39;49m\u001b[43mmax_iter\u001b[49m\u001b[43m,\u001b[49m\n\u001b[1;32m    350\u001b[0m \u001b[43m    \u001b[49m\u001b[43mrandom_seed\u001b[49m\u001b[38;5;241;43m=\u001b[39;49m\u001b[43mrandom_seed\u001b[49m\u001b[43m,\u001b[49m\n\u001b[1;32m    351\u001b[0m \u001b[43m\u001b[49m\u001b[43m)\u001b[49m\n\u001b[1;32m    353\u001b[0m \u001b[38;5;28mself\u001b[39m\u001b[38;5;241m.\u001b[39m_warn_from_fit_status()\n",
      "File \u001b[0;32msklearn/svm/_libsvm.pyx:236\u001b[0m, in \u001b[0;36msklearn.svm._libsvm.fit\u001b[0;34m()\u001b[0m\n",
      "\u001b[0;31mKeyboardInterrupt\u001b[0m: "
     ]
    }
   ],
   "source": [
    "estimator_rfe_results_rel = {}\n",
    "for i in range(len(estimator_models)):\n",
    "  if i == len(estimator_models)-1:\n",
    "    print(\"Using linear features\")\n",
    "    X = X_rel_lin\n",
    "    y = y_rel_lin\n",
    "  else:\n",
    "    X = X_rel\n",
    "    y = y_rel\n",
    "  estimator_model = estimator_models[i]\n",
    "  estimator_scaler = estimator_scalers[i]\n",
    "  mname = type(estimator_model).__name__\n",
    "  print(mname, 'Estimator Scaler:', estimator_scaler)\n",
    "  feat_selection_results = CustomRFECV.do_rfecv(X,\n",
    "                                                y,\n",
    "                                              estimator_model,\n",
    "                                              predictor_model,\n",
    "                                              param_grid,\n",
    "                                              estimator_scaler=estimator_scaler,\n",
    "                                              predictor_scaler=model_scaler,\n",
    "                                              score_func=score_func,\n",
    "                                              scoring_method=scoring_method,\n",
    "                                              n_jobs=n_jobs,\n",
    "                                              cv_folds_outer=cv_folds_outer,\n",
    "                                              cv_folds_inner=cv_folds_inner,\n",
    "                                              n_outer_repeats=n_outer_repeats,\n",
    "                                              cv_random_state=cv_random_state,\n",
    "                                              larger_score_is_better=larger_score_is_better,\n",
    "                                              intrinsic_filter_func=ifs.MI_filter_func,\n",
    "                                              feature_inds_to_filter=if_feat_inds,\n",
    "                                              intrinsic_filter_K=if_K\n",
    "                                              )\n",
    "  estimator_rfe_results_rel[mname] = feat_selection_results"
   ]
  },
  {
   "cell_type": "code",
   "execution_count": 17,
   "metadata": {},
   "outputs": [
    {
     "data": {
      "text/plain": [
       "{'DecisionTreeRegressor': {'best_N': 17,\n",
       "  'best_N_score': 0.9048311630242889,\n",
       "  'N_scores': array([[0.44438895, 0.78355435, 0.84217081, 0.87336055, 0.89027921,\n",
       "          0.88204962, 0.88390399, 0.87862315, 0.89300772, 0.90616229,\n",
       "          0.90806722, 0.90882865, 0.90828742, 0.90746128, 0.90921748,\n",
       "          0.91042473, 0.91069606, 0.91461863, 0.91537631],\n",
       "         [0.4855823 , 0.74717364, 0.78714073, 0.86242242, 0.86547047,\n",
       "          0.87412716, 0.86179544, 0.8613414 , 0.86310978, 0.86382586,\n",
       "          0.86481933, 0.87088619, 0.87189993, 0.8757312 , 0.8784393 ,\n",
       "          0.87968664, 0.88038932, 0.8786552 , 0.87969202],\n",
       "         [0.38095709, 0.76640673, 0.82194941, 0.86576178, 0.88171667,\n",
       "          0.88335207, 0.89035517, 0.90289108, 0.89083933, 0.87906499,\n",
       "          0.87918024, 0.91454407, 0.91602067, 0.91661062, 0.91377113,\n",
       "          0.91568601, 0.91374792, 0.91556753, 0.91189343],\n",
       "         [0.52629938, 0.73979891, 0.83388746, 0.85277149, 0.8852742 ,\n",
       "          0.89542331, 0.89569327, 0.89598544, 0.88131459, 0.90686269,\n",
       "          0.90654899, 0.90537785, 0.90330823, 0.9019952 , 0.90003107,\n",
       "          0.90120454, 0.8995761 , 0.90014513, 0.8992142 ],\n",
       "         [0.46361767, 0.73790222, 0.81876695, 0.87660754, 0.89232382,\n",
       "          0.88367633, 0.88622929, 0.91050208, 0.91055525, 0.90887097,\n",
       "          0.92448371, 0.92073167, 0.92044043, 0.9216915 , 0.91942742,\n",
       "          0.91980505, 0.91627882, 0.91322734, 0.91548491],\n",
       "         [0.51301901, 0.77377011, 0.70053123, 0.86636633, 0.62630184,\n",
       "          0.78429491, 0.81023545, 0.82812566, 0.83366415, 0.83442311,\n",
       "          0.84845066, 0.83718252, 0.82557477, 0.83009135, 0.88041504,\n",
       "          0.87879748, 0.88754247, 0.88971706, 0.89074806],\n",
       "         [0.34909227, 0.65769695, 0.8291196 , 0.84627615, 0.86390976,\n",
       "          0.87271463, 0.83924312, 0.83956871, 0.90013321, 0.89030817,\n",
       "          0.89175237, 0.89299392, 0.89783811, 0.89941376, 0.89719068,\n",
       "          0.8981568 , 0.89775992, 0.89764537, 0.89744515],\n",
       "         [0.39171952, 0.70023635, 0.78189151, 0.87774758, 0.8945135 ,\n",
       "          0.90521324, 0.90614809, 0.91127715, 0.91649496, 0.9222275 ,\n",
       "          0.92290079, 0.92444268, 0.92395599, 0.92858422, 0.92686653,\n",
       "          0.92760157, 0.92899563, 0.92606529, 0.92837019],\n",
       "         [0.43601753, 0.75687403, 0.8664106 , 0.88057168, 0.88384957,\n",
       "          0.89693684, 0.9072994 , 0.91463673, 0.90741243, 0.91107387,\n",
       "          0.91170814, 0.9131909 , 0.91389354, 0.9144964 , 0.91428061,\n",
       "          0.91465641, 0.91455337, 0.91433083, 0.91280423],\n",
       "         [0.38007461, 0.75810137, 0.82958179, 0.86364667, 0.86369349,\n",
       "          0.86836529, 0.88850225, 0.8889322 , 0.88948371, 0.85982895,\n",
       "          0.90051159, 0.90006272, 0.89922049, 0.89972614, 0.89920599,\n",
       "          0.89965592, 0.89877204, 0.89678088, 0.89688587]]),\n",
       "  'selected_feats': [array([ 3,  4,  5,  6,  7, 18, 19, 20, 21, 24, 36, 37, 38, 39, 40, 41, 42,\n",
       "          43, 44]),\n",
       "   array([ 1,  3,  4,  5,  6, 18, 19, 20, 21, 24, 37, 39, 40, 41, 42, 43, 44]),\n",
       "   array([ 3,  5,  6, 18, 19, 20, 21, 24, 37, 39, 40, 42, 43, 44]),\n",
       "   array([ 4,  5, 18, 19, 21, 24, 40, 42, 43, 44]),\n",
       "   array([ 5,  6, 18, 19, 20, 21, 24, 40, 42, 43, 44]),\n",
       "   array([ 1,  3,  5,  6,  8, 18, 19, 20, 21, 22, 36, 37, 38, 39, 40, 41, 42,\n",
       "          43, 44]),\n",
       "   array([ 6, 18, 19, 20, 21, 40, 42, 43, 44]),\n",
       "   array([ 3,  5,  7,  8, 18, 19, 20, 21, 24, 36, 37, 39, 40, 41, 42, 43, 44]),\n",
       "   array([ 1,  3,  4,  5, 18, 19, 20, 21, 25, 37, 39, 40, 41, 42, 43, 44]),\n",
       "   array([ 3,  5, 18, 19, 21, 24, 39, 40, 42, 43, 44])],\n",
       "  'intrinsic_K_feature_selection': array([[[ 6,  5,  3,  4,  7],\n",
       "          [19, 18, 21, 20, 24]],\n",
       "  \n",
       "         [[ 6,  3,  5,  4,  1],\n",
       "          [18, 19, 21, 20, 24]],\n",
       "  \n",
       "         [[ 5,  3,  6,  4,  2],\n",
       "          [19, 18, 21, 20, 24]],\n",
       "  \n",
       "         [[ 6,  5,  3,  4,  7],\n",
       "          [18, 19, 21, 20, 24]],\n",
       "  \n",
       "         [[ 6,  5,  3,  1,  7],\n",
       "          [19, 18, 20, 21, 24]],\n",
       "  \n",
       "         [[ 6,  5,  1,  3,  8],\n",
       "          [19, 18, 21, 20, 22]],\n",
       "  \n",
       "         [[ 6,  5,  8,  4,  3],\n",
       "          [18, 19, 21, 20, 22]],\n",
       "  \n",
       "         [[ 6,  5,  8,  7,  3],\n",
       "          [18, 19, 20, 21, 24]],\n",
       "  \n",
       "         [[ 5,  6,  1,  3,  4],\n",
       "          [18, 21, 19, 20, 25]],\n",
       "  \n",
       "         [[ 6,  5,  1,  3,  8],\n",
       "          [18, 19, 21, 20, 24]]])},\n",
       " 'RandomForestRegressor': {'best_N': 19,\n",
       "  'best_N_score': 0.9047914354565514,\n",
       "  'N_scores': array([[0.33437377, 0.78355435, 0.84217081, 0.87336055, 0.86164813,\n",
       "          0.90901608, 0.89939904, 0.89711818, 0.90635489, 0.89621206,\n",
       "          0.92446552, 0.91008152, 0.90693456, 0.91013456, 0.90788495,\n",
       "          0.90920241, 0.9108792 , 0.91412976, 0.91537631],\n",
       "         [0.4855823 , 0.74717364, 0.78714073, 0.86242242, 0.86547047,\n",
       "          0.85426299, 0.83974226, 0.8613414 , 0.86310978, 0.86836296,\n",
       "          0.86953004, 0.87115234, 0.87272536, 0.87408376, 0.87801663,\n",
       "          0.87870706, 0.87989491, 0.88017172, 0.87969202],\n",
       "         [0.38095709, 0.76640673, 0.8593222 , 0.87425788, 0.88171667,\n",
       "          0.88335207, 0.88253277, 0.89459648, 0.89687898, 0.910423  ,\n",
       "          0.91306539, 0.9145115 , 0.91383191, 0.91477377, 0.91469639,\n",
       "          0.91735162, 0.91429524, 0.91556753, 0.91189343],\n",
       "         [0.52629938, 0.73979891, 0.81585167, 0.88862456, 0.8852742 ,\n",
       "          0.88856072, 0.88652453, 0.89256153, 0.90326878, 0.89078246,\n",
       "          0.90422036, 0.90437152, 0.90471331, 0.9029291 , 0.90312984,\n",
       "          0.89913503, 0.9005325 , 0.90014513, 0.8992142 ],\n",
       "         [0.46361767, 0.73790222, 0.81876695, 0.88860655, 0.89232382,\n",
       "          0.90757265, 0.90899354, 0.9198841 , 0.92166686, 0.90864582,\n",
       "          0.92223496, 0.92042323, 0.92030143, 0.9205288 , 0.91891531,\n",
       "          0.91980505, 0.91564972, 0.91322734, 0.91548491],\n",
       "         [0.51301901, 0.77377011, 0.70053123, 0.86636633, 0.87060451,\n",
       "          0.84401091, 0.5846932 , 0.82639292, 0.80378056, 0.85748692,\n",
       "          0.85725664, 0.83651105, 0.84956238, 0.85874875, 0.86733352,\n",
       "          0.86087126, 0.88142747, 0.88495052, 0.89074806],\n",
       "         [0.34909227, 0.65769695, 0.84149241, 0.84627615, 0.86390976,\n",
       "          0.87271463, 0.83924312, 0.82774417, 0.83846558, 0.8963589 ,\n",
       "          0.89798636, 0.89745736, 0.89783811, 0.89383919, 0.89830024,\n",
       "          0.89984085, 0.89755629, 0.8985746 , 0.89744515],\n",
       "         [0.39171952, 0.70023635, 0.78189151, 0.87774758, 0.8945135 ,\n",
       "          0.89357967, 0.90662252, 0.90584353, 0.92937317, 0.92043245,\n",
       "          0.92902294, 0.92227621, 0.92330337, 0.92405198, 0.92469207,\n",
       "          0.92635182, 0.92725099, 0.92606529, 0.92837019],\n",
       "         [0.43601753, 0.75687403, 0.8664106 , 0.88057168, 0.88384957,\n",
       "          0.88363922, 0.90472255, 0.89502968, 0.91077781, 0.91064997,\n",
       "          0.91088179, 0.91143075, 0.91045505, 0.91277964, 0.91357369,\n",
       "          0.91222359, 0.91379169, 0.91433083, 0.91280423],\n",
       "         [0.38007461, 0.75810137, 0.85125564, 0.86364667, 0.86369349,\n",
       "          0.86518215, 0.88850225, 0.8889322 , 0.86250147, 0.85982895,\n",
       "          0.90105952, 0.89859089, 0.89727996, 0.89880843, 0.90047741,\n",
       "          0.89736313, 0.89460851, 0.89277732, 0.89688587]]),\n",
       "  'selected_feats': [array([ 3,  5,  6, 18, 19, 20, 21, 24, 42, 43, 44]),\n",
       "   array([ 1,  3,  4,  5,  6, 18, 19, 20, 21, 24, 37, 38, 39, 40, 41, 42, 43,\n",
       "          44]),\n",
       "   array([ 2,  3,  4,  5,  6, 18, 19, 20, 21, 24, 36, 37, 40, 42, 43, 44]),\n",
       "   array([ 3,  4,  5, 18, 19, 20, 21, 24, 37, 40, 42, 43, 44]),\n",
       "   array([ 3,  5,  6, 18, 19, 21, 24, 37, 42, 43, 44]),\n",
       "   array([ 1,  3,  5,  6,  8, 18, 19, 20, 21, 22, 36, 37, 38, 39, 40, 41, 42,\n",
       "          43, 44]),\n",
       "   array([ 3,  4,  5,  6,  8, 18, 19, 20, 21, 22, 36, 37, 40, 42, 43, 44]),\n",
       "   array([ 3, 18, 19, 21, 24, 37, 42, 43, 44]),\n",
       "   array([ 1,  3,  4,  5,  6, 18, 19, 20, 21, 25, 37, 38, 39, 40, 41, 42, 43,\n",
       "          44]),\n",
       "   array([ 3,  5, 18, 19, 21, 24, 37, 40, 42, 43, 44])],\n",
       "  'intrinsic_K_feature_selection': array([[[ 6,  5,  3,  4,  7],\n",
       "          [19, 18, 21, 20, 24]],\n",
       "  \n",
       "         [[ 6,  3,  5,  4,  1],\n",
       "          [18, 19, 21, 20, 24]],\n",
       "  \n",
       "         [[ 5,  3,  6,  4,  2],\n",
       "          [19, 18, 21, 20, 24]],\n",
       "  \n",
       "         [[ 6,  5,  3,  4,  7],\n",
       "          [18, 19, 21, 20, 24]],\n",
       "  \n",
       "         [[ 6,  5,  3,  1,  7],\n",
       "          [19, 18, 20, 21, 24]],\n",
       "  \n",
       "         [[ 6,  5,  1,  3,  8],\n",
       "          [19, 18, 21, 20, 22]],\n",
       "  \n",
       "         [[ 6,  5,  8,  4,  3],\n",
       "          [18, 19, 21, 20, 22]],\n",
       "  \n",
       "         [[ 6,  5,  8,  7,  3],\n",
       "          [18, 19, 20, 21, 24]],\n",
       "  \n",
       "         [[ 5,  6,  1,  3,  4],\n",
       "          [18, 21, 19, 20, 25]],\n",
       "  \n",
       "         [[ 6,  5,  1,  3,  8],\n",
       "          [18, 19, 21, 20, 24]]])},\n",
       " 'GradientBoostingRegressor': {'best_N': 19,\n",
       "  'best_N_score': 0.9047914354565514,\n",
       "  'N_scores': array([[0.33437377, 0.83769657, 0.84217081, 0.86633054, 0.86277781,\n",
       "          0.88204962, 0.89939904, 0.89711818, 0.92209263, 0.90911123,\n",
       "          0.92387804, 0.91039857, 0.91005231, 0.90911773, 0.9088983 ,\n",
       "          0.91048539, 0.9108792 , 0.91317923, 0.91537631],\n",
       "         [0.43364736, 0.79191165, 0.78714073, 0.85180955, 0.85876463,\n",
       "          0.84235805, 0.86179544, 0.88927274, 0.86906836, 0.86895335,\n",
       "          0.87065339, 0.87214324, 0.87522131, 0.87701518, 0.87869118,\n",
       "          0.87870706, 0.87989491, 0.87907674, 0.87969202],\n",
       "         [0.40145727, 0.82926086, 0.82194941, 0.86576178, 0.88298861,\n",
       "          0.88523678, 0.89229836, 0.89218812, 0.88625738, 0.88397171,\n",
       "          0.91570334, 0.91518208, 0.91449426, 0.91520991, 0.91719224,\n",
       "          0.91751936, 0.91760147, 0.91569195, 0.91189343],\n",
       "         [0.4733913 , 0.80965584, 0.81585167, 0.85277149, 0.87589674,\n",
       "          0.88892818, 0.88652453, 0.89347887, 0.89668302, 0.90473259,\n",
       "          0.90585907, 0.90563286, 0.90596388, 0.90371134, 0.9019764 ,\n",
       "          0.90170536, 0.9005325 , 0.90057999, 0.8992142 ],\n",
       "         [0.44001671, 0.82903241, 0.81876695, 0.87660754, 0.88040016,\n",
       "          0.89150477, 0.89257148, 0.9045783 , 0.9207291 , 0.92227409,\n",
       "          0.92444783, 0.92048035, 0.92003794, 0.91931403, 0.91942742,\n",
       "          0.91980505, 0.91627882, 0.91651238, 0.91548491],\n",
       "         [0.48295838, 0.84943833, 0.70053123, 0.87952208, 0.65808141,\n",
       "          0.66421042, 0.81115848, 0.82430143, 0.8060459 , 0.83962046,\n",
       "          0.84276983, 0.84717311, 0.84303089, 0.84849905, 0.84940878,\n",
       "          0.86087126, 0.88142747, 0.8827039 , 0.89074806],\n",
       "         [0.33885324, 0.76947384, 0.7614524 , 0.84627615, 0.87180558,\n",
       "          0.8417032 , 0.8432372 , 0.84821546, 0.90584508, 0.89565573,\n",
       "          0.89486514, 0.90401378, 0.89650527, 0.896105  , 0.89765137,\n",
       "          0.89795495, 0.89755629, 0.89805292, 0.89744515],\n",
       "         [0.39797836, 0.78510914, 0.78189151, 0.87774758, 0.8945135 ,\n",
       "          0.90082509, 0.90836527, 0.92145488, 0.9294966 , 0.93015621,\n",
       "          0.92319737, 0.92229429, 0.92269062, 0.92407355, 0.92517116,\n",
       "          0.92715184, 0.92856362, 0.9288769 , 0.92837019],\n",
       "         [0.46825674, 0.83932537, 0.84773582, 0.88057168, 0.88384957,\n",
       "          0.88618769, 0.89710231, 0.90217433, 0.90654438, 0.90921938,\n",
       "          0.91325825, 0.91418629, 0.91293391, 0.91372676, 0.91385956,\n",
       "          0.91222359, 0.91379169, 0.91187931, 0.91280423],\n",
       "         [0.38007461, 0.75810137, 0.82958179, 0.86364667, 0.86369349,\n",
       "          0.86871843, 0.88850225, 0.8889322 , 0.86186729, 0.85982895,\n",
       "          0.89913404, 0.89642789, 0.89686158, 0.89801468, 0.89796272,\n",
       "          0.89736313, 0.89877204, 0.89678088, 0.89688587]]),\n",
       "  'selected_feats': [array([ 3,  6, 18, 19, 20, 21, 24, 39, 42, 43, 44]),\n",
       "   array([ 3, 18, 19, 21, 24, 42, 43, 44]),\n",
       "   array([ 2,  3,  4,  5,  6, 18, 19, 20, 21, 24, 36, 37, 39, 40, 42, 43, 44]),\n",
       "   array([ 3,  5,  6,  7, 18, 19, 21, 24, 37, 39, 42, 43, 44]),\n",
       "   array([ 3,  5,  6, 18, 19, 21, 24, 39, 42, 43, 44]),\n",
       "   array([ 1,  3,  5,  6,  8, 18, 19, 20, 21, 22, 36, 37, 38, 39, 40, 41, 42,\n",
       "          43, 44]),\n",
       "   array([ 3,  6, 18, 19, 21, 40, 42, 43, 44]),\n",
       "   array([ 3,  6, 18, 19, 20, 21, 24, 42, 43, 44]),\n",
       "   array([ 3,  5,  6, 18, 19, 20, 21, 25, 39, 42, 43, 44]),\n",
       "   array([ 3,  5, 18, 19, 20, 21, 24, 40, 42, 43, 44])],\n",
       "  'intrinsic_K_feature_selection': array([[[ 6,  5,  3,  4,  7],\n",
       "          [19, 18, 21, 20, 24]],\n",
       "  \n",
       "         [[ 6,  3,  5,  4,  1],\n",
       "          [18, 19, 21, 20, 24]],\n",
       "  \n",
       "         [[ 5,  3,  6,  4,  2],\n",
       "          [19, 18, 21, 20, 24]],\n",
       "  \n",
       "         [[ 6,  5,  3,  4,  7],\n",
       "          [18, 19, 21, 20, 24]],\n",
       "  \n",
       "         [[ 6,  5,  3,  1,  7],\n",
       "          [19, 18, 20, 21, 24]],\n",
       "  \n",
       "         [[ 6,  5,  1,  3,  8],\n",
       "          [19, 18, 21, 20, 22]],\n",
       "  \n",
       "         [[ 6,  5,  8,  4,  3],\n",
       "          [18, 19, 21, 20, 22]],\n",
       "  \n",
       "         [[ 6,  5,  8,  7,  3],\n",
       "          [18, 19, 20, 21, 24]],\n",
       "  \n",
       "         [[ 5,  6,  1,  3,  4],\n",
       "          [18, 21, 19, 20, 25]],\n",
       "  \n",
       "         [[ 6,  5,  1,  3,  8],\n",
       "          [18, 19, 21, 20, 24]]])}}"
      ]
     },
     "execution_count": 17,
     "metadata": {},
     "output_type": "execute_result"
    }
   ],
   "source": [
    "estimator_rfe_results_rel"
   ]
  },
  {
   "cell_type": "code",
   "execution_count": 18,
   "metadata": {},
   "outputs": [],
   "source": [
    "import json\n",
    "from src.utils import NumpyEncoder\n",
    "outpath = '/uufs/chpc.utah.edu/common/home/koper-group3/alysha/magnitudes/feature_selection/experiment_YUF'\n",
    "outfile = 'rfecv.relDist.estimators.json'\n",
    "with open(os.path.join(outpath, outfile), 'w') as fp:\n",
    "    json.dump(estimator_rfe_results_rel, fp, indent=4, cls=NumpyEncoder)"
   ]
  },
  {
   "cell_type": "code",
   "execution_count": 19,
   "metadata": {},
   "outputs": [
    {
     "name": "stdout",
     "output_type": "stream",
     "text": [
      "reducing features to 19\n",
      "Fold 0: N=11, test_score=0.925\n",
      "reducing features to 19\n",
      "Fold 1: N=18, test_score=0.880\n",
      "reducing features to 19\n",
      "Fold 2: N=17, test_score=0.918\n",
      "reducing features to 19\n",
      "Fold 3: N=12, test_score=0.904\n",
      "reducing features to 19\n",
      "Fold 4: N=10, test_score=0.923\n",
      "reducing features to 19\n",
      "Fold 5: N=19, test_score=0.891\n",
      "reducing features to 19\n",
      "Fold 6: N=16, test_score=0.898\n",
      "reducing features to 19\n",
      "Fold 7: N=10, test_score=0.930\n",
      "reducing features to 19\n",
      "Fold 8: N=10, test_score=0.917\n",
      "reducing features to 19\n",
      "Fold 9: N=12, test_score=0.900\n",
      "total time: 3912.89 s\n",
      "Selected number of features: 19 (avg. score of 0.90)\n"
     ]
    }
   ],
   "source": [
    "estimator_model = RandomForestRegressor()\n",
    "estimator_scaler = False\n",
    "feat_selection_results_rf = CustomRFECV.do_rfecv(X_rel,\n",
    "                                        y_rel,\n",
    "                                        estimator_model,\n",
    "                                        predictor_model,\n",
    "                                        param_grid,\n",
    "                                        estimator_scaler=estimator_scaler,\n",
    "                                        predictor_scaler=model_scaler,\n",
    "                                        score_func=score_func,\n",
    "                                        scoring_method=scoring_method,\n",
    "                                        n_jobs=n_jobs,\n",
    "                                        cv_folds_outer=cv_folds_outer,\n",
    "                                        cv_folds_inner=cv_folds_inner,\n",
    "                                        n_outer_repeats=n_outer_repeats,\n",
    "                                        cv_random_state=cv_random_state,\n",
    "                                        larger_score_is_better=larger_score_is_better,\n",
    "                                        intrinsic_filter_func=ifs.MI_filter_func,\n",
    "                                        feature_inds_to_filter=if_feat_inds,\n",
    "                                        intrinsic_filter_K=if_K\n",
    "                                        )"
   ]
  },
  {
   "cell_type": "code",
   "execution_count": 20,
   "metadata": {},
   "outputs": [],
   "source": [
    "outfile = 'rfecv.relDist.estimator.fullRF.json'\n",
    "with open(os.path.join(outpath, outfile), 'w') as fp:\n",
    "    json.dump(feat_selection_results_rf, fp, indent=4, cls=NumpyEncoder)"
   ]
  },
  {
   "cell_type": "code",
   "execution_count": 22,
   "metadata": {},
   "outputs": [
    {
     "data": {
      "text/plain": [
       "dict_keys(['DecisionTreeRegressor', 'RandomForestRegressor', 'GradientBoostingRegressor'])"
      ]
     },
     "execution_count": 22,
     "metadata": {},
     "output_type": "execute_result"
    }
   ],
   "source": [
    "estimator_rfe_results_rel.keys()"
   ]
  },
  {
   "cell_type": "code",
   "execution_count": 23,
   "metadata": {},
   "outputs": [
    {
     "data": {
      "text/plain": [
       "dict_keys(['best_N', 'best_N_score', 'N_scores', 'selected_feats', 'intrinsic_K_feature_selection'])"
      ]
     },
     "execution_count": 23,
     "metadata": {},
     "output_type": "execute_result"
    }
   ],
   "source": [
    "estimator_rfe_results_rel['DecisionTreeRegressor'].keys()"
   ]
  },
  {
   "cell_type": "code",
   "execution_count": 52,
   "metadata": {},
   "outputs": [],
   "source": [
    "def select_N_one_standard_error(N_avgs):\n",
    "    max_val = np.max(N_avgs)\n",
    "    ste = np.std(N_avgs)/np.sqrt(len(N_avgs))\n",
    "    selected_N_ind = np.min(np.where((max_val - N_avgs) < ste))\n",
    "    return selected_N_ind+1"
   ]
  },
  {
   "cell_type": "code",
   "execution_count": 55,
   "metadata": {},
   "outputs": [],
   "source": [
    "for key in estimator_rfe_results_rel.keys():\n",
    "    N_avgs = np.average(estimator_rfe_results_rel[key]['N_scores'], axis=0)\n",
    "    estimator_rfe_results_rel[key]['oste_N'] = select_N_one_standard_error(N_avgs)"
   ]
  },
  {
   "cell_type": "code",
   "execution_count": 56,
   "metadata": {},
   "outputs": [],
   "source": [
    "N_avgs = np.average(feat_selection_results_rf['N_scores'], axis=0)\n",
    "feat_selection_results_rf['oste_N'] = select_N_one_standard_error(N_avgs)"
   ]
  },
  {
   "cell_type": "code",
   "execution_count": 57,
   "metadata": {},
   "outputs": [
    {
     "name": "stdout",
     "output_type": "stream",
     "text": [
      "8\n",
      "6\n",
      "8\n"
     ]
    },
    {
     "data": {
      "text/plain": [
       "Text(0.02, 0.5, '$R^2$')"
      ]
     },
     "execution_count": 57,
     "metadata": {},
     "output_type": "execute_result"
    },
    {
     "data": {
      "image/png": "[encoded data removed]",
      "text/plain": [
       "<Figure size 640x480 with 4 Axes>"
      ]
     },
     "metadata": {},
     "output_type": "display_data"
    }
   ],
   "source": [
    "fig, axes = plt.subplots(2, 2, constrained_layout=True)\n",
    "axes = axes.flatten()\n",
    "for i, key in enumerate(estimator_rfe_results_rel.keys()):\n",
    "    model_results = estimator_rfe_results_rel[key]\n",
    "    full_score_array = model_results['N_scores']\n",
    "    N_avgs = np.average(full_score_array, axis=0)\n",
    "    N_min = np.min(full_score_array, axis=0)\n",
    "    N_max = np.max(full_score_array, axis=0)\n",
    "    N_feats_to_use = model_results['best_N']\n",
    "    oste_N = model_results['oste_N']\n",
    "    print(oste_N)\n",
    "    x = np.arange(N_avgs.shape[0])+1\n",
    "    axes[i].fill_between(x, N_min, N_max, alpha=0.5, label='CV min., max.')\n",
    "    axes[i].scatter(x, N_avgs, color='C0', label='CV avg.')\n",
    "    axes[i].scatter(N_feats_to_use, N_avgs[N_feats_to_use-1], marker=\"x\", color='r', label='selected N')\n",
    "    axes[i].scatter(oste_N, N_avgs[oste_N-1], marker=\"x\", color='purple', label='1-STE N')\n",
    "    axes[i].set_title(key, fontsize=8)\n",
    "    #axes[i].grid()\n",
    "\n",
    "i+=1\n",
    "\n",
    "model_results = feat_selection_results_rf\n",
    "full_score_array = model_results['N_scores']\n",
    "N_avgs = np.average(full_score_array, axis=0)\n",
    "N_min = np.min(full_score_array, axis=0)\n",
    "N_max = np.max(full_score_array, axis=0)\n",
    "N_feats_to_use = model_results['best_N']\n",
    "oste_N = model_results['oste_N']\n",
    "x = np.arange(N_avgs.shape[0])+1\n",
    "axes[i].fill_between(x, N_min, N_max, alpha=0.5, label='CV min., max.')\n",
    "axes[i].scatter(x, N_avgs, color='C0', label='CV avg.')\n",
    "axes[i].scatter(N_feats_to_use, N_avgs[N_feats_to_use-1], marker=\"x\", color='r', label='selected N')\n",
    "axes[i].scatter(oste_N, N_avgs[oste_N-1], marker=\"x\", color='purple', label='1-STE N')\n",
    "axes[i].legend(loc='lower right')\n",
    "axes[i].set_title('RandomForestRegressor-Full', fontsize=8)\n",
    "\n",
    "fig.supxlabel(\"N features\")\n",
    "fig.supylabel(\"$R^2$\")"
   ]
  },
  {
   "cell_type": "markdown",
   "metadata": {},
   "source": [
    "## Use the selected N values (OSTE and Best) on the entire training set"
   ]
  },
  {
   "cell_type": "code",
   "execution_count": 155,
   "metadata": {},
   "outputs": [
    {
     "name": "stdout",
     "output_type": "stream",
     "text": [
      "['amp_ratio_7' 'amp_ratio_6' 'amp_ratio_4' 'amp_ratio_5' 'amp_ratio_2'] ['amp_1' 'amp_2' 'amp_4' 'amp_3' 'amp_7']\n",
      "(1676, 19)\n"
     ]
    }
   ],
   "source": [
    "# Filter the entire training dataset using MI and the same parameters used in CV\n",
    "mi_selected_features, mi_filtered_feature_inds = ifs.MI_filter_func(X_rel, \n",
    "                                                                    y_rel, \n",
    "                                                                    if_feat_inds, \n",
    "                                                                    if_K)\n",
    "print(feature_names_rel[mi_selected_features[0]], feature_names_rel[mi_selected_features[1]])\n",
    "X_mi = X_rel[:, mi_filtered_feature_inds]\n",
    "print(X_mi.shape)"
   ]
  },
  {
   "cell_type": "code",
   "execution_count": 156,
   "metadata": {},
   "outputs": [
    {
     "data": {
      "text/plain": [
       "array(['amp_ratio_2', 'amp_ratio_4', 'amp_ratio_5', 'amp_ratio_6',\n",
       "       'amp_ratio_7', 'amp_1', 'amp_2', 'amp_3', 'amp_4', 'amp_7',\n",
       "       'signal_dominant_frequency', 'signal_dominant_amplitude',\n",
       "       'noise_max_amplitude', 'signal_max_amplitude', 'signal_variance',\n",
       "       'noise_variance', 'source_depth_km',\n",
       "       'source_receiver_distance_logkm',\n",
       "       'source_receiver_back_azimuth_deg'], dtype='<U32')"
      ]
     },
     "execution_count": 156,
     "metadata": {},
     "output_type": "execute_result"
    }
   ],
   "source": [
    "feature_names_rel[mi_filtered_feature_inds]"
   ]
  },
  {
   "cell_type": "code",
   "execution_count": 157,
   "metadata": {},
   "outputs": [
    {
     "name": "stdout",
     "output_type": "stream",
     "text": [
      "DecisionTreeRegressor Estimator Scaler: False\n",
      "[ 8 17]\n",
      "8: CV Mean: 0.89, CV STD: 0.03\n",
      "17: CV Mean: 0.91, CV STD: 0.01\n",
      "RandomForestRegressor Estimator Scaler: False\n",
      "[ 6 19]\n",
      "6: CV Mean: 0.89, CV STD: 0.02\n",
      "19: CV Mean: 0.91, CV STD: 0.01\n",
      "GradientBoostingRegressor Estimator Scaler: False\n",
      "[ 8 19]\n",
      "8: CV Mean: 0.90, CV STD: 0.02\n",
      "19: CV Mean: 0.91, CV STD: 0.01\n"
     ]
    }
   ],
   "source": [
    "# Set up SVR hyperparameter grid search\n",
    "# If this isn't reran when the feature selection is reran then\n",
    "# the results may be slightly different\n",
    "hp_grid_search, hp_cv = CrossValidation.setup_cv(predictor_model, \n",
    "                                                param_grid, \n",
    "                                                model_scaler=model_scaler, \n",
    "                                                scoring_method=scoring_method, \n",
    "                                                n_jobs=n_jobs, \n",
    "                                                cv_folds=cv_folds_outer, \n",
    "                                                cv_random_state=cv_random_state, \n",
    "                                                refit_model=False)\n",
    "full_estimator_rfe_results_rel = {}\n",
    "for i in range(len(estimator_models[:-1])):\n",
    "    estimator_model = estimator_models[i]\n",
    "    estimator_scaler = estimator_scalers[i]\n",
    "    mname = type(estimator_model).__name__\n",
    "    print(mname, 'Estimator Scaler:', estimator_scaler)\n",
    "    estimator_pipeline = CrossValidation.make_simple_pipeline(estimator_model, \n",
    "                                                          estimator_scaler)\n",
    "    N_feats_to_use = np.unique([estimator_rfe_results_rel[mname]['best_N'], \n",
    "                                estimator_rfe_results_rel[mname]['oste_N']])\n",
    "    print(N_feats_to_use)\n",
    "    N_results = {}\n",
    "    for N_i in N_feats_to_use:\n",
    "        fselector, gs_results, _ = CustomRFECV.custom_rfe(X_mi, \n",
    "                                                        y_rel,\n",
    "                                                        estimator_pipeline,\n",
    "                                                        N_i,\n",
    "                                                        hp_grid_search)\n",
    "        cv_mean, cv_std, params = CrossValidation.get_gridsearchcv_best_results(gs_results)\n",
    "        print(f'{N_i}: CV Mean: {cv_mean:0.2f}, CV STD: {cv_std:0.2f}')\n",
    "        N_results[str(N_i)] = {'selected_feature_inds':mi_filtered_feature_inds[fselector.support_],\n",
    "                          'pred_cv_mean':cv_mean,\n",
    "                          'pred_cv_std':cv_std,\n",
    "                          'pre_cv_params':params}\n",
    "    full_estimator_rfe_results_rel[mname] = N_results"
   ]
  },
  {
   "cell_type": "code",
   "execution_count": 158,
   "metadata": {},
   "outputs": [
    {
     "name": "stdout",
     "output_type": "stream",
     "text": [
      "RandomForestRegressor100 Estimator Scaler: False\n",
      "[ 8 19]\n",
      "8: CV Mean: 0.89, CV STD: 0.03\n",
      "19: CV Mean: 0.91, CV STD: 0.01\n"
     ]
    }
   ],
   "source": [
    "estimator_model = RandomForestRegressor()\n",
    "estimator_scaler = False\n",
    "mname = type(estimator_model).__name__ + str(estimator_model.get_params()['n_estimators'])\n",
    "print(mname, 'Estimator Scaler:', estimator_scaler)\n",
    "estimator_pipeline = CrossValidation.make_simple_pipeline(estimator_model, \n",
    "                                                        estimator_scaler)\n",
    "N_feats_to_use = np.unique([feat_selection_results_rf['best_N'], \n",
    "                            feat_selection_results_rf['oste_N']])\n",
    "print(N_feats_to_use)\n",
    "N_results = {}\n",
    "for N_i in N_feats_to_use:\n",
    "    fselector, gs_results, _ = CustomRFECV.custom_rfe(X_mi, \n",
    "                                                    y_rel,\n",
    "                                                    estimator_pipeline,\n",
    "                                                    N_i,\n",
    "                                                    hp_grid_search)\n",
    "    cv_mean, cv_std, params = CrossValidation.get_gridsearchcv_best_results(gs_results)\n",
    "    print(f'{N_i}: CV Mean: {cv_mean:0.2f}, CV STD: {cv_std:0.2f}')\n",
    "    N_results[str(N_i)] = {'selected_feature_inds':mi_filtered_feature_inds[fselector.support_],\n",
    "                        'pred_cv_mean':cv_mean,\n",
    "                        'pred_cv_std':cv_std,\n",
    "                        'pre_cv_params':params}\n",
    "full_estimator_rfe_results_rel[mname] = N_results"
   ]
  },
  {
   "cell_type": "code",
   "execution_count": 159,
   "metadata": {},
   "outputs": [
    {
     "name": "stdout",
     "output_type": "stream",
     "text": [
      "DecisionTreeRegressor 8 0.89 ['amp_ratio_5' 'amp_1' 'amp_2' 'amp_4' 'amp_7' 'signal_variance'\n",
      " 'source_depth_km' 'source_receiver_distance_logkm']\n",
      "RandomForestRegressor 6 0.89 ['amp_1' 'amp_2' 'amp_4' 'amp_7' 'source_depth_km'\n",
      " 'source_receiver_distance_logkm']\n",
      "GradientBoostingRegressor 8 0.90 ['amp_ratio_4' 'amp_1' 'amp_2' 'amp_4' 'amp_7' 'source_depth_km'\n",
      " 'source_receiver_distance_logkm' 'source_receiver_back_azimuth_deg']\n",
      "RandomForestRegressor100 8 0.89 ['amp_ratio_4' 'amp_1' 'amp_2' 'amp_4' 'amp_7' 'signal_variance'\n",
      " 'source_depth_km' 'source_receiver_distance_logkm']\n"
     ]
    }
   ],
   "source": [
    "for key in full_estimator_rfe_results_rel.keys():\n",
    "    results = full_estimator_rfe_results_rel[key]\n",
    "    N_key = list(results.keys())[0]\n",
    "    results = results[N_key]\n",
    "    print(key, N_key, f\"{results['pred_cv_mean']:0.2f}\", feature_names_rel[results['selected_feature_inds']])\n"
   ]
  },
  {
   "cell_type": "code",
   "execution_count": 160,
   "metadata": {},
   "outputs": [],
   "source": [
    "outfile = 'rfecv.relDist.estimators.fullTrain.json'\n",
    "with open(os.path.join(outpath, outfile), 'w') as fp:\n",
    "    json.dump(full_estimator_rfe_results_rel, fp, indent=4, cls=NumpyEncoder)"
   ]
  },
  {
   "cell_type": "code",
   "execution_count": 161,
   "metadata": {},
   "outputs": [
    {
     "data": {
      "text/plain": [
       "Text(0.5, 1.0, 'SVR CV Performance with Selected Features (Relative Distances)')"
      ]
     },
     "execution_count": 161,
     "metadata": {},
     "output_type": "execute_result"
    },
    {
     "data": {
      "image/png": "[encoded data removed]",
      "text/plain": [
       "<Figure size 640x480 with 1 Axes>"
      ]
     },
     "metadata": {},
     "output_type": "display_data"
    }
   ],
   "source": [
    "for k_ind, key in enumerate(full_estimator_rfe_results_rel.keys()):\n",
    "    results = full_estimator_rfe_results_rel[key]\n",
    "    N_prev = -1\n",
    "    n_vals = len(results.keys())\n",
    "    for i, N_i in enumerate(results.keys()):\n",
    "        N_i_int = int(N_i)\n",
    "        assert N_i_int > N_prev, \"Ns are out of order\"\n",
    "        sym = \"^\"\n",
    "        color='C0'\n",
    "        if n_vals > 1 and i == 0:\n",
    "            sym = \"x\"\n",
    "            color='C1'\n",
    "        cv_mean = results[N_i]['pred_cv_mean']\n",
    "        cv_std = results[N_i]['pred_cv_std']\n",
    "        plt.scatter(k_ind, cv_mean, marker=sym, color=color)\n",
    "        plt.vlines(k_ind, cv_mean-cv_std, cv_mean+cv_std, color=color, alpha=0.5)\n",
    "        plt.text(k_ind+0.05, cv_mean-0.001, N_i, color=color)\n",
    "        N_prev = N_i_int\n",
    "\n",
    "plt.xticks(np.arange(len(full_estimator_rfe_results_rel.keys())), \n",
    "           full_estimator_rfe_results_rel.keys(),\n",
    "           rotation=45)\n",
    "plt.xlabel('Estimator Model')\n",
    "plt.ylabel('$R^2$')\n",
    "plt.ylim([0.855, 0.925])\n",
    "plt.title(\"SVR CV Performance with Selected Features (Relative Distances)\", fontsize=10)"
   ]
  },
  {
   "cell_type": "markdown",
   "metadata": {},
   "source": [
    "# Use DecisionTree estimator and different predictor models\n",
    "\n",
    "Select DecisionTree because results pretty similar to GBT but much faster. The features that are not being selected (related to location) will be fixed with human-in-the-loop selection later as feature selection will not be fully automated."
   ]
  },
  {
   "cell_type": "code",
   "execution_count": 162,
   "metadata": {},
   "outputs": [],
   "source": [
    "# The model to used to estimate feature importance \n",
    "estimator_model =  DecisionTreeRegressor()\n",
    "# Boolean - True if data for estimator_model needs to be scaled\n",
    "estimator_scaler = False\n",
    "\n",
    "predictor_models = {\"RF\": RandomForestRegressor(random_state=0), \n",
    "                    \"GBT\": GradientBoostingRegressor(random_state=0)}\n",
    "model_scaler = False\n",
    "\n",
    "param_grids = {\"RF\": {\"m__max_features\": [1, 4, 6],\n",
    "                      \"m__n_estimators\": [100, 500, 1000]},\n",
    "               \"GBT\": {'m__n_estimators': [100, 500, 1000], \n",
    "                       'm__max_depth': [1, 3, 5]}\n",
    "              }"
   ]
  },
  {
   "cell_type": "code",
   "execution_count": 163,
   "metadata": {},
   "outputs": [
    {
     "name": "stdout",
     "output_type": "stream",
     "text": [
      "Predictor: RandomForestRegressor Model Scaler: False\n",
      "Estimator: DecisionTreeRegressor Estimator Scaler: False\n",
      "{'m__max_features': [1, 4, 6], 'm__n_estimators': [100, 500, 1000]}\n",
      "reducing features to 19\n",
      "Fold 0: N=9, test_score=0.904\n",
      "reducing features to 19\n",
      "Fold 1: N=11, test_score=0.896\n",
      "reducing features to 19\n",
      "Fold 2: N=9, test_score=0.905\n",
      "reducing features to 19\n",
      "Fold 3: N=11, test_score=0.903\n",
      "reducing features to 19\n"
     ]
    },
    {
     "ename": "KeyboardInterrupt",
     "evalue": "",
     "output_type": "error",
     "traceback": [
      "\u001b[0;31m---------------------------------------------------------------------------\u001b[0m",
      "\u001b[0;31mKeyboardInterrupt\u001b[0m                         Traceback (most recent call last)",
      "Cell \u001b[0;32mIn[163], line 9\u001b[0m\n\u001b[1;32m      7\u001b[0m \u001b[38;5;28mprint\u001b[39m(\u001b[38;5;124m\"\u001b[39m\u001b[38;5;124mEstimator:\u001b[39m\u001b[38;5;124m\"\u001b[39m, \u001b[38;5;28mtype\u001b[39m(estimator_model)\u001b[38;5;241m.\u001b[39m\u001b[38;5;18m__name__\u001b[39m, \u001b[38;5;124m'\u001b[39m\u001b[38;5;124mEstimator Scaler:\u001b[39m\u001b[38;5;124m'\u001b[39m, estimator_scaler)\n\u001b[1;32m      8\u001b[0m \u001b[38;5;28mprint\u001b[39m(param_grid)\n\u001b[0;32m----> 9\u001b[0m feat_selection_results \u001b[38;5;241m=\u001b[39m \u001b[43mCustomRFECV\u001b[49m\u001b[38;5;241;43m.\u001b[39;49m\u001b[43mdo_rfecv\u001b[49m\u001b[43m(\u001b[49m\u001b[43mX_rel\u001b[49m\u001b[43m,\u001b[49m\n\u001b[1;32m     10\u001b[0m \u001b[43m                                              \u001b[49m\u001b[43my_rel\u001b[49m\u001b[43m,\u001b[49m\n\u001b[1;32m     11\u001b[0m \u001b[43m                                            \u001b[49m\u001b[43mestimator_model\u001b[49m\u001b[43m,\u001b[49m\n\u001b[1;32m     12\u001b[0m \u001b[43m                                            \u001b[49m\u001b[43mpredictor_model\u001b[49m\u001b[43m,\u001b[49m\n\u001b[1;32m     13\u001b[0m \u001b[43m                                            \u001b[49m\u001b[43mparam_grid\u001b[49m\u001b[43m,\u001b[49m\n\u001b[1;32m     14\u001b[0m \u001b[43m                                            \u001b[49m\u001b[43mestimator_scaler\u001b[49m\u001b[38;5;241;43m=\u001b[39;49m\u001b[43mestimator_scaler\u001b[49m\u001b[43m,\u001b[49m\n\u001b[1;32m     15\u001b[0m \u001b[43m                                            \u001b[49m\u001b[43mpredictor_scaler\u001b[49m\u001b[38;5;241;43m=\u001b[39;49m\u001b[43mmodel_scaler\u001b[49m\u001b[43m,\u001b[49m\n\u001b[1;32m     16\u001b[0m \u001b[43m                                            \u001b[49m\u001b[43mscore_func\u001b[49m\u001b[38;5;241;43m=\u001b[39;49m\u001b[43mscore_func\u001b[49m\u001b[43m,\u001b[49m\n\u001b[1;32m     17\u001b[0m \u001b[43m                                            \u001b[49m\u001b[43mscoring_method\u001b[49m\u001b[38;5;241;43m=\u001b[39;49m\u001b[43mscoring_method\u001b[49m\u001b[43m,\u001b[49m\n\u001b[1;32m     18\u001b[0m \u001b[43m                                            \u001b[49m\u001b[43mn_jobs\u001b[49m\u001b[38;5;241;43m=\u001b[39;49m\u001b[43mn_jobs\u001b[49m\u001b[43m,\u001b[49m\n\u001b[1;32m     19\u001b[0m \u001b[43m                                            \u001b[49m\u001b[43mcv_folds_outer\u001b[49m\u001b[38;5;241;43m=\u001b[39;49m\u001b[43mcv_folds_outer\u001b[49m\u001b[43m,\u001b[49m\n\u001b[1;32m     20\u001b[0m \u001b[43m                                            \u001b[49m\u001b[43mcv_folds_inner\u001b[49m\u001b[38;5;241;43m=\u001b[39;49m\u001b[43mcv_folds_inner\u001b[49m\u001b[43m,\u001b[49m\n\u001b[1;32m     21\u001b[0m \u001b[43m                                            \u001b[49m\u001b[43mn_outer_repeats\u001b[49m\u001b[38;5;241;43m=\u001b[39;49m\u001b[43mn_outer_repeats\u001b[49m\u001b[43m,\u001b[49m\n\u001b[1;32m     22\u001b[0m \u001b[43m                                            \u001b[49m\u001b[43mcv_random_state\u001b[49m\u001b[38;5;241;43m=\u001b[39;49m\u001b[43mcv_random_state\u001b[49m\u001b[43m,\u001b[49m\n\u001b[1;32m     23\u001b[0m \u001b[43m                                            \u001b[49m\u001b[43mlarger_score_is_better\u001b[49m\u001b[38;5;241;43m=\u001b[39;49m\u001b[43mlarger_score_is_better\u001b[49m\u001b[43m,\u001b[49m\n\u001b[1;32m     24\u001b[0m \u001b[43m                                            \u001b[49m\u001b[43mintrinsic_filter_func\u001b[49m\u001b[38;5;241;43m=\u001b[39;49m\u001b[43mifs\u001b[49m\u001b[38;5;241;43m.\u001b[39;49m\u001b[43mMI_filter_func\u001b[49m\u001b[43m,\u001b[49m\n\u001b[1;32m     25\u001b[0m \u001b[43m                                            \u001b[49m\u001b[43mfeature_inds_to_filter\u001b[49m\u001b[38;5;241;43m=\u001b[39;49m\u001b[43mif_feat_inds\u001b[49m\u001b[43m,\u001b[49m\n\u001b[1;32m     26\u001b[0m \u001b[43m                                            \u001b[49m\u001b[43mintrinsic_filter_K\u001b[49m\u001b[38;5;241;43m=\u001b[39;49m\u001b[43mif_K\u001b[49m\n\u001b[1;32m     27\u001b[0m \u001b[43m                                            \u001b[49m\u001b[43m)\u001b[49m\n\u001b[1;32m     28\u001b[0m predictor_rfe_results_rel[mname] \u001b[38;5;241m=\u001b[39m feat_selection_results\n",
      "File \u001b[0;32m~/PycharmProjects/featmag/src/feature_selection.py:226\u001b[0m, in \u001b[0;36mCustomRFECV.do_rfecv\u001b[0;34m(X, y, estimator_model, predictor_model, param_grid, estimator_scaler, predictor_scaler, scoring_method, score_func, n_jobs, cv_folds_outer, cv_folds_inner, n_outer_repeats, cv_random_state, larger_score_is_better, intrinsic_filter_func, feature_inds_to_filter, intrinsic_filter_K)\u001b[0m\n\u001b[1;32m    224\u001b[0m \u001b[38;5;66;03m# Loop over all possible number of features (1,...,N)\u001b[39;00m\n\u001b[1;32m    225\u001b[0m \u001b[38;5;28;01mfor\u001b[39;00m n_feats \u001b[38;5;129;01min\u001b[39;00m \u001b[38;5;28mrange\u001b[39m(\u001b[38;5;241m1\u001b[39m, N\u001b[38;5;241m+\u001b[39m\u001b[38;5;241m1\u001b[39m):\n\u001b[0;32m--> 226\u001b[0m     fselector, pred_gs_result, yhat \u001b[38;5;241m=\u001b[39m \u001b[43mCustomRFECV\u001b[49m\u001b[38;5;241;43m.\u001b[39;49m\u001b[43mcustom_rfe\u001b[49m\u001b[43m(\u001b[49m\u001b[43mXi_train\u001b[49m\u001b[43m,\u001b[49m\n\u001b[1;32m    227\u001b[0m \u001b[43m                                                             \u001b[49m\u001b[43myi_train\u001b[49m\u001b[43m,\u001b[49m\n\u001b[1;32m    228\u001b[0m \u001b[43m                                                             \u001b[49m\u001b[43mestimator_pipeline\u001b[49m\u001b[43m,\u001b[49m\n\u001b[1;32m    229\u001b[0m \u001b[43m                                                             \u001b[49m\u001b[43mn_feats\u001b[49m\u001b[43m,\u001b[49m\n\u001b[1;32m    230\u001b[0m \u001b[43m                                                             \u001b[49m\u001b[43minner_grid_search\u001b[49m\u001b[43m,\u001b[49m\n\u001b[1;32m    231\u001b[0m \u001b[43m                                                             \u001b[49m\u001b[43mX_test\u001b[49m\u001b[38;5;241;43m=\u001b[39;49m\u001b[43mXi_test\u001b[49m\u001b[43m)\u001b[49m\n\u001b[1;32m    233\u001b[0m     \u001b[38;5;66;03m# Evaluate the predictor on the folds test set\u001b[39;00m\n\u001b[1;32m    234\u001b[0m     predictor_score \u001b[38;5;241m=\u001b[39m score_func(yi_test, yhat)\n",
      "File \u001b[0;32m~/PycharmProjects/featmag/src/feature_selection.py:290\u001b[0m, in \u001b[0;36mCustomRFECV.custom_rfe\u001b[0;34m(X_train, y_train, estimator_pipeline, n_feats, predictor_hyperparam_grid_search, X_test)\u001b[0m\n\u001b[1;32m    286\u001b[0m     Xfeat_test \u001b[38;5;241m=\u001b[39m X_test[:, fselector\u001b[38;5;241m.\u001b[39msupport_]\n\u001b[1;32m    287\u001b[0m \u001b[38;5;66;03m# Do a cv grid search over the predictor models hyperparameters when using n features \u001b[39;00m\n\u001b[1;32m    288\u001b[0m \u001b[38;5;66;03m# from the folds training set. Train a model with the best hyperparameters and the \u001b[39;00m\n\u001b[1;32m    289\u001b[0m \u001b[38;5;66;03m# n features from the full folds training set as long as refit_model=True in GridSearchCV\u001b[39;00m\n\u001b[0;32m--> 290\u001b[0m pred_gs_result, yhat \u001b[38;5;241m=\u001b[39m \u001b[43mCrossValidation\u001b[49m\u001b[38;5;241;43m.\u001b[39;49m\u001b[43mdo_gridsearchcv\u001b[49m\u001b[43m(\u001b[49m\u001b[43mpredictor_hyperparam_grid_search\u001b[49m\u001b[43m,\u001b[49m\n\u001b[1;32m    291\u001b[0m \u001b[43m                                                        \u001b[49m\u001b[43mXfeat_train\u001b[49m\u001b[43m,\u001b[49m\n\u001b[1;32m    292\u001b[0m \u001b[43m                                                        \u001b[49m\u001b[43my_train\u001b[49m\u001b[43m,\u001b[49m\n\u001b[1;32m    293\u001b[0m \u001b[43m                                                        \u001b[49m\u001b[43mXfeat_test\u001b[49m\u001b[43m)\u001b[49m\n\u001b[1;32m    294\u001b[0m \u001b[38;5;28;01mreturn\u001b[39;00m fselector, pred_gs_result, yhat\n",
      "File \u001b[0;32m~/PycharmProjects/featmag/src/utils.py:107\u001b[0m, in \u001b[0;36mCrossValidation.do_gridsearchcv\u001b[0;34m(gs, Xtrain, ytrain, Xtest)\u001b[0m\n\u001b[1;32m    104\u001b[0m \u001b[38;5;129m@staticmethod\u001b[39m\n\u001b[1;32m    105\u001b[0m \u001b[38;5;28;01mdef\u001b[39;00m \u001b[38;5;21mdo_gridsearchcv\u001b[39m(gs, Xtrain, ytrain, Xtest\u001b[38;5;241m=\u001b[39m\u001b[38;5;28;01mNone\u001b[39;00m):\n\u001b[1;32m    106\u001b[0m \u001b[38;5;250m    \u001b[39m\u001b[38;5;124;03m\"\"\"Fit the gridsearch (gs) and make the test predictions\"\"\"\u001b[39;00m\n\u001b[0;32m--> 107\u001b[0m     gs_results \u001b[38;5;241m=\u001b[39m \u001b[43mgs\u001b[49m\u001b[38;5;241;43m.\u001b[39;49m\u001b[43mfit\u001b[49m\u001b[43m(\u001b[49m\u001b[43mXtrain\u001b[49m\u001b[43m,\u001b[49m\u001b[43m \u001b[49m\u001b[43mytrain\u001b[49m\u001b[43m)\u001b[49m\n\u001b[1;32m    108\u001b[0m     yhat \u001b[38;5;241m=\u001b[39m \u001b[38;5;28;01mNone\u001b[39;00m\n\u001b[1;32m    109\u001b[0m     \u001b[38;5;28;01mif\u001b[39;00m Xtest \u001b[38;5;129;01mis\u001b[39;00m \u001b[38;5;129;01mnot\u001b[39;00m \u001b[38;5;28;01mNone\u001b[39;00m:\n",
      "File \u001b[0;32m~/software/pkg/miniconda3/envs/featmags/lib/python3.11/site-packages/sklearn/model_selection/_search.py:874\u001b[0m, in \u001b[0;36mBaseSearchCV.fit\u001b[0;34m(self, X, y, groups, **fit_params)\u001b[0m\n\u001b[1;32m    868\u001b[0m     results \u001b[38;5;241m=\u001b[39m \u001b[38;5;28mself\u001b[39m\u001b[38;5;241m.\u001b[39m_format_results(\n\u001b[1;32m    869\u001b[0m         all_candidate_params, n_splits, all_out, all_more_results\n\u001b[1;32m    870\u001b[0m     )\n\u001b[1;32m    872\u001b[0m     \u001b[38;5;28;01mreturn\u001b[39;00m results\n\u001b[0;32m--> 874\u001b[0m \u001b[38;5;28;43mself\u001b[39;49m\u001b[38;5;241;43m.\u001b[39;49m\u001b[43m_run_search\u001b[49m\u001b[43m(\u001b[49m\u001b[43mevaluate_candidates\u001b[49m\u001b[43m)\u001b[49m\n\u001b[1;32m    876\u001b[0m \u001b[38;5;66;03m# multimetric is determined here because in the case of a callable\u001b[39;00m\n\u001b[1;32m    877\u001b[0m \u001b[38;5;66;03m# self.scoring the return type is only known after calling\u001b[39;00m\n\u001b[1;32m    878\u001b[0m first_test_score \u001b[38;5;241m=\u001b[39m all_out[\u001b[38;5;241m0\u001b[39m][\u001b[38;5;124m\"\u001b[39m\u001b[38;5;124mtest_scores\u001b[39m\u001b[38;5;124m\"\u001b[39m]\n",
      "File \u001b[0;32m~/software/pkg/miniconda3/envs/featmags/lib/python3.11/site-packages/sklearn/model_selection/_search.py:1388\u001b[0m, in \u001b[0;36mGridSearchCV._run_search\u001b[0;34m(self, evaluate_candidates)\u001b[0m\n\u001b[1;32m   1386\u001b[0m \u001b[38;5;28;01mdef\u001b[39;00m \u001b[38;5;21m_run_search\u001b[39m(\u001b[38;5;28mself\u001b[39m, evaluate_candidates):\n\u001b[1;32m   1387\u001b[0m \u001b[38;5;250m    \u001b[39m\u001b[38;5;124;03m\"\"\"Search all candidates in param_grid\"\"\"\u001b[39;00m\n\u001b[0;32m-> 1388\u001b[0m     \u001b[43mevaluate_candidates\u001b[49m\u001b[43m(\u001b[49m\u001b[43mParameterGrid\u001b[49m\u001b[43m(\u001b[49m\u001b[38;5;28;43mself\u001b[39;49m\u001b[38;5;241;43m.\u001b[39;49m\u001b[43mparam_grid\u001b[49m\u001b[43m)\u001b[49m\u001b[43m)\u001b[49m\n",
      "File \u001b[0;32m~/software/pkg/miniconda3/envs/featmags/lib/python3.11/site-packages/sklearn/model_selection/_search.py:821\u001b[0m, in \u001b[0;36mBaseSearchCV.fit.<locals>.evaluate_candidates\u001b[0;34m(candidate_params, cv, more_results)\u001b[0m\n\u001b[1;32m    813\u001b[0m \u001b[38;5;28;01mif\u001b[39;00m \u001b[38;5;28mself\u001b[39m\u001b[38;5;241m.\u001b[39mverbose \u001b[38;5;241m>\u001b[39m \u001b[38;5;241m0\u001b[39m:\n\u001b[1;32m    814\u001b[0m     \u001b[38;5;28mprint\u001b[39m(\n\u001b[1;32m    815\u001b[0m         \u001b[38;5;124m\"\u001b[39m\u001b[38;5;124mFitting \u001b[39m\u001b[38;5;132;01m{0}\u001b[39;00m\u001b[38;5;124m folds for each of \u001b[39m\u001b[38;5;132;01m{1}\u001b[39;00m\u001b[38;5;124m candidates,\u001b[39m\u001b[38;5;124m\"\u001b[39m\n\u001b[1;32m    816\u001b[0m         \u001b[38;5;124m\"\u001b[39m\u001b[38;5;124m totalling \u001b[39m\u001b[38;5;132;01m{2}\u001b[39;00m\u001b[38;5;124m fits\u001b[39m\u001b[38;5;124m\"\u001b[39m\u001b[38;5;241m.\u001b[39mformat(\n\u001b[1;32m    817\u001b[0m             n_splits, n_candidates, n_candidates \u001b[38;5;241m*\u001b[39m n_splits\n\u001b[1;32m    818\u001b[0m         )\n\u001b[1;32m    819\u001b[0m     )\n\u001b[0;32m--> 821\u001b[0m out \u001b[38;5;241m=\u001b[39m \u001b[43mparallel\u001b[49m\u001b[43m(\u001b[49m\n\u001b[1;32m    822\u001b[0m \u001b[43m    \u001b[49m\u001b[43mdelayed\u001b[49m\u001b[43m(\u001b[49m\u001b[43m_fit_and_score\u001b[49m\u001b[43m)\u001b[49m\u001b[43m(\u001b[49m\n\u001b[1;32m    823\u001b[0m \u001b[43m        \u001b[49m\u001b[43mclone\u001b[49m\u001b[43m(\u001b[49m\u001b[43mbase_estimator\u001b[49m\u001b[43m)\u001b[49m\u001b[43m,\u001b[49m\n\u001b[1;32m    824\u001b[0m \u001b[43m        \u001b[49m\u001b[43mX\u001b[49m\u001b[43m,\u001b[49m\n\u001b[1;32m    825\u001b[0m \u001b[43m        \u001b[49m\u001b[43my\u001b[49m\u001b[43m,\u001b[49m\n\u001b[1;32m    826\u001b[0m \u001b[43m        \u001b[49m\u001b[43mtrain\u001b[49m\u001b[38;5;241;43m=\u001b[39;49m\u001b[43mtrain\u001b[49m\u001b[43m,\u001b[49m\n\u001b[1;32m    827\u001b[0m \u001b[43m        \u001b[49m\u001b[43mtest\u001b[49m\u001b[38;5;241;43m=\u001b[39;49m\u001b[43mtest\u001b[49m\u001b[43m,\u001b[49m\n\u001b[1;32m    828\u001b[0m \u001b[43m        \u001b[49m\u001b[43mparameters\u001b[49m\u001b[38;5;241;43m=\u001b[39;49m\u001b[43mparameters\u001b[49m\u001b[43m,\u001b[49m\n\u001b[1;32m    829\u001b[0m \u001b[43m        \u001b[49m\u001b[43msplit_progress\u001b[49m\u001b[38;5;241;43m=\u001b[39;49m\u001b[43m(\u001b[49m\u001b[43msplit_idx\u001b[49m\u001b[43m,\u001b[49m\u001b[43m \u001b[49m\u001b[43mn_splits\u001b[49m\u001b[43m)\u001b[49m\u001b[43m,\u001b[49m\n\u001b[1;32m    830\u001b[0m \u001b[43m        \u001b[49m\u001b[43mcandidate_progress\u001b[49m\u001b[38;5;241;43m=\u001b[39;49m\u001b[43m(\u001b[49m\u001b[43mcand_idx\u001b[49m\u001b[43m,\u001b[49m\u001b[43m \u001b[49m\u001b[43mn_candidates\u001b[49m\u001b[43m)\u001b[49m\u001b[43m,\u001b[49m\n\u001b[1;32m    831\u001b[0m \u001b[43m        \u001b[49m\u001b[38;5;241;43m*\u001b[39;49m\u001b[38;5;241;43m*\u001b[39;49m\u001b[43mfit_and_score_kwargs\u001b[49m\u001b[43m,\u001b[49m\n\u001b[1;32m    832\u001b[0m \u001b[43m    \u001b[49m\u001b[43m)\u001b[49m\n\u001b[1;32m    833\u001b[0m \u001b[43m    \u001b[49m\u001b[38;5;28;43;01mfor\u001b[39;49;00m\u001b[43m \u001b[49m\u001b[43m(\u001b[49m\u001b[43mcand_idx\u001b[49m\u001b[43m,\u001b[49m\u001b[43m \u001b[49m\u001b[43mparameters\u001b[49m\u001b[43m)\u001b[49m\u001b[43m,\u001b[49m\u001b[43m \u001b[49m\u001b[43m(\u001b[49m\u001b[43msplit_idx\u001b[49m\u001b[43m,\u001b[49m\u001b[43m \u001b[49m\u001b[43m(\u001b[49m\u001b[43mtrain\u001b[49m\u001b[43m,\u001b[49m\u001b[43m \u001b[49m\u001b[43mtest\u001b[49m\u001b[43m)\u001b[49m\u001b[43m)\u001b[49m\u001b[43m \u001b[49m\u001b[38;5;129;43;01min\u001b[39;49;00m\u001b[43m \u001b[49m\u001b[43mproduct\u001b[49m\u001b[43m(\u001b[49m\n\u001b[1;32m    834\u001b[0m \u001b[43m        \u001b[49m\u001b[38;5;28;43menumerate\u001b[39;49m\u001b[43m(\u001b[49m\u001b[43mcandidate_params\u001b[49m\u001b[43m)\u001b[49m\u001b[43m,\u001b[49m\u001b[43m \u001b[49m\u001b[38;5;28;43menumerate\u001b[39;49m\u001b[43m(\u001b[49m\u001b[43mcv\u001b[49m\u001b[38;5;241;43m.\u001b[39;49m\u001b[43msplit\u001b[49m\u001b[43m(\u001b[49m\u001b[43mX\u001b[49m\u001b[43m,\u001b[49m\u001b[43m \u001b[49m\u001b[43my\u001b[49m\u001b[43m,\u001b[49m\u001b[43m \u001b[49m\u001b[43mgroups\u001b[49m\u001b[43m)\u001b[49m\u001b[43m)\u001b[49m\n\u001b[1;32m    835\u001b[0m \u001b[43m    \u001b[49m\u001b[43m)\u001b[49m\n\u001b[1;32m    836\u001b[0m \u001b[43m\u001b[49m\u001b[43m)\u001b[49m\n\u001b[1;32m    838\u001b[0m \u001b[38;5;28;01mif\u001b[39;00m \u001b[38;5;28mlen\u001b[39m(out) \u001b[38;5;241m<\u001b[39m \u001b[38;5;241m1\u001b[39m:\n\u001b[1;32m    839\u001b[0m     \u001b[38;5;28;01mraise\u001b[39;00m \u001b[38;5;167;01mValueError\u001b[39;00m(\n\u001b[1;32m    840\u001b[0m         \u001b[38;5;124m\"\u001b[39m\u001b[38;5;124mNo fits were performed. \u001b[39m\u001b[38;5;124m\"\u001b[39m\n\u001b[1;32m    841\u001b[0m         \u001b[38;5;124m\"\u001b[39m\u001b[38;5;124mWas the CV iterator empty? \u001b[39m\u001b[38;5;124m\"\u001b[39m\n\u001b[1;32m    842\u001b[0m         \u001b[38;5;124m\"\u001b[39m\u001b[38;5;124mWere there no candidates?\u001b[39m\u001b[38;5;124m\"\u001b[39m\n\u001b[1;32m    843\u001b[0m     )\n",
      "File \u001b[0;32m~/software/pkg/miniconda3/envs/featmags/lib/python3.11/site-packages/sklearn/utils/parallel.py:63\u001b[0m, in \u001b[0;36mParallel.__call__\u001b[0;34m(self, iterable)\u001b[0m\n\u001b[1;32m     58\u001b[0m config \u001b[38;5;241m=\u001b[39m get_config()\n\u001b[1;32m     59\u001b[0m iterable_with_config \u001b[38;5;241m=\u001b[39m (\n\u001b[1;32m     60\u001b[0m     (_with_config(delayed_func, config), args, kwargs)\n\u001b[1;32m     61\u001b[0m     \u001b[38;5;28;01mfor\u001b[39;00m delayed_func, args, kwargs \u001b[38;5;129;01min\u001b[39;00m iterable\n\u001b[1;32m     62\u001b[0m )\n\u001b[0;32m---> 63\u001b[0m \u001b[38;5;28;01mreturn\u001b[39;00m \u001b[38;5;28;43msuper\u001b[39;49m\u001b[43m(\u001b[49m\u001b[43m)\u001b[49m\u001b[38;5;241;43m.\u001b[39;49m\u001b[38;5;21;43m__call__\u001b[39;49m\u001b[43m(\u001b[49m\u001b[43miterable_with_config\u001b[49m\u001b[43m)\u001b[49m\n",
      "File \u001b[0;32m~/software/pkg/miniconda3/envs/featmags/lib/python3.11/site-packages/joblib/parallel.py:1952\u001b[0m, in \u001b[0;36mParallel.__call__\u001b[0;34m(self, iterable)\u001b[0m\n\u001b[1;32m   1946\u001b[0m \u001b[38;5;66;03m# The first item from the output is blank, but it makes the interpreter\u001b[39;00m\n\u001b[1;32m   1947\u001b[0m \u001b[38;5;66;03m# progress until it enters the Try/Except block of the generator and\u001b[39;00m\n\u001b[1;32m   1948\u001b[0m \u001b[38;5;66;03m# reach the first `yield` statement. This starts the aynchronous\u001b[39;00m\n\u001b[1;32m   1949\u001b[0m \u001b[38;5;66;03m# dispatch of the tasks to the workers.\u001b[39;00m\n\u001b[1;32m   1950\u001b[0m \u001b[38;5;28mnext\u001b[39m(output)\n\u001b[0;32m-> 1952\u001b[0m \u001b[38;5;28;01mreturn\u001b[39;00m output \u001b[38;5;28;01mif\u001b[39;00m \u001b[38;5;28mself\u001b[39m\u001b[38;5;241m.\u001b[39mreturn_generator \u001b[38;5;28;01melse\u001b[39;00m \u001b[38;5;28mlist\u001b[39m(output)\n",
      "File \u001b[0;32m~/software/pkg/miniconda3/envs/featmags/lib/python3.11/site-packages/joblib/parallel.py:1595\u001b[0m, in \u001b[0;36mParallel._get_outputs\u001b[0;34m(self, iterator, pre_dispatch)\u001b[0m\n\u001b[1;32m   1592\u001b[0m     \u001b[38;5;28;01myield\u001b[39;00m\n\u001b[1;32m   1594\u001b[0m     \u001b[38;5;28;01mwith\u001b[39;00m \u001b[38;5;28mself\u001b[39m\u001b[38;5;241m.\u001b[39m_backend\u001b[38;5;241m.\u001b[39mretrieval_context():\n\u001b[0;32m-> 1595\u001b[0m         \u001b[38;5;28;01myield from\u001b[39;00m \u001b[38;5;28mself\u001b[39m\u001b[38;5;241m.\u001b[39m_retrieve()\n\u001b[1;32m   1597\u001b[0m \u001b[38;5;28;01mexcept\u001b[39;00m \u001b[38;5;167;01mGeneratorExit\u001b[39;00m:\n\u001b[1;32m   1598\u001b[0m     \u001b[38;5;66;03m# The generator has been garbage collected before being fully\u001b[39;00m\n\u001b[1;32m   1599\u001b[0m     \u001b[38;5;66;03m# consumed. This aborts the remaining tasks if possible and warn\u001b[39;00m\n\u001b[1;32m   1600\u001b[0m     \u001b[38;5;66;03m# the user if necessary.\u001b[39;00m\n\u001b[1;32m   1601\u001b[0m     \u001b[38;5;28mself\u001b[39m\u001b[38;5;241m.\u001b[39m_exception \u001b[38;5;241m=\u001b[39m \u001b[38;5;28;01mTrue\u001b[39;00m\n",
      "File \u001b[0;32m~/software/pkg/miniconda3/envs/featmags/lib/python3.11/site-packages/joblib/parallel.py:1707\u001b[0m, in \u001b[0;36mParallel._retrieve\u001b[0;34m(self)\u001b[0m\n\u001b[1;32m   1702\u001b[0m \u001b[38;5;66;03m# If the next job is not ready for retrieval yet, we just wait for\u001b[39;00m\n\u001b[1;32m   1703\u001b[0m \u001b[38;5;66;03m# async callbacks to progress.\u001b[39;00m\n\u001b[1;32m   1704\u001b[0m \u001b[38;5;28;01mif\u001b[39;00m ((\u001b[38;5;28mlen\u001b[39m(\u001b[38;5;28mself\u001b[39m\u001b[38;5;241m.\u001b[39m_jobs) \u001b[38;5;241m==\u001b[39m \u001b[38;5;241m0\u001b[39m) \u001b[38;5;129;01mor\u001b[39;00m\n\u001b[1;32m   1705\u001b[0m     (\u001b[38;5;28mself\u001b[39m\u001b[38;5;241m.\u001b[39m_jobs[\u001b[38;5;241m0\u001b[39m]\u001b[38;5;241m.\u001b[39mget_status(\n\u001b[1;32m   1706\u001b[0m         timeout\u001b[38;5;241m=\u001b[39m\u001b[38;5;28mself\u001b[39m\u001b[38;5;241m.\u001b[39mtimeout) \u001b[38;5;241m==\u001b[39m TASK_PENDING)):\n\u001b[0;32m-> 1707\u001b[0m     time\u001b[38;5;241m.\u001b[39msleep(\u001b[38;5;241m0.01\u001b[39m)\n\u001b[1;32m   1708\u001b[0m     \u001b[38;5;28;01mcontinue\u001b[39;00m\n\u001b[1;32m   1710\u001b[0m \u001b[38;5;66;03m# We need to be careful: the job list can be filling up as\u001b[39;00m\n\u001b[1;32m   1711\u001b[0m \u001b[38;5;66;03m# we empty it and Python list are not thread-safe by\u001b[39;00m\n\u001b[1;32m   1712\u001b[0m \u001b[38;5;66;03m# default hence the use of the lock\u001b[39;00m\n",
      "\u001b[0;31mKeyboardInterrupt\u001b[0m: "
     ]
    }
   ],
   "source": [
    "predictor_rfe_results_rel = {}\n",
    "for key in predictor_models.keys():\n",
    "  predictor_model = predictor_models[key]\n",
    "  param_grid = param_grids[key]\n",
    "  mname = type(predictor_model).__name__\n",
    "  print(\"Predictor:\", mname, 'Model Scaler:', model_scaler)\n",
    "  print(\"Estimator:\", type(estimator_model).__name__, 'Estimator Scaler:', estimator_scaler)\n",
    "  print(param_grid)\n",
    "  feat_selection_results = CustomRFECV.do_rfecv(X_rel,\n",
    "                                                y_rel,\n",
    "                                              estimator_model,\n",
    "                                              predictor_model,\n",
    "                                              param_grid,\n",
    "                                              estimator_scaler=estimator_scaler,\n",
    "                                              predictor_scaler=model_scaler,\n",
    "                                              score_func=score_func,\n",
    "                                              scoring_method=scoring_method,\n",
    "                                              n_jobs=n_jobs,\n",
    "                                              cv_folds_outer=cv_folds_outer,\n",
    "                                              cv_folds_inner=cv_folds_inner,\n",
    "                                              n_outer_repeats=n_outer_repeats,\n",
    "                                              cv_random_state=cv_random_state,\n",
    "                                              larger_score_is_better=larger_score_is_better,\n",
    "                                              intrinsic_filter_func=ifs.MI_filter_func,\n",
    "                                              feature_inds_to_filter=if_feat_inds,\n",
    "                                              intrinsic_filter_K=if_K\n",
    "                                              )\n",
    "  predictor_rfe_results_rel[mname] = feat_selection_results"
   ]
  },
  {
   "cell_type": "code",
   "execution_count": null,
   "metadata": {},
   "outputs": [],
   "source": [
    "outfile = 'rfecv.DTest.relDist.predictors.json'\n",
    "with open(os.path.join(outpath, outfile), 'w') as fp:\n",
    "    json.dump(predictor_rfe_results_rel, fp, indent=4, cls=NumpyEncoder)"
   ]
  }
 ],
 "metadata": {
  "kernelspec": {
   "display_name": "featmags",
   "language": "python",
   "name": "python3"
  },
  "language_info": {
   "codemirror_mode": {
    "name": "ipython",
    "version": 3
   },
   "file_extension": ".py",
   "mimetype": "text/x-python",
   "name": "python",
   "nbconvert_exporter": "python",
   "pygments_lexer": "ipython3",
   "version": "3.11.6"
  }
 },
 "nbformat": 4,
 "nbformat_minor": 2
}
