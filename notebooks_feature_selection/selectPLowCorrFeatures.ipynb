{
 "cells": [
  {
   "cell_type": "code",
   "execution_count": 1,
   "metadata": {},
   "outputs": [],
   "source": [
    "import numpy as np\n",
    "import pandas as pd\n",
    "from sklearn.base import clone \n",
    "from sklearn.svm import SVR\n",
    "from sklearn.tree import DecisionTreeRegressor\n",
    "from sklearn.metrics import r2_score\n",
    "import json\n",
    "import sys\n",
    "import os\n",
    "# make paths above 'notebooks/' visible for local imports.\n",
    "# +----------------------------------------------------------------------------+\n",
    "module_path = os.path.abspath(os.path.join('..'))\n",
    "if module_path not in sys.path:\n",
    "    sys.path.append(module_path)\n",
    "\n",
    "from src.processing import GatherFeatureDatasets\n",
    "from src.feature_selection import UnsupervisedFeatureSelection as unsup_fs\n",
    "from src.feature_selection import CustomRFECV\n",
    "from src import plotting\n"
   ]
  },
  {
   "cell_type": "markdown",
   "metadata": {},
   "source": [
    "# Load data"
   ]
  },
  {
   "cell_type": "code",
   "execution_count": 2,
   "metadata": {},
   "outputs": [],
   "source": [
    "proc = GatherFeatureDatasets(is_p=True)"
   ]
  },
  {
   "cell_type": "code",
   "execution_count": 3,
   "metadata": {},
   "outputs": [],
   "source": [
    "datadir = '/uufs/chpc.utah.edu/common/home/koper-group3/alysha/magnitudes'\n",
    "train = pd.read_csv(os.path.join(datadir, 'feature_splits', 'p.train.csv'))"
   ]
  },
  {
   "cell_type": "code",
   "execution_count": 4,
   "metadata": {},
   "outputs": [
    {
     "name": "stdout",
     "output_type": "stream",
     "text": [
      "YHB\n",
      "X shape: (3580, 45), y shape: (3580,)\n",
      "YDC\n",
      "X shape: (2928, 45), y shape: (2928,)\n",
      "YWB\n",
      "X shape: (3780, 45), y shape: (3780,)\n",
      "MCID\n",
      "X shape: (3389, 45), y shape: (3389,)\n",
      "YHL\n",
      "X shape: (3213, 45), y shape: (3213,)\n",
      "YMR\n",
      "X shape: (4154, 45), y shape: (4154,)\n",
      "YHH\n",
      "X shape: (4813, 45), y shape: (4813,)\n",
      "B207\n",
      "X shape: (1718, 45), y shape: (1718,)\n",
      "YPP\n",
      "X shape: (1558, 45), y shape: (1558,)\n",
      "YPM\n",
      "X shape: (4078, 45), y shape: (4078,)\n",
      "YLT\n",
      "X shape: (1345, 45), y shape: (1345,)\n",
      "H17A\n",
      "X shape: (524, 45), y shape: (524,)\n",
      "B208\n",
      "X shape: (507, 45), y shape: (507,)\n",
      "LKWY\n",
      "X shape: (1062, 45), y shape: (1062,)\n",
      "FLWY\n",
      "X shape: (791, 45), y shape: (791,)\n",
      "YGC\n",
      "X shape: (2233, 45), y shape: (2233,)\n",
      "YMC\n",
      "X shape: (4322, 45), y shape: (4322,)\n",
      "YML\n",
      "X shape: (3077, 45), y shape: (3077,)\n",
      "YUF\n",
      "X shape: (1676, 45), y shape: (1676,)\n",
      "B206\n",
      "X shape: (664, 45), y shape: (664,)\n",
      "B944\n",
      "X shape: (348, 45), y shape: (348,)\n",
      "YLA\n",
      "X shape: (719, 45), y shape: (719,)\n",
      "YTP\n",
      "X shape: (926, 45), y shape: (926,)\n",
      "YNR\n",
      "X shape: (4649, 45), y shape: (4649,)\n",
      "YNM\n",
      "X shape: (1136, 45), y shape: (1136,)\n",
      "YFT\n",
      "X shape: (3529, 45), y shape: (3529,)\n",
      "YMV\n",
      "X shape: (879, 45), y shape: (879,)\n",
      "YPC\n",
      "X shape: (370, 45), y shape: (370,)\n",
      "YSB\n",
      "X shape: (324, 45), y shape: (324,)\n",
      "YJC\n",
      "X shape: (419, 45), y shape: (419,)\n",
      "YMS\n",
      "X shape: (430, 45), y shape: (430,)\n",
      "YNE\n",
      "X shape: (345, 45), y shape: (345,)\n",
      "YPK\n",
      "X shape: (371, 45), y shape: (371,)\n",
      "B950\n",
      "X shape: (581, 45), y shape: (581,)\n",
      "YDD\n",
      "X shape: (593, 45), y shape: (593,)\n"
     ]
    }
   ],
   "source": [
    "station_feature_dict, station_meta_dict, feature_names = proc.process_all_stations_datasets(train, \n",
    "                                                                  scaler=False,\n",
    "                                                                  linear_model=False,\n",
    "                                                                  source_dist_type='dist')"
   ]
  },
  {
   "cell_type": "code",
   "execution_count": 5,
   "metadata": {},
   "outputs": [
    {
     "data": {
      "text/plain": [
       "array(['amp_ratio_1', 'amp_ratio_2', 'amp_ratio_3', 'amp_ratio_4',\n",
       "       'amp_ratio_5', 'amp_ratio_6', 'amp_ratio_7', 'amp_ratio_8',\n",
       "       'amp_ratio_9', 'amp_ratio_10', 'amp_ratio_11', 'amp_ratio_12',\n",
       "       'amp_ratio_13', 'amp_ratio_14', 'amp_ratio_15', 'amp_ratio_16',\n",
       "       'amp_ratio_17', 'amp_ratio_18', 'amp_1', 'amp_2', 'amp_3', 'amp_4',\n",
       "       'amp_5', 'amp_6', 'amp_7', 'amp_8', 'amp_9', 'amp_10', 'amp_11',\n",
       "       'amp_12', 'amp_13', 'amp_14', 'amp_15', 'amp_16', 'amp_17',\n",
       "       'amp_18', 'signal_dominant_frequency', 'signal_dominant_amplitude',\n",
       "       'noise_max_amplitude', 'signal_max_amplitude', 'signal_variance',\n",
       "       'noise_variance', 'source_depth_km',\n",
       "       'source_receiver_distance_logkm',\n",
       "       'source_receiver_back_azimuth_deg'], dtype='<U32')"
      ]
     },
     "execution_count": 5,
     "metadata": {},
     "output_type": "execute_result"
    }
   ],
   "source": [
    "feature_names"
   ]
  },
  {
   "cell_type": "code",
   "execution_count": 6,
   "metadata": {},
   "outputs": [
    {
     "data": {
      "text/plain": [
       "array(['ratio 1', 'ratio 2', 'ratio 3', 'ratio 4', 'ratio 5', 'ratio 6',\n",
       "       'ratio 7', 'ratio 8', 'ratio 9', 'ratio 10', 'ratio 11',\n",
       "       'ratio 12', 'ratio 13', 'ratio 14', 'ratio 15', 'ratio 16',\n",
       "       'ratio 17', 'ratio 18', 'amp. 1', 'amp. 2', 'amp. 3', 'amp. 4',\n",
       "       'amp. 5', 'amp. 6', 'amp. 7', 'amp. 8', 'amp. 9', 'amp. 10',\n",
       "       'amp. 11', 'amp. 12', 'amp. 13', 'amp. 14', 'amp. 15', 'amp. 16',\n",
       "       'amp. 17', 'amp. 18', 'sig. dom. freq.', 'sig. dom. amp.',\n",
       "       'noise max. amp.', 'sig. max. amp.', 'sig. var.', 'noise var.',\n",
       "       'depth', 'distance', 'back az.'], dtype='<U15')"
      ]
     },
     "execution_count": 6,
     "metadata": {},
     "output_type": "execute_result"
    }
   ],
   "source": [
    "feature_plot_names = proc.get_feature_plot_names(18, 'dist')\n",
    "feature_plot_names"
   ]
  },
  {
   "cell_type": "markdown",
   "metadata": {},
   "source": [
    "# Get features with low-ish pairwise correlation values"
   ]
  },
  {
   "cell_type": "code",
   "execution_count": 7,
   "metadata": {},
   "outputs": [],
   "source": [
    "corr_thresh = 0.85"
   ]
  },
  {
   "cell_type": "code",
   "execution_count": 8,
   "metadata": {},
   "outputs": [],
   "source": [
    "selected_feats_dict = {}\n",
    "for stat in station_feature_dict.keys():\n",
    "    kept_features = unsup_fs.remove_highly_correlated_features(station_feature_dict[stat]['X_train'], thresh=corr_thresh)\n",
    "    selected_feats_dict[stat] = kept_features"
   ]
  },
  {
   "cell_type": "markdown",
   "metadata": {},
   "source": [
    "# Look at low corr features across all stations"
   ]
  },
  {
   "cell_type": "code",
   "execution_count": 9,
   "metadata": {},
   "outputs": [
    {
     "data": {
      "text/html": [
       "<div>\n",
       "<style scoped>\n",
       "    .dataframe tbody tr th:only-of-type {\n",
       "        vertical-align: middle;\n",
       "    }\n",
       "\n",
       "    .dataframe tbody tr th {\n",
       "        vertical-align: top;\n",
       "    }\n",
       "\n",
       "    .dataframe thead th {\n",
       "        text-align: right;\n",
       "    }\n",
       "</style>\n",
       "<table border=\"1\" class=\"dataframe\">\n",
       "  <thead>\n",
       "    <tr style=\"text-align: right;\">\n",
       "      <th></th>\n",
       "      <th>YHB</th>\n",
       "      <th>YDC</th>\n",
       "      <th>YWB</th>\n",
       "      <th>MCID</th>\n",
       "      <th>YHL</th>\n",
       "      <th>YMR</th>\n",
       "      <th>YHH</th>\n",
       "      <th>B207</th>\n",
       "      <th>YPP</th>\n",
       "      <th>YPM</th>\n",
       "      <th>...</th>\n",
       "      <th>YFT</th>\n",
       "      <th>YMV</th>\n",
       "      <th>YPC</th>\n",
       "      <th>YSB</th>\n",
       "      <th>YJC</th>\n",
       "      <th>YMS</th>\n",
       "      <th>YNE</th>\n",
       "      <th>YPK</th>\n",
       "      <th>B950</th>\n",
       "      <th>YDD</th>\n",
       "    </tr>\n",
       "  </thead>\n",
       "  <tbody>\n",
       "    <tr>\n",
       "      <th>ratio 1</th>\n",
       "      <td>True</td>\n",
       "      <td>True</td>\n",
       "      <td>True</td>\n",
       "      <td>True</td>\n",
       "      <td>True</td>\n",
       "      <td>True</td>\n",
       "      <td>True</td>\n",
       "      <td>True</td>\n",
       "      <td>True</td>\n",
       "      <td>True</td>\n",
       "      <td>...</td>\n",
       "      <td>True</td>\n",
       "      <td>True</td>\n",
       "      <td>True</td>\n",
       "      <td>True</td>\n",
       "      <td>True</td>\n",
       "      <td>True</td>\n",
       "      <td>False</td>\n",
       "      <td>True</td>\n",
       "      <td>True</td>\n",
       "      <td>True</td>\n",
       "    </tr>\n",
       "    <tr>\n",
       "      <th>ratio 2</th>\n",
       "      <td>True</td>\n",
       "      <td>True</td>\n",
       "      <td>True</td>\n",
       "      <td>True</td>\n",
       "      <td>False</td>\n",
       "      <td>True</td>\n",
       "      <td>True</td>\n",
       "      <td>True</td>\n",
       "      <td>True</td>\n",
       "      <td>True</td>\n",
       "      <td>...</td>\n",
       "      <td>True</td>\n",
       "      <td>True</td>\n",
       "      <td>True</td>\n",
       "      <td>True</td>\n",
       "      <td>True</td>\n",
       "      <td>True</td>\n",
       "      <td>True</td>\n",
       "      <td>True</td>\n",
       "      <td>True</td>\n",
       "      <td>True</td>\n",
       "    </tr>\n",
       "    <tr>\n",
       "      <th>ratio 3</th>\n",
       "      <td>False</td>\n",
       "      <td>True</td>\n",
       "      <td>True</td>\n",
       "      <td>True</td>\n",
       "      <td>True</td>\n",
       "      <td>False</td>\n",
       "      <td>False</td>\n",
       "      <td>True</td>\n",
       "      <td>False</td>\n",
       "      <td>True</td>\n",
       "      <td>...</td>\n",
       "      <td>True</td>\n",
       "      <td>True</td>\n",
       "      <td>True</td>\n",
       "      <td>True</td>\n",
       "      <td>True</td>\n",
       "      <td>True</td>\n",
       "      <td>False</td>\n",
       "      <td>True</td>\n",
       "      <td>True</td>\n",
       "      <td>False</td>\n",
       "    </tr>\n",
       "    <tr>\n",
       "      <th>ratio 4</th>\n",
       "      <td>False</td>\n",
       "      <td>False</td>\n",
       "      <td>True</td>\n",
       "      <td>False</td>\n",
       "      <td>False</td>\n",
       "      <td>True</td>\n",
       "      <td>False</td>\n",
       "      <td>False</td>\n",
       "      <td>False</td>\n",
       "      <td>False</td>\n",
       "      <td>...</td>\n",
       "      <td>False</td>\n",
       "      <td>False</td>\n",
       "      <td>True</td>\n",
       "      <td>False</td>\n",
       "      <td>False</td>\n",
       "      <td>False</td>\n",
       "      <td>False</td>\n",
       "      <td>False</td>\n",
       "      <td>False</td>\n",
       "      <td>False</td>\n",
       "    </tr>\n",
       "    <tr>\n",
       "      <th>ratio 5</th>\n",
       "      <td>False</td>\n",
       "      <td>False</td>\n",
       "      <td>False</td>\n",
       "      <td>False</td>\n",
       "      <td>False</td>\n",
       "      <td>False</td>\n",
       "      <td>False</td>\n",
       "      <td>False</td>\n",
       "      <td>False</td>\n",
       "      <td>False</td>\n",
       "      <td>...</td>\n",
       "      <td>False</td>\n",
       "      <td>True</td>\n",
       "      <td>False</td>\n",
       "      <td>False</td>\n",
       "      <td>False</td>\n",
       "      <td>False</td>\n",
       "      <td>False</td>\n",
       "      <td>False</td>\n",
       "      <td>False</td>\n",
       "      <td>False</td>\n",
       "    </tr>\n",
       "  </tbody>\n",
       "</table>\n",
       "<p>5 rows × 35 columns</p>\n",
       "</div>"
      ],
      "text/plain": [
       "           YHB    YDC    YWB   MCID    YHL    YMR    YHH   B207    YPP    YPM  \\\n",
       "ratio 1   True   True   True   True   True   True   True   True   True   True   \n",
       "ratio 2   True   True   True   True  False   True   True   True   True   True   \n",
       "ratio 3  False   True   True   True   True  False  False   True  False   True   \n",
       "ratio 4  False  False   True  False  False   True  False  False  False  False   \n",
       "ratio 5  False  False  False  False  False  False  False  False  False  False   \n",
       "\n",
       "         ...    YFT    YMV    YPC    YSB    YJC    YMS    YNE    YPK   B950  \\\n",
       "ratio 1  ...   True   True   True   True   True   True  False   True   True   \n",
       "ratio 2  ...   True   True   True   True   True   True   True   True   True   \n",
       "ratio 3  ...   True   True   True   True   True   True  False   True   True   \n",
       "ratio 4  ...  False  False   True  False  False  False  False  False  False   \n",
       "ratio 5  ...  False   True  False  False  False  False  False  False  False   \n",
       "\n",
       "           YDD  \n",
       "ratio 1   True  \n",
       "ratio 2   True  \n",
       "ratio 3  False  \n",
       "ratio 4  False  \n",
       "ratio 5  False  \n",
       "\n",
       "[5 rows x 35 columns]"
      ]
     },
     "execution_count": 9,
     "metadata": {},
     "output_type": "execute_result"
    }
   ],
   "source": [
    "cnt_df = pd.DataFrame(selected_feats_dict)\n",
    "cnt_df.index = feature_plot_names\n",
    "cnt_df.head()"
   ]
  },
  {
   "cell_type": "code",
   "execution_count": 12,
   "metadata": {},
   "outputs": [],
   "source": [
    "cnt_df.to_csv(os.path.join(datadir, 'feature_selection/lowcorr', 'feature.counts.P.csv'))"
   ]
  },
  {
   "cell_type": "code",
   "execution_count": 13,
   "metadata": {},
   "outputs": [
    {
     "data": {
      "text/plain": [
       "<matplotlib.image.AxesImage at 0x14eb640ca310>"
      ]
     },
     "execution_count": 13,
     "metadata": {},
     "output_type": "execute_result"
    },
    {
     "data": {
      "image/png": "[encoded data removed]",
      "text/plain": [
       "<Figure size 700x700 with 1 Axes>"
      ]
     },
     "metadata": {},
     "output_type": "display_data"
    }
   ],
   "source": [
    "plotting.plot_rfecv_feature_heatmap(cnt_df, \n",
    "                                    plot_colorbar=False,\n",
    "                                    fontsize=8,\n",
    "                                    figsize=(7, 7),\n",
    "                                    title='$\\it{N}$ Selected Features')"
   ]
  },
  {
   "cell_type": "code",
   "execution_count": 14,
   "metadata": {},
   "outputs": [],
   "source": [
    "total_cnt_df = CustomRFECV.get_feature_cnts_across_stats(cnt_df)"
   ]
  },
  {
   "cell_type": "code",
   "execution_count": 15,
   "metadata": {},
   "outputs": [
    {
     "data": {
      "text/html": [
       "<div>\n",
       "<style scoped>\n",
       "    .dataframe tbody tr th:only-of-type {\n",
       "        vertical-align: middle;\n",
       "    }\n",
       "\n",
       "    .dataframe tbody tr th {\n",
       "        vertical-align: top;\n",
       "    }\n",
       "\n",
       "    .dataframe thead th {\n",
       "        text-align: right;\n",
       "    }\n",
       "</style>\n",
       "<table border=\"1\" class=\"dataframe\">\n",
       "  <thead>\n",
       "    <tr style=\"text-align: right;\">\n",
       "      <th></th>\n",
       "      <th>index</th>\n",
       "      <th>cnt</th>\n",
       "    </tr>\n",
       "  </thead>\n",
       "  <tbody>\n",
       "    <tr>\n",
       "      <th>36</th>\n",
       "      <td>sig. dom. freq.</td>\n",
       "      <td>35</td>\n",
       "    </tr>\n",
       "    <tr>\n",
       "      <th>43</th>\n",
       "      <td>distance</td>\n",
       "      <td>35</td>\n",
       "    </tr>\n",
       "    <tr>\n",
       "      <th>42</th>\n",
       "      <td>depth</td>\n",
       "      <td>35</td>\n",
       "    </tr>\n",
       "    <tr>\n",
       "      <th>44</th>\n",
       "      <td>back az.</td>\n",
       "      <td>35</td>\n",
       "    </tr>\n",
       "    <tr>\n",
       "      <th>1</th>\n",
       "      <td>ratio 2</td>\n",
       "      <td>34</td>\n",
       "    </tr>\n",
       "    <tr>\n",
       "      <th>0</th>\n",
       "      <td>ratio 1</td>\n",
       "      <td>34</td>\n",
       "    </tr>\n",
       "    <tr>\n",
       "      <th>18</th>\n",
       "      <td>amp. 1</td>\n",
       "      <td>34</td>\n",
       "    </tr>\n",
       "    <tr>\n",
       "      <th>2</th>\n",
       "      <td>ratio 3</td>\n",
       "      <td>24</td>\n",
       "    </tr>\n",
       "    <tr>\n",
       "      <th>17</th>\n",
       "      <td>ratio 18</td>\n",
       "      <td>22</td>\n",
       "    </tr>\n",
       "    <tr>\n",
       "      <th>35</th>\n",
       "      <td>amp. 18</td>\n",
       "      <td>19</td>\n",
       "    </tr>\n",
       "    <tr>\n",
       "      <th>38</th>\n",
       "      <td>noise max. amp.</td>\n",
       "      <td>18</td>\n",
       "    </tr>\n",
       "  </tbody>\n",
       "</table>\n",
       "</div>"
      ],
      "text/plain": [
       "              index  cnt\n",
       "36  sig. dom. freq.   35\n",
       "43         distance   35\n",
       "42            depth   35\n",
       "44         back az.   35\n",
       "1           ratio 2   34\n",
       "0           ratio 1   34\n",
       "18           amp. 1   34\n",
       "2           ratio 3   24\n",
       "17         ratio 18   22\n",
       "35          amp. 18   19\n",
       "38  noise max. amp.   18"
      ]
     },
     "execution_count": 15,
     "metadata": {},
     "output_type": "execute_result"
    }
   ],
   "source": [
    "total_cnt_df[total_cnt_df.cnt > total_cnt_df['cnt'].quantile(0.75)].sort_values(['cnt', 'index'], ascending=False)"
   ]
  },
  {
   "cell_type": "code",
   "execution_count": 16,
   "metadata": {},
   "outputs": [
    {
     "data": {
      "text/plain": [
       "array(['amp. 1', 'amp. 18', 'back az.', 'depth', 'distance',\n",
       "       'noise max. amp.', 'ratio 1', 'ratio 18', 'ratio 2', 'ratio 3',\n",
       "       'sig. dom. freq.'], dtype=object)"
      ]
     },
     "execution_count": 16,
     "metadata": {},
     "output_type": "execute_result"
    }
   ],
   "source": [
    "np.sort(total_cnt_df[total_cnt_df.cnt > total_cnt_df['cnt'].quantile(0.75)]['index'].values)"
   ]
  },
  {
   "cell_type": "code",
   "execution_count": 17,
   "metadata": {},
   "outputs": [
    {
     "data": {
      "text/plain": [
       "17"
      ]
     },
     "execution_count": 17,
     "metadata": {},
     "output_type": "execute_result"
    }
   ],
   "source": [
    "35//2"
   ]
  },
  {
   "cell_type": "code",
   "execution_count": null,
   "metadata": {},
   "outputs": [],
   "source": []
  },
  {
   "cell_type": "code",
   "execution_count": null,
   "metadata": {},
   "outputs": [],
   "source": []
  }
 ],
 "metadata": {
  "kernelspec": {
   "display_name": "featmags",
   "language": "python",
   "name": "python3"
  },
  "language_info": {
   "codemirror_mode": {
    "name": "ipython",
    "version": 3
   },
   "file_extension": ".py",
   "mimetype": "text/x-python",
   "name": "python",
   "nbconvert_exporter": "python",
   "pygments_lexer": "ipython3",
   "version": "3.11.6"
  }
 },
 "nbformat": 4,
 "nbformat_minor": 2
}
